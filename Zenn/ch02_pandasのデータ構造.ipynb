{
 "cells": [
  {
   "cell_type": "markdown",
   "metadata": {},
   "source": [
    "## 第2章 pandasのデータ構造\n",
    "### 2.1 データを自作する\n",
    "#### 2.1.1 Seriesを作る"
   ]
  },
  {
   "cell_type": "code",
   "execution_count": null,
   "metadata": {},
   "outputs": [],
   "source": [
    "import pandas as pd\n",
    "s = pd.Series([\"banana\", 42])\n",
    "display(\"Seriesを作る\", s)"
   ]
  },
  {
   "cell_type": "code",
   "execution_count": null,
   "metadata": {},
   "outputs": [],
   "source": [
    "import polars as pl\n",
    "s = pl.Series(name = None, values = [\"banana\", 42])\n",
    "display(\"Seriesを作る\", s)"
   ]
  },
  {
   "cell_type": "markdown",
   "metadata": {},
   "source": [
    "#### 2.1.2 DataFrameを作る"
   ]
  },
  {
   "cell_type": "code",
   "execution_count": null,
   "metadata": {},
   "outputs": [],
   "source": [
    "import pandas as pd\n",
    "scientists = pd.DataFrame({\n",
    "    \"Name\": [\"Rosaline Franklin\", \"William Gosset\"],\n",
    "    \"Occupation\": [\"Chemist\", \"Statistician\"],\n",
    "    \"Born\": [\"1920-07-25\", \"1876-06-13\"],\n",
    "    \"Died\": [\"1958-04-16\", \"1937-10-16\"]\n",
    "    })\n",
    "display(\"DataFrameは辞書型として作るのが最も一般的である\", scientists)"
   ]
  },
  {
   "cell_type": "code",
   "execution_count": null,
   "metadata": {},
   "outputs": [],
   "source": [
    "import polars as pl\n",
    "scientists = pl.DataFrame({\n",
    "    \"Name\": [\"Rosaline Franklin\", \"William Gosset\"],\n",
    "    \"Occupation\": [\"Chemist\", \"Statistician\"],\n",
    "    \"Born\": [\"1920-07-25\", \"1876-06-13\"],\n",
    "    \"Died\": [\"1958-04-16\", \"1937-10-16\"]\n",
    "    })\n",
    "display(\"DataFrameは辞書型として作るのが最も一般的である\", scientists)"
   ]
  },
  {
   "cell_type": "code",
   "execution_count": null,
   "metadata": {},
   "outputs": [],
   "source": [
    "# indexはpandasのみ\n",
    "import pandas as pd\n",
    "scientists = pd.DataFrame({\n",
    "    \"Occupation\": [\"Chemist\", \"Statistician\"],\n",
    "    \"Born\": [\"1920-07-25\", \"1876-06-13\"],\n",
    "    \"Died\": [\"1958-04-16\", \"1937-10-16\"],\n",
    "    \"Age\": [37, 61]\n",
    "    },\n",
    "    index = [\"Rosaline Franklin\", \"William Gosset\"],\n",
    "    columns = [\"Occupation\", \"Born\", \"Died\", \"Age\"])\n",
    "display(\"Index付きDataFrameはpandasのみ\", scientists)"
   ]
  },
  {
   "cell_type": "code",
   "execution_count": null,
   "metadata": {},
   "outputs": [],
   "source": [
    "# polarsのDataFrame作成に関するtips\n",
    "import polars as pl\n",
    "data = {\n",
    "    \"Name\": [\"Rosaline Franklin\", \"William Gosset\"],\n",
    "    \"Occupation\": [\"Chemist\", \"Statistician\"],\n",
    "    \"Born\": [\"1920-07-25\", \"1876-06-13\"],\n",
    "    \"Died\": [\"1958-04-16\", \"1937-10-16\"],\n",
    "    \"Age\": [37, 61]\n",
    "    }\n",
    "scientists = pl.DataFrame(data = data, schema = {\n",
    "    \"Name\": pl.Utf8,\n",
    "    \"Occupation\": pl.Utf8,\n",
    "    \"Born\": pl.Date,\n",
    "    \"Died\": pl.Date,\n",
    "    \"Age\": pl.Int64\n",
    "    })\n",
    "scientists\n",
    "display(\"polarsでDataFrame作成時に各列のデータ型を指定したい場合、辞書型を使用する(その1)\", scientists)\n",
    "\n",
    "scientists = pl.DataFrame(data = data, schema = [\n",
    "    (\"Name\", pl.Utf8),\n",
    "    (\"Occupation\", pl.Utf8),\n",
    "    (\"Born\", pl.Date),\n",
    "    (\"Died\", pl.Date),\n",
    "    (\"Age\", pl.Int64)\n",
    "    ])\n",
    "display(\"tupleのlistでも各列のデータ型を指定できる(その2)\", scientists)\n",
    "\n",
    "data = [\n",
    "    pl.Series(\"Name\", [\"Rosaline Franklin\", \"William Gosset\"], dtype = pl.Utf8),\n",
    "    pl.Series(\"Occupation\", [\"Chemist\", \"Statistician\"], dtype = pl.Utf8),\n",
    "    pl.Series(\"Born\", [\"1920-07-25\", \"1876-06-13\"], dtype = pl.Date),\n",
    "    pl.Series(\"Died\", [\"1958-04-16\", \"1937-10-16\"], dtype = pl.Date),\n",
    "    pl.Series(\"Age\", [37, 61], dtype = pl.Int64)\n",
    "]\n",
    "scientists = pl.DataFrame(data = data)\n",
    "display(\"SeriesのリストとしてDataFrameを定義する\", scientists)"
   ]
  },
  {
   "cell_type": "markdown",
   "metadata": {},
   "source": [
    "### 2.2 Seriesについて"
   ]
  },
  {
   "cell_type": "code",
   "execution_count": null,
   "metadata": {},
   "outputs": [],
   "source": [
    "import pandas as pd\n",
    "scientists = pd.DataFrame({\n",
    "    \"Occupation\": [\"Chemist\", \"Statistician\"],\n",
    "    \"Born\": [\"1920-07-25\", \"1876-06-13\"],\n",
    "    \"Died\": [\"1958-04-16\", \"1937-10-16\"],\n",
    "    \"Age\": [37, 61]\n",
    "    },\n",
    "    index = [\"Rosaline Franklin\", \"William Gosset\"],\n",
    "    columns = [\"Occupation\", \"Born\", \"Died\", \"Age\"])\n",
    "display(\"DataFrameの再表示\", scientists)\n",
    "\n",
    "first_row = scientists.loc[\"William Gosset\"]\n",
    "display(\"indexがWilliam Gossetの行(第2行)のデータ型\", type(first_row))\n",
    "display(\"William Gosset行のindex\", first_row.index)\n",
    "display(\"William Gosset行の各要素\", first_row.values)\n",
    "display(\"William Gosset行の各キー\", first_row.keys())\n",
    "display(\"William Gosset行のindexの最初の要素\", first_row.index[0])\n",
    "display(\"William Gosset行の各キーの最初の要素\", first_row.keys()[0])"
   ]
  },
  {
   "cell_type": "code",
   "execution_count": null,
   "metadata": {},
   "outputs": [],
   "source": [
    "import polars as pl\n",
    "data = [\n",
    "    pl.Series(\"Name\", [\"Rosaline Franklin\", \"William Gosset\"], dtype = pl.Utf8),\n",
    "    pl.Series(\"Occupation\", [\"Chemist\", \"Statistician\"], dtype = pl.Utf8),\n",
    "    pl.Series(\"Born\", [\"1920-07-25\", \"1876-06-13\"], dtype = pl.Date),\n",
    "    pl.Series(\"Died\", [\"1958-04-16\", \"1937-10-16\"], dtype = pl.Date),\n",
    "    pl.Series(\"Age\", [37, 61], dtype = pl.Int64)\n",
    "]\n",
    "scientists = pl.DataFrame(data = data)\n",
    "display(\"DataFrameの再表示\", scientists)\n",
    "\n",
    "# polarsにはindexがないので、filterで取得する\n",
    "first_row = scientists.filter( pl.col(\"Name\") == \"William Gosset\" )\n",
    "display(\"indexがWilliam Gossetの行(第2行)のデータ型\", type(first_row))\n",
    "# polarsのkey関係はよくわからなかった\n",
    "#display(\"William Gosset行のindex\", first_row.index)\n",
    "#display(\"William Gosset行の各要素\", first_row.values)\n",
    "#display(\"William Gosset行の各キー\", first_row.keys())\n",
    "#display(\"William Gosset行のindexの最初の要素\", first_row.index[0])\n",
    "#display(\"William Gosset行の各キーの最初の要素\", first_row.keys()[0])"
   ]
  },
  {
   "cell_type": "markdown",
   "metadata": {},
   "source": [
    "#### 2.2.1 Seriesは、ndarrayに似たもの\n",
    "#### 2.2.1.1 Seriesのメソッド"
   ]
  },
  {
   "cell_type": "code",
   "execution_count": null,
   "metadata": {},
   "outputs": [],
   "source": [
    "import pandas as pd\n",
    "scientists = pd.DataFrame({\n",
    "    \"Occupation\": [\"Chemist\", \"Statistician\"],\n",
    "    \"Born\": [\"1920-07-25\", \"1876-06-13\"],\n",
    "    \"Died\": [\"1958-04-16\", \"1937-10-16\"],\n",
    "    \"Age\": [37, 61]\n",
    "    },\n",
    "    index = [\"Rosaline Franklin\", \"William Gosset\"],\n",
    "    columns = [\"Occupation\", \"Born\", \"Died\", \"Age\"])\n",
    "ages = scientists[\"Age\"]\n",
    "display(\"Age列\", ages)\n",
    "print(\"Age列の平均値\\n\", ages.mean(), \"\\n\")\n",
    "print(\"最小値\\n\", ages.min(), \"\\n\")\n",
    "print(\"最大値\\n\", ages.max(), \"\\n\")\n",
    "print(\"標準偏差\\n\", ages.std(), \"\\n\")"
   ]
  },
  {
   "cell_type": "code",
   "execution_count": null,
   "metadata": {},
   "outputs": [],
   "source": [
    "import polars as pl\n",
    "data = [\n",
    "    pl.Series(\"Name\", [\"Rosaline Franklin\", \"William Gosset\"], dtype = pl.Utf8),\n",
    "    pl.Series(\"Occupation\", [\"Chemist\", \"Statistician\"], dtype = pl.Utf8),\n",
    "    pl.Series(\"Born\", [\"1920-07-25\", \"1876-06-13\"], dtype = pl.Date),\n",
    "    pl.Series(\"Died\", [\"1958-04-16\", \"1937-10-16\"], dtype = pl.Date),\n",
    "    pl.Series(\"Age\", [37, 61], dtype = pl.Int64)\n",
    "]\n",
    "ages = scientists[\"Age\"]\n",
    "display(\"Age列\", ages)\n",
    "print(\"Age列の平均値\\n\", ages.mean(), \"\\n\")\n",
    "print(\"最小値\\n\", ages.min(), \"\\n\")\n",
    "print(\"最大値\\n\", ages.max(), \"\\n\")\n",
    "print(\"標準偏差\\n\", ages.std(), \"\\n\")"
   ]
  },
  {
   "cell_type": "code",
   "execution_count": null,
   "metadata": {},
   "outputs": [],
   "source": [
    "import pandas as pd\n",
    "# 初心者でもわかる！やさしい統計用語①「相関関係」 | データで越境者に寄り添うメディア データのじかん\n",
    "# https://data.wingarc.com/statistics-for-beginners-01-46546\n",
    "s1 = pd.Series([20, 21, 30, 25, 27, 33, 25, 26, 27, 28])\n",
    "s2 = pd.Series([20, 32, 50, 30, 56, 62, 50, 47, 25, 36])\n",
    "display(\"気温\", s1)\n",
    "display(\"アイスの販売数量\", s2)\n",
    "print(\"気温とアイスの販売数量の相関係数\\n\", s1.corr(s2), \"\\n\")\n",
    "print(\"気温とアイスの販売数量の共分散\\n\", s1.cov(s2), \"\\n\")\n",
    "display(\"気温の要約統計量\", s1.describe())\n",
    "display(\"気温列から重複のない要素を返す\", s1.drop_duplicates())\n",
    "print(\"気温と販売数量で同じ要素を含んでいるかを確認する\\n\", s1.equals(s2), \"\\n\")\n",
    "print(\"気温の最小値\\n\", s1.min(), \"\\n\")\n",
    "print(\"気温の最大値\\n\", s1.max(), \"\\n\")\n",
    "print(\"気温の算術平均\\n\", s1.mean(), \"\\n\")\n",
    "print(\"気温の中央値\\n\", s1.median(), \"\\n\")\n",
    "print(\"気温の最頻値\\n\", s1.mode(), \"\\n\")\n",
    "print(\"気温の第1四分位数\\n\", s1.quantile(q = 0.25), \"\\n\")\n",
    "display(\"気温列の値を1つ指定して、もう一つの指定値で上書きする\", s1.replace(to_replace = {33: 9000}))\n",
    "display(\"いくつかの要素を抽出する\", s1.sample(n = 3, random_state = 42))\n",
    "display(\"ソートする\", s1.sort_values())\n",
    "display(\"DataFrameに変換する\", s1.to_frame())\n",
    "display(\"転置する\", s1.transpose())\n",
    "display(\"ユニーク値を返す\", s1.unique())"
   ]
  },
  {
   "cell_type": "code",
   "execution_count": null,
   "metadata": {},
   "outputs": [],
   "source": [
    "import polars as pl\n",
    "# 初心者でもわかる！やさしい統計用語①「相関関係」 | データで越境者に寄り添うメディア データのじかん\n",
    "# https://data.wingarc.com/statistics-for-beginners-01-46546\n",
    "s1 = pl.Series(\"Temperature\", [20, 21, 30, 25, 27, 33, 25, 26, 27, 28])\n",
    "s2 = pl.Series(\"Number of units sold\", [20, 32, 50, 30, 56, 62, 50, 47, 25, 36])\n",
    "df = pl.DataFrame([\n",
    "    s1,\n",
    "    s2\n",
    "])\n",
    "display(\"気温\", s1)\n",
    "display(\"アイスの販売数量\", s2)\n",
    "display(\"気温とアイスの販売数量の相関係数\", df.select(pl.corr(\"Temperature\", \"Number of units sold\")))\n",
    "display(\"気温とアイスの販売数量の共分散\", df.select(pl.cov(\"Temperature\", \"Number of units sold\")))\n",
    "display(\"気温の要約統計量\", s1.describe())\n",
    "#display(\"気温列から重複のない要素を返す\", s1.drop_duplicates())\n",
    "print(\"気温と販売数量で同じ要素を含んでいるかを確認する\\n\", s1.equals(s2), \"\\n\")\n",
    "print(\"気温の最小値\\n\", s1.min(), \"\\n\")\n",
    "print(\"気温の最大値\\n\", s1.max(), \"\\n\")\n",
    "print(\"気温の算術平均\\n\", s1.mean(), \"\\n\")\n",
    "print(\"気温の中央値\\n\", s1.median(), \"\\n\")\n",
    "print(\"気温の最頻値\\n\", s1.mode(), \"\\n\")\n",
    "print(\"気温の第1四分位数\\n\", s1.quantile(quantile = 0.25), \"\\n\")\n",
    "display(\"気温列の値を1つ指定して、もう一つの指定値で上書きする\", s1.replace(mapping = {33: 9000}))\n",
    "display(\"いくつかの要素を抽出する\", s1.sample(n = 3, seed = 42))\n",
    "display(\"ソートする\", s1.sort())\n",
    "display(\"DataFrameに変換する\", s1.to_frame())\n",
    "#display(\"転置する\", s1.transpose())\n",
    "display(\"ユニーク値を返す\", s1.unique())"
   ]
  },
  {
   "attachments": {
    "image.png": {
     "image/png": "[encoded data removed]"
    }
   },
   "cell_type": "markdown",
   "metadata": {},
   "source": [
    "### 2.2.2 Seriesを真偽値で絞り込む\n",
    "ローカルフォルダに保存したデータを読み込むときは、下図のようなフォルダ構造を想定しています。\n",
    "\n",
    "![image.png](attachment:image.png)"
   ]
  },
  {
   "cell_type": "code",
   "execution_count": null,
   "metadata": {},
   "outputs": [],
   "source": [
    "import pandas as pd\n",
    "scientists = pd.read_csv(\"../data/scientists.csv\")\n",
    "display(\"読み込んだデータを確認する\", scientists)\n",
    "ages = scientists[\"Age\"]\n",
    "display(\"年齢列\", ages)\n",
    "display(\"要約統計量\", ages.describe())\n",
    "print(\"要約統計量\\n\", ages.mean(), \"\\n\")\n",
    "display(\"平均より高い値だけ絞り込む\", ages[ages > ages.mean()])\n",
    "print(\"絞り込みのデータ型\\n\", type(ages > ages.mean()), \"\\n\")"
   ]
  },
  {
   "cell_type": "code",
   "execution_count": null,
   "metadata": {},
   "outputs": [],
   "source": [
    "import polars as pl\n",
    "scientists = pl.read_csv(\"../data/scientists.csv\")\n",
    "display(\"読み込んだデータを確認する\", scientists)\n",
    "ages = scientists[\"Age\"]\n",
    "display(\"年齢列\", ages)\n",
    "display(\"要約統計量\", ages.describe())\n",
    "print(\"要約統計量\\n\", ages.mean(), \"\\n\")\n",
    "display(\"平均より高い値だけ絞り込む\", ages.filter( ages > ages.mean() ))\n",
    "print(\"絞り込みのデータ型\\n\", type(ages > ages.mean()), \"\\n\")"
   ]
  },
  {
   "cell_type": "markdown",
   "metadata": {},
   "source": [
    "#### 2.2.3 演算の自動的な整列とベクトル化(ブロードキャスティング)\n",
    "##### 2.2.3.1 同じ長さのベクトル"
   ]
  },
  {
   "cell_type": "code",
   "execution_count": null,
   "metadata": {},
   "outputs": [],
   "source": [
    "import pandas as pd\n",
    "scientists = pd.read_csv(\"../data/scientists.csv\")\n",
    "ages = scientists[\"Age\"]\n",
    "display(\"ベクトルの和\", ages + ages)\n",
    "display(\"アダマール積\", ages + ages)"
   ]
  },
  {
   "cell_type": "code",
   "execution_count": null,
   "metadata": {},
   "outputs": [],
   "source": [
    "import polars as pl\n",
    "scientists = pl.read_csv(\"../data/scientists.csv\")\n",
    "ages = scientists[\"Age\"]\n",
    "display(\"ベクトルの和\", ages + ages)\n",
    "display(\"アダマール積\", ages + ages)"
   ]
  },
  {
   "cell_type": "markdown",
   "metadata": {},
   "source": [
    "#### 2.2.3.2 ベクトルと整数値(スカラー)"
   ]
  },
  {
   "cell_type": "code",
   "execution_count": null,
   "metadata": {},
   "outputs": [],
   "source": [
    "import pandas as pd\n",
    "scientists = pd.read_csv(\"../data/scientists.csv\")\n",
    "ages = scientists[\"Age\"]\n",
    "display(\"ベクトルの全ての要素にスカラーを加える\", ages + 100)\n",
    "display(\"ベクトルとスカラーの積\", ages * 2)"
   ]
  },
  {
   "cell_type": "code",
   "execution_count": null,
   "metadata": {},
   "outputs": [],
   "source": [
    "import polars as pl\n",
    "scientists = pl.read_csv(\"../data/scientists.csv\")\n",
    "ages = scientists[\"Age\"]\n",
    "display(\"ベクトルの全ての要素にスカラーを加える\", ages + 100)\n",
    "display(\"ベクトルとスカラーの積\", ages * 2)"
   ]
  },
  {
   "cell_type": "markdown",
   "metadata": {},
   "source": [
    "### 2.3 DataFrameについて\n",
    "#### 2.3.1 DataFrameの構成要素"
   ]
  },
  {
   "cell_type": "code",
   "execution_count": null,
   "metadata": {},
   "outputs": [],
   "source": [
    "import pandas as pd\n",
    "scientists = pd.read_csv(\"../data/scientists.csv\")\n",
    "display(\"index列を取り出す\", scientists.index)\n",
    "display(\"列名\", scientists.columns)\n",
    "display(\"要素\", scientists.values)\n",
    "#display(\"arrow形式\", scientists.to_arrow())\n",
    "#display(\"辞書型\", scientists.to_dicts())"
   ]
  },
  {
   "cell_type": "code",
   "execution_count": null,
   "metadata": {},
   "outputs": [],
   "source": [
    "import polars as pl\n",
    "scientists = pl.read_csv(\"../data/scientists.csv\")\n",
    "#display(\"index列を取り出す\", scientists.index)\n",
    "display(\"列名\", scientists.columns)\n",
    "display(\"要素\", scientists.to_numpy())\n",
    "display(\"arrow形式\", scientists.to_arrow())\n",
    "display(\"辞書型\", scientists.to_dicts())"
   ]
  },
  {
   "cell_type": "markdown",
   "metadata": {},
   "source": [
    "#### 2.3.2 DataFrameを真偽値で絞り込む"
   ]
  },
  {
   "cell_type": "code",
   "execution_count": null,
   "metadata": {},
   "outputs": [],
   "source": [
    "import pandas as pd\n",
    "scientists = pd.read_csv(\"../data/scientists.csv\")\n",
    "display(\"真偽値で絞り込む\", scientists.loc[ scientists[\"Age\"] > scientists[\"Age\"].mean() ])"
   ]
  },
  {
   "cell_type": "code",
   "execution_count": null,
   "metadata": {},
   "outputs": [],
   "source": [
    "import polars as pl\n",
    "scientists = pl.read_csv(\"../data/scientists.csv\")\n",
    "display(\"真偽値で絞り込む\", scientists.filter( scientists[\"Age\"] > scientists[\"Age\"].mean() ).sort(\"Name\"))\n",
    "display(\"マイナーチェンジ 1\", scientists.filter( pl.col(\"Age\") > scientists[\"Age\"].mean() ).sort(\"Name\"))\n",
    "display(\"マイナーチェンジ 2\", scientists.filter( scientists[\"Age\"] > pl.col(\"Age\").mean() ).sort(\"Name\"))\n",
    "display(\"マイナーチェンジ 3\", scientists.filter( pl.col(\"Age\") > pl.col(\"Age\").mean() ).sort(\"Name\"))\n",
    "display(\"マイナーチェンジ 4\", scientists.filter( pl.col(\"Age\") > pl.mean(\"Age\") ).sort(\"Name\"))"
   ]
  },
  {
   "cell_type": "markdown",
   "metadata": {},
   "source": [
    "### 2.4 SeriesとDataFrameの書き換え"
   ]
  },
  {
   "cell_type": "code",
   "execution_count": null,
   "metadata": {},
   "outputs": [],
   "source": [
    "import pandas as pd\n",
    "scientists = pd.read_csv(\"../data/scientists.csv\")\n",
    "display(\"各列のデータ型\", scientists.dtypes)\n",
    "\n",
    "born_datetime = pd.to_datetime(scientists[\"Born\"], format = \"%Y-%m-%d\")\n",
    "display(\"生年月日のDateTime型\", born_datetime)\n",
    "\n",
    "died_datetime = pd.to_datetime(scientists[\"Died\"], format = \"%Y-%m-%d\")\n",
    "display(\"死亡日のDateTime型\", died_datetime)\n",
    "\n",
    "scientists[\"born_dt\"], scientists[\"died_dt\"] = (\n",
    "    born_datetime,\n",
    "    died_datetime\n",
    ")\n",
    "display(\"列追加後のDataFrame\", scientists)"
   ]
  },
  {
   "cell_type": "code",
   "execution_count": null,
   "metadata": {},
   "outputs": [],
   "source": [
    "import polars as pl\n",
    "scientists = pl.read_csv(\"../data/scientists.csv\")\n",
    "display(\"各列のデータ型\", scientists.dtypes)\n",
    "\n",
    "born_datetime = scientists[\"Born\"].str.to_date(format = \"%Y-%m-%d\")\n",
    "display(\"生年月日のDateTime型\", born_datetime)\n",
    "\n",
    "died_datetime = scientists[\"Died\"].str.to_date(format = \"%Y-%m-%d\")\n",
    "display(\"死亡日のDateTime型\", died_datetime)\n",
    "\n",
    "scientists = scientists.with_columns([\n",
    "    born_datetime.alias(\"born_dt\"),\n",
    "    died_datetime.alias(\"died_dt\")\n",
    "])\n",
    "display(\"列追加後のDataFrame\", scientists)"
   ]
  },
  {
   "cell_type": "markdown",
   "metadata": {},
   "source": [
    "### 2.4.2 列を直接変更する"
   ]
  },
  {
   "cell_type": "code",
   "execution_count": null,
   "metadata": {},
   "outputs": [],
   "source": [
    "import pandas as pd\n",
    "import numpy as np\n",
    "scientists = pd.read_csv(\"../data/scientists.csv\")\n",
    "\n",
    "scientists[\"born_dt\"], scientists[\"died_dt\"] = (\n",
    "    pd.to_datetime(scientists[\"Born\"], format = \"%Y-%m-%d\"),\n",
    "    pd.to_datetime(scientists[\"Died\"], format = \"%Y-%m-%d\")\n",
    ")\n",
    "\n",
    "scientists[\"age_days\"] = (\n",
    "    scientists[\"died_dt\"] - scientists[\"born_dt\"]\n",
    ")\n",
    "scientists[\"age_years\"] = (\n",
    "    scientists[\"age_days\"] / np.timedelta64(1, \"ns\") / (365.2425 * 24 * 60 * 60 * 1e9)\n",
    ")\n",
    "display(\"生年月日から死亡日までの年数を追加したDataFrame\", scientists)"
   ]
  },
  {
   "cell_type": "code",
   "execution_count": null,
   "metadata": {},
   "outputs": [],
   "source": [
    "import polars as pl\n",
    "scientists = pl.read_csv(\"../data/scientists.csv\")\n",
    "\n",
    "scientists = scientists.with_columns([\n",
    "    scientists[\"Born\"].str.to_date(format = \"%Y-%m-%d\").alias(\"born_dt\"),\n",
    "    scientists[\"Died\"].str.to_date(format = \"%Y-%m-%d\").alias(\"died_dt\")\n",
    "])\n",
    "\n",
    "\n",
    "scientists = scientists.with_columns([\n",
    "    (scientists[\"died_dt\"] - scientists[\"born_dt\"]).alias(\"age_days\")\n",
    "])\n",
    "scientists = scientists.with_columns([\n",
    "    (scientists[\"age_days\"].dt.days() / 365.0 ).alias(\"age_years\")\n",
    "])\n",
    "display(\"列追加後のDataFrame\", scientists)"
   ]
  },
  {
   "cell_type": "markdown",
   "metadata": {},
   "source": [
    "#### 2.4.4 値を捨てる"
   ]
  },
  {
   "cell_type": "code",
   "execution_count": null,
   "metadata": {},
   "outputs": [],
   "source": [
    "import pandas as pd\n",
    "scientists = pd.read_csv(\"../data/scientists.csv\")\n",
    "\n",
    "print(\"元のデータの列名\\n\", scientists.columns, \"\\n\")\n",
    "scientists_dropped = scientists.drop([\"Age\"], axis = \"columns\")\n",
    "print(\"Age列削除後のデータの列名\\n\", scientists_dropped.columns, \"\\n\")"
   ]
  },
  {
   "cell_type": "code",
   "execution_count": null,
   "metadata": {},
   "outputs": [],
   "source": [
    "import polars as pl\n",
    "import numpy as np\n",
    "scientists = pl.read_csv(\"../data/scientists.csv\")\n",
    "print(\"元のデータの列名\\n\", scientists.columns, \"\\n\")\n",
    "scientists_dropped = scientists.drop([\"Age\"])\n",
    "print(\"Age列削除後のデータの列名\\n\", scientists_dropped.columns, \"\\n\")"
   ]
  },
  {
   "cell_type": "markdown",
   "metadata": {},
   "source": [
    "### 2.5 データのエクスポートとインポート\n",
    "#### 2.5.1 pickle\n",
    "polarsにはpickle形式での保存方法は無い\n",
    "#### 2.5.1.1  Series\n",
    "#### 2.5.1.2 DataFrame\n",
    "#### 2.5.1.3 pickleデータを読み込む\n",
    "### 2.5.2 CSV"
   ]
  },
  {
   "cell_type": "code",
   "execution_count": null,
   "metadata": {},
   "outputs": [],
   "source": [
    "import pandas as pd\n",
    "import numpy as np\n",
    "scientists = pd.read_csv(\"../data/scientists.csv\")\n",
    "scientists[\"born_dt\"], scientists[\"died_dt\"] = (\n",
    "    pd.to_datetime(scientists[\"Born\"], format = \"%Y-%m-%d\"),\n",
    "    pd.to_datetime(scientists[\"Died\"], format = \"%Y-%m-%d\")\n",
    ")\n",
    "scientists[\"age_days\"] = (\n",
    "    scientists[\"died_dt\"] - scientists[\"born_dt\"]\n",
    ")\n",
    "scientists[\"age_years\"] = (\n",
    "    scientists[\"age_days\"] / np.timedelta64(1, \"ns\") / (365.2425 * 24 * 60 * 60 * 1e9)\n",
    ")\n",
    "\n",
    "scientists.to_csv(\"../output/scientists_df_no_index.csv\", index = False)"
   ]
  },
  {
   "cell_type": "code",
   "execution_count": null,
   "metadata": {},
   "outputs": [],
   "source": [
    "import polars as pl\n",
    "scientists = pl.read_csv(\"../data/scientists.csv\")\n",
    "\n",
    "scientists = scientists.with_columns([\n",
    "    scientists[\"Born\"].str.to_date(format = \"%Y-%m-%d\").alias(\"born_dt\"),\n",
    "    scientists[\"Died\"].str.to_date(format = \"%Y-%m-%d\").alias(\"died_dt\")\n",
    "])\n",
    "scientists = scientists.with_columns([\n",
    "    (scientists[\"died_dt\"] - scientists[\"born_dt\"]).alias(\"age_days\")\n",
    "])\n",
    "scientists = scientists.with_columns([\n",
    "    (scientists[\"age_days\"].dt.days() / 365.0 ).alias(\"age_years\")\n",
    "])\n",
    "\n",
    "display(\"age_daysの値が13779dでありCSV保存の時にエラーが出る\", scientists[\"age_days\"].head(2))\n",
    "scientists = scientists.replace(\n",
    "    \"age_days\", scientists[\"age_days\"].dt.days()\n",
    ")\n",
    "display(\"age_daysの値を整数型に変換する\", scientists[\"age_days\"].head(2))\n",
    "\n",
    "scientists.write_csv(\"../output/scientists_df.csv\")"
   ]
  },
  {
   "cell_type": "markdown",
   "metadata": {},
   "source": [
    "#### 2.5.3 Excel"
   ]
  },
  {
   "cell_type": "code",
   "execution_count": null,
   "metadata": {},
   "outputs": [],
   "source": [
    "import pandas as pd\n",
    "import numpy as np\n",
    "scientists = pd.read_csv(\"../data/scientists.csv\")\n",
    "scientists[\"born_dt\"], scientists[\"died_dt\"] = (\n",
    "    pd.to_datetime(scientists[\"Born\"], format = \"%Y-%m-%d\"),\n",
    "    pd.to_datetime(scientists[\"Died\"], format = \"%Y-%m-%d\")\n",
    ")\n",
    "scientists[\"age_days\"] = (\n",
    "    scientists[\"died_dt\"] - scientists[\"born_dt\"]\n",
    ")\n",
    "scientists[\"age_years\"] = (\n",
    "    scientists[\"age_days\"] / np.timedelta64(1, \"ns\") / (365.2425 * 24 * 60 * 60 * 1e9)\n",
    ")\n",
    "\n",
    "scientists.to_excel(\"../output/scientists_df_no_index.xlsx\", index = False)"
   ]
  },
  {
   "cell_type": "code",
   "execution_count": null,
   "metadata": {},
   "outputs": [],
   "source": [
    "import polars as pl\n",
    "scientists = pl.read_csv(\"../data/scientists.csv\")\n",
    "\n",
    "scientists = scientists.with_columns([\n",
    "    scientists[\"Born\"].str.to_date(format = \"%Y-%m-%d\").alias(\"born_dt\"),\n",
    "    scientists[\"Died\"].str.to_date(format = \"%Y-%m-%d\").alias(\"died_dt\")\n",
    "])\n",
    "scientists = scientists.with_columns([\n",
    "    (scientists[\"died_dt\"] - scientists[\"born_dt\"]).alias(\"age_days\")\n",
    "])\n",
    "scientists = scientists.with_columns([\n",
    "    (scientists[\"age_days\"].dt.days() / 365.0 ).alias(\"age_years\")\n",
    "])\n",
    "\n",
    "'''\n",
    "display(\"age_daysの値が13779dでありCSV保存の時にエラーが出る\", scientists[\"age_days\"].head(2))\n",
    "scientists = scientists.replace(\n",
    "    \"age_days\", scientists[\"age_days\"].dt.days()\n",
    ")\n",
    "display(\"age_daysの値を整数型に変換する\", scientists[\"age_days\"].head(2))\n",
    "'''\n",
    "scientists.write_excel(\"../output/scientists_df.xlsx\")"
   ]
  }
 ],
 "metadata": {
  "kernelspec": {
   "display_name": "Python 3",
   "language": "python",
   "name": "python3"
  },
  "language_info": {
   "codemirror_mode": {
    "name": "ipython",
    "version": 3
   },
   "file_extension": ".py",
   "mimetype": "text/x-python",
   "name": "python",
   "nbconvert_exporter": "python",
   "pygments_lexer": "ipython3",
   "version": "3.11.4"
  }
 },
 "nbformat": 4,
 "nbformat_minor": 2
}
