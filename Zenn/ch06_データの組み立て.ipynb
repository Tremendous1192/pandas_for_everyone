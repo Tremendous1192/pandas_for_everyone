{
 "cells": [
  {
   "cell_type": "markdown",
   "metadata": {},
   "source": [
    "# 第2部 データ操作\n",
    "## 第6章 データの組立\n",
    "### 6.1 データセットを組み合わせる\n",
    "### 6.2 連結"
   ]
  },
  {
   "cell_type": "code",
   "execution_count": null,
   "metadata": {},
   "outputs": [],
   "source": [
    "import pandas as pd\n",
    "df1 = pd.read_csv(\"../data/concat_1.csv\")\n",
    "df2 = pd.read_csv(\"../data/concat_2.csv\")\n",
    "df3 = pd.read_csv(\"../data/concat_3.csv\")\n",
    "\n",
    "display(\"元データ その1\", df1)\n",
    "display(\"元データ その2\", df2)\n",
    "display(\"元データ その3\", df3)"
   ]
  },
  {
   "cell_type": "code",
   "execution_count": null,
   "metadata": {},
   "outputs": [],
   "source": [
    "import polars as pl\n",
    "df1 = pl.read_csv(\"../data/concat_1.csv\")\n",
    "df2 = pl.read_csv(\"../data/concat_2.csv\")\n",
    "df3 = pl.read_csv(\"../data/concat_3.csv\")\n",
    "\n",
    "display(\"元データ その1\", df1)\n",
    "display(\"元データ その2\", df2)\n",
    "display(\"元データ その3\", df3)"
   ]
  },
  {
   "cell_type": "markdown",
   "metadata": {},
   "source": [
    "#### 6.2.1 DataFrameの構成要素(復習)\n",
    "index, columns, valuesなので省略\n",
    "#### 6.2.2 行の追加"
   ]
  },
  {
   "cell_type": "code",
   "execution_count": null,
   "metadata": {},
   "outputs": [],
   "source": [
    "import pandas as pd\n",
    "df1 = pd.read_csv(\"../data/concat_1.csv\")\n",
    "df2 = pd.read_csv(\"../data/concat_2.csv\")\n",
    "df3 = pd.read_csv(\"../data/concat_3.csv\")\n",
    "\n",
    "row_concat = pd.concat([df1, df2, df3])\n",
    "display(\"行方向に結合したデータ(縦結合)\", row_concat)\n",
    "\n",
    "new_row_df = pd.DataFrame({\n",
    "    \"A\": [\"n1\"],\n",
    "    \"B\": [\"n2\"],\n",
    "    \"C\": [\"n3\"],\n",
    "    \"D\": [\"n4\"]\n",
    "})\n",
    "display(\"行方向に結合したデータ(縦結合)\", pd.concat([df1, new_row_df]))"
   ]
  },
  {
   "cell_type": "code",
   "execution_count": null,
   "metadata": {},
   "outputs": [],
   "source": [
    "import polars as pl\n",
    "df1 = pl.read_csv(\"../data/concat_1.csv\")\n",
    "df2 = pl.read_csv(\"../data/concat_2.csv\")\n",
    "df3 = pl.read_csv(\"../data/concat_3.csv\")\n",
    "\n",
    "row_concat = pl.concat(items = [df1, df2, df3], how = 'vertical')\n",
    "display(\"行方向に結合したデータ(縦結合)\", row_concat)\n",
    "\n",
    "new_row_df = pl.DataFrame({\n",
    "    \"A\": [\"n1\"],\n",
    "    \"B\": [\"n2\"],\n",
    "    \"C\": [\"n3\"],\n",
    "    \"D\": [\"n4\"]\n",
    "})\n",
    "display(\"行方向に結合したデータ(縦結合)\", pl.concat(items = [df1, new_row_df], how = 'vertical'))"
   ]
  },
  {
   "cell_type": "markdown",
   "metadata": {},
   "source": [
    "#### 6.2.2.1 インデックスの再設定\n",
    "polarsにはindexが無いので省略\n",
    "#### 6.2.3 列の追加"
   ]
  },
  {
   "cell_type": "code",
   "execution_count": null,
   "metadata": {},
   "outputs": [],
   "source": [
    "import pandas as pd\n",
    "df1 = pd.read_csv(\"../data/concat_1.csv\")\n",
    "df2 = pd.read_csv(\"../data/concat_2.csv\")\n",
    "df3 = pd.read_csv(\"../data/concat_3.csv\")\n",
    "\n",
    "#polarsでは同じ列名が許されないので、pandasと同様の横結合はできない\n",
    "col_concat = pd.concat([df1, df2, df3], axis = \"columns\")\n",
    "display(\"列方向に結合したデータ(横結合)\", col_concat)"
   ]
  },
  {
   "cell_type": "code",
   "execution_count": null,
   "metadata": {},
   "outputs": [],
   "source": [
    "import polars as pl\n",
    "df1 = pl.read_csv(\"../data/concat_1.csv\")\n",
    "df2 = pl.read_csv(\"../data/concat_2.csv\")\n",
    "df3 = pl.read_csv(\"../data/concat_3.csv\")\n",
    "\n",
    "# polarsで同名の列を横結合する場合、renameする必要がある\n",
    "col_concat = pl.concat(items = [df1,\n",
    "                                 df2.rename(mapping = {\"A\": \"A2\", \"B\": \"B2\", \"C\": \"C2\", \"D\": \"D2\"}),\n",
    "                                   df3.rename(mapping = {\"A\": \"A3\", \"B\": \"B3\", \"C\": \"C3\", \"D\": \"D3\"})],\n",
    "                        how = 'horizontal')\n",
    "display(\"列方向に結合したデータ(横結合)\", col_concat)"
   ]
  },
  {
   "cell_type": "markdown",
   "metadata": {},
   "source": [
    "#### 6.2.4 インデックスが異なる連結\n",
    "#### 6.2.4.1 列に相違のある行を連結する"
   ]
  },
  {
   "cell_type": "code",
   "execution_count": null,
   "metadata": {},
   "outputs": [],
   "source": [
    "import pandas as pd\n",
    "df1 = pd.read_csv(\"../data/concat_1.csv\")\n",
    "df2 = pd.read_csv(\"../data/concat_2.csv\")\n",
    "df3 = pd.read_csv(\"../data/concat_3.csv\")\n",
    "\n",
    "df1.columns = [\"A\", \"B\", \"C\", \"D\"]\n",
    "df2.columns = [\"E\", \"F\", \"G\", \"H\"]\n",
    "df3.columns = [\"A\", \"C\", \"F\", \"H\"]\n",
    "\n",
    "display(\"元データ その1\", df1)\n",
    "display(\"列名を変更したデータ その1\", df2)\n",
    "display(\"列名を変更したデータ その2\", df3)\n",
    "\n",
    "# 列名が異なるDataFrameを盾結合する場合は'diagonal'を指定する\n",
    "row_concat = pd.concat([df1, df2, df3])\n",
    "display(\"行方向に結合したデータ(縦結合)\", row_concat)"
   ]
  },
  {
   "cell_type": "code",
   "execution_count": null,
   "metadata": {},
   "outputs": [],
   "source": [
    "import polars as pl\n",
    "df1 = pl.read_csv(\"../data/concat_1.csv\")\n",
    "df2 = pl.read_csv(\"../data/concat_2.csv\")\n",
    "df3 = pl.read_csv(\"../data/concat_3.csv\")\n",
    "\n",
    "df1.columns = [\"A\", \"B\", \"C\", \"D\"]\n",
    "df2.columns = [\"E\", \"F\", \"G\", \"H\"]\n",
    "df3.columns = [\"A\", \"C\", \"F\", \"H\"]\n",
    "\n",
    "display(\"元データ その1\", df1)\n",
    "display(\"列名を変更したデータ その1\", df2)\n",
    "display(\"列名を変更したデータ その2\", df3)\n",
    "\n",
    "# 列名が異なるDataFrameを盾結合する場合は'diagonal'を指定する\n",
    "row_concat = pl.concat(items = [df1, df2, df3], how = 'diagonal')\n",
    "display(\"行方向に結合したデータ(縦結合)\", row_concat)"
   ]
  },
  {
   "cell_type": "markdown",
   "metadata": {},
   "source": [
    "#### 6.2.4.2 行に相違のある列を連結する\n",
    "polarsにindexは無いので、この節は省略\n",
    "## 6.3 データが観測単位ごとの表に分かれている場合\n",
    "github上に書籍で紹介されているデータがないのでスキップする"
   ]
  }
 ],
 "metadata": {
  "kernelspec": {
   "display_name": "Python 3",
   "language": "python",
   "name": "python3"
  },
  "language_info": {
   "codemirror_mode": {
    "name": "ipython",
    "version": 3
   },
   "file_extension": ".py",
   "mimetype": "text/x-python",
   "name": "python",
   "nbconvert_exporter": "python",
   "pygments_lexer": "ipython3",
   "version": "3.11.4"
  }
 },
 "nbformat": 4,
 "nbformat_minor": 2
}
