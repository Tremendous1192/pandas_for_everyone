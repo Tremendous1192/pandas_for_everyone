{
 "cells": [
  {
   "cell_type": "markdown",
   "metadata": {},
   "source": [
    "## 第6章 データの組立\n",
    "### 6.1 データセットを組み合わせる\n",
    "### 6.2 連結"
   ]
  },
  {
   "cell_type": "code",
   "execution_count": 2,
   "metadata": {},
   "outputs": [
    {
     "data": {
      "text/plain": [
       "'元データ その1'"
      ]
     },
     "metadata": {},
     "output_type": "display_data"
    },
    {
     "data": {
      "text/html": [
       "<div>\n",
       "<style scoped>\n",
       "    .dataframe tbody tr th:only-of-type {\n",
       "        vertical-align: middle;\n",
       "    }\n",
       "\n",
       "    .dataframe tbody tr th {\n",
       "        vertical-align: top;\n",
       "    }\n",
       "\n",
       "    .dataframe thead th {\n",
       "        text-align: right;\n",
       "    }\n",
       "</style>\n",
       "<table border=\"1\" class=\"dataframe\">\n",
       "  <thead>\n",
       "    <tr style=\"text-align: right;\">\n",
       "      <th></th>\n",
       "      <th>A</th>\n",
       "      <th>B</th>\n",
       "      <th>C</th>\n",
       "      <th>D</th>\n",
       "    </tr>\n",
       "  </thead>\n",
       "  <tbody>\n",
       "    <tr>\n",
       "      <th>0</th>\n",
       "      <td>a0</td>\n",
       "      <td>b0</td>\n",
       "      <td>c0</td>\n",
       "      <td>d0</td>\n",
       "    </tr>\n",
       "    <tr>\n",
       "      <th>1</th>\n",
       "      <td>a1</td>\n",
       "      <td>b1</td>\n",
       "      <td>c1</td>\n",
       "      <td>d1</td>\n",
       "    </tr>\n",
       "    <tr>\n",
       "      <th>2</th>\n",
       "      <td>a2</td>\n",
       "      <td>b2</td>\n",
       "      <td>c2</td>\n",
       "      <td>d2</td>\n",
       "    </tr>\n",
       "    <tr>\n",
       "      <th>3</th>\n",
       "      <td>a3</td>\n",
       "      <td>b3</td>\n",
       "      <td>c3</td>\n",
       "      <td>d3</td>\n",
       "    </tr>\n",
       "  </tbody>\n",
       "</table>\n",
       "</div>"
      ],
      "text/plain": [
       "    A   B   C   D\n",
       "0  a0  b0  c0  d0\n",
       "1  a1  b1  c1  d1\n",
       "2  a2  b2  c2  d2\n",
       "3  a3  b3  c3  d3"
      ]
     },
     "metadata": {},
     "output_type": "display_data"
    },
    {
     "data": {
      "text/plain": [
       "'元データ その2'"
      ]
     },
     "metadata": {},
     "output_type": "display_data"
    },
    {
     "data": {
      "text/html": [
       "<div>\n",
       "<style scoped>\n",
       "    .dataframe tbody tr th:only-of-type {\n",
       "        vertical-align: middle;\n",
       "    }\n",
       "\n",
       "    .dataframe tbody tr th {\n",
       "        vertical-align: top;\n",
       "    }\n",
       "\n",
       "    .dataframe thead th {\n",
       "        text-align: right;\n",
       "    }\n",
       "</style>\n",
       "<table border=\"1\" class=\"dataframe\">\n",
       "  <thead>\n",
       "    <tr style=\"text-align: right;\">\n",
       "      <th></th>\n",
       "      <th>A</th>\n",
       "      <th>B</th>\n",
       "      <th>C</th>\n",
       "      <th>D</th>\n",
       "    </tr>\n",
       "  </thead>\n",
       "  <tbody>\n",
       "    <tr>\n",
       "      <th>0</th>\n",
       "      <td>a4</td>\n",
       "      <td>b4</td>\n",
       "      <td>c4</td>\n",
       "      <td>d4</td>\n",
       "    </tr>\n",
       "    <tr>\n",
       "      <th>1</th>\n",
       "      <td>a5</td>\n",
       "      <td>b5</td>\n",
       "      <td>c5</td>\n",
       "      <td>d5</td>\n",
       "    </tr>\n",
       "    <tr>\n",
       "      <th>2</th>\n",
       "      <td>a6</td>\n",
       "      <td>b6</td>\n",
       "      <td>c6</td>\n",
       "      <td>d6</td>\n",
       "    </tr>\n",
       "    <tr>\n",
       "      <th>3</th>\n",
       "      <td>a7</td>\n",
       "      <td>b7</td>\n",
       "      <td>c7</td>\n",
       "      <td>d7</td>\n",
       "    </tr>\n",
       "  </tbody>\n",
       "</table>\n",
       "</div>"
      ],
      "text/plain": [
       "    A   B   C   D\n",
       "0  a4  b4  c4  d4\n",
       "1  a5  b5  c5  d5\n",
       "2  a6  b6  c6  d6\n",
       "3  a7  b7  c7  d7"
      ]
     },
     "metadata": {},
     "output_type": "display_data"
    },
    {
     "data": {
      "text/plain": [
       "'元データ その3'"
      ]
     },
     "metadata": {},
     "output_type": "display_data"
    },
    {
     "data": {
      "text/html": [
       "<div>\n",
       "<style scoped>\n",
       "    .dataframe tbody tr th:only-of-type {\n",
       "        vertical-align: middle;\n",
       "    }\n",
       "\n",
       "    .dataframe tbody tr th {\n",
       "        vertical-align: top;\n",
       "    }\n",
       "\n",
       "    .dataframe thead th {\n",
       "        text-align: right;\n",
       "    }\n",
       "</style>\n",
       "<table border=\"1\" class=\"dataframe\">\n",
       "  <thead>\n",
       "    <tr style=\"text-align: right;\">\n",
       "      <th></th>\n",
       "      <th>A</th>\n",
       "      <th>B</th>\n",
       "      <th>C</th>\n",
       "      <th>D</th>\n",
       "    </tr>\n",
       "  </thead>\n",
       "  <tbody>\n",
       "    <tr>\n",
       "      <th>0</th>\n",
       "      <td>a8</td>\n",
       "      <td>b8</td>\n",
       "      <td>c8</td>\n",
       "      <td>d8</td>\n",
       "    </tr>\n",
       "    <tr>\n",
       "      <th>1</th>\n",
       "      <td>a9</td>\n",
       "      <td>b9</td>\n",
       "      <td>c9</td>\n",
       "      <td>d9</td>\n",
       "    </tr>\n",
       "    <tr>\n",
       "      <th>2</th>\n",
       "      <td>a10</td>\n",
       "      <td>b10</td>\n",
       "      <td>c10</td>\n",
       "      <td>d10</td>\n",
       "    </tr>\n",
       "    <tr>\n",
       "      <th>3</th>\n",
       "      <td>a11</td>\n",
       "      <td>b11</td>\n",
       "      <td>c11</td>\n",
       "      <td>d11</td>\n",
       "    </tr>\n",
       "  </tbody>\n",
       "</table>\n",
       "</div>"
      ],
      "text/plain": [
       "     A    B    C    D\n",
       "0   a8   b8   c8   d8\n",
       "1   a9   b9   c9   d9\n",
       "2  a10  b10  c10  d10\n",
       "3  a11  b11  c11  d11"
      ]
     },
     "metadata": {},
     "output_type": "display_data"
    }
   ],
   "source": [
    "import pandas as pd\n",
    "df1 = pd.read_csv(\"../data/concat_1.csv\")\n",
    "df2 = pd.read_csv(\"../data/concat_2.csv\")\n",
    "df3 = pd.read_csv(\"../data/concat_3.csv\")\n",
    "\n",
    "display(\"元データ その1\", df1)\n",
    "display(\"元データ その2\", df2)\n",
    "display(\"元データ その3\", df3)"
   ]
  },
  {
   "cell_type": "code",
   "execution_count": 3,
   "metadata": {},
   "outputs": [
    {
     "data": {
      "text/plain": [
       "'元データ その1'"
      ]
     },
     "metadata": {},
     "output_type": "display_data"
    },
    {
     "data": {
      "text/html": [
       "<div><style>\n",
       ".dataframe > thead > tr,\n",
       ".dataframe > tbody > tr {\n",
       "  text-align: right;\n",
       "  white-space: pre-wrap;\n",
       "}\n",
       "</style>\n",
       "<small>shape: (4, 4)</small><table border=\"1\" class=\"dataframe\"><thead><tr><th>A</th><th>B</th><th>C</th><th>D</th></tr><tr><td>str</td><td>str</td><td>str</td><td>str</td></tr></thead><tbody><tr><td>&quot;a0&quot;</td><td>&quot;b0&quot;</td><td>&quot;c0&quot;</td><td>&quot;d0&quot;</td></tr><tr><td>&quot;a1&quot;</td><td>&quot;b1&quot;</td><td>&quot;c1&quot;</td><td>&quot;d1&quot;</td></tr><tr><td>&quot;a2&quot;</td><td>&quot;b2&quot;</td><td>&quot;c2&quot;</td><td>&quot;d2&quot;</td></tr><tr><td>&quot;a3&quot;</td><td>&quot;b3&quot;</td><td>&quot;c3&quot;</td><td>&quot;d3&quot;</td></tr></tbody></table></div>"
      ],
      "text/plain": [
       "shape: (4, 4)\n",
       "┌─────┬─────┬─────┬─────┐\n",
       "│ A   ┆ B   ┆ C   ┆ D   │\n",
       "│ --- ┆ --- ┆ --- ┆ --- │\n",
       "│ str ┆ str ┆ str ┆ str │\n",
       "╞═════╪═════╪═════╪═════╡\n",
       "│ a0  ┆ b0  ┆ c0  ┆ d0  │\n",
       "│ a1  ┆ b1  ┆ c1  ┆ d1  │\n",
       "│ a2  ┆ b2  ┆ c2  ┆ d2  │\n",
       "│ a3  ┆ b3  ┆ c3  ┆ d3  │\n",
       "└─────┴─────┴─────┴─────┘"
      ]
     },
     "metadata": {},
     "output_type": "display_data"
    },
    {
     "data": {
      "text/plain": [
       "'元データ その2'"
      ]
     },
     "metadata": {},
     "output_type": "display_data"
    },
    {
     "data": {
      "text/html": [
       "<div><style>\n",
       ".dataframe > thead > tr,\n",
       ".dataframe > tbody > tr {\n",
       "  text-align: right;\n",
       "  white-space: pre-wrap;\n",
       "}\n",
       "</style>\n",
       "<small>shape: (4, 4)</small><table border=\"1\" class=\"dataframe\"><thead><tr><th>A</th><th>B</th><th>C</th><th>D</th></tr><tr><td>str</td><td>str</td><td>str</td><td>str</td></tr></thead><tbody><tr><td>&quot;a4&quot;</td><td>&quot;b4&quot;</td><td>&quot;c4&quot;</td><td>&quot;d4&quot;</td></tr><tr><td>&quot;a5&quot;</td><td>&quot;b5&quot;</td><td>&quot;c5&quot;</td><td>&quot;d5&quot;</td></tr><tr><td>&quot;a6&quot;</td><td>&quot;b6&quot;</td><td>&quot;c6&quot;</td><td>&quot;d6&quot;</td></tr><tr><td>&quot;a7&quot;</td><td>&quot;b7&quot;</td><td>&quot;c7&quot;</td><td>&quot;d7&quot;</td></tr></tbody></table></div>"
      ],
      "text/plain": [
       "shape: (4, 4)\n",
       "┌─────┬─────┬─────┬─────┐\n",
       "│ A   ┆ B   ┆ C   ┆ D   │\n",
       "│ --- ┆ --- ┆ --- ┆ --- │\n",
       "│ str ┆ str ┆ str ┆ str │\n",
       "╞═════╪═════╪═════╪═════╡\n",
       "│ a4  ┆ b4  ┆ c4  ┆ d4  │\n",
       "│ a5  ┆ b5  ┆ c5  ┆ d5  │\n",
       "│ a6  ┆ b6  ┆ c6  ┆ d6  │\n",
       "│ a7  ┆ b7  ┆ c7  ┆ d7  │\n",
       "└─────┴─────┴─────┴─────┘"
      ]
     },
     "metadata": {},
     "output_type": "display_data"
    },
    {
     "data": {
      "text/plain": [
       "'元データ その3'"
      ]
     },
     "metadata": {},
     "output_type": "display_data"
    },
    {
     "data": {
      "text/html": [
       "<div><style>\n",
       ".dataframe > thead > tr,\n",
       ".dataframe > tbody > tr {\n",
       "  text-align: right;\n",
       "  white-space: pre-wrap;\n",
       "}\n",
       "</style>\n",
       "<small>shape: (4, 4)</small><table border=\"1\" class=\"dataframe\"><thead><tr><th>A</th><th>B</th><th>C</th><th>D</th></tr><tr><td>str</td><td>str</td><td>str</td><td>str</td></tr></thead><tbody><tr><td>&quot;a8&quot;</td><td>&quot;b8&quot;</td><td>&quot;c8&quot;</td><td>&quot;d8&quot;</td></tr><tr><td>&quot;a9&quot;</td><td>&quot;b9&quot;</td><td>&quot;c9&quot;</td><td>&quot;d9&quot;</td></tr><tr><td>&quot;a10&quot;</td><td>&quot;b10&quot;</td><td>&quot;c10&quot;</td><td>&quot;d10&quot;</td></tr><tr><td>&quot;a11&quot;</td><td>&quot;b11&quot;</td><td>&quot;c11&quot;</td><td>&quot;d11&quot;</td></tr></tbody></table></div>"
      ],
      "text/plain": [
       "shape: (4, 4)\n",
       "┌─────┬─────┬─────┬─────┐\n",
       "│ A   ┆ B   ┆ C   ┆ D   │\n",
       "│ --- ┆ --- ┆ --- ┆ --- │\n",
       "│ str ┆ str ┆ str ┆ str │\n",
       "╞═════╪═════╪═════╪═════╡\n",
       "│ a8  ┆ b8  ┆ c8  ┆ d8  │\n",
       "│ a9  ┆ b9  ┆ c9  ┆ d9  │\n",
       "│ a10 ┆ b10 ┆ c10 ┆ d10 │\n",
       "│ a11 ┆ b11 ┆ c11 ┆ d11 │\n",
       "└─────┴─────┴─────┴─────┘"
      ]
     },
     "metadata": {},
     "output_type": "display_data"
    }
   ],
   "source": [
    "import polars as pl\n",
    "df1 = pl.read_csv(\"../data/concat_1.csv\")\n",
    "df2 = pl.read_csv(\"../data/concat_2.csv\")\n",
    "df3 = pl.read_csv(\"../data/concat_3.csv\")\n",
    "\n",
    "display(\"元データ その1\", df1)\n",
    "display(\"元データ その2\", df2)\n",
    "display(\"元データ その3\", df3)"
   ]
  },
  {
   "cell_type": "markdown",
   "metadata": {},
   "source": [
    "#### 6.2.1 DataFrameの構成要素(復習)\n",
    "index, columns, valuesなので省略\n",
    "#### 6.2.2 行の追加"
   ]
  },
  {
   "cell_type": "code",
   "execution_count": 10,
   "metadata": {},
   "outputs": [
    {
     "data": {
      "text/plain": [
       "'行方向に結合したデータ(縦結合)'"
      ]
     },
     "metadata": {},
     "output_type": "display_data"
    },
    {
     "data": {
      "text/html": [
       "<div>\n",
       "<style scoped>\n",
       "    .dataframe tbody tr th:only-of-type {\n",
       "        vertical-align: middle;\n",
       "    }\n",
       "\n",
       "    .dataframe tbody tr th {\n",
       "        vertical-align: top;\n",
       "    }\n",
       "\n",
       "    .dataframe thead th {\n",
       "        text-align: right;\n",
       "    }\n",
       "</style>\n",
       "<table border=\"1\" class=\"dataframe\">\n",
       "  <thead>\n",
       "    <tr style=\"text-align: right;\">\n",
       "      <th></th>\n",
       "      <th>A</th>\n",
       "      <th>B</th>\n",
       "      <th>C</th>\n",
       "      <th>D</th>\n",
       "    </tr>\n",
       "  </thead>\n",
       "  <tbody>\n",
       "    <tr>\n",
       "      <th>0</th>\n",
       "      <td>a0</td>\n",
       "      <td>b0</td>\n",
       "      <td>c0</td>\n",
       "      <td>d0</td>\n",
       "    </tr>\n",
       "    <tr>\n",
       "      <th>1</th>\n",
       "      <td>a1</td>\n",
       "      <td>b1</td>\n",
       "      <td>c1</td>\n",
       "      <td>d1</td>\n",
       "    </tr>\n",
       "    <tr>\n",
       "      <th>2</th>\n",
       "      <td>a2</td>\n",
       "      <td>b2</td>\n",
       "      <td>c2</td>\n",
       "      <td>d2</td>\n",
       "    </tr>\n",
       "    <tr>\n",
       "      <th>3</th>\n",
       "      <td>a3</td>\n",
       "      <td>b3</td>\n",
       "      <td>c3</td>\n",
       "      <td>d3</td>\n",
       "    </tr>\n",
       "    <tr>\n",
       "      <th>0</th>\n",
       "      <td>a4</td>\n",
       "      <td>b4</td>\n",
       "      <td>c4</td>\n",
       "      <td>d4</td>\n",
       "    </tr>\n",
       "    <tr>\n",
       "      <th>1</th>\n",
       "      <td>a5</td>\n",
       "      <td>b5</td>\n",
       "      <td>c5</td>\n",
       "      <td>d5</td>\n",
       "    </tr>\n",
       "    <tr>\n",
       "      <th>2</th>\n",
       "      <td>a6</td>\n",
       "      <td>b6</td>\n",
       "      <td>c6</td>\n",
       "      <td>d6</td>\n",
       "    </tr>\n",
       "    <tr>\n",
       "      <th>3</th>\n",
       "      <td>a7</td>\n",
       "      <td>b7</td>\n",
       "      <td>c7</td>\n",
       "      <td>d7</td>\n",
       "    </tr>\n",
       "    <tr>\n",
       "      <th>0</th>\n",
       "      <td>a8</td>\n",
       "      <td>b8</td>\n",
       "      <td>c8</td>\n",
       "      <td>d8</td>\n",
       "    </tr>\n",
       "    <tr>\n",
       "      <th>1</th>\n",
       "      <td>a9</td>\n",
       "      <td>b9</td>\n",
       "      <td>c9</td>\n",
       "      <td>d9</td>\n",
       "    </tr>\n",
       "    <tr>\n",
       "      <th>2</th>\n",
       "      <td>a10</td>\n",
       "      <td>b10</td>\n",
       "      <td>c10</td>\n",
       "      <td>d10</td>\n",
       "    </tr>\n",
       "    <tr>\n",
       "      <th>3</th>\n",
       "      <td>a11</td>\n",
       "      <td>b11</td>\n",
       "      <td>c11</td>\n",
       "      <td>d11</td>\n",
       "    </tr>\n",
       "  </tbody>\n",
       "</table>\n",
       "</div>"
      ],
      "text/plain": [
       "     A    B    C    D\n",
       "0   a0   b0   c0   d0\n",
       "1   a1   b1   c1   d1\n",
       "2   a2   b2   c2   d2\n",
       "3   a3   b3   c3   d3\n",
       "0   a4   b4   c4   d4\n",
       "1   a5   b5   c5   d5\n",
       "2   a6   b6   c6   d6\n",
       "3   a7   b7   c7   d7\n",
       "0   a8   b8   c8   d8\n",
       "1   a9   b9   c9   d9\n",
       "2  a10  b10  c10  d10\n",
       "3  a11  b11  c11  d11"
      ]
     },
     "metadata": {},
     "output_type": "display_data"
    },
    {
     "data": {
      "text/plain": [
       "'行方向に結合したデータ(縦結合)'"
      ]
     },
     "metadata": {},
     "output_type": "display_data"
    },
    {
     "data": {
      "text/html": [
       "<div>\n",
       "<style scoped>\n",
       "    .dataframe tbody tr th:only-of-type {\n",
       "        vertical-align: middle;\n",
       "    }\n",
       "\n",
       "    .dataframe tbody tr th {\n",
       "        vertical-align: top;\n",
       "    }\n",
       "\n",
       "    .dataframe thead th {\n",
       "        text-align: right;\n",
       "    }\n",
       "</style>\n",
       "<table border=\"1\" class=\"dataframe\">\n",
       "  <thead>\n",
       "    <tr style=\"text-align: right;\">\n",
       "      <th></th>\n",
       "      <th>A</th>\n",
       "      <th>B</th>\n",
       "      <th>C</th>\n",
       "      <th>D</th>\n",
       "    </tr>\n",
       "  </thead>\n",
       "  <tbody>\n",
       "    <tr>\n",
       "      <th>0</th>\n",
       "      <td>a0</td>\n",
       "      <td>b0</td>\n",
       "      <td>c0</td>\n",
       "      <td>d0</td>\n",
       "    </tr>\n",
       "    <tr>\n",
       "      <th>1</th>\n",
       "      <td>a1</td>\n",
       "      <td>b1</td>\n",
       "      <td>c1</td>\n",
       "      <td>d1</td>\n",
       "    </tr>\n",
       "    <tr>\n",
       "      <th>2</th>\n",
       "      <td>a2</td>\n",
       "      <td>b2</td>\n",
       "      <td>c2</td>\n",
       "      <td>d2</td>\n",
       "    </tr>\n",
       "    <tr>\n",
       "      <th>3</th>\n",
       "      <td>a3</td>\n",
       "      <td>b3</td>\n",
       "      <td>c3</td>\n",
       "      <td>d3</td>\n",
       "    </tr>\n",
       "    <tr>\n",
       "      <th>0</th>\n",
       "      <td>n1</td>\n",
       "      <td>n2</td>\n",
       "      <td>n3</td>\n",
       "      <td>n4</td>\n",
       "    </tr>\n",
       "  </tbody>\n",
       "</table>\n",
       "</div>"
      ],
      "text/plain": [
       "    A   B   C   D\n",
       "0  a0  b0  c0  d0\n",
       "1  a1  b1  c1  d1\n",
       "2  a2  b2  c2  d2\n",
       "3  a3  b3  c3  d3\n",
       "0  n1  n2  n3  n4"
      ]
     },
     "metadata": {},
     "output_type": "display_data"
    }
   ],
   "source": [
    "import pandas as pd\n",
    "df1 = pd.read_csv(\"../data/concat_1.csv\")\n",
    "df2 = pd.read_csv(\"../data/concat_2.csv\")\n",
    "df3 = pd.read_csv(\"../data/concat_3.csv\")\n",
    "\n",
    "row_concat = pd.concat([df1, df2, df3])\n",
    "display(\"行方向に結合したデータ(縦結合)\", row_concat)\n",
    "\n",
    "new_row_df = pd.DataFrame({\n",
    "    \"A\": [\"n1\"],\n",
    "    \"B\": [\"n2\"],\n",
    "    \"C\": [\"n3\"],\n",
    "    \"D\": [\"n4\"]\n",
    "})\n",
    "display(\"行方向に結合したデータ(縦結合)\", pd.concat([df1, new_row_df]))"
   ]
  },
  {
   "cell_type": "code",
   "execution_count": 7,
   "metadata": {},
   "outputs": [
    {
     "data": {
      "text/plain": [
       "'行方向に結合したデータ(縦結合)'"
      ]
     },
     "metadata": {},
     "output_type": "display_data"
    },
    {
     "data": {
      "text/html": [
       "<div><style>\n",
       ".dataframe > thead > tr,\n",
       ".dataframe > tbody > tr {\n",
       "  text-align: right;\n",
       "  white-space: pre-wrap;\n",
       "}\n",
       "</style>\n",
       "<small>shape: (12, 4)</small><table border=\"1\" class=\"dataframe\"><thead><tr><th>A</th><th>B</th><th>C</th><th>D</th></tr><tr><td>str</td><td>str</td><td>str</td><td>str</td></tr></thead><tbody><tr><td>&quot;a0&quot;</td><td>&quot;b0&quot;</td><td>&quot;c0&quot;</td><td>&quot;d0&quot;</td></tr><tr><td>&quot;a1&quot;</td><td>&quot;b1&quot;</td><td>&quot;c1&quot;</td><td>&quot;d1&quot;</td></tr><tr><td>&quot;a2&quot;</td><td>&quot;b2&quot;</td><td>&quot;c2&quot;</td><td>&quot;d2&quot;</td></tr><tr><td>&quot;a3&quot;</td><td>&quot;b3&quot;</td><td>&quot;c3&quot;</td><td>&quot;d3&quot;</td></tr><tr><td>&quot;a4&quot;</td><td>&quot;b4&quot;</td><td>&quot;c4&quot;</td><td>&quot;d4&quot;</td></tr><tr><td>&quot;a5&quot;</td><td>&quot;b5&quot;</td><td>&quot;c5&quot;</td><td>&quot;d5&quot;</td></tr><tr><td>&quot;a6&quot;</td><td>&quot;b6&quot;</td><td>&quot;c6&quot;</td><td>&quot;d6&quot;</td></tr><tr><td>&quot;a7&quot;</td><td>&quot;b7&quot;</td><td>&quot;c7&quot;</td><td>&quot;d7&quot;</td></tr><tr><td>&quot;a8&quot;</td><td>&quot;b8&quot;</td><td>&quot;c8&quot;</td><td>&quot;d8&quot;</td></tr><tr><td>&quot;a9&quot;</td><td>&quot;b9&quot;</td><td>&quot;c9&quot;</td><td>&quot;d9&quot;</td></tr><tr><td>&quot;a10&quot;</td><td>&quot;b10&quot;</td><td>&quot;c10&quot;</td><td>&quot;d10&quot;</td></tr><tr><td>&quot;a11&quot;</td><td>&quot;b11&quot;</td><td>&quot;c11&quot;</td><td>&quot;d11&quot;</td></tr></tbody></table></div>"
      ],
      "text/plain": [
       "shape: (12, 4)\n",
       "┌─────┬─────┬─────┬─────┐\n",
       "│ A   ┆ B   ┆ C   ┆ D   │\n",
       "│ --- ┆ --- ┆ --- ┆ --- │\n",
       "│ str ┆ str ┆ str ┆ str │\n",
       "╞═════╪═════╪═════╪═════╡\n",
       "│ a0  ┆ b0  ┆ c0  ┆ d0  │\n",
       "│ a1  ┆ b1  ┆ c1  ┆ d1  │\n",
       "│ a2  ┆ b2  ┆ c2  ┆ d2  │\n",
       "│ a3  ┆ b3  ┆ c3  ┆ d3  │\n",
       "│ …   ┆ …   ┆ …   ┆ …   │\n",
       "│ a8  ┆ b8  ┆ c8  ┆ d8  │\n",
       "│ a9  ┆ b9  ┆ c9  ┆ d9  │\n",
       "│ a10 ┆ b10 ┆ c10 ┆ d10 │\n",
       "│ a11 ┆ b11 ┆ c11 ┆ d11 │\n",
       "└─────┴─────┴─────┴─────┘"
      ]
     },
     "metadata": {},
     "output_type": "display_data"
    },
    {
     "data": {
      "text/plain": [
       "'行方向に結合したデータ(縦結合)'"
      ]
     },
     "metadata": {},
     "output_type": "display_data"
    },
    {
     "data": {
      "text/html": [
       "<div><style>\n",
       ".dataframe > thead > tr,\n",
       ".dataframe > tbody > tr {\n",
       "  text-align: right;\n",
       "  white-space: pre-wrap;\n",
       "}\n",
       "</style>\n",
       "<small>shape: (5, 4)</small><table border=\"1\" class=\"dataframe\"><thead><tr><th>A</th><th>B</th><th>C</th><th>D</th></tr><tr><td>str</td><td>str</td><td>str</td><td>str</td></tr></thead><tbody><tr><td>&quot;a0&quot;</td><td>&quot;b0&quot;</td><td>&quot;c0&quot;</td><td>&quot;d0&quot;</td></tr><tr><td>&quot;a1&quot;</td><td>&quot;b1&quot;</td><td>&quot;c1&quot;</td><td>&quot;d1&quot;</td></tr><tr><td>&quot;a2&quot;</td><td>&quot;b2&quot;</td><td>&quot;c2&quot;</td><td>&quot;d2&quot;</td></tr><tr><td>&quot;a3&quot;</td><td>&quot;b3&quot;</td><td>&quot;c3&quot;</td><td>&quot;d3&quot;</td></tr><tr><td>&quot;n1&quot;</td><td>&quot;n2&quot;</td><td>&quot;n3&quot;</td><td>&quot;n4&quot;</td></tr></tbody></table></div>"
      ],
      "text/plain": [
       "shape: (5, 4)\n",
       "┌─────┬─────┬─────┬─────┐\n",
       "│ A   ┆ B   ┆ C   ┆ D   │\n",
       "│ --- ┆ --- ┆ --- ┆ --- │\n",
       "│ str ┆ str ┆ str ┆ str │\n",
       "╞═════╪═════╪═════╪═════╡\n",
       "│ a0  ┆ b0  ┆ c0  ┆ d0  │\n",
       "│ a1  ┆ b1  ┆ c1  ┆ d1  │\n",
       "│ a2  ┆ b2  ┆ c2  ┆ d2  │\n",
       "│ a3  ┆ b3  ┆ c3  ┆ d3  │\n",
       "│ n1  ┆ n2  ┆ n3  ┆ n4  │\n",
       "└─────┴─────┴─────┴─────┘"
      ]
     },
     "metadata": {},
     "output_type": "display_data"
    }
   ],
   "source": [
    "import polars as pl\n",
    "df1 = pl.read_csv(\"../data/concat_1.csv\")\n",
    "df2 = pl.read_csv(\"../data/concat_2.csv\")\n",
    "df3 = pl.read_csv(\"../data/concat_3.csv\")\n",
    "\n",
    "row_concat = pl.concat(items = [df1, df2, df3], how = 'vertical')\n",
    "display(\"行方向に結合したデータ(縦結合)\", row_concat)\n",
    "\n",
    "new_row_df = pl.DataFrame({\n",
    "    \"A\": [\"n1\"],\n",
    "    \"B\": [\"n2\"],\n",
    "    \"C\": [\"n3\"],\n",
    "    \"D\": [\"n4\"]\n",
    "})\n",
    "display(\"行方向に結合したデータ(縦結合)\", pl.concat(items = [df1, new_row_df], how = 'vertical'))"
   ]
  },
  {
   "cell_type": "markdown",
   "metadata": {},
   "source": [
    "#### 6.2.2.1 インデックスの再設定\n",
    "polarsにはindexが無いので省略\n",
    "#### 6.2.3 列の追加"
   ]
  },
  {
   "cell_type": "code",
   "execution_count": 15,
   "metadata": {},
   "outputs": [
    {
     "data": {
      "text/plain": [
       "'列方向に結合したデータ(横結合)'"
      ]
     },
     "metadata": {},
     "output_type": "display_data"
    },
    {
     "data": {
      "text/html": [
       "<div>\n",
       "<style scoped>\n",
       "    .dataframe tbody tr th:only-of-type {\n",
       "        vertical-align: middle;\n",
       "    }\n",
       "\n",
       "    .dataframe tbody tr th {\n",
       "        vertical-align: top;\n",
       "    }\n",
       "\n",
       "    .dataframe thead th {\n",
       "        text-align: right;\n",
       "    }\n",
       "</style>\n",
       "<table border=\"1\" class=\"dataframe\">\n",
       "  <thead>\n",
       "    <tr style=\"text-align: right;\">\n",
       "      <th></th>\n",
       "      <th>A</th>\n",
       "      <th>B</th>\n",
       "      <th>C</th>\n",
       "      <th>D</th>\n",
       "      <th>A</th>\n",
       "      <th>B</th>\n",
       "      <th>C</th>\n",
       "      <th>D</th>\n",
       "      <th>A</th>\n",
       "      <th>B</th>\n",
       "      <th>C</th>\n",
       "      <th>D</th>\n",
       "    </tr>\n",
       "  </thead>\n",
       "  <tbody>\n",
       "    <tr>\n",
       "      <th>0</th>\n",
       "      <td>a0</td>\n",
       "      <td>b0</td>\n",
       "      <td>c0</td>\n",
       "      <td>d0</td>\n",
       "      <td>a4</td>\n",
       "      <td>b4</td>\n",
       "      <td>c4</td>\n",
       "      <td>d4</td>\n",
       "      <td>a8</td>\n",
       "      <td>b8</td>\n",
       "      <td>c8</td>\n",
       "      <td>d8</td>\n",
       "    </tr>\n",
       "    <tr>\n",
       "      <th>1</th>\n",
       "      <td>a1</td>\n",
       "      <td>b1</td>\n",
       "      <td>c1</td>\n",
       "      <td>d1</td>\n",
       "      <td>a5</td>\n",
       "      <td>b5</td>\n",
       "      <td>c5</td>\n",
       "      <td>d5</td>\n",
       "      <td>a9</td>\n",
       "      <td>b9</td>\n",
       "      <td>c9</td>\n",
       "      <td>d9</td>\n",
       "    </tr>\n",
       "    <tr>\n",
       "      <th>2</th>\n",
       "      <td>a2</td>\n",
       "      <td>b2</td>\n",
       "      <td>c2</td>\n",
       "      <td>d2</td>\n",
       "      <td>a6</td>\n",
       "      <td>b6</td>\n",
       "      <td>c6</td>\n",
       "      <td>d6</td>\n",
       "      <td>a10</td>\n",
       "      <td>b10</td>\n",
       "      <td>c10</td>\n",
       "      <td>d10</td>\n",
       "    </tr>\n",
       "    <tr>\n",
       "      <th>3</th>\n",
       "      <td>a3</td>\n",
       "      <td>b3</td>\n",
       "      <td>c3</td>\n",
       "      <td>d3</td>\n",
       "      <td>a7</td>\n",
       "      <td>b7</td>\n",
       "      <td>c7</td>\n",
       "      <td>d7</td>\n",
       "      <td>a11</td>\n",
       "      <td>b11</td>\n",
       "      <td>c11</td>\n",
       "      <td>d11</td>\n",
       "    </tr>\n",
       "  </tbody>\n",
       "</table>\n",
       "</div>"
      ],
      "text/plain": [
       "    A   B   C   D   A   B   C   D    A    B    C    D\n",
       "0  a0  b0  c0  d0  a4  b4  c4  d4   a8   b8   c8   d8\n",
       "1  a1  b1  c1  d1  a5  b5  c5  d5   a9   b9   c9   d9\n",
       "2  a2  b2  c2  d2  a6  b6  c6  d6  a10  b10  c10  d10\n",
       "3  a3  b3  c3  d3  a7  b7  c7  d7  a11  b11  c11  d11"
      ]
     },
     "metadata": {},
     "output_type": "display_data"
    }
   ],
   "source": [
    "import pandas as pd\n",
    "df1 = pd.read_csv(\"../data/concat_1.csv\")\n",
    "df2 = pd.read_csv(\"../data/concat_2.csv\")\n",
    "df3 = pd.read_csv(\"../data/concat_3.csv\")\n",
    "\n",
    "#polarsでは同じ列名が許されないので、pandasと同様の横結合はできない\n",
    "col_concat = pd.concat([df1, df2, df3], axis = \"columns\")\n",
    "display(\"列方向に結合したデータ(横結合)\", col_concat)"
   ]
  },
  {
   "cell_type": "code",
   "execution_count": 14,
   "metadata": {},
   "outputs": [
    {
     "data": {
      "text/plain": [
       "'列方向に結合したデータ(横結合)'"
      ]
     },
     "metadata": {},
     "output_type": "display_data"
    },
    {
     "data": {
      "text/html": [
       "<div><style>\n",
       ".dataframe > thead > tr,\n",
       ".dataframe > tbody > tr {\n",
       "  text-align: right;\n",
       "  white-space: pre-wrap;\n",
       "}\n",
       "</style>\n",
       "<small>shape: (4, 12)</small><table border=\"1\" class=\"dataframe\"><thead><tr><th>A</th><th>B</th><th>C</th><th>D</th><th>A2</th><th>B2</th><th>C2</th><th>D2</th><th>A3</th><th>B3</th><th>C3</th><th>D3</th></tr><tr><td>str</td><td>str</td><td>str</td><td>str</td><td>str</td><td>str</td><td>str</td><td>str</td><td>str</td><td>str</td><td>str</td><td>str</td></tr></thead><tbody><tr><td>&quot;a0&quot;</td><td>&quot;b0&quot;</td><td>&quot;c0&quot;</td><td>&quot;d0&quot;</td><td>&quot;a4&quot;</td><td>&quot;b4&quot;</td><td>&quot;c4&quot;</td><td>&quot;d4&quot;</td><td>&quot;a8&quot;</td><td>&quot;b8&quot;</td><td>&quot;c8&quot;</td><td>&quot;d8&quot;</td></tr><tr><td>&quot;a1&quot;</td><td>&quot;b1&quot;</td><td>&quot;c1&quot;</td><td>&quot;d1&quot;</td><td>&quot;a5&quot;</td><td>&quot;b5&quot;</td><td>&quot;c5&quot;</td><td>&quot;d5&quot;</td><td>&quot;a9&quot;</td><td>&quot;b9&quot;</td><td>&quot;c9&quot;</td><td>&quot;d9&quot;</td></tr><tr><td>&quot;a2&quot;</td><td>&quot;b2&quot;</td><td>&quot;c2&quot;</td><td>&quot;d2&quot;</td><td>&quot;a6&quot;</td><td>&quot;b6&quot;</td><td>&quot;c6&quot;</td><td>&quot;d6&quot;</td><td>&quot;a10&quot;</td><td>&quot;b10&quot;</td><td>&quot;c10&quot;</td><td>&quot;d10&quot;</td></tr><tr><td>&quot;a3&quot;</td><td>&quot;b3&quot;</td><td>&quot;c3&quot;</td><td>&quot;d3&quot;</td><td>&quot;a7&quot;</td><td>&quot;b7&quot;</td><td>&quot;c7&quot;</td><td>&quot;d7&quot;</td><td>&quot;a11&quot;</td><td>&quot;b11&quot;</td><td>&quot;c11&quot;</td><td>&quot;d11&quot;</td></tr></tbody></table></div>"
      ],
      "text/plain": [
       "shape: (4, 12)\n",
       "┌─────┬─────┬─────┬─────┬───┬─────┬─────┬─────┬─────┐\n",
       "│ A   ┆ B   ┆ C   ┆ D   ┆ … ┆ A3  ┆ B3  ┆ C3  ┆ D3  │\n",
       "│ --- ┆ --- ┆ --- ┆ --- ┆   ┆ --- ┆ --- ┆ --- ┆ --- │\n",
       "│ str ┆ str ┆ str ┆ str ┆   ┆ str ┆ str ┆ str ┆ str │\n",
       "╞═════╪═════╪═════╪═════╪═══╪═════╪═════╪═════╪═════╡\n",
       "│ a0  ┆ b0  ┆ c0  ┆ d0  ┆ … ┆ a8  ┆ b8  ┆ c8  ┆ d8  │\n",
       "│ a1  ┆ b1  ┆ c1  ┆ d1  ┆ … ┆ a9  ┆ b9  ┆ c9  ┆ d9  │\n",
       "│ a2  ┆ b2  ┆ c2  ┆ d2  ┆ … ┆ a10 ┆ b10 ┆ c10 ┆ d10 │\n",
       "│ a3  ┆ b3  ┆ c3  ┆ d3  ┆ … ┆ a11 ┆ b11 ┆ c11 ┆ d11 │\n",
       "└─────┴─────┴─────┴─────┴───┴─────┴─────┴─────┴─────┘"
      ]
     },
     "metadata": {},
     "output_type": "display_data"
    }
   ],
   "source": [
    "import polars as pl\n",
    "df1 = pl.read_csv(\"../data/concat_1.csv\")\n",
    "df2 = pl.read_csv(\"../data/concat_2.csv\")\n",
    "df3 = pl.read_csv(\"../data/concat_3.csv\")\n",
    "\n",
    "# polarsで同名の列を横結合する場合、renameする必要がある\n",
    "col_concat = pl.concat(items = [df1,\n",
    "                                 df2.rename(mapping = {\"A\": \"A2\", \"B\": \"B2\", \"C\": \"C2\", \"D\": \"D2\"}),\n",
    "                                   df3.rename(mapping = {\"A\": \"A3\", \"B\": \"B3\", \"C\": \"C3\", \"D\": \"D3\"})],\n",
    "                        how = 'horizontal')\n",
    "display(\"列方向に結合したデータ(横結合)\", col_concat)"
   ]
  },
  {
   "cell_type": "markdown",
   "metadata": {},
   "source": [
    "#### 6.2.4 インデックスが異なる連結\n",
    "#### 6.2.4.1 列に相違のある行を連結する"
   ]
  },
  {
   "cell_type": "code",
   "execution_count": 18,
   "metadata": {},
   "outputs": [
    {
     "data": {
      "text/plain": [
       "'元データ その1'"
      ]
     },
     "metadata": {},
     "output_type": "display_data"
    },
    {
     "data": {
      "text/html": [
       "<div>\n",
       "<style scoped>\n",
       "    .dataframe tbody tr th:only-of-type {\n",
       "        vertical-align: middle;\n",
       "    }\n",
       "\n",
       "    .dataframe tbody tr th {\n",
       "        vertical-align: top;\n",
       "    }\n",
       "\n",
       "    .dataframe thead th {\n",
       "        text-align: right;\n",
       "    }\n",
       "</style>\n",
       "<table border=\"1\" class=\"dataframe\">\n",
       "  <thead>\n",
       "    <tr style=\"text-align: right;\">\n",
       "      <th></th>\n",
       "      <th>A</th>\n",
       "      <th>B</th>\n",
       "      <th>C</th>\n",
       "      <th>D</th>\n",
       "    </tr>\n",
       "  </thead>\n",
       "  <tbody>\n",
       "    <tr>\n",
       "      <th>0</th>\n",
       "      <td>a0</td>\n",
       "      <td>b0</td>\n",
       "      <td>c0</td>\n",
       "      <td>d0</td>\n",
       "    </tr>\n",
       "    <tr>\n",
       "      <th>1</th>\n",
       "      <td>a1</td>\n",
       "      <td>b1</td>\n",
       "      <td>c1</td>\n",
       "      <td>d1</td>\n",
       "    </tr>\n",
       "    <tr>\n",
       "      <th>2</th>\n",
       "      <td>a2</td>\n",
       "      <td>b2</td>\n",
       "      <td>c2</td>\n",
       "      <td>d2</td>\n",
       "    </tr>\n",
       "    <tr>\n",
       "      <th>3</th>\n",
       "      <td>a3</td>\n",
       "      <td>b3</td>\n",
       "      <td>c3</td>\n",
       "      <td>d3</td>\n",
       "    </tr>\n",
       "  </tbody>\n",
       "</table>\n",
       "</div>"
      ],
      "text/plain": [
       "    A   B   C   D\n",
       "0  a0  b0  c0  d0\n",
       "1  a1  b1  c1  d1\n",
       "2  a2  b2  c2  d2\n",
       "3  a3  b3  c3  d3"
      ]
     },
     "metadata": {},
     "output_type": "display_data"
    },
    {
     "data": {
      "text/plain": [
       "'列名を変更したデータ その1'"
      ]
     },
     "metadata": {},
     "output_type": "display_data"
    },
    {
     "data": {
      "text/html": [
       "<div>\n",
       "<style scoped>\n",
       "    .dataframe tbody tr th:only-of-type {\n",
       "        vertical-align: middle;\n",
       "    }\n",
       "\n",
       "    .dataframe tbody tr th {\n",
       "        vertical-align: top;\n",
       "    }\n",
       "\n",
       "    .dataframe thead th {\n",
       "        text-align: right;\n",
       "    }\n",
       "</style>\n",
       "<table border=\"1\" class=\"dataframe\">\n",
       "  <thead>\n",
       "    <tr style=\"text-align: right;\">\n",
       "      <th></th>\n",
       "      <th>E</th>\n",
       "      <th>F</th>\n",
       "      <th>G</th>\n",
       "      <th>H</th>\n",
       "    </tr>\n",
       "  </thead>\n",
       "  <tbody>\n",
       "    <tr>\n",
       "      <th>0</th>\n",
       "      <td>a4</td>\n",
       "      <td>b4</td>\n",
       "      <td>c4</td>\n",
       "      <td>d4</td>\n",
       "    </tr>\n",
       "    <tr>\n",
       "      <th>1</th>\n",
       "      <td>a5</td>\n",
       "      <td>b5</td>\n",
       "      <td>c5</td>\n",
       "      <td>d5</td>\n",
       "    </tr>\n",
       "    <tr>\n",
       "      <th>2</th>\n",
       "      <td>a6</td>\n",
       "      <td>b6</td>\n",
       "      <td>c6</td>\n",
       "      <td>d6</td>\n",
       "    </tr>\n",
       "    <tr>\n",
       "      <th>3</th>\n",
       "      <td>a7</td>\n",
       "      <td>b7</td>\n",
       "      <td>c7</td>\n",
       "      <td>d7</td>\n",
       "    </tr>\n",
       "  </tbody>\n",
       "</table>\n",
       "</div>"
      ],
      "text/plain": [
       "    E   F   G   H\n",
       "0  a4  b4  c4  d4\n",
       "1  a5  b5  c5  d5\n",
       "2  a6  b6  c6  d6\n",
       "3  a7  b7  c7  d7"
      ]
     },
     "metadata": {},
     "output_type": "display_data"
    },
    {
     "data": {
      "text/plain": [
       "'列名を変更したデータ その2'"
      ]
     },
     "metadata": {},
     "output_type": "display_data"
    },
    {
     "data": {
      "text/html": [
       "<div>\n",
       "<style scoped>\n",
       "    .dataframe tbody tr th:only-of-type {\n",
       "        vertical-align: middle;\n",
       "    }\n",
       "\n",
       "    .dataframe tbody tr th {\n",
       "        vertical-align: top;\n",
       "    }\n",
       "\n",
       "    .dataframe thead th {\n",
       "        text-align: right;\n",
       "    }\n",
       "</style>\n",
       "<table border=\"1\" class=\"dataframe\">\n",
       "  <thead>\n",
       "    <tr style=\"text-align: right;\">\n",
       "      <th></th>\n",
       "      <th>A</th>\n",
       "      <th>C</th>\n",
       "      <th>F</th>\n",
       "      <th>H</th>\n",
       "    </tr>\n",
       "  </thead>\n",
       "  <tbody>\n",
       "    <tr>\n",
       "      <th>0</th>\n",
       "      <td>a8</td>\n",
       "      <td>b8</td>\n",
       "      <td>c8</td>\n",
       "      <td>d8</td>\n",
       "    </tr>\n",
       "    <tr>\n",
       "      <th>1</th>\n",
       "      <td>a9</td>\n",
       "      <td>b9</td>\n",
       "      <td>c9</td>\n",
       "      <td>d9</td>\n",
       "    </tr>\n",
       "    <tr>\n",
       "      <th>2</th>\n",
       "      <td>a10</td>\n",
       "      <td>b10</td>\n",
       "      <td>c10</td>\n",
       "      <td>d10</td>\n",
       "    </tr>\n",
       "    <tr>\n",
       "      <th>3</th>\n",
       "      <td>a11</td>\n",
       "      <td>b11</td>\n",
       "      <td>c11</td>\n",
       "      <td>d11</td>\n",
       "    </tr>\n",
       "  </tbody>\n",
       "</table>\n",
       "</div>"
      ],
      "text/plain": [
       "     A    C    F    H\n",
       "0   a8   b8   c8   d8\n",
       "1   a9   b9   c9   d9\n",
       "2  a10  b10  c10  d10\n",
       "3  a11  b11  c11  d11"
      ]
     },
     "metadata": {},
     "output_type": "display_data"
    },
    {
     "data": {
      "text/plain": [
       "'行方向に結合したデータ(縦結合)'"
      ]
     },
     "metadata": {},
     "output_type": "display_data"
    },
    {
     "data": {
      "text/html": [
       "<div>\n",
       "<style scoped>\n",
       "    .dataframe tbody tr th:only-of-type {\n",
       "        vertical-align: middle;\n",
       "    }\n",
       "\n",
       "    .dataframe tbody tr th {\n",
       "        vertical-align: top;\n",
       "    }\n",
       "\n",
       "    .dataframe thead th {\n",
       "        text-align: right;\n",
       "    }\n",
       "</style>\n",
       "<table border=\"1\" class=\"dataframe\">\n",
       "  <thead>\n",
       "    <tr style=\"text-align: right;\">\n",
       "      <th></th>\n",
       "      <th>A</th>\n",
       "      <th>B</th>\n",
       "      <th>C</th>\n",
       "      <th>D</th>\n",
       "      <th>E</th>\n",
       "      <th>F</th>\n",
       "      <th>G</th>\n",
       "      <th>H</th>\n",
       "    </tr>\n",
       "  </thead>\n",
       "  <tbody>\n",
       "    <tr>\n",
       "      <th>0</th>\n",
       "      <td>a0</td>\n",
       "      <td>b0</td>\n",
       "      <td>c0</td>\n",
       "      <td>d0</td>\n",
       "      <td>NaN</td>\n",
       "      <td>NaN</td>\n",
       "      <td>NaN</td>\n",
       "      <td>NaN</td>\n",
       "    </tr>\n",
       "    <tr>\n",
       "      <th>1</th>\n",
       "      <td>a1</td>\n",
       "      <td>b1</td>\n",
       "      <td>c1</td>\n",
       "      <td>d1</td>\n",
       "      <td>NaN</td>\n",
       "      <td>NaN</td>\n",
       "      <td>NaN</td>\n",
       "      <td>NaN</td>\n",
       "    </tr>\n",
       "    <tr>\n",
       "      <th>2</th>\n",
       "      <td>a2</td>\n",
       "      <td>b2</td>\n",
       "      <td>c2</td>\n",
       "      <td>d2</td>\n",
       "      <td>NaN</td>\n",
       "      <td>NaN</td>\n",
       "      <td>NaN</td>\n",
       "      <td>NaN</td>\n",
       "    </tr>\n",
       "    <tr>\n",
       "      <th>3</th>\n",
       "      <td>a3</td>\n",
       "      <td>b3</td>\n",
       "      <td>c3</td>\n",
       "      <td>d3</td>\n",
       "      <td>NaN</td>\n",
       "      <td>NaN</td>\n",
       "      <td>NaN</td>\n",
       "      <td>NaN</td>\n",
       "    </tr>\n",
       "    <tr>\n",
       "      <th>0</th>\n",
       "      <td>NaN</td>\n",
       "      <td>NaN</td>\n",
       "      <td>NaN</td>\n",
       "      <td>NaN</td>\n",
       "      <td>a4</td>\n",
       "      <td>b4</td>\n",
       "      <td>c4</td>\n",
       "      <td>d4</td>\n",
       "    </tr>\n",
       "    <tr>\n",
       "      <th>1</th>\n",
       "      <td>NaN</td>\n",
       "      <td>NaN</td>\n",
       "      <td>NaN</td>\n",
       "      <td>NaN</td>\n",
       "      <td>a5</td>\n",
       "      <td>b5</td>\n",
       "      <td>c5</td>\n",
       "      <td>d5</td>\n",
       "    </tr>\n",
       "    <tr>\n",
       "      <th>2</th>\n",
       "      <td>NaN</td>\n",
       "      <td>NaN</td>\n",
       "      <td>NaN</td>\n",
       "      <td>NaN</td>\n",
       "      <td>a6</td>\n",
       "      <td>b6</td>\n",
       "      <td>c6</td>\n",
       "      <td>d6</td>\n",
       "    </tr>\n",
       "    <tr>\n",
       "      <th>3</th>\n",
       "      <td>NaN</td>\n",
       "      <td>NaN</td>\n",
       "      <td>NaN</td>\n",
       "      <td>NaN</td>\n",
       "      <td>a7</td>\n",
       "      <td>b7</td>\n",
       "      <td>c7</td>\n",
       "      <td>d7</td>\n",
       "    </tr>\n",
       "    <tr>\n",
       "      <th>0</th>\n",
       "      <td>a8</td>\n",
       "      <td>NaN</td>\n",
       "      <td>b8</td>\n",
       "      <td>NaN</td>\n",
       "      <td>NaN</td>\n",
       "      <td>c8</td>\n",
       "      <td>NaN</td>\n",
       "      <td>d8</td>\n",
       "    </tr>\n",
       "    <tr>\n",
       "      <th>1</th>\n",
       "      <td>a9</td>\n",
       "      <td>NaN</td>\n",
       "      <td>b9</td>\n",
       "      <td>NaN</td>\n",
       "      <td>NaN</td>\n",
       "      <td>c9</td>\n",
       "      <td>NaN</td>\n",
       "      <td>d9</td>\n",
       "    </tr>\n",
       "    <tr>\n",
       "      <th>2</th>\n",
       "      <td>a10</td>\n",
       "      <td>NaN</td>\n",
       "      <td>b10</td>\n",
       "      <td>NaN</td>\n",
       "      <td>NaN</td>\n",
       "      <td>c10</td>\n",
       "      <td>NaN</td>\n",
       "      <td>d10</td>\n",
       "    </tr>\n",
       "    <tr>\n",
       "      <th>3</th>\n",
       "      <td>a11</td>\n",
       "      <td>NaN</td>\n",
       "      <td>b11</td>\n",
       "      <td>NaN</td>\n",
       "      <td>NaN</td>\n",
       "      <td>c11</td>\n",
       "      <td>NaN</td>\n",
       "      <td>d11</td>\n",
       "    </tr>\n",
       "  </tbody>\n",
       "</table>\n",
       "</div>"
      ],
      "text/plain": [
       "     A    B    C    D    E    F    G    H\n",
       "0   a0   b0   c0   d0  NaN  NaN  NaN  NaN\n",
       "1   a1   b1   c1   d1  NaN  NaN  NaN  NaN\n",
       "2   a2   b2   c2   d2  NaN  NaN  NaN  NaN\n",
       "3   a3   b3   c3   d3  NaN  NaN  NaN  NaN\n",
       "0  NaN  NaN  NaN  NaN   a4   b4   c4   d4\n",
       "1  NaN  NaN  NaN  NaN   a5   b5   c5   d5\n",
       "2  NaN  NaN  NaN  NaN   a6   b6   c6   d6\n",
       "3  NaN  NaN  NaN  NaN   a7   b7   c7   d7\n",
       "0   a8  NaN   b8  NaN  NaN   c8  NaN   d8\n",
       "1   a9  NaN   b9  NaN  NaN   c9  NaN   d9\n",
       "2  a10  NaN  b10  NaN  NaN  c10  NaN  d10\n",
       "3  a11  NaN  b11  NaN  NaN  c11  NaN  d11"
      ]
     },
     "metadata": {},
     "output_type": "display_data"
    }
   ],
   "source": [
    "import pandas as pd\n",
    "df1 = pd.read_csv(\"../data/concat_1.csv\")\n",
    "df2 = pd.read_csv(\"../data/concat_2.csv\")\n",
    "df3 = pd.read_csv(\"../data/concat_3.csv\")\n",
    "\n",
    "df1.columns = [\"A\", \"B\", \"C\", \"D\"]\n",
    "df2.columns = [\"E\", \"F\", \"G\", \"H\"]\n",
    "df3.columns = [\"A\", \"C\", \"F\", \"H\"]\n",
    "\n",
    "display(\"元データ その1\", df1)\n",
    "display(\"列名を変更したデータ その1\", df2)\n",
    "display(\"列名を変更したデータ その2\", df3)\n",
    "\n",
    "# 列名が異なるDataFrameを盾結合する場合は'diagonal'を指定する\n",
    "row_concat = pd.concat([df1, df2, df3])\n",
    "display(\"行方向に結合したデータ(縦結合)\", row_concat)"
   ]
  },
  {
   "cell_type": "code",
   "execution_count": 19,
   "metadata": {},
   "outputs": [
    {
     "data": {
      "text/plain": [
       "'元データ その1'"
      ]
     },
     "metadata": {},
     "output_type": "display_data"
    },
    {
     "data": {
      "text/html": [
       "<div><style>\n",
       ".dataframe > thead > tr,\n",
       ".dataframe > tbody > tr {\n",
       "  text-align: right;\n",
       "  white-space: pre-wrap;\n",
       "}\n",
       "</style>\n",
       "<small>shape: (4, 4)</small><table border=\"1\" class=\"dataframe\"><thead><tr><th>A</th><th>B</th><th>C</th><th>D</th></tr><tr><td>str</td><td>str</td><td>str</td><td>str</td></tr></thead><tbody><tr><td>&quot;a0&quot;</td><td>&quot;b0&quot;</td><td>&quot;c0&quot;</td><td>&quot;d0&quot;</td></tr><tr><td>&quot;a1&quot;</td><td>&quot;b1&quot;</td><td>&quot;c1&quot;</td><td>&quot;d1&quot;</td></tr><tr><td>&quot;a2&quot;</td><td>&quot;b2&quot;</td><td>&quot;c2&quot;</td><td>&quot;d2&quot;</td></tr><tr><td>&quot;a3&quot;</td><td>&quot;b3&quot;</td><td>&quot;c3&quot;</td><td>&quot;d3&quot;</td></tr></tbody></table></div>"
      ],
      "text/plain": [
       "shape: (4, 4)\n",
       "┌─────┬─────┬─────┬─────┐\n",
       "│ A   ┆ B   ┆ C   ┆ D   │\n",
       "│ --- ┆ --- ┆ --- ┆ --- │\n",
       "│ str ┆ str ┆ str ┆ str │\n",
       "╞═════╪═════╪═════╪═════╡\n",
       "│ a0  ┆ b0  ┆ c0  ┆ d0  │\n",
       "│ a1  ┆ b1  ┆ c1  ┆ d1  │\n",
       "│ a2  ┆ b2  ┆ c2  ┆ d2  │\n",
       "│ a3  ┆ b3  ┆ c3  ┆ d3  │\n",
       "└─────┴─────┴─────┴─────┘"
      ]
     },
     "metadata": {},
     "output_type": "display_data"
    },
    {
     "data": {
      "text/plain": [
       "'列名を変更したデータ その1'"
      ]
     },
     "metadata": {},
     "output_type": "display_data"
    },
    {
     "data": {
      "text/html": [
       "<div><style>\n",
       ".dataframe > thead > tr,\n",
       ".dataframe > tbody > tr {\n",
       "  text-align: right;\n",
       "  white-space: pre-wrap;\n",
       "}\n",
       "</style>\n",
       "<small>shape: (4, 4)</small><table border=\"1\" class=\"dataframe\"><thead><tr><th>E</th><th>F</th><th>G</th><th>H</th></tr><tr><td>str</td><td>str</td><td>str</td><td>str</td></tr></thead><tbody><tr><td>&quot;a4&quot;</td><td>&quot;b4&quot;</td><td>&quot;c4&quot;</td><td>&quot;d4&quot;</td></tr><tr><td>&quot;a5&quot;</td><td>&quot;b5&quot;</td><td>&quot;c5&quot;</td><td>&quot;d5&quot;</td></tr><tr><td>&quot;a6&quot;</td><td>&quot;b6&quot;</td><td>&quot;c6&quot;</td><td>&quot;d6&quot;</td></tr><tr><td>&quot;a7&quot;</td><td>&quot;b7&quot;</td><td>&quot;c7&quot;</td><td>&quot;d7&quot;</td></tr></tbody></table></div>"
      ],
      "text/plain": [
       "shape: (4, 4)\n",
       "┌─────┬─────┬─────┬─────┐\n",
       "│ E   ┆ F   ┆ G   ┆ H   │\n",
       "│ --- ┆ --- ┆ --- ┆ --- │\n",
       "│ str ┆ str ┆ str ┆ str │\n",
       "╞═════╪═════╪═════╪═════╡\n",
       "│ a4  ┆ b4  ┆ c4  ┆ d4  │\n",
       "│ a5  ┆ b5  ┆ c5  ┆ d5  │\n",
       "│ a6  ┆ b6  ┆ c6  ┆ d6  │\n",
       "│ a7  ┆ b7  ┆ c7  ┆ d7  │\n",
       "└─────┴─────┴─────┴─────┘"
      ]
     },
     "metadata": {},
     "output_type": "display_data"
    },
    {
     "data": {
      "text/plain": [
       "'列名を変更したデータ その2'"
      ]
     },
     "metadata": {},
     "output_type": "display_data"
    },
    {
     "data": {
      "text/html": [
       "<div><style>\n",
       ".dataframe > thead > tr,\n",
       ".dataframe > tbody > tr {\n",
       "  text-align: right;\n",
       "  white-space: pre-wrap;\n",
       "}\n",
       "</style>\n",
       "<small>shape: (4, 4)</small><table border=\"1\" class=\"dataframe\"><thead><tr><th>A</th><th>C</th><th>F</th><th>H</th></tr><tr><td>str</td><td>str</td><td>str</td><td>str</td></tr></thead><tbody><tr><td>&quot;a8&quot;</td><td>&quot;b8&quot;</td><td>&quot;c8&quot;</td><td>&quot;d8&quot;</td></tr><tr><td>&quot;a9&quot;</td><td>&quot;b9&quot;</td><td>&quot;c9&quot;</td><td>&quot;d9&quot;</td></tr><tr><td>&quot;a10&quot;</td><td>&quot;b10&quot;</td><td>&quot;c10&quot;</td><td>&quot;d10&quot;</td></tr><tr><td>&quot;a11&quot;</td><td>&quot;b11&quot;</td><td>&quot;c11&quot;</td><td>&quot;d11&quot;</td></tr></tbody></table></div>"
      ],
      "text/plain": [
       "shape: (4, 4)\n",
       "┌─────┬─────┬─────┬─────┐\n",
       "│ A   ┆ C   ┆ F   ┆ H   │\n",
       "│ --- ┆ --- ┆ --- ┆ --- │\n",
       "│ str ┆ str ┆ str ┆ str │\n",
       "╞═════╪═════╪═════╪═════╡\n",
       "│ a8  ┆ b8  ┆ c8  ┆ d8  │\n",
       "│ a9  ┆ b9  ┆ c9  ┆ d9  │\n",
       "│ a10 ┆ b10 ┆ c10 ┆ d10 │\n",
       "│ a11 ┆ b11 ┆ c11 ┆ d11 │\n",
       "└─────┴─────┴─────┴─────┘"
      ]
     },
     "metadata": {},
     "output_type": "display_data"
    },
    {
     "data": {
      "text/plain": [
       "'行方向に結合したデータ(縦結合)'"
      ]
     },
     "metadata": {},
     "output_type": "display_data"
    },
    {
     "data": {
      "text/html": [
       "<div><style>\n",
       ".dataframe > thead > tr,\n",
       ".dataframe > tbody > tr {\n",
       "  text-align: right;\n",
       "  white-space: pre-wrap;\n",
       "}\n",
       "</style>\n",
       "<small>shape: (12, 8)</small><table border=\"1\" class=\"dataframe\"><thead><tr><th>A</th><th>B</th><th>C</th><th>D</th><th>E</th><th>F</th><th>G</th><th>H</th></tr><tr><td>str</td><td>str</td><td>str</td><td>str</td><td>str</td><td>str</td><td>str</td><td>str</td></tr></thead><tbody><tr><td>&quot;a0&quot;</td><td>&quot;b0&quot;</td><td>&quot;c0&quot;</td><td>&quot;d0&quot;</td><td>null</td><td>null</td><td>null</td><td>null</td></tr><tr><td>&quot;a1&quot;</td><td>&quot;b1&quot;</td><td>&quot;c1&quot;</td><td>&quot;d1&quot;</td><td>null</td><td>null</td><td>null</td><td>null</td></tr><tr><td>&quot;a2&quot;</td><td>&quot;b2&quot;</td><td>&quot;c2&quot;</td><td>&quot;d2&quot;</td><td>null</td><td>null</td><td>null</td><td>null</td></tr><tr><td>&quot;a3&quot;</td><td>&quot;b3&quot;</td><td>&quot;c3&quot;</td><td>&quot;d3&quot;</td><td>null</td><td>null</td><td>null</td><td>null</td></tr><tr><td>null</td><td>null</td><td>null</td><td>null</td><td>&quot;a4&quot;</td><td>&quot;b4&quot;</td><td>&quot;c4&quot;</td><td>&quot;d4&quot;</td></tr><tr><td>null</td><td>null</td><td>null</td><td>null</td><td>&quot;a5&quot;</td><td>&quot;b5&quot;</td><td>&quot;c5&quot;</td><td>&quot;d5&quot;</td></tr><tr><td>null</td><td>null</td><td>null</td><td>null</td><td>&quot;a6&quot;</td><td>&quot;b6&quot;</td><td>&quot;c6&quot;</td><td>&quot;d6&quot;</td></tr><tr><td>null</td><td>null</td><td>null</td><td>null</td><td>&quot;a7&quot;</td><td>&quot;b7&quot;</td><td>&quot;c7&quot;</td><td>&quot;d7&quot;</td></tr><tr><td>&quot;a8&quot;</td><td>null</td><td>&quot;b8&quot;</td><td>null</td><td>null</td><td>&quot;c8&quot;</td><td>null</td><td>&quot;d8&quot;</td></tr><tr><td>&quot;a9&quot;</td><td>null</td><td>&quot;b9&quot;</td><td>null</td><td>null</td><td>&quot;c9&quot;</td><td>null</td><td>&quot;d9&quot;</td></tr><tr><td>&quot;a10&quot;</td><td>null</td><td>&quot;b10&quot;</td><td>null</td><td>null</td><td>&quot;c10&quot;</td><td>null</td><td>&quot;d10&quot;</td></tr><tr><td>&quot;a11&quot;</td><td>null</td><td>&quot;b11&quot;</td><td>null</td><td>null</td><td>&quot;c11&quot;</td><td>null</td><td>&quot;d11&quot;</td></tr></tbody></table></div>"
      ],
      "text/plain": [
       "shape: (12, 8)\n",
       "┌─────┬──────┬─────┬──────┬──────┬──────┬──────┬──────┐\n",
       "│ A   ┆ B    ┆ C   ┆ D    ┆ E    ┆ F    ┆ G    ┆ H    │\n",
       "│ --- ┆ ---  ┆ --- ┆ ---  ┆ ---  ┆ ---  ┆ ---  ┆ ---  │\n",
       "│ str ┆ str  ┆ str ┆ str  ┆ str  ┆ str  ┆ str  ┆ str  │\n",
       "╞═════╪══════╪═════╪══════╪══════╪══════╪══════╪══════╡\n",
       "│ a0  ┆ b0   ┆ c0  ┆ d0   ┆ null ┆ null ┆ null ┆ null │\n",
       "│ a1  ┆ b1   ┆ c1  ┆ d1   ┆ null ┆ null ┆ null ┆ null │\n",
       "│ a2  ┆ b2   ┆ c2  ┆ d2   ┆ null ┆ null ┆ null ┆ null │\n",
       "│ a3  ┆ b3   ┆ c3  ┆ d3   ┆ null ┆ null ┆ null ┆ null │\n",
       "│ …   ┆ …    ┆ …   ┆ …    ┆ …    ┆ …    ┆ …    ┆ …    │\n",
       "│ a8  ┆ null ┆ b8  ┆ null ┆ null ┆ c8   ┆ null ┆ d8   │\n",
       "│ a9  ┆ null ┆ b9  ┆ null ┆ null ┆ c9   ┆ null ┆ d9   │\n",
       "│ a10 ┆ null ┆ b10 ┆ null ┆ null ┆ c10  ┆ null ┆ d10  │\n",
       "│ a11 ┆ null ┆ b11 ┆ null ┆ null ┆ c11  ┆ null ┆ d11  │\n",
       "└─────┴──────┴─────┴──────┴──────┴──────┴──────┴──────┘"
      ]
     },
     "metadata": {},
     "output_type": "display_data"
    }
   ],
   "source": [
    "import polars as pl\n",
    "df1 = pl.read_csv(\"../data/concat_1.csv\")\n",
    "df2 = pl.read_csv(\"../data/concat_2.csv\")\n",
    "df3 = pl.read_csv(\"../data/concat_3.csv\")\n",
    "\n",
    "df1.columns = [\"A\", \"B\", \"C\", \"D\"]\n",
    "df2.columns = [\"E\", \"F\", \"G\", \"H\"]\n",
    "df3.columns = [\"A\", \"C\", \"F\", \"H\"]\n",
    "\n",
    "display(\"元データ その1\", df1)\n",
    "display(\"列名を変更したデータ その1\", df2)\n",
    "display(\"列名を変更したデータ その2\", df3)\n",
    "\n",
    "# 列名が異なるDataFrameを盾結合する場合は'diagonal'を指定する\n",
    "row_concat = pl.concat(items = [df1, df2, df3], how = 'diagonal')\n",
    "display(\"行方向に結合したデータ(縦結合)\", row_concat)"
   ]
  },
  {
   "cell_type": "markdown",
   "metadata": {},
   "source": [
    "#### 6.2.4.2 行に相違のある列を連結する\n",
    "polarsにindexは無いので、この節は省略\n",
    "## 6.3 データが観測単位ごとの表に分かれている場合\n",
    "github上に書籍で紹介されているデータがないのでスキップする"
   ]
  }
 ],
 "metadata": {
  "kernelspec": {
   "display_name": "Python 3",
   "language": "python",
   "name": "python3"
  },
  "language_info": {
   "codemirror_mode": {
    "name": "ipython",
    "version": 3
   },
   "file_extension": ".py",
   "mimetype": "text/x-python",
   "name": "python",
   "nbconvert_exporter": "python",
   "pygments_lexer": "ipython3",
   "version": "3.11.4"
  }
 },
 "nbformat": 4,
 "nbformat_minor": 2
}
