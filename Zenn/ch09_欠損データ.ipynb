{
 "cells": [
  {
   "cell_type": "markdown",
   "metadata": {},
   "source": [
    "# 第3部 Data Types\n",
    "## 第9章 欠損データ\n",
    "### 9.1 NaNとは何か"
   ]
  },
  {
   "cell_type": "code",
   "execution_count": null,
   "metadata": {},
   "outputs": [],
   "source": [
    "from numpy import NaN, NAN, nan\n",
    "print(\"NaN は True と等しくない\", NaN == True)\n",
    "print(\"NaN は 0 と等しくない\", NaN == 0)\n",
    "print(\"NaN は '' と等しくない\", NaN == \"\")\n",
    "print(\"NaN は NaN と等しくない\", NaN == NaN)\n",
    "print(\"NaN は NAN と等しくない\", NaN == NAN, \"\\n\")\n",
    "\n",
    "print(\"NaN は nan と等しくない\", NaN == nan)\n",
    "print(\"nan は NAN と等しくない\", nan == NAN)"
   ]
  },
  {
   "cell_type": "code",
   "execution_count": null,
   "metadata": {},
   "outputs": [],
   "source": [
    "from numpy import NaN, NAN, nan\n",
    "import pandas as pd\n",
    "print(\"欠損値の判定\", pd.isnull(NaN))\n",
    "print(\"欠損値の判定\", pd.isnull(nan))\n",
    "print(\"欠損値の判定\", pd.isnull(NAN), \"\\n\")\n",
    "\n",
    "print(\"非欠損値の判定\", pd.notnull(NaN))\n",
    "print(\"非欠損値の判定\", pd.notnull(42))\n",
    "print(\"非欠損値の判定\", pd.notnull(\"missing\"))"
   ]
  },
  {
   "cell_type": "code",
   "execution_count": null,
   "metadata": {},
   "outputs": [],
   "source": [
    "from numpy import NaN, NAN, nan\n",
    "import polars as pl\n",
    "# polarsはスカラー値のNaN判定は無い\n",
    "s = pl.Series(\"Check missing values\", [NaN, nan, NAN, \"missing\"])\n",
    "display(\"元データの確認\", s)\n",
    "display(\"欠損値の判定\", s.is_null())\n",
    "display(\"非欠損値の判定\", s.is_not_null())"
   ]
  },
  {
   "cell_type": "markdown",
   "metadata": {},
   "source": [
    "### 9.2 欠損値はどこから来るのか\n",
    "#### 9.2.1 データのロード"
   ]
  },
  {
   "cell_type": "code",
   "execution_count": null,
   "metadata": {},
   "outputs": [],
   "source": [
    "import pandas as pd\n",
    "visited_file = \"../data/survey_visited.csv\"\n",
    "display(\"読み込んだファイルの元データ\", pd.read_csv(visited_file))\n",
    "\n",
    "display(\"欠損値をNaNに変更しない\", pd.read_csv(visited_file, keep_default_na = False))\n",
    "\n",
    "display(\"空白をNaNにするパラメータとの競合を確認する\", pd.read_csv(visited_file, na_values = [\"\"], keep_default_na = False))"
   ]
  },
  {
   "cell_type": "code",
   "execution_count": null,
   "metadata": {},
   "outputs": [],
   "source": [
    "import polars as pl\n",
    "visited_file = \"../data/survey_visited.csv\"\n",
    "display(\"読み込んだファイルの元データ\", pl.read_csv(visited_file))\n",
    "\n",
    "display(\"欠損値をNaNに変更しない\", pl.read_csv(visited_file, missing_utf8_is_empty_string = True))\n",
    "\n",
    "display(\"空白をNaNにするパラメータとの競合を確認する\", pl.read_csv(visited_file, null_values = [\"\"], missing_utf8_is_empty_string = True))"
   ]
  },
  {
   "cell_type": "markdown",
   "metadata": {},
   "source": [
    "#### 9.2.2 マージ後のデータ"
   ]
  },
  {
   "cell_type": "code",
   "execution_count": null,
   "metadata": {},
   "outputs": [],
   "source": [
    "import pandas as pd\n",
    "visited = pd.read_csv(\"../data/survey_visited.csv\")\n",
    "survey = pd.read_csv(\"../data/survey_survey.csv\")\n",
    "display(\"訪問地の元データ\", visited)\n",
    "display(\"調査地の元データ\", survey)\n",
    "\n",
    "vs = visited.merge(survey, left_on = \"ident\", right_on = \"taken\")\n",
    "display(\"結合後のデータ\", vs)"
   ]
  },
  {
   "cell_type": "code",
   "execution_count": null,
   "metadata": {},
   "outputs": [],
   "source": [
    "import polars as pl\n",
    "visited = pl.read_csv(\"../data/survey_visited.csv\")\n",
    "survey = pl.read_csv(\"../data/survey_survey.csv\")\n",
    "display(\"訪問地の元データ\", visited)\n",
    "display(\"調査地の元データ\", survey)\n",
    "\n",
    "vs = visited.join(survey, left_on = \"ident\", right_on = \"taken\")\n",
    "display(\"結合後のデータ\", vs)"
   ]
  },
  {
   "cell_type": "markdown",
   "metadata": {},
   "source": [
    "#### 9.2.3 ユーザー入力"
   ]
  },
  {
   "cell_type": "code",
   "execution_count": null,
   "metadata": {},
   "outputs": [],
   "source": [
    "import pandas as pd\n",
    "from numpy import NaN, NAN, nan\n",
    "num_legs = pd.Series({\"goat\": 4, \"amoeba\": nan})\n",
    "display(\"元データ\", num_legs)\n",
    "\n",
    "scientists = pd.DataFrame({\n",
    "    \"Name\": [\"Rosaline Franklin\", \"William Gosset\"],\n",
    "    \"Occupation\": [\"Chemist\", \"Statistician\"],\n",
    "    \"Born\": [\"1920-07-25\", \"1876-06-13\"],\n",
    "    \"Died\": [\"1958-04-16\", \"1937-10-16\"],\n",
    "    \"missing\": [NaN, nan]\n",
    "    })\n",
    "display(\"欠損値有のDataFrame\", scientists)\n",
    "\n",
    "print(\"先のDataFrameのデータ型\", scientists.dtypes, \"\\n\")\n",
    "\n",
    "\n",
    "scientists = pd.DataFrame({\n",
    "    \"Name\": [\"Rosaline Franklin\", \"William Gosset\"],\n",
    "    \"Occupation\": [\"Chemist\", \"Statistician\"],\n",
    "    \"Born\": [\"1920-07-25\", \"1876-06-13\"],\n",
    "    \"Died\": [\"1958-04-16\", \"1937-10-16\"]\n",
    "    })\n",
    "scientists[\"missing\"] = nan\n",
    "display(\"全要素が欠損値の列を加えたのDataFrame\", scientists)"
   ]
  },
  {
   "cell_type": "code",
   "execution_count": null,
   "metadata": {},
   "outputs": [],
   "source": [
    "import polars as pl\n",
    "from numpy import NaN, NAN, nan\n",
    "# polarsにはindexが無いのでこれはコメントアウトする\n",
    "#num_legs = pl.Series({\"goat\": 4, \"amoeba\": nan})\n",
    "#display(\"元データ\", num_legs)\n",
    "\n",
    "scientists = pl.DataFrame({\n",
    "    \"Name\": [\"Rosaline Franklin\", \"William Gosset\"],\n",
    "    \"Occupation\": [\"Chemist\", \"Statistician\"],\n",
    "    \"Born\": [\"1920-07-25\", \"1876-06-13\"],\n",
    "    \"Died\": [\"1958-04-16\", \"1937-10-16\"],\n",
    "    \"missing\": [NaN, nan]\n",
    "    })\n",
    "display(\"欠損値有のDataFrame\", scientists)\n",
    "\n",
    "print(\"先のDataFrameのデータ型\", scientists.dtypes, \"\\n\")\n",
    "\n",
    "\n",
    "scientists = pl.DataFrame({\n",
    "    \"Name\": [\"Rosaline Franklin\", \"William Gosset\"],\n",
    "    \"Occupation\": [\"Chemist\", \"Statistician\"],\n",
    "    \"Born\": [\"1920-07-25\", \"1876-06-13\"],\n",
    "    \"Died\": [\"1958-04-16\", \"1937-10-16\"]\n",
    "    })\n",
    "#scientists[\"missing\"] = nan\n",
    "scientists = (\n",
    "    scientists.with_columns([\n",
    "        pl.Series(\"missing\", [nan] * len(scientists))\n",
    "    ])\n",
    ")\n",
    "display(\"全要素が欠損値の列を加えたのDataFrame\", scientists)"
   ]
  },
  {
   "cell_type": "markdown",
   "metadata": {},
   "source": [
    "#### 9.2.4 インデックスの振りなおし\n",
    "polarsには欠損値が無いので省略\n",
    "### 9.3 欠損データの扱い\n",
    "#### 9.3.1 欠損データを数える"
   ]
  },
  {
   "cell_type": "code",
   "execution_count": null,
   "metadata": {},
   "outputs": [],
   "source": [
    "import pandas as pd\n",
    "\n",
    "ebola = pd.read_csv(\"../data/country_timeseries.csv\")\n",
    "display(\"非欠損値の総数を求める\", ebola.count())\n",
    "\n",
    "num_rows = ebola.shape[0]\n",
    "num_missing = num_rows - ebola.count()\n",
    "display(\"欠損データの数\", num_missing)\n",
    "\n",
    "import numpy as np\n",
    "display(\"データに含まれている欠損値の数\", np.count_nonzero(ebola.isnull()))\n",
    "display(\"データに含まれている欠損値の数\", np.count_nonzero(ebola[\"Cases_Guinea\"].isnull()))\n",
    "\n",
    "cnts = ebola[\"Cases_Guinea\"].value_counts(dropna = False)\n",
    "display(\"データに含まれている欠損値の数\", cnts)\n",
    "\n",
    "display(\"欠損値の数\", ebola[\"Cases_Guinea\"].isnull().sum())"
   ]
  },
  {
   "cell_type": "code",
   "execution_count": null,
   "metadata": {},
   "outputs": [],
   "source": [
    "import polars as pl\n",
    "\n",
    "ebola = pl.read_csv(\"../data/country_timeseries.csv\")\n",
    "# not_null_countは無い\n",
    "#display(\"非欠損値の総数を求める\", ebola.count())\n",
    "\n",
    "#num_rows = ebola.shape[0]\n",
    "#num_missing = num_rows - ebola.count()\n",
    "display(\"欠損データの数\", ebola.null_count())\n",
    "\n",
    "import numpy as np\n",
    "#良くわからなかった\n",
    "#display(\"データに含まれている欠損値の数\", np.count_nonzero(ebola.is_null()))\n",
    "#display(\"データに含まれている欠損値の数\", np.count_nonzero(ebola[\"Cases_Guinea\"].is_null()))\n",
    "\n",
    "cnts = ebola[\"Cases_Guinea\"].value_counts(sort = True)\n",
    "display(\"データに含まれている欠損値の数\", cnts)\n",
    "\n",
    "display(\"欠損値の数\", ebola[\"Cases_Guinea\"].is_null().sum())"
   ]
  },
  {
   "cell_type": "markdown",
   "metadata": {},
   "source": [
    "#### 9.3.2 欠損データのクリーニング\n",
    "#### 9.3.2.1 欠損値の変換"
   ]
  },
  {
   "cell_type": "code",
   "execution_count": null,
   "metadata": {},
   "outputs": [],
   "source": [
    "import pandas as pd\n",
    "ebola = pd.read_csv(\"../data/country_timeseries.csv\")\n",
    "display(\"欠損値を 0 で埋め、最初の5列を見る\", ebola.fillna(0).iloc[:, 0:5])"
   ]
  },
  {
   "cell_type": "markdown",
   "metadata": {},
   "source": [
    "#### 9.3.2.2 前の値で置換する(Forward Fill)"
   ]
  },
  {
   "cell_type": "code",
   "execution_count": null,
   "metadata": {},
   "outputs": [],
   "source": [
    "import pandas as pd\n",
    "ebola = pd.read_csv(\"../data/country_timeseries.csv\")\n",
    "display(\"欠損値を 前方の値 で埋め、最初の5列を見る\", ebola.fillna(method = \"ffill\").iloc[:, 0:5])"
   ]
  },
  {
   "cell_type": "code",
   "execution_count": null,
   "metadata": {},
   "outputs": [],
   "source": [
    "import polars as pl\n",
    "ebola = pl.read_csv(\"../data/country_timeseries.csv\")\n",
    "display(\"欠損値を 前方の値 で埋め、最初の5列を見る\", ebola.fill_null(strategy = \"forward\")[:, 0:5])"
   ]
  },
  {
   "cell_type": "markdown",
   "metadata": {},
   "source": [
    "#### 9.3.2.3 後の値で置換する(Backward Fill)"
   ]
  },
  {
   "cell_type": "code",
   "execution_count": null,
   "metadata": {},
   "outputs": [],
   "source": [
    "import pandas as pd\n",
    "ebola = pd.read_csv(\"../data/country_timeseries.csv\")\n",
    "display(\"欠損値を 前方の値 で埋め、最初の5列を見る\", ebola.fillna(method = \"bfill\").iloc[:, 0:5])"
   ]
  },
  {
   "cell_type": "code",
   "execution_count": null,
   "metadata": {},
   "outputs": [],
   "source": [
    "import polars as pl\n",
    "ebola = pl.read_csv(\"../data/country_timeseries.csv\")\n",
    "display(\"欠損値を 前方の値 で埋め、最初の5列を見る\", ebola.fill_null(strategy = \"backward\")[:, 0:5])"
   ]
  },
  {
   "cell_type": "markdown",
   "metadata": {},
   "source": [
    "#### 9.3.2.4 補間"
   ]
  },
  {
   "cell_type": "code",
   "execution_count": null,
   "metadata": {},
   "outputs": [],
   "source": [
    "import pandas as pd\n",
    "ebola = pd.read_csv(\"../data/country_timeseries.csv\")\n",
    "display(\"欠損値を 前方の値 で埋め、最初の5列を見る\", ebola.interpolate().iloc[:, 0:5])"
   ]
  },
  {
   "cell_type": "code",
   "execution_count": null,
   "metadata": {},
   "outputs": [],
   "source": [
    "import polars as pl\n",
    "ebola = pl.read_csv(\"../data/country_timeseries.csv\")\n",
    "display(\"欠損値を 前方の値 で埋め、最初の5列を見る\", ebola.interpolate()[:, 0:5])"
   ]
  },
  {
   "cell_type": "markdown",
   "metadata": {},
   "source": [
    "#### 9.3.3 欠損データのある計算"
   ]
  },
  {
   "cell_type": "code",
   "execution_count": null,
   "metadata": {},
   "outputs": [],
   "source": [
    "import pandas as pd\n",
    "ebola = pd.read_csv(\"../data/country_timeseries.csv\")\n",
    "ebola[\"Cases_multiple\"] = (\n",
    "    ebola[\"Cases_Guinea\"]\n",
    "    + ebola[\"Cases_Liberia\"]\n",
    "    + ebola[\"Cases_SierraLeone\"]\n",
    ")\n",
    "\n",
    "ebola_subset = ebola.loc[:,\n",
    "                         [\n",
    "                             \"Cases_Guinea\",\n",
    "                             \"Cases_Liberia\",\n",
    "                             \"Cases_SierraLeone\",\n",
    "                             \"Cases_multiple\"\n",
    "                         ]]\n",
    "display(\"複数の地域における出現回数を含む新しい列を含むDataFrameの先頭10行\", ebola_subset.head(n = 10))\n",
    "\n",
    "print(\"欠損値を省略して、出現回数の和を計算する\", ebola[\"Cases_Guinea\"].sum(skipna = True))\n",
    "print(\"欠損値を省略せず、出現回数の和を計算する\", ebola[\"Cases_Guinea\"].sum(skipna = False))"
   ]
  },
  {
   "cell_type": "code",
   "execution_count": null,
   "metadata": {},
   "outputs": [],
   "source": [
    "import polars as pl\n",
    "ebola = pl.read_csv(\"../data/country_timeseries.csv\")\n",
    "ebola = (\n",
    "    ebola.with_columns([\n",
    "        (ebola[\"Cases_Guinea\"]\n",
    "         + ebola[\"Cases_Liberia\"]\n",
    "         + ebola[\"Cases_SierraLeone\"]).alias(\"Cases_multiple\")\n",
    "         ])\n",
    "         )\n",
    "\n",
    "ebola_subset = ebola[:,\n",
    "                         [\n",
    "                             \"Cases_Guinea\",\n",
    "                             \"Cases_Liberia\",\n",
    "                             \"Cases_SierraLeone\",\n",
    "                             \"Cases_multiple\"\n",
    "                         ]]\n",
    "display(\"複数の地域における出現回数を含む新しい列を含むDataFrameの先頭10行\", ebola_subset.head(n = 10))\n",
    "\n",
    "# polars には skipna = True はない\n",
    "print(\"欠損値を省略して、出現回数の和を計算する\", ebola[\"Cases_Guinea\"].sum())\n",
    "#print(\"欠損値を省略せず、出現回数の和を計算する\", ebola[\"Cases_Guinea\"].sum(skipna = False))"
   ]
  },
  {
   "cell_type": "markdown",
   "metadata": {},
   "source": [
    "### 9.4 pandas組込みのNA(欠損値)\n",
    "省略\n",
    "### 9.5 まとめ\n",
    "省略"
   ]
  }
 ],
 "metadata": {
  "kernelspec": {
   "display_name": "Python 3",
   "language": "python",
   "name": "python3"
  },
  "language_info": {
   "codemirror_mode": {
    "name": "ipython",
    "version": 3
   },
   "file_extension": ".py",
   "mimetype": "text/x-python",
   "name": "python",
   "nbconvert_exporter": "python",
   "pygments_lexer": "ipython3",
   "version": "3.11.4"
  }
 },
 "nbformat": 4,
 "nbformat_minor": 2
}
