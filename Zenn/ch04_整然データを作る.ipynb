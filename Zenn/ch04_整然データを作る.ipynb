{
 "cells": [
  {
   "cell_type": "markdown",
   "metadata": {},
   "source": [
    "## 第4章 「整然データ」を作る\n",
    "### 4.1 列に(変数ではなく)値が入っているとき\n",
    "#### 4.1.1 1列に集める"
   ]
  },
  {
   "cell_type": "code",
   "execution_count": null,
   "metadata": {},
   "outputs": [],
   "source": [
    "import pandas as pd\n",
    "pew = pd.read_csv(\"../data/pew.csv\")\n",
    "display(\"最初の5列を表示する\", pew.iloc[:, 0:5])\n",
    "pew_long = pew.melt(id_vars = \"religion\", var_name = \"income\", value_name = \"count\")\n",
    "display(\"縦持ちデータを表示する\", pew_long)"
   ]
  },
  {
   "cell_type": "code",
   "execution_count": null,
   "metadata": {},
   "outputs": [],
   "source": [
    "import polars as pl\n",
    "pew = pl.read_csv(\"../data/pew.csv\")\n",
    "display(\"最初の5列を表示する\", pew[:, 0:5])\n",
    "pew_long = pew.melt(id_vars = \"religion\", variable_name = \"income\", value_name = \"count\")\n",
    "display(\"縦持ちデータを表示する\", pew_long)"
   ]
  },
  {
   "cell_type": "markdown",
   "metadata": {},
   "source": [
    "#### 4.1.2 複数の列を残す"
   ]
  },
  {
   "cell_type": "code",
   "execution_count": null,
   "metadata": {},
   "outputs": [],
   "source": [
    "import pandas as pd\n",
    "billboard = pd.read_csv(\"../data/billboard.csv\")\n",
    "display(\"列および行の先頭部分を表示する\", billboard.iloc[0:5, 0:16])\n",
    "billboard_long = billboard\\\n",
    "    .melt(id_vars = [\"year\", \"artist\", \"track\", \"time\", \"date.entered\"],\n",
    "           var_name = \"week\",\n",
    "             value_name = \"rating\")\n",
    "display(\"縦持ちデータを表示する\", billboard_long)"
   ]
  },
  {
   "cell_type": "code",
   "execution_count": null,
   "metadata": {},
   "outputs": [],
   "source": [
    "import polars as pl\n",
    "billboard = pl.read_csv(\"../data/billboard.csv\")\n",
    "display(\"列および行の先頭部分を表示する\", billboard[0:5, 0:16])\n",
    "billboard_long = billboard\\\n",
    "    .melt(id_vars = [\"year\", \"artist\", \"track\", \"time\", \"date.entered\"],\n",
    "           variable_name = \"week\",\n",
    "             value_name = \"rating\")\n",
    "display(\"縦持ちデータを表示する\", billboard_long)"
   ]
  },
  {
   "cell_type": "markdown",
   "metadata": {},
   "source": [
    "### 4.2 複数の変数を含む列があるとき"
   ]
  },
  {
   "cell_type": "code",
   "execution_count": null,
   "metadata": {},
   "outputs": [],
   "source": [
    "import pandas as pd\n",
    "ebola = pd.read_csv(\"../data/country_timeseries.csv\")\n",
    "display(\"先頭のデータを表示する\", ebola.head(n = 3))\n",
    "ebola_long = ebola.melt(id_vars = [\"Date\", \"Day\"])\n",
    "display(\"縦持ちデータを表示する\", ebola_long.head(n = 3))"
   ]
  },
  {
   "cell_type": "code",
   "execution_count": null,
   "metadata": {},
   "outputs": [],
   "source": [
    "import polars as pl\n",
    "ebola = pl.read_csv(\"../data/country_timeseries.csv\")\n",
    "display(\"先頭のデータを表示する\", ebola.head(n = 3))\n",
    "ebola_long = ebola.melt(id_vars = [\"Date\", \"Day\"])\n",
    "display(\"縦持ちデータを表示する\", ebola_long.head(n = 3))"
   ]
  },
  {
   "cell_type": "markdown",
   "metadata": {},
   "source": [
    "#### 4.2.1 列を分解して個別に追加する"
   ]
  },
  {
   "cell_type": "code",
   "execution_count": null,
   "metadata": {},
   "outputs": [],
   "source": [
    "import pandas as pd\n",
    "ebola = pd.read_csv(\"../data/country_timeseries.csv\")\n",
    "ebola_long = ebola.melt(id_vars = [\"Date\", \"Day\"])\n",
    "\n",
    "variable_split = ebola_long[\"variable\"].str.split(\"_\")\n",
    "display(\"発症_国名のデータを分割する\", variable_split.head(n = 3))\n",
    "print(\"分割した列のデータ型\", type(variable_split), \"\\n\")\n",
    "print(\"分割した列の最初の要素のデータ型\", type(variable_split[0]), \"\\n\")\n",
    "\n",
    "status_values = variable_split.str.get(0)\n",
    "country_values = variable_split.str.get(1)\n",
    "ebola_long[\"status\"] = status_values\n",
    "ebola_long[\"country\"] = country_values\n",
    "display(\"分割した列を縦持ちデータに追加する\", ebola_long)"
   ]
  },
  {
   "cell_type": "code",
   "execution_count": null,
   "metadata": {},
   "outputs": [],
   "source": [
    "import polars as pl\n",
    "ebola = pl.read_csv(\"../data/country_timeseries.csv\")\n",
    "ebola_long = ebola.melt(id_vars = [\"Date\", \"Day\"])\n",
    "\n",
    "variable_split = ebola_long[\"variable\"].str.split(\"_\")\n",
    "display(\"発症_国名のデータを分割する\", variable_split.head(n = 3))\n",
    "print(\"分割した列のデータ型\", type(variable_split), \"\\n\")\n",
    "print(\"分割した列の最初の要素のデータ型\", type(variable_split[0]), \"\\n\")\n",
    "\n",
    "df_variable_split = ebola_long[\"variable\"]\\\n",
    "        .str.split_exact(\"_\", 1)\\\n",
    "                .struct.rename_fields([\"status\", \"country\"])\\\n",
    "                            .alias(\"fields\")\\\n",
    "                                .to_frame().unnest(\"fields\")\n",
    "\n",
    "status_values = df_variable_split[\"status\"]\n",
    "country_values = df_variable_split[\"country\"]\n",
    "ebola_long = ebola_long.with_columns([\n",
    "    status_values,\n",
    "    country_values\n",
    "])\n",
    "display(\"分割した列を縦持ちデータに追加する\", ebola_long)"
   ]
  },
  {
   "cell_type": "markdown",
   "metadata": {},
   "source": [
    "#### 4.2.2 分割と結合を一度に行う"
   ]
  },
  {
   "cell_type": "code",
   "execution_count": null,
   "metadata": {},
   "outputs": [],
   "source": [
    "import pandas as pd\n",
    "ebola = pd.read_csv(\"../data/country_timeseries.csv\")\n",
    "\n",
    "ebola_long = ebola.melt(id_vars = [\"Date\", \"Day\"])\n",
    "\n",
    "variable_split = ebola_long.variable.str.split(\"_\", expand = True)\n",
    "ebola_long[ [\"status\", \"country\"] ] = variable_split\n",
    "display(\"分割した列を縦持ちデータに追加する\", ebola_long.head(n = 3))"
   ]
  },
  {
   "cell_type": "code",
   "execution_count": null,
   "metadata": {},
   "outputs": [],
   "source": [
    "import polars as pl\n",
    "ebola = pl.read_csv(\"../data/country_timeseries.csv\")\n",
    "\n",
    "#polarsで同様のことを行う場合 その1\n",
    "#Series表記の場合、to_fram()とunnest()メソッドが必要\n",
    "ebola_long = ebola.melt(id_vars = [\"Date\", \"Day\"])\n",
    "\n",
    "ebola_long = ebola_long.with_columns(\n",
    "    ebola_long[\"variable\"]\\\n",
    "        .str.split_exact(\"_\", 1)\\\n",
    "                .struct.rename_fields([\"status\", \"country\"])\\\n",
    "                            .alias(\"fields\")\\\n",
    "                                .to_frame()\\\n",
    "                                        .unnest(\"fields\")\n",
    ")\n",
    "\n",
    "display(\"分割した列を縦持ちデータに追加する\", ebola_long.head(n = 3))"
   ]
  },
  {
   "cell_type": "code",
   "execution_count": null,
   "metadata": {},
   "outputs": [],
   "source": [
    "import polars as pl\n",
    "ebola = pl.read_csv(\"../data/country_timeseries.csv\")\n",
    "\n",
    "#polarsで同様のことを行う場合 その2\n",
    "#pl.cpl()を用いる場合、unnestは最後につける\n",
    "ebola_long = ebola.melt(id_vars = [\"Date\", \"Day\"])\n",
    "\n",
    "ebola_long = ebola_long.with_columns(\n",
    "    pl.col(\"variable\")\\\n",
    "        .str.split_exact(\"_\", 1)\\\n",
    "                .struct.rename_fields([\"status\", \"country\"])\\\n",
    "                            .alias(\"fields\")\n",
    ").unnest(\"fields\")\n",
    "\n",
    "display(\"分割した列を縦持ちデータに追加する\", ebola_long.head(n = 3))"
   ]
  },
  {
   "cell_type": "markdown",
   "metadata": {},
   "source": [
    "### 4.3 行と列の両方に変数があるとき"
   ]
  },
  {
   "cell_type": "code",
   "execution_count": null,
   "metadata": {},
   "outputs": [],
   "source": [
    "import pandas as pd\n",
    "weather = pd.read_csv(\"../data/weather.csv\")\n",
    "display(\"元のデータの表示\", weather.head(n = 3))\n",
    "\n",
    "weather_melt = weather.melt(\n",
    "    id_vars = [\"id\", \"year\", \"month\", \"element\"],\n",
    "    var_name = \"day\",\n",
    "    value_name = \"temp\"\n",
    ")\n",
    "display(\"縦持ちデータの表示\", weather_melt.head(n = 3))\n",
    "\n",
    "weather_tidy = weather_melt.pivot(\n",
    "    index = [\"id\", \"year\", \"month\", \"day\"],\n",
    "    columns = \"element\",\n",
    "    values = \"temp\"\n",
    ")\n",
    "display(\"気温の最大値・最小値をピボット展開したデータの表示\", weather_tidy.head(n = 3))\n",
    "\n",
    "#pandasで層別indexを分解したい場合\n",
    "#weather_tidy_flat = weather_tidy.reset_index()"
   ]
  },
  {
   "cell_type": "code",
   "execution_count": null,
   "metadata": {},
   "outputs": [],
   "source": [
    "import polars as pl\n",
    "weather = pl.read_csv(\"../data/weather.csv\")\n",
    "display(\"元のデータの表示\", weather.head(n = 3))\n",
    "\n",
    "weather_melt = weather.melt(\n",
    "    id_vars = [\"id\", \"year\", \"month\", \"element\"],\n",
    "    variable_name = \"day\",\n",
    "    value_name = \"temp\"\n",
    ")\n",
    "display(\"縦持ちデータの表示\", weather_melt.head(n = 3))\n",
    "\n",
    "weather_tidy = weather_melt.pivot(\n",
    "    index = [\"id\", \"year\", \"month\", \"day\"],\n",
    "    columns = \"element\",\n",
    "    values = \"temp\"\n",
    ")\n",
    "display(\"気温の最大値・最小値をピボット展開したデータの表示\", weather_tidy.head(n = 3))"
   ]
  },
  {
   "cell_type": "code",
   "execution_count": 3,
   "metadata": {},
   "outputs": [
    {
     "data": {
      "text/plain": [
       "'気温の最大値・最小値をピボット展開したデータの表示'"
      ]
     },
     "metadata": {},
     "output_type": "display_data"
    },
    {
     "data": {
      "text/html": [
       "<div>\n",
       "<style scoped>\n",
       "    .dataframe tbody tr th:only-of-type {\n",
       "        vertical-align: middle;\n",
       "    }\n",
       "\n",
       "    .dataframe tbody tr th {\n",
       "        vertical-align: top;\n",
       "    }\n",
       "\n",
       "    .dataframe thead th {\n",
       "        text-align: right;\n",
       "    }\n",
       "</style>\n",
       "<table border=\"1\" class=\"dataframe\">\n",
       "  <thead>\n",
       "    <tr style=\"text-align: right;\">\n",
       "      <th>element</th>\n",
       "      <th>id</th>\n",
       "      <th>year</th>\n",
       "      <th>month</th>\n",
       "      <th>day</th>\n",
       "      <th>tmax</th>\n",
       "      <th>tmin</th>\n",
       "    </tr>\n",
       "  </thead>\n",
       "  <tbody>\n",
       "    <tr>\n",
       "      <th>0</th>\n",
       "      <td>MX17004</td>\n",
       "      <td>2010</td>\n",
       "      <td>1</td>\n",
       "      <td>d1</td>\n",
       "      <td>NaN</td>\n",
       "      <td>NaN</td>\n",
       "    </tr>\n",
       "    <tr>\n",
       "      <th>1</th>\n",
       "      <td>MX17004</td>\n",
       "      <td>2010</td>\n",
       "      <td>1</td>\n",
       "      <td>d10</td>\n",
       "      <td>NaN</td>\n",
       "      <td>NaN</td>\n",
       "    </tr>\n",
       "    <tr>\n",
       "      <th>2</th>\n",
       "      <td>MX17004</td>\n",
       "      <td>2010</td>\n",
       "      <td>1</td>\n",
       "      <td>d11</td>\n",
       "      <td>NaN</td>\n",
       "      <td>NaN</td>\n",
       "    </tr>\n",
       "  </tbody>\n",
       "</table>\n",
       "</div>"
      ],
      "text/plain": [
       "element       id  year  month  day  tmax  tmin\n",
       "0        MX17004  2010      1   d1   NaN   NaN\n",
       "1        MX17004  2010      1  d10   NaN   NaN\n",
       "2        MX17004  2010      1  d11   NaN   NaN"
      ]
     },
     "metadata": {},
     "output_type": "display_data"
    }
   ],
   "source": [
    "import pandas as pd\n",
    "weather = pd.read_csv(\"../data/weather.csv\")\n",
    "weather_melt = weather.melt(\n",
    "    id_vars = [\"id\", \"year\", \"month\", \"element\"],\n",
    "    var_name = \"day\",\n",
    "    value_name = \"temp\"\n",
    ")\n",
    "\n",
    "# 先ほどのmelt, pivotをメソッドチェーンで記述する\n",
    "# データ処理の方向性が決まったら、処理の一連をチェーンする形で書き直すのが良いだろう\n",
    "weather_tidy = (\n",
    "    weather_melt\\\n",
    "        .pivot(index = [\"id\", \"year\", \"month\", \"day\"],\n",
    "                     columns = \"element\",\n",
    "                     values = \"temp\")\\\n",
    "                        .reset_index()\n",
    ")\n",
    "display(\"気温の最大値・最小値をピボット展開したデータの表示\", weather_tidy.head(n = 3))"
   ]
  },
  {
   "cell_type": "code",
   "execution_count": 4,
   "metadata": {},
   "outputs": [
    {
     "data": {
      "text/plain": [
       "'気温の最大値・最小値をピボット展開したデータの表示'"
      ]
     },
     "metadata": {},
     "output_type": "display_data"
    },
    {
     "data": {
      "text/html": [
       "<div><style>\n",
       ".dataframe > thead > tr,\n",
       ".dataframe > tbody > tr {\n",
       "  text-align: right;\n",
       "  white-space: pre-wrap;\n",
       "}\n",
       "</style>\n",
       "<small>shape: (3, 6)</small><table border=\"1\" class=\"dataframe\"><thead><tr><th>id</th><th>year</th><th>month</th><th>day</th><th>tmax</th><th>tmin</th></tr><tr><td>str</td><td>i64</td><td>i64</td><td>str</td><td>str</td><td>str</td></tr></thead><tbody><tr><td>&quot;MX17004&quot;</td><td>2010</td><td>1</td><td>&quot;d1&quot;</td><td>&quot;NA&quot;</td><td>&quot;NA&quot;</td></tr><tr><td>&quot;MX17004&quot;</td><td>2010</td><td>2</td><td>&quot;d1&quot;</td><td>&quot;NA&quot;</td><td>&quot;NA&quot;</td></tr><tr><td>&quot;MX17004&quot;</td><td>2010</td><td>3</td><td>&quot;d1&quot;</td><td>&quot;NA&quot;</td><td>&quot;NA&quot;</td></tr></tbody></table></div>"
      ],
      "text/plain": [
       "shape: (3, 6)\n",
       "┌─────────┬──────┬───────┬─────┬──────┬──────┐\n",
       "│ id      ┆ year ┆ month ┆ day ┆ tmax ┆ tmin │\n",
       "│ ---     ┆ ---  ┆ ---   ┆ --- ┆ ---  ┆ ---  │\n",
       "│ str     ┆ i64  ┆ i64   ┆ str ┆ str  ┆ str  │\n",
       "╞═════════╪══════╪═══════╪═════╪══════╪══════╡\n",
       "│ MX17004 ┆ 2010 ┆ 1     ┆ d1  ┆ NA   ┆ NA   │\n",
       "│ MX17004 ┆ 2010 ┆ 2     ┆ d1  ┆ NA   ┆ NA   │\n",
       "│ MX17004 ┆ 2010 ┆ 3     ┆ d1  ┆ NA   ┆ NA   │\n",
       "└─────────┴──────┴───────┴─────┴──────┴──────┘"
      ]
     },
     "metadata": {},
     "output_type": "display_data"
    }
   ],
   "source": [
    "import polars as pl\n",
    "weather = pl.read_csv(\"../data/weather.csv\")\n",
    "weather_melt = weather.melt(\n",
    "    id_vars = [\"id\", \"year\", \"month\", \"element\"],\n",
    "    variable_name = \"day\",\n",
    "    value_name = \"temp\"\n",
    ")\n",
    "\n",
    "# 先ほどのmelt, pivotをメソッドチェーンで記述する\n",
    "# データ処理の方向性が決まったら、処理の一連をチェーンする形で書き直すのが良いだろう\n",
    "weather_tidy = weather.melt(\n",
    "    id_vars = [\"id\", \"year\", \"month\", \"element\"],\n",
    "    variable_name = \"day\",\n",
    "    value_name = \"temp\"\n",
    "    ).pivot(\n",
    "        index = [\"id\", \"year\", \"month\", \"day\"],\n",
    "        columns = \"element\",\n",
    "        values = \"temp\"\n",
    "        )\n",
    "display(\"気温の最大値・最小値をピボット展開したデータの表示\", weather_tidy.head(n = 3))"
   ]
  }
 ],
 "metadata": {
  "kernelspec": {
   "display_name": "Python 3",
   "language": "python",
   "name": "python3"
  },
  "language_info": {
   "codemirror_mode": {
    "name": "ipython",
    "version": 3
   },
   "file_extension": ".py",
   "mimetype": "text/x-python",
   "name": "python",
   "nbconvert_exporter": "python",
   "pygments_lexer": "ipython3",
   "version": "3.11.4"
  }
 },
 "nbformat": 4,
 "nbformat_minor": 2
}
