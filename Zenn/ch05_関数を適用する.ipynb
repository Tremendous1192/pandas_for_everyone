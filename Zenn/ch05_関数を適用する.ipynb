{
 "cells": [
  {
   "cell_type": "markdown",
   "metadata": {},
   "source": [
    "## 第5章 関数を適用(apply)する\n",
    "### 5.1 関数の初歩"
   ]
  },
  {
   "cell_type": "code",
   "execution_count": null,
   "metadata": {},
   "outputs": [],
   "source": [
    "# pandas, polarsは使用しないブロック\n",
    "def my_function():\n",
    "    pass\n",
    "\n",
    "def my_sq(x):\n",
    "    return x ** 2\n",
    "\n",
    "def avg_2(x, y):\n",
    "    return (x + y)/ 2\n",
    "\n",
    "my_calc_1 = my_sq(4)\n",
    "print(my_calc_1)\n",
    "\n",
    "my_calc_2 = avg_2(10,20)\n",
    "print(my_calc_2)"
   ]
  },
  {
   "cell_type": "markdown",
   "metadata": {},
   "source": [
    "### 5.2 applyの基本"
   ]
  },
  {
   "cell_type": "code",
   "execution_count": 2,
   "metadata": {},
   "outputs": [
    {
     "data": {
      "text/plain": [
       "'元データ'"
      ]
     },
     "metadata": {},
     "output_type": "display_data"
    },
    {
     "data": {
      "text/plain": [
       "0    10\n",
       "1    20\n",
       "2    30\n",
       "Name: a, dtype: int64"
      ]
     },
     "metadata": {},
     "output_type": "display_data"
    },
    {
     "data": {
      "text/plain": [
       "'各要素を2乗する'"
      ]
     },
     "metadata": {},
     "output_type": "display_data"
    },
    {
     "data": {
      "text/plain": [
       "0    100\n",
       "1    400\n",
       "2    900\n",
       "Name: a, dtype: int64"
      ]
     },
     "metadata": {},
     "output_type": "display_data"
    }
   ],
   "source": [
    "import pandas as pd\n",
    "df = pd.DataFrame({\n",
    "    \"a\": [10, 20, 30],\n",
    "    \"b\": [20, 30, 40]\n",
    "    })\n",
    "display(\"元データ\", df[\"a\"])\n",
    "display(\"各要素を2乗する\", df[\"a\"] ** 2)"
   ]
  },
  {
   "cell_type": "code",
   "execution_count": 3,
   "metadata": {},
   "outputs": [
    {
     "data": {
      "text/plain": [
       "'元データ'"
      ]
     },
     "metadata": {},
     "output_type": "display_data"
    },
    {
     "data": {
      "text/html": [
       "<div><style>\n",
       ".dataframe > thead > tr,\n",
       ".dataframe > tbody > tr {\n",
       "  text-align: right;\n",
       "  white-space: pre-wrap;\n",
       "}\n",
       "</style>\n",
       "<small>shape: (3,)</small><table border=\"1\" class=\"dataframe\"><thead><tr><th>a</th></tr><tr><td>i64</td></tr></thead><tbody><tr><td>10</td></tr><tr><td>20</td></tr><tr><td>30</td></tr></tbody></table></div>"
      ],
      "text/plain": [
       "shape: (3,)\n",
       "Series: 'a' [i64]\n",
       "[\n",
       "\t10\n",
       "\t20\n",
       "\t30\n",
       "]"
      ]
     },
     "metadata": {},
     "output_type": "display_data"
    },
    {
     "data": {
      "text/plain": [
       "'各要素を2乗する'"
      ]
     },
     "metadata": {},
     "output_type": "display_data"
    },
    {
     "data": {
      "text/html": [
       "<div><style>\n",
       ".dataframe > thead > tr,\n",
       ".dataframe > tbody > tr {\n",
       "  text-align: right;\n",
       "  white-space: pre-wrap;\n",
       "}\n",
       "</style>\n",
       "<small>shape: (3,)</small><table border=\"1\" class=\"dataframe\"><thead><tr><th>a</th></tr><tr><td>f64</td></tr></thead><tbody><tr><td>100.0</td></tr><tr><td>400.0</td></tr><tr><td>900.0</td></tr></tbody></table></div>"
      ],
      "text/plain": [
       "shape: (3,)\n",
       "Series: 'a' [f64]\n",
       "[\n",
       "\t100.0\n",
       "\t400.0\n",
       "\t900.0\n",
       "]"
      ]
     },
     "metadata": {},
     "output_type": "display_data"
    }
   ],
   "source": [
    "import polars as pl\n",
    "df = pl.DataFrame({\n",
    "    \"a\": [10, 20, 30],\n",
    "    \"b\": [20, 30, 40]\n",
    "    })\n",
    "display(\"元データ\", df[\"a\"])\n",
    "display(\"各要素を2乗する\", df[\"a\"] ** 2)"
   ]
  },
  {
   "cell_type": "markdown",
   "metadata": {},
   "source": [
    "#### 5.2.1 関数をSeriesに適用する"
   ]
  },
  {
   "cell_type": "code",
   "execution_count": 12,
   "metadata": {},
   "outputs": [
    {
     "name": "stdout",
     "output_type": "stream",
     "text": [
      "抽出した列aのデータ型 <class 'pandas.core.series.Series'>\n",
      "抽出した1行目のデータ型 <class 'pandas.core.series.Series'>\n"
     ]
    },
    {
     "data": {
      "text/plain": [
       "'Seriesの各要素を2乗したSeries'"
      ]
     },
     "metadata": {},
     "output_type": "display_data"
    },
    {
     "data": {
      "text/plain": [
       "0    100\n",
       "1    400\n",
       "2    900\n",
       "Name: a, dtype: int64"
      ]
     },
     "metadata": {},
     "output_type": "display_data"
    },
    {
     "data": {
      "text/plain": [
       "'Seriesの各要素を3乗したSeries'"
      ]
     },
     "metadata": {},
     "output_type": "display_data"
    },
    {
     "data": {
      "text/plain": [
       "0     1000\n",
       "1     8000\n",
       "2    27000\n",
       "Name: a, dtype: int64"
      ]
     },
     "metadata": {},
     "output_type": "display_data"
    }
   ],
   "source": [
    "import pandas as pd\n",
    "df = pd.DataFrame({\n",
    "    \"a\": [10, 20, 30],\n",
    "    \"b\": [20, 30, 40]\n",
    "    })\n",
    "\n",
    "print(\"抽出した列aのデータ型\", type(df[\"a\"]))\n",
    "print(\"抽出した1行目のデータ型\", type(df.iloc[0, :]))\n",
    "\n",
    "def my_sq(x):\n",
    "    return x ** 2\n",
    "sq = df[\"a\"].apply(my_sq)\n",
    "display(\"Seriesの各要素を2乗したSeries\", sq)\n",
    "\n",
    "def my_exp(x, e):\n",
    "    return x ** e\n",
    "ex = df[\"a\"].apply(my_exp, e = 3)\n",
    "display(\"Seriesの各要素を3乗したSeries\", ex)"
   ]
  },
  {
   "cell_type": "code",
   "execution_count": 11,
   "metadata": {},
   "outputs": [
    {
     "name": "stdout",
     "output_type": "stream",
     "text": [
      "抽出した列aのデータ型 <class 'polars.series.series.Series'>\n",
      "抽出した1行目のデータ型 <class 'polars.dataframe.frame.DataFrame'>\n"
     ]
    },
    {
     "data": {
      "text/plain": [
       "'Seriesの各要素を2乗したSeries'"
      ]
     },
     "metadata": {},
     "output_type": "display_data"
    },
    {
     "data": {
      "text/html": [
       "<div><style>\n",
       ".dataframe > thead > tr,\n",
       ".dataframe > tbody > tr {\n",
       "  text-align: right;\n",
       "  white-space: pre-wrap;\n",
       "}\n",
       "</style>\n",
       "<small>shape: (3,)</small><table border=\"1\" class=\"dataframe\"><thead><tr><th>a</th></tr><tr><td>i64</td></tr></thead><tbody><tr><td>100</td></tr><tr><td>400</td></tr><tr><td>900</td></tr></tbody></table></div>"
      ],
      "text/plain": [
       "shape: (3,)\n",
       "Series: 'a' [i64]\n",
       "[\n",
       "\t100\n",
       "\t400\n",
       "\t900\n",
       "]"
      ]
     },
     "metadata": {},
     "output_type": "display_data"
    },
    {
     "data": {
      "text/plain": [
       "'Seriesの各要素を3乗したSeries'"
      ]
     },
     "metadata": {},
     "output_type": "display_data"
    },
    {
     "data": {
      "text/html": [
       "<div><style>\n",
       ".dataframe > thead > tr,\n",
       ".dataframe > tbody > tr {\n",
       "  text-align: right;\n",
       "  white-space: pre-wrap;\n",
       "}\n",
       "</style>\n",
       "<small>shape: (3,)</small><table border=\"1\" class=\"dataframe\"><thead><tr><th>a</th></tr><tr><td>i64</td></tr></thead><tbody><tr><td>1000</td></tr><tr><td>8000</td></tr><tr><td>27000</td></tr></tbody></table></div>"
      ],
      "text/plain": [
       "shape: (3,)\n",
       "Series: 'a' [i64]\n",
       "[\n",
       "\t1000\n",
       "\t8000\n",
       "\t27000\n",
       "]"
      ]
     },
     "metadata": {},
     "output_type": "display_data"
    }
   ],
   "source": [
    "import polars as pl\n",
    "df = pl.DataFrame({\n",
    "    \"a\": [10, 20, 30],\n",
    "    \"b\": [20, 30, 40]\n",
    "    })\n",
    "\n",
    "print(\"抽出した列aのデータ型\", type(df[\"a\"]))\n",
    "print(\"抽出した1行目のデータ型\", type(df[0, :]))\n",
    "\n",
    "def my_sq(x):\n",
    "    return x ** 2\n",
    "# polarsのapplyは将来的に削除される\n",
    "#sq = df[\"a\"].apply(my_sq)\n",
    "sq = df[\"a\"].map_elements(lambda x: my_sq(x))\n",
    "display(\"Seriesの各要素を2乗したSeries\", sq)\n",
    "\n",
    "def my_exp(x, e):\n",
    "    return x ** e\n",
    "ex = df[\"a\"].map_elements(lambda elemtn: my_exp(x = elemtn, e = 3))\n",
    "display(\"Seriesの各要素を3乗したSeries\", ex)"
   ]
  },
  {
   "cell_type": "markdown",
   "metadata": {},
   "source": [
    "#### 5.2.2 関数をDataFrameに適用する\n",
    "#### 5.2.2.1 列ごとの演算\n",
    "polarsのapplyやmap_rowsには列ごとの処理が無いようなので、この節は省略\n",
    "#### 5.2.2.2 行ごとの演算"
   ]
  },
  {
   "cell_type": "code",
   "execution_count": 16,
   "metadata": {},
   "outputs": [
    {
     "name": "stderr",
     "output_type": "stream",
     "text": [
      "C:\\Users\\treme\\AppData\\Local\\Temp\\ipykernel_6168\\3572069257.py:8: FutureWarning: Series.__getitem__ treating keys as positions is deprecated. In a future version, integer keys will always be treated as labels (consistent with DataFrame behavior). To access a value by position, use `ser.iloc[pos]`\n",
      "  x = row[0]\n",
      "C:\\Users\\treme\\AppData\\Local\\Temp\\ipykernel_6168\\3572069257.py:9: FutureWarning: Series.__getitem__ treating keys as positions is deprecated. In a future version, integer keys will always be treated as labels (consistent with DataFrame behavior). To access a value by position, use `ser.iloc[pos]`\n",
      "  y = row[1]\n"
     ]
    },
    {
     "data": {
      "text/plain": [
       "'行ごとに関数を適用する'"
      ]
     },
     "metadata": {},
     "output_type": "display_data"
    },
    {
     "data": {
      "text/plain": [
       "0    15.0\n",
       "1    25.0\n",
       "2    35.0\n",
       "dtype: float64"
      ]
     },
     "metadata": {},
     "output_type": "display_data"
    }
   ],
   "source": [
    "import pandas as pd\n",
    "df = pd.DataFrame({\n",
    "    \"a\": [10, 20, 30],\n",
    "    \"b\": [20, 30, 40]\n",
    "    })\n",
    "\n",
    "def avg_2_apply(row):\n",
    "    x = row[0]\n",
    "    y = row[1]\n",
    "    return (x + y)/2\n",
    "display(\"行ごとに関数を適用する\", df.apply(avg_2_apply, axis = 1))"
   ]
  },
  {
   "cell_type": "code",
   "execution_count": 15,
   "metadata": {},
   "outputs": [
    {
     "data": {
      "text/plain": [
       "'行ごとに関数を適用する'"
      ]
     },
     "metadata": {},
     "output_type": "display_data"
    },
    {
     "data": {
      "text/html": [
       "<div><style>\n",
       ".dataframe > thead > tr,\n",
       ".dataframe > tbody > tr {\n",
       "  text-align: right;\n",
       "  white-space: pre-wrap;\n",
       "}\n",
       "</style>\n",
       "<small>shape: (3, 1)</small><table border=\"1\" class=\"dataframe\"><thead><tr><th>map</th></tr><tr><td>f64</td></tr></thead><tbody><tr><td>15.0</td></tr><tr><td>25.0</td></tr><tr><td>35.0</td></tr></tbody></table></div>"
      ],
      "text/plain": [
       "shape: (3, 1)\n",
       "┌──────┐\n",
       "│ map  │\n",
       "│ ---  │\n",
       "│ f64  │\n",
       "╞══════╡\n",
       "│ 15.0 │\n",
       "│ 25.0 │\n",
       "│ 35.0 │\n",
       "└──────┘"
      ]
     },
     "metadata": {},
     "output_type": "display_data"
    }
   ],
   "source": [
    "import polars as pl\n",
    "df = pl.DataFrame({\n",
    "    \"a\": [10, 20, 30],\n",
    "    \"b\": [20, 30, 40]\n",
    "    })\n",
    "\n",
    "def avg_2_apply(row):\n",
    "    x = row[0]\n",
    "    y = row[1]\n",
    "    return (x + y)/2\n",
    "#display(\"行ごとに関数を適用する\", df.apply(lambda row: avg_2_apply(row)))\n",
    "display(\"行ごとに関数を適用する\", df.map_rows(lambda row: avg_2_apply(row)))"
   ]
  },
  {
   "cell_type": "markdown",
   "metadata": {},
   "source": [
    "### 5.3 関数のベクトル化"
   ]
  },
  {
   "cell_type": "code",
   "execution_count": 21,
   "metadata": {},
   "outputs": [
    {
     "data": {
      "text/plain": [
       "'2つの列をベクトルのように扱う'"
      ]
     },
     "metadata": {},
     "output_type": "display_data"
    },
    {
     "data": {
      "text/plain": [
       "0    15.0\n",
       "1    25.0\n",
       "2    35.0\n",
       "dtype: float64"
      ]
     },
     "metadata": {},
     "output_type": "display_data"
    }
   ],
   "source": [
    "import pandas as pd\n",
    "df = pd.DataFrame({\n",
    "    \"a\": [10, 20, 30],\n",
    "    \"b\": [20, 30, 40]\n",
    "    })\n",
    "\n",
    "def avg_2(x, y):\n",
    "    return (x + y)/2\n",
    "display(\"2つの列をベクトルのように扱う\", avg_2(df[\"a\"], df[\"b\"]))"
   ]
  },
  {
   "cell_type": "code",
   "execution_count": 22,
   "metadata": {},
   "outputs": [
    {
     "data": {
      "text/plain": [
       "'2つの列をベクトルのように扱う'"
      ]
     },
     "metadata": {},
     "output_type": "display_data"
    },
    {
     "data": {
      "text/html": [
       "<div><style>\n",
       ".dataframe > thead > tr,\n",
       ".dataframe > tbody > tr {\n",
       "  text-align: right;\n",
       "  white-space: pre-wrap;\n",
       "}\n",
       "</style>\n",
       "<small>shape: (3,)</small><table border=\"1\" class=\"dataframe\"><thead><tr><th>a</th></tr><tr><td>f64</td></tr></thead><tbody><tr><td>15.0</td></tr><tr><td>25.0</td></tr><tr><td>35.0</td></tr></tbody></table></div>"
      ],
      "text/plain": [
       "shape: (3,)\n",
       "Series: 'a' [f64]\n",
       "[\n",
       "\t15.0\n",
       "\t25.0\n",
       "\t35.0\n",
       "]"
      ]
     },
     "metadata": {},
     "output_type": "display_data"
    },
    {
     "data": {
      "text/plain": [
       "'別の書き方 その2'"
      ]
     },
     "metadata": {},
     "output_type": "display_data"
    },
    {
     "data": {
      "text/html": [
       "<div><style>\n",
       ".dataframe > thead > tr,\n",
       ".dataframe > tbody > tr {\n",
       "  text-align: right;\n",
       "  white-space: pre-wrap;\n",
       "}\n",
       "</style>\n",
       "<small>shape: (3, 1)</small><table border=\"1\" class=\"dataframe\"><thead><tr><th>map</th></tr><tr><td>f64</td></tr></thead><tbody><tr><td>15.0</td></tr><tr><td>25.0</td></tr><tr><td>35.0</td></tr></tbody></table></div>"
      ],
      "text/plain": [
       "shape: (3, 1)\n",
       "┌──────┐\n",
       "│ map  │\n",
       "│ ---  │\n",
       "│ f64  │\n",
       "╞══════╡\n",
       "│ 15.0 │\n",
       "│ 25.0 │\n",
       "│ 35.0 │\n",
       "└──────┘"
      ]
     },
     "metadata": {},
     "output_type": "display_data"
    }
   ],
   "source": [
    "import polars as pl\n",
    "df = pl.DataFrame({\n",
    "    \"a\": [10, 20, 30],\n",
    "    \"b\": [20, 30, 40]\n",
    "    })\n",
    "\n",
    "def avg_2(x, y):\n",
    "    return (x + y)/2\n",
    "display(\"2つの列をベクトルのように扱う\", avg_2(df[\"a\"], df[\"b\"]))\n",
    "#display(\"別の書き方 その1\", df.apply(lambda row: avg_2(row[0], row[1])))\n",
    "display(\"別の書き方 その2\", df.map_rows(lambda row: avg_2(row[0], row[1])))\n"
   ]
  }
 ],
 "metadata": {
  "kernelspec": {
   "display_name": "Python 3",
   "language": "python",
   "name": "python3"
  },
  "language_info": {
   "codemirror_mode": {
    "name": "ipython",
    "version": 3
   },
   "file_extension": ".py",
   "mimetype": "text/x-python",
   "name": "python",
   "nbconvert_exporter": "python",
   "pygments_lexer": "ipython3",
   "version": "3.11.4"
  }
 },
 "nbformat": 4,
 "nbformat_minor": 2
}
