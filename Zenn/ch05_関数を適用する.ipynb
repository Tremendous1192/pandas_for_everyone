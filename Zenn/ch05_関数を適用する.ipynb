{
 "cells": [
  {
   "cell_type": "markdown",
   "metadata": {},
   "source": [
    "## 第5章 関数を適用(apply)する\n",
    "### 5.1 関数の初歩"
   ]
  },
  {
   "cell_type": "code",
   "execution_count": null,
   "metadata": {},
   "outputs": [],
   "source": [
    "# pandas, polarsは使用しないブロック\n",
    "def my_function():\n",
    "    pass\n",
    "\n",
    "def my_sq(x):\n",
    "    return x ** 2\n",
    "\n",
    "def avg_2(x, y):\n",
    "    return (x + y)/ 2\n",
    "\n",
    "my_calc_1 = my_sq(4)\n",
    "print(my_calc_1)\n",
    "\n",
    "my_calc_2 = avg_2(10,20)\n",
    "print(my_calc_2)"
   ]
  },
  {
   "cell_type": "markdown",
   "metadata": {},
   "source": [
    "### 5.2 applyの基本"
   ]
  },
  {
   "cell_type": "code",
   "execution_count": null,
   "metadata": {},
   "outputs": [],
   "source": [
    "import pandas as pd\n",
    "df = pd.DataFrame({\n",
    "    \"a\": [10, 20, 30],\n",
    "    \"b\": [20, 30, 40]\n",
    "    })\n",
    "display(\"元データ\", df[\"a\"])\n",
    "display(\"各要素を2乗する\", df[\"a\"] ** 2)"
   ]
  },
  {
   "cell_type": "code",
   "execution_count": null,
   "metadata": {},
   "outputs": [],
   "source": [
    "import polars as pl\n",
    "df = pl.DataFrame({\n",
    "    \"a\": [10, 20, 30],\n",
    "    \"b\": [20, 30, 40]\n",
    "    })\n",
    "display(\"元データ\", df[\"a\"])\n",
    "display(\"各要素を2乗する\", df[\"a\"] ** 2)"
   ]
  },
  {
   "cell_type": "markdown",
   "metadata": {},
   "source": [
    "#### 5.2.1 関数をSeriesに適用する"
   ]
  },
  {
   "cell_type": "code",
   "execution_count": null,
   "metadata": {},
   "outputs": [],
   "source": [
    "import pandas as pd\n",
    "df = pd.DataFrame({\n",
    "    \"a\": [10, 20, 30],\n",
    "    \"b\": [20, 30, 40]\n",
    "    })\n",
    "\n",
    "print(\"抽出した列aのデータ型\", type(df[\"a\"]))\n",
    "print(\"抽出した1行目のデータ型\", type(df.iloc[0, :]))\n",
    "\n",
    "def my_sq(x):\n",
    "    return x ** 2\n",
    "sq = df[\"a\"].apply(my_sq)\n",
    "display(\"Seriesの各要素を2乗したSeries\", sq)\n",
    "\n",
    "def my_exp(x, e):\n",
    "    return x ** e\n",
    "ex = df[\"a\"].apply(my_exp, e = 3)\n",
    "display(\"Seriesの各要素を3乗したSeries\", ex)"
   ]
  },
  {
   "cell_type": "code",
   "execution_count": null,
   "metadata": {},
   "outputs": [],
   "source": [
    "import polars as pl\n",
    "df = pl.DataFrame({\n",
    "    \"a\": [10, 20, 30],\n",
    "    \"b\": [20, 30, 40]\n",
    "    })\n",
    "\n",
    "print(\"抽出した列aのデータ型\", type(df[\"a\"]))\n",
    "print(\"抽出した1行目のデータ型\", type(df[0, :]))\n",
    "\n",
    "def my_sq(x):\n",
    "    return x ** 2\n",
    "# polarsのapplyは将来的に削除される\n",
    "#sq = df[\"a\"].apply(my_sq)\n",
    "sq = df[\"a\"].map_elements(lambda x: my_sq(x))\n",
    "display(\"Seriesの各要素を2乗したSeries\", sq)\n",
    "\n",
    "def my_exp(x, e):\n",
    "    return x ** e\n",
    "ex = df[\"a\"].map_elements(lambda elemtn: my_exp(x = elemtn, e = 3))\n",
    "display(\"Seriesの各要素を3乗したSeries\", ex)"
   ]
  },
  {
   "cell_type": "markdown",
   "metadata": {},
   "source": [
    "#### 5.2.2 関数をDataFrameに適用する\n",
    "#### 5.2.2.1 列ごとの演算\n",
    "polarsのapplyやmap_rowsには列ごとの処理が無いようなので、この節は省略\n",
    "#### 5.2.2.2 行ごとの演算"
   ]
  },
  {
   "cell_type": "code",
   "execution_count": null,
   "metadata": {},
   "outputs": [],
   "source": [
    "import pandas as pd\n",
    "df = pd.DataFrame({\n",
    "    \"a\": [10, 20, 30],\n",
    "    \"b\": [20, 30, 40]\n",
    "    })\n",
    "\n",
    "def avg_2_apply(row):\n",
    "    x = row[0]\n",
    "    y = row[1]\n",
    "    return (x + y)/2\n",
    "display(\"行ごとに関数を適用する\", df.apply(avg_2_apply, axis = 1))"
   ]
  },
  {
   "cell_type": "code",
   "execution_count": null,
   "metadata": {},
   "outputs": [],
   "source": [
    "import polars as pl\n",
    "df = pl.DataFrame({\n",
    "    \"a\": [10, 20, 30],\n",
    "    \"b\": [20, 30, 40]\n",
    "    })\n",
    "\n",
    "def avg_2_apply(row):\n",
    "    x = row[0]\n",
    "    y = row[1]\n",
    "    return (x + y)/2\n",
    "#display(\"行ごとに関数を適用する\", df.apply(lambda row: avg_2_apply(row)))\n",
    "display(\"行ごとに関数を適用する\", df.map_rows(lambda row: avg_2_apply(row)))"
   ]
  },
  {
   "cell_type": "markdown",
   "metadata": {},
   "source": [
    "### 5.3 関数のベクトル化"
   ]
  },
  {
   "cell_type": "code",
   "execution_count": null,
   "metadata": {},
   "outputs": [],
   "source": [
    "import pandas as pd\n",
    "df = pd.DataFrame({\n",
    "    \"a\": [10, 20, 30],\n",
    "    \"b\": [20, 30, 40]\n",
    "    })\n",
    "\n",
    "def avg_2(x, y):\n",
    "    return (x + y)/2\n",
    "display(\"2つの列をベクトルのように扱う\", avg_2(df[\"a\"], df[\"b\"]))"
   ]
  },
  {
   "cell_type": "code",
   "execution_count": null,
   "metadata": {},
   "outputs": [],
   "source": [
    "import polars as pl\n",
    "df = pl.DataFrame({\n",
    "    \"a\": [10, 20, 30],\n",
    "    \"b\": [20, 30, 40]\n",
    "    })\n",
    "\n",
    "def avg_2(x, y):\n",
    "    return (x + y)/2\n",
    "display(\"2つの列をベクトルのように扱う\", avg_2(df[\"a\"], df[\"b\"]))\n",
    "#display(\"別の書き方 その1\", df.apply(lambda row: avg_2(row[0], row[1])))\n",
    "display(\"別の書き方 その2\", df.map_rows(lambda row: avg_2(row[0], row[1])))\n"
   ]
  }
 ],
 "metadata": {
  "kernelspec": {
   "display_name": "Python 3",
   "language": "python",
   "name": "python3"
  },
  "language_info": {
   "codemirror_mode": {
    "name": "ipython",
    "version": 3
   },
   "file_extension": ".py",
   "mimetype": "text/x-python",
   "name": "python",
   "nbconvert_exporter": "python",
   "pygments_lexer": "ipython3",
   "version": "3.11.4"
  }
 },
 "nbformat": 4,
 "nbformat_minor": 2
}
