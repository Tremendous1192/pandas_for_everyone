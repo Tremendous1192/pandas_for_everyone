{
 "cells": [
  {
   "cell_type": "markdown",
   "metadata": {},
   "source": [
    "## 第8章 groupby演算による分割-適用-結合\n",
    "### 8.1 集約\n",
    "#### 8.1.1 1この変数で分割する基本的な集約"
   ]
  },
  {
   "cell_type": "code",
   "execution_count": null,
   "metadata": {},
   "outputs": [],
   "source": [
    "import pandas as pd\n",
    "df = pd.read_csv(\"../data/gapminder.tsv\", sep = \"\\t\")\n",
    "display(\"元データ\", df)\n",
    "\n",
    "avg_life_by_year = df.groupby(by = \"year\")[\"lifeExp\"].mean()\n",
    "display(\"年度別に平均余命を集計する\", avg_life_by_year)\n",
    "\n",
    "print(\"記録がある年度の一覧\", df[\"year\"].unique())"
   ]
  },
  {
   "cell_type": "code",
   "execution_count": null,
   "metadata": {},
   "outputs": [],
   "source": [
    "import polars as pl\n",
    "df = pl.read_csv(\"../data/gapminder.tsv\", separator = \"\\t\")\n",
    "display(\"元データ\", df)\n",
    "\n",
    "avg_life_by_year = df.group_by(by = \"year\").agg( pl.col(\"lifeExp\").mean() ).sort(by = \"year\")\n",
    "display(\"年度別に平均余命を集計する\", avg_life_by_year)\n",
    "\n",
    "print(\"記録がある年度の一覧\", df[\"year\"].unique().to_list())"
   ]
  },
  {
   "cell_type": "code",
   "execution_count": null,
   "metadata": {},
   "outputs": [],
   "source": [
    "import pandas as pd\n",
    "df = pd.read_csv(\"../data/gapminder.tsv\", sep = \"\\t\")\n",
    "\n",
    "y1952 = df[ df[\"year\"] == 1952 ]\n",
    "display(\"1952年のデータ\", y1952)\n",
    "\n",
    "y1952_mean = y1952[\"lifeExp\"].mean()\n",
    "print(\"1952年の余命平均\", y1952_mean)"
   ]
  },
  {
   "cell_type": "code",
   "execution_count": null,
   "metadata": {},
   "outputs": [],
   "source": [
    "import polars as pl\n",
    "df = pl.read_csv(\"../data/gapminder.tsv\", separator = \"\\t\")\n",
    "\n",
    "y1952 = df.filter( pl.col(\"year\") == 1952 )\n",
    "display(\"1952年のデータ\", y1952)\n",
    "\n",
    "y1952_mean = y1952[\"lifeExp\"].mean()\n",
    "print(\"1952年の余命平均\", y1952_mean)\n"
   ]
  },
  {
   "cell_type": "markdown",
   "metadata": {},
   "source": [
    "#### 8.1.2 組込みの集約メソッド"
   ]
  },
  {
   "cell_type": "code",
   "execution_count": null,
   "metadata": {},
   "outputs": [],
   "source": [
    "import pandas as pd\n",
    "df = pd.read_csv(\"../data/gapminder.tsv\", sep = \"\\t\")\n",
    "display(\"年度別の国数\", df.groupby(by = \"year\")[\"country\"].count().head(1) )\n",
    "display(\"年度別の人口のカウント\", df.groupby(by = \"year\")[\"country\"].size().head(1) )\n",
    "display(\"年度別の人口の平均\", df.groupby(by = \"year\")[\"pop\"].mean().head(1) )\n",
    "display(\"年度別の人口の標準偏差\", df.groupby(by = \"year\")[\"pop\"].std().head(1) )\n",
    "display(\"年度別の人口の最小値\", df.groupby(by = \"year\")[\"pop\"].min().head(1) )\n",
    "display(\"年度別の人口の四分位数\", df.groupby(by = \"year\")[\"pop\"].quantile(q = 0.25).head(1) )\n",
    "display(\"年度別の人口中央値\", df.groupby(by = \"year\")[\"pop\"].quantile(q = 0.5).head(1) )\n",
    "display(\"年度別の人口第3四分位数\", df.groupby(by = \"year\")[\"pop\"].quantile(q = 0.75).head(1) )\n",
    "display(\"年度別の人口最大値\", df.groupby(by = \"year\")[\"pop\"].max().head(1) )\n",
    "display(\"年度別の人口の和\", df.groupby(by = \"year\")[\"pop\"].sum().head(1) )\n",
    "display(\"年度別の人口の分散\", df.groupby(by = \"year\")[\"pop\"].var().head(1) )\n",
    "display(\"年度別の人口の不偏標準偏差\", df.groupby(by = \"year\")[\"pop\"].sem().head(1) )\n",
    "display(\"年度別の人口の基本統計量\", df.groupby(by = \"year\")[\"pop\"].describe().head(1) )\n",
    "display(\"年度別の人口の最初の要素\", df.groupby(by = \"year\")[\"pop\"].first().head(1) )\n",
    "display(\"年度別の人口の最後の要素\", df.groupby(by = \"year\")[\"pop\"].last().head(1) )\n",
    "display(\"年度別の第1番の要素\", df.groupby(by = \"year\").nth(1).head(1) )"
   ]
  },
  {
   "cell_type": "code",
   "execution_count": null,
   "metadata": {},
   "outputs": [],
   "source": [
    "import polars as pl\n",
    "df = pl.read_csv(\"../data/gapminder.tsv\", separator = \"\\t\")\n",
    "display(\"年度別の国数\", df.group_by(by = \"year\").agg( pl.col(\"country\").count() ).head(1) )\n",
    "#display(\"年度別の人口のカウント\", df.group_by(by = \"year\").agg( pl.col(\"country\").size() ) )\n",
    "display(\"年度別の人口の平均\", df.group_by(by = \"year\").agg( pl.col(\"pop\").mean() ).head(1) )\n",
    "display(\"年度別の人口の標準偏差\", df.group_by(by = \"year\").agg( pl.col(\"pop\").std() ).head(1) )\n",
    "display(\"年度別の人口の最小値\", df.group_by(by = \"year\").agg( pl.col(\"pop\").min() ).head(1) )\n",
    "display(\"年度別の人口の四分位数\", df.group_by(by = \"year\").agg( pl.col(\"pop\").quantile(quantile = 0.25) ).head(1) )\n",
    "display(\"年度別の人口中央値\", df.group_by(by = \"year\").agg( pl.col(\"pop\").quantile(quantile = 0.5) ).head(1) )\n",
    "display(\"年度別の人口第3四分位数\", df.group_by(by = \"year\").agg( pl.col(\"pop\").quantile(quantile = 0.75) ).head(1) )\n",
    "display(\"年度別の人口最大値\", df.group_by(by = \"year\").agg( pl.col(\"pop\").max() ).head(1) )\n",
    "display(\"年度別の人口の和\", df.group_by(by = \"year\").agg( pl.col(\"pop\").sum() ).head(1) )\n",
    "display(\"年度別の人口の分散\", df.group_by(by = \"year\").agg( pl.col(\"pop\").var() ).head(1) )\n",
    "#display(\"年度別の人口の不偏標準偏差\", df.group_by(by = \"year\").agg( pl.col(\"pop\").sem() ).head(1) )\n",
    "#display(\"年度別の人口の基本統計量\", df.group_by(by = \"year\").agg( pl.col(\"pop\").describe() ).head(1) )\n",
    "display(\"年度別の人口の最初の要素\", df.group_by(by = \"year\").agg( pl.col(\"pop\").first() ).head(1) )\n",
    "display(\"年度別の人口の最後の要素\", df.group_by(by = \"year\").agg( pl.col(\"pop\").last() ).head(1) )\n",
    "#display(\"年度別の人口のn番目の要素\", df.group_by(by = \"year\").agg( pl.col(\"pop\").nth() ).head(1) )"
   ]
  },
  {
   "cell_type": "markdown",
   "metadata": {},
   "source": [
    "#### 8.1.3 集約関数\n",
    "#### 8.1.3.1 他のライブラリの関数\n",
    "numpyとの連携が良くわからなかったので省略\n",
    "#### 8.1.3.2 カスタムのユーザー関数"
   ]
  },
  {
   "cell_type": "code",
   "execution_count": null,
   "metadata": {},
   "outputs": [],
   "source": [
    "import pandas as pd\n",
    "df = pd.read_csv(\"../data/gapminder.tsv\", sep = \"\\t\")\n",
    "\n",
    "def my_mean(values):\n",
    "    n = len(values)\n",
    "\n",
    "    sum = 0\n",
    "    for value in values:\n",
    "        sum += value\n",
    "    \n",
    "    return sum / n\n",
    "display(\"カスタムのユーザー関数\", df.groupby(\"year\")[\"lifeExp\"].agg(my_mean) )"
   ]
  },
  {
   "cell_type": "code",
   "execution_count": null,
   "metadata": {},
   "outputs": [],
   "source": [
    "import polars as pl\n",
    "df = pl.read_csv(\"../data/gapminder.tsv\", separator = \"\\t\")\n",
    "\n",
    "def my_mean(values):\n",
    "    n = len(values)\n",
    "\n",
    "    sum = 0\n",
    "    for value in values:\n",
    "        sum += value\n",
    "    \n",
    "    return sum / n\n",
    "display(\"カスタムのユーザー関数\", df.group_by(\"year\").agg( pl.col(\"lifeExp\").map_elements(my_mean)).sort(\"year\") )"
   ]
  },
  {
   "cell_type": "markdown",
   "metadata": {},
   "source": [
    "#### 8.1.4 複数の関数を同時に計算する"
   ]
  },
  {
   "cell_type": "code",
   "execution_count": null,
   "metadata": {},
   "outputs": [],
   "source": [
    "import pandas as pd\n",
    "df = pd.read_csv(\"../data/gapminder.tsv\", sep = \"\\t\")\n",
    "\n",
    "gdf = df\\\n",
    "    .groupby(\"year\")\\\n",
    "        .agg({\n",
    "            \"lifeExp\": \"mean\",\n",
    "            \"pop\": \"median\",\n",
    "            \"gdpPercap\": \"median\"\n",
    "        })\n",
    "display(\"年度別に、余命のデータ数と、人口の平均値とGDPの中央値を計算する\", gdf)"
   ]
  },
  {
   "cell_type": "code",
   "execution_count": null,
   "metadata": {},
   "outputs": [],
   "source": [
    "import polars as pl\n",
    "df = pl.read_csv(\"../data/gapminder.tsv\", separator = \"\\t\")\n",
    "\n",
    "gdf = df\\\n",
    "    .group_by(\"year\")\\\n",
    "        .agg([pl.col(\"lifeExp\").count().alias(\"mean\"),\n",
    "              pl.col(\"pop\").mean().alias(\"mean\"),\n",
    "              pl.col(\"gdpPercap\").std().alias(\"median\")])\n",
    "display(\"年度別に、余命の平均値と、人口の平均値とGDPの中央値を計算する\", gdf)"
   ]
  },
  {
   "cell_type": "markdown",
   "metadata": {},
   "source": [
    "#### 8.1.5 .agg/aggregateでdictを使う\n",
    "#### 8.1.5.1 DataFrameに対するdictの指定\n",
    "省略\n",
    "### 8.2 変換(transform)\n",
    "#### 8.2.1 zスコアの例\n",
    "polarsにはtransformが無いので省略\n",
    "### 8.2.2 欠損値の例\n",
    "この句はpandasで書いている\n",
    "### 8.3 フィルタリング"
   ]
  },
  {
   "cell_type": "code",
   "execution_count": 1,
   "metadata": {},
   "outputs": [
    {
     "name": "stdout",
     "output_type": "stream",
     "text": [
      "元データの要素数 (244, 7)\n"
     ]
    },
    {
     "data": {
      "text/plain": [
       "'size列の集計'"
      ]
     },
     "metadata": {},
     "output_type": "display_data"
    },
    {
     "data": {
      "text/plain": [
       "size\n",
       "2    156\n",
       "3     38\n",
       "4     37\n",
       "5      5\n",
       "1      4\n",
       "6      4\n",
       "Name: count, dtype: int64"
      ]
     },
     "metadata": {},
     "output_type": "display_data"
    },
    {
     "data": {
      "text/plain": [
       "'要素数が30個以上のデータを抽出した'"
      ]
     },
     "metadata": {},
     "output_type": "display_data"
    },
    {
     "data": {
      "text/html": [
       "<div>\n",
       "<style scoped>\n",
       "    .dataframe tbody tr th:only-of-type {\n",
       "        vertical-align: middle;\n",
       "    }\n",
       "\n",
       "    .dataframe tbody tr th {\n",
       "        vertical-align: top;\n",
       "    }\n",
       "\n",
       "    .dataframe thead th {\n",
       "        text-align: right;\n",
       "    }\n",
       "</style>\n",
       "<table border=\"1\" class=\"dataframe\">\n",
       "  <thead>\n",
       "    <tr style=\"text-align: right;\">\n",
       "      <th></th>\n",
       "      <th>total_bill</th>\n",
       "      <th>tip</th>\n",
       "      <th>sex</th>\n",
       "      <th>smoker</th>\n",
       "      <th>day</th>\n",
       "      <th>time</th>\n",
       "      <th>size</th>\n",
       "    </tr>\n",
       "  </thead>\n",
       "  <tbody>\n",
       "    <tr>\n",
       "      <th>0</th>\n",
       "      <td>16.99</td>\n",
       "      <td>1.01</td>\n",
       "      <td>Female</td>\n",
       "      <td>No</td>\n",
       "      <td>Sun</td>\n",
       "      <td>Dinner</td>\n",
       "      <td>2</td>\n",
       "    </tr>\n",
       "    <tr>\n",
       "      <th>1</th>\n",
       "      <td>10.34</td>\n",
       "      <td>1.66</td>\n",
       "      <td>Male</td>\n",
       "      <td>No</td>\n",
       "      <td>Sun</td>\n",
       "      <td>Dinner</td>\n",
       "      <td>3</td>\n",
       "    </tr>\n",
       "    <tr>\n",
       "      <th>2</th>\n",
       "      <td>21.01</td>\n",
       "      <td>3.50</td>\n",
       "      <td>Male</td>\n",
       "      <td>No</td>\n",
       "      <td>Sun</td>\n",
       "      <td>Dinner</td>\n",
       "      <td>3</td>\n",
       "    </tr>\n",
       "    <tr>\n",
       "      <th>3</th>\n",
       "      <td>23.68</td>\n",
       "      <td>3.31</td>\n",
       "      <td>Male</td>\n",
       "      <td>No</td>\n",
       "      <td>Sun</td>\n",
       "      <td>Dinner</td>\n",
       "      <td>2</td>\n",
       "    </tr>\n",
       "    <tr>\n",
       "      <th>4</th>\n",
       "      <td>24.59</td>\n",
       "      <td>3.61</td>\n",
       "      <td>Female</td>\n",
       "      <td>No</td>\n",
       "      <td>Sun</td>\n",
       "      <td>Dinner</td>\n",
       "      <td>4</td>\n",
       "    </tr>\n",
       "    <tr>\n",
       "      <th>...</th>\n",
       "      <td>...</td>\n",
       "      <td>...</td>\n",
       "      <td>...</td>\n",
       "      <td>...</td>\n",
       "      <td>...</td>\n",
       "      <td>...</td>\n",
       "      <td>...</td>\n",
       "    </tr>\n",
       "    <tr>\n",
       "      <th>239</th>\n",
       "      <td>29.03</td>\n",
       "      <td>5.92</td>\n",
       "      <td>Male</td>\n",
       "      <td>No</td>\n",
       "      <td>Sat</td>\n",
       "      <td>Dinner</td>\n",
       "      <td>3</td>\n",
       "    </tr>\n",
       "    <tr>\n",
       "      <th>240</th>\n",
       "      <td>27.18</td>\n",
       "      <td>2.00</td>\n",
       "      <td>Female</td>\n",
       "      <td>Yes</td>\n",
       "      <td>Sat</td>\n",
       "      <td>Dinner</td>\n",
       "      <td>2</td>\n",
       "    </tr>\n",
       "    <tr>\n",
       "      <th>241</th>\n",
       "      <td>22.67</td>\n",
       "      <td>2.00</td>\n",
       "      <td>Male</td>\n",
       "      <td>Yes</td>\n",
       "      <td>Sat</td>\n",
       "      <td>Dinner</td>\n",
       "      <td>2</td>\n",
       "    </tr>\n",
       "    <tr>\n",
       "      <th>242</th>\n",
       "      <td>17.82</td>\n",
       "      <td>1.75</td>\n",
       "      <td>Male</td>\n",
       "      <td>No</td>\n",
       "      <td>Sat</td>\n",
       "      <td>Dinner</td>\n",
       "      <td>2</td>\n",
       "    </tr>\n",
       "    <tr>\n",
       "      <th>243</th>\n",
       "      <td>18.78</td>\n",
       "      <td>3.00</td>\n",
       "      <td>Female</td>\n",
       "      <td>No</td>\n",
       "      <td>Thur</td>\n",
       "      <td>Dinner</td>\n",
       "      <td>2</td>\n",
       "    </tr>\n",
       "  </tbody>\n",
       "</table>\n",
       "<p>231 rows × 7 columns</p>\n",
       "</div>"
      ],
      "text/plain": [
       "     total_bill   tip     sex smoker   day    time  size\n",
       "0         16.99  1.01  Female     No   Sun  Dinner     2\n",
       "1         10.34  1.66    Male     No   Sun  Dinner     3\n",
       "2         21.01  3.50    Male     No   Sun  Dinner     3\n",
       "3         23.68  3.31    Male     No   Sun  Dinner     2\n",
       "4         24.59  3.61  Female     No   Sun  Dinner     4\n",
       "..          ...   ...     ...    ...   ...     ...   ...\n",
       "239       29.03  5.92    Male     No   Sat  Dinner     3\n",
       "240       27.18  2.00  Female    Yes   Sat  Dinner     2\n",
       "241       22.67  2.00    Male    Yes   Sat  Dinner     2\n",
       "242       17.82  1.75    Male     No   Sat  Dinner     2\n",
       "243       18.78  3.00  Female     No  Thur  Dinner     2\n",
       "\n",
       "[231 rows x 7 columns]"
      ]
     },
     "metadata": {},
     "output_type": "display_data"
    },
    {
     "name": "stdout",
     "output_type": "stream",
     "text": [
      "要素数 (231, 7)\n"
     ]
    }
   ],
   "source": [
    "import pandas as pd\n",
    "import seaborn as sns\n",
    "\n",
    "tips = pd.DataFrame( sns.load_dataset(\"tips\") )\n",
    "print(\"元データの要素数\", tips.shape)\n",
    "display(\"size列の集計\", tips[\"size\"].value_counts())\n",
    "\n",
    "tips_filtered = tips.groupby(by = \"size\").filter(lambda x: x[\"size\"].count() >= 30)\n",
    "display(\"要素数が30個以上のデータを抽出した\", tips_filtered)\n",
    "print(\"要素数\", tips_filtered.shape)"
   ]
  },
  {
   "cell_type": "code",
   "execution_count": null,
   "metadata": {},
   "outputs": [],
   "source": [
    "import polars as pl\n",
    "import seaborn as sns\n",
    "\n",
    "tips = pl.DataFrame( sns.load_dataset(\"tips\") )\n",
    "print(\"元データの要素数\", tips.shape)\n",
    "display(\"size列の集計\", tips[\"size\"].value_counts())\n",
    "\n",
    "tips_filtered = tips.group_by(by = \"size\").agg( pl.col(\"size\").count().alias(\"counts\") ).filter( pl.col(\"counts\") >= 30 )\n",
    "display(\"要素数が30個以上のデータを抽出した\", tips_filtered)\n",
    "print(\"要素数\", tips_filtered.shape)\n"
   ]
  }
 ],
 "metadata": {
  "kernelspec": {
   "display_name": "Python 3",
   "language": "python",
   "name": "python3"
  },
  "language_info": {
   "codemirror_mode": {
    "name": "ipython",
    "version": 3
   },
   "file_extension": ".py",
   "mimetype": "text/x-python",
   "name": "python",
   "nbconvert_exporter": "python",
   "pygments_lexer": "ipython3",
   "version": "3.11.4"
  }
 },
 "nbformat": 4,
 "nbformat_minor": 2
}
