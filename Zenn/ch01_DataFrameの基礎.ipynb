{
 "cells": [
  {
   "cell_type": "markdown",
   "metadata": {},
   "source": [
    "# Polarsで「pandasライブラリ活用入門(第2版)」を書いてみました\n",
    "# はじめに\n",
    "Pythonにおけるデータ分析ライブラリといえば[pandas](https://pandas.pydata.org/docs/reference/index.html)ですが、最近Rust言語で書かれた高速データ分析ライブラリ[polars](https://pola-rs.github.io/polars/py-polars/html/reference/)というライブラリへの注目が集まっています。\n",
    "今年は[Qiitaのアドベントカレンダー](https://qiita.com/advent-calendar/2023/polars)も作成されているので、多くの方が気になるライブラリだと言えるでしょう。\n",
    "\n",
    "私も今年の3月に[pandasとpolarsのコード比較記事](https://zenn.dev/tremendous1192/articles/bd1454621d624a)を執筆しましたが、X(旧Twitter)にて動かないコードがあるとのご指摘を頂きました。\n",
    "どうやらいくつかの**破壊的変更**があったようです。\n",
    "[参考書籍の第2版](https://book.impress.co.jp/books/1122101167)が今年の9月に出版されたので、内容を更新したいと思います。\n",
    "\n",
    "## 参考\n",
    "* [pandasライブラリ活用入門[第2版] データクリーニング/前処理など一連の分析プロセスをマスター!](https://book.impress.co.jp/books/1122101167)\n",
    "  * pandas単体で完結する第1, 2, 4, 5, 6, 8章のコードを記載します。\n",
    "* [API reference — pandas 2.1.4 documentation](https://pandas.pydata.org/docs/reference/index.html)\n",
    "* [API reference — Polars documentation](https://pola-rs.github.io/polars/py-polars/html/reference/index.html)\n",
    "\n",
    "## 前回記事との違い\n",
    "1. 前回は[原著のGitHub](https://github.com/chendaniely/pandas_for_everyone)に沿ってコードを記載しましたが、今回は書籍の内容に沿ってコードを書いていきます。\n",
    "書籍を買われた方にとって、より見やすい構成になるかと思います。\n",
    "\n",
    "2. すべてのコードブロックに```import pandas/polars```を記入するので、pandasとpolarsの句は分けないことにします。\n",
    "\n",
    "3. ```DataFrame```の表示では、```print```ではなく```display```を使います。\n",
    "\n",
    "## ライブラリ\n",
    "* ```pandas 2.1.4```\n",
    "* ```polars 0.19.19```\n",
    "* ```numpy 1.26.2```\n",
    "* ```seaborn 0.13.0```"
   ]
  },
  {
   "cell_type": "code",
   "execution_count": null,
   "metadata": {},
   "outputs": [],
   "source": [
    "import polars as pl\n",
    "#pl.Config.set_tbl_cols(-1) # 列表示を省略しない\n",
    "#pl.Config.set_tbl_rows(-1) # 行の表示を省略しない\n",
    "\n",
    "import pandas as pd\n",
    "#pd.set_option(\"display.max_rows\", 500)\n",
    "#pd.set_option(\"display.min_rows\", 500)"
   ]
  },
  {
   "cell_type": "markdown",
   "metadata": {},
   "source": [
    "# 第1部　基本的な使い方\n",
    "## 第1章 DataFrame\n",
    "### 1.2 最初のデータセットをロードする"
   ]
  },
  {
   "cell_type": "code",
   "execution_count": null,
   "metadata": {},
   "outputs": [],
   "source": [
    "import pandas as pd\n",
    "df = pd.read_csv(\"../data/gapminder.tsv\", sep = \"\\t\")\n",
    "display(\"DataFrameの型\", type(df))\n",
    "display(\"DataFrameの(行数, 列数)\", df.shape)\n",
    "display(\"DataFrameの列名\", df.columns)\n",
    "display(\"各列のデータ型\", df.dtypes)\n",
    "display(\"DataFrameの基本情報\", df.info())\n"
   ]
  },
  {
   "cell_type": "code",
   "execution_count": null,
   "metadata": {},
   "outputs": [],
   "source": [
    "import polars as pl\n",
    "df = pl.read_csv(\"../data/gapminder.tsv\", separator = \"\\t\")\n",
    "display(\"DataFrameの型\", type(df))\n",
    "display(\"DataFrameの(行数, 列数)\", df.shape)\n",
    "display(\"DataFrameの列名\", df.columns)\n",
    "display(\"各列のデータ型\", df.dtypes)\n",
    "display(\"DataFrameの基本情報\", df.describe().transpose(include_header = True))\n"
   ]
  },
  {
   "cell_type": "markdown",
   "metadata": {},
   "source": [
    "### 1.3 列、行、セルを見る"
   ]
  },
  {
   "cell_type": "code",
   "execution_count": null,
   "metadata": {},
   "outputs": [],
   "source": [
    "import pandas as pd\n",
    "df = pd.read_csv(\"../data/gapminder.tsv\", sep = \"\\t\")\n",
    "display(\"先頭の5行を表示する\", df.head())"
   ]
  },
  {
   "cell_type": "code",
   "execution_count": null,
   "metadata": {},
   "outputs": [],
   "source": [
    "import polars as pl\n",
    "df = pl.read_csv(\"../data/gapminder.tsv\", separator = \"\\t\")\n",
    "display(\"先頭の5行を表示する\", df.head())"
   ]
  },
  {
   "cell_type": "markdown",
   "metadata": {},
   "source": [
    "#### 1.3.1 名前で列を絞り込む"
   ]
  },
  {
   "cell_type": "code",
   "execution_count": null,
   "metadata": {},
   "outputs": [],
   "source": [
    "import pandas as pd\n",
    "df = pd.read_csv(\"../data/gapminder.tsv\", sep = \"\\t\")\n",
    "country_df = df[\"country\"]\n",
    "display(\"最初の5個の値を表示する\", country_df.head())\n",
    "display(\"最後の5個の値を表示する\", country_df.tail())"
   ]
  },
  {
   "cell_type": "code",
   "execution_count": null,
   "metadata": {},
   "outputs": [],
   "source": [
    "import polars as pl\n",
    "df = pl.read_csv(\"../data/gapminder.tsv\", separator = \"\\t\")\n",
    "country_df = df[\"country\"]\n",
    "display(\"最初の5個の値を表示する\", country_df.head(n = 5))\n",
    "display(\"最後の5個の値を表示する\", country_df.tail(n = 5))"
   ]
  },
  {
   "cell_type": "code",
   "execution_count": null,
   "metadata": {},
   "outputs": [],
   "source": [
    "import pandas as pd\n",
    "df = pd.read_csv(\"../data/gapminder.tsv\", sep = \"\\t\")\n",
    "subset = df[[\"country\", \"continent\", \"year\"]]\n",
    "display(\"国と大陸と年を見る\", subset)"
   ]
  },
  {
   "cell_type": "code",
   "execution_count": null,
   "metadata": {},
   "outputs": [],
   "source": [
    "import polars as pl\n",
    "df = pl.read_csv(\"../data/gapminder.tsv\", separator = \"\\t\")\n",
    "subset = df[[\"country\", \"continent\", \"year\"]]\n",
    "display(\"国と大陸と年を見る\", subset)"
   ]
  },
  {
   "cell_type": "markdown",
   "metadata": {},
   "source": [
    "#### 1.3.1.1 1個の値で返されるDataFrameやSeries"
   ]
  },
  {
   "cell_type": "code",
   "execution_count": null,
   "metadata": {},
   "outputs": [],
   "source": [
    "import pandas as pd\n",
    "df = pd.read_csv(\"../data/gapminder.tsv\", sep = \"\\t\")\n",
    "country_df = df[\"country\"]\n",
    "display(\"[] で国の列を抽出した場合\", country_df.head())\n",
    "display(\"データ型\", type(country_df))\n",
    "country_df_list = df[[\"country\"]]\n",
    "display(\"[[]] で国の列を抽出した場合\", country_df_list.head())\n",
    "display(\"データ型\", type(country_df_list))"
   ]
  },
  {
   "cell_type": "code",
   "execution_count": null,
   "metadata": {},
   "outputs": [],
   "source": [
    "import polars as pl\n",
    "df = pl.read_csv(\"../data/gapminder.tsv\", separator = \"\\t\")\n",
    "country_df = df[\"country\"]\n",
    "display(\"[] で国の列を抽出した場合\", country_df.head(n = 5))\n",
    "display(\"データ型\", type(country_df))\n",
    "country_df_list = df[[\"country\"]]\n",
    "display(\"[[]] で国の列を抽出した場合\", country_df_list.head())\n",
    "display(\"データ型\", type(country_df_list))"
   ]
  },
  {
   "cell_type": "markdown",
   "metadata": {},
   "source": [
    "#### 1.3.2 複数行の抽出"
   ]
  },
  {
   "cell_type": "code",
   "execution_count": null,
   "metadata": {},
   "outputs": [],
   "source": [
    "import pandas as pd\n",
    "df = pd.read_csv(\"../data/gapminder.tsv\", sep = \"\\t\")\n",
    "display(\"最初の行を取る\", df.loc[0])\n",
    "last_row_index = df.shape[0] - 1\n",
    "display(\"最後の行を取る\", df.loc[last_row_index])"
   ]
  },
  {
   "cell_type": "code",
   "execution_count": null,
   "metadata": {},
   "outputs": [],
   "source": [
    "import polars as pl\n",
    "df = pl.read_csv(\"../data/gapminder.tsv\", separator = \"\\t\")\n",
    "display(\"最初の行を取る\", df.slice( offset = 0, length = 1))\n",
    "last_row_index = df.shape[0] - 1\n",
    "display(\"最後の行を取る\", df.slice( offset = last_row_index, length = 1))"
   ]
  },
  {
   "cell_type": "code",
   "execution_count": null,
   "metadata": {},
   "outputs": [],
   "source": [
    "import pandas as pd\n",
    "df = pd.read_csv(\"../data/gapminder.tsv\", sep = \"\\t\")\n",
    "display(\"locで最初の行を取得した場合の型\", type(df.loc[0]))\n",
    "display(\"head()で最初の行を取得した場合の型\", type(df.head(n = 1)))"
   ]
  },
  {
   "cell_type": "code",
   "execution_count": null,
   "metadata": {},
   "outputs": [],
   "source": [
    "import polars as pl\n",
    "df = pl.read_csv(\"../data/gapminder.tsv\", separator = \"\\t\")\n",
    "display(\"sliceで最初の行を取得した場合の型\", type(df.slice( offset = 0, length = 1)))\n",
    "display(\"head()で最初の行を取得した場合の型\", type(df.head(n = 1)))"
   ]
  },
  {
   "cell_type": "markdown",
   "metadata": {},
   "source": [
    "#### 1.3.2.2 複数行の抽出"
   ]
  },
  {
   "cell_type": "code",
   "execution_count": null,
   "metadata": {},
   "outputs": [],
   "source": [
    "import pandas as pd\n",
    "df = pd.read_csv(\"../data/gapminder.tsv\", sep = \"\\t\")\n",
    "display(\"複数行を抽出する\", df.loc[[0, 99, 999]])"
   ]
  },
  {
   "cell_type": "code",
   "execution_count": null,
   "metadata": {},
   "outputs": [],
   "source": [
    "import polars as pl\n",
    "df = pl.read_csv(\"../data/gapminder.tsv\", separator = \"\\t\")\n",
    "display(\"複数行を抽出する\", df[ [0, 99, 999] ])"
   ]
  },
  {
   "cell_type": "markdown",
   "metadata": {},
   "source": [
    "#### 1.3.3 行番号による複数行の抽出: iloc[]"
   ]
  },
  {
   "cell_type": "code",
   "execution_count": null,
   "metadata": {},
   "outputs": [],
   "source": [
    "import pandas as pd\n",
    "df = pd.read_csv(\"../data/gapminder.tsv\", sep = \"\\t\")\n",
    "display(\"2番目の行を見る\", df.iloc[1])\n",
    "display(\"100番目の行を見る\", df.iloc[99])\n",
    "display(\"-1 を使って最後の行を見る\", df.iloc[-1])\n",
    "display(\"第1行と第100行と第1000行を選択する\", df.iloc[[0, 99, 999]])"
   ]
  },
  {
   "cell_type": "code",
   "execution_count": null,
   "metadata": {},
   "outputs": [],
   "source": [
    "import polars as pl\n",
    "df = pl.read_csv(\"../data/gapminder.tsv\", separator = \"\\t\")\n",
    "display(\"2番目の行を見る\", df[ 1 ])\n",
    "display(\"100番目の行を見る\", df[ 99 ])\n",
    "display(\"-1 を使って最後の行を見る\", df[ -1 ])\n",
    "display(\"第1行と第100行と第1000行を選択する\", df[ [0, 99, 999] ])"
   ]
  },
  {
   "cell_type": "markdown",
   "metadata": {},
   "source": [
    "#### 1.3.4 組み合わせで絞り込む\n",
    "#### 1.3.4.1 複数列の抽出"
   ]
  },
  {
   "cell_type": "code",
   "execution_count": null,
   "metadata": {},
   "outputs": [],
   "source": [
    "import pandas as pd\n",
    "df = pd.read_csv(\"../data/gapminder.tsv\", sep = \"\\t\")\n",
    "display(\"locと列名で列を絞り込む\", df.loc[:, [\"year\", \"pop\"]].head(n = 2))\n",
    "display(\"ilocと列番号で列を絞り込む\", df.iloc[:, [2, 4, -1]].head(n = 2))"
   ]
  },
  {
   "cell_type": "code",
   "execution_count": null,
   "metadata": {},
   "outputs": [],
   "source": [
    "import polars as pl\n",
    "df = pl.read_csv(\"../data/gapminder.tsv\", separator = \"\\t\")\n",
    "display(\"[]と列名で列を絞り込む\", df[:, [\"year\", \"pop\"]].head(n = 2))\n",
    "display(\"[]と列番号で列を絞り込む\", df[:, [2, 4, -1]].head(n = 2))"
   ]
  },
  {
   "cell_type": "markdown",
   "metadata": {},
   "source": [
    "#### 1.3.4.2 範囲による複数列の抽出"
   ]
  },
  {
   "cell_type": "code",
   "execution_count": null,
   "metadata": {},
   "outputs": [],
   "source": [
    "import pandas as pd\n",
    "df = pd.read_csv(\"../data/gapminder.tsv\", sep = \"\\t\")\n",
    "display(\"第0列から第4列までを絞り込む\", df.iloc[:, list(range(5))].head(n = 2))\n",
    "display(\"第3列から第5列までを絞り込む\", df.iloc[:, list(range(3, 6))].head(n = 2))\n",
    "display(\"第0列から第5列まで1つおきに絞り込む\", df.iloc[:, list(range(0, 6, 2))].head(n = 2))"
   ]
  },
  {
   "cell_type": "code",
   "execution_count": null,
   "metadata": {},
   "outputs": [],
   "source": [
    "import polars as pl\n",
    "df = pl.read_csv(\"../data/gapminder.tsv\", separator = \"\\t\")\n",
    "display(\"第0列から第4列までを絞り込む\", df[:, list(range(5))].head(n = 2))\n",
    "display(\"第3列から第5列までを絞り込む\", df[:, list(range(3, 6))].head(n = 2))\n",
    "display(\"第0列から第5列まで1つおきに絞り込む\", df[:, list(range(0, 6, 2))].head(n = 2))"
   ]
  },
  {
   "cell_type": "markdown",
   "metadata": {},
   "source": [
    "#### 1.3.4.3 スライスによる複数列の絞り込み"
   ]
  },
  {
   "cell_type": "code",
   "execution_count": null,
   "metadata": {},
   "outputs": [],
   "source": [
    "import pandas as pd\n",
    "df = pd.read_csv(\"../data/gapminder.tsv\", sep = \"\\t\")\n",
    "display(\"最初の3列を絞り込む\", df.iloc[:, list(range(3))].head(n = 2))\n",
    "display(\"最初の3列をスライス\", df.iloc[:, :3].head(n = 2))\n",
    "display(\"第3列から第5列までを絞り込む\", df.iloc[:, list(range(3, 6))].head(n = 2))\n",
    "display(\"第3列から第5列までをスライス\", df.iloc[:, 3:6].head(n = 2))\n",
    "display(\"第0列から第5列まで1つおきに絞り込む\", df.iloc[:, list(range(0, 6, 2))].head(n = 2))\n",
    "display(\"第0列から第5列まで1つおきにスライス\", df.iloc[:, 0:6:2].head(n = 2))"
   ]
  },
  {
   "cell_type": "code",
   "execution_count": null,
   "metadata": {},
   "outputs": [],
   "source": [
    "import polars as pl\n",
    "df = pl.read_csv(\"../data/gapminder.tsv\", separator = \"\\t\")\n",
    "display(\"最初の3列を絞り込む\", df[:, list(range(5))].head(n = 2))\n",
    "display(\"最初の3列をスライス\", df[:, :3].head(n = 2))\n",
    "display(\"第3列から第5列までを絞り込む\", df[:, list(range(3, 6))].head(n = 2))\n",
    "display(\"第3列から第5列までをスライス\", df[:, 3:6].head(n = 2))\n",
    "display(\"第0列から第5列まで1つおきに絞り込む\", df[:, list(range(0, 6, 2))].head(n = 2))\n",
    "display(\"第0列から第5列まで1つおきにスライス\", df[:, 0:6:2].head(n = 2))"
   ]
  },
  {
   "cell_type": "markdown",
   "metadata": {},
   "source": [
    "#### 1.3.5 列と行の抽出"
   ]
  },
  {
   "cell_type": "code",
   "execution_count": null,
   "metadata": {},
   "outputs": [],
   "source": [
    "import pandas as pd\n",
    "df = pd.read_csv(\"../data/gapminder.tsv\", sep = \"\\t\")\n",
    "display(\"locを用いて、第43行のcountry列の要素を抽出する\", df.loc[42, \"country\"])\n",
    "display(\"ilocを用いて、第43行の第0列の要素を抽出する\", df.iloc[42, 0])"
   ]
  },
  {
   "cell_type": "code",
   "execution_count": null,
   "metadata": {},
   "outputs": [],
   "source": [
    "import polars as pl\n",
    "df = pl.read_csv(\"../data/gapminder.tsv\", separator = \"\\t\")\n",
    "display(\"第43行のcountry列の要素を抽出する\", df[42, \"country\"])\n",
    "display(\"第43行の第0列の要素を抽出する\", df[42, 0])"
   ]
  },
  {
   "cell_type": "markdown",
   "metadata": {},
   "source": [
    "#### 1.3.5.1 複数行、複数列の抽出"
   ]
  },
  {
   "cell_type": "code",
   "execution_count": null,
   "metadata": {},
   "outputs": [],
   "source": [
    "import pandas as pd\n",
    "df = pd.read_csv(\"../data/gapminder.tsv\", sep = \"\\t\")\n",
    "display(\"第1行、第100行、第1000行を、第1列、第4列、第6列から切り出す\", df.iloc[[0, 99, 999], [0, 3, 5]])\n",
    "display(\"先の抽出を、列名で実行する場合\", df.loc[[0, 99, 999], [\"country\", \"lifeExp\", \"gdpPercap\"]])"
   ]
  },
  {
   "cell_type": "code",
   "execution_count": null,
   "metadata": {},
   "outputs": [],
   "source": [
    "import polars as pl\n",
    "df = pl.read_csv(\"../data/gapminder.tsv\", separator = \"\\t\")\n",
    "display(\"第1行、第100行、第1000行を、第1列、第4列、第6列から切り出す\", df[[0, 99, 999], [0, 3, 5]])\n",
    "display(\"先の抽出を、列名で実行する場合\", df[[0, 99, 999], [\"country\", \"lifeExp\", \"gdpPercap\"]])"
   ]
  },
  {
   "cell_type": "markdown",
   "metadata": {},
   "source": [
    "### 1.4 グループ分けと集約の計算\n",
    "疑問\n",
    "1. 各年度で予期された余命(```lifeExp```)の平均値は、いくつなのだろうか。人口(```pop```)やGDP(```gdpPercap```)の平均値も知りたい\n",
    "2. データを大陸(```continent```)ごとに分け、それぞれに同じ計算を実行したら、どういう結果になるか。\n",
    "3. それぞれの大陸のリストに、どれだけの国(```country```)が入っているか。"
   ]
  },
  {
   "cell_type": "code",
   "execution_count": null,
   "metadata": {},
   "outputs": [],
   "source": [
    "import pandas as pd\n",
    "df = pd.read_csv(\"../data/gapminder.tsv\", sep = \"\\t\")\n",
    "display(\"グループ分けの前にデータを眺めてみる\", df)"
   ]
  },
  {
   "cell_type": "code",
   "execution_count": null,
   "metadata": {},
   "outputs": [],
   "source": [
    "import polars as pl\n",
    "df = pl.read_csv(\"../data/gapminder.tsv\", separator = \"\\t\")\n",
    "display(\"グループ分けの前にデータを眺めてみる\", df)"
   ]
  },
  {
   "cell_type": "markdown",
   "metadata": {},
   "source": [
    "#### 1.4.1 グループごとの平均値"
   ]
  },
  {
   "cell_type": "code",
   "execution_count": null,
   "metadata": {},
   "outputs": [],
   "source": [
    "import pandas as pd\n",
    "df = pd.read_csv(\"../data/gapminder.tsv\", sep = \"\\t\")\n",
    "# 各年度で予想された余命の平均値は?\n",
    "# この疑問に答えるには、\n",
    "# 1. まずデータを年度によって分割し、\n",
    "# 2. 毎年の\"lifeExp\"列を取り出し、\n",
    "# 3. その平均値を計算する\n",
    "display(\"各年度で予想された余命の平均値\", df.groupby(\"year\")[\"lifeExp\"].mean())"
   ]
  },
  {
   "cell_type": "code",
   "execution_count": null,
   "metadata": {},
   "outputs": [],
   "source": [
    "import polars as pl\n",
    "df = pl.read_csv(\"../data/gapminder.tsv\", separator = \"\\t\")\n",
    "# 各年度で予想された余命の平均値は?\n",
    "# この疑問に答えるには、\n",
    "# 1. まずデータを年度によって分割し、\n",
    "# 2. 毎年の\"lifeExp\"列を取り出し、\n",
    "# 3. その平均値を計算する\n",
    "display(\"各年度で予想された余命の平均値\", df.group_by(\"year\").agg( pl.col(\"lifeExp\").mean() ).sort(by = \"year\"))"
   ]
  },
  {
   "cell_type": "code",
   "execution_count": null,
   "metadata": {},
   "outputs": [],
   "source": [
    "import pandas as pd\n",
    "df = pd.read_csv(\"../data/gapminder.tsv\", sep = \"\\t\")\n",
    "# 各年度、大陸別の予想された余命の平均値は?\n",
    "display(\"各年度、大陸別で予想された余命の平均値\",\n",
    "        df\\\n",
    "                .groupby([\"year\", \"continent\"])[[\"lifeExp\", \"gdpPercap\"]]\\\n",
    "                        .mean())"
   ]
  },
  {
   "cell_type": "code",
   "execution_count": null,
   "metadata": {},
   "outputs": [],
   "source": [
    "import polars as pl\n",
    "df = pl.read_csv(\"../data/gapminder.tsv\", separator = \"\\t\")\n",
    "# 各年度、大陸別の予想された余命の平均値は?\n",
    "display(\"各年度、大陸別で予想された余命の平均値\",\n",
    "        df\\\n",
    "    .group_by([\"year\", \"continent\"])\\\n",
    "    .agg([ pl.col(\"lifeExp\").mean(), pl.mean(\"gdpPercap\")])\\\n",
    "    .sort(by = \"year\"))"
   ]
  },
  {
   "cell_type": "markdown",
   "metadata": {},
   "source": [
    "#### 1.4.2 グループごとの度数/頻度"
   ]
  },
  {
   "cell_type": "code",
   "execution_count": null,
   "metadata": {},
   "outputs": [],
   "source": [
    "import pandas as pd\n",
    "df = pd.read_csv(\"../data/gapminder.tsv\", sep = \"\\t\")\n",
    "display(\"各大陸に入っている国の数\", df.groupby(\"continent\")[\"country\"].nunique())"
   ]
  },
  {
   "cell_type": "code",
   "execution_count": null,
   "metadata": {},
   "outputs": [],
   "source": [
    "import polars as pl\n",
    "df = pl.read_csv(\"../data/gapminder.tsv\", separator = \"\\t\")\n",
    "display(\"各大陸に入っている国の数\",\n",
    "        df\\\n",
    "            .group_by(by = \"continent\")\\\n",
    "                .agg( pl.col(\"country\").n_unique() )\\\n",
    "                    .sort(by = \"continent\"))"
   ]
  }
 ],
 "metadata": {
  "kernelspec": {
   "display_name": "Python 3",
   "language": "python",
   "name": "python3"
  },
  "language_info": {
   "codemirror_mode": {
    "name": "ipython",
    "version": 3
   },
   "file_extension": ".py",
   "mimetype": "text/x-python",
   "name": "python",
   "nbconvert_exporter": "python",
   "pygments_lexer": "ipython3",
   "version": "3.11.4"
  }
 },
 "nbformat": 4,
 "nbformat_minor": 2
}
