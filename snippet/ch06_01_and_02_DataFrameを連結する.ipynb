{
 "cells": [
  {
   "cell_type": "markdown",
   "metadata": {},
   "source": [
    "# 第6章 データの組み立て\n",
    "## 6.1 データセットを組み合わせる\n",
    "## 6.2 連結"
   ]
  },
  {
   "cell_type": "code",
   "execution_count": 1,
   "metadata": {},
   "outputs": [
    {
     "data": {
      "text/plain": [
       "polars.config.Config"
      ]
     },
     "execution_count": 1,
     "metadata": {},
     "output_type": "execute_result"
    }
   ],
   "source": [
    "import polars as pl\n",
    "pl.Config.set_tbl_cols(-1)# 列が省略されないようにする"
   ]
  },
  {
   "cell_type": "markdown",
   "metadata": {},
   "source": [
    "### データを読み込む"
   ]
  },
  {
   "cell_type": "code",
   "execution_count": 2,
   "metadata": {},
   "outputs": [
    {
     "data": {
      "text/html": [
       "<div><style>\n",
       ".dataframe > thead > tr,\n",
       ".dataframe > tbody > tr {\n",
       "  text-align: right;\n",
       "  white-space: pre-wrap;\n",
       "}\n",
       "</style>\n",
       "<small>shape: (4, 4)</small><table border=\"1\" class=\"dataframe\"><thead><tr><th>A</th><th>B</th><th>C</th><th>D</th></tr><tr><td>str</td><td>str</td><td>str</td><td>str</td></tr></thead><tbody><tr><td>&quot;a0&quot;</td><td>&quot;b0&quot;</td><td>&quot;c0&quot;</td><td>&quot;d0&quot;</td></tr><tr><td>&quot;a1&quot;</td><td>&quot;b1&quot;</td><td>&quot;c1&quot;</td><td>&quot;d1&quot;</td></tr><tr><td>&quot;a2&quot;</td><td>&quot;b2&quot;</td><td>&quot;c2&quot;</td><td>&quot;d2&quot;</td></tr><tr><td>&quot;a3&quot;</td><td>&quot;b3&quot;</td><td>&quot;c3&quot;</td><td>&quot;d3&quot;</td></tr></tbody></table></div>"
      ],
      "text/plain": [
       "shape: (4, 4)\n",
       "┌─────┬─────┬─────┬─────┐\n",
       "│ A   ┆ B   ┆ C   ┆ D   │\n",
       "│ --- ┆ --- ┆ --- ┆ --- │\n",
       "│ str ┆ str ┆ str ┆ str │\n",
       "╞═════╪═════╪═════╪═════╡\n",
       "│ a0  ┆ b0  ┆ c0  ┆ d0  │\n",
       "│ a1  ┆ b1  ┆ c1  ┆ d1  │\n",
       "│ a2  ┆ b2  ┆ c2  ┆ d2  │\n",
       "│ a3  ┆ b3  ┆ c3  ┆ d3  │\n",
       "└─────┴─────┴─────┴─────┘"
      ]
     },
     "metadata": {},
     "output_type": "display_data"
    },
    {
     "data": {
      "text/html": [
       "<div><style>\n",
       ".dataframe > thead > tr,\n",
       ".dataframe > tbody > tr {\n",
       "  text-align: right;\n",
       "  white-space: pre-wrap;\n",
       "}\n",
       "</style>\n",
       "<small>shape: (4, 4)</small><table border=\"1\" class=\"dataframe\"><thead><tr><th>A</th><th>B</th><th>C</th><th>D</th></tr><tr><td>str</td><td>str</td><td>str</td><td>str</td></tr></thead><tbody><tr><td>&quot;a4&quot;</td><td>&quot;b4&quot;</td><td>&quot;c4&quot;</td><td>&quot;d4&quot;</td></tr><tr><td>&quot;a5&quot;</td><td>&quot;b5&quot;</td><td>&quot;c5&quot;</td><td>&quot;d5&quot;</td></tr><tr><td>&quot;a6&quot;</td><td>&quot;b6&quot;</td><td>&quot;c6&quot;</td><td>&quot;d6&quot;</td></tr><tr><td>&quot;a7&quot;</td><td>&quot;b7&quot;</td><td>&quot;c7&quot;</td><td>&quot;d7&quot;</td></tr></tbody></table></div>"
      ],
      "text/plain": [
       "shape: (4, 4)\n",
       "┌─────┬─────┬─────┬─────┐\n",
       "│ A   ┆ B   ┆ C   ┆ D   │\n",
       "│ --- ┆ --- ┆ --- ┆ --- │\n",
       "│ str ┆ str ┆ str ┆ str │\n",
       "╞═════╪═════╪═════╪═════╡\n",
       "│ a4  ┆ b4  ┆ c4  ┆ d4  │\n",
       "│ a5  ┆ b5  ┆ c5  ┆ d5  │\n",
       "│ a6  ┆ b6  ┆ c6  ┆ d6  │\n",
       "│ a7  ┆ b7  ┆ c7  ┆ d7  │\n",
       "└─────┴─────┴─────┴─────┘"
      ]
     },
     "metadata": {},
     "output_type": "display_data"
    },
    {
     "data": {
      "text/html": [
       "<div><style>\n",
       ".dataframe > thead > tr,\n",
       ".dataframe > tbody > tr {\n",
       "  text-align: right;\n",
       "  white-space: pre-wrap;\n",
       "}\n",
       "</style>\n",
       "<small>shape: (4, 4)</small><table border=\"1\" class=\"dataframe\"><thead><tr><th>A</th><th>B</th><th>C</th><th>D</th></tr><tr><td>str</td><td>str</td><td>str</td><td>str</td></tr></thead><tbody><tr><td>&quot;a8&quot;</td><td>&quot;b8&quot;</td><td>&quot;c8&quot;</td><td>&quot;d8&quot;</td></tr><tr><td>&quot;a9&quot;</td><td>&quot;b9&quot;</td><td>&quot;c9&quot;</td><td>&quot;d9&quot;</td></tr><tr><td>&quot;a10&quot;</td><td>&quot;b10&quot;</td><td>&quot;c10&quot;</td><td>&quot;d10&quot;</td></tr><tr><td>&quot;a11&quot;</td><td>&quot;b11&quot;</td><td>&quot;c11&quot;</td><td>&quot;d11&quot;</td></tr></tbody></table></div>"
      ],
      "text/plain": [
       "shape: (4, 4)\n",
       "┌─────┬─────┬─────┬─────┐\n",
       "│ A   ┆ B   ┆ C   ┆ D   │\n",
       "│ --- ┆ --- ┆ --- ┆ --- │\n",
       "│ str ┆ str ┆ str ┆ str │\n",
       "╞═════╪═════╪═════╪═════╡\n",
       "│ a8  ┆ b8  ┆ c8  ┆ d8  │\n",
       "│ a9  ┆ b9  ┆ c9  ┆ d9  │\n",
       "│ a10 ┆ b10 ┆ c10 ┆ d10 │\n",
       "│ a11 ┆ b11 ┆ c11 ┆ d11 │\n",
       "└─────┴─────┴─────┴─────┘"
      ]
     },
     "metadata": {},
     "output_type": "display_data"
    }
   ],
   "source": [
    "df1 = pl.read_csv(\"../data/concat_1.csv\")\n",
    "df2 = pl.read_csv(\"../data/concat_2.csv\")\n",
    "df3 = pl.read_csv(\"../data/concat_3.csv\")\n",
    "\n",
    "display(df1)\n",
    "display(df2)\n",
    "display(df3)"
   ]
  },
  {
   "cell_type": "markdown",
   "metadata": {},
   "source": [
    "### 縦方向に連結する"
   ]
  },
  {
   "cell_type": "code",
   "execution_count": 3,
   "metadata": {},
   "outputs": [
    {
     "data": {
      "text/html": [
       "<div><style>\n",
       ".dataframe > thead > tr,\n",
       ".dataframe > tbody > tr {\n",
       "  text-align: right;\n",
       "  white-space: pre-wrap;\n",
       "}\n",
       "</style>\n",
       "<small>shape: (12, 4)</small><table border=\"1\" class=\"dataframe\"><thead><tr><th>A</th><th>B</th><th>C</th><th>D</th></tr><tr><td>str</td><td>str</td><td>str</td><td>str</td></tr></thead><tbody><tr><td>&quot;a0&quot;</td><td>&quot;b0&quot;</td><td>&quot;c0&quot;</td><td>&quot;d0&quot;</td></tr><tr><td>&quot;a1&quot;</td><td>&quot;b1&quot;</td><td>&quot;c1&quot;</td><td>&quot;d1&quot;</td></tr><tr><td>&quot;a2&quot;</td><td>&quot;b2&quot;</td><td>&quot;c2&quot;</td><td>&quot;d2&quot;</td></tr><tr><td>&quot;a3&quot;</td><td>&quot;b3&quot;</td><td>&quot;c3&quot;</td><td>&quot;d3&quot;</td></tr><tr><td>&quot;a4&quot;</td><td>&quot;b4&quot;</td><td>&quot;c4&quot;</td><td>&quot;d4&quot;</td></tr><tr><td>&quot;a5&quot;</td><td>&quot;b5&quot;</td><td>&quot;c5&quot;</td><td>&quot;d5&quot;</td></tr><tr><td>&quot;a6&quot;</td><td>&quot;b6&quot;</td><td>&quot;c6&quot;</td><td>&quot;d6&quot;</td></tr><tr><td>&quot;a7&quot;</td><td>&quot;b7&quot;</td><td>&quot;c7&quot;</td><td>&quot;d7&quot;</td></tr><tr><td>&quot;a8&quot;</td><td>&quot;b8&quot;</td><td>&quot;c8&quot;</td><td>&quot;d8&quot;</td></tr><tr><td>&quot;a9&quot;</td><td>&quot;b9&quot;</td><td>&quot;c9&quot;</td><td>&quot;d9&quot;</td></tr><tr><td>&quot;a10&quot;</td><td>&quot;b10&quot;</td><td>&quot;c10&quot;</td><td>&quot;d10&quot;</td></tr><tr><td>&quot;a11&quot;</td><td>&quot;b11&quot;</td><td>&quot;c11&quot;</td><td>&quot;d11&quot;</td></tr></tbody></table></div>"
      ],
      "text/plain": [
       "shape: (12, 4)\n",
       "┌─────┬─────┬─────┬─────┐\n",
       "│ A   ┆ B   ┆ C   ┆ D   │\n",
       "│ --- ┆ --- ┆ --- ┆ --- │\n",
       "│ str ┆ str ┆ str ┆ str │\n",
       "╞═════╪═════╪═════╪═════╡\n",
       "│ a0  ┆ b0  ┆ c0  ┆ d0  │\n",
       "│ a1  ┆ b1  ┆ c1  ┆ d1  │\n",
       "│ a2  ┆ b2  ┆ c2  ┆ d2  │\n",
       "│ a3  ┆ b3  ┆ c3  ┆ d3  │\n",
       "│ …   ┆ …   ┆ …   ┆ …   │\n",
       "│ a8  ┆ b8  ┆ c8  ┆ d8  │\n",
       "│ a9  ┆ b9  ┆ c9  ┆ d9  │\n",
       "│ a10 ┆ b10 ┆ c10 ┆ d10 │\n",
       "│ a11 ┆ b11 ┆ c11 ┆ d11 │\n",
       "└─────┴─────┴─────┴─────┘"
      ]
     },
     "execution_count": 3,
     "metadata": {},
     "output_type": "execute_result"
    }
   ],
   "source": [
    "row_concat = pl.concat(items = [df1, df2, df3], how = 'vertical')\n",
    "row_concat"
   ]
  },
  {
   "cell_type": "markdown",
   "metadata": {},
   "source": [
    "### 横方向に連結する"
   ]
  },
  {
   "cell_type": "code",
   "execution_count": 4,
   "metadata": {},
   "outputs": [
    {
     "data": {
      "text/html": [
       "<div><style>\n",
       ".dataframe > thead > tr,\n",
       ".dataframe > tbody > tr {\n",
       "  text-align: right;\n",
       "  white-space: pre-wrap;\n",
       "}\n",
       "</style>\n",
       "<small>shape: (4, 12)</small><table border=\"1\" class=\"dataframe\"><thead><tr><th>A</th><th>B</th><th>C</th><th>D</th><th>A2</th><th>B2</th><th>C2</th><th>D2</th><th>A3</th><th>B3</th><th>C3</th><th>D3</th></tr><tr><td>str</td><td>str</td><td>str</td><td>str</td><td>str</td><td>str</td><td>str</td><td>str</td><td>str</td><td>str</td><td>str</td><td>str</td></tr></thead><tbody><tr><td>&quot;a0&quot;</td><td>&quot;b0&quot;</td><td>&quot;c0&quot;</td><td>&quot;d0&quot;</td><td>&quot;a4&quot;</td><td>&quot;b4&quot;</td><td>&quot;c4&quot;</td><td>&quot;d4&quot;</td><td>&quot;a8&quot;</td><td>&quot;b8&quot;</td><td>&quot;c8&quot;</td><td>&quot;d8&quot;</td></tr><tr><td>&quot;a1&quot;</td><td>&quot;b1&quot;</td><td>&quot;c1&quot;</td><td>&quot;d1&quot;</td><td>&quot;a5&quot;</td><td>&quot;b5&quot;</td><td>&quot;c5&quot;</td><td>&quot;d5&quot;</td><td>&quot;a9&quot;</td><td>&quot;b9&quot;</td><td>&quot;c9&quot;</td><td>&quot;d9&quot;</td></tr><tr><td>&quot;a2&quot;</td><td>&quot;b2&quot;</td><td>&quot;c2&quot;</td><td>&quot;d2&quot;</td><td>&quot;a6&quot;</td><td>&quot;b6&quot;</td><td>&quot;c6&quot;</td><td>&quot;d6&quot;</td><td>&quot;a10&quot;</td><td>&quot;b10&quot;</td><td>&quot;c10&quot;</td><td>&quot;d10&quot;</td></tr><tr><td>&quot;a3&quot;</td><td>&quot;b3&quot;</td><td>&quot;c3&quot;</td><td>&quot;d3&quot;</td><td>&quot;a7&quot;</td><td>&quot;b7&quot;</td><td>&quot;c7&quot;</td><td>&quot;d7&quot;</td><td>&quot;a11&quot;</td><td>&quot;b11&quot;</td><td>&quot;c11&quot;</td><td>&quot;d11&quot;</td></tr></tbody></table></div>"
      ],
      "text/plain": [
       "shape: (4, 12)\n",
       "┌─────┬─────┬─────┬─────┬─────┬─────┬─────┬─────┬─────┬─────┬─────┬─────┐\n",
       "│ A   ┆ B   ┆ C   ┆ D   ┆ A2  ┆ B2  ┆ C2  ┆ D2  ┆ A3  ┆ B3  ┆ C3  ┆ D3  │\n",
       "│ --- ┆ --- ┆ --- ┆ --- ┆ --- ┆ --- ┆ --- ┆ --- ┆ --- ┆ --- ┆ --- ┆ --- │\n",
       "│ str ┆ str ┆ str ┆ str ┆ str ┆ str ┆ str ┆ str ┆ str ┆ str ┆ str ┆ str │\n",
       "╞═════╪═════╪═════╪═════╪═════╪═════╪═════╪═════╪═════╪═════╪═════╪═════╡\n",
       "│ a0  ┆ b0  ┆ c0  ┆ d0  ┆ a4  ┆ b4  ┆ c4  ┆ d4  ┆ a8  ┆ b8  ┆ c8  ┆ d8  │\n",
       "│ a1  ┆ b1  ┆ c1  ┆ d1  ┆ a5  ┆ b5  ┆ c5  ┆ d5  ┆ a9  ┆ b9  ┆ c9  ┆ d9  │\n",
       "│ a2  ┆ b2  ┆ c2  ┆ d2  ┆ a6  ┆ b6  ┆ c6  ┆ d6  ┆ a10 ┆ b10 ┆ c10 ┆ d10 │\n",
       "│ a3  ┆ b3  ┆ c3  ┆ d3  ┆ a7  ┆ b7  ┆ c7  ┆ d7  ┆ a11 ┆ b11 ┆ c11 ┆ d11 │\n",
       "└─────┴─────┴─────┴─────┴─────┴─────┴─────┴─────┴─────┴─────┴─────┴─────┘"
      ]
     },
     "execution_count": 4,
     "metadata": {},
     "output_type": "execute_result"
    }
   ],
   "source": [
    "# polarsで同名の列を横結合する場合、renameする必要がある\n",
    "col_concat = (\n",
    "    pl.concat(items = [df1,\n",
    "                       df2.rename(mapping = {\"A\": \"A2\", \"B\": \"B2\", \"C\": \"C2\", \"D\": \"D2\"}),\n",
    "                       df3.rename(mapping = {\"A\": \"A3\", \"B\": \"B3\", \"C\": \"C3\", \"D\": \"D3\"})],\n",
    "                       how = 'horizontal')\n",
    ")\n",
    "col_concat"
   ]
  }
 ],
 "metadata": {
  "kernelspec": {
   "display_name": "Python 3",
   "language": "python",
   "name": "python3"
  },
  "language_info": {
   "codemirror_mode": {
    "name": "ipython",
    "version": 3
   },
   "file_extension": ".py",
   "mimetype": "text/x-python",
   "name": "python",
   "nbconvert_exporter": "python",
   "pygments_lexer": "ipython3",
   "version": "3.11.4"
  }
 },
 "nbformat": 4,
 "nbformat_minor": 2
}
