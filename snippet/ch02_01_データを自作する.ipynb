{
 "cells": [
  {
   "cell_type": "markdown",
   "metadata": {},
   "source": [
    "# 第2章 pandasのデータ構造\n",
    "## 2.1 データを自作する"
   ]
  },
  {
   "cell_type": "code",
   "execution_count": 3,
   "metadata": {},
   "outputs": [],
   "source": [
    "import polars as pl"
   ]
  },
  {
   "cell_type": "code",
   "execution_count": 4,
   "metadata": {},
   "outputs": [
    {
     "data": {
      "text/html": [
       "<div><style>\n",
       ".dataframe > thead > tr,\n",
       ".dataframe > tbody > tr {\n",
       "  text-align: right;\n",
       "  white-space: pre-wrap;\n",
       "}\n",
       "</style>\n",
       "<small>shape: (2,)</small><table border=\"1\" class=\"dataframe\"><thead><tr><th>Occupation</th></tr><tr><td>str</td></tr></thead><tbody><tr><td>&quot;Wes McKinney&quot;</td></tr><tr><td>&quot;Creator of Pan…</td></tr></tbody></table></div>"
      ],
      "text/plain": [
       "shape: (2,)\n",
       "Series: 'Occupation' [str]\n",
       "[\n",
       "\t\"Wes McKinney\"\n",
       "\t\"Creator of Pan…\n",
       "]"
      ]
     },
     "execution_count": 4,
     "metadata": {},
     "output_type": "execute_result"
    }
   ],
   "source": [
    "pl.Series(\"Occupation\", [\"Wes McKinney\", \"Creator of Pandas\"])"
   ]
  },
  {
   "cell_type": "code",
   "execution_count": 5,
   "metadata": {},
   "outputs": [
    {
     "data": {
      "text/html": [
       "<div><style>\n",
       ".dataframe > thead > tr,\n",
       ".dataframe > tbody > tr {\n",
       "  text-align: right;\n",
       "  white-space: pre-wrap;\n",
       "}\n",
       "</style>\n",
       "<small>shape: (2, 5)</small><table border=\"1\" class=\"dataframe\"><thead><tr><th>Name</th><th>Occupation</th><th>Born</th><th>Died</th><th>Age</th></tr><tr><td>str</td><td>str</td><td>str</td><td>str</td><td>i64</td></tr></thead><tbody><tr><td>&quot;Rosaline Frank…</td><td>&quot;Chemist&quot;</td><td>&quot;1920-07-25&quot;</td><td>&quot;1958-04-16&quot;</td><td>37</td></tr><tr><td>&quot;William Gosset…</td><td>&quot;Statician&quot;</td><td>&quot;1876-06-13&quot;</td><td>&quot;1937-10-16&quot;</td><td>61</td></tr></tbody></table></div>"
      ],
      "text/plain": [
       "shape: (2, 5)\n",
       "┌───────────────────┬────────────┬────────────┬────────────┬─────┐\n",
       "│ Name              ┆ Occupation ┆ Born       ┆ Died       ┆ Age │\n",
       "│ ---               ┆ ---        ┆ ---        ┆ ---        ┆ --- │\n",
       "│ str               ┆ str        ┆ str        ┆ str        ┆ i64 │\n",
       "╞═══════════════════╪════════════╪════════════╪════════════╪═════╡\n",
       "│ Rosaline Franklin ┆ Chemist    ┆ 1920-07-25 ┆ 1958-04-16 ┆ 37  │\n",
       "│ William Gosset    ┆ Statician  ┆ 1876-06-13 ┆ 1937-10-16 ┆ 61  │\n",
       "└───────────────────┴────────────┴────────────┴────────────┴─────┘"
      ]
     },
     "execution_count": 5,
     "metadata": {},
     "output_type": "execute_result"
    }
   ],
   "source": [
    "# DataFrameは列名とリストの辞書型で構成される\n",
    "pl.DataFrame({\n",
    "    \"Name\": [\"Rosaline Franklin\", \"William Gosset\"],\n",
    "    \"Occupation\": [\"Chemist\", \"Statician\"],\n",
    "    \"Born\": [\"1920-07-25\", \"1876-06-13\"],\n",
    "    \"Died\": [\"1958-04-16\", \"1937-10-16\"],\n",
    "    \"Age\": [37, 61],\n",
    "})"
   ]
  }
 ],
 "metadata": {
  "kernelspec": {
   "display_name": "Python 3",
   "language": "python",
   "name": "python3"
  },
  "language_info": {
   "codemirror_mode": {
    "name": "ipython",
    "version": 3
   },
   "file_extension": ".py",
   "mimetype": "text/x-python",
   "name": "python",
   "nbconvert_exporter": "python",
   "pygments_lexer": "ipython3",
   "version": "3.11.4"
  }
 },
 "nbformat": 4,
 "nbformat_minor": 2
}
