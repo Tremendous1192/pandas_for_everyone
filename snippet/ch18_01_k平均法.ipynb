{
 "cells": [
  {
   "cell_type": "markdown",
   "metadata": {},
   "source": [
    "# 第18章 クラスタリング\n",
    "## 18.1 k平均法"
   ]
  },
  {
   "cell_type": "markdown",
   "metadata": {},
   "source": [
    "### データを読み込む"
   ]
  },
  {
   "cell_type": "code",
   "execution_count": null,
   "metadata": {},
   "outputs": [],
   "source": [
    "import polars as pl\n",
    "\n",
    "wine = pl.read_csv(\"../data/wine.csv\")\n",
    "display(wine.head(n = 3))\n",
    "display(wine.describe())"
   ]
  },
  {
   "cell_type": "code",
   "execution_count": null,
   "metadata": {},
   "outputs": [],
   "source": [
    "from sklearn.cluster import KMeans\n",
    "\n",
    "# クラスタリング\n",
    "kmeans = KMeans(n_clusters = 3, random_state = 42).fit(wine)\n",
    "display(kmeans)\n",
    "\n",
    "# クラス数\n",
    "import numpy as np\n",
    "display(np.unique(kmeans.labels_, return_counts = True))\n",
    "\n",
    "# クラスタリング結果(後で次元削減したDataFrameに結合するためDataFrameで初期化する)\n",
    "clusters = pl.DataFrame(pl.Series(\"cluster\", kmeans.labels_))\n",
    "display(clusters.head())"
   ]
  },
  {
   "cell_type": "markdown",
   "metadata": {},
   "source": [
    "### 18.1 主成分分析で次元を減らして、クラスタリング結果を可視化する"
   ]
  },
  {
   "cell_type": "code",
   "execution_count": null,
   "metadata": {},
   "outputs": [],
   "source": [
    "from sklearn.decomposition import PCA\n",
    "\n",
    "# 学習\n",
    "# 答えである品種列(\"Cultivar\")を削除しておく\n",
    "pca = PCA(n_components = 2).fit(wine.drop(\"Cultivar\"))\n",
    "\n",
    "# 次元削減\n",
    "pca_transformed = pca.transform(wine.drop(\"Cultivar\"))\n",
    "df_transformed = (\n",
    "    pl\n",
    "    .DataFrame(pca_transformed)\n",
    "    .rename(mapping = {\"column_0\": \"pca1\", \"column_1\": \"pca2\"})\n",
    ")\n",
    "\n",
    "# クラスタリング結果を結合する\n",
    "df_result = pl.concat(items = [df_transformed, clusters], how = \"horizontal\")\n",
    "display(df_result.head())\n",
    "\n",
    "# 可視化\n",
    "import seaborn as sns\n",
    "import matplotlib.pyplot as plt\n",
    "\n",
    "fig, ax = plt.subplots()\n",
    "sns.scatterplot(\n",
    "    x = \"pca1\",\n",
    "    y = \"pca2\",\n",
    "    data = df_result,\n",
    "    hue = \"cluster\",\n",
    "    ax = ax\n",
    ")\n",
    "plt.show()\n"
   ]
  },
  {
   "cell_type": "markdown",
   "metadata": {},
   "source": [
    "### クラスタリング結果とワイン品種のピボットテーブルで分類精度を確認する"
   ]
  },
  {
   "cell_type": "code",
   "execution_count": null,
   "metadata": {},
   "outputs": [],
   "source": [
    "df_pivot = (\n",
    "    pl\n",
    "    .concat(items = [wine, clusters], how = \"horizontal\")\n",
    "    .pivot(index = \"cluster\", columns = \"Cultivar\", values = \"Alcohol\", aggregate_function = \"count\")\n",
    ")\n",
    "display(df_pivot)"
   ]
  }
 ],
 "metadata": {
  "kernelspec": {
   "display_name": "Python 3",
   "language": "python",
   "name": "python3"
  },
  "language_info": {
   "codemirror_mode": {
    "name": "ipython",
    "version": 3
   },
   "file_extension": ".py",
   "mimetype": "text/x-python",
   "name": "python",
   "nbconvert_exporter": "python",
   "pygments_lexer": "ipython3",
   "version": "3.11.4"
  }
 },
 "nbformat": 4,
 "nbformat_minor": 2
}
