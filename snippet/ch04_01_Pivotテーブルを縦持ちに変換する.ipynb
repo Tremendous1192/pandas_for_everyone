{
 "cells": [
  {
   "cell_type": "markdown",
   "metadata": {},
   "source": [
    "# 第4章 「整然データ」を作る\n",
    "## 4.1 列に(変数ではなく)値が入っているとき\n",
    "Pivotテーブルを縦持ちに変換する"
   ]
  },
  {
   "cell_type": "code",
   "execution_count": 1,
   "metadata": {},
   "outputs": [
    {
     "data": {
      "text/plain": [
       "polars.config.Config"
      ]
     },
     "execution_count": 1,
     "metadata": {},
     "output_type": "execute_result"
    }
   ],
   "source": [
    "import polars as pl\n",
    "pl.Config.set_tbl_cols(-1)# 列が省略されないようにする"
   ]
  },
  {
   "cell_type": "markdown",
   "metadata": {},
   "source": [
    "### データを読み込む"
   ]
  },
  {
   "cell_type": "code",
   "execution_count": 2,
   "metadata": {},
   "outputs": [
    {
     "data": {
      "text/html": [
       "<div><style>\n",
       ".dataframe > thead > tr,\n",
       ".dataframe > tbody > tr {\n",
       "  text-align: right;\n",
       "  white-space: pre-wrap;\n",
       "}\n",
       "</style>\n",
       "<small>shape: (5, 11)</small><table border=\"1\" class=\"dataframe\"><thead><tr><th>religion</th><th>&lt;$10k</th><th>$10-20k</th><th>$20-30k</th><th>$30-40k</th><th>$40-50k</th><th>$50-75k</th><th>$75-100k</th><th>$100-150k</th><th>&gt;150k</th><th>Don&#x27;t know/refused</th></tr><tr><td>str</td><td>i64</td><td>i64</td><td>i64</td><td>i64</td><td>i64</td><td>i64</td><td>i64</td><td>i64</td><td>i64</td><td>i64</td></tr></thead><tbody><tr><td>&quot;Agnostic&quot;</td><td>27</td><td>34</td><td>60</td><td>81</td><td>76</td><td>137</td><td>122</td><td>109</td><td>84</td><td>96</td></tr><tr><td>&quot;Atheist&quot;</td><td>12</td><td>27</td><td>37</td><td>52</td><td>35</td><td>70</td><td>73</td><td>59</td><td>74</td><td>76</td></tr><tr><td>&quot;Buddhist&quot;</td><td>27</td><td>21</td><td>30</td><td>34</td><td>33</td><td>58</td><td>62</td><td>39</td><td>53</td><td>54</td></tr><tr><td>&quot;Catholic&quot;</td><td>418</td><td>617</td><td>732</td><td>670</td><td>638</td><td>1116</td><td>949</td><td>792</td><td>633</td><td>1489</td></tr><tr><td>&quot;Don’t know/ref…</td><td>15</td><td>14</td><td>15</td><td>11</td><td>10</td><td>35</td><td>21</td><td>17</td><td>18</td><td>116</td></tr></tbody></table></div>"
      ],
      "text/plain": [
       "shape: (5, 11)\n",
       "┌─────────┬───────┬─────────┬────────┬────────┬────────┬────────┬────────┬────────┬───────┬────────┐\n",
       "│ religio ┆ <$10k ┆ $10-20k ┆ $20-30 ┆ $30-40 ┆ $40-50 ┆ $50-75 ┆ $75-10 ┆ $100-1 ┆ >150k ┆ Don't  │\n",
       "│ n       ┆ ---   ┆ ---     ┆ k      ┆ k      ┆ k      ┆ k      ┆ 0k     ┆ 50k    ┆ ---   ┆ know/r │\n",
       "│ ---     ┆ i64   ┆ i64     ┆ ---    ┆ ---    ┆ ---    ┆ ---    ┆ ---    ┆ ---    ┆ i64   ┆ efused │\n",
       "│ str     ┆       ┆         ┆ i64    ┆ i64    ┆ i64    ┆ i64    ┆ i64    ┆ i64    ┆       ┆ ---    │\n",
       "│         ┆       ┆         ┆        ┆        ┆        ┆        ┆        ┆        ┆       ┆ i64    │\n",
       "╞═════════╪═══════╪═════════╪════════╪════════╪════════╪════════╪════════╪════════╪═══════╪════════╡\n",
       "│ Agnosti ┆ 27    ┆ 34      ┆ 60     ┆ 81     ┆ 76     ┆ 137    ┆ 122    ┆ 109    ┆ 84    ┆ 96     │\n",
       "│ c       ┆       ┆         ┆        ┆        ┆        ┆        ┆        ┆        ┆       ┆        │\n",
       "│ Atheist ┆ 12    ┆ 27      ┆ 37     ┆ 52     ┆ 35     ┆ 70     ┆ 73     ┆ 59     ┆ 74    ┆ 76     │\n",
       "│ Buddhis ┆ 27    ┆ 21      ┆ 30     ┆ 34     ┆ 33     ┆ 58     ┆ 62     ┆ 39     ┆ 53    ┆ 54     │\n",
       "│ t       ┆       ┆         ┆        ┆        ┆        ┆        ┆        ┆        ┆       ┆        │\n",
       "│ Catholi ┆ 418   ┆ 617     ┆ 732    ┆ 670    ┆ 638    ┆ 1116   ┆ 949    ┆ 792    ┆ 633   ┆ 1489   │\n",
       "│ c       ┆       ┆         ┆        ┆        ┆        ┆        ┆        ┆        ┆       ┆        │\n",
       "│ Don’t   ┆ 15    ┆ 14      ┆ 15     ┆ 11     ┆ 10     ┆ 35     ┆ 21     ┆ 17     ┆ 18    ┆ 116    │\n",
       "│ know/re ┆       ┆         ┆        ┆        ┆        ┆        ┆        ┆        ┆       ┆        │\n",
       "│ fused   ┆       ┆         ┆        ┆        ┆        ┆        ┆        ┆        ┆       ┆        │\n",
       "└─────────┴───────┴─────────┴────────┴────────┴────────┴────────┴────────┴────────┴───────┴────────┘"
      ]
     },
     "execution_count": 2,
     "metadata": {},
     "output_type": "execute_result"
    }
   ],
   "source": [
    "pew = pl.read_csv(\"../data/pew.csv\")\n",
    "pew.head()"
   ]
  },
  {
   "cell_type": "markdown",
   "metadata": {},
   "source": [
    "### 縦持ちデータを作成する"
   ]
  },
  {
   "cell_type": "code",
   "execution_count": 3,
   "metadata": {},
   "outputs": [
    {
     "data": {
      "text/html": [
       "<div><style>\n",
       ".dataframe > thead > tr,\n",
       ".dataframe > tbody > tr {\n",
       "  text-align: right;\n",
       "  white-space: pre-wrap;\n",
       "}\n",
       "</style>\n",
       "<small>shape: (5, 3)</small><table border=\"1\" class=\"dataframe\"><thead><tr><th>religion</th><th>income</th><th>count</th></tr><tr><td>str</td><td>str</td><td>i64</td></tr></thead><tbody><tr><td>&quot;Agnostic&quot;</td><td>&quot;&lt;$10k&quot;</td><td>27</td></tr><tr><td>&quot;Atheist&quot;</td><td>&quot;&lt;$10k&quot;</td><td>12</td></tr><tr><td>&quot;Buddhist&quot;</td><td>&quot;&lt;$10k&quot;</td><td>27</td></tr><tr><td>&quot;Catholic&quot;</td><td>&quot;&lt;$10k&quot;</td><td>418</td></tr><tr><td>&quot;Don’t know/ref…</td><td>&quot;&lt;$10k&quot;</td><td>15</td></tr></tbody></table></div>"
      ],
      "text/plain": [
       "shape: (5, 3)\n",
       "┌────────────────────┬────────┬───────┐\n",
       "│ religion           ┆ income ┆ count │\n",
       "│ ---                ┆ ---    ┆ ---   │\n",
       "│ str                ┆ str    ┆ i64   │\n",
       "╞════════════════════╪════════╪═══════╡\n",
       "│ Agnostic           ┆ <$10k  ┆ 27    │\n",
       "│ Atheist            ┆ <$10k  ┆ 12    │\n",
       "│ Buddhist           ┆ <$10k  ┆ 27    │\n",
       "│ Catholic           ┆ <$10k  ┆ 418   │\n",
       "│ Don’t know/refused ┆ <$10k  ┆ 15    │\n",
       "└────────────────────┴────────┴───────┘"
      ]
     },
     "execution_count": 3,
     "metadata": {},
     "output_type": "execute_result"
    }
   ],
   "source": [
    "# id_vars: 残す列\n",
    "# variable_name: 列名を変数に変換した列の名称\n",
    "# value_name: 集約した要素の列名\n",
    "pew_long = pew.melt(id_vars = \"religion\", variable_name = \"income\", value_name = \"count\")\n",
    "pew_long.head()"
   ]
  },
  {
   "cell_type": "markdown",
   "metadata": {},
   "source": [
    "### 複数の列を残す場合"
   ]
  },
  {
   "cell_type": "markdown",
   "metadata": {},
   "source": [
    "#### データを読み込む"
   ]
  },
  {
   "cell_type": "code",
   "execution_count": 4,
   "metadata": {},
   "outputs": [
    {
     "data": {
      "text/html": [
       "<div><style>\n",
       ".dataframe > thead > tr,\n",
       ".dataframe > tbody > tr {\n",
       "  text-align: right;\n",
       "  white-space: pre-wrap;\n",
       "}\n",
       "</style>\n",
       "<small>shape: (5, 81)</small><table border=\"1\" class=\"dataframe\"><thead><tr><th>year</th><th>artist</th><th>track</th><th>time</th><th>date.entered</th><th>wk1</th><th>wk2</th><th>wk3</th><th>wk4</th><th>wk5</th><th>wk6</th><th>wk7</th><th>wk8</th><th>wk9</th><th>wk10</th><th>wk11</th><th>wk12</th><th>wk13</th><th>wk14</th><th>wk15</th><th>wk16</th><th>wk17</th><th>wk18</th><th>wk19</th><th>wk20</th><th>wk21</th><th>wk22</th><th>wk23</th><th>wk24</th><th>wk25</th><th>wk26</th><th>wk27</th><th>wk28</th><th>wk29</th><th>wk30</th><th>wk31</th><th>wk32</th><th>wk33</th><th>wk34</th><th>wk35</th><th>wk36</th><th>wk37</th><th>wk38</th><th>wk39</th><th>wk40</th><th>wk41</th><th>wk42</th><th>wk43</th><th>wk44</th><th>wk45</th><th>wk46</th><th>wk47</th><th>wk48</th><th>wk49</th><th>wk50</th><th>wk51</th><th>wk52</th><th>wk53</th><th>wk54</th><th>wk55</th><th>wk56</th><th>wk57</th><th>wk58</th><th>wk59</th><th>wk60</th><th>wk61</th><th>wk62</th><th>wk63</th><th>wk64</th><th>wk65</th><th>wk66</th><th>wk67</th><th>wk68</th><th>wk69</th><th>wk70</th><th>wk71</th><th>wk72</th><th>wk73</th><th>wk74</th><th>wk75</th><th>wk76</th></tr><tr><td>i64</td><td>str</td><td>str</td><td>str</td><td>str</td><td>i64</td><td>str</td><td>str</td><td>str</td><td>str</td><td>str</td><td>str</td><td>str</td><td>str</td><td>str</td><td>str</td><td>str</td><td>str</td><td>str</td><td>str</td><td>str</td><td>str</td><td>str</td><td>str</td><td>str</td><td>str</td><td>str</td><td>str</td><td>str</td><td>str</td><td>str</td><td>str</td><td>str</td><td>str</td><td>str</td><td>str</td><td>str</td><td>str</td><td>str</td><td>str</td><td>str</td><td>str</td><td>str</td><td>str</td><td>str</td><td>str</td><td>str</td><td>str</td><td>str</td><td>str</td><td>str</td><td>str</td><td>str</td><td>str</td><td>str</td><td>str</td><td>str</td><td>str</td><td>str</td><td>str</td><td>str</td><td>str</td><td>str</td><td>str</td><td>str</td><td>str</td><td>str</td><td>str</td><td>str</td><td>str</td><td>str</td><td>str</td><td>str</td><td>str</td><td>str</td><td>str</td><td>str</td><td>str</td><td>str</td><td>str</td><td>str</td></tr></thead><tbody><tr><td>2000</td><td>&quot;2 Pac&quot;</td><td>&quot;Baby Don&#x27;t Cry…</td><td>&quot;4:22&quot;</td><td>&quot;2000-02-26&quot;</td><td>87</td><td>&quot;82&quot;</td><td>&quot;72&quot;</td><td>&quot;77&quot;</td><td>&quot;87&quot;</td><td>&quot;94&quot;</td><td>&quot;99&quot;</td><td>&quot;NA&quot;</td><td>&quot;NA&quot;</td><td>&quot;NA&quot;</td><td>&quot;NA&quot;</td><td>&quot;NA&quot;</td><td>&quot;NA&quot;</td><td>&quot;NA&quot;</td><td>&quot;NA&quot;</td><td>&quot;NA&quot;</td><td>&quot;NA&quot;</td><td>&quot;NA&quot;</td><td>&quot;NA&quot;</td><td>&quot;NA&quot;</td><td>&quot;NA&quot;</td><td>&quot;NA&quot;</td><td>&quot;NA&quot;</td><td>&quot;NA&quot;</td><td>&quot;NA&quot;</td><td>&quot;NA&quot;</td><td>&quot;NA&quot;</td><td>&quot;NA&quot;</td><td>&quot;NA&quot;</td><td>&quot;NA&quot;</td><td>&quot;NA&quot;</td><td>&quot;NA&quot;</td><td>&quot;NA&quot;</td><td>&quot;NA&quot;</td><td>&quot;NA&quot;</td><td>&quot;NA&quot;</td><td>&quot;NA&quot;</td><td>&quot;NA&quot;</td><td>&quot;NA&quot;</td><td>&quot;NA&quot;</td><td>&quot;NA&quot;</td><td>&quot;NA&quot;</td><td>&quot;NA&quot;</td><td>&quot;NA&quot;</td><td>&quot;NA&quot;</td><td>&quot;NA&quot;</td><td>&quot;NA&quot;</td><td>&quot;NA&quot;</td><td>&quot;NA&quot;</td><td>&quot;NA&quot;</td><td>&quot;NA&quot;</td><td>&quot;NA&quot;</td><td>&quot;NA&quot;</td><td>&quot;NA&quot;</td><td>&quot;NA&quot;</td><td>&quot;NA&quot;</td><td>&quot;NA&quot;</td><td>&quot;NA&quot;</td><td>&quot;NA&quot;</td><td>&quot;NA&quot;</td><td>&quot;NA&quot;</td><td>&quot;NA&quot;</td><td>&quot;NA&quot;</td><td>&quot;NA&quot;</td><td>&quot;NA&quot;</td><td>&quot;NA&quot;</td><td>&quot;NA&quot;</td><td>&quot;NA&quot;</td><td>&quot;NA&quot;</td><td>&quot;NA&quot;</td><td>&quot;NA&quot;</td><td>&quot;NA&quot;</td><td>&quot;NA&quot;</td><td>&quot;NA&quot;</td><td>&quot;NA&quot;</td><td>&quot;NA&quot;</td></tr><tr><td>2000</td><td>&quot;2Ge+her&quot;</td><td>&quot;The Hardest Pa…</td><td>&quot;3:15&quot;</td><td>&quot;2000-09-02&quot;</td><td>91</td><td>&quot;87&quot;</td><td>&quot;92&quot;</td><td>&quot;NA&quot;</td><td>&quot;NA&quot;</td><td>&quot;NA&quot;</td><td>&quot;NA&quot;</td><td>&quot;NA&quot;</td><td>&quot;NA&quot;</td><td>&quot;NA&quot;</td><td>&quot;NA&quot;</td><td>&quot;NA&quot;</td><td>&quot;NA&quot;</td><td>&quot;NA&quot;</td><td>&quot;NA&quot;</td><td>&quot;NA&quot;</td><td>&quot;NA&quot;</td><td>&quot;NA&quot;</td><td>&quot;NA&quot;</td><td>&quot;NA&quot;</td><td>&quot;NA&quot;</td><td>&quot;NA&quot;</td><td>&quot;NA&quot;</td><td>&quot;NA&quot;</td><td>&quot;NA&quot;</td><td>&quot;NA&quot;</td><td>&quot;NA&quot;</td><td>&quot;NA&quot;</td><td>&quot;NA&quot;</td><td>&quot;NA&quot;</td><td>&quot;NA&quot;</td><td>&quot;NA&quot;</td><td>&quot;NA&quot;</td><td>&quot;NA&quot;</td><td>&quot;NA&quot;</td><td>&quot;NA&quot;</td><td>&quot;NA&quot;</td><td>&quot;NA&quot;</td><td>&quot;NA&quot;</td><td>&quot;NA&quot;</td><td>&quot;NA&quot;</td><td>&quot;NA&quot;</td><td>&quot;NA&quot;</td><td>&quot;NA&quot;</td><td>&quot;NA&quot;</td><td>&quot;NA&quot;</td><td>&quot;NA&quot;</td><td>&quot;NA&quot;</td><td>&quot;NA&quot;</td><td>&quot;NA&quot;</td><td>&quot;NA&quot;</td><td>&quot;NA&quot;</td><td>&quot;NA&quot;</td><td>&quot;NA&quot;</td><td>&quot;NA&quot;</td><td>&quot;NA&quot;</td><td>&quot;NA&quot;</td><td>&quot;NA&quot;</td><td>&quot;NA&quot;</td><td>&quot;NA&quot;</td><td>&quot;NA&quot;</td><td>&quot;NA&quot;</td><td>&quot;NA&quot;</td><td>&quot;NA&quot;</td><td>&quot;NA&quot;</td><td>&quot;NA&quot;</td><td>&quot;NA&quot;</td><td>&quot;NA&quot;</td><td>&quot;NA&quot;</td><td>&quot;NA&quot;</td><td>&quot;NA&quot;</td><td>&quot;NA&quot;</td><td>&quot;NA&quot;</td><td>&quot;NA&quot;</td><td>&quot;NA&quot;</td><td>&quot;NA&quot;</td></tr><tr><td>2000</td><td>&quot;3 Doors Down&quot;</td><td>&quot;Kryptonite&quot;</td><td>&quot;3:53&quot;</td><td>&quot;2000-04-08&quot;</td><td>81</td><td>&quot;70&quot;</td><td>&quot;68&quot;</td><td>&quot;67&quot;</td><td>&quot;66&quot;</td><td>&quot;57&quot;</td><td>&quot;54&quot;</td><td>&quot;53&quot;</td><td>&quot;51&quot;</td><td>&quot;51&quot;</td><td>&quot;51&quot;</td><td>&quot;51&quot;</td><td>&quot;47&quot;</td><td>&quot;44&quot;</td><td>&quot;38&quot;</td><td>&quot;28&quot;</td><td>&quot;22&quot;</td><td>&quot;18&quot;</td><td>&quot;18&quot;</td><td>&quot;14&quot;</td><td>&quot;12&quot;</td><td>&quot;7&quot;</td><td>&quot;6&quot;</td><td>&quot;6&quot;</td><td>&quot;6&quot;</td><td>&quot;5&quot;</td><td>&quot;5&quot;</td><td>&quot;4&quot;</td><td>&quot;4&quot;</td><td>&quot;4&quot;</td><td>&quot;4&quot;</td><td>&quot;3&quot;</td><td>&quot;3&quot;</td><td>&quot;3&quot;</td><td>&quot;4&quot;</td><td>&quot;5&quot;</td><td>&quot;5&quot;</td><td>&quot;9&quot;</td><td>&quot;9&quot;</td><td>&quot;15&quot;</td><td>&quot;14&quot;</td><td>&quot;13&quot;</td><td>&quot;14&quot;</td><td>&quot;16&quot;</td><td>&quot;17&quot;</td><td>&quot;21&quot;</td><td>&quot;22&quot;</td><td>&quot;24&quot;</td><td>&quot;28&quot;</td><td>&quot;33&quot;</td><td>&quot;42&quot;</td><td>&quot;42&quot;</td><td>&quot;49&quot;</td><td>&quot;NA&quot;</td><td>&quot;NA&quot;</td><td>&quot;NA&quot;</td><td>&quot;NA&quot;</td><td>&quot;NA&quot;</td><td>&quot;NA&quot;</td><td>&quot;NA&quot;</td><td>&quot;NA&quot;</td><td>&quot;NA&quot;</td><td>&quot;NA&quot;</td><td>&quot;NA&quot;</td><td>&quot;NA&quot;</td><td>&quot;NA&quot;</td><td>&quot;NA&quot;</td><td>&quot;NA&quot;</td><td>&quot;NA&quot;</td><td>&quot;NA&quot;</td><td>&quot;NA&quot;</td><td>&quot;NA&quot;</td><td>&quot;NA&quot;</td><td>&quot;NA&quot;</td><td>&quot;NA&quot;</td><td>&quot;NA&quot;</td></tr><tr><td>2000</td><td>&quot;3 Doors Down&quot;</td><td>&quot;Loser&quot;</td><td>&quot;4:24&quot;</td><td>&quot;2000-10-21&quot;</td><td>76</td><td>&quot;76&quot;</td><td>&quot;72&quot;</td><td>&quot;69&quot;</td><td>&quot;67&quot;</td><td>&quot;65&quot;</td><td>&quot;55&quot;</td><td>&quot;59&quot;</td><td>&quot;62&quot;</td><td>&quot;61&quot;</td><td>&quot;61&quot;</td><td>&quot;59&quot;</td><td>&quot;61&quot;</td><td>&quot;66&quot;</td><td>&quot;72&quot;</td><td>&quot;76&quot;</td><td>&quot;75&quot;</td><td>&quot;67&quot;</td><td>&quot;73&quot;</td><td>&quot;70&quot;</td><td>&quot;NA&quot;</td><td>&quot;NA&quot;</td><td>&quot;NA&quot;</td><td>&quot;NA&quot;</td><td>&quot;NA&quot;</td><td>&quot;NA&quot;</td><td>&quot;NA&quot;</td><td>&quot;NA&quot;</td><td>&quot;NA&quot;</td><td>&quot;NA&quot;</td><td>&quot;NA&quot;</td><td>&quot;NA&quot;</td><td>&quot;NA&quot;</td><td>&quot;NA&quot;</td><td>&quot;NA&quot;</td><td>&quot;NA&quot;</td><td>&quot;NA&quot;</td><td>&quot;NA&quot;</td><td>&quot;NA&quot;</td><td>&quot;NA&quot;</td><td>&quot;NA&quot;</td><td>&quot;NA&quot;</td><td>&quot;NA&quot;</td><td>&quot;NA&quot;</td><td>&quot;NA&quot;</td><td>&quot;NA&quot;</td><td>&quot;NA&quot;</td><td>&quot;NA&quot;</td><td>&quot;NA&quot;</td><td>&quot;NA&quot;</td><td>&quot;NA&quot;</td><td>&quot;NA&quot;</td><td>&quot;NA&quot;</td><td>&quot;NA&quot;</td><td>&quot;NA&quot;</td><td>&quot;NA&quot;</td><td>&quot;NA&quot;</td><td>&quot;NA&quot;</td><td>&quot;NA&quot;</td><td>&quot;NA&quot;</td><td>&quot;NA&quot;</td><td>&quot;NA&quot;</td><td>&quot;NA&quot;</td><td>&quot;NA&quot;</td><td>&quot;NA&quot;</td><td>&quot;NA&quot;</td><td>&quot;NA&quot;</td><td>&quot;NA&quot;</td><td>&quot;NA&quot;</td><td>&quot;NA&quot;</td><td>&quot;NA&quot;</td><td>&quot;NA&quot;</td><td>&quot;NA&quot;</td><td>&quot;NA&quot;</td><td>&quot;NA&quot;</td><td>&quot;NA&quot;</td></tr><tr><td>2000</td><td>&quot;504 Boyz&quot;</td><td>&quot;Wobble Wobble&quot;</td><td>&quot;3:35&quot;</td><td>&quot;2000-04-15&quot;</td><td>57</td><td>&quot;34&quot;</td><td>&quot;25&quot;</td><td>&quot;17&quot;</td><td>&quot;17&quot;</td><td>&quot;31&quot;</td><td>&quot;36&quot;</td><td>&quot;49&quot;</td><td>&quot;53&quot;</td><td>&quot;57&quot;</td><td>&quot;64&quot;</td><td>&quot;70&quot;</td><td>&quot;75&quot;</td><td>&quot;76&quot;</td><td>&quot;78&quot;</td><td>&quot;85&quot;</td><td>&quot;92&quot;</td><td>&quot;96&quot;</td><td>&quot;NA&quot;</td><td>&quot;NA&quot;</td><td>&quot;NA&quot;</td><td>&quot;NA&quot;</td><td>&quot;NA&quot;</td><td>&quot;NA&quot;</td><td>&quot;NA&quot;</td><td>&quot;NA&quot;</td><td>&quot;NA&quot;</td><td>&quot;NA&quot;</td><td>&quot;NA&quot;</td><td>&quot;NA&quot;</td><td>&quot;NA&quot;</td><td>&quot;NA&quot;</td><td>&quot;NA&quot;</td><td>&quot;NA&quot;</td><td>&quot;NA&quot;</td><td>&quot;NA&quot;</td><td>&quot;NA&quot;</td><td>&quot;NA&quot;</td><td>&quot;NA&quot;</td><td>&quot;NA&quot;</td><td>&quot;NA&quot;</td><td>&quot;NA&quot;</td><td>&quot;NA&quot;</td><td>&quot;NA&quot;</td><td>&quot;NA&quot;</td><td>&quot;NA&quot;</td><td>&quot;NA&quot;</td><td>&quot;NA&quot;</td><td>&quot;NA&quot;</td><td>&quot;NA&quot;</td><td>&quot;NA&quot;</td><td>&quot;NA&quot;</td><td>&quot;NA&quot;</td><td>&quot;NA&quot;</td><td>&quot;NA&quot;</td><td>&quot;NA&quot;</td><td>&quot;NA&quot;</td><td>&quot;NA&quot;</td><td>&quot;NA&quot;</td><td>&quot;NA&quot;</td><td>&quot;NA&quot;</td><td>&quot;NA&quot;</td><td>&quot;NA&quot;</td><td>&quot;NA&quot;</td><td>&quot;NA&quot;</td><td>&quot;NA&quot;</td><td>&quot;NA&quot;</td><td>&quot;NA&quot;</td><td>&quot;NA&quot;</td><td>&quot;NA&quot;</td><td>&quot;NA&quot;</td><td>&quot;NA&quot;</td><td>&quot;NA&quot;</td><td>&quot;NA&quot;</td><td>&quot;NA&quot;</td><td>&quot;NA&quot;</td></tr></tbody></table></div>"
      ],
      "text/plain": [
       "shape: (5, 81)\n",
       "┌─────┬─────┬─────┬─────┬─────┬─────┬─────┬─────┬─────┬─────┬─────┬─────┬─────┬─────┬─────┬─────┬─────┬─────┬─────┬─────┬─────┬─────┬─────┬─────┬─────┬─────┬─────┬─────┬─────┬─────┬─────┬─────┬─────┬─────┬─────┬─────┬─────┬─────┬─────┬─────┬─────┬─────┬─────┬─────┬─────┬─────┬─────┬─────┬─────┬─────┬─────┬─────┬─────┬─────┬─────┬─────┬─────┬─────┬─────┬─────┬─────┬─────┬─────┬─────┬─────┬─────┬─────┬─────┬─────┬─────┬─────┬─────┬─────┬─────┬─────┬─────┬─────┬─────┬─────┬─────┬─────┐\n",
       "│ yea ┆ art ┆ tra ┆ tim ┆ dat ┆ wk1 ┆ wk2 ┆ wk3 ┆ wk4 ┆ wk5 ┆ wk6 ┆ wk7 ┆ wk8 ┆ wk9 ┆ wk1 ┆ wk1 ┆ wk1 ┆ wk1 ┆ wk1 ┆ wk1 ┆ wk1 ┆ wk1 ┆ wk1 ┆ wk1 ┆ wk2 ┆ wk2 ┆ wk2 ┆ wk2 ┆ wk2 ┆ wk2 ┆ wk2 ┆ wk2 ┆ wk2 ┆ wk2 ┆ wk3 ┆ wk3 ┆ wk3 ┆ wk3 ┆ wk3 ┆ wk3 ┆ wk3 ┆ wk3 ┆ wk3 ┆ wk3 ┆ wk4 ┆ wk4 ┆ wk4 ┆ wk4 ┆ wk4 ┆ wk4 ┆ wk4 ┆ wk4 ┆ wk4 ┆ wk4 ┆ wk5 ┆ wk5 ┆ wk5 ┆ wk5 ┆ wk5 ┆ wk5 ┆ wk5 ┆ wk5 ┆ wk5 ┆ wk5 ┆ wk6 ┆ wk6 ┆ wk6 ┆ wk6 ┆ wk6 ┆ wk6 ┆ wk6 ┆ wk6 ┆ wk6 ┆ wk6 ┆ wk7 ┆ wk7 ┆ wk7 ┆ wk7 ┆ wk7 ┆ wk7 ┆ wk7 │\n",
       "│ r   ┆ ist ┆ ck  ┆ e   ┆ e.e ┆ --- ┆ --- ┆ --- ┆ --- ┆ --- ┆ --- ┆ --- ┆ --- ┆ --- ┆ 0   ┆ 1   ┆ 2   ┆ 3   ┆ 4   ┆ 5   ┆ 6   ┆ 7   ┆ 8   ┆ 9   ┆ 0   ┆ 1   ┆ 2   ┆ 3   ┆ 4   ┆ 5   ┆ 6   ┆ 7   ┆ 8   ┆ 9   ┆ 0   ┆ 1   ┆ 2   ┆ 3   ┆ 4   ┆ 5   ┆ 6   ┆ 7   ┆ 8   ┆ 9   ┆ 0   ┆ 1   ┆ 2   ┆ 3   ┆ 4   ┆ 5   ┆ 6   ┆ 7   ┆ 8   ┆ 9   ┆ 0   ┆ 1   ┆ 2   ┆ 3   ┆ 4   ┆ 5   ┆ 6   ┆ 7   ┆ 8   ┆ 9   ┆ 0   ┆ 1   ┆ 2   ┆ 3   ┆ 4   ┆ 5   ┆ 6   ┆ 7   ┆ 8   ┆ 9   ┆ 0   ┆ 1   ┆ 2   ┆ 3   ┆ 4   ┆ 5   ┆ 6   │\n",
       "│ --- ┆ --- ┆ --- ┆ --- ┆ nte ┆ i64 ┆ str ┆ str ┆ str ┆ str ┆ str ┆ str ┆ str ┆ str ┆ --- ┆ --- ┆ --- ┆ --- ┆ --- ┆ --- ┆ --- ┆ --- ┆ --- ┆ --- ┆ --- ┆ --- ┆ --- ┆ --- ┆ --- ┆ --- ┆ --- ┆ --- ┆ --- ┆ --- ┆ --- ┆ --- ┆ --- ┆ --- ┆ --- ┆ --- ┆ --- ┆ --- ┆ --- ┆ --- ┆ --- ┆ --- ┆ --- ┆ --- ┆ --- ┆ --- ┆ --- ┆ --- ┆ --- ┆ --- ┆ --- ┆ --- ┆ --- ┆ --- ┆ --- ┆ --- ┆ --- ┆ --- ┆ --- ┆ --- ┆ --- ┆ --- ┆ --- ┆ --- ┆ --- ┆ --- ┆ --- ┆ --- ┆ --- ┆ --- ┆ --- ┆ --- ┆ --- ┆ --- ┆ --- ┆ --- ┆ --- │\n",
       "│ i64 ┆ str ┆ str ┆ str ┆ red ┆     ┆     ┆     ┆     ┆     ┆     ┆     ┆     ┆     ┆ str ┆ str ┆ str ┆ str ┆ str ┆ str ┆ str ┆ str ┆ str ┆ str ┆ str ┆ str ┆ str ┆ str ┆ str ┆ str ┆ str ┆ str ┆ str ┆ str ┆ str ┆ str ┆ str ┆ str ┆ str ┆ str ┆ str ┆ str ┆ str ┆ str ┆ str ┆ str ┆ str ┆ str ┆ str ┆ str ┆ str ┆ str ┆ str ┆ str ┆ str ┆ str ┆ str ┆ str ┆ str ┆ str ┆ str ┆ str ┆ str ┆ str ┆ str ┆ str ┆ str ┆ str ┆ str ┆ str ┆ str ┆ str ┆ str ┆ str ┆ str ┆ str ┆ str ┆ str ┆ str ┆ str ┆ str │\n",
       "│     ┆     ┆     ┆     ┆ --- ┆     ┆     ┆     ┆     ┆     ┆     ┆     ┆     ┆     ┆     ┆     ┆     ┆     ┆     ┆     ┆     ┆     ┆     ┆     ┆     ┆     ┆     ┆     ┆     ┆     ┆     ┆     ┆     ┆     ┆     ┆     ┆     ┆     ┆     ┆     ┆     ┆     ┆     ┆     ┆     ┆     ┆     ┆     ┆     ┆     ┆     ┆     ┆     ┆     ┆     ┆     ┆     ┆     ┆     ┆     ┆     ┆     ┆     ┆     ┆     ┆     ┆     ┆     ┆     ┆     ┆     ┆     ┆     ┆     ┆     ┆     ┆     ┆     ┆     ┆     ┆     │\n",
       "│     ┆     ┆     ┆     ┆ str ┆     ┆     ┆     ┆     ┆     ┆     ┆     ┆     ┆     ┆     ┆     ┆     ┆     ┆     ┆     ┆     ┆     ┆     ┆     ┆     ┆     ┆     ┆     ┆     ┆     ┆     ┆     ┆     ┆     ┆     ┆     ┆     ┆     ┆     ┆     ┆     ┆     ┆     ┆     ┆     ┆     ┆     ┆     ┆     ┆     ┆     ┆     ┆     ┆     ┆     ┆     ┆     ┆     ┆     ┆     ┆     ┆     ┆     ┆     ┆     ┆     ┆     ┆     ┆     ┆     ┆     ┆     ┆     ┆     ┆     ┆     ┆     ┆     ┆     ┆     ┆     │\n",
       "╞═════╪═════╪═════╪═════╪═════╪═════╪═════╪═════╪═════╪═════╪═════╪═════╪═════╪═════╪═════╪═════╪═════╪═════╪═════╪═════╪═════╪═════╪═════╪═════╪═════╪═════╪═════╪═════╪═════╪═════╪═════╪═════╪═════╪═════╪═════╪═════╪═════╪═════╪═════╪═════╪═════╪═════╪═════╪═════╪═════╪═════╪═════╪═════╪═════╪═════╪═════╪═════╪═════╪═════╪═════╪═════╪═════╪═════╪═════╪═════╪═════╪═════╪═════╪═════╪═════╪═════╪═════╪═════╪═════╪═════╪═════╪═════╪═════╪═════╪═════╪═════╪═════╪═════╪═════╪═════╪═════╡\n",
       "│ 200 ┆ 2   ┆ Bab ┆ 4:2 ┆ 200 ┆ 87  ┆ 82  ┆ 72  ┆ 77  ┆ 87  ┆ 94  ┆ 99  ┆ NA  ┆ NA  ┆ NA  ┆ NA  ┆ NA  ┆ NA  ┆ NA  ┆ NA  ┆ NA  ┆ NA  ┆ NA  ┆ NA  ┆ NA  ┆ NA  ┆ NA  ┆ NA  ┆ NA  ┆ NA  ┆ NA  ┆ NA  ┆ NA  ┆ NA  ┆ NA  ┆ NA  ┆ NA  ┆ NA  ┆ NA  ┆ NA  ┆ NA  ┆ NA  ┆ NA  ┆ NA  ┆ NA  ┆ NA  ┆ NA  ┆ NA  ┆ NA  ┆ NA  ┆ NA  ┆ NA  ┆ NA  ┆ NA  ┆ NA  ┆ NA  ┆ NA  ┆ NA  ┆ NA  ┆ NA  ┆ NA  ┆ NA  ┆ NA  ┆ NA  ┆ NA  ┆ NA  ┆ NA  ┆ NA  ┆ NA  ┆ NA  ┆ NA  ┆ NA  ┆ NA  ┆ NA  ┆ NA  ┆ NA  ┆ NA  ┆ NA  ┆ NA  ┆ NA  ┆ NA  │\n",
       "│ 0   ┆ Pac ┆ y   ┆ 2   ┆ 0-0 ┆     ┆     ┆     ┆     ┆     ┆     ┆     ┆     ┆     ┆     ┆     ┆     ┆     ┆     ┆     ┆     ┆     ┆     ┆     ┆     ┆     ┆     ┆     ┆     ┆     ┆     ┆     ┆     ┆     ┆     ┆     ┆     ┆     ┆     ┆     ┆     ┆     ┆     ┆     ┆     ┆     ┆     ┆     ┆     ┆     ┆     ┆     ┆     ┆     ┆     ┆     ┆     ┆     ┆     ┆     ┆     ┆     ┆     ┆     ┆     ┆     ┆     ┆     ┆     ┆     ┆     ┆     ┆     ┆     ┆     ┆     ┆     ┆     ┆     ┆     ┆     │\n",
       "│     ┆     ┆ Don ┆     ┆ 2-2 ┆     ┆     ┆     ┆     ┆     ┆     ┆     ┆     ┆     ┆     ┆     ┆     ┆     ┆     ┆     ┆     ┆     ┆     ┆     ┆     ┆     ┆     ┆     ┆     ┆     ┆     ┆     ┆     ┆     ┆     ┆     ┆     ┆     ┆     ┆     ┆     ┆     ┆     ┆     ┆     ┆     ┆     ┆     ┆     ┆     ┆     ┆     ┆     ┆     ┆     ┆     ┆     ┆     ┆     ┆     ┆     ┆     ┆     ┆     ┆     ┆     ┆     ┆     ┆     ┆     ┆     ┆     ┆     ┆     ┆     ┆     ┆     ┆     ┆     ┆     ┆     │\n",
       "│     ┆     ┆ 't  ┆     ┆ 6   ┆     ┆     ┆     ┆     ┆     ┆     ┆     ┆     ┆     ┆     ┆     ┆     ┆     ┆     ┆     ┆     ┆     ┆     ┆     ┆     ┆     ┆     ┆     ┆     ┆     ┆     ┆     ┆     ┆     ┆     ┆     ┆     ┆     ┆     ┆     ┆     ┆     ┆     ┆     ┆     ┆     ┆     ┆     ┆     ┆     ┆     ┆     ┆     ┆     ┆     ┆     ┆     ┆     ┆     ┆     ┆     ┆     ┆     ┆     ┆     ┆     ┆     ┆     ┆     ┆     ┆     ┆     ┆     ┆     ┆     ┆     ┆     ┆     ┆     ┆     ┆     │\n",
       "│     ┆     ┆ Cry ┆     ┆     ┆     ┆     ┆     ┆     ┆     ┆     ┆     ┆     ┆     ┆     ┆     ┆     ┆     ┆     ┆     ┆     ┆     ┆     ┆     ┆     ┆     ┆     ┆     ┆     ┆     ┆     ┆     ┆     ┆     ┆     ┆     ┆     ┆     ┆     ┆     ┆     ┆     ┆     ┆     ┆     ┆     ┆     ┆     ┆     ┆     ┆     ┆     ┆     ┆     ┆     ┆     ┆     ┆     ┆     ┆     ┆     ┆     ┆     ┆     ┆     ┆     ┆     ┆     ┆     ┆     ┆     ┆     ┆     ┆     ┆     ┆     ┆     ┆     ┆     ┆     ┆     │\n",
       "│     ┆     ┆ (Ke ┆     ┆     ┆     ┆     ┆     ┆     ┆     ┆     ┆     ┆     ┆     ┆     ┆     ┆     ┆     ┆     ┆     ┆     ┆     ┆     ┆     ┆     ┆     ┆     ┆     ┆     ┆     ┆     ┆     ┆     ┆     ┆     ┆     ┆     ┆     ┆     ┆     ┆     ┆     ┆     ┆     ┆     ┆     ┆     ┆     ┆     ┆     ┆     ┆     ┆     ┆     ┆     ┆     ┆     ┆     ┆     ┆     ┆     ┆     ┆     ┆     ┆     ┆     ┆     ┆     ┆     ┆     ┆     ┆     ┆     ┆     ┆     ┆     ┆     ┆     ┆     ┆     ┆     │\n",
       "│     ┆     ┆ ep. ┆     ┆     ┆     ┆     ┆     ┆     ┆     ┆     ┆     ┆     ┆     ┆     ┆     ┆     ┆     ┆     ┆     ┆     ┆     ┆     ┆     ┆     ┆     ┆     ┆     ┆     ┆     ┆     ┆     ┆     ┆     ┆     ┆     ┆     ┆     ┆     ┆     ┆     ┆     ┆     ┆     ┆     ┆     ┆     ┆     ┆     ┆     ┆     ┆     ┆     ┆     ┆     ┆     ┆     ┆     ┆     ┆     ┆     ┆     ┆     ┆     ┆     ┆     ┆     ┆     ┆     ┆     ┆     ┆     ┆     ┆     ┆     ┆     ┆     ┆     ┆     ┆     ┆     │\n",
       "│     ┆     ┆ ..  ┆     ┆     ┆     ┆     ┆     ┆     ┆     ┆     ┆     ┆     ┆     ┆     ┆     ┆     ┆     ┆     ┆     ┆     ┆     ┆     ┆     ┆     ┆     ┆     ┆     ┆     ┆     ┆     ┆     ┆     ┆     ┆     ┆     ┆     ┆     ┆     ┆     ┆     ┆     ┆     ┆     ┆     ┆     ┆     ┆     ┆     ┆     ┆     ┆     ┆     ┆     ┆     ┆     ┆     ┆     ┆     ┆     ┆     ┆     ┆     ┆     ┆     ┆     ┆     ┆     ┆     ┆     ┆     ┆     ┆     ┆     ┆     ┆     ┆     ┆     ┆     ┆     ┆     │\n",
       "│ 200 ┆ 2Ge ┆ The ┆ 3:1 ┆ 200 ┆ 91  ┆ 87  ┆ 92  ┆ NA  ┆ NA  ┆ NA  ┆ NA  ┆ NA  ┆ NA  ┆ NA  ┆ NA  ┆ NA  ┆ NA  ┆ NA  ┆ NA  ┆ NA  ┆ NA  ┆ NA  ┆ NA  ┆ NA  ┆ NA  ┆ NA  ┆ NA  ┆ NA  ┆ NA  ┆ NA  ┆ NA  ┆ NA  ┆ NA  ┆ NA  ┆ NA  ┆ NA  ┆ NA  ┆ NA  ┆ NA  ┆ NA  ┆ NA  ┆ NA  ┆ NA  ┆ NA  ┆ NA  ┆ NA  ┆ NA  ┆ NA  ┆ NA  ┆ NA  ┆ NA  ┆ NA  ┆ NA  ┆ NA  ┆ NA  ┆ NA  ┆ NA  ┆ NA  ┆ NA  ┆ NA  ┆ NA  ┆ NA  ┆ NA  ┆ NA  ┆ NA  ┆ NA  ┆ NA  ┆ NA  ┆ NA  ┆ NA  ┆ NA  ┆ NA  ┆ NA  ┆ NA  ┆ NA  ┆ NA  ┆ NA  ┆ NA  ┆ NA  ┆ NA  │\n",
       "│ 0   ┆ +he ┆ Har ┆ 5   ┆ 0-0 ┆     ┆     ┆     ┆     ┆     ┆     ┆     ┆     ┆     ┆     ┆     ┆     ┆     ┆     ┆     ┆     ┆     ┆     ┆     ┆     ┆     ┆     ┆     ┆     ┆     ┆     ┆     ┆     ┆     ┆     ┆     ┆     ┆     ┆     ┆     ┆     ┆     ┆     ┆     ┆     ┆     ┆     ┆     ┆     ┆     ┆     ┆     ┆     ┆     ┆     ┆     ┆     ┆     ┆     ┆     ┆     ┆     ┆     ┆     ┆     ┆     ┆     ┆     ┆     ┆     ┆     ┆     ┆     ┆     ┆     ┆     ┆     ┆     ┆     ┆     ┆     │\n",
       "│     ┆ r   ┆ des ┆     ┆ 9-0 ┆     ┆     ┆     ┆     ┆     ┆     ┆     ┆     ┆     ┆     ┆     ┆     ┆     ┆     ┆     ┆     ┆     ┆     ┆     ┆     ┆     ┆     ┆     ┆     ┆     ┆     ┆     ┆     ┆     ┆     ┆     ┆     ┆     ┆     ┆     ┆     ┆     ┆     ┆     ┆     ┆     ┆     ┆     ┆     ┆     ┆     ┆     ┆     ┆     ┆     ┆     ┆     ┆     ┆     ┆     ┆     ┆     ┆     ┆     ┆     ┆     ┆     ┆     ┆     ┆     ┆     ┆     ┆     ┆     ┆     ┆     ┆     ┆     ┆     ┆     ┆     │\n",
       "│     ┆     ┆ t   ┆     ┆ 2   ┆     ┆     ┆     ┆     ┆     ┆     ┆     ┆     ┆     ┆     ┆     ┆     ┆     ┆     ┆     ┆     ┆     ┆     ┆     ┆     ┆     ┆     ┆     ┆     ┆     ┆     ┆     ┆     ┆     ┆     ┆     ┆     ┆     ┆     ┆     ┆     ┆     ┆     ┆     ┆     ┆     ┆     ┆     ┆     ┆     ┆     ┆     ┆     ┆     ┆     ┆     ┆     ┆     ┆     ┆     ┆     ┆     ┆     ┆     ┆     ┆     ┆     ┆     ┆     ┆     ┆     ┆     ┆     ┆     ┆     ┆     ┆     ┆     ┆     ┆     ┆     │\n",
       "│     ┆     ┆ Par ┆     ┆     ┆     ┆     ┆     ┆     ┆     ┆     ┆     ┆     ┆     ┆     ┆     ┆     ┆     ┆     ┆     ┆     ┆     ┆     ┆     ┆     ┆     ┆     ┆     ┆     ┆     ┆     ┆     ┆     ┆     ┆     ┆     ┆     ┆     ┆     ┆     ┆     ┆     ┆     ┆     ┆     ┆     ┆     ┆     ┆     ┆     ┆     ┆     ┆     ┆     ┆     ┆     ┆     ┆     ┆     ┆     ┆     ┆     ┆     ┆     ┆     ┆     ┆     ┆     ┆     ┆     ┆     ┆     ┆     ┆     ┆     ┆     ┆     ┆     ┆     ┆     ┆     │\n",
       "│     ┆     ┆ t   ┆     ┆     ┆     ┆     ┆     ┆     ┆     ┆     ┆     ┆     ┆     ┆     ┆     ┆     ┆     ┆     ┆     ┆     ┆     ┆     ┆     ┆     ┆     ┆     ┆     ┆     ┆     ┆     ┆     ┆     ┆     ┆     ┆     ┆     ┆     ┆     ┆     ┆     ┆     ┆     ┆     ┆     ┆     ┆     ┆     ┆     ┆     ┆     ┆     ┆     ┆     ┆     ┆     ┆     ┆     ┆     ┆     ┆     ┆     ┆     ┆     ┆     ┆     ┆     ┆     ┆     ┆     ┆     ┆     ┆     ┆     ┆     ┆     ┆     ┆     ┆     ┆     ┆     │\n",
       "│     ┆     ┆ Of  ┆     ┆     ┆     ┆     ┆     ┆     ┆     ┆     ┆     ┆     ┆     ┆     ┆     ┆     ┆     ┆     ┆     ┆     ┆     ┆     ┆     ┆     ┆     ┆     ┆     ┆     ┆     ┆     ┆     ┆     ┆     ┆     ┆     ┆     ┆     ┆     ┆     ┆     ┆     ┆     ┆     ┆     ┆     ┆     ┆     ┆     ┆     ┆     ┆     ┆     ┆     ┆     ┆     ┆     ┆     ┆     ┆     ┆     ┆     ┆     ┆     ┆     ┆     ┆     ┆     ┆     ┆     ┆     ┆     ┆     ┆     ┆     ┆     ┆     ┆     ┆     ┆     ┆     │\n",
       "│     ┆     ┆ ... ┆     ┆     ┆     ┆     ┆     ┆     ┆     ┆     ┆     ┆     ┆     ┆     ┆     ┆     ┆     ┆     ┆     ┆     ┆     ┆     ┆     ┆     ┆     ┆     ┆     ┆     ┆     ┆     ┆     ┆     ┆     ┆     ┆     ┆     ┆     ┆     ┆     ┆     ┆     ┆     ┆     ┆     ┆     ┆     ┆     ┆     ┆     ┆     ┆     ┆     ┆     ┆     ┆     ┆     ┆     ┆     ┆     ┆     ┆     ┆     ┆     ┆     ┆     ┆     ┆     ┆     ┆     ┆     ┆     ┆     ┆     ┆     ┆     ┆     ┆     ┆     ┆     ┆     │\n",
       "│ 200 ┆ 3   ┆ Kry ┆ 3:5 ┆ 200 ┆ 81  ┆ 70  ┆ 68  ┆ 67  ┆ 66  ┆ 57  ┆ 54  ┆ 53  ┆ 51  ┆ 51  ┆ 51  ┆ 51  ┆ 47  ┆ 44  ┆ 38  ┆ 28  ┆ 22  ┆ 18  ┆ 18  ┆ 14  ┆ 12  ┆ 7   ┆ 6   ┆ 6   ┆ 6   ┆ 5   ┆ 5   ┆ 4   ┆ 4   ┆ 4   ┆ 4   ┆ 3   ┆ 3   ┆ 3   ┆ 4   ┆ 5   ┆ 5   ┆ 9   ┆ 9   ┆ 15  ┆ 14  ┆ 13  ┆ 14  ┆ 16  ┆ 17  ┆ 21  ┆ 22  ┆ 24  ┆ 28  ┆ 33  ┆ 42  ┆ 42  ┆ 49  ┆ NA  ┆ NA  ┆ NA  ┆ NA  ┆ NA  ┆ NA  ┆ NA  ┆ NA  ┆ NA  ┆ NA  ┆ NA  ┆ NA  ┆ NA  ┆ NA  ┆ NA  ┆ NA  ┆ NA  ┆ NA  ┆ NA  ┆ NA  ┆ NA  ┆ NA  ┆ NA  │\n",
       "│ 0   ┆ Doo ┆ pto ┆ 3   ┆ 0-0 ┆     ┆     ┆     ┆     ┆     ┆     ┆     ┆     ┆     ┆     ┆     ┆     ┆     ┆     ┆     ┆     ┆     ┆     ┆     ┆     ┆     ┆     ┆     ┆     ┆     ┆     ┆     ┆     ┆     ┆     ┆     ┆     ┆     ┆     ┆     ┆     ┆     ┆     ┆     ┆     ┆     ┆     ┆     ┆     ┆     ┆     ┆     ┆     ┆     ┆     ┆     ┆     ┆     ┆     ┆     ┆     ┆     ┆     ┆     ┆     ┆     ┆     ┆     ┆     ┆     ┆     ┆     ┆     ┆     ┆     ┆     ┆     ┆     ┆     ┆     ┆     │\n",
       "│     ┆ rs  ┆ nit ┆     ┆ 4-0 ┆     ┆     ┆     ┆     ┆     ┆     ┆     ┆     ┆     ┆     ┆     ┆     ┆     ┆     ┆     ┆     ┆     ┆     ┆     ┆     ┆     ┆     ┆     ┆     ┆     ┆     ┆     ┆     ┆     ┆     ┆     ┆     ┆     ┆     ┆     ┆     ┆     ┆     ┆     ┆     ┆     ┆     ┆     ┆     ┆     ┆     ┆     ┆     ┆     ┆     ┆     ┆     ┆     ┆     ┆     ┆     ┆     ┆     ┆     ┆     ┆     ┆     ┆     ┆     ┆     ┆     ┆     ┆     ┆     ┆     ┆     ┆     ┆     ┆     ┆     ┆     │\n",
       "│     ┆ Dow ┆ e   ┆     ┆ 8   ┆     ┆     ┆     ┆     ┆     ┆     ┆     ┆     ┆     ┆     ┆     ┆     ┆     ┆     ┆     ┆     ┆     ┆     ┆     ┆     ┆     ┆     ┆     ┆     ┆     ┆     ┆     ┆     ┆     ┆     ┆     ┆     ┆     ┆     ┆     ┆     ┆     ┆     ┆     ┆     ┆     ┆     ┆     ┆     ┆     ┆     ┆     ┆     ┆     ┆     ┆     ┆     ┆     ┆     ┆     ┆     ┆     ┆     ┆     ┆     ┆     ┆     ┆     ┆     ┆     ┆     ┆     ┆     ┆     ┆     ┆     ┆     ┆     ┆     ┆     ┆     │\n",
       "│     ┆ n   ┆     ┆     ┆     ┆     ┆     ┆     ┆     ┆     ┆     ┆     ┆     ┆     ┆     ┆     ┆     ┆     ┆     ┆     ┆     ┆     ┆     ┆     ┆     ┆     ┆     ┆     ┆     ┆     ┆     ┆     ┆     ┆     ┆     ┆     ┆     ┆     ┆     ┆     ┆     ┆     ┆     ┆     ┆     ┆     ┆     ┆     ┆     ┆     ┆     ┆     ┆     ┆     ┆     ┆     ┆     ┆     ┆     ┆     ┆     ┆     ┆     ┆     ┆     ┆     ┆     ┆     ┆     ┆     ┆     ┆     ┆     ┆     ┆     ┆     ┆     ┆     ┆     ┆     ┆     │\n",
       "│ 200 ┆ 3   ┆ Los ┆ 4:2 ┆ 200 ┆ 76  ┆ 76  ┆ 72  ┆ 69  ┆ 67  ┆ 65  ┆ 55  ┆ 59  ┆ 62  ┆ 61  ┆ 61  ┆ 59  ┆ 61  ┆ 66  ┆ 72  ┆ 76  ┆ 75  ┆ 67  ┆ 73  ┆ 70  ┆ NA  ┆ NA  ┆ NA  ┆ NA  ┆ NA  ┆ NA  ┆ NA  ┆ NA  ┆ NA  ┆ NA  ┆ NA  ┆ NA  ┆ NA  ┆ NA  ┆ NA  ┆ NA  ┆ NA  ┆ NA  ┆ NA  ┆ NA  ┆ NA  ┆ NA  ┆ NA  ┆ NA  ┆ NA  ┆ NA  ┆ NA  ┆ NA  ┆ NA  ┆ NA  ┆ NA  ┆ NA  ┆ NA  ┆ NA  ┆ NA  ┆ NA  ┆ NA  ┆ NA  ┆ NA  ┆ NA  ┆ NA  ┆ NA  ┆ NA  ┆ NA  ┆ NA  ┆ NA  ┆ NA  ┆ NA  ┆ NA  ┆ NA  ┆ NA  ┆ NA  ┆ NA  ┆ NA  ┆ NA  ┆ NA  │\n",
       "│ 0   ┆ Doo ┆ er  ┆ 4   ┆ 0-1 ┆     ┆     ┆     ┆     ┆     ┆     ┆     ┆     ┆     ┆     ┆     ┆     ┆     ┆     ┆     ┆     ┆     ┆     ┆     ┆     ┆     ┆     ┆     ┆     ┆     ┆     ┆     ┆     ┆     ┆     ┆     ┆     ┆     ┆     ┆     ┆     ┆     ┆     ┆     ┆     ┆     ┆     ┆     ┆     ┆     ┆     ┆     ┆     ┆     ┆     ┆     ┆     ┆     ┆     ┆     ┆     ┆     ┆     ┆     ┆     ┆     ┆     ┆     ┆     ┆     ┆     ┆     ┆     ┆     ┆     ┆     ┆     ┆     ┆     ┆     ┆     │\n",
       "│     ┆ rs  ┆     ┆     ┆ 0-2 ┆     ┆     ┆     ┆     ┆     ┆     ┆     ┆     ┆     ┆     ┆     ┆     ┆     ┆     ┆     ┆     ┆     ┆     ┆     ┆     ┆     ┆     ┆     ┆     ┆     ┆     ┆     ┆     ┆     ┆     ┆     ┆     ┆     ┆     ┆     ┆     ┆     ┆     ┆     ┆     ┆     ┆     ┆     ┆     ┆     ┆     ┆     ┆     ┆     ┆     ┆     ┆     ┆     ┆     ┆     ┆     ┆     ┆     ┆     ┆     ┆     ┆     ┆     ┆     ┆     ┆     ┆     ┆     ┆     ┆     ┆     ┆     ┆     ┆     ┆     ┆     │\n",
       "│     ┆ Dow ┆     ┆     ┆ 1   ┆     ┆     ┆     ┆     ┆     ┆     ┆     ┆     ┆     ┆     ┆     ┆     ┆     ┆     ┆     ┆     ┆     ┆     ┆     ┆     ┆     ┆     ┆     ┆     ┆     ┆     ┆     ┆     ┆     ┆     ┆     ┆     ┆     ┆     ┆     ┆     ┆     ┆     ┆     ┆     ┆     ┆     ┆     ┆     ┆     ┆     ┆     ┆     ┆     ┆     ┆     ┆     ┆     ┆     ┆     ┆     ┆     ┆     ┆     ┆     ┆     ┆     ┆     ┆     ┆     ┆     ┆     ┆     ┆     ┆     ┆     ┆     ┆     ┆     ┆     ┆     │\n",
       "│     ┆ n   ┆     ┆     ┆     ┆     ┆     ┆     ┆     ┆     ┆     ┆     ┆     ┆     ┆     ┆     ┆     ┆     ┆     ┆     ┆     ┆     ┆     ┆     ┆     ┆     ┆     ┆     ┆     ┆     ┆     ┆     ┆     ┆     ┆     ┆     ┆     ┆     ┆     ┆     ┆     ┆     ┆     ┆     ┆     ┆     ┆     ┆     ┆     ┆     ┆     ┆     ┆     ┆     ┆     ┆     ┆     ┆     ┆     ┆     ┆     ┆     ┆     ┆     ┆     ┆     ┆     ┆     ┆     ┆     ┆     ┆     ┆     ┆     ┆     ┆     ┆     ┆     ┆     ┆     ┆     │\n",
       "│ 200 ┆ 504 ┆ Wob ┆ 3:3 ┆ 200 ┆ 57  ┆ 34  ┆ 25  ┆ 17  ┆ 17  ┆ 31  ┆ 36  ┆ 49  ┆ 53  ┆ 57  ┆ 64  ┆ 70  ┆ 75  ┆ 76  ┆ 78  ┆ 85  ┆ 92  ┆ 96  ┆ NA  ┆ NA  ┆ NA  ┆ NA  ┆ NA  ┆ NA  ┆ NA  ┆ NA  ┆ NA  ┆ NA  ┆ NA  ┆ NA  ┆ NA  ┆ NA  ┆ NA  ┆ NA  ┆ NA  ┆ NA  ┆ NA  ┆ NA  ┆ NA  ┆ NA  ┆ NA  ┆ NA  ┆ NA  ┆ NA  ┆ NA  ┆ NA  ┆ NA  ┆ NA  ┆ NA  ┆ NA  ┆ NA  ┆ NA  ┆ NA  ┆ NA  ┆ NA  ┆ NA  ┆ NA  ┆ NA  ┆ NA  ┆ NA  ┆ NA  ┆ NA  ┆ NA  ┆ NA  ┆ NA  ┆ NA  ┆ NA  ┆ NA  ┆ NA  ┆ NA  ┆ NA  ┆ NA  ┆ NA  ┆ NA  ┆ NA  ┆ NA  │\n",
       "│ 0   ┆ Boy ┆ ble ┆ 5   ┆ 0-0 ┆     ┆     ┆     ┆     ┆     ┆     ┆     ┆     ┆     ┆     ┆     ┆     ┆     ┆     ┆     ┆     ┆     ┆     ┆     ┆     ┆     ┆     ┆     ┆     ┆     ┆     ┆     ┆     ┆     ┆     ┆     ┆     ┆     ┆     ┆     ┆     ┆     ┆     ┆     ┆     ┆     ┆     ┆     ┆     ┆     ┆     ┆     ┆     ┆     ┆     ┆     ┆     ┆     ┆     ┆     ┆     ┆     ┆     ┆     ┆     ┆     ┆     ┆     ┆     ┆     ┆     ┆     ┆     ┆     ┆     ┆     ┆     ┆     ┆     ┆     ┆     │\n",
       "│     ┆ z   ┆ Wob ┆     ┆ 4-1 ┆     ┆     ┆     ┆     ┆     ┆     ┆     ┆     ┆     ┆     ┆     ┆     ┆     ┆     ┆     ┆     ┆     ┆     ┆     ┆     ┆     ┆     ┆     ┆     ┆     ┆     ┆     ┆     ┆     ┆     ┆     ┆     ┆     ┆     ┆     ┆     ┆     ┆     ┆     ┆     ┆     ┆     ┆     ┆     ┆     ┆     ┆     ┆     ┆     ┆     ┆     ┆     ┆     ┆     ┆     ┆     ┆     ┆     ┆     ┆     ┆     ┆     ┆     ┆     ┆     ┆     ┆     ┆     ┆     ┆     ┆     ┆     ┆     ┆     ┆     ┆     │\n",
       "│     ┆     ┆ ble ┆     ┆ 5   ┆     ┆     ┆     ┆     ┆     ┆     ┆     ┆     ┆     ┆     ┆     ┆     ┆     ┆     ┆     ┆     ┆     ┆     ┆     ┆     ┆     ┆     ┆     ┆     ┆     ┆     ┆     ┆     ┆     ┆     ┆     ┆     ┆     ┆     ┆     ┆     ┆     ┆     ┆     ┆     ┆     ┆     ┆     ┆     ┆     ┆     ┆     ┆     ┆     ┆     ┆     ┆     ┆     ┆     ┆     ┆     ┆     ┆     ┆     ┆     ┆     ┆     ┆     ┆     ┆     ┆     ┆     ┆     ┆     ┆     ┆     ┆     ┆     ┆     ┆     ┆     │\n",
       "└─────┴─────┴─────┴─────┴─────┴─────┴─────┴─────┴─────┴─────┴─────┴─────┴─────┴─────┴─────┴─────┴─────┴─────┴─────┴─────┴─────┴─────┴─────┴─────┴─────┴─────┴─────┴─────┴─────┴─────┴─────┴─────┴─────┴─────┴─────┴─────┴─────┴─────┴─────┴─────┴─────┴─────┴─────┴─────┴─────┴─────┴─────┴─────┴─────┴─────┴─────┴─────┴─────┴─────┴─────┴─────┴─────┴─────┴─────┴─────┴─────┴─────┴─────┴─────┴─────┴─────┴─────┴─────┴─────┴─────┴─────┴─────┴─────┴─────┴─────┴─────┴─────┴─────┴─────┴─────┴─────┘"
      ]
     },
     "execution_count": 4,
     "metadata": {},
     "output_type": "execute_result"
    }
   ],
   "source": [
    "billboard = pl.read_csv(\"../data/billboard.csv\")\n",
    "billboard.head()"
   ]
  },
  {
   "cell_type": "markdown",
   "metadata": {},
   "source": [
    "#### データを整形する"
   ]
  },
  {
   "cell_type": "code",
   "execution_count": 5,
   "metadata": {},
   "outputs": [
    {
     "data": {
      "text/html": [
       "<div><style>\n",
       ".dataframe > thead > tr,\n",
       ".dataframe > tbody > tr {\n",
       "  text-align: right;\n",
       "  white-space: pre-wrap;\n",
       "}\n",
       "</style>\n",
       "<small>shape: (5, 7)</small><table border=\"1\" class=\"dataframe\"><thead><tr><th>year</th><th>artist</th><th>track</th><th>time</th><th>date.entered</th><th>week</th><th>rating</th></tr><tr><td>i64</td><td>str</td><td>str</td><td>str</td><td>str</td><td>str</td><td>str</td></tr></thead><tbody><tr><td>2000</td><td>&quot;2 Pac&quot;</td><td>&quot;Baby Don&#x27;t Cry…</td><td>&quot;4:22&quot;</td><td>&quot;2000-02-26&quot;</td><td>&quot;wk1&quot;</td><td>&quot;87&quot;</td></tr><tr><td>2000</td><td>&quot;2Ge+her&quot;</td><td>&quot;The Hardest Pa…</td><td>&quot;3:15&quot;</td><td>&quot;2000-09-02&quot;</td><td>&quot;wk1&quot;</td><td>&quot;91&quot;</td></tr><tr><td>2000</td><td>&quot;3 Doors Down&quot;</td><td>&quot;Kryptonite&quot;</td><td>&quot;3:53&quot;</td><td>&quot;2000-04-08&quot;</td><td>&quot;wk1&quot;</td><td>&quot;81&quot;</td></tr><tr><td>2000</td><td>&quot;3 Doors Down&quot;</td><td>&quot;Loser&quot;</td><td>&quot;4:24&quot;</td><td>&quot;2000-10-21&quot;</td><td>&quot;wk1&quot;</td><td>&quot;76&quot;</td></tr><tr><td>2000</td><td>&quot;504 Boyz&quot;</td><td>&quot;Wobble Wobble&quot;</td><td>&quot;3:35&quot;</td><td>&quot;2000-04-15&quot;</td><td>&quot;wk1&quot;</td><td>&quot;57&quot;</td></tr></tbody></table></div>"
      ],
      "text/plain": [
       "shape: (5, 7)\n",
       "┌──────┬──────────────┬─────────────────────────┬──────┬──────────────┬──────┬────────┐\n",
       "│ year ┆ artist       ┆ track                   ┆ time ┆ date.entered ┆ week ┆ rating │\n",
       "│ ---  ┆ ---          ┆ ---                     ┆ ---  ┆ ---          ┆ ---  ┆ ---    │\n",
       "│ i64  ┆ str          ┆ str                     ┆ str  ┆ str          ┆ str  ┆ str    │\n",
       "╞══════╪══════════════╪═════════════════════════╪══════╪══════════════╪══════╪════════╡\n",
       "│ 2000 ┆ 2 Pac        ┆ Baby Don't Cry (Keep... ┆ 4:22 ┆ 2000-02-26   ┆ wk1  ┆ 87     │\n",
       "│ 2000 ┆ 2Ge+her      ┆ The Hardest Part Of ... ┆ 3:15 ┆ 2000-09-02   ┆ wk1  ┆ 91     │\n",
       "│ 2000 ┆ 3 Doors Down ┆ Kryptonite              ┆ 3:53 ┆ 2000-04-08   ┆ wk1  ┆ 81     │\n",
       "│ 2000 ┆ 3 Doors Down ┆ Loser                   ┆ 4:24 ┆ 2000-10-21   ┆ wk1  ┆ 76     │\n",
       "│ 2000 ┆ 504 Boyz     ┆ Wobble Wobble           ┆ 3:35 ┆ 2000-04-15   ┆ wk1  ┆ 57     │\n",
       "└──────┴──────────────┴─────────────────────────┴──────┴──────────────┴──────┴────────┘"
      ]
     },
     "execution_count": 5,
     "metadata": {},
     "output_type": "execute_result"
    }
   ],
   "source": [
    "billboard_long = (\n",
    "    billboard\n",
    "    .melt(id_vars = [\"year\", \"artist\", \"track\", \"time\", \"date.entered\"],\n",
    "          variable_name = \"week\",\n",
    "          value_name = \"rating\"\n",
    "          )\n",
    ")\n",
    "\n",
    "billboard_long.head()"
   ]
  }
 ],
 "metadata": {
  "kernelspec": {
   "display_name": "Python 3",
   "language": "python",
   "name": "python3"
  },
  "language_info": {
   "codemirror_mode": {
    "name": "ipython",
    "version": 3
   },
   "file_extension": ".py",
   "mimetype": "text/x-python",
   "name": "python",
   "nbconvert_exporter": "python",
   "pygments_lexer": "ipython3",
   "version": "3.11.4"
  }
 },
 "nbformat": 4,
 "nbformat_minor": 2
}
