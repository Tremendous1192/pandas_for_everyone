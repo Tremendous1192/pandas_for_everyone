{
 "cells": [
  {
   "cell_type": "markdown",
   "metadata": {},
   "source": [
    "## ホールドアウト検証(16.3 k分割交差検証の前半)"
   ]
  },
  {
   "cell_type": "markdown",
   "metadata": {},
   "source": [
    "### データを読み込む"
   ]
  },
  {
   "cell_type": "code",
   "execution_count": 1,
   "metadata": {},
   "outputs": [
    {
     "data": {
      "text/html": [
       "<div><style>\n",
       ".dataframe > thead > tr,\n",
       ".dataframe > tbody > tr {\n",
       "  text-align: right;\n",
       "  white-space: pre-wrap;\n",
       "}\n",
       "</style>\n",
       "<small>shape: (5, 13)</small><table border=\"1\" class=\"dataframe\"><thead><tr><th>neighborhood</th><th>type</th><th>units</th><th>year_built</th><th>sq_ft</th><th>income</th><th>income_per_sq_ft</th><th>expense</th><th>expense_per_sq_ft</th><th>net_income</th><th>value</th><th>value_per_sq_ft</th><th>boro</th></tr><tr><td>str</td><td>str</td><td>i64</td><td>f64</td><td>i64</td><td>i64</td><td>f64</td><td>i64</td><td>f64</td><td>i64</td><td>i64</td><td>f64</td><td>str</td></tr></thead><tbody><tr><td>&quot;UPPER WEST SID…</td><td>&quot;R4-CONDOMINIUM…</td><td>1</td><td>1991.0</td><td>945</td><td>40000</td><td>42.33</td><td>14000</td><td>14.81</td><td>26000</td><td>184000</td><td>194.71</td><td>&quot;Manhattan&quot;</td></tr><tr><td>&quot;FLUSHING-NORTH…</td><td>&quot;R4-CONDOMINIUM…</td><td>1</td><td>1967.0</td><td>1075</td><td>17200</td><td>16.0</td><td>8288</td><td>7.71</td><td>8912</td><td>59000</td><td>54.88</td><td>&quot;Queens&quot;</td></tr><tr><td>&quot;SOHO&quot;</td><td>&quot;R2-CONDOMINIUM…</td><td>1</td><td>1941.0</td><td>1158</td><td>50327</td><td>43.46</td><td>10156</td><td>8.77</td><td>40171</td><td>303000</td><td>261.66</td><td>&quot;Manhattan&quot;</td></tr><tr><td>&quot;FLATIRON&quot;</td><td>&quot;R4-CONDOMINIUM…</td><td>1</td><td>1920.0</td><td>1800</td><td>65178</td><td>36.21</td><td>17928</td><td>9.96</td><td>47250</td><td>328000</td><td>182.22</td><td>&quot;Manhattan&quot;</td></tr><tr><td>&quot;ALPHABET CITY&quot;</td><td>&quot;R4-CONDOMINIUM…</td><td>1</td><td>1920.0</td><td>1996</td><td>64870</td><td>32.5</td><td>23772</td><td>11.91</td><td>41098</td><td>306000</td><td>153.31</td><td>&quot;Manhattan&quot;</td></tr></tbody></table></div>"
      ],
      "text/plain": [
       "shape: (5, 13)\n",
       "┌─────────────┬────────────┬───────┬────────────┬───┬────────────┬────────┬────────────┬───────────┐\n",
       "│ neighborhoo ┆ type       ┆ units ┆ year_built ┆ … ┆ net_income ┆ value  ┆ value_per_ ┆ boro      │\n",
       "│ d           ┆ ---        ┆ ---   ┆ ---        ┆   ┆ ---        ┆ ---    ┆ sq_ft      ┆ ---       │\n",
       "│ ---         ┆ str        ┆ i64   ┆ f64        ┆   ┆ i64        ┆ i64    ┆ ---        ┆ str       │\n",
       "│ str         ┆            ┆       ┆            ┆   ┆            ┆        ┆ f64        ┆           │\n",
       "╞═════════════╪════════════╪═══════╪════════════╪═══╪════════════╪════════╪════════════╪═══════════╡\n",
       "│ UPPER WEST  ┆ R4-CONDOMI ┆ 1     ┆ 1991.0     ┆ … ┆ 26000      ┆ 184000 ┆ 194.71     ┆ Manhattan │\n",
       "│ SIDE        ┆ NIUM       ┆       ┆            ┆   ┆            ┆        ┆            ┆           │\n",
       "│ (59-79)     ┆            ┆       ┆            ┆   ┆            ┆        ┆            ┆           │\n",
       "│ FLUSHING-NO ┆ R4-CONDOMI ┆ 1     ┆ 1967.0     ┆ … ┆ 8912       ┆ 59000  ┆ 54.88      ┆ Queens    │\n",
       "│ RTH         ┆ NIUM       ┆       ┆            ┆   ┆            ┆        ┆            ┆           │\n",
       "│ SOHO        ┆ R2-CONDOMI ┆ 1     ┆ 1941.0     ┆ … ┆ 40171      ┆ 303000 ┆ 261.66     ┆ Manhattan │\n",
       "│             ┆ NIUM       ┆       ┆            ┆   ┆            ┆        ┆            ┆           │\n",
       "│ FLATIRON    ┆ R4-CONDOMI ┆ 1     ┆ 1920.0     ┆ … ┆ 47250      ┆ 328000 ┆ 182.22     ┆ Manhattan │\n",
       "│             ┆ NIUM       ┆       ┆            ┆   ┆            ┆        ┆            ┆           │\n",
       "│ ALPHABET    ┆ R4-CONDOMI ┆ 1     ┆ 1920.0     ┆ … ┆ 41098      ┆ 306000 ┆ 153.31     ┆ Manhattan │\n",
       "│ CITY        ┆ NIUM       ┆       ┆            ┆   ┆            ┆        ┆            ┆           │\n",
       "└─────────────┴────────────┴───────┴────────────┴───┴────────────┴────────┴────────────┴───────────┘"
      ]
     },
     "metadata": {},
     "output_type": "display_data"
    },
    {
     "data": {
      "text/plain": [
       "['neighborhood',\n",
       " 'type',\n",
       " 'units',\n",
       " 'year_built',\n",
       " 'sq_ft',\n",
       " 'income',\n",
       " 'income_per_sq_ft',\n",
       " 'expense',\n",
       " 'expense_per_sq_ft',\n",
       " 'net_income',\n",
       " 'value',\n",
       " 'value_per_sq_ft',\n",
       " 'boro']"
      ]
     },
     "metadata": {},
     "output_type": "display_data"
    }
   ],
   "source": [
    "import polars as pl\n",
    "\n",
    "housing = pl.read_csv(\"../data/housing_renamed.csv\")\n",
    "# ダミー変数の調整用にソートする\n",
    "housing = housing.sort(by = [\"units\", \"sq_ft\", \"boro\"])\n",
    "display(housing.head())\n",
    "display(housing.columns)"
   ]
  },
  {
   "cell_type": "markdown",
   "metadata": {},
   "source": [
    "### 訓練データと検証データに分割する"
   ]
  },
  {
   "cell_type": "code",
   "execution_count": 2,
   "metadata": {},
   "outputs": [],
   "source": [
    "from sklearn.model_selection import train_test_split\n",
    "from sklearn.linear_model import LinearRegression\n",
    "\n",
    "X_train, X_eval, y_train, y_eval = (\n",
    "    train_test_split(\n",
    "        housing[[\"units\", \"sq_ft\", \"boro\"]].to_dummies(drop_first = True),\n",
    "        housing[\"value_per_sq_ft\"],\n",
    "        test_size = 0.20,\n",
    "        random_state = 42\n",
    "    )\n",
    ")"
   ]
  },
  {
   "cell_type": "markdown",
   "metadata": {},
   "source": [
    "### 予測精度を検証する"
   ]
  },
  {
   "cell_type": "code",
   "execution_count": 3,
   "metadata": {},
   "outputs": [
    {
     "data": {
      "text/plain": [
       "-1.1957945061706306e+24"
      ]
     },
     "execution_count": 3,
     "metadata": {},
     "output_type": "execute_result"
    }
   ],
   "source": [
    "lr = LinearRegression().fit(X_train, y_train)\n",
    "lr.score(X_eval, y_eval)"
   ]
  },
  {
   "cell_type": "markdown",
   "metadata": {},
   "source": [
    "### "
   ]
  }
 ],
 "metadata": {
  "kernelspec": {
   "display_name": "Python 3",
   "language": "python",
   "name": "python3"
  },
  "language_info": {
   "codemirror_mode": {
    "name": "ipython",
    "version": 3
   },
   "file_extension": ".py",
   "mimetype": "text/x-python",
   "name": "python",
   "nbconvert_exporter": "python",
   "pygments_lexer": "ipython3",
   "version": "3.11.4"
  }
 },
 "nbformat": 4,
 "nbformat_minor": 2
}
