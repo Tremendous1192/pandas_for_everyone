{
 "cells": [
  {
   "cell_type": "markdown",
   "metadata": {},
   "source": [
    "## ホ16.3 k分割交差検証の前半"
   ]
  },
  {
   "cell_type": "markdown",
   "metadata": {},
   "source": [
    "### データを読み込む"
   ]
  },
  {
   "cell_type": "code",
   "execution_count": 10,
   "metadata": {},
   "outputs": [
    {
     "data": {
      "text/html": [
       "<div><style>\n",
       ".dataframe > thead > tr,\n",
       ".dataframe > tbody > tr {\n",
       "  text-align: right;\n",
       "  white-space: pre-wrap;\n",
       "}\n",
       "</style>\n",
       "<small>shape: (5, 13)</small><table border=\"1\" class=\"dataframe\"><thead><tr><th>neighborhood</th><th>type</th><th>units</th><th>year_built</th><th>sq_ft</th><th>income</th><th>income_per_sq_ft</th><th>expense</th><th>expense_per_sq_ft</th><th>net_income</th><th>value</th><th>value_per_sq_ft</th><th>boro</th></tr><tr><td>str</td><td>str</td><td>i64</td><td>f64</td><td>i64</td><td>i64</td><td>f64</td><td>i64</td><td>f64</td><td>i64</td><td>i64</td><td>f64</td><td>str</td></tr></thead><tbody><tr><td>&quot;UPPER WEST SID…</td><td>&quot;R4-CONDOMINIUM…</td><td>1</td><td>1991.0</td><td>945</td><td>40000</td><td>42.33</td><td>14000</td><td>14.81</td><td>26000</td><td>184000</td><td>194.71</td><td>&quot;Manhattan&quot;</td></tr><tr><td>&quot;FLUSHING-NORTH…</td><td>&quot;R4-CONDOMINIUM…</td><td>1</td><td>1967.0</td><td>1075</td><td>17200</td><td>16.0</td><td>8288</td><td>7.71</td><td>8912</td><td>59000</td><td>54.88</td><td>&quot;Queens&quot;</td></tr><tr><td>&quot;SOHO&quot;</td><td>&quot;R2-CONDOMINIUM…</td><td>1</td><td>1941.0</td><td>1158</td><td>50327</td><td>43.46</td><td>10156</td><td>8.77</td><td>40171</td><td>303000</td><td>261.66</td><td>&quot;Manhattan&quot;</td></tr><tr><td>&quot;FLATIRON&quot;</td><td>&quot;R4-CONDOMINIUM…</td><td>1</td><td>1920.0</td><td>1800</td><td>65178</td><td>36.21</td><td>17928</td><td>9.96</td><td>47250</td><td>328000</td><td>182.22</td><td>&quot;Manhattan&quot;</td></tr><tr><td>&quot;ALPHABET CITY&quot;</td><td>&quot;R4-CONDOMINIUM…</td><td>1</td><td>1920.0</td><td>1996</td><td>64870</td><td>32.5</td><td>23772</td><td>11.91</td><td>41098</td><td>306000</td><td>153.31</td><td>&quot;Manhattan&quot;</td></tr></tbody></table></div>"
      ],
      "text/plain": [
       "shape: (5, 13)\n",
       "┌─────────────┬────────────┬───────┬────────────┬───┬────────────┬────────┬────────────┬───────────┐\n",
       "│ neighborhoo ┆ type       ┆ units ┆ year_built ┆ … ┆ net_income ┆ value  ┆ value_per_ ┆ boro      │\n",
       "│ d           ┆ ---        ┆ ---   ┆ ---        ┆   ┆ ---        ┆ ---    ┆ sq_ft      ┆ ---       │\n",
       "│ ---         ┆ str        ┆ i64   ┆ f64        ┆   ┆ i64        ┆ i64    ┆ ---        ┆ str       │\n",
       "│ str         ┆            ┆       ┆            ┆   ┆            ┆        ┆ f64        ┆           │\n",
       "╞═════════════╪════════════╪═══════╪════════════╪═══╪════════════╪════════╪════════════╪═══════════╡\n",
       "│ UPPER WEST  ┆ R4-CONDOMI ┆ 1     ┆ 1991.0     ┆ … ┆ 26000      ┆ 184000 ┆ 194.71     ┆ Manhattan │\n",
       "│ SIDE        ┆ NIUM       ┆       ┆            ┆   ┆            ┆        ┆            ┆           │\n",
       "│ (59-79)     ┆            ┆       ┆            ┆   ┆            ┆        ┆            ┆           │\n",
       "│ FLUSHING-NO ┆ R4-CONDOMI ┆ 1     ┆ 1967.0     ┆ … ┆ 8912       ┆ 59000  ┆ 54.88      ┆ Queens    │\n",
       "│ RTH         ┆ NIUM       ┆       ┆            ┆   ┆            ┆        ┆            ┆           │\n",
       "│ SOHO        ┆ R2-CONDOMI ┆ 1     ┆ 1941.0     ┆ … ┆ 40171      ┆ 303000 ┆ 261.66     ┆ Manhattan │\n",
       "│             ┆ NIUM       ┆       ┆            ┆   ┆            ┆        ┆            ┆           │\n",
       "│ FLATIRON    ┆ R4-CONDOMI ┆ 1     ┆ 1920.0     ┆ … ┆ 47250      ┆ 328000 ┆ 182.22     ┆ Manhattan │\n",
       "│             ┆ NIUM       ┆       ┆            ┆   ┆            ┆        ┆            ┆           │\n",
       "│ ALPHABET    ┆ R4-CONDOMI ┆ 1     ┆ 1920.0     ┆ … ┆ 41098      ┆ 306000 ┆ 153.31     ┆ Manhattan │\n",
       "│ CITY        ┆ NIUM       ┆       ┆            ┆   ┆            ┆        ┆            ┆           │\n",
       "└─────────────┴────────────┴───────┴────────────┴───┴────────────┴────────┴────────────┴───────────┘"
      ]
     },
     "metadata": {},
     "output_type": "display_data"
    },
    {
     "data": {
      "text/plain": [
       "['neighborhood',\n",
       " 'type',\n",
       " 'units',\n",
       " 'year_built',\n",
       " 'sq_ft',\n",
       " 'income',\n",
       " 'income_per_sq_ft',\n",
       " 'expense',\n",
       " 'expense_per_sq_ft',\n",
       " 'net_income',\n",
       " 'value',\n",
       " 'value_per_sq_ft',\n",
       " 'boro']"
      ]
     },
     "metadata": {},
     "output_type": "display_data"
    }
   ],
   "source": [
    "import polars as pl\n",
    "\n",
    "housing = pl.read_csv(\"../data/housing_renamed.csv\")\n",
    "# ダミー変数の調整用にソートする\n",
    "housing = housing.sort(by = [\"units\", \"sq_ft\", \"boro\"])\n",
    "display(housing.head())\n",
    "display(housing.columns)"
   ]
  },
  {
   "cell_type": "markdown",
   "metadata": {},
   "source": [
    "### 訓練データと検証データに分割する"
   ]
  },
  {
   "cell_type": "code",
   "execution_count": 11,
   "metadata": {},
   "outputs": [],
   "source": [
    "from sklearn.model_selection import KFold, cross_val_score\n",
    "from patsy import dmatrices\n",
    "\n",
    "# 分割数の設定\n",
    "kf = KFold(n_splits = 5)\n",
    "\n",
    "# 分割用の行列の初期化\n",
    "y, X = dmatrices(\"value_per_sq_ft ~ units + sq_ft + boro\", housing)"
   ]
  },
  {
   "cell_type": "markdown",
   "metadata": {},
   "source": [
    "### 学習する"
   ]
  },
  {
   "cell_type": "code",
   "execution_count": 12,
   "metadata": {},
   "outputs": [],
   "source": [
    "from sklearn.linear_model import LinearRegression\n",
    "\n",
    "coefs = []\n",
    "scores = []\n",
    "for train, eval in kf.split(X):\n",
    "    X_train, X_eval = X[train], X[eval]\n",
    "    y_train, y_eval = y[train], y[eval]\n",
    "    lr = LinearRegression().fit(X_train, y_train)\n",
    "    coefs.append(pl.DataFrame(lr.coef_))\n",
    "    scores.append(lr.score(X_eval, y_eval))"
   ]
  },
  {
   "cell_type": "markdown",
   "metadata": {},
   "source": [
    "### 学習結果を確認する"
   ]
  },
  {
   "cell_type": "code",
   "execution_count": 13,
   "metadata": {},
   "outputs": [
    {
     "data": {
      "text/html": [
       "<div><style>\n",
       ".dataframe > thead > tr,\n",
       ".dataframe > tbody > tr {\n",
       "  text-align: right;\n",
       "  white-space: pre-wrap;\n",
       "}\n",
       "</style>\n",
       "<small>shape: (5, 7)</small><table border=\"1\" class=\"dataframe\"><thead><tr><th>Intercept</th><th>boro[T.Brooklyn]</th><th>boro[T.Manhattan]</th><th>boro[T.Queens]</th><th>boro[T.Staten Island]</th><th>units</th><th>sq_ft</th></tr><tr><td>f64</td><td>f64</td><td>f64</td><td>f64</td><td>f64</td><td>f64</td><td>f64</td></tr></thead><tbody><tr><td>0.0</td><td>35.314215</td><td>133.885329</td><td>32.587985</td><td>-2.528174</td><td>-0.180871</td><td>0.0002</td></tr><tr><td>0.0</td><td>36.549522</td><td>133.770284</td><td>33.932723</td><td>-1.5758</td><td>-0.184037</td><td>0.000206</td></tr><tr><td>0.0</td><td>36.018835</td><td>134.952098</td><td>31.043325</td><td>-2.474525</td><td>-0.171061</td><td>0.000191</td></tr><tr><td>0.0</td><td>33.87511</td><td>130.337231</td><td>35.58652</td><td>-3.960741</td><td>-0.168459</td><td>0.000191</td></tr><tr><td>0.0</td><td>30.352287</td><td>119.734957</td><td>32.794791</td><td>-7.41829</td><td>-0.433453</td><td>0.000435</td></tr></tbody></table></div>"
      ],
      "text/plain": [
       "shape: (5, 7)\n",
       "┌───────────┬───────────────┬───────────────┬───────────────┬───────────────┬───────────┬──────────┐\n",
       "│ Intercept ┆ boro[T.Brookl ┆ boro[T.Manhat ┆ boro[T.Queens ┆ boro[T.Staten ┆ units     ┆ sq_ft    │\n",
       "│ ---       ┆ yn]           ┆ tan]          ┆ ]             ┆ Island]       ┆ ---       ┆ ---      │\n",
       "│ f64       ┆ ---           ┆ ---           ┆ ---           ┆ ---           ┆ f64       ┆ f64      │\n",
       "│           ┆ f64           ┆ f64           ┆ f64           ┆ f64           ┆           ┆          │\n",
       "╞═══════════╪═══════════════╪═══════════════╪═══════════════╪═══════════════╪═══════════╪══════════╡\n",
       "│ 0.0       ┆ 35.314215     ┆ 133.885329    ┆ 32.587985     ┆ -2.528174     ┆ -0.180871 ┆ 0.0002   │\n",
       "│ 0.0       ┆ 36.549522     ┆ 133.770284    ┆ 33.932723     ┆ -1.5758       ┆ -0.184037 ┆ 0.000206 │\n",
       "│ 0.0       ┆ 36.018835     ┆ 134.952098    ┆ 31.043325     ┆ -2.474525     ┆ -0.171061 ┆ 0.000191 │\n",
       "│ 0.0       ┆ 33.87511      ┆ 130.337231    ┆ 35.58652      ┆ -3.960741     ┆ -0.168459 ┆ 0.000191 │\n",
       "│ 0.0       ┆ 30.352287     ┆ 119.734957    ┆ 32.794791     ┆ -7.41829      ┆ -0.433453 ┆ 0.000435 │\n",
       "└───────────┴───────────────┴───────────────┴───────────────┴───────────────┴───────────┴──────────┘"
      ]
     },
     "metadata": {},
     "output_type": "display_data"
    },
    {
     "data": {
      "text/plain": [
       "[0.5536214314317605,\n",
       " 0.6095985679095276,\n",
       " 0.49865235670438945,\n",
       " 0.58304423894473,\n",
       " 0.4529896844633885]"
      ]
     },
     "metadata": {},
     "output_type": "display_data"
    }
   ],
   "source": [
    "# 係数\n",
    "coefs_df = pl.concat(items = coefs)\n",
    "coefs_df.columns = X.design_info.column_names\n",
    "display(coefs_df)\n",
    "\n",
    "# 評価関数\n",
    "display(scores)"
   ]
  },
  {
   "cell_type": "markdown",
   "metadata": {},
   "source": [
    "### 交差検証のスコアを計算する短いコード"
   ]
  },
  {
   "cell_type": "code",
   "execution_count": 14,
   "metadata": {},
   "outputs": [
    {
     "data": {
      "text/plain": [
       "array([0.55362143, 0.60959857, 0.49865236, 0.58304424, 0.45298968])"
      ]
     },
     "metadata": {},
     "output_type": "display_data"
    }
   ],
   "source": [
    "model = LinearRegression()\n",
    "scores = cross_val_score(model, X, y, cv = 5)\n",
    "display(scores)"
   ]
  },
  {
   "cell_type": "markdown",
   "metadata": {},
   "source": [
    "### モデル別のスコアを比較する"
   ]
  },
  {
   "cell_type": "code",
   "execution_count": 24,
   "metadata": {},
   "outputs": [
    {
     "data": {
      "text/html": [
       "<div><style>\n",
       ".dataframe > thead > tr,\n",
       ".dataframe > tbody > tr {\n",
       "  text-align: right;\n",
       "  white-space: pre-wrap;\n",
       "}\n",
       "</style>\n",
       "<small>shape: (5,)</small><table border=\"1\" class=\"dataframe\"><thead><tr><th>Scores</th></tr><tr><td>f64</td></tr></thead><tbody><tr><td>0.539581</td></tr><tr><td>-11.104634</td></tr><tr><td>0.412657</td></tr><tr><td>0.418591</td></tr><tr><td>0.546768</td></tr></tbody></table></div>"
      ],
      "text/plain": [
       "shape: (5,)\n",
       "Series: 'Scores' [f64]\n",
       "[\n",
       "\t0.539581\n",
       "\t-11.104634\n",
       "\t0.412657\n",
       "\t0.418591\n",
       "\t0.546768\n",
       "]"
      ]
     },
     "metadata": {},
     "output_type": "display_data"
    }
   ],
   "source": [
    "# リンク関数\n",
    "f1 = \"value_per_sq_ft ~ units + sq_ft + boro\"\n",
    "f2 = \"value_per_sq_ft ~ units * sq_ft + boro\"\n",
    "f3 = \"value_per_sq_ft ~ units + sq_ft * boro + type\"\n",
    "f4 = \"value_per_sq_ft ~ units + sq_ft * boro + sq_ft * type\"\n",
    "f5 = \"value_per_sq_ft ~ boro + type\"\n",
    "\n",
    "# 学習用の行列\n",
    "y1, X1 = dmatrices(f1, housing)\n",
    "y2, X2 = dmatrices(f2, housing)\n",
    "y3, X3 = dmatrices(f3, housing)\n",
    "y4, X4 = dmatrices(f4, housing)\n",
    "y5, X5 = dmatrices(f5, housing)\n",
    "\n",
    "# 交差検証のスコア\n",
    "model = LinearRegression()\n",
    "scores1 = cross_val_score(model, X1, y1, cv = 5)\n",
    "scores2 = cross_val_score(model, X2, y2, cv = 5)\n",
    "scores3 = cross_val_score(model, X3, y3, cv = 5)\n",
    "scores4 = cross_val_score(model, X4, y4, cv = 5)\n",
    "scores5 = cross_val_score(model, X5, y5, cv = 5)\n",
    "\n",
    "# モデル毎のスコアの平均値\n",
    "import statistics\n",
    "scores_series = (\n",
    "    pl\n",
    "    .Series(\"Scores\", [scores1, scores2, scores3, scores4, scores5])\n",
    "    .map_elements(lambda x: statistics.mean(x))\n",
    ")\n",
    "display(scores_series)"
   ]
  }
 ],
 "metadata": {
  "kernelspec": {
   "display_name": "Python 3",
   "language": "python",
   "name": "python3"
  },
  "language_info": {
   "codemirror_mode": {
    "name": "ipython",
    "version": 3
   },
   "file_extension": ".py",
   "mimetype": "text/x-python",
   "name": "python",
   "nbconvert_exporter": "python",
   "pygments_lexer": "ipython3",
   "version": "3.11.4"
  }
 },
 "nbformat": 4,
 "nbformat_minor": 2
}
