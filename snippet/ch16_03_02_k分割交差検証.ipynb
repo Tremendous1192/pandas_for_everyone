{
 "cells": [
  {
   "cell_type": "markdown",
   "metadata": {},
   "source": [
    "## ホ16.3 k分割交差検証の前半"
   ]
  },
  {
   "cell_type": "markdown",
   "metadata": {},
   "source": [
    "### データを読み込む"
   ]
  },
  {
   "cell_type": "code",
   "execution_count": null,
   "metadata": {},
   "outputs": [],
   "source": [
    "import polars as pl\n",
    "\n",
    "housing = pl.read_csv(\"../data/housing_renamed.csv\")\n",
    "# ダミー変数の調整用にソートする\n",
    "housing = housing.sort(by = [\"units\", \"sq_ft\", \"boro\"])\n",
    "display(housing.head())\n",
    "display(housing.columns)"
   ]
  },
  {
   "cell_type": "markdown",
   "metadata": {},
   "source": [
    "### 訓練データと検証データに分割する"
   ]
  },
  {
   "cell_type": "code",
   "execution_count": null,
   "metadata": {},
   "outputs": [],
   "source": [
    "from sklearn.model_selection import KFold, cross_val_score\n",
    "from patsy import dmatrices\n",
    "\n",
    "# 分割数の設定\n",
    "kf = KFold(n_splits = 5)\n",
    "\n",
    "# 分割用の行列の初期化\n",
    "y, X = dmatrices(\"value_per_sq_ft ~ units + sq_ft + boro\", housing)"
   ]
  },
  {
   "cell_type": "markdown",
   "metadata": {},
   "source": [
    "### 学習する"
   ]
  },
  {
   "cell_type": "code",
   "execution_count": null,
   "metadata": {},
   "outputs": [],
   "source": [
    "from sklearn.linear_model import LinearRegression\n",
    "\n",
    "coefs = []\n",
    "scores = []\n",
    "for train, eval in kf.split(X):\n",
    "    X_train, X_eval = X[train], X[eval]\n",
    "    y_train, y_eval = y[train], y[eval]\n",
    "    lr = LinearRegression().fit(X_train, y_train)\n",
    "    coefs.append(pl.DataFrame(lr.coef_))\n",
    "    scores.append(lr.score(X_eval, y_eval))"
   ]
  },
  {
   "cell_type": "markdown",
   "metadata": {},
   "source": [
    "### 学習結果を確認する"
   ]
  },
  {
   "cell_type": "code",
   "execution_count": null,
   "metadata": {},
   "outputs": [],
   "source": [
    "# 係数\n",
    "coefs_df = pl.concat(items = coefs)\n",
    "coefs_df.columns = X.design_info.column_names\n",
    "display(coefs_df)\n",
    "\n",
    "# 評価関数\n",
    "display(scores)"
   ]
  },
  {
   "cell_type": "markdown",
   "metadata": {},
   "source": [
    "### 交差検証のスコアを計算する短いコード"
   ]
  },
  {
   "cell_type": "code",
   "execution_count": null,
   "metadata": {},
   "outputs": [],
   "source": [
    "model = LinearRegression()\n",
    "scores = cross_val_score(model, X, y, cv = 5)\n",
    "display(scores)"
   ]
  },
  {
   "cell_type": "markdown",
   "metadata": {},
   "source": [
    "### モデル別のスコアを比較する"
   ]
  },
  {
   "cell_type": "code",
   "execution_count": null,
   "metadata": {},
   "outputs": [],
   "source": [
    "# リンク関数\n",
    "f1 = \"value_per_sq_ft ~ units + sq_ft + boro\"\n",
    "f2 = \"value_per_sq_ft ~ units * sq_ft + boro\"\n",
    "f3 = \"value_per_sq_ft ~ units + sq_ft * boro + type\"\n",
    "f4 = \"value_per_sq_ft ~ units + sq_ft * boro + sq_ft * type\"\n",
    "f5 = \"value_per_sq_ft ~ boro + type\"\n",
    "\n",
    "# 学習用の行列\n",
    "y1, X1 = dmatrices(f1, housing)\n",
    "y2, X2 = dmatrices(f2, housing)\n",
    "y3, X3 = dmatrices(f3, housing)\n",
    "y4, X4 = dmatrices(f4, housing)\n",
    "y5, X5 = dmatrices(f5, housing)\n",
    "\n",
    "# 交差検証のスコア\n",
    "model = LinearRegression()\n",
    "scores1 = cross_val_score(model, X1, y1, cv = 5)\n",
    "scores2 = cross_val_score(model, X2, y2, cv = 5)\n",
    "scores3 = cross_val_score(model, X3, y3, cv = 5)\n",
    "scores4 = cross_val_score(model, X4, y4, cv = 5)\n",
    "scores5 = cross_val_score(model, X5, y5, cv = 5)\n",
    "\n",
    "# モデル毎のスコアの平均値\n",
    "import statistics\n",
    "scores_series = (\n",
    "    pl\n",
    "    .Series(\"Scores\", [scores1, scores2, scores3, scores4, scores5])\n",
    "    .map_elements(lambda x: statistics.mean(x))\n",
    ")\n",
    "display(scores_series)"
   ]
  }
 ],
 "metadata": {
  "kernelspec": {
   "display_name": "Python 3",
   "language": "python",
   "name": "python3"
  },
  "language_info": {
   "codemirror_mode": {
    "name": "ipython",
    "version": 3
   },
   "file_extension": ".py",
   "mimetype": "text/x-python",
   "name": "python",
   "nbconvert_exporter": "python",
   "pygments_lexer": "ipython3",
   "version": "3.11.4"
  }
 },
 "nbformat": 4,
 "nbformat_minor": 2
}
