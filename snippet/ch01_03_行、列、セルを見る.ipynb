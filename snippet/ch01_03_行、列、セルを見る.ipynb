{
 "cells": [
  {
   "cell_type": "markdown",
   "metadata": {},
   "source": [
    "## 1.3 行、列、セルを見る\n",
    "```polars```は括弧```[]```を用いて```pandas```よりも柔軟に行、列を抽出できる。"
   ]
  },
  {
   "cell_type": "code",
   "execution_count": null,
   "metadata": {},
   "outputs": [],
   "source": [
    "import polars as pl"
   ]
  },
  {
   "cell_type": "markdown",
   "metadata": {},
   "source": [
    "### データを読み込む"
   ]
  },
  {
   "cell_type": "code",
   "execution_count": null,
   "metadata": {},
   "outputs": [],
   "source": [
    "gapminder = pl.read_csv(\"../data/gapminder.tsv\", separator = \"\\t\")\n",
    "gapminder.head()"
   ]
  },
  {
   "cell_type": "code",
   "execution_count": null,
   "metadata": {},
   "outputs": [],
   "source": [
    "# 最後の数行を表示する\n",
    "gapminder.tail(n = 3)"
   ]
  },
  {
   "cell_type": "markdown",
   "metadata": {},
   "source": [
    "### 1.3.1 列を絞り込む"
   ]
  },
  {
   "cell_type": "code",
   "execution_count": null,
   "metadata": {},
   "outputs": [],
   "source": [
    "# 列名で絞り込む\n",
    "gapminder[\"country\"].head(n = 3)"
   ]
  },
  {
   "cell_type": "code",
   "execution_count": null,
   "metadata": {},
   "outputs": [],
   "source": [
    "# 複数の列名で絞り込む\n",
    "gapminder[[\"country\", \"continent\", \"year\"]].head(n = 3)"
   ]
  },
  {
   "cell_type": "code",
   "execution_count": null,
   "metadata": {},
   "outputs": [],
   "source": [
    "# 括弧1組で絞り込むとSeriesになる\n",
    "type(gapminder[\"country\"])"
   ]
  },
  {
   "cell_type": "code",
   "execution_count": null,
   "metadata": {},
   "outputs": [],
   "source": [
    "# 括弧2組で絞り込むとDataFrameになる\n",
    "type(gapminder[[\"country\"]])"
   ]
  },
  {
   "cell_type": "markdown",
   "metadata": {},
   "source": [
    "### 1.3.2 行を抽出する\n",
    "行番号を指定することで行を抽出できる"
   ]
  },
  {
   "cell_type": "code",
   "execution_count": null,
   "metadata": {},
   "outputs": [],
   "source": [
    "# 行番号 0 の行を抽出する\n",
    "gapminder[0]"
   ]
  },
  {
   "cell_type": "code",
   "execution_count": null,
   "metadata": {},
   "outputs": [],
   "source": [
    "# 行番号 0 の行\n",
    "gapminder.head(n = 1)"
   ]
  },
  {
   "cell_type": "code",
   "execution_count": null,
   "metadata": {},
   "outputs": [],
   "source": [
    "# 行番号 99 の行\n",
    "gapminder[99]"
   ]
  },
  {
   "cell_type": "code",
   "execution_count": null,
   "metadata": {},
   "outputs": [],
   "source": [
    "# 行番号 -1 の行(最後の行)\n",
    "gapminder[-1]"
   ]
  },
  {
   "cell_type": "code",
   "execution_count": null,
   "metadata": {},
   "outputs": [],
   "source": [
    "# 最後の行\n",
    "gapminder[len(gapminder) - 1]\n"
   ]
  },
  {
   "cell_type": "code",
   "execution_count": null,
   "metadata": {},
   "outputs": [],
   "source": [
    "# 最後の行\n",
    "gapminder.tail(n = 1)"
   ]
  },
  {
   "cell_type": "code",
   "execution_count": null,
   "metadata": {},
   "outputs": [],
   "source": [
    "# 括弧とメソッドで抽出した行のデータ型\n",
    "# polarsだとどちらもDataFrameを返す\n",
    "print(type(gapminder[len(gapminder) - 1]))\n",
    "print(type(gapminder.tail(n = 1)))"
   ]
  },
  {
   "cell_type": "markdown",
   "metadata": {},
   "source": [
    "### 行番号のリストや範囲を用いて行や列を抽出する"
   ]
  },
  {
   "cell_type": "code",
   "execution_count": null,
   "metadata": {},
   "outputs": [],
   "source": [
    "# 行番号 0、99, 999の行\n",
    "gapminder[[0, 99, 999]]"
   ]
  },
  {
   "cell_type": "code",
   "execution_count": null,
   "metadata": {},
   "outputs": [],
   "source": [
    "# year列とpop列のすべての行\n",
    "gapminder[:, [\"year\", \"pop\"]]"
   ]
  },
  {
   "cell_type": "code",
   "execution_count": null,
   "metadata": {},
   "outputs": [],
   "source": [
    "# 列番号 2, 4, -1(最後の列)のすべての行\n",
    "gapminder[:, [2, 4, -1]]"
   ]
  },
  {
   "cell_type": "code",
   "execution_count": null,
   "metadata": {},
   "outputs": [],
   "source": [
    "# 列番号 0 から 4 までのすべての行\n",
    "gapminder[:, list(range(5))]"
   ]
  },
  {
   "cell_type": "code",
   "execution_count": null,
   "metadata": {},
   "outputs": [],
   "source": [
    "# 列番号 0 から 5 まで 1列飛ばしの列における、すべての行\n",
    "gapminder[:, list(range(0, 6, 2))]"
   ]
  },
  {
   "cell_type": "code",
   "execution_count": null,
   "metadata": {},
   "outputs": [],
   "source": [
    "# country列の行番号 42の要素\n",
    "gapminder[42, \"country\"]"
   ]
  },
  {
   "cell_type": "code",
   "execution_count": null,
   "metadata": {},
   "outputs": [],
   "source": [
    "# country列の行番号 42の要素のデータ型\n",
    "type(gapminder[42, \"country\"])"
   ]
  },
  {
   "cell_type": "code",
   "execution_count": null,
   "metadata": {},
   "outputs": [],
   "source": [
    "# 列番号 0、行番号 42の要素\n",
    "gapminder[42, 0]"
   ]
  },
  {
   "cell_type": "code",
   "execution_count": null,
   "metadata": {},
   "outputs": [],
   "source": [
    "# 列番号 0, 3, 5の列の行番号 0, 99, 999の要素\n",
    "gapminder[[0, 99, 999], [0, 3, 5]]"
   ]
  },
  {
   "cell_type": "code",
   "execution_count": null,
   "metadata": {},
   "outputs": [],
   "source": [
    "# 列番号 0, 3, 5の列の行番号 0, 99, 999の要素のデータ型\n",
    "type(gapminder[[0, 99, 999], [0, 3, 5]])"
   ]
  },
  {
   "cell_type": "code",
   "execution_count": null,
   "metadata": {},
   "outputs": [],
   "source": [
    "# country, lifeExp, gdpPercap列の行番号 0, 99, 999の要素\n",
    "gapminder[[0, 99, 999], [\"country\", \"lifeExp\", \"gdpPercap\"]]"
   ]
  }
 ],
 "metadata": {
  "kernelspec": {
   "display_name": "Python 3",
   "language": "python",
   "name": "python3"
  },
  "language_info": {
   "codemirror_mode": {
    "name": "ipython",
    "version": 3
   },
   "file_extension": ".py",
   "mimetype": "text/x-python",
   "name": "python",
   "nbconvert_exporter": "python",
   "pygments_lexer": "ipython3",
   "version": "3.11.4"
  }
 },
 "nbformat": 4,
 "nbformat_minor": 2
}
