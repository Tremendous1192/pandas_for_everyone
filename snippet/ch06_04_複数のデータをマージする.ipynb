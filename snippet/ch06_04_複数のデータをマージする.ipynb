{
 "cells": [
  {
   "cell_type": "markdown",
   "metadata": {},
   "source": [
    "## 6.4 複数のデータセットをマージする"
   ]
  },
  {
   "cell_type": "code",
   "execution_count": 9,
   "metadata": {},
   "outputs": [
    {
     "data": {
      "text/plain": [
       "polars.config.Config"
      ]
     },
     "execution_count": 9,
     "metadata": {},
     "output_type": "execute_result"
    }
   ],
   "source": [
    "import polars as pl\n",
    "pl.Config.set_tbl_cols(-1)# 列が省略されないようにする"
   ]
  },
  {
   "cell_type": "markdown",
   "metadata": {},
   "source": [
    "### データを読み込む"
   ]
  },
  {
   "cell_type": "code",
   "execution_count": 10,
   "metadata": {},
   "outputs": [
    {
     "data": {
      "text/html": [
       "<div><style>\n",
       ".dataframe > thead > tr,\n",
       ".dataframe > tbody > tr {\n",
       "  text-align: right;\n",
       "  white-space: pre-wrap;\n",
       "}\n",
       "</style>\n",
       "<small>shape: (5, 3)</small><table border=\"1\" class=\"dataframe\"><thead><tr><th>ident</th><th>personal</th><th>family</th></tr><tr><td>str</td><td>str</td><td>str</td></tr></thead><tbody><tr><td>&quot;dyer&quot;</td><td>&quot;William&quot;</td><td>&quot;Dyer&quot;</td></tr><tr><td>&quot;pb&quot;</td><td>&quot;Frank&quot;</td><td>&quot;Pabodie&quot;</td></tr><tr><td>&quot;lake&quot;</td><td>&quot;Anderson&quot;</td><td>&quot;Lake&quot;</td></tr><tr><td>&quot;roe&quot;</td><td>&quot;Valentina&quot;</td><td>&quot;Roerich&quot;</td></tr><tr><td>&quot;danforth&quot;</td><td>&quot;Frank&quot;</td><td>&quot;Danforth&quot;</td></tr></tbody></table></div>"
      ],
      "text/plain": [
       "shape: (5, 3)\n",
       "┌──────────┬───────────┬──────────┐\n",
       "│ ident    ┆ personal  ┆ family   │\n",
       "│ ---      ┆ ---       ┆ ---      │\n",
       "│ str      ┆ str       ┆ str      │\n",
       "╞══════════╪═══════════╪══════════╡\n",
       "│ dyer     ┆ William   ┆ Dyer     │\n",
       "│ pb       ┆ Frank     ┆ Pabodie  │\n",
       "│ lake     ┆ Anderson  ┆ Lake     │\n",
       "│ roe      ┆ Valentina ┆ Roerich  │\n",
       "│ danforth ┆ Frank     ┆ Danforth │\n",
       "└──────────┴───────────┴──────────┘"
      ]
     },
     "metadata": {},
     "output_type": "display_data"
    },
    {
     "data": {
      "text/html": [
       "<div><style>\n",
       ".dataframe > thead > tr,\n",
       ".dataframe > tbody > tr {\n",
       "  text-align: right;\n",
       "  white-space: pre-wrap;\n",
       "}\n",
       "</style>\n",
       "<small>shape: (3, 3)</small><table border=\"1\" class=\"dataframe\"><thead><tr><th>name</th><th>lat</th><th>long</th></tr><tr><td>str</td><td>f64</td><td>f64</td></tr></thead><tbody><tr><td>&quot;DR-1&quot;</td><td>-49.85</td><td>-128.57</td></tr><tr><td>&quot;DR-3&quot;</td><td>-47.15</td><td>-126.72</td></tr><tr><td>&quot;MSK-4&quot;</td><td>-48.87</td><td>-123.4</td></tr></tbody></table></div>"
      ],
      "text/plain": [
       "shape: (3, 3)\n",
       "┌───────┬────────┬─────────┐\n",
       "│ name  ┆ lat    ┆ long    │\n",
       "│ ---   ┆ ---    ┆ ---     │\n",
       "│ str   ┆ f64    ┆ f64     │\n",
       "╞═══════╪════════╪═════════╡\n",
       "│ DR-1  ┆ -49.85 ┆ -128.57 │\n",
       "│ DR-3  ┆ -47.15 ┆ -126.72 │\n",
       "│ MSK-4 ┆ -48.87 ┆ -123.4  │\n",
       "└───────┴────────┴─────────┘"
      ]
     },
     "metadata": {},
     "output_type": "display_data"
    },
    {
     "data": {
      "text/html": [
       "<div><style>\n",
       ".dataframe > thead > tr,\n",
       ".dataframe > tbody > tr {\n",
       "  text-align: right;\n",
       "  white-space: pre-wrap;\n",
       "}\n",
       "</style>\n",
       "<small>shape: (21, 4)</small><table border=\"1\" class=\"dataframe\"><thead><tr><th>taken</th><th>person</th><th>quant</th><th>reading</th></tr><tr><td>i64</td><td>str</td><td>str</td><td>f64</td></tr></thead><tbody><tr><td>619</td><td>&quot;dyer&quot;</td><td>&quot;rad&quot;</td><td>9.82</td></tr><tr><td>619</td><td>&quot;dyer&quot;</td><td>&quot;sal&quot;</td><td>0.13</td></tr><tr><td>622</td><td>&quot;dyer&quot;</td><td>&quot;rad&quot;</td><td>7.8</td></tr><tr><td>622</td><td>&quot;dyer&quot;</td><td>&quot;sal&quot;</td><td>0.09</td></tr><tr><td>734</td><td>&quot;pb&quot;</td><td>&quot;rad&quot;</td><td>8.41</td></tr><tr><td>734</td><td>&quot;lake&quot;</td><td>&quot;sal&quot;</td><td>0.05</td></tr><tr><td>734</td><td>&quot;pb&quot;</td><td>&quot;temp&quot;</td><td>-21.5</td></tr><tr><td>735</td><td>&quot;pb&quot;</td><td>&quot;rad&quot;</td><td>7.22</td></tr><tr><td>735</td><td>null</td><td>&quot;sal&quot;</td><td>0.06</td></tr><tr><td>735</td><td>null</td><td>&quot;temp&quot;</td><td>-26.0</td></tr><tr><td>751</td><td>&quot;pb&quot;</td><td>&quot;rad&quot;</td><td>4.35</td></tr><tr><td>751</td><td>&quot;pb&quot;</td><td>&quot;temp&quot;</td><td>-18.5</td></tr><tr><td>751</td><td>&quot;lake&quot;</td><td>&quot;sal&quot;</td><td>0.1</td></tr><tr><td>752</td><td>&quot;lake&quot;</td><td>&quot;rad&quot;</td><td>2.19</td></tr><tr><td>752</td><td>&quot;lake&quot;</td><td>&quot;sal&quot;</td><td>0.09</td></tr><tr><td>752</td><td>&quot;lake&quot;</td><td>&quot;temp&quot;</td><td>-16.0</td></tr><tr><td>752</td><td>&quot;roe&quot;</td><td>&quot;sal&quot;</td><td>41.6</td></tr><tr><td>837</td><td>&quot;lake&quot;</td><td>&quot;rad&quot;</td><td>1.46</td></tr><tr><td>837</td><td>&quot;lake&quot;</td><td>&quot;sal&quot;</td><td>0.21</td></tr><tr><td>837</td><td>&quot;roe&quot;</td><td>&quot;sal&quot;</td><td>22.5</td></tr><tr><td>844</td><td>&quot;roe&quot;</td><td>&quot;rad&quot;</td><td>11.25</td></tr></tbody></table></div>"
      ],
      "text/plain": [
       "shape: (21, 4)\n",
       "┌───────┬────────┬───────┬─────────┐\n",
       "│ taken ┆ person ┆ quant ┆ reading │\n",
       "│ ---   ┆ ---    ┆ ---   ┆ ---     │\n",
       "│ i64   ┆ str    ┆ str   ┆ f64     │\n",
       "╞═══════╪════════╪═══════╪═════════╡\n",
       "│ 619   ┆ dyer   ┆ rad   ┆ 9.82    │\n",
       "│ 619   ┆ dyer   ┆ sal   ┆ 0.13    │\n",
       "│ 622   ┆ dyer   ┆ rad   ┆ 7.8     │\n",
       "│ 622   ┆ dyer   ┆ sal   ┆ 0.09    │\n",
       "│ …     ┆ …      ┆ …     ┆ …       │\n",
       "│ 837   ┆ lake   ┆ rad   ┆ 1.46    │\n",
       "│ 837   ┆ lake   ┆ sal   ┆ 0.21    │\n",
       "│ 837   ┆ roe    ┆ sal   ┆ 22.5    │\n",
       "│ 844   ┆ roe    ┆ rad   ┆ 11.25   │\n",
       "└───────┴────────┴───────┴─────────┘"
      ]
     },
     "metadata": {},
     "output_type": "display_data"
    },
    {
     "data": {
      "text/html": [
       "<div><style>\n",
       ".dataframe > thead > tr,\n",
       ".dataframe > tbody > tr {\n",
       "  text-align: right;\n",
       "  white-space: pre-wrap;\n",
       "}\n",
       "</style>\n",
       "<small>shape: (8, 3)</small><table border=\"1\" class=\"dataframe\"><thead><tr><th>ident</th><th>site</th><th>dated</th></tr><tr><td>i64</td><td>str</td><td>str</td></tr></thead><tbody><tr><td>619</td><td>&quot;DR-1&quot;</td><td>&quot;1927-02-08&quot;</td></tr><tr><td>622</td><td>&quot;DR-1&quot;</td><td>&quot;1927-02-10&quot;</td></tr><tr><td>734</td><td>&quot;DR-3&quot;</td><td>&quot;1939-01-07&quot;</td></tr><tr><td>735</td><td>&quot;DR-3&quot;</td><td>&quot;1930-01-12&quot;</td></tr><tr><td>751</td><td>&quot;DR-3&quot;</td><td>&quot;1930-02-26&quot;</td></tr><tr><td>752</td><td>&quot;DR-3&quot;</td><td>null</td></tr><tr><td>837</td><td>&quot;MSK-4&quot;</td><td>&quot;1932-01-14&quot;</td></tr><tr><td>844</td><td>&quot;DR-1&quot;</td><td>&quot;1932-03-22&quot;</td></tr></tbody></table></div>"
      ],
      "text/plain": [
       "shape: (8, 3)\n",
       "┌───────┬───────┬────────────┐\n",
       "│ ident ┆ site  ┆ dated      │\n",
       "│ ---   ┆ ---   ┆ ---        │\n",
       "│ i64   ┆ str   ┆ str        │\n",
       "╞═══════╪═══════╪════════════╡\n",
       "│ 619   ┆ DR-1  ┆ 1927-02-08 │\n",
       "│ 622   ┆ DR-1  ┆ 1927-02-10 │\n",
       "│ 734   ┆ DR-3  ┆ 1939-01-07 │\n",
       "│ 735   ┆ DR-3  ┆ 1930-01-12 │\n",
       "│ 751   ┆ DR-3  ┆ 1930-02-26 │\n",
       "│ 752   ┆ DR-3  ┆ null       │\n",
       "│ 837   ┆ MSK-4 ┆ 1932-01-14 │\n",
       "│ 844   ┆ DR-1  ┆ 1932-03-22 │\n",
       "└───────┴───────┴────────────┘"
      ]
     },
     "metadata": {},
     "output_type": "display_data"
    }
   ],
   "source": [
    "person = pl.read_csv(\"../data/survey_person.csv\")\n",
    "site = pl.read_csv(\"../data/survey_site.csv\")\n",
    "survey = pl.read_csv(\"../data/survey_survey.csv\")\n",
    "visited = pl.read_csv(\"../data/survey_visited.csv\")\n",
    "\n",
    "display(person)\n",
    "display(site)\n",
    "display(survey)\n",
    "display(visited)"
   ]
  },
  {
   "cell_type": "markdown",
   "metadata": {},
   "source": [
    "### 多対1でマージする"
   ]
  },
  {
   "cell_type": "code",
   "execution_count": 11,
   "metadata": {},
   "outputs": [
    {
     "data": {
      "text/html": [
       "<div><style>\n",
       ".dataframe > thead > tr,\n",
       ".dataframe > tbody > tr {\n",
       "  text-align: right;\n",
       "  white-space: pre-wrap;\n",
       "}\n",
       "</style>\n",
       "<small>shape: (8, 5)</small><table border=\"1\" class=\"dataframe\"><thead><tr><th>name</th><th>lat</th><th>long</th><th>ident</th><th>dated</th></tr><tr><td>str</td><td>f64</td><td>f64</td><td>i64</td><td>str</td></tr></thead><tbody><tr><td>&quot;DR-1&quot;</td><td>-49.85</td><td>-128.57</td><td>619</td><td>&quot;1927-02-08&quot;</td></tr><tr><td>&quot;DR-1&quot;</td><td>-49.85</td><td>-128.57</td><td>622</td><td>&quot;1927-02-10&quot;</td></tr><tr><td>&quot;DR-3&quot;</td><td>-47.15</td><td>-126.72</td><td>734</td><td>&quot;1939-01-07&quot;</td></tr><tr><td>&quot;DR-3&quot;</td><td>-47.15</td><td>-126.72</td><td>735</td><td>&quot;1930-01-12&quot;</td></tr><tr><td>&quot;DR-3&quot;</td><td>-47.15</td><td>-126.72</td><td>751</td><td>&quot;1930-02-26&quot;</td></tr><tr><td>&quot;DR-3&quot;</td><td>-47.15</td><td>-126.72</td><td>752</td><td>null</td></tr><tr><td>&quot;MSK-4&quot;</td><td>-48.87</td><td>-123.4</td><td>837</td><td>&quot;1932-01-14&quot;</td></tr><tr><td>&quot;DR-1&quot;</td><td>-49.85</td><td>-128.57</td><td>844</td><td>&quot;1932-03-22&quot;</td></tr></tbody></table></div>"
      ],
      "text/plain": [
       "shape: (8, 5)\n",
       "┌───────┬────────┬─────────┬───────┬────────────┐\n",
       "│ name  ┆ lat    ┆ long    ┆ ident ┆ dated      │\n",
       "│ ---   ┆ ---    ┆ ---     ┆ ---   ┆ ---        │\n",
       "│ str   ┆ f64    ┆ f64     ┆ i64   ┆ str        │\n",
       "╞═══════╪════════╪═════════╪═══════╪════════════╡\n",
       "│ DR-1  ┆ -49.85 ┆ -128.57 ┆ 619   ┆ 1927-02-08 │\n",
       "│ DR-1  ┆ -49.85 ┆ -128.57 ┆ 622   ┆ 1927-02-10 │\n",
       "│ DR-3  ┆ -47.15 ┆ -126.72 ┆ 734   ┆ 1939-01-07 │\n",
       "│ DR-3  ┆ -47.15 ┆ -126.72 ┆ 735   ┆ 1930-01-12 │\n",
       "│ DR-3  ┆ -47.15 ┆ -126.72 ┆ 751   ┆ 1930-02-26 │\n",
       "│ DR-3  ┆ -47.15 ┆ -126.72 ┆ 752   ┆ null       │\n",
       "│ MSK-4 ┆ -48.87 ┆ -123.4  ┆ 837   ┆ 1932-01-14 │\n",
       "│ DR-1  ┆ -49.85 ┆ -128.57 ┆ 844   ┆ 1932-03-22 │\n",
       "└───────┴────────┴─────────┴───────┴────────────┘"
      ]
     },
     "execution_count": 11,
     "metadata": {},
     "output_type": "execute_result"
    }
   ],
   "source": [
    "# 列名が異なるDataFrameを結合する場合\n",
    "o2o_merge = site.join(other = visited, left_on = \"name\", right_on = \"site\")\n",
    "o2o_merge"
   ]
  },
  {
   "cell_type": "markdown",
   "metadata": {},
   "source": [
    "### 多対多でマージする"
   ]
  },
  {
   "cell_type": "code",
   "execution_count": 12,
   "metadata": {},
   "outputs": [
    {
     "data": {
      "text/html": [
       "<div><style>\n",
       ".dataframe > thead > tr,\n",
       ".dataframe > tbody > tr {\n",
       "  text-align: right;\n",
       "  white-space: pre-wrap;\n",
       "}\n",
       "</style>\n",
       "<small>shape: (19, 6)</small><table border=\"1\" class=\"dataframe\"><thead><tr><th>ident</th><th>personal</th><th>family</th><th>taken</th><th>quant</th><th>reading</th></tr><tr><td>str</td><td>str</td><td>str</td><td>i64</td><td>str</td><td>f64</td></tr></thead><tbody><tr><td>&quot;dyer&quot;</td><td>&quot;William&quot;</td><td>&quot;Dyer&quot;</td><td>619</td><td>&quot;rad&quot;</td><td>9.82</td></tr><tr><td>&quot;dyer&quot;</td><td>&quot;William&quot;</td><td>&quot;Dyer&quot;</td><td>619</td><td>&quot;sal&quot;</td><td>0.13</td></tr><tr><td>&quot;dyer&quot;</td><td>&quot;William&quot;</td><td>&quot;Dyer&quot;</td><td>622</td><td>&quot;rad&quot;</td><td>7.8</td></tr><tr><td>&quot;dyer&quot;</td><td>&quot;William&quot;</td><td>&quot;Dyer&quot;</td><td>622</td><td>&quot;sal&quot;</td><td>0.09</td></tr><tr><td>&quot;pb&quot;</td><td>&quot;Frank&quot;</td><td>&quot;Pabodie&quot;</td><td>734</td><td>&quot;rad&quot;</td><td>8.41</td></tr><tr><td>&quot;lake&quot;</td><td>&quot;Anderson&quot;</td><td>&quot;Lake&quot;</td><td>734</td><td>&quot;sal&quot;</td><td>0.05</td></tr><tr><td>&quot;pb&quot;</td><td>&quot;Frank&quot;</td><td>&quot;Pabodie&quot;</td><td>734</td><td>&quot;temp&quot;</td><td>-21.5</td></tr><tr><td>&quot;pb&quot;</td><td>&quot;Frank&quot;</td><td>&quot;Pabodie&quot;</td><td>735</td><td>&quot;rad&quot;</td><td>7.22</td></tr><tr><td>&quot;pb&quot;</td><td>&quot;Frank&quot;</td><td>&quot;Pabodie&quot;</td><td>751</td><td>&quot;rad&quot;</td><td>4.35</td></tr><tr><td>&quot;pb&quot;</td><td>&quot;Frank&quot;</td><td>&quot;Pabodie&quot;</td><td>751</td><td>&quot;temp&quot;</td><td>-18.5</td></tr><tr><td>&quot;lake&quot;</td><td>&quot;Anderson&quot;</td><td>&quot;Lake&quot;</td><td>751</td><td>&quot;sal&quot;</td><td>0.1</td></tr><tr><td>&quot;lake&quot;</td><td>&quot;Anderson&quot;</td><td>&quot;Lake&quot;</td><td>752</td><td>&quot;rad&quot;</td><td>2.19</td></tr><tr><td>&quot;lake&quot;</td><td>&quot;Anderson&quot;</td><td>&quot;Lake&quot;</td><td>752</td><td>&quot;sal&quot;</td><td>0.09</td></tr><tr><td>&quot;lake&quot;</td><td>&quot;Anderson&quot;</td><td>&quot;Lake&quot;</td><td>752</td><td>&quot;temp&quot;</td><td>-16.0</td></tr><tr><td>&quot;roe&quot;</td><td>&quot;Valentina&quot;</td><td>&quot;Roerich&quot;</td><td>752</td><td>&quot;sal&quot;</td><td>41.6</td></tr><tr><td>&quot;lake&quot;</td><td>&quot;Anderson&quot;</td><td>&quot;Lake&quot;</td><td>837</td><td>&quot;rad&quot;</td><td>1.46</td></tr><tr><td>&quot;lake&quot;</td><td>&quot;Anderson&quot;</td><td>&quot;Lake&quot;</td><td>837</td><td>&quot;sal&quot;</td><td>0.21</td></tr><tr><td>&quot;roe&quot;</td><td>&quot;Valentina&quot;</td><td>&quot;Roerich&quot;</td><td>837</td><td>&quot;sal&quot;</td><td>22.5</td></tr><tr><td>&quot;roe&quot;</td><td>&quot;Valentina&quot;</td><td>&quot;Roerich&quot;</td><td>844</td><td>&quot;rad&quot;</td><td>11.25</td></tr></tbody></table></div>"
      ],
      "text/plain": [
       "shape: (19, 6)\n",
       "┌───────┬───────────┬─────────┬───────┬───────┬─────────┐\n",
       "│ ident ┆ personal  ┆ family  ┆ taken ┆ quant ┆ reading │\n",
       "│ ---   ┆ ---       ┆ ---     ┆ ---   ┆ ---   ┆ ---     │\n",
       "│ str   ┆ str       ┆ str     ┆ i64   ┆ str   ┆ f64     │\n",
       "╞═══════╪═══════════╪═════════╪═══════╪═══════╪═════════╡\n",
       "│ dyer  ┆ William   ┆ Dyer    ┆ 619   ┆ rad   ┆ 9.82    │\n",
       "│ dyer  ┆ William   ┆ Dyer    ┆ 619   ┆ sal   ┆ 0.13    │\n",
       "│ dyer  ┆ William   ┆ Dyer    ┆ 622   ┆ rad   ┆ 7.8     │\n",
       "│ dyer  ┆ William   ┆ Dyer    ┆ 622   ┆ sal   ┆ 0.09    │\n",
       "│ …     ┆ …         ┆ …       ┆ …     ┆ …     ┆ …       │\n",
       "│ lake  ┆ Anderson  ┆ Lake    ┆ 837   ┆ rad   ┆ 1.46    │\n",
       "│ lake  ┆ Anderson  ┆ Lake    ┆ 837   ┆ sal   ┆ 0.21    │\n",
       "│ roe   ┆ Valentina ┆ Roerich ┆ 837   ┆ sal   ┆ 22.5    │\n",
       "│ roe   ┆ Valentina ┆ Roerich ┆ 844   ┆ rad   ┆ 11.25   │\n",
       "└───────┴───────────┴─────────┴───────┴───────┴─────────┘"
      ]
     },
     "metadata": {},
     "output_type": "display_data"
    },
    {
     "data": {
      "text/html": [
       "<div><style>\n",
       ".dataframe > thead > tr,\n",
       ".dataframe > tbody > tr {\n",
       "  text-align: right;\n",
       "  white-space: pre-wrap;\n",
       "}\n",
       "</style>\n",
       "<small>shape: (21, 6)</small><table border=\"1\" class=\"dataframe\"><thead><tr><th>ident</th><th>site</th><th>dated</th><th>person</th><th>quant</th><th>reading</th></tr><tr><td>i64</td><td>str</td><td>str</td><td>str</td><td>str</td><td>f64</td></tr></thead><tbody><tr><td>619</td><td>&quot;DR-1&quot;</td><td>&quot;1927-02-08&quot;</td><td>&quot;dyer&quot;</td><td>&quot;rad&quot;</td><td>9.82</td></tr><tr><td>619</td><td>&quot;DR-1&quot;</td><td>&quot;1927-02-08&quot;</td><td>&quot;dyer&quot;</td><td>&quot;sal&quot;</td><td>0.13</td></tr><tr><td>622</td><td>&quot;DR-1&quot;</td><td>&quot;1927-02-10&quot;</td><td>&quot;dyer&quot;</td><td>&quot;rad&quot;</td><td>7.8</td></tr><tr><td>622</td><td>&quot;DR-1&quot;</td><td>&quot;1927-02-10&quot;</td><td>&quot;dyer&quot;</td><td>&quot;sal&quot;</td><td>0.09</td></tr><tr><td>734</td><td>&quot;DR-3&quot;</td><td>&quot;1939-01-07&quot;</td><td>&quot;pb&quot;</td><td>&quot;rad&quot;</td><td>8.41</td></tr><tr><td>734</td><td>&quot;DR-3&quot;</td><td>&quot;1939-01-07&quot;</td><td>&quot;lake&quot;</td><td>&quot;sal&quot;</td><td>0.05</td></tr><tr><td>734</td><td>&quot;DR-3&quot;</td><td>&quot;1939-01-07&quot;</td><td>&quot;pb&quot;</td><td>&quot;temp&quot;</td><td>-21.5</td></tr><tr><td>735</td><td>&quot;DR-3&quot;</td><td>&quot;1930-01-12&quot;</td><td>&quot;pb&quot;</td><td>&quot;rad&quot;</td><td>7.22</td></tr><tr><td>735</td><td>&quot;DR-3&quot;</td><td>&quot;1930-01-12&quot;</td><td>null</td><td>&quot;sal&quot;</td><td>0.06</td></tr><tr><td>735</td><td>&quot;DR-3&quot;</td><td>&quot;1930-01-12&quot;</td><td>null</td><td>&quot;temp&quot;</td><td>-26.0</td></tr><tr><td>751</td><td>&quot;DR-3&quot;</td><td>&quot;1930-02-26&quot;</td><td>&quot;pb&quot;</td><td>&quot;rad&quot;</td><td>4.35</td></tr><tr><td>751</td><td>&quot;DR-3&quot;</td><td>&quot;1930-02-26&quot;</td><td>&quot;pb&quot;</td><td>&quot;temp&quot;</td><td>-18.5</td></tr><tr><td>751</td><td>&quot;DR-3&quot;</td><td>&quot;1930-02-26&quot;</td><td>&quot;lake&quot;</td><td>&quot;sal&quot;</td><td>0.1</td></tr><tr><td>752</td><td>&quot;DR-3&quot;</td><td>null</td><td>&quot;lake&quot;</td><td>&quot;rad&quot;</td><td>2.19</td></tr><tr><td>752</td><td>&quot;DR-3&quot;</td><td>null</td><td>&quot;lake&quot;</td><td>&quot;sal&quot;</td><td>0.09</td></tr><tr><td>752</td><td>&quot;DR-3&quot;</td><td>null</td><td>&quot;lake&quot;</td><td>&quot;temp&quot;</td><td>-16.0</td></tr><tr><td>752</td><td>&quot;DR-3&quot;</td><td>null</td><td>&quot;roe&quot;</td><td>&quot;sal&quot;</td><td>41.6</td></tr><tr><td>837</td><td>&quot;MSK-4&quot;</td><td>&quot;1932-01-14&quot;</td><td>&quot;lake&quot;</td><td>&quot;rad&quot;</td><td>1.46</td></tr><tr><td>837</td><td>&quot;MSK-4&quot;</td><td>&quot;1932-01-14&quot;</td><td>&quot;lake&quot;</td><td>&quot;sal&quot;</td><td>0.21</td></tr><tr><td>837</td><td>&quot;MSK-4&quot;</td><td>&quot;1932-01-14&quot;</td><td>&quot;roe&quot;</td><td>&quot;sal&quot;</td><td>22.5</td></tr><tr><td>844</td><td>&quot;DR-1&quot;</td><td>&quot;1932-03-22&quot;</td><td>&quot;roe&quot;</td><td>&quot;rad&quot;</td><td>11.25</td></tr></tbody></table></div>"
      ],
      "text/plain": [
       "shape: (21, 6)\n",
       "┌───────┬───────┬────────────┬────────┬───────┬─────────┐\n",
       "│ ident ┆ site  ┆ dated      ┆ person ┆ quant ┆ reading │\n",
       "│ ---   ┆ ---   ┆ ---        ┆ ---    ┆ ---   ┆ ---     │\n",
       "│ i64   ┆ str   ┆ str        ┆ str    ┆ str   ┆ f64     │\n",
       "╞═══════╪═══════╪════════════╪════════╪═══════╪═════════╡\n",
       "│ 619   ┆ DR-1  ┆ 1927-02-08 ┆ dyer   ┆ rad   ┆ 9.82    │\n",
       "│ 619   ┆ DR-1  ┆ 1927-02-08 ┆ dyer   ┆ sal   ┆ 0.13    │\n",
       "│ 622   ┆ DR-1  ┆ 1927-02-10 ┆ dyer   ┆ rad   ┆ 7.8     │\n",
       "│ 622   ┆ DR-1  ┆ 1927-02-10 ┆ dyer   ┆ sal   ┆ 0.09    │\n",
       "│ …     ┆ …     ┆ …          ┆ …      ┆ …     ┆ …       │\n",
       "│ 837   ┆ MSK-4 ┆ 1932-01-14 ┆ lake   ┆ rad   ┆ 1.46    │\n",
       "│ 837   ┆ MSK-4 ┆ 1932-01-14 ┆ lake   ┆ sal   ┆ 0.21    │\n",
       "│ 837   ┆ MSK-4 ┆ 1932-01-14 ┆ roe    ┆ sal   ┆ 22.5    │\n",
       "│ 844   ┆ DR-1  ┆ 1932-03-22 ┆ roe    ┆ rad   ┆ 11.25   │\n",
       "└───────┴───────┴────────────┴────────┴───────┴─────────┘"
      ]
     },
     "metadata": {},
     "output_type": "display_data"
    }
   ],
   "source": [
    "ps = person.join(other = survey, left_on = \"ident\", right_on = \"person\")\n",
    "vs = visited.join(other = survey, left_on = \"ident\", right_on = \"taken\")\n",
    "\n",
    "display(ps)\n",
    "display(vs)"
   ]
  },
  {
   "cell_type": "code",
   "execution_count": 13,
   "metadata": {},
   "outputs": [
    {
     "data": {
      "text/html": [
       "<div><style>\n",
       ".dataframe > thead > tr,\n",
       ".dataframe > tbody > tr {\n",
       "  text-align: right;\n",
       "  white-space: pre-wrap;\n",
       "}\n",
       "</style>\n",
       "<small>shape: (148, 11)</small><table border=\"1\" class=\"dataframe\"><thead><tr><th>ident</th><th>personal</th><th>family</th><th>taken</th><th>quant</th><th>reading</th><th>ident_right</th><th>site</th><th>dated</th><th>person</th><th>reading_right</th></tr><tr><td>str</td><td>str</td><td>str</td><td>i64</td><td>str</td><td>f64</td><td>i64</td><td>str</td><td>str</td><td>str</td><td>f64</td></tr></thead><tbody><tr><td>&quot;dyer&quot;</td><td>&quot;William&quot;</td><td>&quot;Dyer&quot;</td><td>619</td><td>&quot;rad&quot;</td><td>9.82</td><td>619</td><td>&quot;DR-1&quot;</td><td>&quot;1927-02-08&quot;</td><td>&quot;dyer&quot;</td><td>9.82</td></tr><tr><td>&quot;dyer&quot;</td><td>&quot;William&quot;</td><td>&quot;Dyer&quot;</td><td>622</td><td>&quot;rad&quot;</td><td>7.8</td><td>619</td><td>&quot;DR-1&quot;</td><td>&quot;1927-02-08&quot;</td><td>&quot;dyer&quot;</td><td>9.82</td></tr><tr><td>&quot;pb&quot;</td><td>&quot;Frank&quot;</td><td>&quot;Pabodie&quot;</td><td>734</td><td>&quot;rad&quot;</td><td>8.41</td><td>619</td><td>&quot;DR-1&quot;</td><td>&quot;1927-02-08&quot;</td><td>&quot;dyer&quot;</td><td>9.82</td></tr><tr><td>&quot;pb&quot;</td><td>&quot;Frank&quot;</td><td>&quot;Pabodie&quot;</td><td>735</td><td>&quot;rad&quot;</td><td>7.22</td><td>619</td><td>&quot;DR-1&quot;</td><td>&quot;1927-02-08&quot;</td><td>&quot;dyer&quot;</td><td>9.82</td></tr><tr><td>&quot;pb&quot;</td><td>&quot;Frank&quot;</td><td>&quot;Pabodie&quot;</td><td>751</td><td>&quot;rad&quot;</td><td>4.35</td><td>619</td><td>&quot;DR-1&quot;</td><td>&quot;1927-02-08&quot;</td><td>&quot;dyer&quot;</td><td>9.82</td></tr><tr><td>&quot;lake&quot;</td><td>&quot;Anderson&quot;</td><td>&quot;Lake&quot;</td><td>752</td><td>&quot;rad&quot;</td><td>2.19</td><td>619</td><td>&quot;DR-1&quot;</td><td>&quot;1927-02-08&quot;</td><td>&quot;dyer&quot;</td><td>9.82</td></tr><tr><td>&quot;lake&quot;</td><td>&quot;Anderson&quot;</td><td>&quot;Lake&quot;</td><td>837</td><td>&quot;rad&quot;</td><td>1.46</td><td>619</td><td>&quot;DR-1&quot;</td><td>&quot;1927-02-08&quot;</td><td>&quot;dyer&quot;</td><td>9.82</td></tr><tr><td>&quot;roe&quot;</td><td>&quot;Valentina&quot;</td><td>&quot;Roerich&quot;</td><td>844</td><td>&quot;rad&quot;</td><td>11.25</td><td>619</td><td>&quot;DR-1&quot;</td><td>&quot;1927-02-08&quot;</td><td>&quot;dyer&quot;</td><td>9.82</td></tr><tr><td>&quot;dyer&quot;</td><td>&quot;William&quot;</td><td>&quot;Dyer&quot;</td><td>619</td><td>&quot;sal&quot;</td><td>0.13</td><td>619</td><td>&quot;DR-1&quot;</td><td>&quot;1927-02-08&quot;</td><td>&quot;dyer&quot;</td><td>0.13</td></tr><tr><td>&quot;dyer&quot;</td><td>&quot;William&quot;</td><td>&quot;Dyer&quot;</td><td>622</td><td>&quot;sal&quot;</td><td>0.09</td><td>619</td><td>&quot;DR-1&quot;</td><td>&quot;1927-02-08&quot;</td><td>&quot;dyer&quot;</td><td>0.13</td></tr><tr><td>&quot;lake&quot;</td><td>&quot;Anderson&quot;</td><td>&quot;Lake&quot;</td><td>734</td><td>&quot;sal&quot;</td><td>0.05</td><td>619</td><td>&quot;DR-1&quot;</td><td>&quot;1927-02-08&quot;</td><td>&quot;dyer&quot;</td><td>0.13</td></tr><tr><td>&quot;lake&quot;</td><td>&quot;Anderson&quot;</td><td>&quot;Lake&quot;</td><td>751</td><td>&quot;sal&quot;</td><td>0.1</td><td>619</td><td>&quot;DR-1&quot;</td><td>&quot;1927-02-08&quot;</td><td>&quot;dyer&quot;</td><td>0.13</td></tr><tr><td>&hellip;</td><td>&hellip;</td><td>&hellip;</td><td>&hellip;</td><td>&hellip;</td><td>&hellip;</td><td>&hellip;</td><td>&hellip;</td><td>&hellip;</td><td>&hellip;</td><td>&hellip;</td></tr><tr><td>&quot;lake&quot;</td><td>&quot;Anderson&quot;</td><td>&quot;Lake&quot;</td><td>752</td><td>&quot;sal&quot;</td><td>0.09</td><td>837</td><td>&quot;MSK-4&quot;</td><td>&quot;1932-01-14&quot;</td><td>&quot;roe&quot;</td><td>22.5</td></tr><tr><td>&quot;roe&quot;</td><td>&quot;Valentina&quot;</td><td>&quot;Roerich&quot;</td><td>752</td><td>&quot;sal&quot;</td><td>41.6</td><td>837</td><td>&quot;MSK-4&quot;</td><td>&quot;1932-01-14&quot;</td><td>&quot;roe&quot;</td><td>22.5</td></tr><tr><td>&quot;lake&quot;</td><td>&quot;Anderson&quot;</td><td>&quot;Lake&quot;</td><td>837</td><td>&quot;sal&quot;</td><td>0.21</td><td>837</td><td>&quot;MSK-4&quot;</td><td>&quot;1932-01-14&quot;</td><td>&quot;roe&quot;</td><td>22.5</td></tr><tr><td>&quot;roe&quot;</td><td>&quot;Valentina&quot;</td><td>&quot;Roerich&quot;</td><td>837</td><td>&quot;sal&quot;</td><td>22.5</td><td>837</td><td>&quot;MSK-4&quot;</td><td>&quot;1932-01-14&quot;</td><td>&quot;roe&quot;</td><td>22.5</td></tr><tr><td>&quot;dyer&quot;</td><td>&quot;William&quot;</td><td>&quot;Dyer&quot;</td><td>619</td><td>&quot;rad&quot;</td><td>9.82</td><td>844</td><td>&quot;DR-1&quot;</td><td>&quot;1932-03-22&quot;</td><td>&quot;roe&quot;</td><td>11.25</td></tr><tr><td>&quot;dyer&quot;</td><td>&quot;William&quot;</td><td>&quot;Dyer&quot;</td><td>622</td><td>&quot;rad&quot;</td><td>7.8</td><td>844</td><td>&quot;DR-1&quot;</td><td>&quot;1932-03-22&quot;</td><td>&quot;roe&quot;</td><td>11.25</td></tr><tr><td>&quot;pb&quot;</td><td>&quot;Frank&quot;</td><td>&quot;Pabodie&quot;</td><td>734</td><td>&quot;rad&quot;</td><td>8.41</td><td>844</td><td>&quot;DR-1&quot;</td><td>&quot;1932-03-22&quot;</td><td>&quot;roe&quot;</td><td>11.25</td></tr><tr><td>&quot;pb&quot;</td><td>&quot;Frank&quot;</td><td>&quot;Pabodie&quot;</td><td>735</td><td>&quot;rad&quot;</td><td>7.22</td><td>844</td><td>&quot;DR-1&quot;</td><td>&quot;1932-03-22&quot;</td><td>&quot;roe&quot;</td><td>11.25</td></tr><tr><td>&quot;pb&quot;</td><td>&quot;Frank&quot;</td><td>&quot;Pabodie&quot;</td><td>751</td><td>&quot;rad&quot;</td><td>4.35</td><td>844</td><td>&quot;DR-1&quot;</td><td>&quot;1932-03-22&quot;</td><td>&quot;roe&quot;</td><td>11.25</td></tr><tr><td>&quot;lake&quot;</td><td>&quot;Anderson&quot;</td><td>&quot;Lake&quot;</td><td>752</td><td>&quot;rad&quot;</td><td>2.19</td><td>844</td><td>&quot;DR-1&quot;</td><td>&quot;1932-03-22&quot;</td><td>&quot;roe&quot;</td><td>11.25</td></tr><tr><td>&quot;lake&quot;</td><td>&quot;Anderson&quot;</td><td>&quot;Lake&quot;</td><td>837</td><td>&quot;rad&quot;</td><td>1.46</td><td>844</td><td>&quot;DR-1&quot;</td><td>&quot;1932-03-22&quot;</td><td>&quot;roe&quot;</td><td>11.25</td></tr><tr><td>&quot;roe&quot;</td><td>&quot;Valentina&quot;</td><td>&quot;Roerich&quot;</td><td>844</td><td>&quot;rad&quot;</td><td>11.25</td><td>844</td><td>&quot;DR-1&quot;</td><td>&quot;1932-03-22&quot;</td><td>&quot;roe&quot;</td><td>11.25</td></tr></tbody></table></div>"
      ],
      "text/plain": [
       "shape: (148, 11)\n",
       "┌───────┬─────────┬─────────┬───────┬───────┬─────────┬─────────┬──────┬─────────┬────────┬────────┐\n",
       "│ ident ┆ persona ┆ family  ┆ taken ┆ quant ┆ reading ┆ ident_r ┆ site ┆ dated   ┆ person ┆ readin │\n",
       "│ ---   ┆ l       ┆ ---     ┆ ---   ┆ ---   ┆ ---     ┆ ight    ┆ ---  ┆ ---     ┆ ---    ┆ g_righ │\n",
       "│ str   ┆ ---     ┆ str     ┆ i64   ┆ str   ┆ f64     ┆ ---     ┆ str  ┆ str     ┆ str    ┆ t      │\n",
       "│       ┆ str     ┆         ┆       ┆       ┆         ┆ i64     ┆      ┆         ┆        ┆ ---    │\n",
       "│       ┆         ┆         ┆       ┆       ┆         ┆         ┆      ┆         ┆        ┆ f64    │\n",
       "╞═══════╪═════════╪═════════╪═══════╪═══════╪═════════╪═════════╪══════╪═════════╪════════╪════════╡\n",
       "│ dyer  ┆ William ┆ Dyer    ┆ 619   ┆ rad   ┆ 9.82    ┆ 619     ┆ DR-1 ┆ 1927-02 ┆ dyer   ┆ 9.82   │\n",
       "│       ┆         ┆         ┆       ┆       ┆         ┆         ┆      ┆ -08     ┆        ┆        │\n",
       "│ dyer  ┆ William ┆ Dyer    ┆ 622   ┆ rad   ┆ 7.8     ┆ 619     ┆ DR-1 ┆ 1927-02 ┆ dyer   ┆ 9.82   │\n",
       "│       ┆         ┆         ┆       ┆       ┆         ┆         ┆      ┆ -08     ┆        ┆        │\n",
       "│ pb    ┆ Frank   ┆ Pabodie ┆ 734   ┆ rad   ┆ 8.41    ┆ 619     ┆ DR-1 ┆ 1927-02 ┆ dyer   ┆ 9.82   │\n",
       "│       ┆         ┆         ┆       ┆       ┆         ┆         ┆      ┆ -08     ┆        ┆        │\n",
       "│ pb    ┆ Frank   ┆ Pabodie ┆ 735   ┆ rad   ┆ 7.22    ┆ 619     ┆ DR-1 ┆ 1927-02 ┆ dyer   ┆ 9.82   │\n",
       "│       ┆         ┆         ┆       ┆       ┆         ┆         ┆      ┆ -08     ┆        ┆        │\n",
       "│ …     ┆ …       ┆ …       ┆ …     ┆ …     ┆ …       ┆ …       ┆ …    ┆ …       ┆ …      ┆ …      │\n",
       "│ pb    ┆ Frank   ┆ Pabodie ┆ 751   ┆ rad   ┆ 4.35    ┆ 844     ┆ DR-1 ┆ 1932-03 ┆ roe    ┆ 11.25  │\n",
       "│       ┆         ┆         ┆       ┆       ┆         ┆         ┆      ┆ -22     ┆        ┆        │\n",
       "│ lake  ┆ Anderso ┆ Lake    ┆ 752   ┆ rad   ┆ 2.19    ┆ 844     ┆ DR-1 ┆ 1932-03 ┆ roe    ┆ 11.25  │\n",
       "│       ┆ n       ┆         ┆       ┆       ┆         ┆         ┆      ┆ -22     ┆        ┆        │\n",
       "│ lake  ┆ Anderso ┆ Lake    ┆ 837   ┆ rad   ┆ 1.46    ┆ 844     ┆ DR-1 ┆ 1932-03 ┆ roe    ┆ 11.25  │\n",
       "│       ┆ n       ┆         ┆       ┆       ┆         ┆         ┆      ┆ -22     ┆        ┆        │\n",
       "│ roe   ┆ Valenti ┆ Roerich ┆ 844   ┆ rad   ┆ 11.25   ┆ 844     ┆ DR-1 ┆ 1932-03 ┆ roe    ┆ 11.25  │\n",
       "│       ┆ na      ┆         ┆       ┆       ┆         ┆         ┆      ┆ -22     ┆        ┆        │\n",
       "└───────┴─────────┴─────────┴───────┴───────┴─────────┴─────────┴──────┴─────────┴────────┴────────┘"
      ]
     },
     "execution_count": 13,
     "metadata": {},
     "output_type": "execute_result"
    }
   ],
   "source": [
    "ps_vs = ps.join(other = vs, left_on = [\"quant\"], right_on = [\"quant\"])\n",
    "ps_vs"
   ]
  }
 ],
 "metadata": {
  "kernelspec": {
   "display_name": "Python 3",
   "language": "python",
   "name": "python3"
  },
  "language_info": {
   "codemirror_mode": {
    "name": "ipython",
    "version": 3
   },
   "file_extension": ".py",
   "mimetype": "text/x-python",
   "name": "python",
   "nbconvert_exporter": "python",
   "pygments_lexer": "ipython3",
   "version": "3.11.4"
  }
 },
 "nbformat": 4,
 "nbformat_minor": 2
}
