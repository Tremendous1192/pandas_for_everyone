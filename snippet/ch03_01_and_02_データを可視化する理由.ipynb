{
 "cells": [
  {
   "cell_type": "markdown",
   "metadata": {},
   "source": [
    "# 第3章 プロッティングによるグラフ描画\n",
    "## 3.1 データを可視化する理由\n",
    "平均値や標準偏差、共分散が等しいのにデータのばらつき具合が異なる「アンスコムのデータ」を描画して、可視化の重要性を確認する。\n",
    "## 3.2 matplotlibの基本"
   ]
  },
  {
   "cell_type": "markdown",
   "metadata": {},
   "source": [
    "### データを読み込む"
   ]
  },
  {
   "cell_type": "code",
   "execution_count": null,
   "metadata": {},
   "outputs": [],
   "source": [
    "import seaborn as sns\n",
    "\n",
    "# データを読み込む\n",
    "anscombe = sns.load_dataset(\"anscombe\")\n",
    "display(anscombe)\n",
    "\n",
    "# データセット別に層別する\n",
    "dataset_1 = anscombe[ anscombe[\"dataset\"] == \"I\" ]\n",
    "dataset_2 = anscombe[ anscombe[\"dataset\"] == \"II\" ]\n",
    "dataset_3 = anscombe[ anscombe[\"dataset\"] == \"III\" ]\n",
    "dataset_4 = anscombe[ anscombe[\"dataset\"] == \"IV\" ]"
   ]
  },
  {
   "cell_type": "code",
   "execution_count": null,
   "metadata": {},
   "outputs": [],
   "source": [
    "# 各データセットの基本統計量を比較する\n",
    "print(dataset_1[\"x\"].mean(), dataset_1[\"x\"].std(), dataset_1[\"y\"].mean(), dataset_1[\"y\"].std())\n",
    "print(dataset_2[\"x\"].mean(), dataset_2[\"x\"].std(), dataset_2[\"y\"].mean(), dataset_2[\"y\"].std())\n",
    "print(dataset_3[\"x\"].mean(), dataset_3[\"x\"].std(), dataset_3[\"y\"].mean(), dataset_3[\"y\"].std())\n",
    "print(dataset_4[\"x\"].mean(), dataset_4[\"x\"].std(), dataset_4[\"y\"].mean(), dataset_4[\"y\"].std())"
   ]
  },
  {
   "cell_type": "code",
   "execution_count": null,
   "metadata": {},
   "outputs": [],
   "source": [
    "# 各データセットの共分散を計算する\n",
    "print(dataset_1[[\"x\", \"y\"]].cov())\n",
    "print(dataset_2[[\"x\", \"y\"]].cov())\n",
    "print(dataset_3[[\"x\", \"y\"]].cov())\n",
    "print(dataset_4[[\"x\", \"y\"]].cov())"
   ]
  },
  {
   "cell_type": "markdown",
   "metadata": {},
   "source": [
    "### 各データセットを可視化する"
   ]
  },
  {
   "cell_type": "code",
   "execution_count": null,
   "metadata": {},
   "outputs": [],
   "source": [
    "import matplotlib.pyplot as plt\n",
    "\n",
    "# キャンバス\n",
    "fig = plt.figure()\n",
    "\n",
    "# キャンバスにsubplotを追加する\n",
    "axes1 = fig.add_subplot(2, 2, 1)\n",
    "axes2 = fig.add_subplot(2, 2, 2)\n",
    "axes3 = fig.add_subplot(2, 2, 3)\n",
    "axes4 = fig.add_subplot(2, 2, 4)\n",
    "\n",
    "# 各サブプロットに散布図を描画する\n",
    "axes1.plot(dataset_1[\"x\"], dataset_1[\"y\"], \"o\")\n",
    "axes2.plot(dataset_2[\"x\"], dataset_2[\"y\"], \"o\")\n",
    "axes3.plot(dataset_3[\"x\"], dataset_3[\"y\"], \"o\")\n",
    "axes4.plot(dataset_4[\"x\"], dataset_4[\"y\"], \"o\")\n",
    "\n",
    "# 個々のサブプロットに小さ目のタイトルを付ける\n",
    "axes1.set_title(\"dataset_1\")\n",
    "axes2.set_title(\"dataset_2\")\n",
    "axes3.set_title(\"dataset_3\")\n",
    "axes4.set_title(\"dataset_4\")\n",
    "\n",
    "# 図の全体にタイトルを追加する\n",
    "fig.suptitle(\"Anscombe Data\")\n",
    "\n",
    "# レイアウトを調整する\n",
    "fig.set_tight_layout(True)\n",
    "\n",
    "plt.show()"
   ]
  }
 ],
 "metadata": {
  "kernelspec": {
   "display_name": "Python 3",
   "language": "python",
   "name": "python3"
  },
  "language_info": {
   "codemirror_mode": {
    "name": "ipython",
    "version": 3
   },
   "file_extension": ".py",
   "mimetype": "text/x-python",
   "name": "python",
   "nbconvert_exporter": "python",
   "pygments_lexer": "ipython3",
   "version": "3.11.4"
  }
 },
 "nbformat": 4,
 "nbformat_minor": 2
}
