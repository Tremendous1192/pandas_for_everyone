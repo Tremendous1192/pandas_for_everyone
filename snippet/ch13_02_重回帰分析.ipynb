{
 "cells": [
  {
   "cell_type": "markdown",
   "metadata": {},
   "source": [
    "## 13.2 重回帰分析\n",
    "```statsmodels```と```sklearn```を用いた重回帰分析のスニペット。"
   ]
  },
  {
   "cell_type": "markdown",
   "metadata": {},
   "source": [
    "### (共通)データの読み込み\n",
    "```seaborn```の```tips```データセットを用いる。"
   ]
  },
  {
   "cell_type": "code",
   "execution_count": null,
   "metadata": {},
   "outputs": [],
   "source": [
    "import polars as pl\n",
    "import seaborn as sns\n",
    "\n",
    "# データの読み込み\n",
    "tips = pl.DataFrame(sns.load_dataset(\"tips\"))\n",
    "display(tips.head())\n",
    "\n",
    "# データの可視化\n",
    "# 支払い、sizeとtipの額には相関がありそうだ\n",
    "# pairplotはpandas.DataFrameのみ\n",
    "sns.pairplot(data = tips[[\"tip\", \"total_bill\", \"size\"]].to_pandas())\n",
    "# histogramを滑らかにしたいならPairGrid\n",
    "#g = sns.PairGrid(data = tips[[\"tip\", \"total_bill\", \"size\"]])\n",
    "#g.map_upper(sns.scatterplot, s=15)\n",
    "#g.map_lower(sns.kdeplot)\n",
    "#g.map_diag(sns.kdeplot, lw=2)"
   ]
  },
  {
   "cell_type": "markdown",
   "metadata": {},
   "source": [
    "### 13.2.1 statsmodels"
   ]
  },
  {
   "cell_type": "code",
   "execution_count": null,
   "metadata": {},
   "outputs": [],
   "source": [
    "import statsmodels.formula.api as smf\n",
    "\n",
    "# 回帰分析モデルを学習する\n",
    "model = smf.ols(formula = \"tip ~ total_bill + size\", data = tips).fit()\n",
    "\n",
    "# 学習結果を表示する\n",
    "display(model.summary())\n",
    "\n",
    "# 係数を表示する\n",
    "display(model.params)\n",
    "\n",
    "# 信頼区間を表示する\n",
    "display(model.conf_int())"
   ]
  },
  {
   "cell_type": "markdown",
   "metadata": {},
   "source": [
    "### 13.1.2 sklearn"
   ]
  },
  {
   "cell_type": "code",
   "execution_count": null,
   "metadata": {},
   "outputs": [],
   "source": [
    "from sklearn import linear_model\n",
    "\n",
    "# モデルを学習する\n",
    "lr = linear_model.LinearRegression()\n",
    "model = lr.fit(X = tips[[\"total_bill\", \"size\"]], y = tips[\"tip\"])\n",
    "\n",
    "# 係数と切片を表示する\n",
    "display(model.coef_)\n",
    "display(model.intercept_)"
   ]
  }
 ],
 "metadata": {
  "kernelspec": {
   "display_name": "Python 3",
   "language": "python",
   "name": "python3"
  },
  "language_info": {
   "codemirror_mode": {
    "name": "ipython",
    "version": 3
   },
   "file_extension": ".py",
   "mimetype": "text/x-python",
   "name": "python",
   "nbconvert_exporter": "python",
   "pygments_lexer": "ipython3",
   "version": "3.11.4"
  }
 },
 "nbformat": 4,
 "nbformat_minor": 2
}
