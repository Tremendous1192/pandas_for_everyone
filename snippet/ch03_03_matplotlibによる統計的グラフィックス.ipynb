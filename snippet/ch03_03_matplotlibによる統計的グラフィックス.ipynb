{
 "cells": [
  {
   "cell_type": "markdown",
   "metadata": {},
   "source": [
    "## 3.3 matplotlibによる統計的グラフィックス"
   ]
  },
  {
   "cell_type": "markdown",
   "metadata": {},
   "source": [
    "### データを読み込む"
   ]
  },
  {
   "cell_type": "code",
   "execution_count": null,
   "metadata": {},
   "outputs": [],
   "source": [
    "import seaborn as sns\n",
    "import matplotlib.pyplot as plt\n",
    "\n",
    "# データを読み込む\n",
    "tips = sns.load_dataset(\"tips\")\n",
    "tips"
   ]
  },
  {
   "cell_type": "markdown",
   "metadata": {},
   "source": [
    "### ヒストグラム"
   ]
  },
  {
   "cell_type": "code",
   "execution_count": null,
   "metadata": {},
   "outputs": [],
   "source": [
    "# キャンバス\n",
    "fig = plt.figure()\n",
    "\n",
    "# キャンバスにsubplotを追加する\n",
    "axes1 = fig.add_subplot(1, 1, 1)\n",
    "\n",
    "# サブプロットにグラフを描画する\n",
    "axes1.hist(data = tips, x = \"total_bill\", bins = 10)\n",
    "\n",
    "# ラベルを加える\n",
    "axes1.set_title(\"Histgram of Total Bill\")\n",
    "axes1.set_xlabel(\"Total Bill\")\n",
    "axes1.set_ylabel(\"Frequency\")\n",
    "\n",
    "plt.show()"
   ]
  },
  {
   "cell_type": "markdown",
   "metadata": {},
   "source": [
    "### 散布図"
   ]
  },
  {
   "cell_type": "code",
   "execution_count": null,
   "metadata": {},
   "outputs": [],
   "source": [
    "# キャンバス\n",
    "fig = plt.figure()\n",
    "\n",
    "# キャンバスにsubplotを追加する\n",
    "axes1 = fig.add_subplot(1, 1, 1)\n",
    "\n",
    "# サブプロットにグラフを描画する\n",
    "axes1.scatter(data = tips, x = \"total_bill\", y = \"tip\")\n",
    "\n",
    "# ラベルを加える\n",
    "axes1.set_title(\"Scatterplot of Total Bill vs Tip\")\n",
    "axes1.set_xlabel(\"Total Bill\")\n",
    "axes1.set_ylabel(\"Tip\")\n",
    "\n",
    "plt.show()"
   ]
  },
  {
   "cell_type": "markdown",
   "metadata": {},
   "source": [
    "### 箱ひげ図"
   ]
  },
  {
   "cell_type": "code",
   "execution_count": null,
   "metadata": {},
   "outputs": [],
   "source": [
    "# キャンバス\n",
    "fig = plt.figure()\n",
    "\n",
    "# キャンバスにsubplotを追加する\n",
    "axes1 = fig.add_subplot(1, 1, 1)\n",
    "\n",
    "# サブプロットにグラフを描画する\n",
    "axes1.boxplot(\n",
    "    x = [\n",
    "        tips.loc[tips[\"sex\"] == \"Female\"][\"tip\"],\n",
    "        tips.loc[tips[\"sex\"] == \"Male\"][\"tip\"]\n",
    "    ],\n",
    "    labels = [\"Female\", \"Male\"]\n",
    ")\n",
    "\n",
    "# ラベルを加える\n",
    "axes1.set_title(\"Boxplot of Tips by Gender\")\n",
    "axes1.set_xlabel(\"Sex\")\n",
    "axes1.set_ylabel(\"Tip\")\n",
    "\n",
    "plt.show()"
   ]
  },
  {
   "cell_type": "markdown",
   "metadata": {},
   "source": [
    "### 性別を色で分けて、テーブル客の人数をマーカーの大きさ表現した散布図"
   ]
  },
  {
   "cell_type": "code",
   "execution_count": null,
   "metadata": {},
   "outputs": [],
   "source": [
    "# 性別に色を割り当てる\n",
    "colors = {\n",
    "    \"Female\": \"#f1a340\",# オレンジ\n",
    "    \"Male\": \"#998ec3\",# 紫\n",
    "}\n",
    "\n",
    "# キャンバス\n",
    "fig = plt.figure()\n",
    "\n",
    "# キャンバスにsubplotを追加する\n",
    "axes1 = fig.add_subplot(1, 1, 1)\n",
    "\n",
    "# サブプロットにグラフを描画する\n",
    "axes1.scatter(data = tips,\n",
    "              x = \"total_bill\",\n",
    "              y = \"tip\",\n",
    "              s = tips[\"size\"] ** 2 * 10,# テーブル客の人数とマーカーの大きさを比例させる\n",
    "              c = tips[\"sex\"].map(colors),# 性別毎に上の色を割り当てる\n",
    "              alpha = 0.5#マーカーの透明度を上げて視認性を上げる\n",
    "              )\n",
    "\n",
    "# ラベルを加える\n",
    "axes1.set_title(\"Scatterplot of Total Bill vs Tip\")\n",
    "axes1.set_xlabel(\"Total Bill\")\n",
    "axes1.set_ylabel(\"Tip\")\n",
    "\n",
    "plt.show()"
   ]
  }
 ],
 "metadata": {
  "kernelspec": {
   "display_name": "Python 3",
   "language": "python",
   "name": "python3"
  },
  "language_info": {
   "codemirror_mode": {
    "name": "ipython",
    "version": 3
   },
   "file_extension": ".py",
   "mimetype": "text/x-python",
   "name": "python",
   "nbconvert_exporter": "python",
   "pygments_lexer": "ipython3",
   "version": "3.11.4"
  }
 },
 "nbformat": 4,
 "nbformat_minor": 2
}
