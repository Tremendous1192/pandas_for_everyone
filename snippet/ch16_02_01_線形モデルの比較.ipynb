{
 "cells": [
  {
   "cell_type": "markdown",
   "metadata": {},
   "source": [
    "## 16.2 複数のモデルを比較する\n",
    "### 16.2.1 線形モデルの比較"
   ]
  },
  {
   "cell_type": "markdown",
   "metadata": {},
   "source": [
    "### データを読み込む"
   ]
  },
  {
   "cell_type": "code",
   "execution_count": null,
   "metadata": {},
   "outputs": [],
   "source": [
    "import polars as pl\n",
    "\n",
    "housing = pl.read_csv(\"../data/housing_renamed.csv\")\n",
    "housing.head()"
   ]
  },
  {
   "cell_type": "markdown",
   "metadata": {},
   "source": [
    "### 各モデルの学習"
   ]
  },
  {
   "cell_type": "code",
   "execution_count": null,
   "metadata": {},
   "outputs": [],
   "source": [
    "import statsmodels\n",
    "import statsmodels.api as sm\n",
    "import statsmodels.formula.api as smf"
   ]
  },
  {
   "cell_type": "code",
   "execution_count": null,
   "metadata": {},
   "outputs": [],
   "source": [
    "f1 = \"value_per_sq_ft ~ units + sq_ft + boro\"\n",
    "f2 = \"value_per_sq_ft ~ units * sq_ft + boro\"\n",
    "f3 = \"value_per_sq_ft ~ units + sq_ft * boro + type\"\n",
    "f4 = \"value_per_sq_ft ~ units + sq_ft * boro + sq_ft * type\"\n",
    "f5 = \"value_per_sq_ft ~ boro + type\"\n",
    "\n",
    "house1 = smf.ols(f1, data = housing).fit()\n",
    "house2 = smf.ols(f2, data = housing).fit()\n",
    "house3 = smf.ols(f3, data = housing).fit()\n",
    "house4 = smf.ols(f4, data = housing).fit()\n",
    "house5 = smf.ols(f5, data = housing).fit()"
   ]
  },
  {
   "cell_type": "code",
   "execution_count": null,
   "metadata": {},
   "outputs": [],
   "source": [
    "house1.params"
   ]
  },
  {
   "cell_type": "code",
   "execution_count": null,
   "metadata": {},
   "outputs": [],
   "source": [
    "house1.params.index.tolist()"
   ]
  },
  {
   "cell_type": "code",
   "execution_count": null,
   "metadata": {},
   "outputs": [],
   "source": [
    "# 長さの異なるデータを横に結合したい場合は、pandasの方が簡単\n",
    "import pandas as pd\n",
    "\n",
    "mod_results = (\n",
    "    pd.concat([\n",
    "        house1.params,\n",
    "        house2.params,\n",
    "        house3.params,\n",
    "        house4.params,\n",
    "        house5.params\n",
    "    ],\n",
    "    axis = 1)\n",
    "    .rename(columns = lambda col: \"house\" + str(col + 1))\n",
    "    .reset_index()\n",
    "    .rename(columns = {\"index\": \"param\"})\n",
    "    .melt(id_vars = \"param\", var_name = \"model\", value_name = \"estimate\")\n",
    ")\n",
    "mod_results"
   ]
  },
  {
   "cell_type": "markdown",
   "metadata": {},
   "source": [
    "### モデル毎の残差を可視化する"
   ]
  },
  {
   "cell_type": "code",
   "execution_count": null,
   "metadata": {},
   "outputs": [],
   "source": [
    "import seaborn as sns\n",
    "import matplotlib.pyplot as plt\n",
    "\n",
    "# 層毎の色分け\n",
    "color_dict = dict(\n",
    "    {\n",
    "        \"house1\": \"#d7191c\",\n",
    "        \"house2\": \"#fdae61\",\n",
    "        \"house3\": \"#ffffbf\",\n",
    "        \"house4\": \"#abdda4\",\n",
    "        \"house5\": \"#2b83ba\",\n",
    "    }\n",
    ")\n",
    "\n",
    "fig, ax = plt.subplots()\n",
    "ax = sns.pointplot(\n",
    "    x = \"estimate\",\n",
    "    y = \"param\",\n",
    "    hue = \"model\",\n",
    "    data = mod_results,\n",
    "    dodge = True,\n",
    "    linestyle = 'none',\n",
    "    palette = color_dict,\n",
    ")\n",
    "\n",
    "plt.tight_layout()\n",
    "plt.show()"
   ]
  },
  {
   "cell_type": "markdown",
   "metadata": {},
   "source": [
    "### ANOVAを用いて、モデルを評価する"
   ]
  },
  {
   "cell_type": "code",
   "execution_count": null,
   "metadata": {},
   "outputs": [],
   "source": [
    "model_names = [\"house1\", \"house2\", \"house3\", \"house4\", \"house5\"]\n",
    "house_anova = statsmodels.stats.anova.anova_lm(\n",
    "    house1, house2, house3, house4, house5\n",
    ")\n",
    "\n",
    "house_anova.index = model_names\n",
    "\n",
    "house_anova"
   ]
  },
  {
   "cell_type": "markdown",
   "metadata": {},
   "source": [
    "### AICを用いてモデルを評価する"
   ]
  },
  {
   "cell_type": "code",
   "execution_count": null,
   "metadata": {},
   "outputs": [],
   "source": [
    "house_models = [house1, house2, house3, house4, house5]\n",
    "\n",
    "abic = pd.DataFrame({\n",
    "    \"model\": model_names,\n",
    "    \"aic\": [mod.aic for mod in house_models],\n",
    "    \"bic\": [mod.bic for mod in house_models]\n",
    "})\n",
    "\n",
    "abic.sort_values(by = [\"aic\", \"bic\"])"
   ]
  }
 ],
 "metadata": {
  "kernelspec": {
   "display_name": "Python 3",
   "language": "python",
   "name": "python3"
  },
  "language_info": {
   "codemirror_mode": {
    "name": "ipython",
    "version": 3
   },
   "file_extension": ".py",
   "mimetype": "text/x-python",
   "name": "python",
   "nbconvert_exporter": "python",
   "pygments_lexer": "ipython3",
   "version": "3.11.4"
  }
 },
 "nbformat": 4,
 "nbformat_minor": 2
}
