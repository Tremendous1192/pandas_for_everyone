{
 "cells": [
  {
   "cell_type": "markdown",
   "metadata": {},
   "source": [
    "## 16.2 複数のモデルを比較する\n",
    "### 16.2.1 線形モデルの比較"
   ]
  },
  {
   "cell_type": "markdown",
   "metadata": {},
   "source": [
    "### データを読み込む"
   ]
  },
  {
   "cell_type": "code",
   "execution_count": 39,
   "metadata": {},
   "outputs": [
    {
     "data": {
      "text/html": [
       "<div><style>\n",
       ".dataframe > thead > tr,\n",
       ".dataframe > tbody > tr {\n",
       "  text-align: right;\n",
       "  white-space: pre-wrap;\n",
       "}\n",
       "</style>\n",
       "<small>shape: (5, 13)</small><table border=\"1\" class=\"dataframe\"><thead><tr><th>neighborhood</th><th>type</th><th>units</th><th>year_built</th><th>sq_ft</th><th>income</th><th>income_per_sq_ft</th><th>expense</th><th>expense_per_sq_ft</th><th>net_income</th><th>value</th><th>value_per_sq_ft</th><th>boro</th></tr><tr><td>str</td><td>str</td><td>i64</td><td>f64</td><td>i64</td><td>i64</td><td>f64</td><td>i64</td><td>f64</td><td>i64</td><td>i64</td><td>f64</td><td>str</td></tr></thead><tbody><tr><td>&quot;FINANCIAL&quot;</td><td>&quot;R9-CONDOMINIUM…</td><td>42</td><td>1920.0</td><td>36500</td><td>1332615</td><td>36.51</td><td>342005</td><td>9.37</td><td>990610</td><td>7300000</td><td>200.0</td><td>&quot;Manhattan&quot;</td></tr><tr><td>&quot;FINANCIAL&quot;</td><td>&quot;R4-CONDOMINIUM…</td><td>78</td><td>1985.0</td><td>126420</td><td>6633257</td><td>52.47</td><td>1762295</td><td>13.94</td><td>4870962</td><td>30690000</td><td>242.76</td><td>&quot;Manhattan&quot;</td></tr><tr><td>&quot;FINANCIAL&quot;</td><td>&quot;RR-CONDOMINIUM…</td><td>500</td><td>null</td><td>554174</td><td>17310000</td><td>31.24</td><td>3543000</td><td>6.39</td><td>13767000</td><td>90970000</td><td>164.15</td><td>&quot;Manhattan&quot;</td></tr><tr><td>&quot;FINANCIAL&quot;</td><td>&quot;R4-CONDOMINIUM…</td><td>282</td><td>1930.0</td><td>249076</td><td>11776313</td><td>47.28</td><td>2784670</td><td>11.18</td><td>8991643</td><td>67556006</td><td>271.23</td><td>&quot;Manhattan&quot;</td></tr><tr><td>&quot;TRIBECA&quot;</td><td>&quot;R4-CONDOMINIUM…</td><td>239</td><td>1985.0</td><td>219495</td><td>10004582</td><td>45.58</td><td>2783197</td><td>12.68</td><td>7221385</td><td>54320996</td><td>247.48</td><td>&quot;Manhattan&quot;</td></tr></tbody></table></div>"
      ],
      "text/plain": [
       "shape: (5, 13)\n",
       "┌────────────┬────────────┬───────┬────────────┬───┬────────────┬──────────┬───────────┬───────────┐\n",
       "│ neighborho ┆ type       ┆ units ┆ year_built ┆ … ┆ net_income ┆ value    ┆ value_per ┆ boro      │\n",
       "│ od         ┆ ---        ┆ ---   ┆ ---        ┆   ┆ ---        ┆ ---      ┆ _sq_ft    ┆ ---       │\n",
       "│ ---        ┆ str        ┆ i64   ┆ f64        ┆   ┆ i64        ┆ i64      ┆ ---       ┆ str       │\n",
       "│ str        ┆            ┆       ┆            ┆   ┆            ┆          ┆ f64       ┆           │\n",
       "╞════════════╪════════════╪═══════╪════════════╪═══╪════════════╪══════════╪═══════════╪═══════════╡\n",
       "│ FINANCIAL  ┆ R9-CONDOMI ┆ 42    ┆ 1920.0     ┆ … ┆ 990610     ┆ 7300000  ┆ 200.0     ┆ Manhattan │\n",
       "│            ┆ NIUM       ┆       ┆            ┆   ┆            ┆          ┆           ┆           │\n",
       "│ FINANCIAL  ┆ R4-CONDOMI ┆ 78    ┆ 1985.0     ┆ … ┆ 4870962    ┆ 30690000 ┆ 242.76    ┆ Manhattan │\n",
       "│            ┆ NIUM       ┆       ┆            ┆   ┆            ┆          ┆           ┆           │\n",
       "│ FINANCIAL  ┆ RR-CONDOMI ┆ 500   ┆ null       ┆ … ┆ 13767000   ┆ 90970000 ┆ 164.15    ┆ Manhattan │\n",
       "│            ┆ NIUM       ┆       ┆            ┆   ┆            ┆          ┆           ┆           │\n",
       "│ FINANCIAL  ┆ R4-CONDOMI ┆ 282   ┆ 1930.0     ┆ … ┆ 8991643    ┆ 67556006 ┆ 271.23    ┆ Manhattan │\n",
       "│            ┆ NIUM       ┆       ┆            ┆   ┆            ┆          ┆           ┆           │\n",
       "│ TRIBECA    ┆ R4-CONDOMI ┆ 239   ┆ 1985.0     ┆ … ┆ 7221385    ┆ 54320996 ┆ 247.48    ┆ Manhattan │\n",
       "│            ┆ NIUM       ┆       ┆            ┆   ┆            ┆          ┆           ┆           │\n",
       "└────────────┴────────────┴───────┴────────────┴───┴────────────┴──────────┴───────────┴───────────┘"
      ]
     },
     "execution_count": 39,
     "metadata": {},
     "output_type": "execute_result"
    }
   ],
   "source": [
    "import polars as pl\n",
    "\n",
    "housing = pl.read_csv(\"../data/housing_renamed.csv\")\n",
    "housing.head()"
   ]
  },
  {
   "cell_type": "markdown",
   "metadata": {},
   "source": [
    "### 各モデルの学習"
   ]
  },
  {
   "cell_type": "code",
   "execution_count": 40,
   "metadata": {},
   "outputs": [],
   "source": [
    "import statsmodels\n",
    "import statsmodels.api as sm\n",
    "import statsmodels.formula.api as smf"
   ]
  },
  {
   "cell_type": "code",
   "execution_count": 41,
   "metadata": {},
   "outputs": [],
   "source": [
    "f1 = \"value_per_sq_ft ~ units + sq_ft + boro\"\n",
    "f2 = \"value_per_sq_ft ~ units * sq_ft + boro\"\n",
    "f3 = \"value_per_sq_ft ~ units + sq_ft * boro + type\"\n",
    "f4 = \"value_per_sq_ft ~ units + sq_ft * boro + sq_ft * type\"\n",
    "f5 = \"value_per_sq_ft ~ boro + type\"\n",
    "\n",
    "house1 = smf.ols(f1, data = housing).fit()\n",
    "house2 = smf.ols(f2, data = housing).fit()\n",
    "house3 = smf.ols(f3, data = housing).fit()\n",
    "house4 = smf.ols(f4, data = housing).fit()\n",
    "house5 = smf.ols(f5, data = housing).fit()"
   ]
  },
  {
   "cell_type": "code",
   "execution_count": 42,
   "metadata": {},
   "outputs": [
    {
     "data": {
      "text/plain": [
       "Intercept                 43.290863\n",
       "boro[T.Brooklyn]          34.562150\n",
       "boro[T.Manhattan]        130.992363\n",
       "boro[T.Queens]            32.993674\n",
       "boro[T.Staten Island]     -3.630251\n",
       "units                     -0.188115\n",
       "sq_ft                      0.000210\n",
       "dtype: float64"
      ]
     },
     "execution_count": 42,
     "metadata": {},
     "output_type": "execute_result"
    }
   ],
   "source": [
    "house1.params"
   ]
  },
  {
   "cell_type": "code",
   "execution_count": 43,
   "metadata": {},
   "outputs": [
    {
     "data": {
      "text/plain": [
       "['Intercept',\n",
       " 'boro[T.Brooklyn]',\n",
       " 'boro[T.Manhattan]',\n",
       " 'boro[T.Queens]',\n",
       " 'boro[T.Staten Island]',\n",
       " 'units',\n",
       " 'sq_ft']"
      ]
     },
     "execution_count": 43,
     "metadata": {},
     "output_type": "execute_result"
    }
   ],
   "source": [
    "house1.params.index.tolist()"
   ]
  },
  {
   "cell_type": "code",
   "execution_count": 44,
   "metadata": {},
   "outputs": [
    {
     "data": {
      "text/html": [
       "<div>\n",
       "<style scoped>\n",
       "    .dataframe tbody tr th:only-of-type {\n",
       "        vertical-align: middle;\n",
       "    }\n",
       "\n",
       "    .dataframe tbody tr th {\n",
       "        vertical-align: top;\n",
       "    }\n",
       "\n",
       "    .dataframe thead th {\n",
       "        text-align: right;\n",
       "    }\n",
       "</style>\n",
       "<table border=\"1\" class=\"dataframe\">\n",
       "  <thead>\n",
       "    <tr style=\"text-align: right;\">\n",
       "      <th></th>\n",
       "      <th>param</th>\n",
       "      <th>model</th>\n",
       "      <th>estimate</th>\n",
       "    </tr>\n",
       "  </thead>\n",
       "  <tbody>\n",
       "    <tr>\n",
       "      <th>0</th>\n",
       "      <td>Intercept</td>\n",
       "      <td>house1</td>\n",
       "      <td>43.290863</td>\n",
       "    </tr>\n",
       "    <tr>\n",
       "      <th>1</th>\n",
       "      <td>boro[T.Brooklyn]</td>\n",
       "      <td>house1</td>\n",
       "      <td>34.562150</td>\n",
       "    </tr>\n",
       "    <tr>\n",
       "      <th>2</th>\n",
       "      <td>boro[T.Manhattan]</td>\n",
       "      <td>house1</td>\n",
       "      <td>130.992363</td>\n",
       "    </tr>\n",
       "    <tr>\n",
       "      <th>3</th>\n",
       "      <td>boro[T.Queens]</td>\n",
       "      <td>house1</td>\n",
       "      <td>32.993674</td>\n",
       "    </tr>\n",
       "    <tr>\n",
       "      <th>4</th>\n",
       "      <td>boro[T.Staten Island]</td>\n",
       "      <td>house1</td>\n",
       "      <td>-3.630251</td>\n",
       "    </tr>\n",
       "    <tr>\n",
       "      <th>...</th>\n",
       "      <td>...</td>\n",
       "      <td>...</td>\n",
       "      <td>...</td>\n",
       "    </tr>\n",
       "    <tr>\n",
       "      <th>85</th>\n",
       "      <td>sq_ft:boro[T.Queens]</td>\n",
       "      <td>house5</td>\n",
       "      <td>NaN</td>\n",
       "    </tr>\n",
       "    <tr>\n",
       "      <th>86</th>\n",
       "      <td>sq_ft:boro[T.Staten Island]</td>\n",
       "      <td>house5</td>\n",
       "      <td>NaN</td>\n",
       "    </tr>\n",
       "    <tr>\n",
       "      <th>87</th>\n",
       "      <td>sq_ft:type[T.R4-CONDOMINIUM]</td>\n",
       "      <td>house5</td>\n",
       "      <td>NaN</td>\n",
       "    </tr>\n",
       "    <tr>\n",
       "      <th>88</th>\n",
       "      <td>sq_ft:type[T.R9-CONDOMINIUM]</td>\n",
       "      <td>house5</td>\n",
       "      <td>NaN</td>\n",
       "    </tr>\n",
       "    <tr>\n",
       "      <th>89</th>\n",
       "      <td>sq_ft:type[T.RR-CONDOMINIUM]</td>\n",
       "      <td>house5</td>\n",
       "      <td>NaN</td>\n",
       "    </tr>\n",
       "  </tbody>\n",
       "</table>\n",
       "<p>90 rows × 3 columns</p>\n",
       "</div>"
      ],
      "text/plain": [
       "                           param   model    estimate\n",
       "0                      Intercept  house1   43.290863\n",
       "1               boro[T.Brooklyn]  house1   34.562150\n",
       "2              boro[T.Manhattan]  house1  130.992363\n",
       "3                 boro[T.Queens]  house1   32.993674\n",
       "4          boro[T.Staten Island]  house1   -3.630251\n",
       "..                           ...     ...         ...\n",
       "85          sq_ft:boro[T.Queens]  house5         NaN\n",
       "86   sq_ft:boro[T.Staten Island]  house5         NaN\n",
       "87  sq_ft:type[T.R4-CONDOMINIUM]  house5         NaN\n",
       "88  sq_ft:type[T.R9-CONDOMINIUM]  house5         NaN\n",
       "89  sq_ft:type[T.RR-CONDOMINIUM]  house5         NaN\n",
       "\n",
       "[90 rows x 3 columns]"
      ]
     },
     "execution_count": 44,
     "metadata": {},
     "output_type": "execute_result"
    }
   ],
   "source": [
    "# 長さの異なるデータを横に結合したい場合は、pandasの方が簡単\n",
    "import pandas as pd\n",
    "\n",
    "mod_results = (\n",
    "    pd.concat([\n",
    "        house1.params,\n",
    "        house2.params,\n",
    "        house3.params,\n",
    "        house4.params,\n",
    "        house5.params\n",
    "    ],\n",
    "    axis = 1)\n",
    "    .rename(columns = lambda col: \"house\" + str(col + 1))\n",
    "    .reset_index()\n",
    "    .rename(columns = {\"index\": \"param\"})\n",
    "    .melt(id_vars = \"param\", var_name = \"model\", value_name = \"estimate\")\n",
    ")\n",
    "mod_results"
   ]
  },
  {
   "cell_type": "markdown",
   "metadata": {},
   "source": [
    "### モデル毎の残差を可視化する"
   ]
  },
  {
   "cell_type": "code",
   "execution_count": 45,
   "metadata": {},
   "outputs": [
    {
     "data": {
      "image/png": "[encoded data removed]",
      "text/plain": [
       "<Figure size 640x480 with 1 Axes>"
      ]
     },
     "metadata": {},
     "output_type": "display_data"
    }
   ],
   "source": [
    "import seaborn as sns\n",
    "import matplotlib.pyplot as plt\n",
    "\n",
    "# 層毎の色分け\n",
    "color_dict = dict(\n",
    "    {\n",
    "        \"house1\": \"#d7191c\",\n",
    "        \"house2\": \"#fdae61\",\n",
    "        \"house3\": \"#ffffbf\",\n",
    "        \"house4\": \"#abdda4\",\n",
    "        \"house5\": \"#2b83ba\",\n",
    "    }\n",
    ")\n",
    "\n",
    "fig, ax = plt.subplots()\n",
    "ax = sns.pointplot(\n",
    "    x = \"estimate\",\n",
    "    y = \"param\",\n",
    "    hue = \"model\",\n",
    "    data = mod_results,\n",
    "    dodge = True,\n",
    "    linestyle = 'none',\n",
    "    palette = color_dict,\n",
    ")\n",
    "\n",
    "plt.tight_layout()\n",
    "plt.show()"
   ]
  },
  {
   "cell_type": "markdown",
   "metadata": {},
   "source": [
    "### ANOVAを用いて、モデルを評価する"
   ]
  },
  {
   "cell_type": "code",
   "execution_count": 46,
   "metadata": {},
   "outputs": [
    {
     "data": {
      "text/html": [
       "<div>\n",
       "<style scoped>\n",
       "    .dataframe tbody tr th:only-of-type {\n",
       "        vertical-align: middle;\n",
       "    }\n",
       "\n",
       "    .dataframe tbody tr th {\n",
       "        vertical-align: top;\n",
       "    }\n",
       "\n",
       "    .dataframe thead th {\n",
       "        text-align: right;\n",
       "    }\n",
       "</style>\n",
       "<table border=\"1\" class=\"dataframe\">\n",
       "  <thead>\n",
       "    <tr style=\"text-align: right;\">\n",
       "      <th></th>\n",
       "      <th>df_resid</th>\n",
       "      <th>ssr</th>\n",
       "      <th>df_diff</th>\n",
       "      <th>ss_diff</th>\n",
       "      <th>F</th>\n",
       "      <th>Pr(&gt;F)</th>\n",
       "    </tr>\n",
       "  </thead>\n",
       "  <tbody>\n",
       "    <tr>\n",
       "      <th>house1</th>\n",
       "      <td>2619.0</td>\n",
       "      <td>4.922389e+06</td>\n",
       "      <td>0.0</td>\n",
       "      <td>NaN</td>\n",
       "      <td>NaN</td>\n",
       "      <td>NaN</td>\n",
       "    </tr>\n",
       "    <tr>\n",
       "      <th>house2</th>\n",
       "      <td>2618.0</td>\n",
       "      <td>4.884872e+06</td>\n",
       "      <td>1.0</td>\n",
       "      <td>37517.437605</td>\n",
       "      <td>20.039049</td>\n",
       "      <td>7.912333e-06</td>\n",
       "    </tr>\n",
       "    <tr>\n",
       "      <th>house3</th>\n",
       "      <td>2612.0</td>\n",
       "      <td>4.619926e+06</td>\n",
       "      <td>6.0</td>\n",
       "      <td>264945.539994</td>\n",
       "      <td>23.585728</td>\n",
       "      <td>2.754431e-27</td>\n",
       "    </tr>\n",
       "    <tr>\n",
       "      <th>house4</th>\n",
       "      <td>2609.0</td>\n",
       "      <td>4.576671e+06</td>\n",
       "      <td>3.0</td>\n",
       "      <td>43255.441192</td>\n",
       "      <td>7.701289</td>\n",
       "      <td>4.025581e-05</td>\n",
       "    </tr>\n",
       "    <tr>\n",
       "      <th>house5</th>\n",
       "      <td>2618.0</td>\n",
       "      <td>4.901463e+06</td>\n",
       "      <td>-9.0</td>\n",
       "      <td>-324791.847907</td>\n",
       "      <td>19.275539</td>\n",
       "      <td>NaN</td>\n",
       "    </tr>\n",
       "  </tbody>\n",
       "</table>\n",
       "</div>"
      ],
      "text/plain": [
       "        df_resid           ssr  df_diff        ss_diff          F  \\\n",
       "house1    2619.0  4.922389e+06      0.0            NaN        NaN   \n",
       "house2    2618.0  4.884872e+06      1.0   37517.437605  20.039049   \n",
       "house3    2612.0  4.619926e+06      6.0  264945.539994  23.585728   \n",
       "house4    2609.0  4.576671e+06      3.0   43255.441192   7.701289   \n",
       "house5    2618.0  4.901463e+06     -9.0 -324791.847907  19.275539   \n",
       "\n",
       "              Pr(>F)  \n",
       "house1           NaN  \n",
       "house2  7.912333e-06  \n",
       "house3  2.754431e-27  \n",
       "house4  4.025581e-05  \n",
       "house5           NaN  "
      ]
     },
     "execution_count": 46,
     "metadata": {},
     "output_type": "execute_result"
    }
   ],
   "source": [
    "model_names = [\"house1\", \"house2\", \"house3\", \"house4\", \"house5\"]\n",
    "house_anova = statsmodels.stats.anova.anova_lm(\n",
    "    house1, house2, house3, house4, house5\n",
    ")\n",
    "\n",
    "house_anova.index = model_names\n",
    "\n",
    "house_anova"
   ]
  },
  {
   "cell_type": "markdown",
   "metadata": {},
   "source": [
    "### AICを用いてモデルを評価する"
   ]
  },
  {
   "cell_type": "code",
   "execution_count": 47,
   "metadata": {},
   "outputs": [
    {
     "data": {
      "text/html": [
       "<div>\n",
       "<style scoped>\n",
       "    .dataframe tbody tr th:only-of-type {\n",
       "        vertical-align: middle;\n",
       "    }\n",
       "\n",
       "    .dataframe tbody tr th {\n",
       "        vertical-align: top;\n",
       "    }\n",
       "\n",
       "    .dataframe thead th {\n",
       "        text-align: right;\n",
       "    }\n",
       "</style>\n",
       "<table border=\"1\" class=\"dataframe\">\n",
       "  <thead>\n",
       "    <tr style=\"text-align: right;\">\n",
       "      <th></th>\n",
       "      <th>model</th>\n",
       "      <th>aic</th>\n",
       "      <th>bic</th>\n",
       "    </tr>\n",
       "  </thead>\n",
       "  <tbody>\n",
       "    <tr>\n",
       "      <th>3</th>\n",
       "      <td>house4</td>\n",
       "      <td>27084.800043</td>\n",
       "      <td>27184.644733</td>\n",
       "    </tr>\n",
       "    <tr>\n",
       "      <th>2</th>\n",
       "      <td>house3</td>\n",
       "      <td>27103.502577</td>\n",
       "      <td>27185.727615</td>\n",
       "    </tr>\n",
       "    <tr>\n",
       "      <th>1</th>\n",
       "      <td>house2</td>\n",
       "      <td>27237.939618</td>\n",
       "      <td>27284.925354</td>\n",
       "    </tr>\n",
       "    <tr>\n",
       "      <th>4</th>\n",
       "      <td>house5</td>\n",
       "      <td>27246.843392</td>\n",
       "      <td>27293.829128</td>\n",
       "    </tr>\n",
       "    <tr>\n",
       "      <th>0</th>\n",
       "      <td>house1</td>\n",
       "      <td>27256.031113</td>\n",
       "      <td>27297.143632</td>\n",
       "    </tr>\n",
       "  </tbody>\n",
       "</table>\n",
       "</div>"
      ],
      "text/plain": [
       "    model           aic           bic\n",
       "3  house4  27084.800043  27184.644733\n",
       "2  house3  27103.502577  27185.727615\n",
       "1  house2  27237.939618  27284.925354\n",
       "4  house5  27246.843392  27293.829128\n",
       "0  house1  27256.031113  27297.143632"
      ]
     },
     "execution_count": 47,
     "metadata": {},
     "output_type": "execute_result"
    }
   ],
   "source": [
    "house_models = [house1, house2, house3, house4, house5]\n",
    "\n",
    "abic = pd.DataFrame({\n",
    "    \"model\": model_names,\n",
    "    \"aic\": [mod.aic for mod in house_models],\n",
    "    \"bic\": [mod.bic for mod in house_models]\n",
    "})\n",
    "\n",
    "abic.sort_values(by = [\"aic\", \"bic\"])"
   ]
  }
 ],
 "metadata": {
  "kernelspec": {
   "display_name": "Python 3",
   "language": "python",
   "name": "python3"
  },
  "language_info": {
   "codemirror_mode": {
    "name": "ipython",
    "version": 3
   },
   "file_extension": ".py",
   "mimetype": "text/x-python",
   "name": "python",
   "nbconvert_exporter": "python",
   "pygments_lexer": "ipython3",
   "version": "3.11.4"
  }
 },
 "nbformat": 4,
 "nbformat_minor": 2
}
