{
 "cells": [
  {
   "cell_type": "markdown",
   "metadata": {},
   "source": [
    "## 4.3 行と列の両方に変数があるとき\n",
    "Pivotテーブルの列に複数の変数が格納されている場合"
   ]
  },
  {
   "cell_type": "code",
   "execution_count": 3,
   "metadata": {},
   "outputs": [
    {
     "data": {
      "text/plain": [
       "polars.config.Config"
      ]
     },
     "execution_count": 3,
     "metadata": {},
     "output_type": "execute_result"
    }
   ],
   "source": [
    "import polars as pl\n",
    "pl.Config.set_tbl_cols(-1)# 列が省略されないようにする"
   ]
  },
  {
   "cell_type": "markdown",
   "metadata": {},
   "source": [
    "### データを読み込む"
   ]
  },
  {
   "cell_type": "code",
   "execution_count": 4,
   "metadata": {},
   "outputs": [
    {
     "data": {
      "text/html": [
       "<div><style>\n",
       ".dataframe > thead > tr,\n",
       ".dataframe > tbody > tr {\n",
       "  text-align: right;\n",
       "  white-space: pre-wrap;\n",
       "}\n",
       "</style>\n",
       "<small>shape: (5, 35)</small><table border=\"1\" class=\"dataframe\"><thead><tr><th>id</th><th>year</th><th>month</th><th>element</th><th>d1</th><th>d2</th><th>d3</th><th>d4</th><th>d5</th><th>d6</th><th>d7</th><th>d8</th><th>d9</th><th>d10</th><th>d11</th><th>d12</th><th>d13</th><th>d14</th><th>d15</th><th>d16</th><th>d17</th><th>d18</th><th>d19</th><th>d20</th><th>d21</th><th>d22</th><th>d23</th><th>d24</th><th>d25</th><th>d26</th><th>d27</th><th>d28</th><th>d29</th><th>d30</th><th>d31</th></tr><tr><td>str</td><td>i64</td><td>i64</td><td>str</td><td>str</td><td>str</td><td>str</td><td>str</td><td>str</td><td>str</td><td>str</td><td>str</td><td>str</td><td>str</td><td>str</td><td>str</td><td>str</td><td>str</td><td>str</td><td>str</td><td>str</td><td>str</td><td>str</td><td>str</td><td>str</td><td>str</td><td>str</td><td>str</td><td>str</td><td>str</td><td>str</td><td>str</td><td>str</td><td>str</td><td>str</td></tr></thead><tbody><tr><td>&quot;MX17004&quot;</td><td>2010</td><td>1</td><td>&quot;tmax&quot;</td><td>&quot;NA&quot;</td><td>&quot;NA&quot;</td><td>&quot;NA&quot;</td><td>&quot;NA&quot;</td><td>&quot;NA&quot;</td><td>&quot;NA&quot;</td><td>&quot;NA&quot;</td><td>&quot;NA&quot;</td><td>&quot;NA&quot;</td><td>&quot;NA&quot;</td><td>&quot;NA&quot;</td><td>&quot;NA&quot;</td><td>&quot;NA&quot;</td><td>&quot;NA&quot;</td><td>&quot;NA&quot;</td><td>&quot;NA&quot;</td><td>&quot;NA&quot;</td><td>&quot;NA&quot;</td><td>&quot;NA&quot;</td><td>&quot;NA&quot;</td><td>&quot;NA&quot;</td><td>&quot;NA&quot;</td><td>&quot;NA&quot;</td><td>&quot;NA&quot;</td><td>&quot;NA&quot;</td><td>&quot;NA&quot;</td><td>&quot;NA&quot;</td><td>&quot;NA&quot;</td><td>&quot;NA&quot;</td><td>&quot;27.8&quot;</td><td>&quot;NA&quot;</td></tr><tr><td>&quot;MX17004&quot;</td><td>2010</td><td>1</td><td>&quot;tmin&quot;</td><td>&quot;NA&quot;</td><td>&quot;NA&quot;</td><td>&quot;NA&quot;</td><td>&quot;NA&quot;</td><td>&quot;NA&quot;</td><td>&quot;NA&quot;</td><td>&quot;NA&quot;</td><td>&quot;NA&quot;</td><td>&quot;NA&quot;</td><td>&quot;NA&quot;</td><td>&quot;NA&quot;</td><td>&quot;NA&quot;</td><td>&quot;NA&quot;</td><td>&quot;NA&quot;</td><td>&quot;NA&quot;</td><td>&quot;NA&quot;</td><td>&quot;NA&quot;</td><td>&quot;NA&quot;</td><td>&quot;NA&quot;</td><td>&quot;NA&quot;</td><td>&quot;NA&quot;</td><td>&quot;NA&quot;</td><td>&quot;NA&quot;</td><td>&quot;NA&quot;</td><td>&quot;NA&quot;</td><td>&quot;NA&quot;</td><td>&quot;NA&quot;</td><td>&quot;NA&quot;</td><td>&quot;NA&quot;</td><td>&quot;14.5&quot;</td><td>&quot;NA&quot;</td></tr><tr><td>&quot;MX17004&quot;</td><td>2010</td><td>2</td><td>&quot;tmax&quot;</td><td>&quot;NA&quot;</td><td>&quot;27.3&quot;</td><td>&quot;24.1&quot;</td><td>&quot;NA&quot;</td><td>&quot;NA&quot;</td><td>&quot;NA&quot;</td><td>&quot;NA&quot;</td><td>&quot;NA&quot;</td><td>&quot;NA&quot;</td><td>&quot;NA&quot;</td><td>&quot;29.7&quot;</td><td>&quot;NA&quot;</td><td>&quot;NA&quot;</td><td>&quot;NA&quot;</td><td>&quot;NA&quot;</td><td>&quot;NA&quot;</td><td>&quot;NA&quot;</td><td>&quot;NA&quot;</td><td>&quot;NA&quot;</td><td>&quot;NA&quot;</td><td>&quot;NA&quot;</td><td>&quot;NA&quot;</td><td>&quot;29.9&quot;</td><td>&quot;NA&quot;</td><td>&quot;NA&quot;</td><td>&quot;NA&quot;</td><td>&quot;NA&quot;</td><td>&quot;NA&quot;</td><td>&quot;NA&quot;</td><td>&quot;NA&quot;</td><td>&quot;NA&quot;</td></tr><tr><td>&quot;MX17004&quot;</td><td>2010</td><td>2</td><td>&quot;tmin&quot;</td><td>&quot;NA&quot;</td><td>&quot;14.4&quot;</td><td>&quot;14.4&quot;</td><td>&quot;NA&quot;</td><td>&quot;NA&quot;</td><td>&quot;NA&quot;</td><td>&quot;NA&quot;</td><td>&quot;NA&quot;</td><td>&quot;NA&quot;</td><td>&quot;NA&quot;</td><td>&quot;13.4&quot;</td><td>&quot;NA&quot;</td><td>&quot;NA&quot;</td><td>&quot;NA&quot;</td><td>&quot;NA&quot;</td><td>&quot;NA&quot;</td><td>&quot;NA&quot;</td><td>&quot;NA&quot;</td><td>&quot;NA&quot;</td><td>&quot;NA&quot;</td><td>&quot;NA&quot;</td><td>&quot;NA&quot;</td><td>&quot;10.7&quot;</td><td>&quot;NA&quot;</td><td>&quot;NA&quot;</td><td>&quot;NA&quot;</td><td>&quot;NA&quot;</td><td>&quot;NA&quot;</td><td>&quot;NA&quot;</td><td>&quot;NA&quot;</td><td>&quot;NA&quot;</td></tr><tr><td>&quot;MX17004&quot;</td><td>2010</td><td>3</td><td>&quot;tmax&quot;</td><td>&quot;NA&quot;</td><td>&quot;NA&quot;</td><td>&quot;NA&quot;</td><td>&quot;NA&quot;</td><td>&quot;32.1&quot;</td><td>&quot;NA&quot;</td><td>&quot;NA&quot;</td><td>&quot;NA&quot;</td><td>&quot;NA&quot;</td><td>&quot;34.5&quot;</td><td>&quot;NA&quot;</td><td>&quot;NA&quot;</td><td>&quot;NA&quot;</td><td>&quot;NA&quot;</td><td>&quot;NA&quot;</td><td>&quot;31.1&quot;</td><td>&quot;NA&quot;</td><td>&quot;NA&quot;</td><td>&quot;NA&quot;</td><td>&quot;NA&quot;</td><td>&quot;NA&quot;</td><td>&quot;NA&quot;</td><td>&quot;NA&quot;</td><td>&quot;NA&quot;</td><td>&quot;NA&quot;</td><td>&quot;NA&quot;</td><td>&quot;NA&quot;</td><td>&quot;NA&quot;</td><td>&quot;NA&quot;</td><td>&quot;NA&quot;</td><td>&quot;NA&quot;</td></tr></tbody></table></div>"
      ],
      "text/plain": [
       "shape: (5, 35)\n",
       "┌─────┬─────┬─────┬─────┬─────┬─────┬─────┬─────┬─────┬─────┬─────┬─────┬─────┬─────┬─────┬─────┬─────┬─────┬─────┬─────┬─────┬─────┬─────┬─────┬─────┬─────┬─────┬─────┬─────┬─────┬─────┬─────┬─────┬─────┬─────┐\n",
       "│ id  ┆ yea ┆ mon ┆ ele ┆ d1  ┆ d2  ┆ d3  ┆ d4  ┆ d5  ┆ d6  ┆ d7  ┆ d8  ┆ d9  ┆ d10 ┆ d11 ┆ d12 ┆ d13 ┆ d14 ┆ d15 ┆ d16 ┆ d17 ┆ d18 ┆ d19 ┆ d20 ┆ d21 ┆ d22 ┆ d23 ┆ d24 ┆ d25 ┆ d26 ┆ d27 ┆ d28 ┆ d29 ┆ d30 ┆ d31 │\n",
       "│ --- ┆ r   ┆ th  ┆ men ┆ --- ┆ --- ┆ --- ┆ --- ┆ --- ┆ --- ┆ --- ┆ --- ┆ --- ┆ --- ┆ --- ┆ --- ┆ --- ┆ --- ┆ --- ┆ --- ┆ --- ┆ --- ┆ --- ┆ --- ┆ --- ┆ --- ┆ --- ┆ --- ┆ --- ┆ --- ┆ --- ┆ --- ┆ --- ┆ --- ┆ --- │\n",
       "│ str ┆ --- ┆ --- ┆ t   ┆ str ┆ str ┆ str ┆ str ┆ str ┆ str ┆ str ┆ str ┆ str ┆ str ┆ str ┆ str ┆ str ┆ str ┆ str ┆ str ┆ str ┆ str ┆ str ┆ str ┆ str ┆ str ┆ str ┆ str ┆ str ┆ str ┆ str ┆ str ┆ str ┆ str ┆ str │\n",
       "│     ┆ i64 ┆ i64 ┆ --- ┆     ┆     ┆     ┆     ┆     ┆     ┆     ┆     ┆     ┆     ┆     ┆     ┆     ┆     ┆     ┆     ┆     ┆     ┆     ┆     ┆     ┆     ┆     ┆     ┆     ┆     ┆     ┆     ┆     ┆     ┆     │\n",
       "│     ┆     ┆     ┆ str ┆     ┆     ┆     ┆     ┆     ┆     ┆     ┆     ┆     ┆     ┆     ┆     ┆     ┆     ┆     ┆     ┆     ┆     ┆     ┆     ┆     ┆     ┆     ┆     ┆     ┆     ┆     ┆     ┆     ┆     ┆     │\n",
       "╞═════╪═════╪═════╪═════╪═════╪═════╪═════╪═════╪═════╪═════╪═════╪═════╪═════╪═════╪═════╪═════╪═════╪═════╪═════╪═════╪═════╪═════╪═════╪═════╪═════╪═════╪═════╪═════╪═════╪═════╪═════╪═════╪═════╪═════╪═════╡\n",
       "│ MX1 ┆ 201 ┆ 1   ┆ tma ┆ NA  ┆ NA  ┆ NA  ┆ NA  ┆ NA  ┆ NA  ┆ NA  ┆ NA  ┆ NA  ┆ NA  ┆ NA  ┆ NA  ┆ NA  ┆ NA  ┆ NA  ┆ NA  ┆ NA  ┆ NA  ┆ NA  ┆ NA  ┆ NA  ┆ NA  ┆ NA  ┆ NA  ┆ NA  ┆ NA  ┆ NA  ┆ NA  ┆ NA  ┆ 27. ┆ NA  │\n",
       "│ 700 ┆ 0   ┆     ┆ x   ┆     ┆     ┆     ┆     ┆     ┆     ┆     ┆     ┆     ┆     ┆     ┆     ┆     ┆     ┆     ┆     ┆     ┆     ┆     ┆     ┆     ┆     ┆     ┆     ┆     ┆     ┆     ┆     ┆     ┆ 8   ┆     │\n",
       "│ 4   ┆     ┆     ┆     ┆     ┆     ┆     ┆     ┆     ┆     ┆     ┆     ┆     ┆     ┆     ┆     ┆     ┆     ┆     ┆     ┆     ┆     ┆     ┆     ┆     ┆     ┆     ┆     ┆     ┆     ┆     ┆     ┆     ┆     ┆     │\n",
       "│ MX1 ┆ 201 ┆ 1   ┆ tmi ┆ NA  ┆ NA  ┆ NA  ┆ NA  ┆ NA  ┆ NA  ┆ NA  ┆ NA  ┆ NA  ┆ NA  ┆ NA  ┆ NA  ┆ NA  ┆ NA  ┆ NA  ┆ NA  ┆ NA  ┆ NA  ┆ NA  ┆ NA  ┆ NA  ┆ NA  ┆ NA  ┆ NA  ┆ NA  ┆ NA  ┆ NA  ┆ NA  ┆ NA  ┆ 14. ┆ NA  │\n",
       "│ 700 ┆ 0   ┆     ┆ n   ┆     ┆     ┆     ┆     ┆     ┆     ┆     ┆     ┆     ┆     ┆     ┆     ┆     ┆     ┆     ┆     ┆     ┆     ┆     ┆     ┆     ┆     ┆     ┆     ┆     ┆     ┆     ┆     ┆     ┆ 5   ┆     │\n",
       "│ 4   ┆     ┆     ┆     ┆     ┆     ┆     ┆     ┆     ┆     ┆     ┆     ┆     ┆     ┆     ┆     ┆     ┆     ┆     ┆     ┆     ┆     ┆     ┆     ┆     ┆     ┆     ┆     ┆     ┆     ┆     ┆     ┆     ┆     ┆     │\n",
       "│ MX1 ┆ 201 ┆ 2   ┆ tma ┆ NA  ┆ 27. ┆ 24. ┆ NA  ┆ NA  ┆ NA  ┆ NA  ┆ NA  ┆ NA  ┆ NA  ┆ 29. ┆ NA  ┆ NA  ┆ NA  ┆ NA  ┆ NA  ┆ NA  ┆ NA  ┆ NA  ┆ NA  ┆ NA  ┆ NA  ┆ 29. ┆ NA  ┆ NA  ┆ NA  ┆ NA  ┆ NA  ┆ NA  ┆ NA  ┆ NA  │\n",
       "│ 700 ┆ 0   ┆     ┆ x   ┆     ┆ 3   ┆ 1   ┆     ┆     ┆     ┆     ┆     ┆     ┆     ┆ 7   ┆     ┆     ┆     ┆     ┆     ┆     ┆     ┆     ┆     ┆     ┆     ┆ 9   ┆     ┆     ┆     ┆     ┆     ┆     ┆     ┆     │\n",
       "│ 4   ┆     ┆     ┆     ┆     ┆     ┆     ┆     ┆     ┆     ┆     ┆     ┆     ┆     ┆     ┆     ┆     ┆     ┆     ┆     ┆     ┆     ┆     ┆     ┆     ┆     ┆     ┆     ┆     ┆     ┆     ┆     ┆     ┆     ┆     │\n",
       "│ MX1 ┆ 201 ┆ 2   ┆ tmi ┆ NA  ┆ 14. ┆ 14. ┆ NA  ┆ NA  ┆ NA  ┆ NA  ┆ NA  ┆ NA  ┆ NA  ┆ 13. ┆ NA  ┆ NA  ┆ NA  ┆ NA  ┆ NA  ┆ NA  ┆ NA  ┆ NA  ┆ NA  ┆ NA  ┆ NA  ┆ 10. ┆ NA  ┆ NA  ┆ NA  ┆ NA  ┆ NA  ┆ NA  ┆ NA  ┆ NA  │\n",
       "│ 700 ┆ 0   ┆     ┆ n   ┆     ┆ 4   ┆ 4   ┆     ┆     ┆     ┆     ┆     ┆     ┆     ┆ 4   ┆     ┆     ┆     ┆     ┆     ┆     ┆     ┆     ┆     ┆     ┆     ┆ 7   ┆     ┆     ┆     ┆     ┆     ┆     ┆     ┆     │\n",
       "│ 4   ┆     ┆     ┆     ┆     ┆     ┆     ┆     ┆     ┆     ┆     ┆     ┆     ┆     ┆     ┆     ┆     ┆     ┆     ┆     ┆     ┆     ┆     ┆     ┆     ┆     ┆     ┆     ┆     ┆     ┆     ┆     ┆     ┆     ┆     │\n",
       "│ MX1 ┆ 201 ┆ 3   ┆ tma ┆ NA  ┆ NA  ┆ NA  ┆ NA  ┆ 32. ┆ NA  ┆ NA  ┆ NA  ┆ NA  ┆ 34. ┆ NA  ┆ NA  ┆ NA  ┆ NA  ┆ NA  ┆ 31. ┆ NA  ┆ NA  ┆ NA  ┆ NA  ┆ NA  ┆ NA  ┆ NA  ┆ NA  ┆ NA  ┆ NA  ┆ NA  ┆ NA  ┆ NA  ┆ NA  ┆ NA  │\n",
       "│ 700 ┆ 0   ┆     ┆ x   ┆     ┆     ┆     ┆     ┆ 1   ┆     ┆     ┆     ┆     ┆ 5   ┆     ┆     ┆     ┆     ┆     ┆ 1   ┆     ┆     ┆     ┆     ┆     ┆     ┆     ┆     ┆     ┆     ┆     ┆     ┆     ┆     ┆     │\n",
       "│ 4   ┆     ┆     ┆     ┆     ┆     ┆     ┆     ┆     ┆     ┆     ┆     ┆     ┆     ┆     ┆     ┆     ┆     ┆     ┆     ┆     ┆     ┆     ┆     ┆     ┆     ┆     ┆     ┆     ┆     ┆     ┆     ┆     ┆     ┆     │\n",
       "└─────┴─────┴─────┴─────┴─────┴─────┴─────┴─────┴─────┴─────┴─────┴─────┴─────┴─────┴─────┴─────┴─────┴─────┴─────┴─────┴─────┴─────┴─────┴─────┴─────┴─────┴─────┴─────┴─────┴─────┴─────┴─────┴─────┴─────┴─────┘"
      ]
     },
     "execution_count": 4,
     "metadata": {},
     "output_type": "execute_result"
    }
   ],
   "source": [
    "weather = pl.read_csv(\"../data/weather.csv\")\n",
    "weather.head()"
   ]
  },
  {
   "cell_type": "markdown",
   "metadata": {},
   "source": [
    "### データを成形する"
   ]
  },
  {
   "cell_type": "markdown",
   "metadata": {},
   "source": [
    "#### 列名を縦持ちに変換する"
   ]
  },
  {
   "cell_type": "code",
   "execution_count": 5,
   "metadata": {},
   "outputs": [
    {
     "data": {
      "text/html": [
       "<div><style>\n",
       ".dataframe > thead > tr,\n",
       ".dataframe > tbody > tr {\n",
       "  text-align: right;\n",
       "  white-space: pre-wrap;\n",
       "}\n",
       "</style>\n",
       "<small>shape: (5, 6)</small><table border=\"1\" class=\"dataframe\"><thead><tr><th>id</th><th>year</th><th>month</th><th>element</th><th>day</th><th>temp</th></tr><tr><td>str</td><td>i64</td><td>i64</td><td>str</td><td>str</td><td>str</td></tr></thead><tbody><tr><td>&quot;MX17004&quot;</td><td>2010</td><td>1</td><td>&quot;tmax&quot;</td><td>&quot;d1&quot;</td><td>&quot;NA&quot;</td></tr><tr><td>&quot;MX17004&quot;</td><td>2010</td><td>1</td><td>&quot;tmin&quot;</td><td>&quot;d1&quot;</td><td>&quot;NA&quot;</td></tr><tr><td>&quot;MX17004&quot;</td><td>2010</td><td>2</td><td>&quot;tmax&quot;</td><td>&quot;d1&quot;</td><td>&quot;NA&quot;</td></tr><tr><td>&quot;MX17004&quot;</td><td>2010</td><td>2</td><td>&quot;tmin&quot;</td><td>&quot;d1&quot;</td><td>&quot;NA&quot;</td></tr><tr><td>&quot;MX17004&quot;</td><td>2010</td><td>3</td><td>&quot;tmax&quot;</td><td>&quot;d1&quot;</td><td>&quot;NA&quot;</td></tr></tbody></table></div>"
      ],
      "text/plain": [
       "shape: (5, 6)\n",
       "┌─────────┬──────┬───────┬─────────┬─────┬──────┐\n",
       "│ id      ┆ year ┆ month ┆ element ┆ day ┆ temp │\n",
       "│ ---     ┆ ---  ┆ ---   ┆ ---     ┆ --- ┆ ---  │\n",
       "│ str     ┆ i64  ┆ i64   ┆ str     ┆ str ┆ str  │\n",
       "╞═════════╪══════╪═══════╪═════════╪═════╪══════╡\n",
       "│ MX17004 ┆ 2010 ┆ 1     ┆ tmax    ┆ d1  ┆ NA   │\n",
       "│ MX17004 ┆ 2010 ┆ 1     ┆ tmin    ┆ d1  ┆ NA   │\n",
       "│ MX17004 ┆ 2010 ┆ 2     ┆ tmax    ┆ d1  ┆ NA   │\n",
       "│ MX17004 ┆ 2010 ┆ 2     ┆ tmin    ┆ d1  ┆ NA   │\n",
       "│ MX17004 ┆ 2010 ┆ 3     ┆ tmax    ┆ d1  ┆ NA   │\n",
       "└─────────┴──────┴───────┴─────────┴─────┴──────┘"
      ]
     },
     "execution_count": 5,
     "metadata": {},
     "output_type": "execute_result"
    }
   ],
   "source": [
    "weather_melt = (\n",
    "    weather.melt(\n",
    "        id_vars = [\"id\", \"year\", \"month\", \"element\"],\n",
    "        variable_name = \"day\",\n",
    "        value_name = \"temp\"\n",
    "        )\n",
    ")\n",
    "weather_melt.head()"
   ]
  },
  {
   "cell_type": "markdown",
   "metadata": {},
   "source": [
    "#### 複数の変数が格納されている列を横持にする"
   ]
  },
  {
   "cell_type": "code",
   "execution_count": 6,
   "metadata": {},
   "outputs": [
    {
     "data": {
      "text/html": [
       "<div><style>\n",
       ".dataframe > thead > tr,\n",
       ".dataframe > tbody > tr {\n",
       "  text-align: right;\n",
       "  white-space: pre-wrap;\n",
       "}\n",
       "</style>\n",
       "<small>shape: (5, 6)</small><table border=\"1\" class=\"dataframe\"><thead><tr><th>id</th><th>year</th><th>month</th><th>day</th><th>tmax</th><th>tmin</th></tr><tr><td>str</td><td>i64</td><td>i64</td><td>str</td><td>str</td><td>str</td></tr></thead><tbody><tr><td>&quot;MX17004&quot;</td><td>2010</td><td>1</td><td>&quot;d1&quot;</td><td>&quot;NA&quot;</td><td>&quot;NA&quot;</td></tr><tr><td>&quot;MX17004&quot;</td><td>2010</td><td>2</td><td>&quot;d1&quot;</td><td>&quot;NA&quot;</td><td>&quot;NA&quot;</td></tr><tr><td>&quot;MX17004&quot;</td><td>2010</td><td>3</td><td>&quot;d1&quot;</td><td>&quot;NA&quot;</td><td>&quot;NA&quot;</td></tr><tr><td>&quot;MX17004&quot;</td><td>2010</td><td>4</td><td>&quot;d1&quot;</td><td>&quot;NA&quot;</td><td>&quot;NA&quot;</td></tr><tr><td>&quot;MX17004&quot;</td><td>2010</td><td>5</td><td>&quot;d1&quot;</td><td>&quot;NA&quot;</td><td>&quot;NA&quot;</td></tr></tbody></table></div>"
      ],
      "text/plain": [
       "shape: (5, 6)\n",
       "┌─────────┬──────┬───────┬─────┬──────┬──────┐\n",
       "│ id      ┆ year ┆ month ┆ day ┆ tmax ┆ tmin │\n",
       "│ ---     ┆ ---  ┆ ---   ┆ --- ┆ ---  ┆ ---  │\n",
       "│ str     ┆ i64  ┆ i64   ┆ str ┆ str  ┆ str  │\n",
       "╞═════════╪══════╪═══════╪═════╪══════╪══════╡\n",
       "│ MX17004 ┆ 2010 ┆ 1     ┆ d1  ┆ NA   ┆ NA   │\n",
       "│ MX17004 ┆ 2010 ┆ 2     ┆ d1  ┆ NA   ┆ NA   │\n",
       "│ MX17004 ┆ 2010 ┆ 3     ┆ d1  ┆ NA   ┆ NA   │\n",
       "│ MX17004 ┆ 2010 ┆ 4     ┆ d1  ┆ NA   ┆ NA   │\n",
       "│ MX17004 ┆ 2010 ┆ 5     ┆ d1  ┆ NA   ┆ NA   │\n",
       "└─────────┴──────┴───────┴─────┴──────┴──────┘"
      ]
     },
     "execution_count": 6,
     "metadata": {},
     "output_type": "execute_result"
    }
   ],
   "source": [
    "weather_tidy = (\n",
    "    weather_melt.pivot(\n",
    "        index = [\"id\", \"year\", \"month\", \"day\"],\n",
    "        columns = \"element\",\n",
    "        values = \"temp\"\n",
    "        )\n",
    ")\n",
    "weather_tidy.head()"
   ]
  },
  {
   "cell_type": "markdown",
   "metadata": {},
   "source": [
    "### パイプラインを作成する"
   ]
  },
  {
   "cell_type": "code",
   "execution_count": 7,
   "metadata": {},
   "outputs": [
    {
     "data": {
      "text/html": [
       "<div><style>\n",
       ".dataframe > thead > tr,\n",
       ".dataframe > tbody > tr {\n",
       "  text-align: right;\n",
       "  white-space: pre-wrap;\n",
       "}\n",
       "</style>\n",
       "<small>shape: (5, 6)</small><table border=\"1\" class=\"dataframe\"><thead><tr><th>id</th><th>year</th><th>month</th><th>day</th><th>tmax</th><th>tmin</th></tr><tr><td>str</td><td>i64</td><td>i64</td><td>str</td><td>str</td><td>str</td></tr></thead><tbody><tr><td>&quot;MX17004&quot;</td><td>2010</td><td>1</td><td>&quot;d1&quot;</td><td>&quot;NA&quot;</td><td>&quot;NA&quot;</td></tr><tr><td>&quot;MX17004&quot;</td><td>2010</td><td>2</td><td>&quot;d1&quot;</td><td>&quot;NA&quot;</td><td>&quot;NA&quot;</td></tr><tr><td>&quot;MX17004&quot;</td><td>2010</td><td>3</td><td>&quot;d1&quot;</td><td>&quot;NA&quot;</td><td>&quot;NA&quot;</td></tr><tr><td>&quot;MX17004&quot;</td><td>2010</td><td>4</td><td>&quot;d1&quot;</td><td>&quot;NA&quot;</td><td>&quot;NA&quot;</td></tr><tr><td>&quot;MX17004&quot;</td><td>2010</td><td>5</td><td>&quot;d1&quot;</td><td>&quot;NA&quot;</td><td>&quot;NA&quot;</td></tr></tbody></table></div>"
      ],
      "text/plain": [
       "shape: (5, 6)\n",
       "┌─────────┬──────┬───────┬─────┬──────┬──────┐\n",
       "│ id      ┆ year ┆ month ┆ day ┆ tmax ┆ tmin │\n",
       "│ ---     ┆ ---  ┆ ---   ┆ --- ┆ ---  ┆ ---  │\n",
       "│ str     ┆ i64  ┆ i64   ┆ str ┆ str  ┆ str  │\n",
       "╞═════════╪══════╪═══════╪═════╪══════╪══════╡\n",
       "│ MX17004 ┆ 2010 ┆ 1     ┆ d1  ┆ NA   ┆ NA   │\n",
       "│ MX17004 ┆ 2010 ┆ 2     ┆ d1  ┆ NA   ┆ NA   │\n",
       "│ MX17004 ┆ 2010 ┆ 3     ┆ d1  ┆ NA   ┆ NA   │\n",
       "│ MX17004 ┆ 2010 ┆ 4     ┆ d1  ┆ NA   ┆ NA   │\n",
       "│ MX17004 ┆ 2010 ┆ 5     ┆ d1  ┆ NA   ┆ NA   │\n",
       "└─────────┴──────┴───────┴─────┴──────┴──────┘"
      ]
     },
     "execution_count": 7,
     "metadata": {},
     "output_type": "execute_result"
    }
   ],
   "source": [
    "import polars as pl\n",
    "\n",
    "# データを読み込む\n",
    "weather = pl.read_csv(\"../data/weather.csv\")\n",
    "\n",
    "weather_tidy = (\n",
    "    weather\n",
    "    # 縦持ちに変換する\n",
    "    .melt(\n",
    "        id_vars = [\"id\", \"year\", \"month\", \"element\"],\n",
    "        variable_name = \"day\",\n",
    "        value_name = \"temp\")\n",
    "    # 複数の変数が格納されている列を横持にする\n",
    "    .pivot(\n",
    "        index = [\"id\", \"year\", \"month\", \"day\"],\n",
    "        columns = \"element\",\n",
    "        values = \"temp\")\n",
    ")\n",
    "\n",
    "weather_tidy.head()"
   ]
  }
 ],
 "metadata": {
  "kernelspec": {
   "display_name": "Python 3",
   "language": "python",
   "name": "python3"
  },
  "language_info": {
   "codemirror_mode": {
    "name": "ipython",
    "version": 3
   },
   "file_extension": ".py",
   "mimetype": "text/x-python",
   "name": "python",
   "nbconvert_exporter": "python",
   "pygments_lexer": "ipython3",
   "version": "3.11.4"
  }
 },
 "nbformat": 4,
 "nbformat_minor": 2
}
