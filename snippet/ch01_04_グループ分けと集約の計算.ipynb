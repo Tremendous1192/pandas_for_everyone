{
 "cells": [
  {
   "cell_type": "markdown",
   "metadata": {},
   "source": [
    "## 1.4 グループ分けと集約の計算"
   ]
  },
  {
   "cell_type": "code",
   "execution_count": null,
   "metadata": {},
   "outputs": [],
   "source": [
    "import polars as pl"
   ]
  },
  {
   "cell_type": "markdown",
   "metadata": {},
   "source": [
    "### データを読み込む"
   ]
  },
  {
   "cell_type": "code",
   "execution_count": null,
   "metadata": {},
   "outputs": [],
   "source": [
    "gapminder = pl.read_csv(\"../data/gapminder.tsv\", separator = \"\\t\")\n",
    "gapminder.head()"
   ]
  },
  {
   "cell_type": "markdown",
   "metadata": {},
   "source": [
    "### 集計する"
   ]
  },
  {
   "cell_type": "code",
   "execution_count": null,
   "metadata": {},
   "outputs": [],
   "source": [
    "# 年度ごとの平均余命\n",
    "# polarsは計算速度を上げるために行の順番がshuffleされることがあるので、maintain_order = True が必要\n",
    "(\n",
    "    gapminder\n",
    "    .group_by(by = [\"year\"], maintain_order = True)\n",
    "    .agg( pl.mean(\"lifeExp\") )\n",
    ")"
   ]
  },
  {
   "cell_type": "code",
   "execution_count": null,
   "metadata": {},
   "outputs": [],
   "source": [
    "# 集約DataFrameのデータ型\n",
    "gapminder.group_by(by = [\"year\"], maintain_order = True)"
   ]
  },
  {
   "cell_type": "code",
   "execution_count": null,
   "metadata": {},
   "outputs": [],
   "source": [
    "# 年度ごとの平均余命\n",
    "(\n",
    "    gapminder\n",
    "    .group_by(by = [\"year\"], maintain_order = True)\n",
    "    .mean()[[\"year\", \"lifeExp\"]]\n",
    ")\n"
   ]
  },
  {
   "cell_type": "code",
   "execution_count": null,
   "metadata": {},
   "outputs": [],
   "source": [
    "# 年度ごとの平均余命と平均GDP\n",
    "(\n",
    "    gapminder\n",
    "    .group_by(by = [\"year\"], maintain_order = True)\n",
    "    .mean()[[\"year\", \"lifeExp\", \"gdpPercap\"]]\n",
    ")"
   ]
  },
  {
   "cell_type": "code",
   "execution_count": null,
   "metadata": {},
   "outputs": [],
   "source": [
    "# 大陸別の国の数\n",
    "(\n",
    "    gapminder\n",
    "    .group_by(by = \"continent\", maintain_order = True)\n",
    "    .n_unique()[[\"continent\", \"country\"]]\n",
    ")"
   ]
  }
 ],
 "metadata": {
  "kernelspec": {
   "display_name": "Python 3",
   "language": "python",
   "name": "python3"
  },
  "language_info": {
   "codemirror_mode": {
    "name": "ipython",
    "version": 3
   },
   "file_extension": ".py",
   "mimetype": "text/x-python",
   "name": "python",
   "nbconvert_exporter": "python",
   "pygments_lexer": "ipython3",
   "version": "3.11.4"
  }
 },
 "nbformat": 4,
 "nbformat_minor": 2
}
