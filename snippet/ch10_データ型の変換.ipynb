{
 "cells": [
  {
   "cell_type": "markdown",
   "metadata": {},
   "source": [
    "# 第10章 データ型"
   ]
  },
  {
   "cell_type": "code",
   "execution_count": 8,
   "metadata": {},
   "outputs": [
    {
     "data": {
      "text/plain": [
       "polars.config.Config"
      ]
     },
     "execution_count": 8,
     "metadata": {},
     "output_type": "execute_result"
    }
   ],
   "source": [
    "import polars as pl\n",
    "pl.Config.set_tbl_cols(-1)# 列が省略されないようにする"
   ]
  },
  {
   "cell_type": "markdown",
   "metadata": {},
   "source": [
    "### データを読み込む"
   ]
  },
  {
   "cell_type": "code",
   "execution_count": 9,
   "metadata": {},
   "outputs": [
    {
     "data": {
      "text/html": [
       "<div><style>\n",
       ".dataframe > thead > tr,\n",
       ".dataframe > tbody > tr {\n",
       "  text-align: right;\n",
       "  white-space: pre-wrap;\n",
       "}\n",
       "</style>\n",
       "<small>shape: (5, 7)</small><table border=\"1\" class=\"dataframe\"><thead><tr><th>total_bill</th><th>tip</th><th>sex</th><th>smoker</th><th>day</th><th>time</th><th>size</th></tr><tr><td>f64</td><td>f64</td><td>cat</td><td>cat</td><td>cat</td><td>cat</td><td>i64</td></tr></thead><tbody><tr><td>16.99</td><td>1.01</td><td>&quot;Female&quot;</td><td>&quot;No&quot;</td><td>&quot;Sun&quot;</td><td>&quot;Dinner&quot;</td><td>2</td></tr><tr><td>10.34</td><td>1.66</td><td>&quot;Male&quot;</td><td>&quot;No&quot;</td><td>&quot;Sun&quot;</td><td>&quot;Dinner&quot;</td><td>3</td></tr><tr><td>21.01</td><td>3.5</td><td>&quot;Male&quot;</td><td>&quot;No&quot;</td><td>&quot;Sun&quot;</td><td>&quot;Dinner&quot;</td><td>3</td></tr><tr><td>23.68</td><td>3.31</td><td>&quot;Male&quot;</td><td>&quot;No&quot;</td><td>&quot;Sun&quot;</td><td>&quot;Dinner&quot;</td><td>2</td></tr><tr><td>24.59</td><td>3.61</td><td>&quot;Female&quot;</td><td>&quot;No&quot;</td><td>&quot;Sun&quot;</td><td>&quot;Dinner&quot;</td><td>4</td></tr></tbody></table></div>"
      ],
      "text/plain": [
       "shape: (5, 7)\n",
       "┌────────────┬──────┬────────┬────────┬─────┬────────┬──────┐\n",
       "│ total_bill ┆ tip  ┆ sex    ┆ smoker ┆ day ┆ time   ┆ size │\n",
       "│ ---        ┆ ---  ┆ ---    ┆ ---    ┆ --- ┆ ---    ┆ ---  │\n",
       "│ f64        ┆ f64  ┆ cat    ┆ cat    ┆ cat ┆ cat    ┆ i64  │\n",
       "╞════════════╪══════╪════════╪════════╪═════╪════════╪══════╡\n",
       "│ 16.99      ┆ 1.01 ┆ Female ┆ No     ┆ Sun ┆ Dinner ┆ 2    │\n",
       "│ 10.34      ┆ 1.66 ┆ Male   ┆ No     ┆ Sun ┆ Dinner ┆ 3    │\n",
       "│ 21.01      ┆ 3.5  ┆ Male   ┆ No     ┆ Sun ┆ Dinner ┆ 3    │\n",
       "│ 23.68      ┆ 3.31 ┆ Male   ┆ No     ┆ Sun ┆ Dinner ┆ 2    │\n",
       "│ 24.59      ┆ 3.61 ┆ Female ┆ No     ┆ Sun ┆ Dinner ┆ 4    │\n",
       "└────────────┴──────┴────────┴────────┴─────┴────────┴──────┘"
      ]
     },
     "execution_count": 9,
     "metadata": {},
     "output_type": "execute_result"
    }
   ],
   "source": [
    "import seaborn as sns\n",
    "\n",
    "tips = pl.DataFrame(sns.load_dataset(\"tips\"))\n",
    "tips.head()"
   ]
  },
  {
   "cell_type": "markdown",
   "metadata": {},
   "source": [
    "### データを変換する"
   ]
  },
  {
   "cell_type": "code",
   "execution_count": 10,
   "metadata": {},
   "outputs": [
    {
     "data": {
      "text/html": [
       "<div><style>\n",
       ".dataframe > thead > tr,\n",
       ".dataframe > tbody > tr {\n",
       "  text-align: right;\n",
       "  white-space: pre-wrap;\n",
       "}\n",
       "</style>\n",
       "<small>shape: (5,)</small><table border=\"1\" class=\"dataframe\"><thead><tr><th>tip</th></tr><tr><td>str</td></tr></thead><tbody><tr><td>&quot;1.01&quot;</td></tr><tr><td>&quot;1.66&quot;</td></tr><tr><td>&quot;3.5&quot;</td></tr><tr><td>&quot;3.31&quot;</td></tr><tr><td>&quot;3.61&quot;</td></tr></tbody></table></div>"
      ],
      "text/plain": [
       "shape: (5,)\n",
       "Series: 'tip' [str]\n",
       "[\n",
       "\t\"1.01\"\n",
       "\t\"1.66\"\n",
       "\t\"3.5\"\n",
       "\t\"3.31\"\n",
       "\t\"3.61\"\n",
       "]"
      ]
     },
     "execution_count": 10,
     "metadata": {},
     "output_type": "execute_result"
    }
   ],
   "source": [
    "# 数値型を文字列に変換する\n",
    "tips[\"tip\"].cast(pl.Utf8).head(n = 5)"
   ]
  },
  {
   "cell_type": "code",
   "execution_count": 11,
   "metadata": {},
   "outputs": [
    {
     "data": {
      "text/html": [
       "<div><style>\n",
       ".dataframe > thead > tr,\n",
       ".dataframe > tbody > tr {\n",
       "  text-align: right;\n",
       "  white-space: pre-wrap;\n",
       "}\n",
       "</style>\n",
       "<small>shape: (5,)</small><table border=\"1\" class=\"dataframe\"><thead><tr><th>total_bill</th></tr><tr><td>f64</td></tr></thead><tbody><tr><td>16.99</td></tr><tr><td>10.34</td></tr><tr><td>21.01</td></tr><tr><td>23.68</td></tr><tr><td>24.59</td></tr></tbody></table></div>"
      ],
      "text/plain": [
       "shape: (5,)\n",
       "Series: 'total_bill' [f64]\n",
       "[\n",
       "\t16.99\n",
       "\t10.34\n",
       "\t21.01\n",
       "\t23.68\n",
       "\t24.59\n",
       "]"
      ]
     },
     "execution_count": 11,
     "metadata": {},
     "output_type": "execute_result"
    }
   ],
   "source": [
    "# 文字列に変換して、もう一度数値に変換する\n",
    "tips[\"total_bill\"].cast(pl.Utf8).cast(pl.Float64).head(n = 5)"
   ]
  },
  {
   "cell_type": "code",
   "execution_count": 13,
   "metadata": {},
   "outputs": [
    {
     "data": {
      "text/html": [
       "<div><style>\n",
       ".dataframe > thead > tr,\n",
       ".dataframe > tbody > tr {\n",
       "  text-align: right;\n",
       "  white-space: pre-wrap;\n",
       "}\n",
       "</style>\n",
       "<small>shape: (5,)</small><table border=\"1\" class=\"dataframe\"><thead><tr><th>size</th></tr><tr><td>cat</td></tr></thead><tbody><tr><td>&quot;2&quot;</td></tr><tr><td>&quot;3&quot;</td></tr><tr><td>&quot;3&quot;</td></tr><tr><td>&quot;2&quot;</td></tr><tr><td>&quot;4&quot;</td></tr></tbody></table></div>"
      ],
      "text/plain": [
       "shape: (5,)\n",
       "Series: 'size' [cat]\n",
       "[\n",
       "\t\"2\"\n",
       "\t\"3\"\n",
       "\t\"3\"\n",
       "\t\"2\"\n",
       "\t\"4\"\n",
       "]"
      ]
     },
     "execution_count": 13,
     "metadata": {},
     "output_type": "execute_result"
    }
   ],
   "source": [
    "# 数値型を、中間の文字列に変換して、さらにカテゴリ変数に変換する\n",
    "tips[\"size\"].cast(pl.Utf8).cast(pl.Categorical).head(n = 5)"
   ]
  }
 ],
 "metadata": {
  "kernelspec": {
   "display_name": "Python 3",
   "language": "python",
   "name": "python3"
  },
  "language_info": {
   "codemirror_mode": {
    "name": "ipython",
    "version": 3
   },
   "file_extension": ".py",
   "mimetype": "text/x-python",
   "name": "python",
   "nbconvert_exporter": "python",
   "pygments_lexer": "ipython3",
   "version": "3.11.4"
  }
 },
 "nbformat": 4,
 "nbformat_minor": 2
}
