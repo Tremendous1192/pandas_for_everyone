{
 "cells": [
  {
   "cell_type": "markdown",
   "metadata": {},
   "source": [
    "## 14.1 ロジスティック回帰\n",
    "```statsmodels```と```sklearn```を用いたロジスティック回帰のスニペット。\n"
   ]
  },
  {
   "cell_type": "markdown",
   "metadata": {},
   "source": [
    "### (共通)データの読み込み\n",
    "```seaborn```の```tips```データセットを用いる。"
   ]
  },
  {
   "cell_type": "code",
   "execution_count": 26,
   "metadata": {},
   "outputs": [
    {
     "data": {
      "text/html": [
       "<div><style>\n",
       ".dataframe > thead > tr,\n",
       ".dataframe > tbody > tr {\n",
       "  text-align: right;\n",
       "  white-space: pre-wrap;\n",
       "}\n",
       "</style>\n",
       "<small>shape: (5, 4)</small><table border=\"1\" class=\"dataframe\"><thead><tr><th>survived</th><th>sex</th><th>age</th><th>embarked</th></tr><tr><td>i64</td><td>str</td><td>f64</td><td>str</td></tr></thead><tbody><tr><td>1</td><td>&quot;female&quot;</td><td>0.75</td><td>&quot;C&quot;</td></tr><tr><td>1</td><td>&quot;female&quot;</td><td>0.75</td><td>&quot;C&quot;</td></tr><tr><td>1</td><td>&quot;female&quot;</td><td>1.0</td><td>&quot;C&quot;</td></tr><tr><td>1</td><td>&quot;female&quot;</td><td>1.0</td><td>&quot;S&quot;</td></tr><tr><td>0</td><td>&quot;female&quot;</td><td>2.0</td><td>&quot;S&quot;</td></tr></tbody></table></div>"
      ],
      "text/plain": [
       "shape: (5, 4)\n",
       "┌──────────┬────────┬──────┬──────────┐\n",
       "│ survived ┆ sex    ┆ age  ┆ embarked │\n",
       "│ ---      ┆ ---    ┆ ---  ┆ ---      │\n",
       "│ i64      ┆ str    ┆ f64  ┆ str      │\n",
       "╞══════════╪════════╪══════╪══════════╡\n",
       "│ 1        ┆ female ┆ 0.75 ┆ C        │\n",
       "│ 1        ┆ female ┆ 0.75 ┆ C        │\n",
       "│ 1        ┆ female ┆ 1.0  ┆ C        │\n",
       "│ 1        ┆ female ┆ 1.0  ┆ S        │\n",
       "│ 0        ┆ female ┆ 2.0  ┆ S        │\n",
       "└──────────┴────────┴──────┴──────────┘"
      ]
     },
     "metadata": {},
     "output_type": "display_data"
    },
    {
     "data": {
      "text/html": [
       "<div><style>\n",
       ".dataframe > thead > tr,\n",
       ".dataframe > tbody > tr {\n",
       "  text-align: right;\n",
       "  white-space: pre-wrap;\n",
       "}\n",
       "</style>\n",
       "<small>shape: (2, 2)</small><table border=\"1\" class=\"dataframe\"><thead><tr><th>survived</th><th>counts</th></tr><tr><td>i64</td><td>u32</td></tr></thead><tbody><tr><td>0</td><td>424</td></tr><tr><td>1</td><td>288</td></tr></tbody></table></div>"
      ],
      "text/plain": [
       "shape: (2, 2)\n",
       "┌──────────┬────────┐\n",
       "│ survived ┆ counts │\n",
       "│ ---      ┆ ---    │\n",
       "│ i64      ┆ u32    │\n",
       "╞══════════╪════════╡\n",
       "│ 0        ┆ 424    │\n",
       "│ 1        ┆ 288    │\n",
       "└──────────┴────────┘"
      ]
     },
     "metadata": {},
     "output_type": "display_data"
    },
    {
     "data": {
      "text/html": [
       "<div><style>\n",
       ".dataframe > thead > tr,\n",
       ".dataframe > tbody > tr {\n",
       "  text-align: right;\n",
       "  white-space: pre-wrap;\n",
       "}\n",
       "</style>\n",
       "<small>shape: (3, 2)</small><table border=\"1\" class=\"dataframe\"><thead><tr><th>embarked</th><th>counts</th></tr><tr><td>str</td><td>u32</td></tr></thead><tbody><tr><td>&quot;S&quot;</td><td>554</td></tr><tr><td>&quot;Q&quot;</td><td>28</td></tr><tr><td>&quot;C&quot;</td><td>130</td></tr></tbody></table></div>"
      ],
      "text/plain": [
       "shape: (3, 2)\n",
       "┌──────────┬────────┐\n",
       "│ embarked ┆ counts │\n",
       "│ ---      ┆ ---    │\n",
       "│ str      ┆ u32    │\n",
       "╞══════════╪════════╡\n",
       "│ S        ┆ 554    │\n",
       "│ Q        ┆ 28     │\n",
       "│ C        ┆ 130    │\n",
       "└──────────┴────────┘"
      ]
     },
     "metadata": {},
     "output_type": "display_data"
    }
   ],
   "source": [
    "import polars as pl\n",
    "import seaborn as sns\n",
    "\n",
    "# データの読み込み\n",
    "titanic = pl.DataFrame(sns.load_dataset(\"titanic\"))\n",
    "\n",
    "# 解析に使用するデータを抽出する\n",
    "titanic_sub = (\n",
    "    titanic[[\"survived\", \"sex\", \"age\", \"embarked\"]].drop_nulls()\n",
    ")\n",
    "# ダミー変数作成時にpandasでは自動的にsortが行われるがpolarsでは行われないので、順番を入れかえておく。\n",
    "titanic_sub = titanic_sub.sort(by = [\"sex\", \"age\", \"embarked\"])\n",
    "display(titanic_sub.head())\n",
    "\n",
    "# 生存者数\n",
    "display(titanic_sub[\"survived\"].value_counts())\n",
    "# 乗船場所\n",
    "display(titanic_sub[\"embarked\"].value_counts())"
   ]
  },
  {
   "cell_type": "markdown",
   "metadata": {},
   "source": [
    "### 14.1.1 statsmodels"
   ]
  },
  {
   "cell_type": "code",
   "execution_count": 27,
   "metadata": {},
   "outputs": [
    {
     "name": "stdout",
     "output_type": "stream",
     "text": [
      "Optimization terminated successfully.\n",
      "         Current function value: 0.509889\n",
      "         Iterations 6\n"
     ]
    },
    {
     "data": {
      "text/html": [
       "<table class=\"simpletable\">\n",
       "<caption>Logit Regression Results</caption>\n",
       "<tr>\n",
       "  <th>Dep. Variable:</th>       <td>survived</td>     <th>  No. Observations:  </th>  <td>   712</td>  \n",
       "</tr>\n",
       "<tr>\n",
       "  <th>Model:</th>                 <td>Logit</td>      <th>  Df Residuals:      </th>  <td>   707</td>  \n",
       "</tr>\n",
       "<tr>\n",
       "  <th>Method:</th>                 <td>MLE</td>       <th>  Df Model:          </th>  <td>     4</td>  \n",
       "</tr>\n",
       "<tr>\n",
       "  <th>Date:</th>            <td>Mon, 01 Jan 2024</td> <th>  Pseudo R-squ.:     </th>  <td>0.2444</td>  \n",
       "</tr>\n",
       "<tr>\n",
       "  <th>Time:</th>                <td>16:47:01</td>     <th>  Log-Likelihood:    </th> <td> -363.04</td> \n",
       "</tr>\n",
       "<tr>\n",
       "  <th>converged:</th>             <td>True</td>       <th>  LL-Null:           </th> <td> -480.45</td> \n",
       "</tr>\n",
       "<tr>\n",
       "  <th>Covariance Type:</th>     <td>nonrobust</td>    <th>  LLR p-value:       </th> <td>1.209e-49</td>\n",
       "</tr>\n",
       "</table>\n",
       "<table class=\"simpletable\">\n",
       "<tr>\n",
       "        <td></td>           <th>coef</th>     <th>std err</th>      <th>z</th>      <th>P>|z|</th>  <th>[0.025</th>    <th>0.975]</th>  \n",
       "</tr>\n",
       "<tr>\n",
       "  <th>Intercept</th>     <td>    2.2046</td> <td>    0.322</td> <td>    6.851</td> <td> 0.000</td> <td>    1.574</td> <td>    2.835</td>\n",
       "</tr>\n",
       "<tr>\n",
       "  <th>sex[T.male]</th>   <td>   -2.4760</td> <td>    0.191</td> <td>  -12.976</td> <td> 0.000</td> <td>   -2.850</td> <td>   -2.102</td>\n",
       "</tr>\n",
       "<tr>\n",
       "  <th>embarked[T.Q]</th> <td>   -1.8156</td> <td>    0.535</td> <td>   -3.393</td> <td> 0.001</td> <td>   -2.864</td> <td>   -0.767</td>\n",
       "</tr>\n",
       "<tr>\n",
       "  <th>embarked[T.S]</th> <td>   -1.0069</td> <td>    0.237</td> <td>   -4.251</td> <td> 0.000</td> <td>   -1.471</td> <td>   -0.543</td>\n",
       "</tr>\n",
       "<tr>\n",
       "  <th>age</th>           <td>   -0.0081</td> <td>    0.007</td> <td>   -1.233</td> <td> 0.217</td> <td>   -0.021</td> <td>    0.005</td>\n",
       "</tr>\n",
       "</table>"
      ],
      "text/latex": [
       "\\begin{center}\n",
       "\\begin{tabular}{lclc}\n",
       "\\toprule\n",
       "\\textbf{Dep. Variable:}   &     survived     & \\textbf{  No. Observations:  } &      712    \\\\\n",
       "\\textbf{Model:}           &      Logit       & \\textbf{  Df Residuals:      } &      707    \\\\\n",
       "\\textbf{Method:}          &       MLE        & \\textbf{  Df Model:          } &        4    \\\\\n",
       "\\textbf{Date:}            & Mon, 01 Jan 2024 & \\textbf{  Pseudo R-squ.:     } &   0.2444    \\\\\n",
       "\\textbf{Time:}            &     16:47:01     & \\textbf{  Log-Likelihood:    } &   -363.04   \\\\\n",
       "\\textbf{converged:}       &       True       & \\textbf{  LL-Null:           } &   -480.45   \\\\\n",
       "\\textbf{Covariance Type:} &    nonrobust     & \\textbf{  LLR p-value:       } & 1.209e-49   \\\\\n",
       "\\bottomrule\n",
       "\\end{tabular}\n",
       "\\begin{tabular}{lcccccc}\n",
       "                       & \\textbf{coef} & \\textbf{std err} & \\textbf{z} & \\textbf{P$> |$z$|$} & \\textbf{[0.025} & \\textbf{0.975]}  \\\\\n",
       "\\midrule\n",
       "\\textbf{Intercept}     &       2.2046  &        0.322     &     6.851  &         0.000        &        1.574    &        2.835     \\\\\n",
       "\\textbf{sex[T.male]}   &      -2.4760  &        0.191     &   -12.976  &         0.000        &       -2.850    &       -2.102     \\\\\n",
       "\\textbf{embarked[T.Q]} &      -1.8156  &        0.535     &    -3.393  &         0.001        &       -2.864    &       -0.767     \\\\\n",
       "\\textbf{embarked[T.S]} &      -1.0069  &        0.237     &    -4.251  &         0.000        &       -1.471    &       -0.543     \\\\\n",
       "\\textbf{age}           &      -0.0081  &        0.007     &    -1.233  &         0.217        &       -0.021    &        0.005     \\\\\n",
       "\\bottomrule\n",
       "\\end{tabular}\n",
       "%\\caption{Logit Regression Results}\n",
       "\\end{center}"
      ],
      "text/plain": [
       "<class 'statsmodels.iolib.summary.Summary'>\n",
       "\"\"\"\n",
       "                           Logit Regression Results                           \n",
       "==============================================================================\n",
       "Dep. Variable:               survived   No. Observations:                  712\n",
       "Model:                          Logit   Df Residuals:                      707\n",
       "Method:                           MLE   Df Model:                            4\n",
       "Date:                Mon, 01 Jan 2024   Pseudo R-squ.:                  0.2444\n",
       "Time:                        16:47:01   Log-Likelihood:                -363.04\n",
       "converged:                       True   LL-Null:                       -480.45\n",
       "Covariance Type:            nonrobust   LLR p-value:                 1.209e-49\n",
       "=================================================================================\n",
       "                    coef    std err          z      P>|z|      [0.025      0.975]\n",
       "---------------------------------------------------------------------------------\n",
       "Intercept         2.2046      0.322      6.851      0.000       1.574       2.835\n",
       "sex[T.male]      -2.4760      0.191    -12.976      0.000      -2.850      -2.102\n",
       "embarked[T.Q]    -1.8156      0.535     -3.393      0.001      -2.864      -0.767\n",
       "embarked[T.S]    -1.0069      0.237     -4.251      0.000      -1.471      -0.543\n",
       "age              -0.0081      0.007     -1.233      0.217      -0.021       0.005\n",
       "=================================================================================\n",
       "\"\"\""
      ]
     },
     "metadata": {},
     "output_type": "display_data"
    },
    {
     "data": {
      "text/html": [
       "<div>\n",
       "<style scoped>\n",
       "    .dataframe tbody tr th:only-of-type {\n",
       "        vertical-align: middle;\n",
       "    }\n",
       "\n",
       "    .dataframe tbody tr th {\n",
       "        vertical-align: top;\n",
       "    }\n",
       "\n",
       "    .dataframe thead th {\n",
       "        text-align: right;\n",
       "    }\n",
       "</style>\n",
       "<table border=\"1\" class=\"dataframe\">\n",
       "  <thead>\n",
       "    <tr style=\"text-align: right;\">\n",
       "      <th></th>\n",
       "      <th>coefs_sm</th>\n",
       "      <th>odds_sm</th>\n",
       "    </tr>\n",
       "  </thead>\n",
       "  <tbody>\n",
       "    <tr>\n",
       "      <th>Intercept</th>\n",
       "      <td>2.205</td>\n",
       "      <td>9.066</td>\n",
       "    </tr>\n",
       "    <tr>\n",
       "      <th>sex[T.male]</th>\n",
       "      <td>-2.476</td>\n",
       "      <td>0.084</td>\n",
       "    </tr>\n",
       "    <tr>\n",
       "      <th>embarked[T.Q]</th>\n",
       "      <td>-1.816</td>\n",
       "      <td>0.163</td>\n",
       "    </tr>\n",
       "    <tr>\n",
       "      <th>embarked[T.S]</th>\n",
       "      <td>-1.007</td>\n",
       "      <td>0.365</td>\n",
       "    </tr>\n",
       "    <tr>\n",
       "      <th>age</th>\n",
       "      <td>-0.008</td>\n",
       "      <td>0.992</td>\n",
       "    </tr>\n",
       "  </tbody>\n",
       "</table>\n",
       "</div>"
      ],
      "text/plain": [
       "               coefs_sm  odds_sm\n",
       "Intercept         2.205    9.066\n",
       "sex[T.male]      -2.476    0.084\n",
       "embarked[T.Q]    -1.816    0.163\n",
       "embarked[T.S]    -1.007    0.365\n",
       "age              -0.008    0.992"
      ]
     },
     "metadata": {},
     "output_type": "display_data"
    }
   ],
   "source": [
    "import statsmodels.formula.api as smf\n",
    "\n",
    "# モデルを学習する\n",
    "form = \"survived ~ sex + age + embarked\"\n",
    "model = smf.logit(formula = form, data = titanic_sub).fit()\n",
    "\n",
    "# 学習結果を表示する\n",
    "display(model.summary())\n",
    "\n",
    "import pandas as pd\n",
    "import numpy as np\n",
    "res_sm = pd.DataFrame(model.params, columns = [\"coefs_sm\"])\n",
    "res_sm[\"odds_sm\"] = np.exp(res_sm[\"coefs_sm\"])\n",
    "display(res_sm.round(3))"
   ]
  },
  {
   "cell_type": "markdown",
   "metadata": {},
   "source": [
    "### 14.1.2 sklearn"
   ]
  },
  {
   "cell_type": "code",
   "execution_count": 28,
   "metadata": {},
   "outputs": [
    {
     "data": {
      "text/html": [
       "<div><style>\n",
       ".dataframe > thead > tr,\n",
       ".dataframe > tbody > tr {\n",
       "  text-align: right;\n",
       "  white-space: pre-wrap;\n",
       "}\n",
       "</style>\n",
       "<small>shape: (5, 3)</small><table border=\"1\" class=\"dataframe\"><thead><tr><th>Label</th><th>Coefficient</th><th>Odds</th></tr><tr><td>str</td><td>f64</td><td>f64</td></tr></thead><tbody><tr><td>&quot;Intercept&quot;</td><td>2.204564</td><td>9.066</td></tr><tr><td>&quot;age&quot;</td><td>-0.008078</td><td>0.992</td></tr><tr><td>&quot;sex_male&quot;</td><td>-2.475953</td><td>0.084</td></tr><tr><td>&quot;embarked_Q&quot;</td><td>-1.815557</td><td>0.163</td></tr><tr><td>&quot;embarked_S&quot;</td><td>-1.006956</td><td>0.365</td></tr></tbody></table></div>"
      ],
      "text/plain": [
       "shape: (5, 3)\n",
       "┌────────────┬─────────────┬───────┐\n",
       "│ Label      ┆ Coefficient ┆ Odds  │\n",
       "│ ---        ┆ ---         ┆ ---   │\n",
       "│ str        ┆ f64         ┆ f64   │\n",
       "╞════════════╪═════════════╪═══════╡\n",
       "│ Intercept  ┆ 2.204564    ┆ 9.066 │\n",
       "│ age        ┆ -0.008078   ┆ 0.992 │\n",
       "│ sex_male   ┆ -2.475953   ┆ 0.084 │\n",
       "│ embarked_Q ┆ -1.815557   ┆ 0.163 │\n",
       "│ embarked_S ┆ -1.006956   ┆ 0.365 │\n",
       "└────────────┴─────────────┴───────┘"
      ]
     },
     "metadata": {},
     "output_type": "display_data"
    }
   ],
   "source": [
    "from sklearn import linear_model\n",
    "\n",
    "# ダミー変数を作成する\n",
    "import polars.selectors as cs\n",
    "# 数値型は外しておく\n",
    "df_numeric = titanic_sub.select(cs.numeric()).drop(\"survived\")\n",
    "# カテゴリ変数のみダミー変数を作成する\n",
    "df_categorical = titanic_sub.select(cs.string())\n",
    "df_dummy = df_categorical.to_dummies(drop_first = True)\n",
    "# 学習用のDataFrameを作成する\n",
    "df_study = pl.concat(items = [df_numeric, df_dummy], how = \"horizontal\")\n",
    "\n",
    "\n",
    "# モデルを学習する\n",
    "lr = linear_model.LogisticRegression(penalty = None)\n",
    "model = lr.fit(X = df_study, y = titanic_sub[\"survived\"])\n",
    "\n",
    "\n",
    "# 学習結果を表示する\n",
    "import numpy as np\n",
    "# 係数の名称\n",
    "labels = [\"Intercept\"]\n",
    "for col in df_study.columns:\n",
    "    labels.append(col)\n",
    "# 係数\n",
    "coefficients = np.append(\n",
    "    model.intercept_, model.coef_\n",
    ")\n",
    "# 学習結果\n",
    "result = pl.DataFrame({\n",
    "    \"Label\": labels,\n",
    "    \"Coefficient\": coefficients\n",
    "})\n",
    "# オッズ\n",
    "result = result.with_columns(\n",
    "    result[\"Coefficient\"].exp().round(decimals = 3).alias(\"Odds\")\n",
    ")\n",
    "display(result)"
   ]
  }
 ],
 "metadata": {
  "kernelspec": {
   "display_name": "Python 3",
   "language": "python",
   "name": "python3"
  },
  "language_info": {
   "codemirror_mode": {
    "name": "ipython",
    "version": 3
   },
   "file_extension": ".py",
   "mimetype": "text/x-python",
   "name": "python",
   "nbconvert_exporter": "python",
   "pygments_lexer": "ipython3",
   "version": "3.11.4"
  }
 },
 "nbformat": 4,
 "nbformat_minor": 2
}
