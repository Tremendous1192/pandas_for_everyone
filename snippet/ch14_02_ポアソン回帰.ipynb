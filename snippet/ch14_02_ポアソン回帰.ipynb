{
 "cells": [
  {
   "cell_type": "markdown",
   "metadata": {},
   "source": [
    "## 14.2 ポアソン回帰\n",
    "```statsmodels```と```sklearn```を用いたポアソン回帰のスニペット。\n",
    "\n",
    "```sklearn```のエラーを解消できていない。"
   ]
  },
  {
   "cell_type": "markdown",
   "metadata": {},
   "source": [
    "### (共通)データの読み込み\n",
    "```seaborn```の```tips```データセットを用いる。"
   ]
  },
  {
   "cell_type": "code",
   "execution_count": null,
   "metadata": {},
   "outputs": [],
   "source": [
    "import polars as pl\n",
    "pl.Config.set_tbl_cols(-1)\n",
    "import seaborn as sns\n",
    "\n",
    "# データの読み込み\n",
    "acs = pl.read_csv(\"../data/acs_ny.csv\")\n",
    "acs_subset = acs[[\"NumBedrooms\", \"HouseCosts\", \"OwnRent\"]].sort(by = \"OwnRent\")\n",
    "display(acs_subset.head())\n",
    "\n",
    "# \n",
    "import matplotlib.pyplot as plt\n",
    "fig, ax = plt.subplots()\n",
    "sns.countplot(data = acs, x = \"NumBedrooms\", ax = ax)\n",
    "\n",
    "ax.set_title(\"Number of Bedrooms\")\n",
    "ax.set_xlabel(\"Number of Bedrooms in a House\")\n",
    "ax.set_ylabel(\"Count\")\n",
    "\n",
    "plt.show()"
   ]
  },
  {
   "cell_type": "markdown",
   "metadata": {},
   "source": [
    "### 14.1.1 statsmodels"
   ]
  },
  {
   "cell_type": "code",
   "execution_count": null,
   "metadata": {},
   "outputs": [],
   "source": [
    "import statsmodels.formula.api as smf\n",
    "\n",
    "# モデルを学習する\n",
    "form = \"NumBedrooms ~ HouseCosts + OwnRent\"\n",
    "model = smf.poisson(formula = form, data = acs_subset).fit()\n",
    "\n",
    "# 学習結果を表示する\n",
    "display(model.summary())"
   ]
  },
  {
   "cell_type": "code",
   "execution_count": null,
   "metadata": {},
   "outputs": [],
   "source": [
    "import statsmodels.api as sm\n",
    "import statsmodels.formula.api as smf\n",
    "\n",
    "# 一般化線形モデルの場合\n",
    "# モデルを学習する\n",
    "form = \"NumBedrooms ~ HouseCosts + OwnRent\"\n",
    "model = (\n",
    "    smf.glm(\n",
    "        formula = form,\n",
    "        data = acs_subset,\n",
    "        family = sm.families.Poisson(sm.genmod.families.links.log())\n",
    "    ).fit()\n",
    ")\n",
    "\n",
    "# 学習結果を表示する\n",
    "display(model.summary())"
   ]
  },
  {
   "cell_type": "markdown",
   "metadata": {},
   "source": [
    "### 14.1.2 sklearn"
   ]
  },
  {
   "cell_type": "code",
   "execution_count": null,
   "metadata": {},
   "outputs": [],
   "source": [
    "from sklearn import linear_model\n",
    "\n",
    "# ダミー変数を作成する\n",
    "import polars.selectors as cs\n",
    "# 数値型は外しておく\n",
    "df_numeric = acs_subset.select(cs.numeric()).drop(\"NumBedrooms\")\n",
    "# カテゴリ変数のみダミー変数を作成する\n",
    "df_categorical = acs_subset.select(cs.string())\n",
    "df_dummy = df_categorical.to_dummies(drop_first = True)\n",
    "# 学習用のDataFrameを作成する\n",
    "df_study = pl.concat(items = [df_numeric, df_dummy], how = \"horizontal\")\n",
    "display(df_study.head())\n",
    "\n",
    "# モデルを学習する\n",
    "lr = linear_model.PoissonRegressor()\n",
    "model = lr.fit(X = df_study, y = acs_subset[\"NumBedrooms\"])\n",
    "\n",
    "\n",
    "# 学習結果を表示する\n",
    "import numpy as np\n",
    "# 係数の名称\n",
    "labels = [\"Intercept\"]\n",
    "for col in df_study.columns:\n",
    "    labels.append(col)\n",
    "# 係数\n",
    "coefficients = np.append(\n",
    "    model.intercept_, model.coef_\n",
    ")\n",
    "# 学習結果\n",
    "result = pl.DataFrame({\n",
    "    \"Label\": labels,\n",
    "    \"Coefficient\": coefficients\n",
    "})\n",
    "print(result)"
   ]
  }
 ],
 "metadata": {
  "kernelspec": {
   "display_name": "Python 3",
   "language": "python",
   "name": "python3"
  },
  "language_info": {
   "codemirror_mode": {
    "name": "ipython",
    "version": 3
   },
   "file_extension": ".py",
   "mimetype": "text/x-python",
   "name": "python",
   "nbconvert_exporter": "python",
   "pygments_lexer": "ipython3",
   "version": "3.11.4"
  }
 },
 "nbformat": 4,
 "nbformat_minor": 2
}
