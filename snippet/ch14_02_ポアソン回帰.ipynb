{
 "cells": [
  {
   "cell_type": "markdown",
   "metadata": {},
   "source": [
    "## 14.2 ポアソン回帰\n",
    "```statsmodels```と```sklearn```を用いたポアソン回帰のスニペット。\n",
    "\n",
    "```sklearn```のエラーを解消できていない。"
   ]
  },
  {
   "cell_type": "markdown",
   "metadata": {},
   "source": [
    "### (共通)データの読み込み\n",
    "```seaborn```の```tips```データセットを用いる。"
   ]
  },
  {
   "cell_type": "code",
   "execution_count": 17,
   "metadata": {},
   "outputs": [
    {
     "data": {
      "text/html": [
       "<div><style>\n",
       ".dataframe > thead > tr,\n",
       ".dataframe > tbody > tr {\n",
       "  text-align: right;\n",
       "  white-space: pre-wrap;\n",
       "}\n",
       "</style>\n",
       "<small>shape: (5, 3)</small><table border=\"1\" class=\"dataframe\"><thead><tr><th>NumBedrooms</th><th>HouseCosts</th><th>OwnRent</th></tr><tr><td>i64</td><td>i64</td><td>str</td></tr></thead><tbody><tr><td>4</td><td>1800</td><td>&quot;Mortgage&quot;</td></tr><tr><td>4</td><td>2600</td><td>&quot;Mortgage&quot;</td></tr><tr><td>3</td><td>860</td><td>&quot;Mortgage&quot;</td></tr><tr><td>3</td><td>270</td><td>&quot;Mortgage&quot;</td></tr><tr><td>3</td><td>710</td><td>&quot;Mortgage&quot;</td></tr></tbody></table></div>"
      ],
      "text/plain": [
       "shape: (5, 3)\n",
       "┌─────────────┬────────────┬──────────┐\n",
       "│ NumBedrooms ┆ HouseCosts ┆ OwnRent  │\n",
       "│ ---         ┆ ---        ┆ ---      │\n",
       "│ i64         ┆ i64        ┆ str      │\n",
       "╞═════════════╪════════════╪══════════╡\n",
       "│ 4           ┆ 1800       ┆ Mortgage │\n",
       "│ 4           ┆ 2600       ┆ Mortgage │\n",
       "│ 3           ┆ 860        ┆ Mortgage │\n",
       "│ 3           ┆ 270        ┆ Mortgage │\n",
       "│ 3           ┆ 710        ┆ Mortgage │\n",
       "└─────────────┴────────────┴──────────┘"
      ]
     },
     "metadata": {},
     "output_type": "display_data"
    },
    {
     "data": {
      "image/png": "[encoded data removed]",
      "text/plain": [
       "<Figure size 640x480 with 1 Axes>"
      ]
     },
     "metadata": {},
     "output_type": "display_data"
    }
   ],
   "source": [
    "import polars as pl\n",
    "pl.Config.set_tbl_cols(-1)\n",
    "import seaborn as sns\n",
    "\n",
    "# データの読み込み\n",
    "acs = pl.read_csv(\"../data/acs_ny.csv\")\n",
    "acs_subset = acs[[\"NumBedrooms\", \"HouseCosts\", \"OwnRent\"]].sort(by = \"OwnRent\")\n",
    "display(acs_subset.head())\n",
    "\n",
    "# \n",
    "import matplotlib.pyplot as plt\n",
    "fig, ax = plt.subplots()\n",
    "sns.countplot(data = acs, x = \"NumBedrooms\", ax = ax)\n",
    "\n",
    "ax.set_title(\"Number of Bedrooms\")\n",
    "ax.set_xlabel(\"Number of Bedrooms in a House\")\n",
    "ax.set_ylabel(\"Count\")\n",
    "\n",
    "plt.show()"
   ]
  },
  {
   "cell_type": "markdown",
   "metadata": {},
   "source": [
    "### 14.1.1 statsmodels"
   ]
  },
  {
   "cell_type": "code",
   "execution_count": 18,
   "metadata": {},
   "outputs": [
    {
     "name": "stdout",
     "output_type": "stream",
     "text": [
      "Optimization terminated successfully.\n",
      "         Current function value: 1.680998\n",
      "         Iterations 10\n"
     ]
    },
    {
     "data": {
      "text/html": [
       "<table class=\"simpletable\">\n",
       "<caption>Poisson Regression Results</caption>\n",
       "<tr>\n",
       "  <th>Dep. Variable:</th>      <td>NumBedrooms</td>   <th>  No. Observations:  </th>   <td> 22745</td>  \n",
       "</tr>\n",
       "<tr>\n",
       "  <th>Model:</th>                <td>Poisson</td>     <th>  Df Residuals:      </th>   <td> 22741</td>  \n",
       "</tr>\n",
       "<tr>\n",
       "  <th>Method:</th>                 <td>MLE</td>       <th>  Df Model:          </th>   <td>     3</td>  \n",
       "</tr>\n",
       "<tr>\n",
       "  <th>Date:</th>            <td>Mon, 01 Jan 2024</td> <th>  Pseudo R-squ.:     </th>  <td>0.008309</td> \n",
       "</tr>\n",
       "<tr>\n",
       "  <th>Time:</th>                <td>17:38:41</td>     <th>  Log-Likelihood:    </th>  <td> -38234.</td> \n",
       "</tr>\n",
       "<tr>\n",
       "  <th>converged:</th>             <td>True</td>       <th>  LL-Null:           </th>  <td> -38555.</td> \n",
       "</tr>\n",
       "<tr>\n",
       "  <th>Covariance Type:</th>     <td>nonrobust</td>    <th>  LLR p-value:       </th> <td>1.512e-138</td>\n",
       "</tr>\n",
       "</table>\n",
       "<table class=\"simpletable\">\n",
       "<tr>\n",
       "           <td></td>              <th>coef</th>     <th>std err</th>      <th>z</th>      <th>P>|z|</th>  <th>[0.025</th>    <th>0.975]</th>  \n",
       "</tr>\n",
       "<tr>\n",
       "  <th>Intercept</th>           <td>    1.1387</td> <td>    0.006</td> <td>  184.928</td> <td> 0.000</td> <td>    1.127</td> <td>    1.151</td>\n",
       "</tr>\n",
       "<tr>\n",
       "  <th>OwnRent[T.Outright]</th> <td>   -0.2659</td> <td>    0.051</td> <td>   -5.182</td> <td> 0.000</td> <td>   -0.367</td> <td>   -0.165</td>\n",
       "</tr>\n",
       "<tr>\n",
       "  <th>OwnRent[T.Rented]</th>   <td>   -0.1237</td> <td>    0.012</td> <td>   -9.996</td> <td> 0.000</td> <td>   -0.148</td> <td>   -0.099</td>\n",
       "</tr>\n",
       "<tr>\n",
       "  <th>HouseCosts</th>          <td> 6.217e-05</td> <td> 2.96e-06</td> <td>   21.017</td> <td> 0.000</td> <td> 5.64e-05</td> <td>  6.8e-05</td>\n",
       "</tr>\n",
       "</table>"
      ],
      "text/latex": [
       "\\begin{center}\n",
       "\\begin{tabular}{lclc}\n",
       "\\toprule\n",
       "\\textbf{Dep. Variable:}      &   NumBedrooms    & \\textbf{  No. Observations:  } &    22745    \\\\\n",
       "\\textbf{Model:}              &     Poisson      & \\textbf{  Df Residuals:      } &    22741    \\\\\n",
       "\\textbf{Method:}             &       MLE        & \\textbf{  Df Model:          } &        3    \\\\\n",
       "\\textbf{Date:}               & Mon, 01 Jan 2024 & \\textbf{  Pseudo R-squ.:     } &  0.008309   \\\\\n",
       "\\textbf{Time:}               &     17:38:41     & \\textbf{  Log-Likelihood:    } &   -38234.   \\\\\n",
       "\\textbf{converged:}          &       True       & \\textbf{  LL-Null:           } &   -38555.   \\\\\n",
       "\\textbf{Covariance Type:}    &    nonrobust     & \\textbf{  LLR p-value:       } & 1.512e-138  \\\\\n",
       "\\bottomrule\n",
       "\\end{tabular}\n",
       "\\begin{tabular}{lcccccc}\n",
       "                             & \\textbf{coef} & \\textbf{std err} & \\textbf{z} & \\textbf{P$> |$z$|$} & \\textbf{[0.025} & \\textbf{0.975]}  \\\\\n",
       "\\midrule\n",
       "\\textbf{Intercept}           &       1.1387  &        0.006     &   184.928  &         0.000        &        1.127    &        1.151     \\\\\n",
       "\\textbf{OwnRent[T.Outright]} &      -0.2659  &        0.051     &    -5.182  &         0.000        &       -0.367    &       -0.165     \\\\\n",
       "\\textbf{OwnRent[T.Rented]}   &      -0.1237  &        0.012     &    -9.996  &         0.000        &       -0.148    &       -0.099     \\\\\n",
       "\\textbf{HouseCosts}          &    6.217e-05  &     2.96e-06     &    21.017  &         0.000        &     5.64e-05    &      6.8e-05     \\\\\n",
       "\\bottomrule\n",
       "\\end{tabular}\n",
       "%\\caption{Poisson Regression Results}\n",
       "\\end{center}"
      ],
      "text/plain": [
       "<class 'statsmodels.iolib.summary.Summary'>\n",
       "\"\"\"\n",
       "                          Poisson Regression Results                          \n",
       "==============================================================================\n",
       "Dep. Variable:            NumBedrooms   No. Observations:                22745\n",
       "Model:                        Poisson   Df Residuals:                    22741\n",
       "Method:                           MLE   Df Model:                            3\n",
       "Date:                Mon, 01 Jan 2024   Pseudo R-squ.:                0.008309\n",
       "Time:                        17:38:41   Log-Likelihood:                -38234.\n",
       "converged:                       True   LL-Null:                       -38555.\n",
       "Covariance Type:            nonrobust   LLR p-value:                1.512e-138\n",
       "=======================================================================================\n",
       "                          coef    std err          z      P>|z|      [0.025      0.975]\n",
       "---------------------------------------------------------------------------------------\n",
       "Intercept               1.1387      0.006    184.928      0.000       1.127       1.151\n",
       "OwnRent[T.Outright]    -0.2659      0.051     -5.182      0.000      -0.367      -0.165\n",
       "OwnRent[T.Rented]      -0.1237      0.012     -9.996      0.000      -0.148      -0.099\n",
       "HouseCosts           6.217e-05   2.96e-06     21.017      0.000    5.64e-05     6.8e-05\n",
       "=======================================================================================\n",
       "\"\"\""
      ]
     },
     "metadata": {},
     "output_type": "display_data"
    }
   ],
   "source": [
    "import statsmodels.formula.api as smf\n",
    "\n",
    "# モデルを学習する\n",
    "form = \"NumBedrooms ~ HouseCosts + OwnRent\"\n",
    "model = smf.poisson(formula = form, data = acs_subset).fit()\n",
    "\n",
    "# 学習結果を表示する\n",
    "display(model.summary())"
   ]
  },
  {
   "cell_type": "code",
   "execution_count": 19,
   "metadata": {},
   "outputs": [
    {
     "name": "stderr",
     "output_type": "stream",
     "text": [
      "c:\\Python311\\Lib\\site-packages\\statsmodels\\genmod\\families\\links.py:13: FutureWarning: The log link alias is deprecated. Use Log instead. The log link alias will be removed after the 0.15.0 release.\n",
      "  warnings.warn(\n"
     ]
    },
    {
     "data": {
      "text/html": [
       "<table class=\"simpletable\">\n",
       "<caption>Generalized Linear Model Regression Results</caption>\n",
       "<tr>\n",
       "  <th>Dep. Variable:</th>      <td>NumBedrooms</td>   <th>  No. Observations:  </th>  <td> 22745</td> \n",
       "</tr>\n",
       "<tr>\n",
       "  <th>Model:</th>                  <td>GLM</td>       <th>  Df Residuals:      </th>  <td> 22741</td> \n",
       "</tr>\n",
       "<tr>\n",
       "  <th>Model Family:</th>         <td>Poisson</td>     <th>  Df Model:          </th>  <td>     3</td> \n",
       "</tr>\n",
       "<tr>\n",
       "  <th>Link Function:</th>          <td>log</td>       <th>  Scale:             </th> <td>  1.0000</td>\n",
       "</tr>\n",
       "<tr>\n",
       "  <th>Method:</th>                <td>IRLS</td>       <th>  Log-Likelihood:    </th> <td> -38234.</td>\n",
       "</tr>\n",
       "<tr>\n",
       "  <th>Date:</th>            <td>Mon, 01 Jan 2024</td> <th>  Deviance:          </th> <td>  6839.2</td>\n",
       "</tr>\n",
       "<tr>\n",
       "  <th>Time:</th>                <td>17:38:41</td>     <th>  Pearson chi2:      </th> <td>7.32e+03</td>\n",
       "</tr>\n",
       "<tr>\n",
       "  <th>No. Iterations:</th>          <td>4</td>        <th>  Pseudo R-squ. (CS):</th>  <td>0.02778</td>\n",
       "</tr>\n",
       "<tr>\n",
       "  <th>Covariance Type:</th>     <td>nonrobust</td>    <th>                     </th>     <td> </td>   \n",
       "</tr>\n",
       "</table>\n",
       "<table class=\"simpletable\">\n",
       "<tr>\n",
       "           <td></td>              <th>coef</th>     <th>std err</th>      <th>z</th>      <th>P>|z|</th>  <th>[0.025</th>    <th>0.975]</th>  \n",
       "</tr>\n",
       "<tr>\n",
       "  <th>Intercept</th>           <td>    1.1387</td> <td>    0.006</td> <td>  184.928</td> <td> 0.000</td> <td>    1.127</td> <td>    1.151</td>\n",
       "</tr>\n",
       "<tr>\n",
       "  <th>OwnRent[T.Outright]</th> <td>   -0.2659</td> <td>    0.051</td> <td>   -5.182</td> <td> 0.000</td> <td>   -0.367</td> <td>   -0.165</td>\n",
       "</tr>\n",
       "<tr>\n",
       "  <th>OwnRent[T.Rented]</th>   <td>   -0.1237</td> <td>    0.012</td> <td>   -9.996</td> <td> 0.000</td> <td>   -0.148</td> <td>   -0.099</td>\n",
       "</tr>\n",
       "<tr>\n",
       "  <th>HouseCosts</th>          <td> 6.217e-05</td> <td> 2.96e-06</td> <td>   21.017</td> <td> 0.000</td> <td> 5.64e-05</td> <td>  6.8e-05</td>\n",
       "</tr>\n",
       "</table>"
      ],
      "text/latex": [
       "\\begin{center}\n",
       "\\begin{tabular}{lclc}\n",
       "\\toprule\n",
       "\\textbf{Dep. Variable:}      &   NumBedrooms    & \\textbf{  No. Observations:  } &    22745    \\\\\n",
       "\\textbf{Model:}              &       GLM        & \\textbf{  Df Residuals:      } &    22741    \\\\\n",
       "\\textbf{Model Family:}       &     Poisson      & \\textbf{  Df Model:          } &        3    \\\\\n",
       "\\textbf{Link Function:}      &       log        & \\textbf{  Scale:             } &    1.0000   \\\\\n",
       "\\textbf{Method:}             &       IRLS       & \\textbf{  Log-Likelihood:    } &   -38234.   \\\\\n",
       "\\textbf{Date:}               & Mon, 01 Jan 2024 & \\textbf{  Deviance:          } &    6839.2   \\\\\n",
       "\\textbf{Time:}               &     17:38:41     & \\textbf{  Pearson chi2:      } &  7.32e+03   \\\\\n",
       "\\textbf{No. Iterations:}     &        4         & \\textbf{  Pseudo R-squ. (CS):} &  0.02778    \\\\\n",
       "\\textbf{Covariance Type:}    &    nonrobust     & \\textbf{                     } &             \\\\\n",
       "\\bottomrule\n",
       "\\end{tabular}\n",
       "\\begin{tabular}{lcccccc}\n",
       "                             & \\textbf{coef} & \\textbf{std err} & \\textbf{z} & \\textbf{P$> |$z$|$} & \\textbf{[0.025} & \\textbf{0.975]}  \\\\\n",
       "\\midrule\n",
       "\\textbf{Intercept}           &       1.1387  &        0.006     &   184.928  &         0.000        &        1.127    &        1.151     \\\\\n",
       "\\textbf{OwnRent[T.Outright]} &      -0.2659  &        0.051     &    -5.182  &         0.000        &       -0.367    &       -0.165     \\\\\n",
       "\\textbf{OwnRent[T.Rented]}   &      -0.1237  &        0.012     &    -9.996  &         0.000        &       -0.148    &       -0.099     \\\\\n",
       "\\textbf{HouseCosts}          &    6.217e-05  &     2.96e-06     &    21.017  &         0.000        &     5.64e-05    &      6.8e-05     \\\\\n",
       "\\bottomrule\n",
       "\\end{tabular}\n",
       "%\\caption{Generalized Linear Model Regression Results}\n",
       "\\end{center}"
      ],
      "text/plain": [
       "<class 'statsmodels.iolib.summary.Summary'>\n",
       "\"\"\"\n",
       "                 Generalized Linear Model Regression Results                  \n",
       "==============================================================================\n",
       "Dep. Variable:            NumBedrooms   No. Observations:                22745\n",
       "Model:                            GLM   Df Residuals:                    22741\n",
       "Model Family:                 Poisson   Df Model:                            3\n",
       "Link Function:                    log   Scale:                          1.0000\n",
       "Method:                          IRLS   Log-Likelihood:                -38234.\n",
       "Date:                Mon, 01 Jan 2024   Deviance:                       6839.2\n",
       "Time:                        17:38:41   Pearson chi2:                 7.32e+03\n",
       "No. Iterations:                     4   Pseudo R-squ. (CS):            0.02778\n",
       "Covariance Type:            nonrobust                                         \n",
       "=======================================================================================\n",
       "                          coef    std err          z      P>|z|      [0.025      0.975]\n",
       "---------------------------------------------------------------------------------------\n",
       "Intercept               1.1387      0.006    184.928      0.000       1.127       1.151\n",
       "OwnRent[T.Outright]    -0.2659      0.051     -5.182      0.000      -0.367      -0.165\n",
       "OwnRent[T.Rented]      -0.1237      0.012     -9.996      0.000      -0.148      -0.099\n",
       "HouseCosts           6.217e-05   2.96e-06     21.017      0.000    5.64e-05     6.8e-05\n",
       "=======================================================================================\n",
       "\"\"\""
      ]
     },
     "metadata": {},
     "output_type": "display_data"
    }
   ],
   "source": [
    "import statsmodels.api as sm\n",
    "import statsmodels.formula.api as smf\n",
    "\n",
    "# 一般化線形モデルの場合\n",
    "# モデルを学習する\n",
    "form = \"NumBedrooms ~ HouseCosts + OwnRent\"\n",
    "model = (\n",
    "    smf.glm(\n",
    "        formula = form,\n",
    "        data = acs_subset,\n",
    "        family = sm.families.Poisson(sm.genmod.families.links.log())\n",
    "    ).fit()\n",
    ")\n",
    "\n",
    "# 学習結果を表示する\n",
    "display(model.summary())"
   ]
  },
  {
   "cell_type": "markdown",
   "metadata": {},
   "source": [
    "### 14.1.2 sklearn"
   ]
  },
  {
   "cell_type": "code",
   "execution_count": 20,
   "metadata": {},
   "outputs": [
    {
     "data": {
      "text/html": [
       "<div><style>\n",
       ".dataframe > thead > tr,\n",
       ".dataframe > tbody > tr {\n",
       "  text-align: right;\n",
       "  white-space: pre-wrap;\n",
       "}\n",
       "</style>\n",
       "<small>shape: (5, 3)</small><table border=\"1\" class=\"dataframe\"><thead><tr><th>HouseCosts</th><th>OwnRent_Outright</th><th>OwnRent_Rented</th></tr><tr><td>i64</td><td>u8</td><td>u8</td></tr></thead><tbody><tr><td>1800</td><td>0</td><td>0</td></tr><tr><td>2600</td><td>0</td><td>0</td></tr><tr><td>860</td><td>0</td><td>0</td></tr><tr><td>270</td><td>0</td><td>0</td></tr><tr><td>710</td><td>0</td><td>0</td></tr></tbody></table></div>"
      ],
      "text/plain": [
       "shape: (5, 3)\n",
       "┌────────────┬──────────────────┬────────────────┐\n",
       "│ HouseCosts ┆ OwnRent_Outright ┆ OwnRent_Rented │\n",
       "│ ---        ┆ ---              ┆ ---            │\n",
       "│ i64        ┆ u8               ┆ u8             │\n",
       "╞════════════╪══════════════════╪════════════════╡\n",
       "│ 1800       ┆ 0                ┆ 0              │\n",
       "│ 2600       ┆ 0                ┆ 0              │\n",
       "│ 860        ┆ 0                ┆ 0              │\n",
       "│ 270        ┆ 0                ┆ 0              │\n",
       "│ 710        ┆ 0                ┆ 0              │\n",
       "└────────────┴──────────────────┴────────────────┘"
      ]
     },
     "metadata": {},
     "output_type": "display_data"
    },
    {
     "name": "stdout",
     "output_type": "stream",
     "text": [
      "shape: (4, 2)\n",
      "┌──────────────────┬─────────────┐\n",
      "│ Label            ┆ Coefficient │\n",
      "│ ---              ┆ ---         │\n",
      "│ str              ┆ f64         │\n",
      "╞══════════════════╪═════════════╡\n",
      "│ Intercept        ┆ 1.219447    │\n",
      "│ HouseCosts       ┆ 0.0         │\n",
      "│ OwnRent_Outright ┆ 0.0         │\n",
      "│ OwnRent_Rented   ┆ 0.0         │\n",
      "└──────────────────┴─────────────┘\n"
     ]
    },
    {
     "name": "stderr",
     "output_type": "stream",
     "text": [
      "c:\\Python311\\Lib\\site-packages\\sklearn\\linear_model\\_linear_loss.py:290: RuntimeWarning: invalid value encountered in matmul\n",
      "  grad[:n_features] = X.T @ grad_pointwise + l2_reg_strength * weights\n"
     ]
    }
   ],
   "source": [
    "from sklearn import linear_model\n",
    "\n",
    "# ダミー変数を作成する\n",
    "import polars.selectors as cs\n",
    "# 数値型は外しておく\n",
    "df_numeric = acs_subset.select(cs.numeric()).drop(\"NumBedrooms\")\n",
    "# カテゴリ変数のみダミー変数を作成する\n",
    "df_categorical = acs_subset.select(cs.string())\n",
    "df_dummy = df_categorical.to_dummies(drop_first = True)\n",
    "# 学習用のDataFrameを作成する\n",
    "df_study = pl.concat(items = [df_numeric, df_dummy], how = \"horizontal\")\n",
    "display(df_study.head())\n",
    "\n",
    "# モデルを学習する\n",
    "lr = linear_model.PoissonRegressor()\n",
    "model = lr.fit(X = df_study, y = acs_subset[\"NumBedrooms\"])\n",
    "\n",
    "\n",
    "# 学習結果を表示する\n",
    "import numpy as np\n",
    "# 係数の名称\n",
    "labels = [\"Intercept\"]\n",
    "for col in df_study.columns:\n",
    "    labels.append(col)\n",
    "# 係数\n",
    "coefficients = np.append(\n",
    "    model.intercept_, model.coef_\n",
    ")\n",
    "# 学習結果\n",
    "result = pl.DataFrame({\n",
    "    \"Label\": labels,\n",
    "    \"Coefficient\": coefficients\n",
    "})\n",
    "print(result)"
   ]
  }
 ],
 "metadata": {
  "kernelspec": {
   "display_name": "Python 3",
   "language": "python",
   "name": "python3"
  },
  "language_info": {
   "codemirror_mode": {
    "name": "ipython",
    "version": 3
   },
   "file_extension": ".py",
   "mimetype": "text/x-python",
   "name": "python",
   "nbconvert_exporter": "python",
   "pygments_lexer": "ipython3",
   "version": "3.11.4"
  }
 },
 "nbformat": 4,
 "nbformat_minor": 2
}
