{
 "cells": [
  {
   "cell_type": "markdown",
   "metadata": {},
   "source": [
    "## 2.4 SeriesとDataFrameの書き換え"
   ]
  },
  {
   "cell_type": "code",
   "execution_count": null,
   "metadata": {},
   "outputs": [],
   "source": [
    "import polars as pl"
   ]
  },
  {
   "cell_type": "markdown",
   "metadata": {},
   "source": [
    "### データを読み込む"
   ]
  },
  {
   "cell_type": "code",
   "execution_count": null,
   "metadata": {},
   "outputs": [],
   "source": [
    "scientists = pl.read_csv(\"../data/scientists.csv\")\n",
    "scientists.head()"
   ]
  },
  {
   "cell_type": "markdown",
   "metadata": {},
   "source": [
    "### 列を追加する"
   ]
  },
  {
   "cell_type": "code",
   "execution_count": null,
   "metadata": {},
   "outputs": [],
   "source": [
    "# 生年月日と命日の列を追加する\n",
    "# このとき、データ型をDateTimeに変換する\n",
    "scientists = (\n",
    "    scientists.with_columns([\n",
    "        scientists[\"Born\"].str.to_datetime(format = \"%Y-%m-%d\").alias(\"born_dt\"),\n",
    "        scientists[\"Died\"].str.to_datetime(format = \"%Y-%m-%d\").alias(\"died_dt\")\n",
    "    ])\n",
    ")\n",
    "\n",
    "scientists.head()"
   ]
  },
  {
   "cell_type": "markdown",
   "metadata": {},
   "source": [
    "### 列を直接変更する"
   ]
  },
  {
   "cell_type": "code",
   "execution_count": null,
   "metadata": {},
   "outputs": [],
   "source": [
    "# 年齢列の要素をシャッフルして元の列と入れ替える\n",
    "scientists = (\n",
    "    scientists.with_columns([\n",
    "        scientists[\"Age\"].sample(n = len(scientists), shuffle = True, seed = 42).alias(\"Age\")\n",
    "    ])\n",
    ")\n",
    "\n",
    "scientists.head()"
   ]
  },
  {
   "cell_type": "markdown",
   "metadata": {},
   "source": [
    "### 列を破棄する"
   ]
  },
  {
   "cell_type": "code",
   "execution_count": null,
   "metadata": {},
   "outputs": [],
   "source": [
    "scientists.drop(columns = [\"Age\", \"Died\"])"
   ]
  }
 ],
 "metadata": {
  "kernelspec": {
   "display_name": "Python 3",
   "language": "python",
   "name": "python3"
  },
  "language_info": {
   "codemirror_mode": {
    "name": "ipython",
    "version": 3
   },
   "file_extension": ".py",
   "mimetype": "text/x-python",
   "name": "python",
   "nbconvert_exporter": "python",
   "pygments_lexer": "ipython3",
   "version": "3.11.4"
  }
 },
 "nbformat": 4,
 "nbformat_minor": 2
}
