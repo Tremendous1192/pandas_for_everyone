{
 "cells": [
  {
   "cell_type": "markdown",
   "metadata": {},
   "source": [
    "## 13.3 カテゴリ変数を使うモデル\n",
    "カテゴリ変数を用いた```statsmodels```と```sklearn```による重回帰分析のスニペット。\n",
    "\n",
    "```polars```の```to_dummies()```関数は数値型もダミー変数にするので注意。"
   ]
  },
  {
   "cell_type": "markdown",
   "metadata": {},
   "source": [
    "### (共通)データの読み込み\n",
    "```seaborn```の```tips```データセットを用いる。"
   ]
  },
  {
   "cell_type": "code",
   "execution_count": 1,
   "metadata": {},
   "outputs": [
    {
     "data": {
      "text/html": [
       "<div><style>\n",
       ".dataframe > thead > tr,\n",
       ".dataframe > tbody > tr {\n",
       "  text-align: right;\n",
       "  white-space: pre-wrap;\n",
       "}\n",
       "</style>\n",
       "<small>shape: (5, 7)</small><table border=\"1\" class=\"dataframe\"><thead><tr><th>total_bill</th><th>tip</th><th>sex</th><th>smoker</th><th>day</th><th>time</th><th>size</th></tr><tr><td>f64</td><td>f64</td><td>cat</td><td>cat</td><td>cat</td><td>cat</td><td>i64</td></tr></thead><tbody><tr><td>16.99</td><td>1.01</td><td>&quot;Female&quot;</td><td>&quot;No&quot;</td><td>&quot;Sun&quot;</td><td>&quot;Dinner&quot;</td><td>2</td></tr><tr><td>10.34</td><td>1.66</td><td>&quot;Male&quot;</td><td>&quot;No&quot;</td><td>&quot;Sun&quot;</td><td>&quot;Dinner&quot;</td><td>3</td></tr><tr><td>21.01</td><td>3.5</td><td>&quot;Male&quot;</td><td>&quot;No&quot;</td><td>&quot;Sun&quot;</td><td>&quot;Dinner&quot;</td><td>3</td></tr><tr><td>23.68</td><td>3.31</td><td>&quot;Male&quot;</td><td>&quot;No&quot;</td><td>&quot;Sun&quot;</td><td>&quot;Dinner&quot;</td><td>2</td></tr><tr><td>24.59</td><td>3.61</td><td>&quot;Female&quot;</td><td>&quot;No&quot;</td><td>&quot;Sun&quot;</td><td>&quot;Dinner&quot;</td><td>4</td></tr></tbody></table></div>"
      ],
      "text/plain": [
       "shape: (5, 7)\n",
       "┌────────────┬──────┬────────┬────────┬─────┬────────┬──────┐\n",
       "│ total_bill ┆ tip  ┆ sex    ┆ smoker ┆ day ┆ time   ┆ size │\n",
       "│ ---        ┆ ---  ┆ ---    ┆ ---    ┆ --- ┆ ---    ┆ ---  │\n",
       "│ f64        ┆ f64  ┆ cat    ┆ cat    ┆ cat ┆ cat    ┆ i64  │\n",
       "╞════════════╪══════╪════════╪════════╪═════╪════════╪══════╡\n",
       "│ 16.99      ┆ 1.01 ┆ Female ┆ No     ┆ Sun ┆ Dinner ┆ 2    │\n",
       "│ 10.34      ┆ 1.66 ┆ Male   ┆ No     ┆ Sun ┆ Dinner ┆ 3    │\n",
       "│ 21.01      ┆ 3.5  ┆ Male   ┆ No     ┆ Sun ┆ Dinner ┆ 3    │\n",
       "│ 23.68      ┆ 3.31 ┆ Male   ┆ No     ┆ Sun ┆ Dinner ┆ 2    │\n",
       "│ 24.59      ┆ 3.61 ┆ Female ┆ No     ┆ Sun ┆ Dinner ┆ 4    │\n",
       "└────────────┴──────┴────────┴────────┴─────┴────────┴──────┘"
      ]
     },
     "metadata": {},
     "output_type": "display_data"
    },
    {
     "data": {
      "text/plain": [
       "['total_bill', 'tip', 'sex', 'smoker', 'day', 'time', 'size']"
      ]
     },
     "metadata": {},
     "output_type": "display_data"
    },
    {
     "data": {
      "text/plain": [
       "[Float64, Float64, Categorical, Categorical, Categorical, Categorical, Int64]"
      ]
     },
     "metadata": {},
     "output_type": "display_data"
    },
    {
     "data": {
      "text/plain": [
       "array(['Male', 'Female'], dtype=object)"
      ]
     },
     "metadata": {},
     "output_type": "display_data"
    },
    {
     "data": {
      "text/plain": [
       "array(['Yes', 'No'], dtype=object)"
      ]
     },
     "metadata": {},
     "output_type": "display_data"
    },
    {
     "data": {
      "text/plain": [
       "array(['Thur', 'Fri', 'Sat', 'Sun'], dtype=object)"
      ]
     },
     "metadata": {},
     "output_type": "display_data"
    },
    {
     "data": {
      "text/plain": [
       "array(['Lunch', 'Dinner'], dtype=object)"
      ]
     },
     "metadata": {},
     "output_type": "display_data"
    }
   ],
   "source": [
    "import polars as pl\n",
    "import seaborn as sns\n",
    "\n",
    "# データの読み込み\n",
    "tips = pl.DataFrame(sns.load_dataset(\"tips\"))\n",
    "display(tips.head())\n",
    "\n",
    "# データ型を表示する\n",
    "display(tips.columns)\n",
    "display(tips.dtypes)\n",
    "\n",
    "# カテゴリ変数のユニーク値を表示する\n",
    "display(tips[\"sex\"].unique().to_numpy())\n",
    "display(tips[\"smoker\"].unique().to_numpy())\n",
    "display(tips[\"day\"].unique().to_numpy())\n",
    "display(tips[\"time\"].unique().to_numpy())"
   ]
  },
  {
   "cell_type": "markdown",
   "metadata": {},
   "source": [
    "### 13.2.1 statsmodels"
   ]
  },
  {
   "cell_type": "code",
   "execution_count": 2,
   "metadata": {},
   "outputs": [
    {
     "data": {
      "text/html": [
       "<table class=\"simpletable\">\n",
       "<caption>OLS Regression Results</caption>\n",
       "<tr>\n",
       "  <th>Dep. Variable:</th>           <td>tip</td>       <th>  R-squared:         </th> <td>   0.477</td>\n",
       "</tr>\n",
       "<tr>\n",
       "  <th>Model:</th>                   <td>OLS</td>       <th>  Adj. R-squared:    </th> <td>   0.457</td>\n",
       "</tr>\n",
       "<tr>\n",
       "  <th>Method:</th>             <td>Least Squares</td>  <th>  F-statistic:       </th> <td>   23.70</td>\n",
       "</tr>\n",
       "<tr>\n",
       "  <th>Date:</th>             <td>Mon, 01 Jan 2024</td> <th>  Prob (F-statistic):</th> <td>1.49e-28</td>\n",
       "</tr>\n",
       "<tr>\n",
       "  <th>Time:</th>                 <td>16:09:48</td>     <th>  Log-Likelihood:    </th> <td> -345.92</td>\n",
       "</tr>\n",
       "<tr>\n",
       "  <th>No. Observations:</th>      <td>   244</td>      <th>  AIC:               </th> <td>   711.8</td>\n",
       "</tr>\n",
       "<tr>\n",
       "  <th>Df Residuals:</th>          <td>   234</td>      <th>  BIC:               </th> <td>   746.8</td>\n",
       "</tr>\n",
       "<tr>\n",
       "  <th>Df Model:</th>              <td>     9</td>      <th>                     </th>     <td> </td>   \n",
       "</tr>\n",
       "<tr>\n",
       "  <th>Covariance Type:</th>      <td>nonrobust</td>    <th>                     </th>     <td> </td>   \n",
       "</tr>\n",
       "</table>\n",
       "<table class=\"simpletable\">\n",
       "<tr>\n",
       "              <td></td>                 <th>coef</th>     <th>std err</th>      <th>t</th>      <th>P>|t|</th>  <th>[0.025</th>    <th>0.975]</th>  \n",
       "</tr>\n",
       "<tr>\n",
       "  <th>Intercept</th>                 <td>    0.6463</td> <td>    0.363</td> <td>    1.782</td> <td> 0.076</td> <td>   -0.068</td> <td>    1.361</td>\n",
       "</tr>\n",
       "<tr>\n",
       "  <th>sex[T.Male]</th>               <td>    0.1573</td> <td>    0.178</td> <td>    0.882</td> <td> 0.379</td> <td>   -0.194</td> <td>    0.509</td>\n",
       "</tr>\n",
       "<tr>\n",
       "  <th>smoker[T.Yes]</th>             <td>    0.2350</td> <td>    0.236</td> <td>    0.997</td> <td> 0.320</td> <td>   -0.229</td> <td>    0.699</td>\n",
       "</tr>\n",
       "<tr>\n",
       "  <th>day[T.Sat]</th>                <td>   -0.1135</td> <td>    0.308</td> <td>   -0.368</td> <td> 0.713</td> <td>   -0.721</td> <td>    0.494</td>\n",
       "</tr>\n",
       "<tr>\n",
       "  <th>day[T.Sun]</th>                <td>   -0.0151</td> <td>    0.320</td> <td>   -0.047</td> <td> 0.962</td> <td>   -0.646</td> <td>    0.615</td>\n",
       "</tr>\n",
       "<tr>\n",
       "  <th>day[T.Thur]</th>               <td>   -0.1095</td> <td>    0.393</td> <td>   -0.279</td> <td> 0.781</td> <td>   -0.884</td> <td>    0.665</td>\n",
       "</tr>\n",
       "<tr>\n",
       "  <th>time[T.Lunch]</th>             <td>    0.0565</td> <td>    0.443</td> <td>    0.128</td> <td> 0.899</td> <td>   -0.816</td> <td>    0.929</td>\n",
       "</tr>\n",
       "<tr>\n",
       "  <th>sex[T.Male]:smoker[T.Yes]</th> <td>   -0.4929</td> <td>    0.284</td> <td>   -1.737</td> <td> 0.084</td> <td>   -1.052</td> <td>    0.066</td>\n",
       "</tr>\n",
       "<tr>\n",
       "  <th>total_bill</th>                <td>    0.0956</td> <td>    0.010</td> <td>    9.977</td> <td> 0.000</td> <td>    0.077</td> <td>    0.114</td>\n",
       "</tr>\n",
       "<tr>\n",
       "  <th>size</th>                      <td>    0.1744</td> <td>    0.089</td> <td>    1.957</td> <td> 0.052</td> <td>   -0.001</td> <td>    0.350</td>\n",
       "</tr>\n",
       "</table>\n",
       "<table class=\"simpletable\">\n",
       "<tr>\n",
       "  <th>Omnibus:</th>       <td>29.502</td> <th>  Durbin-Watson:     </th> <td>   2.106</td>\n",
       "</tr>\n",
       "<tr>\n",
       "  <th>Prob(Omnibus):</th> <td> 0.000</td> <th>  Jarque-Bera (JB):  </th> <td>  59.303</td>\n",
       "</tr>\n",
       "<tr>\n",
       "  <th>Skew:</th>          <td> 0.617</td> <th>  Prob(JB):          </th> <td>1.33e-13</td>\n",
       "</tr>\n",
       "<tr>\n",
       "  <th>Kurtosis:</th>      <td> 5.076</td> <th>  Cond. No.          </th> <td>    206.</td>\n",
       "</tr>\n",
       "</table><br/><br/>Notes:<br/>[1] Standard Errors assume that the covariance matrix of the errors is correctly specified."
      ],
      "text/latex": [
       "\\begin{center}\n",
       "\\begin{tabular}{lclc}\n",
       "\\toprule\n",
       "\\textbf{Dep. Variable:}            &       tip        & \\textbf{  R-squared:         } &     0.477   \\\\\n",
       "\\textbf{Model:}                    &       OLS        & \\textbf{  Adj. R-squared:    } &     0.457   \\\\\n",
       "\\textbf{Method:}                   &  Least Squares   & \\textbf{  F-statistic:       } &     23.70   \\\\\n",
       "\\textbf{Date:}                     & Mon, 01 Jan 2024 & \\textbf{  Prob (F-statistic):} &  1.49e-28   \\\\\n",
       "\\textbf{Time:}                     &     16:09:48     & \\textbf{  Log-Likelihood:    } &   -345.92   \\\\\n",
       "\\textbf{No. Observations:}         &         244      & \\textbf{  AIC:               } &     711.8   \\\\\n",
       "\\textbf{Df Residuals:}             &         234      & \\textbf{  BIC:               } &     746.8   \\\\\n",
       "\\textbf{Df Model:}                 &           9      & \\textbf{                     } &             \\\\\n",
       "\\textbf{Covariance Type:}          &    nonrobust     & \\textbf{                     } &             \\\\\n",
       "\\bottomrule\n",
       "\\end{tabular}\n",
       "\\begin{tabular}{lcccccc}\n",
       "                                   & \\textbf{coef} & \\textbf{std err} & \\textbf{t} & \\textbf{P$> |$t$|$} & \\textbf{[0.025} & \\textbf{0.975]}  \\\\\n",
       "\\midrule\n",
       "\\textbf{Intercept}                 &       0.6463  &        0.363     &     1.782  &         0.076        &       -0.068    &        1.361     \\\\\n",
       "\\textbf{sex[T.Male]}               &       0.1573  &        0.178     &     0.882  &         0.379        &       -0.194    &        0.509     \\\\\n",
       "\\textbf{smoker[T.Yes]}             &       0.2350  &        0.236     &     0.997  &         0.320        &       -0.229    &        0.699     \\\\\n",
       "\\textbf{day[T.Sat]}                &      -0.1135  &        0.308     &    -0.368  &         0.713        &       -0.721    &        0.494     \\\\\n",
       "\\textbf{day[T.Sun]}                &      -0.0151  &        0.320     &    -0.047  &         0.962        &       -0.646    &        0.615     \\\\\n",
       "\\textbf{day[T.Thur]}               &      -0.1095  &        0.393     &    -0.279  &         0.781        &       -0.884    &        0.665     \\\\\n",
       "\\textbf{time[T.Lunch]}             &       0.0565  &        0.443     &     0.128  &         0.899        &       -0.816    &        0.929     \\\\\n",
       "\\textbf{sex[T.Male]:smoker[T.Yes]} &      -0.4929  &        0.284     &    -1.737  &         0.084        &       -1.052    &        0.066     \\\\\n",
       "\\textbf{total\\_bill}               &       0.0956  &        0.010     &     9.977  &         0.000        &        0.077    &        0.114     \\\\\n",
       "\\textbf{size}                      &       0.1744  &        0.089     &     1.957  &         0.052        &       -0.001    &        0.350     \\\\\n",
       "\\bottomrule\n",
       "\\end{tabular}\n",
       "\\begin{tabular}{lclc}\n",
       "\\textbf{Omnibus:}       & 29.502 & \\textbf{  Durbin-Watson:     } &    2.106  \\\\\n",
       "\\textbf{Prob(Omnibus):} &  0.000 & \\textbf{  Jarque-Bera (JB):  } &   59.303  \\\\\n",
       "\\textbf{Skew:}          &  0.617 & \\textbf{  Prob(JB):          } & 1.33e-13  \\\\\n",
       "\\textbf{Kurtosis:}      &  5.076 & \\textbf{  Cond. No.          } &     206.  \\\\\n",
       "\\bottomrule\n",
       "\\end{tabular}\n",
       "%\\caption{OLS Regression Results}\n",
       "\\end{center}\n",
       "\n",
       "Notes: \\newline\n",
       " [1] Standard Errors assume that the covariance matrix of the errors is correctly specified."
      ],
      "text/plain": [
       "<class 'statsmodels.iolib.summary.Summary'>\n",
       "\"\"\"\n",
       "                            OLS Regression Results                            \n",
       "==============================================================================\n",
       "Dep. Variable:                    tip   R-squared:                       0.477\n",
       "Model:                            OLS   Adj. R-squared:                  0.457\n",
       "Method:                 Least Squares   F-statistic:                     23.70\n",
       "Date:                Mon, 01 Jan 2024   Prob (F-statistic):           1.49e-28\n",
       "Time:                        16:09:48   Log-Likelihood:                -345.92\n",
       "No. Observations:                 244   AIC:                             711.8\n",
       "Df Residuals:                     234   BIC:                             746.8\n",
       "Df Model:                           9                                         \n",
       "Covariance Type:            nonrobust                                         \n",
       "=============================================================================================\n",
       "                                coef    std err          t      P>|t|      [0.025      0.975]\n",
       "---------------------------------------------------------------------------------------------\n",
       "Intercept                     0.6463      0.363      1.782      0.076      -0.068       1.361\n",
       "sex[T.Male]                   0.1573      0.178      0.882      0.379      -0.194       0.509\n",
       "smoker[T.Yes]                 0.2350      0.236      0.997      0.320      -0.229       0.699\n",
       "day[T.Sat]                   -0.1135      0.308     -0.368      0.713      -0.721       0.494\n",
       "day[T.Sun]                   -0.0151      0.320     -0.047      0.962      -0.646       0.615\n",
       "day[T.Thur]                  -0.1095      0.393     -0.279      0.781      -0.884       0.665\n",
       "time[T.Lunch]                 0.0565      0.443      0.128      0.899      -0.816       0.929\n",
       "sex[T.Male]:smoker[T.Yes]    -0.4929      0.284     -1.737      0.084      -1.052       0.066\n",
       "total_bill                    0.0956      0.010      9.977      0.000       0.077       0.114\n",
       "size                          0.1744      0.089      1.957      0.052      -0.001       0.350\n",
       "==============================================================================\n",
       "Omnibus:                       29.502   Durbin-Watson:                   2.106\n",
       "Prob(Omnibus):                  0.000   Jarque-Bera (JB):               59.303\n",
       "Skew:                           0.617   Prob(JB):                     1.33e-13\n",
       "Kurtosis:                       5.076   Cond. No.                         206.\n",
       "==============================================================================\n",
       "\n",
       "Notes:\n",
       "[1] Standard Errors assume that the covariance matrix of the errors is correctly specified.\n",
       "\"\"\""
      ]
     },
     "metadata": {},
     "output_type": "display_data"
    },
    {
     "data": {
      "text/plain": [
       "Intercept                    0.646304\n",
       "sex[T.Male]                  0.157285\n",
       "smoker[T.Yes]                0.234998\n",
       "day[T.Sat]                  -0.113541\n",
       "day[T.Sun]                  -0.015137\n",
       "day[T.Thur]                 -0.109541\n",
       "time[T.Lunch]                0.056520\n",
       "sex[T.Male]:smoker[T.Yes]   -0.492921\n",
       "total_bill                   0.095595\n",
       "size                         0.174441\n",
       "dtype: float64"
      ]
     },
     "metadata": {},
     "output_type": "display_data"
    },
    {
     "data": {
      "text/html": [
       "<div>\n",
       "<style scoped>\n",
       "    .dataframe tbody tr th:only-of-type {\n",
       "        vertical-align: middle;\n",
       "    }\n",
       "\n",
       "    .dataframe tbody tr th {\n",
       "        vertical-align: top;\n",
       "    }\n",
       "\n",
       "    .dataframe thead th {\n",
       "        text-align: right;\n",
       "    }\n",
       "</style>\n",
       "<table border=\"1\" class=\"dataframe\">\n",
       "  <thead>\n",
       "    <tr style=\"text-align: right;\">\n",
       "      <th></th>\n",
       "      <th>0</th>\n",
       "      <th>1</th>\n",
       "    </tr>\n",
       "  </thead>\n",
       "  <tbody>\n",
       "    <tr>\n",
       "      <th>Intercept</th>\n",
       "      <td>-0.068314</td>\n",
       "      <td>1.360922</td>\n",
       "    </tr>\n",
       "    <tr>\n",
       "      <th>sex[T.Male]</th>\n",
       "      <td>-0.194146</td>\n",
       "      <td>0.508715</td>\n",
       "    </tr>\n",
       "    <tr>\n",
       "      <th>smoker[T.Yes]</th>\n",
       "      <td>-0.229375</td>\n",
       "      <td>0.699371</td>\n",
       "    </tr>\n",
       "    <tr>\n",
       "      <th>day[T.Sat]</th>\n",
       "      <td>-0.721246</td>\n",
       "      <td>0.494165</td>\n",
       "    </tr>\n",
       "    <tr>\n",
       "      <th>day[T.Sun]</th>\n",
       "      <td>-0.645554</td>\n",
       "      <td>0.615281</td>\n",
       "    </tr>\n",
       "    <tr>\n",
       "      <th>day[T.Thur]</th>\n",
       "      <td>-0.883620</td>\n",
       "      <td>0.664538</td>\n",
       "    </tr>\n",
       "    <tr>\n",
       "      <th>time[T.Lunch]</th>\n",
       "      <td>-0.815810</td>\n",
       "      <td>0.928849</td>\n",
       "    </tr>\n",
       "    <tr>\n",
       "      <th>sex[T.Male]:smoker[T.Yes]</th>\n",
       "      <td>-1.052115</td>\n",
       "      <td>0.066273</td>\n",
       "    </tr>\n",
       "    <tr>\n",
       "      <th>total_bill</th>\n",
       "      <td>0.076718</td>\n",
       "      <td>0.114473</td>\n",
       "    </tr>\n",
       "    <tr>\n",
       "      <th>size</th>\n",
       "      <td>-0.001200</td>\n",
       "      <td>0.350081</td>\n",
       "    </tr>\n",
       "  </tbody>\n",
       "</table>\n",
       "</div>"
      ],
      "text/plain": [
       "                                  0         1\n",
       "Intercept                 -0.068314  1.360922\n",
       "sex[T.Male]               -0.194146  0.508715\n",
       "smoker[T.Yes]             -0.229375  0.699371\n",
       "day[T.Sat]                -0.721246  0.494165\n",
       "day[T.Sun]                -0.645554  0.615281\n",
       "day[T.Thur]               -0.883620  0.664538\n",
       "time[T.Lunch]             -0.815810  0.928849\n",
       "sex[T.Male]:smoker[T.Yes] -1.052115  0.066273\n",
       "total_bill                 0.076718  0.114473\n",
       "size                      -0.001200  0.350081"
      ]
     },
     "metadata": {},
     "output_type": "display_data"
    }
   ],
   "source": [
    "import statsmodels.formula.api as smf\n",
    "\n",
    "# モデルを学習する\n",
    "model = smf.ols(formula = \"tip ~ total_bill + size + sex * smoker + day + time\", data = tips).fit()\n",
    "\n",
    "# 学習結果を表示する\n",
    "display(model.summary())\n",
    "\n",
    "# 係数を表示する\n",
    "display(model.params)\n",
    "\n",
    "# 信頼区間を表示する\n",
    "display(model.conf_int())"
   ]
  },
  {
   "cell_type": "markdown",
   "metadata": {},
   "source": [
    "### 13.1.2 sklearn"
   ]
  },
  {
   "cell_type": "code",
   "execution_count": 3,
   "metadata": {},
   "outputs": [
    {
     "data": {
      "text/html": [
       "<div><style>\n",
       ".dataframe > thead > tr,\n",
       ".dataframe > tbody > tr {\n",
       "  text-align: right;\n",
       "  white-space: pre-wrap;\n",
       "}\n",
       "</style>\n",
       "<small>shape: (5, 8)</small><table border=\"1\" class=\"dataframe\"><thead><tr><th>total_bill</th><th>size</th><th>sex_Male</th><th>smoker_Yes</th><th>day_Fri</th><th>day_Sat</th><th>day_Thur</th><th>time_Lunch</th></tr><tr><td>f64</td><td>i64</td><td>u8</td><td>u8</td><td>u8</td><td>u8</td><td>u8</td><td>u8</td></tr></thead><tbody><tr><td>16.99</td><td>2</td><td>0</td><td>0</td><td>0</td><td>0</td><td>0</td><td>0</td></tr><tr><td>10.34</td><td>3</td><td>1</td><td>0</td><td>0</td><td>0</td><td>0</td><td>0</td></tr><tr><td>21.01</td><td>3</td><td>1</td><td>0</td><td>0</td><td>0</td><td>0</td><td>0</td></tr><tr><td>23.68</td><td>2</td><td>1</td><td>0</td><td>0</td><td>0</td><td>0</td><td>0</td></tr><tr><td>24.59</td><td>4</td><td>0</td><td>0</td><td>0</td><td>0</td><td>0</td><td>0</td></tr></tbody></table></div>"
      ],
      "text/plain": [
       "shape: (5, 8)\n",
       "┌────────────┬──────┬──────────┬────────────┬─────────┬─────────┬──────────┬────────────┐\n",
       "│ total_bill ┆ size ┆ sex_Male ┆ smoker_Yes ┆ day_Fri ┆ day_Sat ┆ day_Thur ┆ time_Lunch │\n",
       "│ ---        ┆ ---  ┆ ---      ┆ ---        ┆ ---     ┆ ---     ┆ ---      ┆ ---        │\n",
       "│ f64        ┆ i64  ┆ u8       ┆ u8         ┆ u8      ┆ u8      ┆ u8       ┆ u8         │\n",
       "╞════════════╪══════╪══════════╪════════════╪═════════╪═════════╪══════════╪════════════╡\n",
       "│ 16.99      ┆ 2    ┆ 0        ┆ 0          ┆ 0       ┆ 0       ┆ 0        ┆ 0          │\n",
       "│ 10.34      ┆ 3    ┆ 1        ┆ 0          ┆ 0       ┆ 0       ┆ 0        ┆ 0          │\n",
       "│ 21.01      ┆ 3    ┆ 1        ┆ 0          ┆ 0       ┆ 0       ┆ 0        ┆ 0          │\n",
       "│ 23.68      ┆ 2    ┆ 1        ┆ 0          ┆ 0       ┆ 0       ┆ 0        ┆ 0          │\n",
       "│ 24.59      ┆ 4    ┆ 0        ┆ 0          ┆ 0       ┆ 0       ┆ 0        ┆ 0          │\n",
       "└────────────┴──────┴──────────┴────────────┴─────────┴─────────┴──────────┴────────────┘"
      ]
     },
     "metadata": {},
     "output_type": "display_data"
    },
    {
     "data": {
      "text/plain": [
       "array([ 0.09448701,  0.175992  , -0.03244094, -0.08640832,  0.02548066,\n",
       "       -0.09597772, -0.13677854,  0.0681286 ])"
      ]
     },
     "metadata": {},
     "output_type": "display_data"
    },
    {
     "data": {
      "text/plain": [
       "0.7783366231954139"
      ]
     },
     "metadata": {},
     "output_type": "display_data"
    }
   ],
   "source": [
    "from sklearn import linear_model\n",
    "\n",
    "# ダミー変数を作成する\n",
    "import polars.selectors as cs\n",
    "# 数値型は外しておく\n",
    "df_numeric = tips.select(cs.numeric()).drop(\"tip\")\n",
    "# カテゴリ変数のみダミー変数を作成する\n",
    "df_categorical = tips.select(cs.categorical())\n",
    "df_dummy = df_categorical.to_dummies(drop_first = True)\n",
    "# 学習用のDataFrameを作成する\n",
    "df_study = pl.concat(items = [df_numeric, df_dummy], how = \"horizontal\")\n",
    "display(df_study.head())\n",
    "\n",
    "# モデルを学習する\n",
    "lr = linear_model.LinearRegression()\n",
    "model = lr.fit(X = df_study, y = tips[\"tip\"])\n",
    "\n",
    "# 係数と切片を表示する\n",
    "display(model.coef_)\n",
    "display(model.intercept_)"
   ]
  }
 ],
 "metadata": {
  "kernelspec": {
   "display_name": "Python 3",
   "language": "python",
   "name": "python3"
  },
  "language_info": {
   "codemirror_mode": {
    "name": "ipython",
    "version": 3
   },
   "file_extension": ".py",
   "mimetype": "text/x-python",
   "name": "python",
   "nbconvert_exporter": "python",
   "pygments_lexer": "ipython3",
   "version": "3.11.4"
  }
 },
 "nbformat": 4,
 "nbformat_minor": 2
}
