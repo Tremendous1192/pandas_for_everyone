{
 "cells": [
  {
   "cell_type": "markdown",
   "metadata": {},
   "source": [
    "## 13.3 カテゴリ変数を使うモデル\n",
    "カテゴリ変数を用いた```statsmodels```と```sklearn```による重回帰分析のスニペット。\n",
    "\n",
    "```polars```の```to_dummies()```関数は数値型もダミー変数にするので注意。"
   ]
  },
  {
   "cell_type": "markdown",
   "metadata": {},
   "source": [
    "### (共通)データの読み込み\n",
    "```seaborn```の```tips```データセットを用いる。"
   ]
  },
  {
   "cell_type": "code",
   "execution_count": null,
   "metadata": {},
   "outputs": [],
   "source": [
    "import polars as pl\n",
    "import seaborn as sns\n",
    "\n",
    "# データの読み込み\n",
    "tips = pl.DataFrame(sns.load_dataset(\"tips\"))\n",
    "display(tips.head())\n",
    "\n",
    "# データ型を表示する\n",
    "display(tips.columns)\n",
    "display(tips.dtypes)\n",
    "\n",
    "# カテゴリ変数のユニーク値を表示する\n",
    "display(tips[\"sex\"].unique().to_numpy())\n",
    "display(tips[\"smoker\"].unique().to_numpy())\n",
    "display(tips[\"day\"].unique().to_numpy())\n",
    "display(tips[\"time\"].unique().to_numpy())"
   ]
  },
  {
   "cell_type": "markdown",
   "metadata": {},
   "source": [
    "### 13.2.1 statsmodels"
   ]
  },
  {
   "cell_type": "code",
   "execution_count": null,
   "metadata": {},
   "outputs": [],
   "source": [
    "import statsmodels.formula.api as smf\n",
    "\n",
    "# モデルを学習する\n",
    "model = smf.ols(formula = \"tip ~ total_bill + size + sex * smoker + day + time\", data = tips).fit()\n",
    "\n",
    "# 学習結果を表示する\n",
    "display(model.summary())\n",
    "\n",
    "# 係数を表示する\n",
    "display(model.params)\n",
    "\n",
    "# 信頼区間を表示する\n",
    "display(model.conf_int())"
   ]
  },
  {
   "cell_type": "markdown",
   "metadata": {},
   "source": [
    "### 13.1.2 sklearn"
   ]
  },
  {
   "cell_type": "code",
   "execution_count": null,
   "metadata": {},
   "outputs": [],
   "source": [
    "from sklearn import linear_model\n",
    "\n",
    "# ダミー変数を作成する\n",
    "import polars.selectors as cs\n",
    "# 数値型は外しておく\n",
    "df_numeric = tips.select(cs.numeric()).drop(\"tip\")\n",
    "# カテゴリ変数のみダミー変数を作成する\n",
    "df_categorical = tips.select(cs.categorical())\n",
    "df_dummy = df_categorical.to_dummies(drop_first = True)\n",
    "# 学習用のDataFrameを作成する\n",
    "df_study = pl.concat(items = [df_numeric, df_dummy], how = \"horizontal\")\n",
    "display(df_study.head())\n",
    "\n",
    "# モデルを学習する\n",
    "lr = linear_model.LinearRegression()\n",
    "model = lr.fit(X = df_study, y = tips[\"tip\"])\n",
    "\n",
    "# 係数と切片を表示する\n",
    "display(model.coef_)\n",
    "display(model.intercept_)"
   ]
  }
 ],
 "metadata": {
  "kernelspec": {
   "display_name": "Python 3",
   "language": "python",
   "name": "python3"
  },
  "language_info": {
   "codemirror_mode": {
    "name": "ipython",
    "version": 3
   },
   "file_extension": ".py",
   "mimetype": "text/x-python",
   "name": "python",
   "nbconvert_exporter": "python",
   "pygments_lexer": "ipython3",
   "version": "3.11.4"
  }
 },
 "nbformat": 4,
 "nbformat_minor": 2
}
