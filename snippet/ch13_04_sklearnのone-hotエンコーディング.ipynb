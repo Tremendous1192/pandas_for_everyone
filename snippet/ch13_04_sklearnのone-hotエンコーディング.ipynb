{
 "cells": [
  {
   "cell_type": "markdown",
   "metadata": {},
   "source": [
    "## 13.4 sklearnのone-hotエンコーディングとトランスフォーマーのパイプライン\n",
    "```sklearn```のパイプラインを用いた重回帰分析のスニペット。\n",
    "\n",
    "```pandas.loc[]```を前提にしているため、pandasへの変換が必要。"
   ]
  },
  {
   "cell_type": "markdown",
   "metadata": {},
   "source": [
    "### (共通)データの読み込み\n",
    "```seaborn```の```tips```データセットを用いる。"
   ]
  },
  {
   "cell_type": "code",
   "execution_count": 1,
   "metadata": {},
   "outputs": [
    {
     "data": {
      "text/html": [
       "<div><style>\n",
       ".dataframe > thead > tr,\n",
       ".dataframe > tbody > tr {\n",
       "  text-align: right;\n",
       "  white-space: pre-wrap;\n",
       "}\n",
       "</style>\n",
       "<small>shape: (5, 7)</small><table border=\"1\" class=\"dataframe\"><thead><tr><th>total_bill</th><th>tip</th><th>sex</th><th>smoker</th><th>day</th><th>time</th><th>size</th></tr><tr><td>f64</td><td>f64</td><td>cat</td><td>cat</td><td>cat</td><td>cat</td><td>i64</td></tr></thead><tbody><tr><td>16.99</td><td>1.01</td><td>&quot;Female&quot;</td><td>&quot;No&quot;</td><td>&quot;Sun&quot;</td><td>&quot;Dinner&quot;</td><td>2</td></tr><tr><td>10.34</td><td>1.66</td><td>&quot;Male&quot;</td><td>&quot;No&quot;</td><td>&quot;Sun&quot;</td><td>&quot;Dinner&quot;</td><td>3</td></tr><tr><td>21.01</td><td>3.5</td><td>&quot;Male&quot;</td><td>&quot;No&quot;</td><td>&quot;Sun&quot;</td><td>&quot;Dinner&quot;</td><td>3</td></tr><tr><td>23.68</td><td>3.31</td><td>&quot;Male&quot;</td><td>&quot;No&quot;</td><td>&quot;Sun&quot;</td><td>&quot;Dinner&quot;</td><td>2</td></tr><tr><td>24.59</td><td>3.61</td><td>&quot;Female&quot;</td><td>&quot;No&quot;</td><td>&quot;Sun&quot;</td><td>&quot;Dinner&quot;</td><td>4</td></tr></tbody></table></div>"
      ],
      "text/plain": [
       "shape: (5, 7)\n",
       "┌────────────┬──────┬────────┬────────┬─────┬────────┬──────┐\n",
       "│ total_bill ┆ tip  ┆ sex    ┆ smoker ┆ day ┆ time   ┆ size │\n",
       "│ ---        ┆ ---  ┆ ---    ┆ ---    ┆ --- ┆ ---    ┆ ---  │\n",
       "│ f64        ┆ f64  ┆ cat    ┆ cat    ┆ cat ┆ cat    ┆ i64  │\n",
       "╞════════════╪══════╪════════╪════════╪═════╪════════╪══════╡\n",
       "│ 16.99      ┆ 1.01 ┆ Female ┆ No     ┆ Sun ┆ Dinner ┆ 2    │\n",
       "│ 10.34      ┆ 1.66 ┆ Male   ┆ No     ┆ Sun ┆ Dinner ┆ 3    │\n",
       "│ 21.01      ┆ 3.5  ┆ Male   ┆ No     ┆ Sun ┆ Dinner ┆ 3    │\n",
       "│ 23.68      ┆ 3.31 ┆ Male   ┆ No     ┆ Sun ┆ Dinner ┆ 2    │\n",
       "│ 24.59      ┆ 3.61 ┆ Female ┆ No     ┆ Sun ┆ Dinner ┆ 4    │\n",
       "└────────────┴──────┴────────┴────────┴─────┴────────┴──────┘"
      ]
     },
     "metadata": {},
     "output_type": "display_data"
    },
    {
     "data": {
      "text/plain": [
       "['total_bill', 'tip', 'sex', 'smoker', 'day', 'time', 'size']"
      ]
     },
     "metadata": {},
     "output_type": "display_data"
    },
    {
     "data": {
      "text/plain": [
       "[Float64, Float64, Categorical, Categorical, Categorical, Categorical, Int64]"
      ]
     },
     "metadata": {},
     "output_type": "display_data"
    },
    {
     "data": {
      "text/plain": [
       "array(['Male', 'Female'], dtype=object)"
      ]
     },
     "metadata": {},
     "output_type": "display_data"
    },
    {
     "data": {
      "text/plain": [
       "array(['Yes', 'No'], dtype=object)"
      ]
     },
     "metadata": {},
     "output_type": "display_data"
    },
    {
     "data": {
      "text/plain": [
       "array(['Thur', 'Fri', 'Sat', 'Sun'], dtype=object)"
      ]
     },
     "metadata": {},
     "output_type": "display_data"
    },
    {
     "data": {
      "text/plain": [
       "array(['Lunch', 'Dinner'], dtype=object)"
      ]
     },
     "metadata": {},
     "output_type": "display_data"
    }
   ],
   "source": [
    "import polars as pl\n",
    "import seaborn as sns\n",
    "\n",
    "# データの読み込み\n",
    "tips = pl.DataFrame(sns.load_dataset(\"tips\"))\n",
    "display(tips.head())"
   ]
  },
  {
   "cell_type": "code",
   "execution_count": 4,
   "metadata": {},
   "outputs": [
    {
     "data": {
      "text/html": [
       "<div><style>\n",
       ".dataframe > thead > tr,\n",
       ".dataframe > tbody > tr {\n",
       "  text-align: right;\n",
       "  white-space: pre-wrap;\n",
       "}\n",
       "</style>\n",
       "<small>shape: (9, 2)</small><table border=\"1\" class=\"dataframe\"><thead><tr><th>variables</th><th>coef</th></tr><tr><td>object</td><td>f64</td></tr></thead><tbody><tr><td>intercept</td><td>0.803817</td></tr><tr><td>cat__sex_Male</td><td>-0.032441</td></tr><tr><td>cat__smoker_Yes</td><td>-0.086408</td></tr><tr><td>cat__day_Sat</td><td>-0.121458</td></tr><tr><td>cat__day_Sun</td><td>-0.025481</td></tr><tr><td>cat__day_Thur</td><td>-0.162259</td></tr><tr><td>cat__time_Lunch</td><td>0.068129</td></tr><tr><td>remainder__total_bill</td><td>0.094487</td></tr><tr><td>remainder__size</td><td>0.175992</td></tr></tbody></table></div>"
      ],
      "text/plain": [
       "shape: (9, 2)\n",
       "┌───────────────────────┬───────────┐\n",
       "│ variables             ┆ coef      │\n",
       "│ ---                   ┆ ---       │\n",
       "│ object                ┆ f64       │\n",
       "╞═══════════════════════╪═══════════╡\n",
       "│ intercept             ┆ 0.803817  │\n",
       "│ cat__sex_Male         ┆ -0.032441 │\n",
       "│ cat__smoker_Yes       ┆ -0.086408 │\n",
       "│ cat__day_Sat          ┆ -0.121458 │\n",
       "│ cat__day_Sun          ┆ -0.025481 │\n",
       "│ cat__day_Thur         ┆ -0.162259 │\n",
       "│ cat__time_Lunch       ┆ 0.068129  │\n",
       "│ remainder__total_bill ┆ 0.094487  │\n",
       "│ remainder__size       ┆ 0.175992  │\n",
       "└───────────────────────┴───────────┘"
      ]
     },
     "metadata": {},
     "output_type": "display_data"
    }
   ],
   "source": [
    "from sklearn import linear_model\n",
    "\n",
    "# 前処理関係のライブラリをインポートする\n",
    "from sklearn.compose import ColumnTransformer\n",
    "from sklearn.preprocessing import OneHotEncoder\n",
    "from sklearn.pipeline import Pipeline\n",
    "import numpy as np\n",
    "\n",
    "# ダミー変数化したい変数を指定する\n",
    "categorical_features = [\"sex\", \"smoker\", \"day\", \"time\"]\n",
    "categorical_transformer = OneHotEncoder(drop = \"first\")\n",
    "\n",
    "# 前処理器の初期化\n",
    "preprocessor = ColumnTransformer(\n",
    "    transformers = [\n",
    "        (\"cat\", categorical_transformer, categorical_features),\n",
    "    ],\n",
    "    remainder = \"passthrough\"# 処理しない変数はそのまま通す\n",
    ")\n",
    "\n",
    "# パイプラインの初期化\n",
    "pipe = Pipeline(\n",
    "    steps = [\n",
    "        (\"preprocessor\", preprocessor),\n",
    "        (\"lr\", linear_model.LinearRegression())\n",
    "    ]\n",
    ")\n",
    "\n",
    "# 学習\n",
    "pipe.fit(\n",
    "    X = tips[[\"total_bill\", \"size\", \"sex\", \"smoker\", \"day\", \"time\"]].to_pandas(),\n",
    "    y = tips[\"tip\"].to_pandas(),\n",
    ")\n",
    "\n",
    "# 係数と切片を表示する\n",
    "coefficients = np.append(\n",
    "    pipe.named_steps[\"lr\"].intercept_, pipe.named_steps[\"lr\"].coef_\n",
    ")\n",
    "labels = np.append(\n",
    "    [\"intercept\"], pipe[:-1].get_feature_names_out()\n",
    ")\n",
    "coefs = pl.DataFrame({\"variables\": labels, \"coef\": coefficients})\n",
    "display(coefs)"
   ]
  }
 ],
 "metadata": {
  "kernelspec": {
   "display_name": "Python 3",
   "language": "python",
   "name": "python3"
  },
  "language_info": {
   "codemirror_mode": {
    "name": "ipython",
    "version": 3
   },
   "file_extension": ".py",
   "mimetype": "text/x-python",
   "name": "python",
   "nbconvert_exporter": "python",
   "pygments_lexer": "ipython3",
   "version": "3.11.4"
  }
 },
 "nbformat": 4,
 "nbformat_minor": 2
}
