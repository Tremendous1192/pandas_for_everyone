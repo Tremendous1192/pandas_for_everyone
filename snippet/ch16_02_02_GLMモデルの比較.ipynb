{
 "cells": [
  {
   "cell_type": "markdown",
   "metadata": {},
   "source": [
    "### 16.2.2 GLMモデルの比較"
   ]
  },
  {
   "cell_type": "markdown",
   "metadata": {},
   "source": [
    "### データを読み込む"
   ]
  },
  {
   "cell_type": "code",
   "execution_count": 5,
   "metadata": {},
   "outputs": [
    {
     "data": {
      "text/html": [
       "<div><style>\n",
       ".dataframe > thead > tr,\n",
       ".dataframe > tbody > tr {\n",
       "  text-align: right;\n",
       "  white-space: pre-wrap;\n",
       "}\n",
       "</style>\n",
       "<small>shape: (5, 13)</small><table border=\"1\" class=\"dataframe\"><thead><tr><th>neighborhood</th><th>type</th><th>units</th><th>year_built</th><th>sq_ft</th><th>income</th><th>income_per_sq_ft</th><th>expense</th><th>expense_per_sq_ft</th><th>net_income</th><th>value</th><th>value_per_sq_ft</th><th>boro</th></tr><tr><td>str</td><td>str</td><td>i64</td><td>f64</td><td>i64</td><td>i64</td><td>f64</td><td>i64</td><td>f64</td><td>i64</td><td>i64</td><td>f64</td><td>str</td></tr></thead><tbody><tr><td>&quot;FINANCIAL&quot;</td><td>&quot;R9-CONDOMINIUM…</td><td>42</td><td>1920.0</td><td>36500</td><td>1332615</td><td>36.51</td><td>342005</td><td>9.37</td><td>990610</td><td>7300000</td><td>200.0</td><td>&quot;Manhattan&quot;</td></tr><tr><td>&quot;FINANCIAL&quot;</td><td>&quot;R4-CONDOMINIUM…</td><td>78</td><td>1985.0</td><td>126420</td><td>6633257</td><td>52.47</td><td>1762295</td><td>13.94</td><td>4870962</td><td>30690000</td><td>242.76</td><td>&quot;Manhattan&quot;</td></tr><tr><td>&quot;FINANCIAL&quot;</td><td>&quot;RR-CONDOMINIUM…</td><td>500</td><td>null</td><td>554174</td><td>17310000</td><td>31.24</td><td>3543000</td><td>6.39</td><td>13767000</td><td>90970000</td><td>164.15</td><td>&quot;Manhattan&quot;</td></tr><tr><td>&quot;FINANCIAL&quot;</td><td>&quot;R4-CONDOMINIUM…</td><td>282</td><td>1930.0</td><td>249076</td><td>11776313</td><td>47.28</td><td>2784670</td><td>11.18</td><td>8991643</td><td>67556006</td><td>271.23</td><td>&quot;Manhattan&quot;</td></tr><tr><td>&quot;TRIBECA&quot;</td><td>&quot;R4-CONDOMINIUM…</td><td>239</td><td>1985.0</td><td>219495</td><td>10004582</td><td>45.58</td><td>2783197</td><td>12.68</td><td>7221385</td><td>54320996</td><td>247.48</td><td>&quot;Manhattan&quot;</td></tr></tbody></table></div>"
      ],
      "text/plain": [
       "shape: (5, 13)\n",
       "┌────────────┬────────────┬───────┬────────────┬───┬────────────┬──────────┬───────────┬───────────┐\n",
       "│ neighborho ┆ type       ┆ units ┆ year_built ┆ … ┆ net_income ┆ value    ┆ value_per ┆ boro      │\n",
       "│ od         ┆ ---        ┆ ---   ┆ ---        ┆   ┆ ---        ┆ ---      ┆ _sq_ft    ┆ ---       │\n",
       "│ ---        ┆ str        ┆ i64   ┆ f64        ┆   ┆ i64        ┆ i64      ┆ ---       ┆ str       │\n",
       "│ str        ┆            ┆       ┆            ┆   ┆            ┆          ┆ f64       ┆           │\n",
       "╞════════════╪════════════╪═══════╪════════════╪═══╪════════════╪══════════╪═══════════╪═══════════╡\n",
       "│ FINANCIAL  ┆ R9-CONDOMI ┆ 42    ┆ 1920.0     ┆ … ┆ 990610     ┆ 7300000  ┆ 200.0     ┆ Manhattan │\n",
       "│            ┆ NIUM       ┆       ┆            ┆   ┆            ┆          ┆           ┆           │\n",
       "│ FINANCIAL  ┆ R4-CONDOMI ┆ 78    ┆ 1985.0     ┆ … ┆ 4870962    ┆ 30690000 ┆ 242.76    ┆ Manhattan │\n",
       "│            ┆ NIUM       ┆       ┆            ┆   ┆            ┆          ┆           ┆           │\n",
       "│ FINANCIAL  ┆ RR-CONDOMI ┆ 500   ┆ null       ┆ … ┆ 13767000   ┆ 90970000 ┆ 164.15    ┆ Manhattan │\n",
       "│            ┆ NIUM       ┆       ┆            ┆   ┆            ┆          ┆           ┆           │\n",
       "│ FINANCIAL  ┆ R4-CONDOMI ┆ 282   ┆ 1930.0     ┆ … ┆ 8991643    ┆ 67556006 ┆ 271.23    ┆ Manhattan │\n",
       "│            ┆ NIUM       ┆       ┆            ┆   ┆            ┆          ┆           ┆           │\n",
       "│ TRIBECA    ┆ R4-CONDOMI ┆ 239   ┆ 1985.0     ┆ … ┆ 7221385    ┆ 54320996 ┆ 247.48    ┆ Manhattan │\n",
       "│            ┆ NIUM       ┆       ┆            ┆   ┆            ┆          ┆           ┆           │\n",
       "└────────────┴────────────┴───────┴────────────┴───┴────────────┴──────────┴───────────┴───────────┘"
      ]
     },
     "execution_count": 5,
     "metadata": {},
     "output_type": "execute_result"
    }
   ],
   "source": [
    "import polars as pl\n",
    "\n",
    "housing = pl.read_csv(\"../data/housing_renamed.csv\")\n",
    "housing.head()"
   ]
  },
  {
   "cell_type": "markdown",
   "metadata": {},
   "source": [
    "### 各モデルの学習"
   ]
  },
  {
   "cell_type": "code",
   "execution_count": 6,
   "metadata": {},
   "outputs": [],
   "source": [
    "import statsmodels\n",
    "import statsmodels.api as sm\n",
    "import statsmodels.formula.api as smf"
   ]
  },
  {
   "cell_type": "code",
   "execution_count": 7,
   "metadata": {},
   "outputs": [
    {
     "data": {
      "text/html": [
       "<div><style>\n",
       ".dataframe > thead > tr,\n",
       ".dataframe > tbody > tr {\n",
       "  text-align: right;\n",
       "  white-space: pre-wrap;\n",
       "}\n",
       "</style>\n",
       "<small>shape: (5, 4)</small><table border=\"1\" class=\"dataframe\"><thead><tr><th>df_residuals</th><th>resid_stddev</th><th>df</th><th>deviance</th></tr><tr><td>i64</td><td>f64</td><td>i64</td><td>f64</td></tr></thead><tbody><tr><td>2619</td><td>4.9224e6</td><td>6</td><td>4.9224e6</td></tr><tr><td>2618</td><td>4.8849e6</td><td>7</td><td>4.8849e6</td></tr><tr><td>2612</td><td>4.6199e6</td><td>13</td><td>4.6199e6</td></tr><tr><td>2609</td><td>4.5767e6</td><td>16</td><td>4.5767e6</td></tr><tr><td>2618</td><td>4.9015e6</td><td>7</td><td>4.9015e6</td></tr></tbody></table></div>"
      ],
      "text/plain": [
       "shape: (5, 4)\n",
       "┌──────────────┬──────────────┬─────┬──────────┐\n",
       "│ df_residuals ┆ resid_stddev ┆ df  ┆ deviance │\n",
       "│ ---          ┆ ---          ┆ --- ┆ ---      │\n",
       "│ i64          ┆ f64          ┆ i64 ┆ f64      │\n",
       "╞══════════════╪══════════════╪═════╪══════════╡\n",
       "│ 2619         ┆ 4.9224e6     ┆ 6   ┆ 4.9224e6 │\n",
       "│ 2618         ┆ 4.8849e6     ┆ 7   ┆ 4.8849e6 │\n",
       "│ 2612         ┆ 4.6199e6     ┆ 13  ┆ 4.6199e6 │\n",
       "│ 2609         ┆ 4.5767e6     ┆ 16  ┆ 4.5767e6 │\n",
       "│ 2618         ┆ 4.9015e6     ┆ 7   ┆ 4.9015e6 │\n",
       "└──────────────┴──────────────┴─────┴──────────┘"
      ]
     },
     "execution_count": 7,
     "metadata": {},
     "output_type": "execute_result"
    }
   ],
   "source": [
    "def deviance_table(*models):\n",
    "    return pl.DataFrame({\n",
    "        \"df_residuals\": [mod.df_resid for mod in models],\n",
    "        \"resid_stddev\": [mod.deviance for mod in models],\n",
    "        \"df\": [mod.df_model for mod in models],\n",
    "        \"deviance\": [mod.deviance for mod in models]\n",
    "    })\n",
    "\n",
    "\n",
    "f1 = \"value_per_sq_ft ~ units + sq_ft + boro\"\n",
    "f2 = \"value_per_sq_ft ~ units * sq_ft + boro\"\n",
    "f3 = \"value_per_sq_ft ~ units + sq_ft * boro + type\"\n",
    "f4 = \"value_per_sq_ft ~ units + sq_ft * boro + sq_ft * type\"\n",
    "f5 = \"value_per_sq_ft ~ boro + type\"\n",
    "\n",
    "glm1 = smf.glm(f1, data = housing).fit()\n",
    "glm2 = smf.glm(f2, data = housing).fit()\n",
    "glm3 = smf.glm(f3, data = housing).fit()\n",
    "glm4 = smf.glm(f4, data = housing).fit()\n",
    "glm5 = smf.glm(f5, data = housing).fit()\n",
    "\n",
    "glm_anova = deviance_table(glm1, glm2, glm3, glm4, glm5)\n",
    "glm_anova"
   ]
  },
  {
   "cell_type": "markdown",
   "metadata": {},
   "source": [
    "### ロジスティック回帰におけるモデル比較"
   ]
  },
  {
   "cell_type": "code",
   "execution_count": 10,
   "metadata": {},
   "outputs": [
    {
     "data": {
      "text/html": [
       "<div><style>\n",
       ".dataframe > thead > tr,\n",
       ".dataframe > tbody > tr {\n",
       "  text-align: right;\n",
       "  white-space: pre-wrap;\n",
       "}\n",
       "</style>\n",
       "<small>shape: (2, 2)</small><table border=\"1\" class=\"dataframe\"><thead><tr><th>high</th><th>counts</th></tr><tr><td>i64</td><td>u32</td></tr></thead><tbody><tr><td>0</td><td>1619</td></tr><tr><td>1</td><td>1007</td></tr></tbody></table></div>"
      ],
      "text/plain": [
       "shape: (2, 2)\n",
       "┌──────┬────────┐\n",
       "│ high ┆ counts │\n",
       "│ ---  ┆ ---    │\n",
       "│ i64  ┆ u32    │\n",
       "╞══════╪════════╡\n",
       "│ 0    ┆ 1619   │\n",
       "│ 1    ┆ 1007   │\n",
       "└──────┴────────┘"
      ]
     },
     "metadata": {},
     "output_type": "display_data"
    },
    {
     "data": {
      "text/html": [
       "<div><style>\n",
       ".dataframe > thead > tr,\n",
       ".dataframe > tbody > tr {\n",
       "  text-align: right;\n",
       "  white-space: pre-wrap;\n",
       "}\n",
       "</style>\n",
       "<small>shape: (5, 4)</small><table border=\"1\" class=\"dataframe\"><thead><tr><th>df_residuals</th><th>resid_stddev</th><th>df</th><th>deviance</th></tr><tr><td>i64</td><td>f64</td><td>i64</td><td>f64</td></tr></thead><tbody><tr><td>2619</td><td>1695.631547</td><td>6</td><td>1695.631547</td></tr><tr><td>2618</td><td>1686.12674</td><td>7</td><td>1686.12674</td></tr><tr><td>2612</td><td>1636.49283</td><td>13</td><td>1636.49283</td></tr><tr><td>2609</td><td>1619.431515</td><td>16</td><td>1619.431515</td></tr><tr><td>2618</td><td>1666.615696</td><td>7</td><td>1666.615696</td></tr></tbody></table></div>"
      ],
      "text/plain": [
       "shape: (5, 4)\n",
       "┌──────────────┬──────────────┬─────┬─────────────┐\n",
       "│ df_residuals ┆ resid_stddev ┆ df  ┆ deviance    │\n",
       "│ ---          ┆ ---          ┆ --- ┆ ---         │\n",
       "│ i64          ┆ f64          ┆ i64 ┆ f64         │\n",
       "╞══════════════╪══════════════╪═════╪═════════════╡\n",
       "│ 2619         ┆ 1695.631547  ┆ 6   ┆ 1695.631547 │\n",
       "│ 2618         ┆ 1686.12674   ┆ 7   ┆ 1686.12674  │\n",
       "│ 2612         ┆ 1636.49283   ┆ 13  ┆ 1636.49283  │\n",
       "│ 2609         ┆ 1619.431515  ┆ 16  ┆ 1619.431515 │\n",
       "│ 2618         ┆ 1666.615696  ┆ 7   ┆ 1666.615696 │\n",
       "└──────────────┴──────────────┴─────┴─────────────┘"
      ]
     },
     "metadata": {},
     "output_type": "display_data"
    }
   ],
   "source": [
    "# 二値化\n",
    "housing = (\n",
    "    housing.with_columns([\n",
    "        housing[\"value_per_sq_ft\"].map_elements(lambda x: 1 if x >= 150 else 0).alias(\"high\")\n",
    "    ])\n",
    ")\n",
    "display(housing[\"high\"].value_counts())\n",
    "\n",
    "f1 = \"high ~ units + sq_ft + boro\"\n",
    "f2 = \"high ~ units * sq_ft + boro\"\n",
    "f3 = \"high ~ units + sq_ft * boro + type\"\n",
    "f4 = \"high ~ units + sq_ft * boro + sq_ft * type\"\n",
    "f5 = \"high ~ boro + type\"\n",
    "\n",
    "logistic = statsmodels.genmod.families.family.Binomial(\n",
    "    link = statsmodels.genmod.families.links.Logit()\n",
    ")\n",
    "\n",
    "glm1 = smf.glm(f1, data = housing, family = logistic).fit()\n",
    "glm2 = smf.glm(f2, data = housing, family = logistic).fit()\n",
    "glm3 = smf.glm(f3, data = housing, family = logistic).fit()\n",
    "glm4 = smf.glm(f4, data = housing, family = logistic).fit()\n",
    "glm5 = smf.glm(f5, data = housing, family = logistic).fit()\n",
    "\n",
    "display(deviance_table(glm1, glm2, glm3, glm4, glm5))"
   ]
  },
  {
   "cell_type": "code",
   "execution_count": 11,
   "metadata": {},
   "outputs": [
    {
     "name": "stderr",
     "output_type": "stream",
     "text": [
      "c:\\Python311\\Lib\\site-packages\\statsmodels\\genmod\\generalized_linear_model.py:1838: FutureWarning: The bic value is computed using the deviance formula. After 0.13 this will change to the log-likelihood based formula. This change has no impact on the relative rank of models compared using BIC. You can directly access the log-likelihood version using the `bic_llf` attribute. You can suppress this message by calling statsmodels.genmod.generalized_linear_model.SET_USE_BIC_LLF with True to get the LLF-based version now or False to retainthe deviance version.\n",
      "  warnings.warn(\n"
     ]
    },
    {
     "data": {
      "text/html": [
       "<div><style>\n",
       ".dataframe > thead > tr,\n",
       ".dataframe > tbody > tr {\n",
       "  text-align: right;\n",
       "  white-space: pre-wrap;\n",
       "}\n",
       "</style>\n",
       "<small>shape: (5, 3)</small><table border=\"1\" class=\"dataframe\"><thead><tr><th>model</th><th>aic</th><th>bic</th></tr><tr><td>str</td><td>f64</td><td>f64</td></tr></thead><tbody><tr><td>&quot;house4&quot;</td><td>1653.431515</td><td>-18921.791781</td></tr><tr><td>&quot;house3&quot;</td><td>1664.49283</td><td>-18928.350118</td></tr><tr><td>&quot;house5&quot;</td><td>1682.615696</td><td>-18945.466554</td></tr><tr><td>&quot;house2&quot;</td><td>1702.12674</td><td>-18925.95551</td></tr><tr><td>&quot;house1&quot;</td><td>1709.631547</td><td>-18924.32392</td></tr></tbody></table></div>"
      ],
      "text/plain": [
       "shape: (5, 3)\n",
       "┌────────┬─────────────┬───────────────┐\n",
       "│ model  ┆ aic         ┆ bic           │\n",
       "│ ---    ┆ ---         ┆ ---           │\n",
       "│ str    ┆ f64         ┆ f64           │\n",
       "╞════════╪═════════════╪═══════════════╡\n",
       "│ house4 ┆ 1653.431515 ┆ -18921.791781 │\n",
       "│ house3 ┆ 1664.49283  ┆ -18928.350118 │\n",
       "│ house5 ┆ 1682.615696 ┆ -18945.466554 │\n",
       "│ house2 ┆ 1702.12674  ┆ -18925.95551  │\n",
       "│ house1 ┆ 1709.631547 ┆ -18924.32392  │\n",
       "└────────┴─────────────┴───────────────┘"
      ]
     },
     "execution_count": 11,
     "metadata": {},
     "output_type": "execute_result"
    }
   ],
   "source": [
    "model_names = [\"house1\", \"house2\", \"house3\", \"house4\", \"house5\"]\n",
    "mods = [glm1, glm2, glm3, glm4, glm5]\n",
    "\n",
    "abic_glm = pl.DataFrame({\n",
    "    \"model\": model_names,\n",
    "    \"aic\": [mod.aic for mod in mods],\n",
    "    \"bic\": [mod.bic for mod in mods]\n",
    "})\n",
    "\n",
    "abic_glm.sort(by = [\"aic\", \"bic\"])"
   ]
  }
 ],
 "metadata": {
  "kernelspec": {
   "display_name": "Python 3",
   "language": "python",
   "name": "python3"
  },
  "language_info": {
   "codemirror_mode": {
    "name": "ipython",
    "version": 3
   },
   "file_extension": ".py",
   "mimetype": "text/x-python",
   "name": "python",
   "nbconvert_exporter": "python",
   "pygments_lexer": "ipython3",
   "version": "3.11.4"
  }
 },
 "nbformat": 4,
 "nbformat_minor": 2
}
