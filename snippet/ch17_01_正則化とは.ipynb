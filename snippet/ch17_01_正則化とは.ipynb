{
 "cells": [
  {
   "cell_type": "markdown",
   "metadata": {},
   "source": [
    "# 第17章 正則化で過学習に対応する\n",
    "## 17.1 正則化とは\n",
    "この節では、基本の線形回帰モデルのスコアを計算する"
   ]
  },
  {
   "cell_type": "markdown",
   "metadata": {},
   "source": [
    "### データを読み込む"
   ]
  },
  {
   "cell_type": "code",
   "execution_count": null,
   "metadata": {},
   "outputs": [],
   "source": [
    "import polars as pl\n",
    "\n",
    "acs= pl.read_csv(\"../data/acs_ny.csv\")\n",
    "acs.head()\n",
    "\n",
    "# 計画行列に変換する\n",
    "from patsy import dmatrices\n",
    "y, X = dmatrices(\n",
    "    \"FamilyIncome ~ NumBedrooms + NumChildren + NumPeople + \"\n",
    "    \"NumRooms + NumUnits + NumVehicles + NumWorkers + OwnRent + \"\n",
    "    \"YearBuilt + ElectricBill + FoodStamp + HeatingFuel + \"\n",
    "    \"Insurance + Language\",\n",
    "    data = acs,\n",
    ")\n",
    "\n",
    "# 学習用と検証用に計画行列を分割する\n",
    "from sklearn.model_selection import train_test_split\n",
    "X_train, X_eval, y_train, y_eval = train_test_split(\n",
    "    X, y, random_state = 0\n",
    ")"
   ]
  },
  {
   "cell_type": "markdown",
   "metadata": {},
   "source": [
    "### モデルのスコアを計算する"
   ]
  },
  {
   "cell_type": "code",
   "execution_count": null,
   "metadata": {},
   "outputs": [],
   "source": [
    "from sklearn.linear_model import LinearRegression\n",
    "from sklearn.pipeline import make_pipeline\n",
    "from sklearn.preprocessing import StandardScaler\n",
    "\n",
    "# 学習器の初期化\n",
    "model = make_pipeline(\n",
    "    StandardScaler(with_mean = False),\n",
    "    LinearRegression()\n",
    ")\n",
    "display(model)\n",
    "\n",
    "# 学習\n",
    "model = model.fit(X_train, y_train)\n",
    "\n",
    "model_coefs = pl.DataFrame({\n",
    "    \"variable\": X.design_info.column_names,\n",
    "    \"coef_lr\": model.named_steps[\"linearregression\"].coef_[0].round(4),\n",
    "})\n",
    "display(model_coefs)\n",
    "\n",
    "# モデルのスコア\n",
    "display(model.score(X_eval, y_eval).round(5))"
   ]
  },
  {
   "cell_type": "markdown",
   "metadata": {},
   "source": [
    "### 残差のヒストグラム"
   ]
  },
  {
   "cell_type": "code",
   "execution_count": null,
   "metadata": {},
   "outputs": [],
   "source": [
    "# 残差の計算\n",
    "residual = model.predict(X_eval) - y_eval\n",
    "residual[:10]"
   ]
  },
  {
   "cell_type": "code",
   "execution_count": null,
   "metadata": {},
   "outputs": [],
   "source": [
    "import seaborn as sns\n",
    "import matplotlib.pyplot as plt\n",
    "\n",
    "# 残差\n",
    "residual = model.predict(X_eval) - y_eval\n",
    "\n",
    "# ヒストグラム\n",
    "fig, ax = plt.subplots()\n",
    "sns.histplot(residual, ax = ax)\n",
    "plt.show()"
   ]
  }
 ],
 "metadata": {
  "kernelspec": {
   "display_name": "Python 3",
   "language": "python",
   "name": "python3"
  },
  "language_info": {
   "codemirror_mode": {
    "name": "ipython",
    "version": 3
   },
   "file_extension": ".py",
   "mimetype": "text/x-python",
   "name": "python",
   "nbconvert_exporter": "python",
   "pygments_lexer": "ipython3",
   "version": "3.11.4"
  }
 },
 "nbformat": 4,
 "nbformat_minor": 2
}
