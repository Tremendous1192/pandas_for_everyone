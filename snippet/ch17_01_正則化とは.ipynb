{
 "cells": [
  {
   "cell_type": "markdown",
   "metadata": {},
   "source": [
    "# 第17章 正則化で過学習に対応する\n",
    "## 17.1 正則化とは\n",
    "この節では、基本の線形回帰モデルのスコアを計算する"
   ]
  },
  {
   "cell_type": "markdown",
   "metadata": {},
   "source": [
    "### データを読み込む"
   ]
  },
  {
   "cell_type": "code",
   "execution_count": 12,
   "metadata": {},
   "outputs": [],
   "source": [
    "import polars as pl\n",
    "\n",
    "acs= pl.read_csv(\"../data/acs_ny.csv\")\n",
    "acs.head()\n",
    "\n",
    "# 計画行列に変換する\n",
    "from patsy import dmatrices\n",
    "y, X = dmatrices(\n",
    "    \"FamilyIncome ~ NumBedrooms + NumChildren + NumPeople + \"\n",
    "    \"NumRooms + NumUnits + NumVehicles + NumWorkers + OwnRent + \"\n",
    "    \"YearBuilt + ElectricBill + FoodStamp + HeatingFuel + \"\n",
    "    \"Insurance + Language\",\n",
    "    data = acs,\n",
    ")\n",
    "\n",
    "# 学習用と検証用に計画行列を分割する\n",
    "from sklearn.model_selection import train_test_split\n",
    "X_train, X_eval, y_train, y_eval = train_test_split(\n",
    "    X, y, random_state = 0\n",
    ")"
   ]
  },
  {
   "cell_type": "markdown",
   "metadata": {},
   "source": [
    "### モデルのスコアを計算する"
   ]
  },
  {
   "cell_type": "code",
   "execution_count": 13,
   "metadata": {},
   "outputs": [
    {
     "data": {
      "text/html": [
       "<style>#sk-container-id-5 {color: black;}#sk-container-id-5 pre{padding: 0;}#sk-container-id-5 div.sk-toggleable {background-color: white;}#sk-container-id-5 label.sk-toggleable__label {cursor: pointer;display: block;width: 100%;margin-bottom: 0;padding: 0.3em;box-sizing: border-box;text-align: center;}#sk-container-id-5 label.sk-toggleable__label-arrow:before {content: \"▸\";float: left;margin-right: 0.25em;color: #696969;}#sk-container-id-5 label.sk-toggleable__label-arrow:hover:before {color: black;}#sk-container-id-5 div.sk-estimator:hover label.sk-toggleable__label-arrow:before {color: black;}#sk-container-id-5 div.sk-toggleable__content {max-height: 0;max-width: 0;overflow: hidden;text-align: left;background-color: #f0f8ff;}#sk-container-id-5 div.sk-toggleable__content pre {margin: 0.2em;color: black;border-radius: 0.25em;background-color: #f0f8ff;}#sk-container-id-5 input.sk-toggleable__control:checked~div.sk-toggleable__content {max-height: 200px;max-width: 100%;overflow: auto;}#sk-container-id-5 input.sk-toggleable__control:checked~label.sk-toggleable__label-arrow:before {content: \"▾\";}#sk-container-id-5 div.sk-estimator input.sk-toggleable__control:checked~label.sk-toggleable__label {background-color: #d4ebff;}#sk-container-id-5 div.sk-label input.sk-toggleable__control:checked~label.sk-toggleable__label {background-color: #d4ebff;}#sk-container-id-5 input.sk-hidden--visually {border: 0;clip: rect(1px 1px 1px 1px);clip: rect(1px, 1px, 1px, 1px);height: 1px;margin: -1px;overflow: hidden;padding: 0;position: absolute;width: 1px;}#sk-container-id-5 div.sk-estimator {font-family: monospace;background-color: #f0f8ff;border: 1px dotted black;border-radius: 0.25em;box-sizing: border-box;margin-bottom: 0.5em;}#sk-container-id-5 div.sk-estimator:hover {background-color: #d4ebff;}#sk-container-id-5 div.sk-parallel-item::after {content: \"\";width: 100%;border-bottom: 1px solid gray;flex-grow: 1;}#sk-container-id-5 div.sk-label:hover label.sk-toggleable__label {background-color: #d4ebff;}#sk-container-id-5 div.sk-serial::before {content: \"\";position: absolute;border-left: 1px solid gray;box-sizing: border-box;top: 0;bottom: 0;left: 50%;z-index: 0;}#sk-container-id-5 div.sk-serial {display: flex;flex-direction: column;align-items: center;background-color: white;padding-right: 0.2em;padding-left: 0.2em;position: relative;}#sk-container-id-5 div.sk-item {position: relative;z-index: 1;}#sk-container-id-5 div.sk-parallel {display: flex;align-items: stretch;justify-content: center;background-color: white;position: relative;}#sk-container-id-5 div.sk-item::before, #sk-container-id-5 div.sk-parallel-item::before {content: \"\";position: absolute;border-left: 1px solid gray;box-sizing: border-box;top: 0;bottom: 0;left: 50%;z-index: -1;}#sk-container-id-5 div.sk-parallel-item {display: flex;flex-direction: column;z-index: 1;position: relative;background-color: white;}#sk-container-id-5 div.sk-parallel-item:first-child::after {align-self: flex-end;width: 50%;}#sk-container-id-5 div.sk-parallel-item:last-child::after {align-self: flex-start;width: 50%;}#sk-container-id-5 div.sk-parallel-item:only-child::after {width: 0;}#sk-container-id-5 div.sk-dashed-wrapped {border: 1px dashed gray;margin: 0 0.4em 0.5em 0.4em;box-sizing: border-box;padding-bottom: 0.4em;background-color: white;}#sk-container-id-5 div.sk-label label {font-family: monospace;font-weight: bold;display: inline-block;line-height: 1.2em;}#sk-container-id-5 div.sk-label-container {text-align: center;}#sk-container-id-5 div.sk-container {/* jupyter's `normalize.less` sets `[hidden] { display: none; }` but bootstrap.min.css set `[hidden] { display: none !important; }` so we also need the `!important` here to be able to override the default hidden behavior on the sphinx rendered scikit-learn.org. See: https://github.com/scikit-learn/scikit-learn/issues/21755 */display: inline-block !important;position: relative;}#sk-container-id-5 div.sk-text-repr-fallback {display: none;}</style><div id=\"sk-container-id-5\" class=\"sk-top-container\"><div class=\"sk-text-repr-fallback\"><pre>Pipeline(steps=[(&#x27;standardscaler&#x27;, StandardScaler(with_mean=False)),\n",
       "                (&#x27;linearregression&#x27;, LinearRegression())])</pre><b>In a Jupyter environment, please rerun this cell to show the HTML representation or trust the notebook. <br />On GitHub, the HTML representation is unable to render, please try loading this page with nbviewer.org.</b></div><div class=\"sk-container\" hidden><div class=\"sk-item sk-dashed-wrapped\"><div class=\"sk-label-container\"><div class=\"sk-label sk-toggleable\"><input class=\"sk-toggleable__control sk-hidden--visually\" id=\"sk-estimator-id-13\" type=\"checkbox\" ><label for=\"sk-estimator-id-13\" class=\"sk-toggleable__label sk-toggleable__label-arrow\">Pipeline</label><div class=\"sk-toggleable__content\"><pre>Pipeline(steps=[(&#x27;standardscaler&#x27;, StandardScaler(with_mean=False)),\n",
       "                (&#x27;linearregression&#x27;, LinearRegression())])</pre></div></div></div><div class=\"sk-serial\"><div class=\"sk-item\"><div class=\"sk-estimator sk-toggleable\"><input class=\"sk-toggleable__control sk-hidden--visually\" id=\"sk-estimator-id-14\" type=\"checkbox\" ><label for=\"sk-estimator-id-14\" class=\"sk-toggleable__label sk-toggleable__label-arrow\">StandardScaler</label><div class=\"sk-toggleable__content\"><pre>StandardScaler(with_mean=False)</pre></div></div></div><div class=\"sk-item\"><div class=\"sk-estimator sk-toggleable\"><input class=\"sk-toggleable__control sk-hidden--visually\" id=\"sk-estimator-id-15\" type=\"checkbox\" ><label for=\"sk-estimator-id-15\" class=\"sk-toggleable__label sk-toggleable__label-arrow\">LinearRegression</label><div class=\"sk-toggleable__content\"><pre>LinearRegression()</pre></div></div></div></div></div></div></div>"
      ],
      "text/plain": [
       "Pipeline(steps=[('standardscaler', StandardScaler(with_mean=False)),\n",
       "                ('linearregression', LinearRegression())])"
      ]
     },
     "metadata": {},
     "output_type": "display_data"
    },
    {
     "data": {
      "text/html": [
       "<div><style>\n",
       ".dataframe > thead > tr,\n",
       ".dataframe > tbody > tr {\n",
       "  text-align: right;\n",
       "  white-space: pre-wrap;\n",
       "}\n",
       "</style>\n",
       "<small>shape: (39, 2)</small><table border=\"1\" class=\"dataframe\"><thead><tr><th>variable</th><th>coef_lr</th></tr><tr><td>str</td><td>f64</td></tr></thead><tbody><tr><td>&quot;Intercept&quot;</td><td>0.0</td></tr><tr><td>&quot;NumUnits[T.Sin…</td><td>9661.7547</td></tr><tr><td>&quot;NumUnits[T.Sin…</td><td>8345.4081</td></tr><tr><td>&quot;OwnRent[T.Outr…</td><td>2382.7402</td></tr><tr><td>&quot;OwnRent[T.Rent…</td><td>2260.8056</td></tr><tr><td>&quot;YearBuilt[T.19…</td><td>3459.8314</td></tr><tr><td>&quot;YearBuilt[T.19…</td><td>7772.0173</td></tr><tr><td>&quot;YearBuilt[T.19…</td><td>5748.3658</td></tr><tr><td>&quot;YearBuilt[T.19…</td><td>5359.0107</td></tr><tr><td>&quot;YearBuilt[T.19…</td><td>7167.5408</td></tr><tr><td>&quot;YearBuilt[T.19…</td><td>8553.9706</td></tr><tr><td>&quot;YearBuilt[T.20…</td><td>6285.1591</td></tr><tr><td>&hellip;</td><td>&hellip;</td></tr><tr><td>&quot;Language[T.Eng…</td><td>-7734.7235</td></tr><tr><td>&quot;Language[T.Oth…</td><td>-519.1631</td></tr><tr><td>&quot;Language[T.Oth…</td><td>-4066.3215</td></tr><tr><td>&quot;Language[T.Spa…</td><td>-6958.5107</td></tr><tr><td>&quot;NumBedrooms&quot;</td><td>3755.7079</td></tr><tr><td>&quot;NumChildren&quot;</td><td>9524.9153</td></tr><tr><td>&quot;NumPeople&quot;</td><td>-11536.7183</td></tr><tr><td>&quot;NumRooms&quot;</td><td>13405.7478</td></tr><tr><td>&quot;NumVehicles&quot;</td><td>7228.9198</td></tr><tr><td>&quot;NumWorkers&quot;</td><td>18775.3504</td></tr><tr><td>&quot;ElectricBill&quot;</td><td>10000.0798</td></tr><tr><td>&quot;Insurance&quot;</td><td>30728.9172</td></tr></tbody></table></div>"
      ],
      "text/plain": [
       "shape: (39, 2)\n",
       "┌─────────────────────────────┬────────────┐\n",
       "│ variable                    ┆ coef_lr    │\n",
       "│ ---                         ┆ ---        │\n",
       "│ str                         ┆ f64        │\n",
       "╞═════════════════════════════╪════════════╡\n",
       "│ Intercept                   ┆ 0.0        │\n",
       "│ NumUnits[T.Single attached] ┆ 9661.7547  │\n",
       "│ NumUnits[T.Single detached] ┆ 8345.4081  │\n",
       "│ OwnRent[T.Outright]         ┆ 2382.7402  │\n",
       "│ …                           ┆ …          │\n",
       "│ NumVehicles                 ┆ 7228.9198  │\n",
       "│ NumWorkers                  ┆ 18775.3504 │\n",
       "│ ElectricBill                ┆ 10000.0798 │\n",
       "│ Insurance                   ┆ 30728.9172 │\n",
       "└─────────────────────────────┴────────────┘"
      ]
     },
     "metadata": {},
     "output_type": "display_data"
    },
    {
     "data": {
      "text/plain": [
       "0.26977"
      ]
     },
     "metadata": {},
     "output_type": "display_data"
    }
   ],
   "source": [
    "from sklearn.linear_model import LinearRegression\n",
    "from sklearn.pipeline import make_pipeline\n",
    "from sklearn.preprocessing import StandardScaler\n",
    "\n",
    "# 学習器の初期化\n",
    "model = make_pipeline(\n",
    "    StandardScaler(with_mean = False),\n",
    "    LinearRegression()\n",
    ")\n",
    "display(model)\n",
    "\n",
    "# 学習\n",
    "model = model.fit(X_train, y_train)\n",
    "\n",
    "model_coefs = pl.DataFrame({\n",
    "    \"variable\": X.design_info.column_names,\n",
    "    \"coef_lr\": model.named_steps[\"linearregression\"].coef_[0].round(4),\n",
    "})\n",
    "display(model_coefs)\n",
    "\n",
    "# モデルのスコア\n",
    "display(model.score(X_eval, y_eval).round(5))"
   ]
  },
  {
   "cell_type": "markdown",
   "metadata": {},
   "source": [
    "### 残差のヒストグラム"
   ]
  },
  {
   "cell_type": "code",
   "execution_count": 14,
   "metadata": {},
   "outputs": [
    {
     "data": {
      "text/plain": [
       "array([[-28948.82527788],\n",
       "       [-52369.50679989],\n",
       "       [ 26328.74765896],\n",
       "       [  4490.17742913],\n",
       "       [ 26063.88199781],\n",
       "       [-38803.63171155],\n",
       "       [ 44848.71153957],\n",
       "       [ 29402.89006384],\n",
       "       [ 59821.23461564],\n",
       "       [ 36224.33900821]])"
      ]
     },
     "execution_count": 14,
     "metadata": {},
     "output_type": "execute_result"
    }
   ],
   "source": [
    "# 残差の計算\n",
    "residual = model.predict(X_eval) - y_eval\n",
    "residual[:10]"
   ]
  },
  {
   "cell_type": "code",
   "execution_count": 16,
   "metadata": {},
   "outputs": [
    {
     "data": {
      "image/png": "[encoded data removed]",
      "text/plain": [
       "<Figure size 640x480 with 1 Axes>"
      ]
     },
     "metadata": {},
     "output_type": "display_data"
    }
   ],
   "source": [
    "import seaborn as sns\n",
    "import matplotlib.pyplot as plt\n",
    "\n",
    "# 残差\n",
    "residual = model.predict(X_eval) - y_eval\n",
    "\n",
    "# ヒストグラム\n",
    "fig, ax = plt.subplots()\n",
    "sns.histplot(residual, ax = ax)\n",
    "plt.show()"
   ]
  }
 ],
 "metadata": {
  "kernelspec": {
   "display_name": "Python 3",
   "language": "python",
   "name": "python3"
  },
  "language_info": {
   "codemirror_mode": {
    "name": "ipython",
    "version": 3
   },
   "file_extension": ".py",
   "mimetype": "text/x-python",
   "name": "python",
   "nbconvert_exporter": "python",
   "pygments_lexer": "ipython3",
   "version": "3.11.4"
  }
 },
 "nbformat": 4,
 "nbformat_minor": 2
}
