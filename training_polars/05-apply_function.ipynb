{
 "cells": [
  {
   "cell_type": "markdown",
   "metadata": {},
   "source": [
    "# 第5章 関数を適用(apply)する"
   ]
  },
  {
   "cell_type": "markdown",
   "metadata": {},
   "source": [
    "## 5.1 関数の初歩"
   ]
  },
  {
   "cell_type": "code",
   "execution_count": 1,
   "metadata": {},
   "outputs": [],
   "source": [
    "def my_function():\n",
    "    pass"
   ]
  },
  {
   "cell_type": "code",
   "execution_count": 2,
   "metadata": {},
   "outputs": [],
   "source": [
    "def my_sq(x):\n",
    "    return x ** 2\n",
    "\n",
    "def avg_2(x, y):\n",
    "    return (x + y)/ 2"
   ]
  },
  {
   "cell_type": "code",
   "execution_count": 3,
   "metadata": {},
   "outputs": [
    {
     "name": "stdout",
     "output_type": "stream",
     "text": [
      "16\n",
      "15.0\n"
     ]
    }
   ],
   "source": [
    "my_calc_1 = my_sq(4)\n",
    "print(my_calc_1)\n",
    "\n",
    "my_calc_2 = avg_2(10,20)\n",
    "print(my_calc_2)"
   ]
  },
  {
   "cell_type": "markdown",
   "metadata": {},
   "source": [
    "## applyの基本"
   ]
  },
  {
   "cell_type": "code",
   "execution_count": 5,
   "metadata": {},
   "outputs": [
    {
     "name": "stdout",
     "output_type": "stream",
     "text": [
      "shape: (3, 2)\n",
      "┌─────┬─────┐\n",
      "│ a   ┆ b   │\n",
      "│ --- ┆ --- │\n",
      "│ i64 ┆ i64 │\n",
      "╞═════╪═════╡\n",
      "│ 10  ┆ 20  │\n",
      "│ 20  ┆ 30  │\n",
      "│ 30  ┆ 40  │\n",
      "└─────┴─────┘\n"
     ]
    }
   ],
   "source": [
    "import polars as pl\n",
    "df = pl.DataFrame({\n",
    "    \"a\": [10, 20, 30],\n",
    "    \"b\": [20, 30, 40]\n",
    "    })\n",
    "print(df)"
   ]
  },
  {
   "cell_type": "code",
   "execution_count": 6,
   "metadata": {},
   "outputs": [
    {
     "name": "stdout",
     "output_type": "stream",
     "text": [
      "shape: (3,)\n",
      "Series: 'a' [f64]\n",
      "[\n",
      "\t100.0\n",
      "\t400.0\n",
      "\t900.0\n",
      "]\n"
     ]
    }
   ],
   "source": [
    "print(df[\"a\"] ** 2)"
   ]
  },
  {
   "cell_type": "markdown",
   "metadata": {},
   "source": [
    "### 5.2.1 関数をSeriesに適用する"
   ]
  },
  {
   "cell_type": "code",
   "execution_count": 7,
   "metadata": {},
   "outputs": [
    {
     "name": "stdout",
     "output_type": "stream",
     "text": [
      "<class 'polars.series.series.Series'>\n",
      "<class 'polars.dataframe.frame.DataFrame'>\n"
     ]
    }
   ],
   "source": [
    "print(type(df[\"a\"]))\n",
    "print(type(df[0, :]))"
   ]
  },
  {
   "cell_type": "code",
   "execution_count": 8,
   "metadata": {},
   "outputs": [
    {
     "name": "stdout",
     "output_type": "stream",
     "text": [
      "shape: (3,)\n",
      "Series: 'a' [i64]\n",
      "[\n",
      "\t100\n",
      "\t400\n",
      "\t900\n",
      "]\n"
     ]
    },
    {
     "name": "stderr",
     "output_type": "stream",
     "text": [
      "C:\\Users\\treme\\AppData\\Local\\Temp\\ipykernel_15540\\1990128365.py:1: DeprecationWarning: `apply` is deprecated. It has been renamed to `map_elements`.\n",
      "  sq = df[\"a\"].apply(my_sq)\n",
      "C:\\Users\\treme\\AppData\\Local\\Temp\\ipykernel_15540\\1990128365.py:1: PolarsInefficientMapWarning: \n",
      "Series.map_elements is significantly slower than the native series API.\n",
      "Only use if you absolutely CANNOT implement your logic otherwise.\n",
      "In this case, you can replace your `map_elements` with the following:\n",
      "  - s.map_elements(my_sq)\n",
      "  + s ** 2\n",
      "\n",
      "  sq = df[\"a\"].apply(my_sq)\n"
     ]
    }
   ],
   "source": [
    "sq = df[\"a\"].apply(my_sq)\n",
    "print(sq)"
   ]
  },
  {
   "cell_type": "code",
   "execution_count": 9,
   "metadata": {},
   "outputs": [],
   "source": [
    "def my_exp(x, e):\n",
    "    return x ** e"
   ]
  },
  {
   "cell_type": "code",
   "execution_count": 10,
   "metadata": {},
   "outputs": [
    {
     "name": "stdout",
     "output_type": "stream",
     "text": [
      "8\n"
     ]
    }
   ],
   "source": [
    "cubed = my_exp(2, 3)\n",
    "print(cubed)"
   ]
  },
  {
   "cell_type": "code",
   "execution_count": 14,
   "metadata": {},
   "outputs": [
    {
     "name": "stdout",
     "output_type": "stream",
     "text": [
      "shape: (3,)\n",
      "Series: 'a' [i64]\n",
      "[\n",
      "\t100\n",
      "\t400\n",
      "\t900\n",
      "]\n",
      "shape: (3,)\n",
      "Series: 'a' [i64]\n",
      "[\n",
      "\t1000\n",
      "\t8000\n",
      "\t27000\n",
      "]\n"
     ]
    }
   ],
   "source": [
    "# polars.Series.apply\n",
    "# Deprecated since version 0.19.0: This method has been renamed to Series.map_elements().\n",
    "ex = df[\"a\"].map_elements(lambda x: my_exp(x, 2))\n",
    "print(ex)\n",
    "\n",
    "ex = df[\"a\"].map_elements(lambda x: my_exp(x, 3))\n",
    "print(ex)"
   ]
  },
  {
   "cell_type": "markdown",
   "metadata": {},
   "source": [
    "### 5.2.2 関数をDataFrameに適用する"
   ]
  },
  {
   "cell_type": "code",
   "execution_count": 15,
   "metadata": {},
   "outputs": [
    {
     "name": "stdout",
     "output_type": "stream",
     "text": [
      "shape: (3, 2)\n",
      "┌─────┬─────┐\n",
      "│ a   ┆ b   │\n",
      "│ --- ┆ --- │\n",
      "│ i64 ┆ i64 │\n",
      "╞═════╪═════╡\n",
      "│ 10  ┆ 20  │\n",
      "│ 20  ┆ 30  │\n",
      "│ 30  ┆ 40  │\n",
      "└─────┴─────┘\n"
     ]
    }
   ],
   "source": [
    "df = pl.DataFrame({\n",
    "    \"a\": [10, 20, 30],\n",
    "    \"b\": [20, 30, 40]\n",
    "    })\n",
    "print(df)"
   ]
  },
  {
   "cell_type": "code",
   "execution_count": 16,
   "metadata": {},
   "outputs": [],
   "source": [
    "def print_me(x):\n",
    "    print(x)"
   ]
  },
  {
   "cell_type": "markdown",
   "metadata": {},
   "source": [
    "#### 5.2.2.1 列ごとの演算\n",
    "polarsのapplyやmap_rowsには列ごとの処理が無いようなので、この節は省略"
   ]
  },
  {
   "cell_type": "code",
   "execution_count": 17,
   "metadata": {},
   "outputs": [
    {
     "name": "stdout",
     "output_type": "stream",
     "text": [
      "10\n",
      "20\n",
      "20\n",
      "30\n",
      "30\n",
      "40\n"
     ]
    },
    {
     "data": {
      "text/html": [
       "<div><style>\n",
       ".dataframe > thead > tr,\n",
       ".dataframe > tbody > tr {\n",
       "  text-align: right;\n",
       "  white-space: pre-wrap;\n",
       "}\n",
       "</style>\n",
       "<small>shape: (3, 2)</small><table border=\"1\" class=\"dataframe\"><thead><tr><th>column_0</th><th>column_1</th></tr><tr><td>null</td><td>null</td></tr></thead><tbody><tr><td>null</td><td>null</td></tr><tr><td>null</td><td>null</td></tr><tr><td>null</td><td>null</td></tr></tbody></table></div>"
      ],
      "text/plain": [
       "shape: (3, 2)\n",
       "┌──────────┬──────────┐\n",
       "│ column_0 ┆ column_1 │\n",
       "│ ---      ┆ ---      │\n",
       "│ null     ┆ null     │\n",
       "╞══════════╪══════════╡\n",
       "│ null     ┆ null     │\n",
       "│ null     ┆ null     │\n",
       "│ null     ┆ null     │\n",
       "└──────────┴──────────┘"
      ]
     },
     "execution_count": 17,
     "metadata": {},
     "output_type": "execute_result"
    }
   ],
   "source": [
    "# polars.DataFrame.apply\n",
    "# Deprecated since version 0.19.0: This method has been renamed to DataFrame.map_rows().\n",
    "# pandasのapplyと様子が異なる\n",
    "df.map_rows(lambda t: (print_me(t[0]), print_me(t[1])))"
   ]
  },
  {
   "cell_type": "markdown",
   "metadata": {},
   "source": [
    "#### 行ごとの演算"
   ]
  },
  {
   "cell_type": "code",
   "execution_count": 21,
   "metadata": {},
   "outputs": [],
   "source": [
    "def avg_2_apply(row):\n",
    "    x = row[0]\n",
    "    y = row[1]\n",
    "    return (x + y)/2"
   ]
  },
  {
   "cell_type": "code",
   "execution_count": 25,
   "metadata": {},
   "outputs": [
    {
     "name": "stdout",
     "output_type": "stream",
     "text": [
      "shape: (3, 1)\n",
      "┌──────┐\n",
      "│ map  │\n",
      "│ ---  │\n",
      "│ f64  │\n",
      "╞══════╡\n",
      "│ 15.0 │\n",
      "│ 25.0 │\n",
      "│ 35.0 │\n",
      "└──────┘\n"
     ]
    },
    {
     "name": "stderr",
     "output_type": "stream",
     "text": [
      "C:\\Users\\treme\\AppData\\Local\\Temp\\ipykernel_15540\\462138746.py:1: DeprecationWarning: `apply` is deprecated. It has been renamed to `map_rows`.\n",
      "  print(df.apply(lambda row: avg_2_apply(row)))\n"
     ]
    }
   ],
   "source": [
    "print(df.apply(lambda row: avg_2_apply(row)))"
   ]
  },
  {
   "cell_type": "code",
   "execution_count": 26,
   "metadata": {},
   "outputs": [
    {
     "name": "stdout",
     "output_type": "stream",
     "text": [
      "shape: (3, 1)\n",
      "┌──────┐\n",
      "│ map  │\n",
      "│ ---  │\n",
      "│ f64  │\n",
      "╞══════╡\n",
      "│ 15.0 │\n",
      "│ 25.0 │\n",
      "│ 35.0 │\n",
      "└──────┘\n"
     ]
    }
   ],
   "source": [
    "print(df.map_rows(lambda row: avg_2_apply(row)))"
   ]
  },
  {
   "cell_type": "markdown",
   "metadata": {},
   "source": [
    "## 5.3 関数のベクトル化"
   ]
  },
  {
   "cell_type": "code",
   "execution_count": 28,
   "metadata": {},
   "outputs": [
    {
     "name": "stdout",
     "output_type": "stream",
     "text": [
      "shape: (3, 2)\n",
      "┌─────┬─────┐\n",
      "│ a   ┆ b   │\n",
      "│ --- ┆ --- │\n",
      "│ i64 ┆ i64 │\n",
      "╞═════╪═════╡\n",
      "│ 10  ┆ 20  │\n",
      "│ 20  ┆ 30  │\n",
      "│ 30  ┆ 40  │\n",
      "└─────┴─────┘\n"
     ]
    }
   ],
   "source": [
    "df = pl.DataFrame({\n",
    "    \"a\": [10, 20, 30],\n",
    "    \"b\": [20, 30, 40]\n",
    "    })\n",
    "print(df)"
   ]
  },
  {
   "cell_type": "code",
   "execution_count": 27,
   "metadata": {},
   "outputs": [],
   "source": [
    "def avg_2(x, y):\n",
    "    return (x + y)/2"
   ]
  },
  {
   "cell_type": "code",
   "execution_count": 29,
   "metadata": {},
   "outputs": [
    {
     "name": "stdout",
     "output_type": "stream",
     "text": [
      "shape: (3,)\n",
      "Series: 'a' [f64]\n",
      "[\n",
      "\t15.0\n",
      "\t25.0\n",
      "\t35.0\n",
      "]\n"
     ]
    }
   ],
   "source": [
    "print(avg_2(df[\"a\"], df[\"b\"]))"
   ]
  },
  {
   "cell_type": "code",
   "execution_count": 31,
   "metadata": {},
   "outputs": [
    {
     "name": "stdout",
     "output_type": "stream",
     "text": [
      "shape: (3, 1)\n",
      "┌──────┐\n",
      "│ map  │\n",
      "│ ---  │\n",
      "│ f64  │\n",
      "╞══════╡\n",
      "│ 15.0 │\n",
      "│ 25.0 │\n",
      "│ 35.0 │\n",
      "└──────┘\n"
     ]
    },
    {
     "name": "stderr",
     "output_type": "stream",
     "text": [
      "C:\\Users\\treme\\AppData\\Local\\Temp\\ipykernel_15540\\2485491327.py:1: DeprecationWarning: `apply` is deprecated. It has been renamed to `map_rows`.\n",
      "  print(df.apply(lambda row: avg_2(row[0], row[1])))\n"
     ]
    }
   ],
   "source": [
    "print(df.apply(lambda row: avg_2(row[0], row[1])))"
   ]
  },
  {
   "cell_type": "code",
   "execution_count": 30,
   "metadata": {},
   "outputs": [
    {
     "name": "stdout",
     "output_type": "stream",
     "text": [
      "shape: (3, 1)\n",
      "┌──────┐\n",
      "│ map  │\n",
      "│ ---  │\n",
      "│ f64  │\n",
      "╞══════╡\n",
      "│ 15.0 │\n",
      "│ 25.0 │\n",
      "│ 35.0 │\n",
      "└──────┘\n"
     ]
    }
   ],
   "source": [
    "print(df.map_rows(lambda row: avg_2(row[0], row[1])))"
   ]
  },
  {
   "cell_type": "code",
   "execution_count": 34,
   "metadata": {},
   "outputs": [],
   "source": [
    "import numpy as np\n",
    "\n",
    "def avg_2_mod(x, y):\n",
    "    if (x == 20):\n",
    "        return np.NaN\n",
    "    else:\n",
    "        return (x + y) / 2"
   ]
  },
  {
   "cell_type": "code",
   "execution_count": 36,
   "metadata": {},
   "outputs": [],
   "source": [
    "# これはpandas, polrasともにエラーになる\n",
    "#print(avg_2_mod(df[\"a\"], df[\"b\"]))"
   ]
  },
  {
   "cell_type": "code",
   "execution_count": 37,
   "metadata": {},
   "outputs": [
    {
     "name": "stdout",
     "output_type": "stream",
     "text": [
      "15.0\n",
      "nan\n"
     ]
    }
   ],
   "source": [
    "print(avg_2_mod(10, 20))\n",
    "\n",
    "print(avg_2_mod(20, 30))"
   ]
  },
  {
   "cell_type": "markdown",
   "metadata": {},
   "source": [
    "### 5.3.1 NumPyを使ったベクトル化"
   ]
  },
  {
   "cell_type": "code",
   "execution_count": 39,
   "metadata": {},
   "outputs": [
    {
     "name": "stdout",
     "output_type": "stream",
     "text": [
      "[15. nan 35.]\n"
     ]
    }
   ],
   "source": [
    "avg_mod_vec = np.vectorize(avg_2_mod)\n",
    "\n",
    "print(avg_mod_vec(df[\"a\"], df[\"b\"]))"
   ]
  },
  {
   "cell_type": "code",
   "execution_count": 40,
   "metadata": {},
   "outputs": [
    {
     "name": "stdout",
     "output_type": "stream",
     "text": [
      "[15. nan 35.]\n"
     ]
    }
   ],
   "source": [
    "@np.vectorize\n",
    "def v_avg_2_mod(x, y):\n",
    "    if (x == 20):\n",
    "        return (np.NaN)\n",
    "    else:\n",
    "        return (x + y) / 2\n",
    "\n",
    "print(v_avg_2_mod(df[\"a\"], df[\"b\"]))"
   ]
  },
  {
   "cell_type": "markdown",
   "metadata": {},
   "source": [
    "### 5.3.2 numbaを使ったベクトル化"
   ]
  },
  {
   "cell_type": "code",
   "execution_count": 41,
   "metadata": {},
   "outputs": [],
   "source": [
    "import numba\n",
    "\n",
    "@numba.vectorize\n",
    "def v_avg_2_numba(x, y):\n",
    "    if (int(x) == 20):\n",
    "        return (np.NaN)\n",
    "    else:\n",
    "        return (x + y) / 2"
   ]
  },
  {
   "cell_type": "code",
   "execution_count": 42,
   "metadata": {},
   "outputs": [
    {
     "name": "stdout",
     "output_type": "stream",
     "text": [
      "[15. nan 35.]\n"
     ]
    }
   ],
   "source": [
    "print( v_avg_2_numba(df[\"a\"].to_numpy(), df[\"b\"].to_numpy()) )"
   ]
  },
  {
   "cell_type": "markdown",
   "metadata": {},
   "source": [
    "## 5.4 ラムダ関数"
   ]
  },
  {
   "cell_type": "code",
   "execution_count": 44,
   "metadata": {},
   "outputs": [
    {
     "name": "stdout",
     "output_type": "stream",
     "text": [
      "shape: (3, 2)\n",
      "┌─────┬─────┐\n",
      "│ a   ┆ b   │\n",
      "│ --- ┆ --- │\n",
      "│ i64 ┆ i64 │\n",
      "╞═════╪═════╡\n",
      "│ 10  ┆ 20  │\n",
      "│ 20  ┆ 30  │\n",
      "│ 30  ┆ 40  │\n",
      "└─────┴─────┘\n",
      "shape: (3, 3)\n",
      "┌─────┬─────┬─────────┐\n",
      "│ a   ┆ b   ┆ a_apply │\n",
      "│ --- ┆ --- ┆ ---     │\n",
      "│ i64 ┆ i64 ┆ i64     │\n",
      "╞═════╪═════╪═════════╡\n",
      "│ 10  ┆ 20  ┆ 100     │\n",
      "│ 20  ┆ 30  ┆ 400     │\n",
      "│ 30  ┆ 40  ┆ 900     │\n",
      "└─────┴─────┴─────────┘\n",
      "shape: (3, 4)\n",
      "┌─────┬─────┬─────────┬────────────────┐\n",
      "│ a   ┆ b   ┆ a_apply ┆ a_map_elements │\n",
      "│ --- ┆ --- ┆ ---     ┆ ---            │\n",
      "│ i64 ┆ i64 ┆ i64     ┆ i64            │\n",
      "╞═════╪═════╪═════════╪════════════════╡\n",
      "│ 10  ┆ 20  ┆ 100     ┆ 100            │\n",
      "│ 20  ┆ 30  ┆ 400     ┆ 400            │\n",
      "│ 30  ┆ 40  ┆ 900     ┆ 900            │\n",
      "└─────┴─────┴─────────┴────────────────┘\n"
     ]
    },
    {
     "name": "stderr",
     "output_type": "stream",
     "text": [
      "C:\\Users\\treme\\AppData\\Local\\Temp\\ipykernel_15540\\3434368581.py:11: DeprecationWarning: `apply` is deprecated. It has been renamed to `map_elements`.\n",
      "  df[\"a\"].apply(lambda x: my_sq(x)).alias(\"a_apply\")\n"
     ]
    }
   ],
   "source": [
    "df = pl.DataFrame({\n",
    "    \"a\": [10, 20, 30],\n",
    "    \"b\": [20, 30, 40]\n",
    "    })\n",
    "print(df)\n",
    "\n",
    "def my_sq(x):\n",
    "    return x ** 2\n",
    "\n",
    "# pandasの場合、関数だけを引数に取ることができるが、polarsの場合Closuresのように式を書く必要がある\n",
    "# polarsの場合、何をしたいかを明示する必要がある\n",
    "df = df.with_columns([\n",
    "    df[\"a\"].apply(lambda x: my_sq(x)).alias(\"a_apply\")\n",
    "    ])\n",
    "print(df)\n",
    "\n",
    "df = df.with_columns([\n",
    "    df[\"a\"].map_elements(lambda x: my_sq(x)).alias(\"a_map_elements\")\n",
    "    ])\n",
    "print(df)\n"
   ]
  }
 ],
 "metadata": {
  "kernelspec": {
   "display_name": "Python 3",
   "language": "python",
   "name": "python3"
  },
  "language_info": {
   "codemirror_mode": {
    "name": "ipython",
    "version": 3
   },
   "file_extension": ".py",
   "mimetype": "text/x-python",
   "name": "python",
   "nbconvert_exporter": "python",
   "pygments_lexer": "ipython3",
   "version": "3.11.4"
  }
 },
 "nbformat": 4,
 "nbformat_minor": 2
}
