{
 "cells": [
  {
   "cell_type": "markdown",
   "metadata": {},
   "source": [
    "# 第8章 groupby演算による分割-適用-結合"
   ]
  },
  {
   "cell_type": "markdown",
   "metadata": {},
   "source": [
    "## 8.1 集約"
   ]
  },
  {
   "cell_type": "markdown",
   "metadata": {},
   "source": [
    "### 8.1.1 1この変数で分割する基本的な集約"
   ]
  },
  {
   "cell_type": "code",
   "execution_count": 37,
   "metadata": {},
   "outputs": [],
   "source": [
    "import polars as pl"
   ]
  },
  {
   "cell_type": "code",
   "execution_count": 38,
   "metadata": {},
   "outputs": [
    {
     "data": {
      "text/html": [
       "<div><style>\n",
       ".dataframe > thead > tr,\n",
       ".dataframe > tbody > tr {\n",
       "  text-align: right;\n",
       "  white-space: pre-wrap;\n",
       "}\n",
       "</style>\n",
       "<small>shape: (5, 6)</small><table border=\"1\" class=\"dataframe\"><thead><tr><th>country</th><th>continent</th><th>year</th><th>lifeExp</th><th>pop</th><th>gdpPercap</th></tr><tr><td>str</td><td>str</td><td>i64</td><td>f64</td><td>i64</td><td>f64</td></tr></thead><tbody><tr><td>&quot;Afghanistan&quot;</td><td>&quot;Asia&quot;</td><td>1952</td><td>28.801</td><td>8425333</td><td>779.445314</td></tr><tr><td>&quot;Afghanistan&quot;</td><td>&quot;Asia&quot;</td><td>1957</td><td>30.332</td><td>9240934</td><td>820.85303</td></tr><tr><td>&quot;Afghanistan&quot;</td><td>&quot;Asia&quot;</td><td>1962</td><td>31.997</td><td>10267083</td><td>853.10071</td></tr><tr><td>&quot;Afghanistan&quot;</td><td>&quot;Asia&quot;</td><td>1967</td><td>34.02</td><td>11537966</td><td>836.197138</td></tr><tr><td>&quot;Afghanistan&quot;</td><td>&quot;Asia&quot;</td><td>1972</td><td>36.088</td><td>13079460</td><td>739.981106</td></tr></tbody></table></div>"
      ],
      "text/plain": [
       "shape: (5, 6)\n",
       "┌─────────────┬───────────┬──────┬─────────┬──────────┬────────────┐\n",
       "│ country     ┆ continent ┆ year ┆ lifeExp ┆ pop      ┆ gdpPercap  │\n",
       "│ ---         ┆ ---       ┆ ---  ┆ ---     ┆ ---      ┆ ---        │\n",
       "│ str         ┆ str       ┆ i64  ┆ f64     ┆ i64      ┆ f64        │\n",
       "╞═════════════╪═══════════╪══════╪═════════╪══════════╪════════════╡\n",
       "│ Afghanistan ┆ Asia      ┆ 1952 ┆ 28.801  ┆ 8425333  ┆ 779.445314 │\n",
       "│ Afghanistan ┆ Asia      ┆ 1957 ┆ 30.332  ┆ 9240934  ┆ 820.85303  │\n",
       "│ Afghanistan ┆ Asia      ┆ 1962 ┆ 31.997  ┆ 10267083 ┆ 853.10071  │\n",
       "│ Afghanistan ┆ Asia      ┆ 1967 ┆ 34.02   ┆ 11537966 ┆ 836.197138 │\n",
       "│ Afghanistan ┆ Asia      ┆ 1972 ┆ 36.088  ┆ 13079460 ┆ 739.981106 │\n",
       "└─────────────┴───────────┴──────┴─────────┴──────────┴────────────┘"
      ]
     },
     "execution_count": 38,
     "metadata": {},
     "output_type": "execute_result"
    }
   ],
   "source": [
    "df = pl.read_csv(\"../data/gapminder.tsv\", separator = \"\\t\")\n",
    "df.head()"
   ]
  },
  {
   "cell_type": "code",
   "execution_count": 39,
   "metadata": {},
   "outputs": [
    {
     "name": "stdout",
     "output_type": "stream",
     "text": [
      "shape: (12, 2)\n",
      "┌──────┬───────────┐\n",
      "│ year ┆ lifeExp   │\n",
      "│ ---  ┆ ---       │\n",
      "│ i64  ┆ f64       │\n",
      "╞══════╪═══════════╡\n",
      "│ 1952 ┆ 49.05762  │\n",
      "│ 1957 ┆ 51.507401 │\n",
      "│ 1962 ┆ 53.609249 │\n",
      "│ 1967 ┆ 55.67829  │\n",
      "│ …    ┆ …         │\n",
      "│ 1992 ┆ 64.160338 │\n",
      "│ 1997 ┆ 65.014676 │\n",
      "│ 2002 ┆ 65.694923 │\n",
      "│ 2007 ┆ 67.007423 │\n",
      "└──────┴───────────┘\n"
     ]
    }
   ],
   "source": [
    "avg_life_by_year = df.group_by(by = \"year\").agg( pl.col(\"lifeExp\").mean() ).sort(by = \"year\")\n",
    "print(avg_life_by_year)"
   ]
  },
  {
   "cell_type": "code",
   "execution_count": 40,
   "metadata": {},
   "outputs": [
    {
     "name": "stdout",
     "output_type": "stream",
     "text": [
      "[1952, 1957, 1962, 1967, 1972, 1977, 1982, 1987, 1992, 1997, 2002, 2007]\n"
     ]
    }
   ],
   "source": [
    "#pandasの場合、uniqueメソッドでリストを取得できる\n",
    "#polarsの場合、to_listメソッドも必要\n",
    "years = df[\"year\"].unique().to_list()\n",
    "print(years)"
   ]
  },
  {
   "cell_type": "code",
   "execution_count": 41,
   "metadata": {},
   "outputs": [
    {
     "name": "stdout",
     "output_type": "stream",
     "text": [
      "shape: (142, 6)\n",
      "┌────────────────────┬───────────┬──────┬─────────┬─────────┬─────────────┐\n",
      "│ country            ┆ continent ┆ year ┆ lifeExp ┆ pop     ┆ gdpPercap   │\n",
      "│ ---                ┆ ---       ┆ ---  ┆ ---     ┆ ---     ┆ ---         │\n",
      "│ str                ┆ str       ┆ i64  ┆ f64     ┆ i64     ┆ f64         │\n",
      "╞════════════════════╪═══════════╪══════╪═════════╪═════════╪═════════════╡\n",
      "│ Afghanistan        ┆ Asia      ┆ 1952 ┆ 28.801  ┆ 8425333 ┆ 779.445314  │\n",
      "│ Albania            ┆ Europe    ┆ 1952 ┆ 55.23   ┆ 1282697 ┆ 1601.056136 │\n",
      "│ Algeria            ┆ Africa    ┆ 1952 ┆ 43.077  ┆ 9279525 ┆ 2449.008185 │\n",
      "│ Angola             ┆ Africa    ┆ 1952 ┆ 30.015  ┆ 4232095 ┆ 3520.610273 │\n",
      "│ …                  ┆ …         ┆ …    ┆ …       ┆ …       ┆ …           │\n",
      "│ West Bank and Gaza ┆ Asia      ┆ 1952 ┆ 43.16   ┆ 1030585 ┆ 1515.592329 │\n",
      "│ Yemen, Rep.        ┆ Asia      ┆ 1952 ┆ 32.548  ┆ 4963829 ┆ 781.717576  │\n",
      "│ Zambia             ┆ Africa    ┆ 1952 ┆ 42.038  ┆ 2672000 ┆ 1147.388831 │\n",
      "│ Zimbabwe           ┆ Africa    ┆ 1952 ┆ 48.451  ┆ 3080907 ┆ 406.884115  │\n",
      "└────────────────────┴───────────┴──────┴─────────┴─────────┴─────────────┘\n"
     ]
    }
   ],
   "source": [
    "y1952 = df.filter( pl.col(\"year\") == 1952 )\n",
    "print(y1952)"
   ]
  },
  {
   "cell_type": "code",
   "execution_count": 42,
   "metadata": {},
   "outputs": [
    {
     "name": "stdout",
     "output_type": "stream",
     "text": [
      "49.05761971830986\n"
     ]
    }
   ],
   "source": [
    "y1952_mean = y1952[\"lifeExp\"].mean()\n",
    "print(y1952_mean)"
   ]
  },
  {
   "cell_type": "markdown",
   "metadata": {},
   "source": [
    "### 8.1.2 組込みの集約メソッド"
   ]
  },
  {
   "cell_type": "code",
   "execution_count": 43,
   "metadata": {},
   "outputs": [
    {
     "name": "stdout",
     "output_type": "stream",
     "text": [
      "shape: (1, 2)\n",
      "┌──────┬─────────┐\n",
      "│ year ┆ country │\n",
      "│ ---  ┆ ---     │\n",
      "│ i64  ┆ u32     │\n",
      "╞══════╪═════════╡\n",
      "│ 1992 ┆ 142     │\n",
      "└──────┴─────────┘\n",
      "shape: (1, 2)\n",
      "┌──────┬──────────┐\n",
      "│ year ┆ pop      │\n",
      "│ ---  ┆ ---      │\n",
      "│ i64  ┆ f64      │\n",
      "╞══════╪══════════╡\n",
      "│ 1952 ┆ 1.6950e7 │\n",
      "└──────┴──────────┘\n",
      "shape: (1, 2)\n",
      "┌──────┬──────────┐\n",
      "│ year ┆ pop      │\n",
      "│ ---  ┆ ---      │\n",
      "│ i64  ┆ f64      │\n",
      "╞══════╪══════════╡\n",
      "│ 1992 ┆ 1.2450e8 │\n",
      "└──────┴──────────┘\n",
      "shape: (1, 2)\n",
      "┌──────┬────────┐\n",
      "│ year ┆ pop    │\n",
      "│ ---  ┆ ---    │\n",
      "│ i64  ┆ i64    │\n",
      "╞══════╪════════╡\n",
      "│ 1997 ┆ 145608 │\n",
      "└──────┴────────┘\n",
      "shape: (1, 2)\n",
      "┌──────┬────────────┐\n",
      "│ year ┆ pop        │\n",
      "│ ---  ┆ ---        │\n",
      "│ i64  ┆ f64        │\n",
      "╞══════╪════════════╡\n",
      "│ 1977 ┆ 2.721783e6 │\n",
      "└──────┴────────────┘\n",
      "shape: (1, 2)\n",
      "┌──────┬────────────┐\n",
      "│ year ┆ pop        │\n",
      "│ ---  ┆ ---        │\n",
      "│ i64  ┆ f64        │\n",
      "╞══════╪════════════╡\n",
      "│ 1977 ┆ 6.491649e6 │\n",
      "└──────┴────────────┘\n",
      "shape: (1, 2)\n",
      "┌──────┬─────────────┐\n",
      "│ year ┆ pop         │\n",
      "│ ---  ┆ ---         │\n",
      "│ i64  ┆ f64         │\n",
      "╞══════╪═════════════╡\n",
      "│ 1977 ┆ 1.6785196e7 │\n",
      "└──────┴─────────────┘\n",
      "shape: (1, 2)\n",
      "┌──────┬───────────┐\n",
      "│ year ┆ pop       │\n",
      "│ ---  ┆ ---       │\n",
      "│ i64  ┆ i64       │\n",
      "╞══════╪═══════════╡\n",
      "│ 1967 ┆ 754550000 │\n",
      "└──────┴───────────┘\n"
     ]
    },
    {
     "name": "stdout",
     "output_type": "stream",
     "text": [
      "shape: (1, 2)\n",
      "┌──────┬────────────┐\n",
      "│ year ┆ pop        │\n",
      "│ ---  ┆ ---        │\n",
      "│ i64  ┆ i64        │\n",
      "╞══════╪════════════╡\n",
      "│ 1997 ┆ 5515204472 │\n",
      "└──────┴────────────┘\n",
      "shape: (1, 2)\n",
      "┌──────┬───────────┐\n",
      "│ year ┆ pop       │\n",
      "│ ---  ┆ ---       │\n",
      "│ i64  ┆ f64       │\n",
      "╞══════╪═══════════╡\n",
      "│ 1992 ┆ 1.5501e16 │\n",
      "└──────┴───────────┘\n",
      "shape: (1, 2)\n",
      "┌──────┬─────────┐\n",
      "│ year ┆ pop     │\n",
      "│ ---  ┆ ---     │\n",
      "│ i64  ┆ i64     │\n",
      "╞══════╪═════════╡\n",
      "│ 1952 ┆ 8425333 │\n",
      "└──────┴─────────┘\n",
      "shape: (1, 2)\n",
      "┌──────┬──────────┐\n",
      "│ year ┆ pop      │\n",
      "│ ---  ┆ ---      │\n",
      "│ i64  ┆ i64      │\n",
      "╞══════╪══════════╡\n",
      "│ 2002 ┆ 11926563 │\n",
      "└──────┴──────────┘\n"
     ]
    }
   ],
   "source": [
    "print( df.group_by(by = \"year\").agg( pl.col(\"country\").count() ).head(1) )\n",
    "# polarsには無いようだ\n",
    "#print( df.group_by(by = \"year\").agg( pl.col(\"country\").size() ) )\n",
    "print( df.group_by(by = \"year\").agg( pl.col(\"pop\").mean() ).head(1) )\n",
    "print( df.group_by(by = \"year\").agg( pl.col(\"pop\").std() ).head(1) )\n",
    "print( df.group_by(by = \"year\").agg( pl.col(\"pop\").min() ).head(1) )\n",
    "print( df.group_by(by = \"year\").agg( pl.col(\"pop\").quantile(quantile = 0.25) ).head(1) )\n",
    "print( df.group_by(by = \"year\").agg( pl.col(\"pop\").quantile(quantile = 0.5) ).head(1) )\n",
    "print( df.group_by(by = \"year\").agg( pl.col(\"pop\").quantile(quantile = 0.75) ).head(1) )\n",
    "print( df.group_by(by = \"year\").agg( pl.col(\"pop\").max() ).head(1) )\n",
    "print( df.group_by(by = \"year\").agg( pl.col(\"pop\").sum() ).head(1) )\n",
    "print( df.group_by(by = \"year\").agg( pl.col(\"pop\").var() ).head(1) )\n",
    "#print( df.group_by(by = \"year\").agg( pl.col(\"pop\").sem() ).head(1) )\n",
    "#print( df.group_by(by = \"year\").agg( pl.col(\"pop\").describe() ).head(1) )\n",
    "print( df.group_by(by = \"year\").agg( pl.col(\"pop\").first() ).head(1) )\n",
    "print( df.group_by(by = \"year\").agg( pl.col(\"pop\").last() ).head(1) )\n",
    "#print( df.group_by(by = \"year\").agg( pl.col(\"pop\").nth() ).head(1) )"
   ]
  },
  {
   "cell_type": "code",
   "execution_count": 44,
   "metadata": {},
   "outputs": [
    {
     "data": {
      "text/html": [
       "<div><style>\n",
       ".dataframe > thead > tr,\n",
       ".dataframe > tbody > tr {\n",
       "  text-align: right;\n",
       "  white-space: pre-wrap;\n",
       "}\n",
       "</style>\n",
       "<small>shape: (5, 9)</small><table border=\"1\" class=\"dataframe\"><thead><tr><th>continent</th><th>Count</th><th>mean</th><th>std</th><th>min</th><th>25%</th><th>50%</th><th>75%</th><th>max</th></tr><tr><td>str</td><td>u32</td><td>f64</td><td>f64</td><td>f64</td><td>f64</td><td>f64</td><td>f64</td><td>f64</td></tr></thead><tbody><tr><td>&quot;Americas&quot;</td><td>300</td><td>71.903686</td><td>5.433178</td><td>23.599</td><td>69.58</td><td>67.052</td><td>69.521</td><td>81.235</td></tr><tr><td>&quot;Oceania&quot;</td><td>24</td><td>64.658737</td><td>9.15021</td><td>69.12</td><td>42.384</td><td>47.8</td><td>71.752</td><td>81.757</td></tr><tr><td>&quot;Asia&quot;</td><td>396</td><td>60.064903</td><td>9.345088</td><td>28.801</td><td>71.24</td><td>73.84</td><td>54.425</td><td>80.653</td></tr><tr><td>&quot;Africa&quot;</td><td>624</td><td>74.326208</td><td>3.795611</td><td>43.585</td><td>58.447</td><td>72.25</td><td>75.467</td><td>76.442</td></tr><tr><td>&quot;Europe&quot;</td><td>360</td><td>48.86533</td><td>11.864532</td><td>37.579</td><td>51.457</td><td>61.818</td><td>77.56</td><td>82.603</td></tr></tbody></table></div>"
      ],
      "text/plain": [
       "shape: (5, 9)\n",
       "┌───────────┬───────┬───────────┬───────────┬───┬────────┬────────┬────────┬────────┐\n",
       "│ continent ┆ Count ┆ mean      ┆ std       ┆ … ┆ 25%    ┆ 50%    ┆ 75%    ┆ max    │\n",
       "│ ---       ┆ ---   ┆ ---       ┆ ---       ┆   ┆ ---    ┆ ---    ┆ ---    ┆ ---    │\n",
       "│ str       ┆ u32   ┆ f64       ┆ f64       ┆   ┆ f64    ┆ f64    ┆ f64    ┆ f64    │\n",
       "╞═══════════╪═══════╪═══════════╪═══════════╪═══╪════════╪════════╪════════╪════════╡\n",
       "│ Americas  ┆ 300   ┆ 71.903686 ┆ 5.433178  ┆ … ┆ 69.58  ┆ 67.052 ┆ 69.521 ┆ 81.235 │\n",
       "│ Oceania   ┆ 24    ┆ 64.658737 ┆ 9.15021   ┆ … ┆ 42.384 ┆ 47.8   ┆ 71.752 ┆ 81.757 │\n",
       "│ Asia      ┆ 396   ┆ 60.064903 ┆ 9.345088  ┆ … ┆ 71.24  ┆ 73.84  ┆ 54.425 ┆ 80.653 │\n",
       "│ Africa    ┆ 624   ┆ 74.326208 ┆ 3.795611  ┆ … ┆ 58.447 ┆ 72.25  ┆ 75.467 ┆ 76.442 │\n",
       "│ Europe    ┆ 360   ┆ 48.86533  ┆ 11.864532 ┆ … ┆ 51.457 ┆ 61.818 ┆ 77.56  ┆ 82.603 │\n",
       "└───────────┴───────┴───────────┴───────────┴───┴────────┴────────┴────────┴────────┘"
      ]
     },
     "execution_count": 44,
     "metadata": {},
     "output_type": "execute_result"
    }
   ],
   "source": [
    "# pandasだとgroupbyメソッドの後に[\"列名\"]を取れるが、polarsではできない\n",
    "# またdescribeも実装していないので、工夫が必要\n",
    "#continent_describe = df.group_by(by = \"continent\")[\"lifeExp\"].describe()\n",
    "# \n",
    "def describe_polars(df_argument = pl.DataFrame({\"Fruit\": [\"apple\", \"apple\", \"apple\", \"lemon\", \"lemon\", \"lemon\"],\n",
    "                                                 \"Price\": [90, 100, 110, 180, 200, 220]}),\n",
    "                     by_argument = \"Fruit\",\n",
    "                       explain_argument = \"Price\"):\n",
    "    df_group_by = df_argument.group_by(by = by_argument)\n",
    "\n",
    "    result = df_group_by\\\n",
    "        .agg( pl.col(explain_argument).count() ).rename(mapping = {explain_argument: \"count\"})\\\n",
    "            .with_columns([\n",
    "                df_group_by.agg( pl.col(explain_argument).mean() )[explain_argument].alias(\"mean\"),\n",
    "                df_group_by.agg( pl.col(explain_argument).std() )[explain_argument].alias(\"std\"),\n",
    "                df_group_by.agg( pl.col(explain_argument).min() )[explain_argument].alias(\"min\"),\n",
    "                df_group_by.agg( pl.col(explain_argument).quantile(quantile = 0.25) )[explain_argument].alias(\"25%\"),\n",
    "                df_group_by.agg( pl.col(explain_argument).quantile(quantile = 0.5) )[explain_argument].alias(\"50%\"),\n",
    "                df_group_by.agg( pl.col(explain_argument).quantile(quantile = 0.75) )[explain_argument].alias(\"75%\"),\n",
    "                df_group_by.agg( pl.col(explain_argument).max() )[explain_argument].alias(\"max\")\n",
    "                ])\n",
    "    \n",
    "    return result\n",
    "\n",
    "\n",
    "\n",
    "continent = df.group_by(by = \"continent\")\n",
    "\n",
    "col_name = \"lifeExp\"\n",
    "\n",
    "continent_describe = continent.agg( pl.col(col_name).count() ).rename(mapping = {col_name: \"Count\"}).with_columns([\n",
    "    continent.agg( pl.col(col_name).mean() )[col_name].alias(\"mean\"),\n",
    "    continent.agg( pl.col(col_name).std() )[col_name].alias(\"std\"),\n",
    "    continent.agg( pl.col(col_name).min() )[col_name].alias(\"min\"),\n",
    "    continent.agg( pl.col(col_name).quantile(quantile = 0.25) )[col_name].alias(\"25%\"),\n",
    "    continent.agg( pl.col(col_name).quantile(quantile = 0.5) )[col_name].alias(\"50%\"),\n",
    "    continent.agg( pl.col(col_name).quantile(quantile = 0.75) )[col_name].alias(\"75%\"),\n",
    "    continent.agg( pl.col(col_name).max() )[col_name].alias(\"max\")\n",
    "])\n",
    "\n",
    "continent_describe"
   ]
  },
  {
   "cell_type": "code",
   "execution_count": 45,
   "metadata": {},
   "outputs": [
    {
     "data": {
      "text/html": [
       "<div><style>\n",
       ".dataframe > thead > tr,\n",
       ".dataframe > tbody > tr {\n",
       "  text-align: right;\n",
       "  white-space: pre-wrap;\n",
       "}\n",
       "</style>\n",
       "<small>shape: (5, 9)</small><table border=\"1\" class=\"dataframe\"><thead><tr><th>continent</th><th>count</th><th>mean</th><th>std</th><th>min</th><th>25%</th><th>50%</th><th>75%</th><th>max</th></tr><tr><td>str</td><td>u32</td><td>f64</td><td>f64</td><td>f64</td><td>f64</td><td>f64</td><td>f64</td><td>f64</td></tr></thead><tbody><tr><td>&quot;Americas&quot;</td><td>300</td><td>60.064903</td><td>3.795611</td><td>28.801</td><td>71.24</td><td>67.052</td><td>69.521</td><td>81.757</td></tr><tr><td>&quot;Europe&quot;</td><td>360</td><td>74.326208</td><td>9.15021</td><td>37.579</td><td>58.447</td><td>47.8</td><td>71.752</td><td>81.235</td></tr><tr><td>&quot;Oceania&quot;</td><td>24</td><td>64.658737</td><td>9.345088</td><td>43.585</td><td>69.58</td><td>73.84</td><td>77.56</td><td>82.603</td></tr><tr><td>&quot;Africa&quot;</td><td>624</td><td>71.903686</td><td>11.864532</td><td>69.12</td><td>51.457</td><td>72.25</td><td>75.467</td><td>80.653</td></tr><tr><td>&quot;Asia&quot;</td><td>396</td><td>48.86533</td><td>5.433178</td><td>23.599</td><td>42.384</td><td>61.818</td><td>54.425</td><td>76.442</td></tr></tbody></table></div>"
      ],
      "text/plain": [
       "shape: (5, 9)\n",
       "┌───────────┬───────┬───────────┬───────────┬───┬────────┬────────┬────────┬────────┐\n",
       "│ continent ┆ count ┆ mean      ┆ std       ┆ … ┆ 25%    ┆ 50%    ┆ 75%    ┆ max    │\n",
       "│ ---       ┆ ---   ┆ ---       ┆ ---       ┆   ┆ ---    ┆ ---    ┆ ---    ┆ ---    │\n",
       "│ str       ┆ u32   ┆ f64       ┆ f64       ┆   ┆ f64    ┆ f64    ┆ f64    ┆ f64    │\n",
       "╞═══════════╪═══════╪═══════════╪═══════════╪═══╪════════╪════════╪════════╪════════╡\n",
       "│ Americas  ┆ 300   ┆ 60.064903 ┆ 3.795611  ┆ … ┆ 71.24  ┆ 67.052 ┆ 69.521 ┆ 81.757 │\n",
       "│ Europe    ┆ 360   ┆ 74.326208 ┆ 9.15021   ┆ … ┆ 58.447 ┆ 47.8   ┆ 71.752 ┆ 81.235 │\n",
       "│ Oceania   ┆ 24    ┆ 64.658737 ┆ 9.345088  ┆ … ┆ 69.58  ┆ 73.84  ┆ 77.56  ┆ 82.603 │\n",
       "│ Africa    ┆ 624   ┆ 71.903686 ┆ 11.864532 ┆ … ┆ 51.457 ┆ 72.25  ┆ 75.467 ┆ 80.653 │\n",
       "│ Asia      ┆ 396   ┆ 48.86533  ┆ 5.433178  ┆ … ┆ 42.384 ┆ 61.818 ┆ 54.425 ┆ 76.442 │\n",
       "└───────────┴───────┴───────────┴───────────┴───┴────────┴────────┴────────┴────────┘"
      ]
     },
     "execution_count": 45,
     "metadata": {},
     "output_type": "execute_result"
    }
   ],
   "source": [
    "describe_polars(df, \"continent\", \"lifeExp\")\n"
   ]
  },
  {
   "cell_type": "markdown",
   "metadata": {},
   "source": [
    "### 8.1.3 集約関数"
   ]
  },
  {
   "cell_type": "markdown",
   "metadata": {},
   "source": [
    "#### 8.1.3.1 他のライブラリの関数"
   ]
  },
  {
   "cell_type": "code",
   "execution_count": 54,
   "metadata": {},
   "outputs": [
    {
     "name": "stdout",
     "output_type": "stream",
     "text": [
      "continent\n",
      "Africa      48.865330\n",
      "Americas    64.658737\n",
      "Asia        60.064903\n",
      "Europe      71.903686\n",
      "Oceania     74.326208\n",
      "Name: lifeExp, dtype: float64\n"
     ]
    },
    {
     "name": "stderr",
     "output_type": "stream",
     "text": [
      "C:\\Users\\treme\\AppData\\Local\\Temp\\ipykernel_15280\\2817510627.py:6: FutureWarning: The provided callable <function mean at 0x000002B2117D3E20> is currently using SeriesGroupBy.mean. In a future version of pandas, the provided callable will be used directly. To keep current behavior pass the string \"mean\" instead.\n",
      "  cont_le_agg = df_pandas.groupby(\"continent\")[\"lifeExp\"].agg(np.mean)\n"
     ]
    }
   ],
   "source": [
    "import numpy as np\n",
    "\n",
    "# polarsは新しいライブラリのため、他のライブラリとの互換性がないので、to_pandasを行っておく\n",
    "# 良くわからないエラーが出た\n",
    "df_pandas = df.to_pandas()\n",
    "cont_le_agg = df_pandas.groupby(\"continent\")[\"lifeExp\"].agg(np.mean)\n",
    "print(cont_le_agg)"
   ]
  },
  {
   "cell_type": "markdown",
   "metadata": {},
   "source": [
    "#### 8.1.3.2 カスタムのユーザー関数"
   ]
  },
  {
   "cell_type": "code",
   "execution_count": 56,
   "metadata": {},
   "outputs": [],
   "source": [
    "def my_mean(values):\n",
    "    n = len(values)\n",
    "\n",
    "    sum = 0\n",
    "    for value in values:\n",
    "        sum += value\n",
    "    \n",
    "    return sum / n"
   ]
  },
  {
   "cell_type": "code",
   "execution_count": 57,
   "metadata": {},
   "outputs": [
    {
     "name": "stdout",
     "output_type": "stream",
     "text": [
      "shape: (12, 2)\n",
      "┌──────┬───────────┐\n",
      "│ year ┆ lifeExp   │\n",
      "│ ---  ┆ ---       │\n",
      "│ i64  ┆ f64       │\n",
      "╞══════╪═══════════╡\n",
      "│ 1977 ┆ 59.570157 │\n",
      "│ 1992 ┆ 64.160338 │\n",
      "│ 2007 ┆ 67.007423 │\n",
      "│ 1957 ┆ 51.507401 │\n",
      "│ …    ┆ …         │\n",
      "│ 1967 ┆ 55.67829  │\n",
      "│ 1997 ┆ 65.014676 │\n",
      "│ 1982 ┆ 61.533197 │\n",
      "│ 1962 ┆ 53.609249 │\n",
      "└──────┴───────────┘\n"
     ]
    }
   ],
   "source": [
    "agg_my_mean = df.group_by(\"year\").agg( pl.col(\"lifeExp\").map_elements(my_mean) )\n",
    "print(agg_my_mean)"
   ]
  },
  {
   "cell_type": "markdown",
   "metadata": {},
   "source": [
    "### 8.1.4 複数の関数を同時に計算する"
   ]
  },
  {
   "cell_type": "code",
   "execution_count": 66,
   "metadata": {},
   "outputs": [
    {
     "name": "stdout",
     "output_type": "stream",
     "text": [
      "shape: (12, 4)\n",
      "┌──────┬───────┬───────────┬───────────┐\n",
      "│ year ┆ count ┆ mean      ┆ std       │\n",
      "│ ---  ┆ ---   ┆ ---       ┆ ---       │\n",
      "│ i64  ┆ u32   ┆ f64       ┆ f64       │\n",
      "╞══════╪═══════╪═══════════╪═══════════╡\n",
      "│ 1977 ┆ 142   ┆ 59.570157 ┆ 11.227229 │\n",
      "│ 1992 ┆ 142   ┆ 64.160338 ┆ 11.22738  │\n",
      "│ 2007 ┆ 142   ┆ 67.007423 ┆ 12.073021 │\n",
      "│ 1957 ┆ 142   ┆ 51.507401 ┆ 12.231286 │\n",
      "│ …    ┆ …     ┆ …         ┆ …         │\n",
      "│ 1982 ┆ 142   ┆ 61.533197 ┆ 10.770618 │\n",
      "│ 1997 ┆ 142   ┆ 65.014676 ┆ 11.559439 │\n",
      "│ 1967 ┆ 142   ┆ 55.67829  ┆ 11.718858 │\n",
      "│ 1962 ┆ 142   ┆ 53.609249 ┆ 12.097245 │\n",
      "└──────┴───────┴───────────┴───────────┘\n"
     ]
    }
   ],
   "source": [
    "gdf = df\\\n",
    "    .group_by(\"year\")\\\n",
    "        .agg([pl.col(\"lifeExp\").count().alias(\"count\"),\n",
    "              pl.col(\"lifeExp\").mean().alias(\"mean\"),\n",
    "              pl.col(\"lifeExp\").std().alias(\"std\")])\n",
    "print(gdf)"
   ]
  },
  {
   "cell_type": "markdown",
   "metadata": {},
   "source": [
    "### 8.1.5 .agg/aggregateでdictを使う"
   ]
  },
  {
   "cell_type": "markdown",
   "metadata": {},
   "source": [
    "#### 8.1.5.1 DataFrameに対するdictの指定"
   ]
  },
  {
   "cell_type": "code",
   "execution_count": 68,
   "metadata": {},
   "outputs": [
    {
     "data": {
      "text/plain": [
       "'\\ngdf = df    .group_by(\"year\")        .agg({\\n            \"lifeExp\": \"mean\",\\n            \"pop\": \"median\",\\n            \"gdpPercap\": \"median\"\\n        })\\nprint(gdf)\\n'"
      ]
     },
     "execution_count": 68,
     "metadata": {},
     "output_type": "execute_result"
    }
   ],
   "source": [
    "# polarsのaggではdictはつかえないようだ\n",
    "'''\n",
    "gdf = df\\\n",
    "    .group_by(\"year\")\\\n",
    "        .agg({\n",
    "            \"lifeExp\": \"mean\",\n",
    "            \"pop\": \"median\",\n",
    "            \"gdpPercap\": \"median\"\n",
    "        })\n",
    "print(gdf)\n",
    "'''"
   ]
  },
  {
   "cell_type": "markdown",
   "metadata": {},
   "source": [
    "## 8.2 変換(transform)"
   ]
  },
  {
   "cell_type": "markdown",
   "metadata": {},
   "source": [
    "### 8.2.1 zスコアの例\n",
    "polarsにはtransformが無いので省略"
   ]
  },
  {
   "cell_type": "markdown",
   "metadata": {},
   "source": [
    "### 8.2.2 欠損値の例\n",
    "この句はpandasで書いている"
   ]
  },
  {
   "cell_type": "code",
   "execution_count": 70,
   "metadata": {},
   "outputs": [
    {
     "name": "stdout",
     "output_type": "stream",
     "text": [
      "     total_bill   tip     sex smoker   day    time  size\n",
      "24        19.82  3.18    Male     No   Sat  Dinner     2\n",
      "6          8.77  2.00    Male     No   Sun  Dinner     2\n",
      "153         NaN  2.00    Male     No   Sun  Dinner     4\n",
      "211         NaN  5.16    Male    Yes   Sat  Dinner     4\n",
      "198         NaN  2.00  Female    Yes  Thur   Lunch     2\n",
      "176         NaN  2.00    Male    Yes   Sun  Dinner     2\n",
      "192       28.44  2.56    Male    Yes  Thur   Lunch     2\n",
      "124       12.48  2.52  Female     No  Thur   Lunch     2\n",
      "9         14.78  3.23    Male     No   Sun  Dinner     2\n",
      "101       15.38  3.00  Female    Yes   Fri  Dinner     2\n"
     ]
    }
   ],
   "source": [
    "import seaborn as sns\n",
    "import numpy as np\n",
    "\n",
    "np.random.seed(42)\n",
    "\n",
    "tips_10 = sns.load_dataset(\"tips\").sample(10)\n",
    "\n",
    "tips_10.loc[\n",
    "    np.random.permutation(tips_10.index)[:4],\n",
    "    \"total_bill\"] = np.NaN\n",
    "\n",
    "print(tips_10)"
   ]
  },
  {
   "cell_type": "code",
   "execution_count": 71,
   "metadata": {},
   "outputs": [
    {
     "name": "stdout",
     "output_type": "stream",
     "text": [
      "        total_bill  tip  smoker  day  time  size\n",
      "sex                                             \n",
      "Male             4    7       7    7     7     7\n",
      "Female           2    3       3    3     3     3\n"
     ]
    },
    {
     "name": "stderr",
     "output_type": "stream",
     "text": [
      "C:\\Users\\treme\\AppData\\Local\\Temp\\ipykernel_15280\\262653143.py:1: FutureWarning: The default of observed=False is deprecated and will be changed to True in a future version of pandas. Pass observed=False to retain current behavior or observed=True to adopt the future default and silence this warning.\n",
      "  count_sex = tips_10.groupby(\"sex\").count()\n"
     ]
    }
   ],
   "source": [
    "count_sex = tips_10.groupby(\"sex\").count()\n",
    "print(count_sex)"
   ]
  },
  {
   "cell_type": "code",
   "execution_count": 73,
   "metadata": {},
   "outputs": [
    {
     "name": "stdout",
     "output_type": "stream",
     "text": [
      "     total_bill   tip     sex smoker   day    time  size  fill_total_bill\n",
      "24        19.82  3.18    Male     No   Sat  Dinner     2          19.8200\n",
      "6          8.77  2.00    Male     No   Sun  Dinner     2           8.7700\n",
      "153         NaN  2.00    Male     No   Sun  Dinner     4          17.9525\n",
      "211         NaN  5.16    Male    Yes   Sat  Dinner     4          17.9525\n",
      "198         NaN  2.00  Female    Yes  Thur   Lunch     2          13.9300\n",
      "176         NaN  2.00    Male    Yes   Sun  Dinner     2          17.9525\n",
      "192       28.44  2.56    Male    Yes  Thur   Lunch     2          28.4400\n",
      "124       12.48  2.52  Female     No  Thur   Lunch     2          12.4800\n",
      "9         14.78  3.23    Male     No   Sun  Dinner     2          14.7800\n",
      "101       15.38  3.00  Female    Yes   Fri  Dinner     2          15.3800\n"
     ]
    },
    {
     "name": "stderr",
     "output_type": "stream",
     "text": [
      "C:\\Users\\treme\\AppData\\Local\\Temp\\ipykernel_15280\\1847762977.py:5: FutureWarning: The default of observed=False is deprecated and will be changed to True in a future version of pandas. Pass observed=False to retain current behavior or observed=True to adopt the future default and silence this warning.\n",
      "  total_bill_group_mean = tips_10.groupby(\"sex\").total_bill.transform(fill_na_mean)\n"
     ]
    }
   ],
   "source": [
    "def fill_na_mean(x):\n",
    "    avg = x.mean()\n",
    "    return x.fillna(avg)\n",
    "\n",
    "total_bill_group_mean = tips_10.groupby(\"sex\").total_bill.transform(fill_na_mean)\n",
    "\n",
    "tips_10[\"fill_total_bill\"] = total_bill_group_mean"
   ]
  },
  {
   "cell_type": "code",
   "execution_count": 74,
   "metadata": {},
   "outputs": [
    {
     "name": "stdout",
     "output_type": "stream",
     "text": [
      "        sex  total_bill  fill_total_bill\n",
      "24     Male       19.82          19.8200\n",
      "6      Male        8.77           8.7700\n",
      "153    Male         NaN          17.9525\n",
      "211    Male         NaN          17.9525\n",
      "198  Female         NaN          13.9300\n",
      "176    Male         NaN          17.9525\n",
      "192    Male       28.44          28.4400\n",
      "124  Female       12.48          12.4800\n",
      "9      Male       14.78          14.7800\n",
      "101  Female       15.38          15.3800\n"
     ]
    }
   ],
   "source": [
    "print(tips_10[[\"sex\", \"total_bill\", \"fill_total_bill\"]])"
   ]
  },
  {
   "cell_type": "markdown",
   "metadata": {},
   "source": [
    "## 8.3 フィルタリング\n",
    "polarsとpandasで少し挙動が異なる"
   ]
  },
  {
   "cell_type": "code",
   "execution_count": 75,
   "metadata": {},
   "outputs": [
    {
     "name": "stdout",
     "output_type": "stream",
     "text": [
      "(244, 7)\n",
      "shape: (6, 2)\n",
      "┌──────┬────────┐\n",
      "│ size ┆ counts │\n",
      "│ ---  ┆ ---    │\n",
      "│ i64  ┆ u32    │\n",
      "╞══════╪════════╡\n",
      "│ 1    ┆ 4      │\n",
      "│ 3    ┆ 38     │\n",
      "│ 4    ┆ 37     │\n",
      "│ 6    ┆ 4      │\n",
      "│ 2    ┆ 156    │\n",
      "│ 5    ┆ 5      │\n",
      "└──────┴────────┘\n"
     ]
    }
   ],
   "source": [
    "tips = pl.DataFrame( sns.load_dataset(\"tips\") )\n",
    "\n",
    "print(tips.shape)\n",
    "\n",
    "print(tips[\"size\"].value_counts())"
   ]
  },
  {
   "cell_type": "code",
   "execution_count": 80,
   "metadata": {},
   "outputs": [
    {
     "name": "stdout",
     "output_type": "stream",
     "text": [
      "shape: (3, 2)\n",
      "┌──────┬────────┐\n",
      "│ size ┆ counts │\n",
      "│ ---  ┆ ---    │\n",
      "│ i64  ┆ u32    │\n",
      "╞══════╪════════╡\n",
      "│ 3    ┆ 38     │\n",
      "│ 2    ┆ 156    │\n",
      "│ 4    ┆ 37     │\n",
      "└──────┴────────┘\n",
      "(3, 2)\n"
     ]
    }
   ],
   "source": [
    "tips_filtered = tips.group_by(by = \"size\").agg( pl.col(\"size\").count().alias(\"counts\") ).filter( pl.col(\"counts\") >= 30 )\n",
    "print(tips_filtered)\n",
    "print(tips_filtered.shape)\n"
   ]
  },
  {
   "cell_type": "markdown",
   "metadata": {},
   "source": [
    "## 8.4 DataFrameGroupByオブジェクト"
   ]
  },
  {
   "cell_type": "markdown",
   "metadata": {},
   "source": [
    "### 8.4.1 group"
   ]
  },
  {
   "cell_type": "code",
   "execution_count": 81,
   "metadata": {},
   "outputs": [
    {
     "name": "stdout",
     "output_type": "stream",
     "text": [
      "shape: (10, 7)\n",
      "┌────────────┬──────┬────────┬────────┬──────┬────────┬──────┐\n",
      "│ total_bill ┆ tip  ┆ sex    ┆ smoker ┆ day  ┆ time   ┆ size │\n",
      "│ ---        ┆ ---  ┆ ---    ┆ ---    ┆ ---  ┆ ---    ┆ ---  │\n",
      "│ f64        ┆ f64  ┆ cat    ┆ cat    ┆ cat  ┆ cat    ┆ i64  │\n",
      "╞════════════╪══════╪════════╪════════╪══════╪════════╪══════╡\n",
      "│ 19.82      ┆ 3.18 ┆ Male   ┆ No     ┆ Sat  ┆ Dinner ┆ 2    │\n",
      "│ 8.77       ┆ 2.0  ┆ Male   ┆ No     ┆ Sun  ┆ Dinner ┆ 2    │\n",
      "│ 24.55      ┆ 2.0  ┆ Male   ┆ No     ┆ Sun  ┆ Dinner ┆ 4    │\n",
      "│ 25.89      ┆ 5.16 ┆ Male   ┆ Yes    ┆ Sat  ┆ Dinner ┆ 4    │\n",
      "│ …          ┆ …    ┆ …      ┆ …      ┆ …    ┆ …      ┆ …    │\n",
      "│ 28.44      ┆ 2.56 ┆ Male   ┆ Yes    ┆ Thur ┆ Lunch  ┆ 2    │\n",
      "│ 12.48      ┆ 2.52 ┆ Female ┆ No     ┆ Thur ┆ Lunch  ┆ 2    │\n",
      "│ 14.78      ┆ 3.23 ┆ Male   ┆ No     ┆ Sun  ┆ Dinner ┆ 2    │\n",
      "│ 15.38      ┆ 3.0  ┆ Female ┆ Yes    ┆ Fri  ┆ Dinner ┆ 2    │\n",
      "└────────────┴──────┴────────┴────────┴──────┴────────┴──────┘\n"
     ]
    }
   ],
   "source": [
    "tips_10 = pl.DataFrame( sns.load_dataset(\"tips\").sample(10, random_state = 42) )\n",
    "print(tips_10)"
   ]
  },
  {
   "cell_type": "code",
   "execution_count": 82,
   "metadata": {},
   "outputs": [
    {
     "name": "stdout",
     "output_type": "stream",
     "text": [
      "<polars.dataframe.group_by.GroupBy object at 0x000002B22A973010>\n"
     ]
    }
   ],
   "source": [
    "grouped = tips_10.group_by(\"sex\")\n",
    "print(grouped)"
   ]
  },
  {
   "cell_type": "code",
   "execution_count": 83,
   "metadata": {},
   "outputs": [
    {
     "name": "stdout",
     "output_type": "stream",
     "text": [
      "shape: (2, 7)\n",
      "┌────────┬───────────────┬───────────────┬───────────────┬───────────┬───────────────┬─────────────┐\n",
      "│ sex    ┆ total_bill    ┆ tip           ┆ smoker        ┆ day       ┆ time          ┆ size        │\n",
      "│ ---    ┆ ---           ┆ ---           ┆ ---           ┆ ---       ┆ ---           ┆ ---         │\n",
      "│ cat    ┆ list[f64]     ┆ list[f64]     ┆ list[cat]     ┆ list[cat] ┆ list[cat]     ┆ list[i64]   │\n",
      "╞════════╪═══════════════╪═══════════════╪═══════════════╪═══════════╪═══════════════╪═════════════╡\n",
      "│ Female ┆ [13.0, 12.48, ┆ [2.0, 2.52,   ┆ [\"Yes\", \"No\", ┆ [\"Thur\",  ┆ [\"Lunch\",     ┆ [2, 2, 2]   │\n",
      "│        ┆ 15.38]        ┆ 3.0]          ┆ \"Yes\"]        ┆ \"Thur\",   ┆ \"Lunch\",      ┆             │\n",
      "│        ┆               ┆               ┆               ┆ \"Fri\"]    ┆ \"Dinner\"]     ┆             │\n",
      "│ Male   ┆ [19.82, 8.77, ┆ [3.18, 2.0, … ┆ [\"No\", \"No\",  ┆ [\"Sat\",   ┆ [\"Dinner\",    ┆ [2, 2, … 2] │\n",
      "│        ┆ … 14.78]      ┆ 3.23]         ┆ … \"No\"]       ┆ \"Sun\", …  ┆ \"Dinner\", …   ┆             │\n",
      "│        ┆               ┆               ┆               ┆ \"Sun\"]    ┆ \"Dinner\"]     ┆             │\n",
      "└────────┴───────────────┴───────────────┴───────────────┴───────────┴───────────────┴─────────────┘\n"
     ]
    }
   ],
   "source": [
    "print(grouped.all())"
   ]
  },
  {
   "cell_type": "markdown",
   "metadata": {},
   "source": [
    "### 8.4.2 複数の変数にかかわるグループ計算"
   ]
  },
  {
   "cell_type": "code",
   "execution_count": 84,
   "metadata": {},
   "outputs": [
    {
     "name": "stdout",
     "output_type": "stream",
     "text": [
      "shape: (2, 7)\n",
      "┌────────┬────────────┬──────────┬────────┬──────┬──────┬──────────┐\n",
      "│ sex    ┆ total_bill ┆ tip      ┆ smoker ┆ day  ┆ time ┆ size     │\n",
      "│ ---    ┆ ---        ┆ ---      ┆ ---    ┆ ---  ┆ ---  ┆ ---      │\n",
      "│ cat    ┆ f64        ┆ f64      ┆ cat    ┆ cat  ┆ cat  ┆ f64      │\n",
      "╞════════╪════════════╪══════════╪════════╪══════╪══════╪══════════╡\n",
      "│ Female ┆ 13.62      ┆ 2.506667 ┆ null   ┆ null ┆ null ┆ 2.0      │\n",
      "│ Male   ┆ 20.02      ┆ 2.875714 ┆ null   ┆ null ┆ null ┆ 2.571429 │\n",
      "└────────┴────────────┴──────────┴────────┴──────┴──────┴──────────┘\n"
     ]
    }
   ],
   "source": [
    "avgs = grouped.mean()\n",
    "print(avgs)"
   ]
  },
  {
   "cell_type": "code",
   "execution_count": 85,
   "metadata": {},
   "outputs": [
    {
     "name": "stdout",
     "output_type": "stream",
     "text": [
      "['total_bill', 'tip', 'sex', 'smoker', 'day', 'time', 'size']\n"
     ]
    }
   ],
   "source": [
    "print(tips_10.columns)"
   ]
  },
  {
   "cell_type": "markdown",
   "metadata": {},
   "source": [
    "### 8.4.3 グループの抽出"
   ]
  },
  {
   "cell_type": "code",
   "execution_count": 86,
   "metadata": {},
   "outputs": [
    {
     "name": "stdout",
     "output_type": "stream",
     "text": [
      "shape: (3, 7)\n",
      "┌────────────┬──────┬────────┬────────┬──────┬────────┬──────┐\n",
      "│ total_bill ┆ tip  ┆ sex    ┆ smoker ┆ day  ┆ time   ┆ size │\n",
      "│ ---        ┆ ---  ┆ ---    ┆ ---    ┆ ---  ┆ ---    ┆ ---  │\n",
      "│ f64        ┆ f64  ┆ cat    ┆ cat    ┆ cat  ┆ cat    ┆ i64  │\n",
      "╞════════════╪══════╪════════╪════════╪══════╪════════╪══════╡\n",
      "│ 13.0       ┆ 2.0  ┆ Female ┆ Yes    ┆ Thur ┆ Lunch  ┆ 2    │\n",
      "│ 12.48      ┆ 2.52 ┆ Female ┆ No     ┆ Thur ┆ Lunch  ┆ 2    │\n",
      "│ 15.38      ┆ 3.0  ┆ Female ┆ Yes    ┆ Fri  ┆ Dinner ┆ 2    │\n",
      "└────────────┴──────┴────────┴────────┴──────┴────────┴──────┘\n"
     ]
    }
   ],
   "source": [
    "female = grouped.map_groups(lambda group_df: group_df.filter( pl.col(\"sex\") == \"Female\" ))\n",
    "print(female)"
   ]
  },
  {
   "cell_type": "markdown",
   "metadata": {},
   "source": [
    "### 8.4.4 グループごとの反復処理"
   ]
  },
  {
   "cell_type": "code",
   "execution_count": 87,
   "metadata": {},
   "outputs": [
    {
     "name": "stdout",
     "output_type": "stream",
     "text": [
      "('Female', shape: (3, 7)\n",
      "┌────────────┬──────┬────────┬────────┬──────┬────────┬──────┐\n",
      "│ total_bill ┆ tip  ┆ sex    ┆ smoker ┆ day  ┆ time   ┆ size │\n",
      "│ ---        ┆ ---  ┆ ---    ┆ ---    ┆ ---  ┆ ---    ┆ ---  │\n",
      "│ f64        ┆ f64  ┆ cat    ┆ cat    ┆ cat  ┆ cat    ┆ i64  │\n",
      "╞════════════╪══════╪════════╪════════╪══════╪════════╪══════╡\n",
      "│ 13.0       ┆ 2.0  ┆ Female ┆ Yes    ┆ Thur ┆ Lunch  ┆ 2    │\n",
      "│ 12.48      ┆ 2.52 ┆ Female ┆ No     ┆ Thur ┆ Lunch  ┆ 2    │\n",
      "│ 15.38      ┆ 3.0  ┆ Female ┆ Yes    ┆ Fri  ┆ Dinner ┆ 2    │\n",
      "└────────────┴──────┴────────┴────────┴──────┴────────┴──────┘)\n",
      "('Male', shape: (7, 7)\n",
      "┌────────────┬──────┬──────┬────────┬──────┬────────┬──────┐\n",
      "│ total_bill ┆ tip  ┆ sex  ┆ smoker ┆ day  ┆ time   ┆ size │\n",
      "│ ---        ┆ ---  ┆ ---  ┆ ---    ┆ ---  ┆ ---    ┆ ---  │\n",
      "│ f64        ┆ f64  ┆ cat  ┆ cat    ┆ cat  ┆ cat    ┆ i64  │\n",
      "╞════════════╪══════╪══════╪════════╪══════╪════════╪══════╡\n",
      "│ 19.82      ┆ 3.18 ┆ Male ┆ No     ┆ Sat  ┆ Dinner ┆ 2    │\n",
      "│ 8.77       ┆ 2.0  ┆ Male ┆ No     ┆ Sun  ┆ Dinner ┆ 2    │\n",
      "│ 24.55      ┆ 2.0  ┆ Male ┆ No     ┆ Sun  ┆ Dinner ┆ 4    │\n",
      "│ 25.89      ┆ 5.16 ┆ Male ┆ Yes    ┆ Sat  ┆ Dinner ┆ 4    │\n",
      "│ 17.89      ┆ 2.0  ┆ Male ┆ Yes    ┆ Sun  ┆ Dinner ┆ 2    │\n",
      "│ 28.44      ┆ 2.56 ┆ Male ┆ Yes    ┆ Thur ┆ Lunch  ┆ 2    │\n",
      "│ 14.78      ┆ 3.23 ┆ Male ┆ No     ┆ Sun  ┆ Dinner ┆ 2    │\n",
      "└────────────┴──────┴──────┴────────┴──────┴────────┴──────┘)\n"
     ]
    }
   ],
   "source": [
    "for sex_group in grouped:\n",
    "    print(sex_group)"
   ]
  },
  {
   "cell_type": "markdown",
   "metadata": {},
   "source": [
    "### 8.4.5 複数の変数によるグループ化"
   ]
  },
  {
   "cell_type": "code",
   "execution_count": 88,
   "metadata": {},
   "outputs": [
    {
     "data": {
      "text/html": [
       "<div><style>\n",
       ".dataframe > thead > tr,\n",
       ".dataframe > tbody > tr {\n",
       "  text-align: right;\n",
       "  white-space: pre-wrap;\n",
       "}\n",
       "</style>\n",
       "<small>shape: (4, 7)</small><table border=\"1\" class=\"dataframe\"><thead><tr><th>sex</th><th>time</th><th>total_bill</th><th>tip</th><th>smoker</th><th>day</th><th>size</th></tr><tr><td>cat</td><td>cat</td><td>f64</td><td>f64</td><td>cat</td><td>cat</td><td>f64</td></tr></thead><tbody><tr><td>&quot;Female&quot;</td><td>&quot;Dinner&quot;</td><td>15.38</td><td>3.0</td><td>null</td><td>null</td><td>2.0</td></tr><tr><td>&quot;Female&quot;</td><td>&quot;Lunch&quot;</td><td>12.74</td><td>2.26</td><td>null</td><td>null</td><td>2.0</td></tr><tr><td>&quot;Male&quot;</td><td>&quot;Dinner&quot;</td><td>18.616667</td><td>2.928333</td><td>null</td><td>null</td><td>2.666667</td></tr><tr><td>&quot;Male&quot;</td><td>&quot;Lunch&quot;</td><td>28.44</td><td>2.56</td><td>null</td><td>null</td><td>2.0</td></tr></tbody></table></div>"
      ],
      "text/plain": [
       "shape: (4, 7)\n",
       "┌────────┬────────┬────────────┬──────────┬────────┬──────┬──────────┐\n",
       "│ sex    ┆ time   ┆ total_bill ┆ tip      ┆ smoker ┆ day  ┆ size     │\n",
       "│ ---    ┆ ---    ┆ ---        ┆ ---      ┆ ---    ┆ ---  ┆ ---      │\n",
       "│ cat    ┆ cat    ┆ f64        ┆ f64      ┆ cat    ┆ cat  ┆ f64      │\n",
       "╞════════╪════════╪════════════╪══════════╪════════╪══════╪══════════╡\n",
       "│ Female ┆ Dinner ┆ 15.38      ┆ 3.0      ┆ null   ┆ null ┆ 2.0      │\n",
       "│ Female ┆ Lunch  ┆ 12.74      ┆ 2.26     ┆ null   ┆ null ┆ 2.0      │\n",
       "│ Male   ┆ Dinner ┆ 18.616667  ┆ 2.928333 ┆ null   ┆ null ┆ 2.666667 │\n",
       "│ Male   ┆ Lunch  ┆ 28.44      ┆ 2.56     ┆ null   ┆ null ┆ 2.0      │\n",
       "└────────┴────────┴────────────┴──────────┴────────┴──────┴──────────┘"
      ]
     },
     "execution_count": 88,
     "metadata": {},
     "output_type": "execute_result"
    }
   ],
   "source": [
    "bill_sex_time = tips_10.group_by([\"sex\", \"time\"])\n",
    "group_avg = bill_sex_time.mean()\n",
    "group_avg"
   ]
  },
  {
   "cell_type": "markdown",
   "metadata": {},
   "source": [
    "### 8.4.6 結果を平坦化する(reset_index)\n",
    "polarsにはindexが無いため、省略"
   ]
  },
  {
   "cell_type": "markdown",
   "metadata": {},
   "source": [
    "## 8.5 マルチインデックスの使い方\n",
    "現状のpolarsにはzipファイルを開く方法が無いので、省略"
   ]
  },
  {
   "cell_type": "code",
   "execution_count": 90,
   "metadata": {},
   "outputs": [
    {
     "ename": "ComputeError",
     "evalue": "invalid utf-8 sequence in csv",
     "output_type": "error",
     "traceback": [
      "\u001b[1;31m---------------------------------------------------------------------------\u001b[0m",
      "\u001b[1;31mComputeError\u001b[0m                              Traceback (most recent call last)",
      "Cell \u001b[1;32mIn[90], line 1\u001b[0m\n\u001b[1;32m----> 1\u001b[0m intv_df \u001b[38;5;241m=\u001b[39m \u001b[43mpl\u001b[49m\u001b[38;5;241;43m.\u001b[39;49m\u001b[43mread_csv\u001b[49m\u001b[43m(\u001b[49m\u001b[38;5;124;43m\"\u001b[39;49m\u001b[38;5;124;43m../data/epi_sim.zip\u001b[39;49m\u001b[38;5;124;43m\"\u001b[39;49m\u001b[43m,\u001b[49m\u001b[43m \u001b[49m\u001b[43mtruncate_ragged_lines\u001b[49m\u001b[43m \u001b[49m\u001b[38;5;241;43m=\u001b[39;49m\u001b[43m \u001b[49m\u001b[38;5;28;43;01mTrue\u001b[39;49;00m\u001b[43m)\u001b[49m\n\u001b[0;32m      2\u001b[0m \u001b[38;5;28mprint\u001b[39m(intv_df)\n",
      "File \u001b[1;32mc:\\Python311\\Lib\\site-packages\\polars\\utils\\deprecation.py:100\u001b[0m, in \u001b[0;36mdeprecate_renamed_parameter.<locals>.decorate.<locals>.wrapper\u001b[1;34m(*args, **kwargs)\u001b[0m\n\u001b[0;32m     95\u001b[0m \u001b[38;5;129m@wraps\u001b[39m(function)\n\u001b[0;32m     96\u001b[0m \u001b[38;5;28;01mdef\u001b[39;00m \u001b[38;5;21mwrapper\u001b[39m(\u001b[38;5;241m*\u001b[39margs: P\u001b[38;5;241m.\u001b[39margs, \u001b[38;5;241m*\u001b[39m\u001b[38;5;241m*\u001b[39mkwargs: P\u001b[38;5;241m.\u001b[39mkwargs) \u001b[38;5;241m-\u001b[39m\u001b[38;5;241m>\u001b[39m T:\n\u001b[0;32m     97\u001b[0m     _rename_keyword_argument(\n\u001b[0;32m     98\u001b[0m         old_name, new_name, kwargs, function\u001b[38;5;241m.\u001b[39m\u001b[38;5;18m__name__\u001b[39m, version\n\u001b[0;32m     99\u001b[0m     )\n\u001b[1;32m--> 100\u001b[0m     \u001b[38;5;28;01mreturn\u001b[39;00m \u001b[43mfunction\u001b[49m\u001b[43m(\u001b[49m\u001b[38;5;241;43m*\u001b[39;49m\u001b[43margs\u001b[49m\u001b[43m,\u001b[49m\u001b[43m \u001b[49m\u001b[38;5;241;43m*\u001b[39;49m\u001b[38;5;241;43m*\u001b[39;49m\u001b[43mkwargs\u001b[49m\u001b[43m)\u001b[49m\n",
      "File \u001b[1;32mc:\\Python311\\Lib\\site-packages\\polars\\io\\csv\\functions.py:369\u001b[0m, in \u001b[0;36mread_csv\u001b[1;34m(source, has_header, columns, new_columns, separator, comment_prefix, quote_char, skip_rows, dtypes, schema, null_values, missing_utf8_is_empty_string, ignore_errors, try_parse_dates, n_threads, infer_schema_length, batch_size, n_rows, encoding, low_memory, rechunk, use_pyarrow, storage_options, skip_rows_after_header, row_count_name, row_count_offset, sample_size, eol_char, raise_if_empty, truncate_ragged_lines)\u001b[0m\n\u001b[0;32m    357\u001b[0m         dtypes \u001b[38;5;241m=\u001b[39m {\n\u001b[0;32m    358\u001b[0m             new_to_current\u001b[38;5;241m.\u001b[39mget(column_name, column_name): column_dtype\n\u001b[0;32m    359\u001b[0m             \u001b[38;5;28;01mfor\u001b[39;00m column_name, column_dtype \u001b[38;5;129;01min\u001b[39;00m dtypes\u001b[38;5;241m.\u001b[39mitems()\n\u001b[0;32m    360\u001b[0m         }\n\u001b[0;32m    362\u001b[0m \u001b[38;5;28;01mwith\u001b[39;00m _prepare_file_arg(\n\u001b[0;32m    363\u001b[0m     source,\n\u001b[0;32m    364\u001b[0m     encoding\u001b[38;5;241m=\u001b[39mencoding,\n\u001b[1;32m   (...)\u001b[0m\n\u001b[0;32m    367\u001b[0m     \u001b[38;5;241m*\u001b[39m\u001b[38;5;241m*\u001b[39mstorage_options,\n\u001b[0;32m    368\u001b[0m ) \u001b[38;5;28;01mas\u001b[39;00m data:\n\u001b[1;32m--> 369\u001b[0m     df \u001b[38;5;241m=\u001b[39m \u001b[43mpl\u001b[49m\u001b[38;5;241;43m.\u001b[39;49m\u001b[43mDataFrame\u001b[49m\u001b[38;5;241;43m.\u001b[39;49m\u001b[43m_read_csv\u001b[49m\u001b[43m(\u001b[49m\n\u001b[0;32m    370\u001b[0m \u001b[43m        \u001b[49m\u001b[43mdata\u001b[49m\u001b[43m,\u001b[49m\n\u001b[0;32m    371\u001b[0m \u001b[43m        \u001b[49m\u001b[43mhas_header\u001b[49m\u001b[38;5;241;43m=\u001b[39;49m\u001b[43mhas_header\u001b[49m\u001b[43m,\u001b[49m\n\u001b[0;32m    372\u001b[0m \u001b[43m        \u001b[49m\u001b[43mcolumns\u001b[49m\u001b[38;5;241;43m=\u001b[39;49m\u001b[43mcolumns\u001b[49m\u001b[43m \u001b[49m\u001b[38;5;28;43;01mif\u001b[39;49;00m\u001b[43m \u001b[49m\u001b[43mcolumns\u001b[49m\u001b[43m \u001b[49m\u001b[38;5;28;43;01melse\u001b[39;49;00m\u001b[43m \u001b[49m\u001b[43mprojection\u001b[49m\u001b[43m,\u001b[49m\n\u001b[0;32m    373\u001b[0m \u001b[43m        \u001b[49m\u001b[43mseparator\u001b[49m\u001b[38;5;241;43m=\u001b[39;49m\u001b[43mseparator\u001b[49m\u001b[43m,\u001b[49m\n\u001b[0;32m    374\u001b[0m \u001b[43m        \u001b[49m\u001b[43mcomment_prefix\u001b[49m\u001b[38;5;241;43m=\u001b[39;49m\u001b[43mcomment_prefix\u001b[49m\u001b[43m,\u001b[49m\n\u001b[0;32m    375\u001b[0m \u001b[43m        \u001b[49m\u001b[43mquote_char\u001b[49m\u001b[38;5;241;43m=\u001b[39;49m\u001b[43mquote_char\u001b[49m\u001b[43m,\u001b[49m\n\u001b[0;32m    376\u001b[0m \u001b[43m        \u001b[49m\u001b[43mskip_rows\u001b[49m\u001b[38;5;241;43m=\u001b[39;49m\u001b[43mskip_rows\u001b[49m\u001b[43m,\u001b[49m\n\u001b[0;32m    377\u001b[0m \u001b[43m        \u001b[49m\u001b[43mdtypes\u001b[49m\u001b[38;5;241;43m=\u001b[39;49m\u001b[43mdtypes\u001b[49m\u001b[43m,\u001b[49m\n\u001b[0;32m    378\u001b[0m \u001b[43m        \u001b[49m\u001b[43mschema\u001b[49m\u001b[38;5;241;43m=\u001b[39;49m\u001b[43mschema\u001b[49m\u001b[43m,\u001b[49m\n\u001b[0;32m    379\u001b[0m \u001b[43m        \u001b[49m\u001b[43mnull_values\u001b[49m\u001b[38;5;241;43m=\u001b[39;49m\u001b[43mnull_values\u001b[49m\u001b[43m,\u001b[49m\n\u001b[0;32m    380\u001b[0m \u001b[43m        \u001b[49m\u001b[43mmissing_utf8_is_empty_string\u001b[49m\u001b[38;5;241;43m=\u001b[39;49m\u001b[43mmissing_utf8_is_empty_string\u001b[49m\u001b[43m,\u001b[49m\n\u001b[0;32m    381\u001b[0m \u001b[43m        \u001b[49m\u001b[43mignore_errors\u001b[49m\u001b[38;5;241;43m=\u001b[39;49m\u001b[43mignore_errors\u001b[49m\u001b[43m,\u001b[49m\n\u001b[0;32m    382\u001b[0m \u001b[43m        \u001b[49m\u001b[43mtry_parse_dates\u001b[49m\u001b[38;5;241;43m=\u001b[39;49m\u001b[43mtry_parse_dates\u001b[49m\u001b[43m,\u001b[49m\n\u001b[0;32m    383\u001b[0m \u001b[43m        \u001b[49m\u001b[43mn_threads\u001b[49m\u001b[38;5;241;43m=\u001b[39;49m\u001b[43mn_threads\u001b[49m\u001b[43m,\u001b[49m\n\u001b[0;32m    384\u001b[0m \u001b[43m        \u001b[49m\u001b[43minfer_schema_length\u001b[49m\u001b[38;5;241;43m=\u001b[39;49m\u001b[43minfer_schema_length\u001b[49m\u001b[43m,\u001b[49m\n\u001b[0;32m    385\u001b[0m \u001b[43m        \u001b[49m\u001b[43mbatch_size\u001b[49m\u001b[38;5;241;43m=\u001b[39;49m\u001b[43mbatch_size\u001b[49m\u001b[43m,\u001b[49m\n\u001b[0;32m    386\u001b[0m \u001b[43m        \u001b[49m\u001b[43mn_rows\u001b[49m\u001b[38;5;241;43m=\u001b[39;49m\u001b[43mn_rows\u001b[49m\u001b[43m,\u001b[49m\n\u001b[0;32m    387\u001b[0m \u001b[43m        \u001b[49m\u001b[43mencoding\u001b[49m\u001b[38;5;241;43m=\u001b[39;49m\u001b[43mencoding\u001b[49m\u001b[43m \u001b[49m\u001b[38;5;28;43;01mif\u001b[39;49;00m\u001b[43m \u001b[49m\u001b[43mencoding\u001b[49m\u001b[43m \u001b[49m\u001b[38;5;241;43m==\u001b[39;49m\u001b[43m \u001b[49m\u001b[38;5;124;43m\"\u001b[39;49m\u001b[38;5;124;43mutf8-lossy\u001b[39;49m\u001b[38;5;124;43m\"\u001b[39;49m\u001b[43m \u001b[49m\u001b[38;5;28;43;01melse\u001b[39;49;00m\u001b[43m \u001b[49m\u001b[38;5;124;43m\"\u001b[39;49m\u001b[38;5;124;43mutf8\u001b[39;49m\u001b[38;5;124;43m\"\u001b[39;49m\u001b[43m,\u001b[49m\n\u001b[0;32m    388\u001b[0m \u001b[43m        \u001b[49m\u001b[43mlow_memory\u001b[49m\u001b[38;5;241;43m=\u001b[39;49m\u001b[43mlow_memory\u001b[49m\u001b[43m,\u001b[49m\n\u001b[0;32m    389\u001b[0m \u001b[43m        \u001b[49m\u001b[43mrechunk\u001b[49m\u001b[38;5;241;43m=\u001b[39;49m\u001b[43mrechunk\u001b[49m\u001b[43m,\u001b[49m\n\u001b[0;32m    390\u001b[0m \u001b[43m        \u001b[49m\u001b[43mskip_rows_after_header\u001b[49m\u001b[38;5;241;43m=\u001b[39;49m\u001b[43mskip_rows_after_header\u001b[49m\u001b[43m,\u001b[49m\n\u001b[0;32m    391\u001b[0m \u001b[43m        \u001b[49m\u001b[43mrow_count_name\u001b[49m\u001b[38;5;241;43m=\u001b[39;49m\u001b[43mrow_count_name\u001b[49m\u001b[43m,\u001b[49m\n\u001b[0;32m    392\u001b[0m \u001b[43m        \u001b[49m\u001b[43mrow_count_offset\u001b[49m\u001b[38;5;241;43m=\u001b[39;49m\u001b[43mrow_count_offset\u001b[49m\u001b[43m,\u001b[49m\n\u001b[0;32m    393\u001b[0m \u001b[43m        \u001b[49m\u001b[43msample_size\u001b[49m\u001b[38;5;241;43m=\u001b[39;49m\u001b[43msample_size\u001b[49m\u001b[43m,\u001b[49m\n\u001b[0;32m    394\u001b[0m \u001b[43m        \u001b[49m\u001b[43meol_char\u001b[49m\u001b[38;5;241;43m=\u001b[39;49m\u001b[43meol_char\u001b[49m\u001b[43m,\u001b[49m\n\u001b[0;32m    395\u001b[0m \u001b[43m        \u001b[49m\u001b[43mraise_if_empty\u001b[49m\u001b[38;5;241;43m=\u001b[39;49m\u001b[43mraise_if_empty\u001b[49m\u001b[43m,\u001b[49m\n\u001b[0;32m    396\u001b[0m \u001b[43m        \u001b[49m\u001b[43mtruncate_ragged_lines\u001b[49m\u001b[38;5;241;43m=\u001b[39;49m\u001b[43mtruncate_ragged_lines\u001b[49m\u001b[43m,\u001b[49m\n\u001b[0;32m    397\u001b[0m \u001b[43m    \u001b[49m\u001b[43m)\u001b[49m\n\u001b[0;32m    399\u001b[0m \u001b[38;5;28;01mif\u001b[39;00m new_columns:\n\u001b[0;32m    400\u001b[0m     \u001b[38;5;28;01mreturn\u001b[39;00m _update_columns(df, new_columns)\n",
      "File \u001b[1;32mc:\\Python311\\Lib\\site-packages\\polars\\dataframe\\frame.py:775\u001b[0m, in \u001b[0;36mDataFrame._read_csv\u001b[1;34m(cls, source, has_header, columns, separator, comment_prefix, quote_char, skip_rows, dtypes, schema, null_values, missing_utf8_is_empty_string, ignore_errors, try_parse_dates, n_threads, infer_schema_length, batch_size, n_rows, encoding, low_memory, rechunk, skip_rows_after_header, row_count_name, row_count_offset, sample_size, eol_char, raise_if_empty, truncate_ragged_lines)\u001b[0m\n\u001b[0;32m    768\u001b[0m         \u001b[38;5;28;01mraise\u001b[39;00m \u001b[38;5;167;01mValueError\u001b[39;00m(\n\u001b[0;32m    769\u001b[0m             \u001b[38;5;124m\"\u001b[39m\u001b[38;5;124mcannot use glob patterns and integer based projection as `columns` argument\u001b[39m\u001b[38;5;124m\"\u001b[39m\n\u001b[0;32m    770\u001b[0m             \u001b[38;5;124m\"\u001b[39m\u001b[38;5;130;01m\\n\u001b[39;00m\u001b[38;5;130;01m\\n\u001b[39;00m\u001b[38;5;124mUse columns: List[str]\u001b[39m\u001b[38;5;124m\"\u001b[39m\n\u001b[0;32m    771\u001b[0m         )\n\u001b[0;32m    773\u001b[0m projection, columns \u001b[38;5;241m=\u001b[39m handle_projection_columns(columns)\n\u001b[1;32m--> 775\u001b[0m \u001b[38;5;28mself\u001b[39m\u001b[38;5;241m.\u001b[39m_df \u001b[38;5;241m=\u001b[39m \u001b[43mPyDataFrame\u001b[49m\u001b[38;5;241;43m.\u001b[39;49m\u001b[43mread_csv\u001b[49m\u001b[43m(\u001b[49m\n\u001b[0;32m    776\u001b[0m \u001b[43m    \u001b[49m\u001b[43msource\u001b[49m\u001b[43m,\u001b[49m\n\u001b[0;32m    777\u001b[0m \u001b[43m    \u001b[49m\u001b[43minfer_schema_length\u001b[49m\u001b[43m,\u001b[49m\n\u001b[0;32m    778\u001b[0m \u001b[43m    \u001b[49m\u001b[43mbatch_size\u001b[49m\u001b[43m,\u001b[49m\n\u001b[0;32m    779\u001b[0m \u001b[43m    \u001b[49m\u001b[43mhas_header\u001b[49m\u001b[43m,\u001b[49m\n\u001b[0;32m    780\u001b[0m \u001b[43m    \u001b[49m\u001b[43mignore_errors\u001b[49m\u001b[43m,\u001b[49m\n\u001b[0;32m    781\u001b[0m \u001b[43m    \u001b[49m\u001b[43mn_rows\u001b[49m\u001b[43m,\u001b[49m\n\u001b[0;32m    782\u001b[0m \u001b[43m    \u001b[49m\u001b[43mskip_rows\u001b[49m\u001b[43m,\u001b[49m\n\u001b[0;32m    783\u001b[0m \u001b[43m    \u001b[49m\u001b[43mprojection\u001b[49m\u001b[43m,\u001b[49m\n\u001b[0;32m    784\u001b[0m \u001b[43m    \u001b[49m\u001b[43mseparator\u001b[49m\u001b[43m,\u001b[49m\n\u001b[0;32m    785\u001b[0m \u001b[43m    \u001b[49m\u001b[43mrechunk\u001b[49m\u001b[43m,\u001b[49m\n\u001b[0;32m    786\u001b[0m \u001b[43m    \u001b[49m\u001b[43mcolumns\u001b[49m\u001b[43m,\u001b[49m\n\u001b[0;32m    787\u001b[0m \u001b[43m    \u001b[49m\u001b[43mencoding\u001b[49m\u001b[43m,\u001b[49m\n\u001b[0;32m    788\u001b[0m \u001b[43m    \u001b[49m\u001b[43mn_threads\u001b[49m\u001b[43m,\u001b[49m\n\u001b[0;32m    789\u001b[0m \u001b[43m    \u001b[49m\u001b[43mpath\u001b[49m\u001b[43m,\u001b[49m\n\u001b[0;32m    790\u001b[0m \u001b[43m    \u001b[49m\u001b[43mdtype_list\u001b[49m\u001b[43m,\u001b[49m\n\u001b[0;32m    791\u001b[0m \u001b[43m    \u001b[49m\u001b[43mdtype_slice\u001b[49m\u001b[43m,\u001b[49m\n\u001b[0;32m    792\u001b[0m \u001b[43m    \u001b[49m\u001b[43mlow_memory\u001b[49m\u001b[43m,\u001b[49m\n\u001b[0;32m    793\u001b[0m \u001b[43m    \u001b[49m\u001b[43mcomment_prefix\u001b[49m\u001b[43m,\u001b[49m\n\u001b[0;32m    794\u001b[0m \u001b[43m    \u001b[49m\u001b[43mquote_char\u001b[49m\u001b[43m,\u001b[49m\n\u001b[0;32m    795\u001b[0m \u001b[43m    \u001b[49m\u001b[43mprocessed_null_values\u001b[49m\u001b[43m,\u001b[49m\n\u001b[0;32m    796\u001b[0m \u001b[43m    \u001b[49m\u001b[43mmissing_utf8_is_empty_string\u001b[49m\u001b[43m,\u001b[49m\n\u001b[0;32m    797\u001b[0m \u001b[43m    \u001b[49m\u001b[43mtry_parse_dates\u001b[49m\u001b[43m,\u001b[49m\n\u001b[0;32m    798\u001b[0m \u001b[43m    \u001b[49m\u001b[43mskip_rows_after_header\u001b[49m\u001b[43m,\u001b[49m\n\u001b[0;32m    799\u001b[0m \u001b[43m    \u001b[49m\u001b[43m_prepare_row_count_args\u001b[49m\u001b[43m(\u001b[49m\u001b[43mrow_count_name\u001b[49m\u001b[43m,\u001b[49m\u001b[43m \u001b[49m\u001b[43mrow_count_offset\u001b[49m\u001b[43m)\u001b[49m\u001b[43m,\u001b[49m\n\u001b[0;32m    800\u001b[0m \u001b[43m    \u001b[49m\u001b[43msample_size\u001b[49m\u001b[38;5;241;43m=\u001b[39;49m\u001b[43msample_size\u001b[49m\u001b[43m,\u001b[49m\n\u001b[0;32m    801\u001b[0m \u001b[43m    \u001b[49m\u001b[43meol_char\u001b[49m\u001b[38;5;241;43m=\u001b[39;49m\u001b[43meol_char\u001b[49m\u001b[43m,\u001b[49m\n\u001b[0;32m    802\u001b[0m \u001b[43m    \u001b[49m\u001b[43mraise_if_empty\u001b[49m\u001b[38;5;241;43m=\u001b[39;49m\u001b[43mraise_if_empty\u001b[49m\u001b[43m,\u001b[49m\n\u001b[0;32m    803\u001b[0m \u001b[43m    \u001b[49m\u001b[43mtruncate_ragged_lines\u001b[49m\u001b[38;5;241;43m=\u001b[39;49m\u001b[43mtruncate_ragged_lines\u001b[49m\u001b[43m,\u001b[49m\n\u001b[0;32m    804\u001b[0m \u001b[43m    \u001b[49m\u001b[43mschema\u001b[49m\u001b[38;5;241;43m=\u001b[39;49m\u001b[43mschema\u001b[49m\u001b[43m,\u001b[49m\n\u001b[0;32m    805\u001b[0m \u001b[43m\u001b[49m\u001b[43m)\u001b[49m\n\u001b[0;32m    806\u001b[0m \u001b[38;5;28;01mreturn\u001b[39;00m \u001b[38;5;28mself\u001b[39m\n",
      "\u001b[1;31mComputeError\u001b[0m: invalid utf-8 sequence in csv"
     ]
    }
   ],
   "source": [
    "#intv_df = pl.read_csv(\"../data/epi_sim.zip\", truncate_ragged_lines = True)\n",
    "#print(intv_df)"
   ]
  }
 ],
 "metadata": {
  "kernelspec": {
   "display_name": "Python 3",
   "language": "python",
   "name": "python3"
  },
  "language_info": {
   "codemirror_mode": {
    "name": "ipython",
    "version": 3
   },
   "file_extension": ".py",
   "mimetype": "text/x-python",
   "name": "python",
   "nbconvert_exporter": "python",
   "pygments_lexer": "ipython3",
   "version": "3.11.4"
  }
 },
 "nbformat": 4,
 "nbformat_minor": 2
}
