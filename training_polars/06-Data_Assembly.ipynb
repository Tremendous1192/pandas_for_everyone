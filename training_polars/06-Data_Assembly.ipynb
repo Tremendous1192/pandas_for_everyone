{
 "cells": [
  {
   "cell_type": "markdown",
   "metadata": {},
   "source": [
    "# 第6章 データの組立"
   ]
  },
  {
   "cell_type": "markdown",
   "metadata": {},
   "source": [
    "## 6.1 データセットを組み合わせる"
   ]
  },
  {
   "cell_type": "markdown",
   "metadata": {},
   "source": [
    "## 6.2 連結"
   ]
  },
  {
   "cell_type": "code",
   "execution_count": 1,
   "metadata": {},
   "outputs": [
    {
     "name": "stdout",
     "output_type": "stream",
     "text": [
      "shape: (4, 4)\n",
      "┌─────┬─────┬─────┬─────┐\n",
      "│ A   ┆ B   ┆ C   ┆ D   │\n",
      "│ --- ┆ --- ┆ --- ┆ --- │\n",
      "│ str ┆ str ┆ str ┆ str │\n",
      "╞═════╪═════╪═════╪═════╡\n",
      "│ a0  ┆ b0  ┆ c0  ┆ d0  │\n",
      "│ a1  ┆ b1  ┆ c1  ┆ d1  │\n",
      "│ a2  ┆ b2  ┆ c2  ┆ d2  │\n",
      "│ a3  ┆ b3  ┆ c3  ┆ d3  │\n",
      "└─────┴─────┴─────┴─────┘\n",
      "shape: (4, 4)\n",
      "┌─────┬─────┬─────┬─────┐\n",
      "│ A   ┆ B   ┆ C   ┆ D   │\n",
      "│ --- ┆ --- ┆ --- ┆ --- │\n",
      "│ str ┆ str ┆ str ┆ str │\n",
      "╞═════╪═════╪═════╪═════╡\n",
      "│ a4  ┆ b4  ┆ c4  ┆ d4  │\n",
      "│ a5  ┆ b5  ┆ c5  ┆ d5  │\n",
      "│ a6  ┆ b6  ┆ c6  ┆ d6  │\n",
      "│ a7  ┆ b7  ┆ c7  ┆ d7  │\n",
      "└─────┴─────┴─────┴─────┘\n",
      "shape: (4, 4)\n",
      "┌─────┬─────┬─────┬─────┐\n",
      "│ A   ┆ B   ┆ C   ┆ D   │\n",
      "│ --- ┆ --- ┆ --- ┆ --- │\n",
      "│ str ┆ str ┆ str ┆ str │\n",
      "╞═════╪═════╪═════╪═════╡\n",
      "│ a8  ┆ b8  ┆ c8  ┆ d8  │\n",
      "│ a9  ┆ b9  ┆ c9  ┆ d9  │\n",
      "│ a10 ┆ b10 ┆ c10 ┆ d10 │\n",
      "│ a11 ┆ b11 ┆ c11 ┆ d11 │\n",
      "└─────┴─────┴─────┴─────┘\n"
     ]
    }
   ],
   "source": [
    "import polars as pl\n",
    "\n",
    "df1 = pl.read_csv(\"../data/concat_1.csv\")\n",
    "df2 = pl.read_csv(\"../data/concat_2.csv\")\n",
    "df3 = pl.read_csv(\"../data/concat_3.csv\")\n",
    "\n",
    "print(df1)\n",
    "print(df2)\n",
    "print(df3)"
   ]
  },
  {
   "cell_type": "markdown",
   "metadata": {},
   "source": [
    "### 6.2.1 DataFrameの構成要素(復習)"
   ]
  },
  {
   "cell_type": "code",
   "execution_count": 2,
   "metadata": {},
   "outputs": [],
   "source": [
    "# pandasにindexは無い\n",
    "#print(df1.index)"
   ]
  },
  {
   "cell_type": "code",
   "execution_count": 3,
   "metadata": {},
   "outputs": [
    {
     "name": "stdout",
     "output_type": "stream",
     "text": [
      "['A', 'B', 'C', 'D']\n"
     ]
    }
   ],
   "source": [
    "print(df1.columns)"
   ]
  },
  {
   "cell_type": "code",
   "execution_count": 6,
   "metadata": {},
   "outputs": [
    {
     "name": "stdout",
     "output_type": "stream",
     "text": [
      "[['a0' 'b0' 'c0' 'd0']\n",
      " ['a1' 'b1' 'c1' 'd1']\n",
      " ['a2' 'b2' 'c2' 'd2']\n",
      " ['a3' 'b3' 'c3' 'd3']]\n"
     ]
    }
   ],
   "source": [
    "# pandasのvaluesは、polarsの場合to_numpy\n",
    "#print(df1.values)\n",
    "print(df1.to_numpy())"
   ]
  },
  {
   "cell_type": "markdown",
   "metadata": {},
   "source": [
    "### 6.2.2 行の追加"
   ]
  },
  {
   "cell_type": "code",
   "execution_count": 8,
   "metadata": {},
   "outputs": [
    {
     "name": "stdout",
     "output_type": "stream",
     "text": [
      "shape: (12, 4)\n",
      "┌─────┬─────┬─────┬─────┐\n",
      "│ A   ┆ B   ┆ C   ┆ D   │\n",
      "│ --- ┆ --- ┆ --- ┆ --- │\n",
      "│ str ┆ str ┆ str ┆ str │\n",
      "╞═════╪═════╪═════╪═════╡\n",
      "│ a0  ┆ b0  ┆ c0  ┆ d0  │\n",
      "│ a1  ┆ b1  ┆ c1  ┆ d1  │\n",
      "│ a2  ┆ b2  ┆ c2  ┆ d2  │\n",
      "│ a3  ┆ b3  ┆ c3  ┆ d3  │\n",
      "│ …   ┆ …   ┆ …   ┆ …   │\n",
      "│ a8  ┆ b8  ┆ c8  ┆ d8  │\n",
      "│ a9  ┆ b9  ┆ c9  ┆ d9  │\n",
      "│ a10 ┆ b10 ┆ c10 ┆ d10 │\n",
      "│ a11 ┆ b11 ┆ c11 ┆ d11 │\n",
      "└─────┴─────┴─────┴─────┘\n"
     ]
    }
   ],
   "source": [
    "row_concat = pl.concat(items = [df1, df2, df3], how = 'vertical')\n",
    "print(row_concat)"
   ]
  },
  {
   "cell_type": "code",
   "execution_count": 9,
   "metadata": {},
   "outputs": [
    {
     "name": "stdout",
     "output_type": "stream",
     "text": [
      "shape: (1, 4)\n",
      "┌─────┬─────┬─────┬─────┐\n",
      "│ A   ┆ B   ┆ C   ┆ D   │\n",
      "│ --- ┆ --- ┆ --- ┆ --- │\n",
      "│ str ┆ str ┆ str ┆ str │\n",
      "╞═════╪═════╪═════╪═════╡\n",
      "│ a3  ┆ b3  ┆ c3  ┆ d3  │\n",
      "└─────┴─────┴─────┴─────┘\n"
     ]
    }
   ],
   "source": [
    "print(row_concat[3, :])"
   ]
  },
  {
   "cell_type": "code",
   "execution_count": 12,
   "metadata": {},
   "outputs": [],
   "source": [
    "#Seriesを行として追加する方法はpandasにもpolarsにもない\n",
    "#new_row_series = pl.Series(\"N\", ['n1', 'n2', \"n3\", 'n4'])\n",
    "#print(new_row_series)\n",
    "\n",
    "#print(pl.concat(items = [df1, new_row_series], how = 'vertical'))"
   ]
  },
  {
   "cell_type": "code",
   "execution_count": 14,
   "metadata": {},
   "outputs": [
    {
     "name": "stdout",
     "output_type": "stream",
     "text": [
      "shape: (1, 4)\n",
      "┌─────┬─────┬─────┬─────┐\n",
      "│ A   ┆ B   ┆ C   ┆ D   │\n",
      "│ --- ┆ --- ┆ --- ┆ --- │\n",
      "│ str ┆ str ┆ str ┆ str │\n",
      "╞═════╪═════╪═════╪═════╡\n",
      "│ n1  ┆ n2  ┆ n3  ┆ n4  │\n",
      "└─────┴─────┴─────┴─────┘\n",
      "shape: (5, 4)\n",
      "┌─────┬─────┬─────┬─────┐\n",
      "│ A   ┆ B   ┆ C   ┆ D   │\n",
      "│ --- ┆ --- ┆ --- ┆ --- │\n",
      "│ str ┆ str ┆ str ┆ str │\n",
      "╞═════╪═════╪═════╪═════╡\n",
      "│ a0  ┆ b0  ┆ c0  ┆ d0  │\n",
      "│ a1  ┆ b1  ┆ c1  ┆ d1  │\n",
      "│ a2  ┆ b2  ┆ c2  ┆ d2  │\n",
      "│ a3  ┆ b3  ┆ c3  ┆ d3  │\n",
      "│ n1  ┆ n2  ┆ n3  ┆ n4  │\n",
      "└─────┴─────┴─────┴─────┘\n"
     ]
    }
   ],
   "source": [
    "new_row_df = pl.DataFrame({\n",
    "    \"A\": [\"n1\"],\n",
    "    \"B\": [\"n2\"],\n",
    "    \"C\": [\"n3\"],\n",
    "    \"D\": [\"n4\"]\n",
    "})\n",
    "print(new_row_df)\n",
    "\n",
    "print(pl.concat(items = [df1, new_row_df], how = 'vertical'))\n"
   ]
  },
  {
   "cell_type": "markdown",
   "metadata": {},
   "source": [
    "#### 6.2.2.1 インデックスの再設定\n",
    "polarsにはindexが無いので省略"
   ]
  },
  {
   "cell_type": "markdown",
   "metadata": {},
   "source": [
    "### 6.2.3 列の追加"
   ]
  },
  {
   "cell_type": "code",
   "execution_count": 20,
   "metadata": {},
   "outputs": [
    {
     "name": "stdout",
     "output_type": "stream",
     "text": [
      "shape: (4, 12)\n",
      "┌─────┬─────┬─────┬─────┬───┬─────┬─────┬─────┬─────┐\n",
      "│ A   ┆ B   ┆ C   ┆ D   ┆ … ┆ A3  ┆ B3  ┆ C3  ┆ D3  │\n",
      "│ --- ┆ --- ┆ --- ┆ --- ┆   ┆ --- ┆ --- ┆ --- ┆ --- │\n",
      "│ str ┆ str ┆ str ┆ str ┆   ┆ str ┆ str ┆ str ┆ str │\n",
      "╞═════╪═════╪═════╪═════╪═══╪═════╪═════╪═════╪═════╡\n",
      "│ a0  ┆ b0  ┆ c0  ┆ d0  ┆ … ┆ a8  ┆ b8  ┆ c8  ┆ d8  │\n",
      "│ a1  ┆ b1  ┆ c1  ┆ d1  ┆ … ┆ a9  ┆ b9  ┆ c9  ┆ d9  │\n",
      "│ a2  ┆ b2  ┆ c2  ┆ d2  ┆ … ┆ a10 ┆ b10 ┆ c10 ┆ d10 │\n",
      "│ a3  ┆ b3  ┆ c3  ┆ d3  ┆ … ┆ a11 ┆ b11 ┆ c11 ┆ d11 │\n",
      "└─────┴─────┴─────┴─────┴───┴─────┴─────┴─────┴─────┘\n"
     ]
    }
   ],
   "source": [
    "#polarsでは同じ列名が許されないので、pandasと同様の横結合はできない\n",
    "#col_concat = pl.concat(items = [df1, df2, df3], how = 'horizontal')\n",
    "#print(col_concat)\n",
    "\n",
    "# polarsで同名の列を横結合する場合、renameする必要がある\n",
    "col_concat = pl.concat(items = [df1,\n",
    "                                 df2.rename(mapping = {\"A\": \"A2\", \"B\": \"B2\", \"C\": \"C2\", \"D\": \"D2\"}),\n",
    "                                   df3.rename(mapping = {\"A\": \"A3\", \"B\": \"B3\", \"C\": \"C3\", \"D\": \"D3\"})],\n",
    "                        how = 'horizontal')\n",
    "print(col_concat)\n"
   ]
  },
  {
   "cell_type": "code",
   "execution_count": 21,
   "metadata": {},
   "outputs": [
    {
     "name": "stdout",
     "output_type": "stream",
     "text": [
      "shape: (4, 13)\n",
      "┌─────┬─────┬─────┬─────┬───┬─────┬─────┬─────┬────────────┐\n",
      "│ A   ┆ B   ┆ C   ┆ D   ┆ … ┆ B3  ┆ C3  ┆ D3  ┆ new column │\n",
      "│ --- ┆ --- ┆ --- ┆ --- ┆   ┆ --- ┆ --- ┆ --- ┆ ---        │\n",
      "│ str ┆ str ┆ str ┆ str ┆   ┆ str ┆ str ┆ str ┆ str        │\n",
      "╞═════╪═════╪═════╪═════╪═══╪═════╪═════╪═════╪════════════╡\n",
      "│ a0  ┆ b0  ┆ c0  ┆ d0  ┆ … ┆ b8  ┆ c8  ┆ d8  ┆ n1         │\n",
      "│ a1  ┆ b1  ┆ c1  ┆ d1  ┆ … ┆ b9  ┆ c9  ┆ d9  ┆ n2         │\n",
      "│ a2  ┆ b2  ┆ c2  ┆ d2  ┆ … ┆ b10 ┆ c10 ┆ d10 ┆ n3         │\n",
      "│ a3  ┆ b3  ┆ c3  ┆ d3  ┆ … ┆ b11 ┆ c11 ┆ d11 ┆ n4         │\n",
      "└─────┴─────┴─────┴─────┴───┴─────┴─────┴─────┴────────────┘\n"
     ]
    }
   ],
   "source": [
    "# pandasでlistやseriesを横結合したい場合、df['new column name'] = list or Series の文法で書くことができる\n",
    "# polarsの場合、with_columnsを使用する\n",
    "col_concat = col_concat.with_columns([\n",
    "    pl.Series(\"new column\", ['n1', 'n2', \"n3\", 'n4'])\n",
    "])\n",
    "print(col_concat)"
   ]
  },
  {
   "cell_type": "markdown",
   "metadata": {},
   "source": [
    "### 6.2.4 インデックスが異なる連結"
   ]
  },
  {
   "cell_type": "markdown",
   "metadata": {},
   "source": [
    "#### 6.2.4.1 列に相違のある行を連結する"
   ]
  },
  {
   "cell_type": "code",
   "execution_count": 23,
   "metadata": {},
   "outputs": [
    {
     "name": "stdout",
     "output_type": "stream",
     "text": [
      "shape: (4, 4)\n",
      "┌─────┬─────┬─────┬─────┐\n",
      "│ A   ┆ B   ┆ C   ┆ D   │\n",
      "│ --- ┆ --- ┆ --- ┆ --- │\n",
      "│ str ┆ str ┆ str ┆ str │\n",
      "╞═════╪═════╪═════╪═════╡\n",
      "│ a0  ┆ b0  ┆ c0  ┆ d0  │\n",
      "│ a1  ┆ b1  ┆ c1  ┆ d1  │\n",
      "│ a2  ┆ b2  ┆ c2  ┆ d2  │\n",
      "│ a3  ┆ b3  ┆ c3  ┆ d3  │\n",
      "└─────┴─────┴─────┴─────┘\n",
      "shape: (4, 4)\n",
      "┌─────┬─────┬─────┬─────┐\n",
      "│ E   ┆ F   ┆ G   ┆ H   │\n",
      "│ --- ┆ --- ┆ --- ┆ --- │\n",
      "│ str ┆ str ┆ str ┆ str │\n",
      "╞═════╪═════╪═════╪═════╡\n",
      "│ a4  ┆ b4  ┆ c4  ┆ d4  │\n",
      "│ a5  ┆ b5  ┆ c5  ┆ d5  │\n",
      "│ a6  ┆ b6  ┆ c6  ┆ d6  │\n",
      "│ a7  ┆ b7  ┆ c7  ┆ d7  │\n",
      "└─────┴─────┴─────┴─────┘\n",
      "shape: (4, 4)\n",
      "┌─────┬─────┬─────┬─────┐\n",
      "│ A   ┆ C   ┆ F   ┆ H   │\n",
      "│ --- ┆ --- ┆ --- ┆ --- │\n",
      "│ str ┆ str ┆ str ┆ str │\n",
      "╞═════╪═════╪═════╪═════╡\n",
      "│ a8  ┆ b8  ┆ c8  ┆ d8  │\n",
      "│ a9  ┆ b9  ┆ c9  ┆ d9  │\n",
      "│ a10 ┆ b10 ┆ c10 ┆ d10 │\n",
      "│ a11 ┆ b11 ┆ c11 ┆ d11 │\n",
      "└─────┴─────┴─────┴─────┘\n"
     ]
    }
   ],
   "source": [
    "df1.columns = [\"A\", \"B\", \"C\", \"D\"]\n",
    "df2.columns = [\"E\", \"F\", \"G\", \"H\"]\n",
    "df3.columns = [\"A\", \"C\", \"F\", \"H\"]\n",
    "\n",
    "print(df1)\n",
    "print(df2)\n",
    "print(df3)"
   ]
  },
  {
   "cell_type": "code",
   "execution_count": 27,
   "metadata": {},
   "outputs": [
    {
     "name": "stdout",
     "output_type": "stream",
     "text": [
      "shape: (12, 8)\n",
      "┌─────┬──────┬─────┬──────┬──────┬──────┬──────┬──────┐\n",
      "│ A   ┆ B    ┆ C   ┆ D    ┆ E    ┆ F    ┆ G    ┆ H    │\n",
      "│ --- ┆ ---  ┆ --- ┆ ---  ┆ ---  ┆ ---  ┆ ---  ┆ ---  │\n",
      "│ str ┆ str  ┆ str ┆ str  ┆ str  ┆ str  ┆ str  ┆ str  │\n",
      "╞═════╪══════╪═════╪══════╪══════╪══════╪══════╪══════╡\n",
      "│ a0  ┆ b0   ┆ c0  ┆ d0   ┆ null ┆ null ┆ null ┆ null │\n",
      "│ a1  ┆ b1   ┆ c1  ┆ d1   ┆ null ┆ null ┆ null ┆ null │\n",
      "│ a2  ┆ b2   ┆ c2  ┆ d2   ┆ null ┆ null ┆ null ┆ null │\n",
      "│ a3  ┆ b3   ┆ c3  ┆ d3   ┆ null ┆ null ┆ null ┆ null │\n",
      "│ …   ┆ …    ┆ …   ┆ …    ┆ …    ┆ …    ┆ …    ┆ …    │\n",
      "│ a8  ┆ null ┆ b8  ┆ null ┆ null ┆ c8   ┆ null ┆ d8   │\n",
      "│ a9  ┆ null ┆ b9  ┆ null ┆ null ┆ c9   ┆ null ┆ d9   │\n",
      "│ a10 ┆ null ┆ b10 ┆ null ┆ null ┆ c10  ┆ null ┆ d10  │\n",
      "│ a11 ┆ null ┆ b11 ┆ null ┆ null ┆ c11  ┆ null ┆ d11  │\n",
      "└─────┴──────┴─────┴──────┴──────┴──────┴──────┴──────┘\n"
     ]
    }
   ],
   "source": [
    "# 列名が異なるDataFrameを盾結合する場合は'diagonal'を指定する\n",
    "row_concat = pl.concat(items = [df1, df2, df3], how = 'diagonal')\n",
    "print(row_concat)"
   ]
  },
  {
   "cell_type": "markdown",
   "metadata": {},
   "source": [
    "#### 6.2.4.2 行に相違のある列を連結する\n",
    "polarsにindexは無いので、この節は省略"
   ]
  },
  {
   "cell_type": "markdown",
   "metadata": {},
   "source": [
    "## 6.3 データが観測単位ごとの表に分かれている場合\n",
    "github上に書籍で紹介されているデータがないのでスキップする"
   ]
  }
 ],
 "metadata": {
  "kernelspec": {
   "display_name": "Python 3",
   "language": "python",
   "name": "python3"
  },
  "language_info": {
   "codemirror_mode": {
    "name": "ipython",
    "version": 3
   },
   "file_extension": ".py",
   "mimetype": "text/x-python",
   "name": "python",
   "nbconvert_exporter": "python",
   "pygments_lexer": "ipython3",
   "version": "3.11.4"
  }
 },
 "nbformat": 4,
 "nbformat_minor": 2
}
