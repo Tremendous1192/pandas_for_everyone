{
 "cells": [
  {
   "cell_type": "markdown",
   "metadata": {},
   "source": [
    "# 第14章 一般化線形モデル"
   ]
  },
  {
   "cell_type": "markdown",
   "metadata": {},
   "source": [
    "## 14.1 ロジスティック回帰"
   ]
  },
  {
   "cell_type": "code",
   "execution_count": 1,
   "metadata": {},
   "outputs": [],
   "source": [
    "import seaborn as sns\n",
    "titanic = sns.load_dataset(\"titanic\")"
   ]
  },
  {
   "cell_type": "code",
   "execution_count": 2,
   "metadata": {},
   "outputs": [
    {
     "name": "stdout",
     "output_type": "stream",
     "text": [
      "     survived     sex   age embarked\n",
      "0           0    male  22.0        S\n",
      "1           1  female  38.0        C\n",
      "2           1  female  26.0        S\n",
      "3           1  female  35.0        S\n",
      "4           0    male  35.0        S\n",
      "..        ...     ...   ...      ...\n",
      "885         0  female  39.0        Q\n",
      "886         0    male  27.0        S\n",
      "887         1  female  19.0        S\n",
      "889         1    male  26.0        C\n",
      "890         0    male  32.0        Q\n",
      "\n",
      "[712 rows x 4 columns]\n"
     ]
    }
   ],
   "source": [
    "titanic_sub = titanic[[\"survived\", \"sex\", \"age\", \"embarked\"]].copy().dropna()\n",
    "print(titanic_sub)"
   ]
  },
  {
   "cell_type": "code",
   "execution_count": 3,
   "metadata": {},
   "outputs": [
    {
     "name": "stdout",
     "output_type": "stream",
     "text": [
      "survived\n",
      "0    424\n",
      "1    288\n",
      "Name: count, dtype: int64\n"
     ]
    }
   ],
   "source": [
    "print(titanic_sub[\"survived\"].value_counts())"
   ]
  },
  {
   "cell_type": "code",
   "execution_count": 4,
   "metadata": {},
   "outputs": [
    {
     "name": "stdout",
     "output_type": "stream",
     "text": [
      "embarked\n",
      "S    554\n",
      "C    130\n",
      "Q     28\n",
      "Name: count, dtype: int64\n"
     ]
    }
   ],
   "source": [
    "print(titanic_sub[\"embarked\"].value_counts())"
   ]
  },
  {
   "cell_type": "markdown",
   "metadata": {},
   "source": [
    "### 14.1.1 statsmodelsを使う"
   ]
  },
  {
   "cell_type": "code",
   "execution_count": 5,
   "metadata": {},
   "outputs": [
    {
     "name": "stdout",
     "output_type": "stream",
     "text": [
      "Optimization terminated successfully.\n",
      "         Current function value: 0.509889\n",
      "         Iterations 6\n",
      "                           Logit Regression Results                           \n",
      "==============================================================================\n",
      "Dep. Variable:               survived   No. Observations:                  712\n",
      "Model:                          Logit   Df Residuals:                      707\n",
      "Method:                           MLE   Df Model:                            4\n",
      "Date:                Sat, 16 Dec 2023   Pseudo R-squ.:                  0.2444\n",
      "Time:                        22:41:47   Log-Likelihood:                -363.04\n",
      "converged:                       True   LL-Null:                       -480.45\n",
      "Covariance Type:            nonrobust   LLR p-value:                 1.209e-49\n",
      "=================================================================================\n",
      "                    coef    std err          z      P>|z|      [0.025      0.975]\n",
      "---------------------------------------------------------------------------------\n",
      "Intercept         2.2046      0.322      6.851      0.000       1.574       2.835\n",
      "sex[T.male]      -2.4760      0.191    -12.976      0.000      -2.850      -2.102\n",
      "embarked[T.Q]    -1.8156      0.535     -3.393      0.001      -2.864      -0.767\n",
      "embarked[T.S]    -1.0069      0.237     -4.251      0.000      -1.471      -0.543\n",
      "age              -0.0081      0.007     -1.233      0.217      -0.021       0.005\n",
      "=================================================================================\n"
     ]
    }
   ],
   "source": [
    "import statsmodels.formula.api as smf\n",
    "\n",
    "form = \"survived ~ sex + age + embarked\"\n",
    "\n",
    "py_logistic_smf = smf.logit(formula = form, data = titanic_sub).fit()\n",
    "\n",
    "print(py_logistic_smf.summary())"
   ]
  },
  {
   "cell_type": "code",
   "execution_count": 6,
   "metadata": {},
   "outputs": [
    {
     "name": "stdout",
     "output_type": "stream",
     "text": [
      "               coefs_sm  odds_sm\n",
      "Intercept         2.205    9.066\n",
      "sex[T.male]      -2.476    0.084\n",
      "embarked[T.Q]    -1.816    0.163\n",
      "embarked[T.S]    -1.007    0.365\n",
      "age              -0.008    0.992\n"
     ]
    }
   ],
   "source": [
    "import numpy as np\n",
    "import pandas as pd\n",
    "\n",
    "res_sm = pd.DataFrame(py_logistic_smf.params, columns = [\"coefs_sm\"])\n",
    "\n",
    "res_sm[\"odds_sm\"] = np.exp( res_sm[\"coefs_sm\"] )\n",
    "\n",
    "print(res_sm.round(3))"
   ]
  },
  {
   "cell_type": "markdown",
   "metadata": {},
   "source": [
    "### 14.1.2 sklearnを使う"
   ]
  },
  {
   "cell_type": "code",
   "execution_count": 7,
   "metadata": {},
   "outputs": [
    {
     "name": "stdout",
     "output_type": "stream",
     "text": [
      "     survived   age  sex_male  embarked_Q  embarked_S\n",
      "0           0  22.0      True       False        True\n",
      "1           1  38.0     False       False       False\n",
      "2           1  26.0     False       False        True\n",
      "3           1  35.0     False       False        True\n",
      "4           0  35.0      True       False        True\n",
      "..        ...   ...       ...         ...         ...\n",
      "885         0  39.0     False        True       False\n",
      "886         0  27.0      True       False        True\n",
      "887         1  19.0     False       False        True\n",
      "889         1  26.0      True       False       False\n",
      "890         0  32.0      True        True       False\n",
      "\n",
      "[712 rows x 5 columns]\n"
     ]
    }
   ],
   "source": [
    "titanic_dummy = pd.get_dummies(\n",
    "    titanic_sub[[\"survived\", \"sex\", \"age\", \"embarked\"]],\n",
    "    drop_first = True\n",
    ")\n",
    "\n",
    "print(titanic_dummy)"
   ]
  },
  {
   "cell_type": "code",
   "execution_count": 8,
   "metadata": {},
   "outputs": [],
   "source": [
    "from sklearn import linear_model\n",
    "\n",
    "py_logistic_sklearn = linear_model.LogisticRegression().fit(\n",
    "    X = titanic_dummy.iloc[:, 1:],\n",
    "    y = titanic_dummy.iloc[:, 0]\n",
    ")"
   ]
  },
  {
   "cell_type": "code",
   "execution_count": 10,
   "metadata": {},
   "outputs": [
    {
     "name": "stdout",
     "output_type": "stream",
     "text": [
      "            coef_sk1  odds_sk1\n",
      "Intercept      2.024     7.571\n",
      "age           -0.008     0.992\n",
      "sex_male      -2.372     0.093\n",
      "embarked_Q    -1.369     0.254\n",
      "embarked_S    -0.887     0.412\n"
     ]
    }
   ],
   "source": [
    "dummy_names = titanic_dummy.columns.to_list()\n",
    "\n",
    "sk1_res1 = pd.DataFrame(\n",
    "    py_logistic_sklearn.intercept_,\n",
    "    index = [\"Intercept\"],\n",
    "    columns = [\"coef_sk1\"],\n",
    ")\n",
    "sk1_res2 = pd.DataFrame(\n",
    "    py_logistic_sklearn.coef_.T,\n",
    "    index = dummy_names[1:],\n",
    "    columns = [\"coef_sk1\"],\n",
    ")\n",
    "\n",
    "res_sklearn_pd_1 = pd.concat([sk1_res1, sk1_res2])\n",
    "\n",
    "res_sklearn_pd_1[\"odds_sk1\"] = np.exp(res_sklearn_pd_1[\"coef_sk1\"])\n",
    "\n",
    "print(res_sklearn_pd_1.round(3))\n"
   ]
  },
  {
   "cell_type": "markdown",
   "metadata": {},
   "source": [
    "### 14.1.3 sklearnのデフォルトに注意"
   ]
  },
  {
   "cell_type": "code",
   "execution_count": 12,
   "metadata": {},
   "outputs": [
    {
     "name": "stdout",
     "output_type": "stream",
     "text": [
      "            coef_sk1  odds_sk1\n",
      "Intercept      2.205     9.066\n",
      "age           -0.008     0.992\n",
      "sex_male      -2.372     0.093\n",
      "embarked_Q    -1.369     0.254\n",
      "embarked_S    -0.887     0.412\n"
     ]
    }
   ],
   "source": [
    "py_logistic_sklearn2 = linear_model.LogisticRegression(\n",
    "    penalty = None\n",
    "    )\\\n",
    "        .fit(\n",
    "            X = titanic_dummy.iloc[:, 1:],\n",
    "            y = titanic_dummy.iloc[:, 0]\n",
    "            )\n",
    "\n",
    "sk2_res1 = pd.DataFrame(\n",
    "    py_logistic_sklearn2.intercept_,\n",
    "    index = [\"Intercept\"],\n",
    "    columns = [\"coef_sk1\"],\n",
    ")\n",
    "sk2_res2 = pd.DataFrame(\n",
    "    py_logistic_sklearn2.coef_.T,\n",
    "    index = dummy_names[1:],\n",
    "    columns = [\"coef_sk1\"],\n",
    ")\n",
    "\n",
    "res_sklearn_pd_2 = pd.concat([sk2_res1, sk1_res2])\n",
    "\n",
    "res_sklearn_pd_2[\"odds_sk1\"] = np.exp(res_sklearn_pd_2[\"coef_sk1\"])\n",
    "\n",
    "print(res_sklearn_pd_2.round(3))"
   ]
  },
  {
   "cell_type": "code",
   "execution_count": 13,
   "metadata": {},
   "outputs": [
    {
     "name": "stdout",
     "output_type": "stream",
     "text": [
      "               coefs_sm  odds_sm\n",
      "Intercept         2.205    9.066\n",
      "age              -0.008    0.992\n",
      "embarked[T.Q]    -1.816    0.163\n",
      "embarked[T.S]    -1.007    0.365\n",
      "sex[T.male]      -2.476    0.084\n"
     ]
    }
   ],
   "source": [
    "sm_results = res_sm.round(3)\n",
    "\n",
    "sm_results = sm_results.sort_index()\n",
    "\n",
    "print(sm_results)"
   ]
  },
  {
   "cell_type": "code",
   "execution_count": 14,
   "metadata": {},
   "outputs": [
    {
     "name": "stdout",
     "output_type": "stream",
     "text": [
      "            coef_sk1  coef_sk1  coef_sk1  coef_sk1  odds_sk1  odds_sk1  \\\n",
      "Intercept      2.024     2.205     2.024     2.205     7.571     9.066   \n",
      "age           -0.008    -0.008    -0.008    -0.008     0.992     0.992   \n",
      "embarked_Q    -1.369    -1.369    -1.369    -1.369     0.254     0.254   \n",
      "embarked_S    -0.887    -0.887    -0.887    -0.887     0.412     0.412   \n",
      "sex_male      -2.372    -2.372    -2.372    -2.372     0.093     0.093   \n",
      "\n",
      "            odds_sk1  odds_sk1  \n",
      "Intercept      7.571     9.066  \n",
      "age            0.992     0.992  \n",
      "embarked_Q     0.254     0.254  \n",
      "embarked_S     0.412     0.412  \n",
      "sex_male       0.093     0.093  \n"
     ]
    }
   ],
   "source": [
    "sk_results = pd.concat(\n",
    "    [res_sklearn_pd_1.round(3), res_sklearn_pd_2.round(3)],\n",
    "    axis = \"columns\",\n",
    ")\n",
    "\n",
    "sk_results = sk_results[sk_results.columns.sort_values()]\n",
    "sk_results = sk_results.sort_index()\n",
    "\n",
    "print(sk_results)"
   ]
  }
 ],
 "metadata": {
  "kernelspec": {
   "display_name": "Python 3",
   "language": "python",
   "name": "python3"
  },
  "language_info": {
   "codemirror_mode": {
    "name": "ipython",
    "version": 3
   },
   "file_extension": ".py",
   "mimetype": "text/x-python",
   "name": "python",
   "nbconvert_exporter": "python",
   "pygments_lexer": "ipython3",
   "version": "3.11.4"
  }
 },
 "nbformat": 4,
 "nbformat_minor": 2
}
