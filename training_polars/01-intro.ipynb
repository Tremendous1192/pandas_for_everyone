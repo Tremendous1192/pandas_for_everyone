{
 "cells": [
  {
   "cell_type": "markdown",
   "metadata": {},
   "source": [
    "## 1.2 最初のデータセットをロードする"
   ]
  },
  {
   "cell_type": "code",
   "execution_count": 1,
   "metadata": {},
   "outputs": [],
   "source": [
    "import polars as pl"
   ]
  },
  {
   "cell_type": "code",
   "execution_count": 2,
   "metadata": {},
   "outputs": [],
   "source": [
    "df = pl.read_csv(\"../data/gapminder.tsv\", separator = \"\\t\")"
   ]
  },
  {
   "cell_type": "code",
   "execution_count": 3,
   "metadata": {},
   "outputs": [
    {
     "name": "stdout",
     "output_type": "stream",
     "text": [
      "shape: (1_704, 6)\n",
      "┌─────────────┬───────────┬──────┬─────────┬──────────┬────────────┐\n",
      "│ country     ┆ continent ┆ year ┆ lifeExp ┆ pop      ┆ gdpPercap  │\n",
      "│ ---         ┆ ---       ┆ ---  ┆ ---     ┆ ---      ┆ ---        │\n",
      "│ str         ┆ str       ┆ i64  ┆ f64     ┆ i64      ┆ f64        │\n",
      "╞═════════════╪═══════════╪══════╪═════════╪══════════╪════════════╡\n",
      "│ Afghanistan ┆ Asia      ┆ 1952 ┆ 28.801  ┆ 8425333  ┆ 779.445314 │\n",
      "│ Afghanistan ┆ Asia      ┆ 1957 ┆ 30.332  ┆ 9240934  ┆ 820.85303  │\n",
      "│ Afghanistan ┆ Asia      ┆ 1962 ┆ 31.997  ┆ 10267083 ┆ 853.10071  │\n",
      "│ Afghanistan ┆ Asia      ┆ 1967 ┆ 34.02   ┆ 11537966 ┆ 836.197138 │\n",
      "│ …           ┆ …         ┆ …    ┆ …       ┆ …        ┆ …          │\n",
      "│ Zimbabwe    ┆ Africa    ┆ 1992 ┆ 60.377  ┆ 10704340 ┆ 693.420786 │\n",
      "│ Zimbabwe    ┆ Africa    ┆ 1997 ┆ 46.809  ┆ 11404948 ┆ 792.44996  │\n",
      "│ Zimbabwe    ┆ Africa    ┆ 2002 ┆ 39.989  ┆ 11926563 ┆ 672.038623 │\n",
      "│ Zimbabwe    ┆ Africa    ┆ 2007 ┆ 43.487  ┆ 12311143 ┆ 469.709298 │\n",
      "└─────────────┴───────────┴──────┴─────────┴──────────┴────────────┘\n"
     ]
    }
   ],
   "source": [
    "print(df)"
   ]
  },
  {
   "cell_type": "code",
   "execution_count": 4,
   "metadata": {},
   "outputs": [
    {
     "name": "stdout",
     "output_type": "stream",
     "text": [
      "(1704, 6)\n"
     ]
    }
   ],
   "source": [
    "print(df.shape)"
   ]
  },
  {
   "cell_type": "code",
   "execution_count": 5,
   "metadata": {},
   "outputs": [
    {
     "name": "stdout",
     "output_type": "stream",
     "text": [
      "['country', 'continent', 'year', 'lifeExp', 'pop', 'gdpPercap']\n"
     ]
    }
   ],
   "source": [
    "print(df.columns)"
   ]
  },
  {
   "cell_type": "code",
   "execution_count": 6,
   "metadata": {},
   "outputs": [
    {
     "name": "stdout",
     "output_type": "stream",
     "text": [
      "[Utf8, Utf8, Int64, Float64, Int64, Float64]\n",
      "shape: (9, 7)\n",
      "┌────────────┬─────────────┬───────────┬──────────┬───────────┬─────────────┬─────────────┐\n",
      "│ describe   ┆ country     ┆ continent ┆ year     ┆ lifeExp   ┆ pop         ┆ gdpPercap   │\n",
      "│ ---        ┆ ---         ┆ ---       ┆ ---      ┆ ---       ┆ ---         ┆ ---         │\n",
      "│ str        ┆ str         ┆ str       ┆ f64      ┆ f64       ┆ f64         ┆ f64         │\n",
      "╞════════════╪═════════════╪═══════════╪══════════╪═══════════╪═════════════╪═════════════╡\n",
      "│ count      ┆ 1704        ┆ 1704      ┆ 1704.0   ┆ 1704.0    ┆ 1704.0      ┆ 1704.0      │\n",
      "│ null_count ┆ 0           ┆ 0         ┆ 0.0      ┆ 0.0       ┆ 0.0         ┆ 0.0         │\n",
      "│ mean       ┆ null        ┆ null      ┆ 1979.5   ┆ 59.474439 ┆ 2.9601e7    ┆ 7215.327081 │\n",
      "│ std        ┆ null        ┆ null      ┆ 17.26533 ┆ 12.917107 ┆ 1.0616e8    ┆ 9857.454543 │\n",
      "│ min        ┆ Afghanistan ┆ Africa    ┆ 1952.0   ┆ 23.599    ┆ 60011.0     ┆ 241.165876  │\n",
      "│ 25%        ┆ null        ┆ null      ┆ 1967.0   ┆ 48.211    ┆ 2.794552e6  ┆ 1202.201361 │\n",
      "│ 50%        ┆ null        ┆ null      ┆ 1982.0   ┆ 60.765    ┆ 7.026113e6  ┆ 3533.00391  │\n",
      "│ 75%        ┆ null        ┆ null      ┆ 1997.0   ┆ 70.847    ┆ 1.9610538e7 ┆ 9326.64467  │\n",
      "│ max        ┆ Zimbabwe    ┆ Oceania   ┆ 2007.0   ┆ 82.603    ┆ 1.3187e9    ┆ 113523.1329 │\n",
      "└────────────┴─────────────┴───────────┴──────────┴───────────┴─────────────┴─────────────┘\n"
     ]
    }
   ],
   "source": [
    "print(df.dtypes)\n",
    "\n",
    "#print(df.info())\n",
    "print(df.describe())"
   ]
  },
  {
   "cell_type": "markdown",
   "metadata": {},
   "source": [
    "## 1.3 列、行、セルを見る"
   ]
  },
  {
   "cell_type": "code",
   "execution_count": 7,
   "metadata": {},
   "outputs": [
    {
     "name": "stdout",
     "output_type": "stream",
     "text": [
      "shape: (5, 6)\n",
      "┌─────────────┬───────────┬──────┬─────────┬──────────┬────────────┐\n",
      "│ country     ┆ continent ┆ year ┆ lifeExp ┆ pop      ┆ gdpPercap  │\n",
      "│ ---         ┆ ---       ┆ ---  ┆ ---     ┆ ---      ┆ ---        │\n",
      "│ str         ┆ str       ┆ i64  ┆ f64     ┆ i64      ┆ f64        │\n",
      "╞═════════════╪═══════════╪══════╪═════════╪══════════╪════════════╡\n",
      "│ Afghanistan ┆ Asia      ┆ 1952 ┆ 28.801  ┆ 8425333  ┆ 779.445314 │\n",
      "│ Afghanistan ┆ Asia      ┆ 1957 ┆ 30.332  ┆ 9240934  ┆ 820.85303  │\n",
      "│ Afghanistan ┆ Asia      ┆ 1962 ┆ 31.997  ┆ 10267083 ┆ 853.10071  │\n",
      "│ Afghanistan ┆ Asia      ┆ 1967 ┆ 34.02   ┆ 11537966 ┆ 836.197138 │\n",
      "│ Afghanistan ┆ Asia      ┆ 1972 ┆ 36.088  ┆ 13079460 ┆ 739.981106 │\n",
      "└─────────────┴───────────┴──────┴─────────┴──────────┴────────────┘\n"
     ]
    }
   ],
   "source": [
    "print(df.head())"
   ]
  },
  {
   "cell_type": "markdown",
   "metadata": {},
   "source": [
    "### 1.3.1 名前で列を絞り込む"
   ]
  },
  {
   "cell_type": "code",
   "execution_count": 8,
   "metadata": {},
   "outputs": [
    {
     "name": "stdout",
     "output_type": "stream",
     "text": [
      "shape: (10,)\n",
      "Series: 'country' [str]\n",
      "[\n",
      "\t\"Afghanistan\"\n",
      "\t\"Afghanistan\"\n",
      "\t\"Afghanistan\"\n",
      "\t\"Afghanistan\"\n",
      "\t\"Afghanistan\"\n",
      "\t\"Afghanistan\"\n",
      "\t\"Afghanistan\"\n",
      "\t\"Afghanistan\"\n",
      "\t\"Afghanistan\"\n",
      "\t\"Afghanistan\"\n",
      "]\n",
      "shape: (10,)\n",
      "Series: 'country' [str]\n",
      "[\n",
      "\t\"Zimbabwe\"\n",
      "\t\"Zimbabwe\"\n",
      "\t\"Zimbabwe\"\n",
      "\t\"Zimbabwe\"\n",
      "\t\"Zimbabwe\"\n",
      "\t\"Zimbabwe\"\n",
      "\t\"Zimbabwe\"\n",
      "\t\"Zimbabwe\"\n",
      "\t\"Zimbabwe\"\n",
      "\t\"Zimbabwe\"\n",
      "]\n"
     ]
    }
   ],
   "source": [
    "country_df = df[\"country\"]\n",
    "\n",
    "print(country_df.head())\n",
    "\n",
    "print(country_df.tail())"
   ]
  },
  {
   "cell_type": "code",
   "execution_count": 9,
   "metadata": {},
   "outputs": [
    {
     "name": "stdout",
     "output_type": "stream",
     "text": [
      "shape: (1_704, 3)\n",
      "┌─────────────┬───────────┬──────┐\n",
      "│ country     ┆ continent ┆ year │\n",
      "│ ---         ┆ ---       ┆ ---  │\n",
      "│ str         ┆ str       ┆ i64  │\n",
      "╞═════════════╪═══════════╪══════╡\n",
      "│ Afghanistan ┆ Asia      ┆ 1952 │\n",
      "│ Afghanistan ┆ Asia      ┆ 1957 │\n",
      "│ Afghanistan ┆ Asia      ┆ 1962 │\n",
      "│ Afghanistan ┆ Asia      ┆ 1967 │\n",
      "│ …           ┆ …         ┆ …    │\n",
      "│ Zimbabwe    ┆ Africa    ┆ 1992 │\n",
      "│ Zimbabwe    ┆ Africa    ┆ 1997 │\n",
      "│ Zimbabwe    ┆ Africa    ┆ 2002 │\n",
      "│ Zimbabwe    ┆ Africa    ┆ 2007 │\n",
      "└─────────────┴───────────┴──────┘\n"
     ]
    }
   ],
   "source": [
    "subset = df[ [\"country\", \"continent\", \"year\"] ]\n",
    "\n",
    "print(subset)"
   ]
  },
  {
   "cell_type": "code",
   "execution_count": 10,
   "metadata": {},
   "outputs": [
    {
     "data": {
      "text/html": [
       "<div><style>\n",
       ".dataframe > thead > tr,\n",
       ".dataframe > tbody > tr {\n",
       "  text-align: right;\n",
       "  white-space: pre-wrap;\n",
       "}\n",
       "</style>\n",
       "<small>shape: (1, 6)</small><table border=\"1\" class=\"dataframe\"><thead><tr><th>country</th><th>continent</th><th>year</th><th>lifeExp</th><th>pop</th><th>gdpPercap</th></tr><tr><td>str</td><td>str</td><td>i64</td><td>f64</td><td>i64</td><td>f64</td></tr></thead><tbody><tr><td>&quot;Afghanistan&quot;</td><td>&quot;Asia&quot;</td><td>1952</td><td>28.801</td><td>8425333</td><td>779.445314</td></tr></tbody></table></div>"
      ],
      "text/plain": [
       "shape: (1, 6)\n",
       "┌─────────────┬───────────┬──────┬─────────┬─────────┬────────────┐\n",
       "│ country     ┆ continent ┆ year ┆ lifeExp ┆ pop     ┆ gdpPercap  │\n",
       "│ ---         ┆ ---       ┆ ---  ┆ ---     ┆ ---     ┆ ---        │\n",
       "│ str         ┆ str       ┆ i64  ┆ f64     ┆ i64     ┆ f64        │\n",
       "╞═════════════╪═══════════╪══════╪═════════╪═════════╪════════════╡\n",
       "│ Afghanistan ┆ Asia      ┆ 1952 ┆ 28.801  ┆ 8425333 ┆ 779.445314 │\n",
       "└─────────────┴───────────┴──────┴─────────┴─────────┴────────────┘"
      ]
     },
     "execution_count": 10,
     "metadata": {},
     "output_type": "execute_result"
    }
   ],
   "source": [
    "df[0]"
   ]
  },
  {
   "cell_type": "markdown",
   "metadata": {},
   "source": [
    "#### 1.3.1.1 1個の値で返されるDataFrameやSeries"
   ]
  },
  {
   "cell_type": "code",
   "execution_count": 11,
   "metadata": {},
   "outputs": [
    {
     "name": "stdout",
     "output_type": "stream",
     "text": [
      "<class 'polars.series.series.Series'>\n"
     ]
    }
   ],
   "source": [
    "country_df = df[\"country\"]\n",
    "print( type(country_df) )"
   ]
  },
  {
   "cell_type": "code",
   "execution_count": 12,
   "metadata": {},
   "outputs": [
    {
     "name": "stdout",
     "output_type": "stream",
     "text": [
      "shape: (1_704,)\n",
      "Series: 'country' [str]\n",
      "[\n",
      "\t\"Afghanistan\"\n",
      "\t\"Afghanistan\"\n",
      "\t\"Afghanistan\"\n",
      "\t\"Afghanistan\"\n",
      "\t\"Afghanistan\"\n",
      "\t\"Afghanistan\"\n",
      "\t\"Afghanistan\"\n",
      "\t\"Afghanistan\"\n",
      "\t\"Afghanistan\"\n",
      "\t\"Afghanistan\"\n",
      "\t\"Afghanistan\"\n",
      "\t\"Afghanistan\"\n",
      "\t…\n",
      "\t\"Zambia\"\n",
      "\t\"Zimbabwe\"\n",
      "\t\"Zimbabwe\"\n",
      "\t\"Zimbabwe\"\n",
      "\t\"Zimbabwe\"\n",
      "\t\"Zimbabwe\"\n",
      "\t\"Zimbabwe\"\n",
      "\t\"Zimbabwe\"\n",
      "\t\"Zimbabwe\"\n",
      "\t\"Zimbabwe\"\n",
      "\t\"Zimbabwe\"\n",
      "\t\"Zimbabwe\"\n",
      "\t\"Zimbabwe\"\n",
      "]\n"
     ]
    }
   ],
   "source": [
    "print(country_df)"
   ]
  },
  {
   "cell_type": "code",
   "execution_count": 13,
   "metadata": {},
   "outputs": [
    {
     "name": "stdout",
     "output_type": "stream",
     "text": [
      "<class 'polars.dataframe.frame.DataFrame'>\n"
     ]
    }
   ],
   "source": [
    "country_df_list = df[ [\"country\"] ]\n",
    "print( type(country_df_list) )"
   ]
  },
  {
   "cell_type": "code",
   "execution_count": 14,
   "metadata": {},
   "outputs": [
    {
     "name": "stdout",
     "output_type": "stream",
     "text": [
      "shape: (1_704, 1)\n",
      "┌─────────────┐\n",
      "│ country     │\n",
      "│ ---         │\n",
      "│ str         │\n",
      "╞═════════════╡\n",
      "│ Afghanistan │\n",
      "│ Afghanistan │\n",
      "│ Afghanistan │\n",
      "│ Afghanistan │\n",
      "│ …           │\n",
      "│ Zimbabwe    │\n",
      "│ Zimbabwe    │\n",
      "│ Zimbabwe    │\n",
      "│ Zimbabwe    │\n",
      "└─────────────┘\n"
     ]
    }
   ],
   "source": [
    "print(country_df_list)"
   ]
  },
  {
   "cell_type": "markdown",
   "metadata": {},
   "source": [
    "#### 1.3.1.2 ドット記法を使って、1列の値を抽出する"
   ]
  },
  {
   "cell_type": "code",
   "execution_count": 15,
   "metadata": {},
   "outputs": [
    {
     "name": "stdout",
     "output_type": "stream",
     "text": [
      "shape: (1_704,)\n",
      "Series: 'country' [str]\n",
      "[\n",
      "\t\"Afghanistan\"\n",
      "\t\"Afghanistan\"\n",
      "\t\"Afghanistan\"\n",
      "\t\"Afghanistan\"\n",
      "\t\"Afghanistan\"\n",
      "\t\"Afghanistan\"\n",
      "\t\"Afghanistan\"\n",
      "\t\"Afghanistan\"\n",
      "\t\"Afghanistan\"\n",
      "\t\"Afghanistan\"\n",
      "\t\"Afghanistan\"\n",
      "\t\"Afghanistan\"\n",
      "\t…\n",
      "\t\"Zambia\"\n",
      "\t\"Zimbabwe\"\n",
      "\t\"Zimbabwe\"\n",
      "\t\"Zimbabwe\"\n",
      "\t\"Zimbabwe\"\n",
      "\t\"Zimbabwe\"\n",
      "\t\"Zimbabwe\"\n",
      "\t\"Zimbabwe\"\n",
      "\t\"Zimbabwe\"\n",
      "\t\"Zimbabwe\"\n",
      "\t\"Zimbabwe\"\n",
      "\t\"Zimbabwe\"\n",
      "\t\"Zimbabwe\"\n",
      "]\n"
     ]
    }
   ],
   "source": [
    "print( df[\"country\"] )"
   ]
  },
  {
   "cell_type": "code",
   "execution_count": 16,
   "metadata": {},
   "outputs": [],
   "source": [
    "#print( df.country )"
   ]
  },
  {
   "cell_type": "markdown",
   "metadata": {},
   "source": [
    "### 1.3.2 複数行の抽出"
   ]
  },
  {
   "cell_type": "markdown",
   "metadata": {},
   "source": [
    "#### 1.3.2.1 インデックスラベルによる行の抽出: loc[]"
   ]
  },
  {
   "cell_type": "code",
   "execution_count": 17,
   "metadata": {},
   "outputs": [
    {
     "name": "stdout",
     "output_type": "stream",
     "text": [
      "shape: (1_704, 6)\n",
      "┌─────────────┬───────────┬──────┬─────────┬──────────┬────────────┐\n",
      "│ country     ┆ continent ┆ year ┆ lifeExp ┆ pop      ┆ gdpPercap  │\n",
      "│ ---         ┆ ---       ┆ ---  ┆ ---     ┆ ---      ┆ ---        │\n",
      "│ str         ┆ str       ┆ i64  ┆ f64     ┆ i64      ┆ f64        │\n",
      "╞═════════════╪═══════════╪══════╪═════════╪══════════╪════════════╡\n",
      "│ Afghanistan ┆ Asia      ┆ 1952 ┆ 28.801  ┆ 8425333  ┆ 779.445314 │\n",
      "│ Afghanistan ┆ Asia      ┆ 1957 ┆ 30.332  ┆ 9240934  ┆ 820.85303  │\n",
      "│ Afghanistan ┆ Asia      ┆ 1962 ┆ 31.997  ┆ 10267083 ┆ 853.10071  │\n",
      "│ Afghanistan ┆ Asia      ┆ 1967 ┆ 34.02   ┆ 11537966 ┆ 836.197138 │\n",
      "│ …           ┆ …         ┆ …    ┆ …       ┆ …        ┆ …          │\n",
      "│ Zimbabwe    ┆ Africa    ┆ 1992 ┆ 60.377  ┆ 10704340 ┆ 693.420786 │\n",
      "│ Zimbabwe    ┆ Africa    ┆ 1997 ┆ 46.809  ┆ 11404948 ┆ 792.44996  │\n",
      "│ Zimbabwe    ┆ Africa    ┆ 2002 ┆ 39.989  ┆ 11926563 ┆ 672.038623 │\n",
      "│ Zimbabwe    ┆ Africa    ┆ 2007 ┆ 43.487  ┆ 12311143 ┆ 469.709298 │\n",
      "└─────────────┴───────────┴──────┴─────────┴──────────┴────────────┘\n"
     ]
    }
   ],
   "source": [
    "print(df)"
   ]
  },
  {
   "cell_type": "code",
   "execution_count": 18,
   "metadata": {},
   "outputs": [
    {
     "name": "stdout",
     "output_type": "stream",
     "text": [
      "shape: (1, 6)\n",
      "┌─────────────┬───────────┬──────┬─────────┬─────────┬────────────┐\n",
      "│ country     ┆ continent ┆ year ┆ lifeExp ┆ pop     ┆ gdpPercap  │\n",
      "│ ---         ┆ ---       ┆ ---  ┆ ---     ┆ ---     ┆ ---        │\n",
      "│ str         ┆ str       ┆ i64  ┆ f64     ┆ i64     ┆ f64        │\n",
      "╞═════════════╪═══════════╪══════╪═════════╪═════════╪════════════╡\n",
      "│ Afghanistan ┆ Asia      ┆ 1952 ┆ 28.801  ┆ 8425333 ┆ 779.445314 │\n",
      "└─────────────┴───────────┴──────┴─────────┴─────────┴────────────┘\n"
     ]
    }
   ],
   "source": [
    "# Polarsには、Pandasのlocやilocに相当する関数はありません。\n",
    "#print( df.loc[c] )\n",
    "\n",
    "# 序数0の行から1行分のデータを取得する\n",
    "print( df.slice( offset = 0, length = 1) )\n"
   ]
  },
  {
   "cell_type": "code",
   "execution_count": 19,
   "metadata": {},
   "outputs": [
    {
     "name": "stdout",
     "output_type": "stream",
     "text": [
      "shape: (1, 6)\n",
      "┌────────────┬───────────┬──────┬─────────┬──────────┬────────────┐\n",
      "│ country    ┆ continent ┆ year ┆ lifeExp ┆ pop      ┆ gdpPercap  │\n",
      "│ ---        ┆ ---       ┆ ---  ┆ ---     ┆ ---      ┆ ---        │\n",
      "│ str        ┆ str       ┆ i64  ┆ f64     ┆ i64      ┆ f64        │\n",
      "╞════════════╪═══════════╪══════╪═════════╪══════════╪════════════╡\n",
      "│ Bangladesh ┆ Asia      ┆ 1967 ┆ 43.453  ┆ 62821884 ┆ 721.186086 │\n",
      "└────────────┴───────────┴──────┴─────────┴──────────┴────────────┘\n"
     ]
    }
   ],
   "source": [
    "# 序数99の行から1行分のデータを取得する\n",
    "print( df.slice(offset = 99, length = 1) )"
   ]
  },
  {
   "cell_type": "code",
   "execution_count": 20,
   "metadata": {},
   "outputs": [
    {
     "name": "stdout",
     "output_type": "stream",
     "text": [
      "shape: (1, 6)\n",
      "┌──────────┬───────────┬──────┬─────────┬──────────┬────────────┐\n",
      "│ country  ┆ continent ┆ year ┆ lifeExp ┆ pop      ┆ gdpPercap  │\n",
      "│ ---      ┆ ---       ┆ ---  ┆ ---     ┆ ---      ┆ ---        │\n",
      "│ str      ┆ str       ┆ i64  ┆ f64     ┆ i64      ┆ f64        │\n",
      "╞══════════╪═══════════╪══════╪═════════╪══════════╪════════════╡\n",
      "│ Zimbabwe ┆ Africa    ┆ 2007 ┆ 43.487  ┆ 12311143 ┆ 469.709298 │\n",
      "└──────────┴───────────┴──────┴─────────┴──────────┴────────────┘\n"
     ]
    }
   ],
   "source": [
    "# 最終行から1行分のデータを取得する\n",
    "print( df.slice(offset = -1, length = 1) )"
   ]
  },
  {
   "cell_type": "code",
   "execution_count": 21,
   "metadata": {},
   "outputs": [
    {
     "name": "stdout",
     "output_type": "stream",
     "text": [
      "shape: (1, 6)\n",
      "┌──────────┬───────────┬──────┬─────────┬──────────┬────────────┐\n",
      "│ country  ┆ continent ┆ year ┆ lifeExp ┆ pop      ┆ gdpPercap  │\n",
      "│ ---      ┆ ---       ┆ ---  ┆ ---     ┆ ---      ┆ ---        │\n",
      "│ str      ┆ str       ┆ i64  ┆ f64     ┆ i64      ┆ f64        │\n",
      "╞══════════╪═══════════╪══════╪═════════╪══════════╪════════════╡\n",
      "│ Zimbabwe ┆ Africa    ┆ 2007 ┆ 43.487  ┆ 12311143 ┆ 469.709298 │\n",
      "└──────────┴───────────┴──────┴─────────┴──────────┴────────────┘\n",
      "shape: (1, 6)\n",
      "┌──────────┬───────────┬──────┬─────────┬──────────┬────────────┐\n",
      "│ country  ┆ continent ┆ year ┆ lifeExp ┆ pop      ┆ gdpPercap  │\n",
      "│ ---      ┆ ---       ┆ ---  ┆ ---     ┆ ---      ┆ ---        │\n",
      "│ str      ┆ str       ┆ i64  ┆ f64     ┆ i64      ┆ f64        │\n",
      "╞══════════╪═══════════╪══════╪═════════╪══════════╪════════════╡\n",
      "│ Zimbabwe ┆ Africa    ┆ 2007 ┆ 43.487  ┆ 12311143 ┆ 469.709298 │\n",
      "└──────────┴───────────┴──────┴─────────┴──────────┴────────────┘\n"
     ]
    }
   ],
   "source": [
    "number_of_rows = df.shape[0]\n",
    "\n",
    "last_row_index = number_of_rows - 1\n",
    "\n",
    "print( df[last_row_index] )\n",
    "print( df.slice(offset = last_row_index, length = 1) )"
   ]
  },
  {
   "cell_type": "code",
   "execution_count": 22,
   "metadata": {},
   "outputs": [
    {
     "name": "stdout",
     "output_type": "stream",
     "text": [
      "shape: (1, 6)\n",
      "┌──────────┬───────────┬──────┬─────────┬──────────┬────────────┐\n",
      "│ country  ┆ continent ┆ year ┆ lifeExp ┆ pop      ┆ gdpPercap  │\n",
      "│ ---      ┆ ---       ┆ ---  ┆ ---     ┆ ---      ┆ ---        │\n",
      "│ str      ┆ str       ┆ i64  ┆ f64     ┆ i64      ┆ f64        │\n",
      "╞══════════╪═══════════╪══════╪═════════╪══════════╪════════════╡\n",
      "│ Zimbabwe ┆ Africa    ┆ 2007 ┆ 43.487  ┆ 12311143 ┆ 469.709298 │\n",
      "└──────────┴───────────┴──────┴─────────┴──────────┴────────────┘\n"
     ]
    }
   ],
   "source": [
    "print( df.tail(n = 1) )"
   ]
  },
  {
   "cell_type": "code",
   "execution_count": 23,
   "metadata": {},
   "outputs": [
    {
     "name": "stdout",
     "output_type": "stream",
     "text": [
      "shape: (1, 6)\n",
      "┌─────────────┬───────────┬──────┬─────────┬─────────┬────────────┐\n",
      "│ country     ┆ continent ┆ year ┆ lifeExp ┆ pop     ┆ gdpPercap  │\n",
      "│ ---         ┆ ---       ┆ ---  ┆ ---     ┆ ---     ┆ ---        │\n",
      "│ str         ┆ str       ┆ i64  ┆ f64     ┆ i64     ┆ f64        │\n",
      "╞═════════════╪═══════════╪══════╪═════════╪═════════╪════════════╡\n",
      "│ Afghanistan ┆ Asia      ┆ 1952 ┆ 28.801  ┆ 8425333 ┆ 779.445314 │\n",
      "└─────────────┴───────────┴──────┴─────────┴─────────┴────────────┘\n",
      "shape: (1, 6)\n",
      "┌─────────────┬───────────┬──────┬─────────┬─────────┬────────────┐\n",
      "│ country     ┆ continent ┆ year ┆ lifeExp ┆ pop     ┆ gdpPercap  │\n",
      "│ ---         ┆ ---       ┆ ---  ┆ ---     ┆ ---     ┆ ---        │\n",
      "│ str         ┆ str       ┆ i64  ┆ f64     ┆ i64     ┆ f64        │\n",
      "╞═════════════╪═══════════╪══════╪═════════╪═════════╪════════════╡\n",
      "│ Afghanistan ┆ Asia      ┆ 1952 ┆ 28.801  ┆ 8425333 ┆ 779.445314 │\n",
      "└─────────────┴───────────┴──────┴─────────┴─────────┴────────────┘\n"
     ]
    }
   ],
   "source": [
    "#subset_loc = df.loc[0]\n",
    "subset_slice = df.slice(offset = 0, length = 1)\n",
    "subset_head = df.head(n = 1)\n",
    "\n",
    "print(subset_slice)\n",
    "print(subset_head)\n"
   ]
  },
  {
   "cell_type": "markdown",
   "metadata": {},
   "source": [
    "#### 1.3.2.2 複数行の抽出"
   ]
  },
  {
   "cell_type": "code",
   "execution_count": 24,
   "metadata": {},
   "outputs": [
    {
     "name": "stdout",
     "output_type": "stream",
     "text": [
      "shape: (3, 6)\n",
      "┌─────────────┬───────────┬──────┬─────────┬──────────┬────────────┐\n",
      "│ country     ┆ continent ┆ year ┆ lifeExp ┆ pop      ┆ gdpPercap  │\n",
      "│ ---         ┆ ---       ┆ ---  ┆ ---     ┆ ---      ┆ ---        │\n",
      "│ str         ┆ str       ┆ i64  ┆ f64     ┆ i64      ┆ f64        │\n",
      "╞═════════════╪═══════════╪══════╪═════════╪══════════╪════════════╡\n",
      "│ Afghanistan ┆ Asia      ┆ 1952 ┆ 28.801  ┆ 8425333  ┆ 779.445314 │\n",
      "│ Bangladesh  ┆ Asia      ┆ 1967 ┆ 43.453  ┆ 62821884 ┆ 721.186086 │\n",
      "│ Mongolia    ┆ Asia      ┆ 1967 ┆ 51.253  ┆ 1149500  ┆ 1226.04113 │\n",
      "└─────────────┴───────────┴──────┴─────────┴──────────┴────────────┘\n"
     ]
    }
   ],
   "source": [
    "#print( df.loc[ [0, 99, 999] ] )\n",
    "print( df[ [0, 99, 999] ] )"
   ]
  },
  {
   "cell_type": "markdown",
   "metadata": {},
   "source": [
    "### 1.3.3 行番号による複数行の抽出: iloc[]"
   ]
  },
  {
   "cell_type": "code",
   "execution_count": 25,
   "metadata": {},
   "outputs": [
    {
     "name": "stdout",
     "output_type": "stream",
     "text": [
      "shape: (1, 6)\n",
      "┌─────────────┬───────────┬──────┬─────────┬─────────┬───────────┐\n",
      "│ country     ┆ continent ┆ year ┆ lifeExp ┆ pop     ┆ gdpPercap │\n",
      "│ ---         ┆ ---       ┆ ---  ┆ ---     ┆ ---     ┆ ---       │\n",
      "│ str         ┆ str       ┆ i64  ┆ f64     ┆ i64     ┆ f64       │\n",
      "╞═════════════╪═══════════╪══════╪═════════╪═════════╪═══════════╡\n",
      "│ Afghanistan ┆ Asia      ┆ 1957 ┆ 30.332  ┆ 9240934 ┆ 820.85303 │\n",
      "└─────────────┴───────────┴──────┴─────────┴─────────┴───────────┘\n",
      "shape: (1, 6)\n",
      "┌─────────────┬───────────┬──────┬─────────┬─────────┬───────────┐\n",
      "│ country     ┆ continent ┆ year ┆ lifeExp ┆ pop     ┆ gdpPercap │\n",
      "│ ---         ┆ ---       ┆ ---  ┆ ---     ┆ ---     ┆ ---       │\n",
      "│ str         ┆ str       ┆ i64  ┆ f64     ┆ i64     ┆ f64       │\n",
      "╞═════════════╪═══════════╪══════╪═════════╪═════════╪═══════════╡\n",
      "│ Afghanistan ┆ Asia      ┆ 1957 ┆ 30.332  ┆ 9240934 ┆ 820.85303 │\n",
      "└─────────────┴───────────┴──────┴─────────┴─────────┴───────────┘\n"
     ]
    }
   ],
   "source": [
    "#print( df.iloc[1] )\n",
    "print( df[1] )\n",
    "print( df.slice(offset = 1, length = 1) )"
   ]
  },
  {
   "cell_type": "code",
   "execution_count": 26,
   "metadata": {},
   "outputs": [
    {
     "name": "stdout",
     "output_type": "stream",
     "text": [
      "shape: (1, 6)\n",
      "┌────────────┬───────────┬──────┬─────────┬──────────┬────────────┐\n",
      "│ country    ┆ continent ┆ year ┆ lifeExp ┆ pop      ┆ gdpPercap  │\n",
      "│ ---        ┆ ---       ┆ ---  ┆ ---     ┆ ---      ┆ ---        │\n",
      "│ str        ┆ str       ┆ i64  ┆ f64     ┆ i64      ┆ f64        │\n",
      "╞════════════╪═══════════╪══════╪═════════╪══════════╪════════════╡\n",
      "│ Bangladesh ┆ Asia      ┆ 1967 ┆ 43.453  ┆ 62821884 ┆ 721.186086 │\n",
      "└────────────┴───────────┴──────┴─────────┴──────────┴────────────┘\n",
      "shape: (1, 6)\n",
      "┌────────────┬───────────┬──────┬─────────┬──────────┬────────────┐\n",
      "│ country    ┆ continent ┆ year ┆ lifeExp ┆ pop      ┆ gdpPercap  │\n",
      "│ ---        ┆ ---       ┆ ---  ┆ ---     ┆ ---      ┆ ---        │\n",
      "│ str        ┆ str       ┆ i64  ┆ f64     ┆ i64      ┆ f64        │\n",
      "╞════════════╪═══════════╪══════╪═════════╪══════════╪════════════╡\n",
      "│ Bangladesh ┆ Asia      ┆ 1967 ┆ 43.453  ┆ 62821884 ┆ 721.186086 │\n",
      "└────────────┴───────────┴──────┴─────────┴──────────┴────────────┘\n"
     ]
    }
   ],
   "source": [
    "#print( df.iloc[99] )\n",
    "print( df[99] )\n",
    "print( df.slice(offset = 99, length = 1) )"
   ]
  },
  {
   "cell_type": "code",
   "execution_count": 27,
   "metadata": {},
   "outputs": [
    {
     "name": "stdout",
     "output_type": "stream",
     "text": [
      "shape: (1, 6)\n",
      "┌──────────┬───────────┬──────┬─────────┬──────────┬────────────┐\n",
      "│ country  ┆ continent ┆ year ┆ lifeExp ┆ pop      ┆ gdpPercap  │\n",
      "│ ---      ┆ ---       ┆ ---  ┆ ---     ┆ ---      ┆ ---        │\n",
      "│ str      ┆ str       ┆ i64  ┆ f64     ┆ i64      ┆ f64        │\n",
      "╞══════════╪═══════════╪══════╪═════════╪══════════╪════════════╡\n",
      "│ Zimbabwe ┆ Africa    ┆ 2007 ┆ 43.487  ┆ 12311143 ┆ 469.709298 │\n",
      "└──────────┴───────────┴──────┴─────────┴──────────┴────────────┘\n",
      "shape: (1, 6)\n",
      "┌──────────┬───────────┬──────┬─────────┬──────────┬────────────┐\n",
      "│ country  ┆ continent ┆ year ┆ lifeExp ┆ pop      ┆ gdpPercap  │\n",
      "│ ---      ┆ ---       ┆ ---  ┆ ---     ┆ ---      ┆ ---        │\n",
      "│ str      ┆ str       ┆ i64  ┆ f64     ┆ i64      ┆ f64        │\n",
      "╞══════════╪═══════════╪══════╪═════════╪══════════╪════════════╡\n",
      "│ Zimbabwe ┆ Africa    ┆ 2007 ┆ 43.487  ┆ 12311143 ┆ 469.709298 │\n",
      "└──────────┴───────────┴──────┴─────────┴──────────┴────────────┘\n"
     ]
    }
   ],
   "source": [
    "#print( df.iloc[-1] )\n",
    "print( df[-1] )\n",
    "print( df.slice(offset = -1, length = 1) )"
   ]
  },
  {
   "cell_type": "code",
   "execution_count": 28,
   "metadata": {},
   "outputs": [
    {
     "name": "stdout",
     "output_type": "stream",
     "text": [
      "shape: (3, 6)\n",
      "┌─────────────┬───────────┬──────┬─────────┬──────────┬────────────┐\n",
      "│ country     ┆ continent ┆ year ┆ lifeExp ┆ pop      ┆ gdpPercap  │\n",
      "│ ---         ┆ ---       ┆ ---  ┆ ---     ┆ ---      ┆ ---        │\n",
      "│ str         ┆ str       ┆ i64  ┆ f64     ┆ i64      ┆ f64        │\n",
      "╞═════════════╪═══════════╪══════╪═════════╪══════════╪════════════╡\n",
      "│ Afghanistan ┆ Asia      ┆ 1952 ┆ 28.801  ┆ 8425333  ┆ 779.445314 │\n",
      "│ Bangladesh  ┆ Asia      ┆ 1967 ┆ 43.453  ┆ 62821884 ┆ 721.186086 │\n",
      "│ Mongolia    ┆ Asia      ┆ 1967 ┆ 51.253  ┆ 1149500  ┆ 1226.04113 │\n",
      "└─────────────┴───────────┴──────┴─────────┴──────────┴────────────┘\n",
      "shape: (3, 6)\n",
      "┌─────────────┬───────────┬──────┬─────────┬──────────┬────────────┐\n",
      "│ country     ┆ continent ┆ year ┆ lifeExp ┆ pop      ┆ gdpPercap  │\n",
      "│ ---         ┆ ---       ┆ ---  ┆ ---     ┆ ---      ┆ ---        │\n",
      "│ str         ┆ str       ┆ i64  ┆ f64     ┆ i64      ┆ f64        │\n",
      "╞═════════════╪═══════════╪══════╪═════════╪══════════╪════════════╡\n",
      "│ Afghanistan ┆ Asia      ┆ 1952 ┆ 28.801  ┆ 8425333  ┆ 779.445314 │\n",
      "│ Bangladesh  ┆ Asia      ┆ 1967 ┆ 43.453  ┆ 62821884 ┆ 721.186086 │\n",
      "│ Bangladesh  ┆ Asia      ┆ 1967 ┆ 43.453  ┆ 62821884 ┆ 721.186086 │\n",
      "└─────────────┴───────────┴──────┴─────────┴──────────┴────────────┘\n"
     ]
    }
   ],
   "source": [
    "#print( df.iloc[ [0, 99, 999] ] )\n",
    "print( df[ [0, 99, 999] ] )\n",
    "print( pl.concat([\n",
    "    df.slice(offset = 0, length = 1),\n",
    "    df.slice(offset = 99, length = 1),\n",
    "    df.slice(offset = 99, length = 1)\n",
    "    ]))"
   ]
  },
  {
   "cell_type": "markdown",
   "metadata": {},
   "source": [
    "### 1.3.4 組み合わせで絞り込む"
   ]
  },
  {
   "cell_type": "markdown",
   "metadata": {},
   "source": [
    "#### 1.3.4.1 複数列の抽出"
   ]
  },
  {
   "cell_type": "code",
   "execution_count": 29,
   "metadata": {},
   "outputs": [
    {
     "name": "stdout",
     "output_type": "stream",
     "text": [
      "shape: (1_704, 2)\n",
      "┌──────┬──────────┐\n",
      "│ year ┆ pop      │\n",
      "│ ---  ┆ ---      │\n",
      "│ i64  ┆ i64      │\n",
      "╞══════╪══════════╡\n",
      "│ 1952 ┆ 8425333  │\n",
      "│ 1957 ┆ 9240934  │\n",
      "│ 1962 ┆ 10267083 │\n",
      "│ 1967 ┆ 11537966 │\n",
      "│ …    ┆ …        │\n",
      "│ 1992 ┆ 10704340 │\n",
      "│ 1997 ┆ 11404948 │\n",
      "│ 2002 ┆ 11926563 │\n",
      "│ 2007 ┆ 12311143 │\n",
      "└──────┴──────────┘\n",
      "shape: (1_704, 2)\n",
      "┌──────┬──────────┐\n",
      "│ year ┆ pop      │\n",
      "│ ---  ┆ ---      │\n",
      "│ i64  ┆ i64      │\n",
      "╞══════╪══════════╡\n",
      "│ 1952 ┆ 8425333  │\n",
      "│ 1957 ┆ 9240934  │\n",
      "│ 1962 ┆ 10267083 │\n",
      "│ 1967 ┆ 11537966 │\n",
      "│ …    ┆ …        │\n",
      "│ 1992 ┆ 10704340 │\n",
      "│ 1997 ┆ 11404948 │\n",
      "│ 2002 ┆ 11926563 │\n",
      "│ 2007 ┆ 12311143 │\n",
      "└──────┴──────────┘\n"
     ]
    }
   ],
   "source": [
    "#subset = df.loc[:, [\"year\", \"pop\"]]\n",
    "subset = df[ [\"year\", \"pop\"] ]\n",
    "print(subset)\n",
    "\n",
    "subset = df.select([\"year\", \"pop\"])\n",
    "print(subset)"
   ]
  },
  {
   "cell_type": "code",
   "execution_count": 30,
   "metadata": {},
   "outputs": [
    {
     "name": "stdout",
     "output_type": "stream",
     "text": [
      "shape: (1_704, 3)\n",
      "┌──────┬──────────┬────────────┐\n",
      "│ year ┆ pop      ┆ gdpPercap  │\n",
      "│ ---  ┆ ---      ┆ ---        │\n",
      "│ i64  ┆ i64      ┆ f64        │\n",
      "╞══════╪══════════╪════════════╡\n",
      "│ 1952 ┆ 8425333  ┆ 779.445314 │\n",
      "│ 1957 ┆ 9240934  ┆ 820.85303  │\n",
      "│ 1962 ┆ 10267083 ┆ 853.10071  │\n",
      "│ 1967 ┆ 11537966 ┆ 836.197138 │\n",
      "│ …    ┆ …        ┆ …          │\n",
      "│ 1992 ┆ 10704340 ┆ 693.420786 │\n",
      "│ 1997 ┆ 11404948 ┆ 792.44996  │\n",
      "│ 2002 ┆ 11926563 ┆ 672.038623 │\n",
      "│ 2007 ┆ 12311143 ┆ 469.709298 │\n",
      "└──────┴──────────┴────────────┘\n"
     ]
    }
   ],
   "source": [
    "#subset = df.iloc[:, [2, 4, -1]]\n",
    "subset = df[:, [2, 4, -1]]\n",
    "print(subset)\n",
    "\n",
    "# 列番号で指定したい場合は上記の方法のみ\n",
    "#subset = df.select([pl.col(\"2\"), pl.col(\"4\"), pl.col(\"-1\")])\n",
    "#print(subset)"
   ]
  },
  {
   "cell_type": "markdown",
   "metadata": {},
   "source": [
    "#### 1.3.4.2 範囲による複数列の抽出"
   ]
  },
  {
   "cell_type": "code",
   "execution_count": 31,
   "metadata": {},
   "outputs": [
    {
     "name": "stdout",
     "output_type": "stream",
     "text": [
      "[0, 1, 2, 3, 4]\n",
      "shape: (1_704, 5)\n",
      "┌─────────────┬───────────┬──────┬─────────┬──────────┐\n",
      "│ country     ┆ continent ┆ year ┆ lifeExp ┆ pop      │\n",
      "│ ---         ┆ ---       ┆ ---  ┆ ---     ┆ ---      │\n",
      "│ str         ┆ str       ┆ i64  ┆ f64     ┆ i64      │\n",
      "╞═════════════╪═══════════╪══════╪═════════╪══════════╡\n",
      "│ Afghanistan ┆ Asia      ┆ 1952 ┆ 28.801  ┆ 8425333  │\n",
      "│ Afghanistan ┆ Asia      ┆ 1957 ┆ 30.332  ┆ 9240934  │\n",
      "│ Afghanistan ┆ Asia      ┆ 1962 ┆ 31.997  ┆ 10267083 │\n",
      "│ Afghanistan ┆ Asia      ┆ 1967 ┆ 34.02   ┆ 11537966 │\n",
      "│ …           ┆ …         ┆ …    ┆ …       ┆ …        │\n",
      "│ Zimbabwe    ┆ Africa    ┆ 1992 ┆ 60.377  ┆ 10704340 │\n",
      "│ Zimbabwe    ┆ Africa    ┆ 1997 ┆ 46.809  ┆ 11404948 │\n",
      "│ Zimbabwe    ┆ Africa    ┆ 2002 ┆ 39.989  ┆ 11926563 │\n",
      "│ Zimbabwe    ┆ Africa    ┆ 2007 ┆ 43.487  ┆ 12311143 │\n",
      "└─────────────┴───────────┴──────┴─────────┴──────────┘\n"
     ]
    }
   ],
   "source": [
    "small_range = list( range(5) )\n",
    "print(small_range)\n",
    "\n",
    "#subset = df.iloc[:, small_range]\n",
    "subset = df[:, small_range]\n",
    "print(subset)"
   ]
  },
  {
   "cell_type": "code",
   "execution_count": 32,
   "metadata": {},
   "outputs": [
    {
     "name": "stdout",
     "output_type": "stream",
     "text": [
      "[3, 4, 5]\n",
      "shape: (1_704, 3)\n",
      "┌─────────┬──────────┬────────────┐\n",
      "│ lifeExp ┆ pop      ┆ gdpPercap  │\n",
      "│ ---     ┆ ---      ┆ ---        │\n",
      "│ f64     ┆ i64      ┆ f64        │\n",
      "╞═════════╪══════════╪════════════╡\n",
      "│ 28.801  ┆ 8425333  ┆ 779.445314 │\n",
      "│ 30.332  ┆ 9240934  ┆ 820.85303  │\n",
      "│ 31.997  ┆ 10267083 ┆ 853.10071  │\n",
      "│ 34.02   ┆ 11537966 ┆ 836.197138 │\n",
      "│ …       ┆ …        ┆ …          │\n",
      "│ 60.377  ┆ 10704340 ┆ 693.420786 │\n",
      "│ 46.809  ┆ 11404948 ┆ 792.44996  │\n",
      "│ 39.989  ┆ 11926563 ┆ 672.038623 │\n",
      "│ 43.487  ┆ 12311143 ┆ 469.709298 │\n",
      "└─────────┴──────────┴────────────┘\n"
     ]
    }
   ],
   "source": [
    "small_range = list( range(3, 6) )\n",
    "print(small_range)\n",
    "\n",
    "#subset = df.iloc[:, small_range]\n",
    "subset = df[:, small_range]\n",
    "print(subset)"
   ]
  },
  {
   "cell_type": "code",
   "execution_count": 33,
   "metadata": {},
   "outputs": [
    {
     "name": "stdout",
     "output_type": "stream",
     "text": [
      "[0, 2, 4]\n",
      "shape: (1_704, 3)\n",
      "┌─────────────┬──────┬──────────┐\n",
      "│ country     ┆ year ┆ pop      │\n",
      "│ ---         ┆ ---  ┆ ---      │\n",
      "│ str         ┆ i64  ┆ i64      │\n",
      "╞═════════════╪══════╪══════════╡\n",
      "│ Afghanistan ┆ 1952 ┆ 8425333  │\n",
      "│ Afghanistan ┆ 1957 ┆ 9240934  │\n",
      "│ Afghanistan ┆ 1962 ┆ 10267083 │\n",
      "│ Afghanistan ┆ 1967 ┆ 11537966 │\n",
      "│ …           ┆ …    ┆ …        │\n",
      "│ Zimbabwe    ┆ 1992 ┆ 10704340 │\n",
      "│ Zimbabwe    ┆ 1997 ┆ 11404948 │\n",
      "│ Zimbabwe    ┆ 2002 ┆ 11926563 │\n",
      "│ Zimbabwe    ┆ 2007 ┆ 12311143 │\n",
      "└─────────────┴──────┴──────────┘\n"
     ]
    }
   ],
   "source": [
    "small_range = list( range(0, 6, 2) )\n",
    "print(small_range)\n",
    "\n",
    "#subset = df.iloc[:, small_range]\n",
    "subset = df[:, small_range]\n",
    "print(subset)"
   ]
  },
  {
   "cell_type": "markdown",
   "metadata": {},
   "source": [
    "#### 1.3.4.3 スライスによる複数列の絞り込み"
   ]
  },
  {
   "cell_type": "code",
   "execution_count": 34,
   "metadata": {},
   "outputs": [
    {
     "name": "stdout",
     "output_type": "stream",
     "text": [
      "['country', 'continent', 'year', 'lifeExp', 'pop', 'gdpPercap']\n"
     ]
    }
   ],
   "source": [
    "print(df.columns)"
   ]
  },
  {
   "cell_type": "code",
   "execution_count": 35,
   "metadata": {},
   "outputs": [
    {
     "name": "stdout",
     "output_type": "stream",
     "text": [
      "shape: (1_704, 3)\n",
      "┌─────────────┬───────────┬──────┐\n",
      "│ country     ┆ continent ┆ year │\n",
      "│ ---         ┆ ---       ┆ ---  │\n",
      "│ str         ┆ str       ┆ i64  │\n",
      "╞═════════════╪═══════════╪══════╡\n",
      "│ Afghanistan ┆ Asia      ┆ 1952 │\n",
      "│ Afghanistan ┆ Asia      ┆ 1957 │\n",
      "│ Afghanistan ┆ Asia      ┆ 1962 │\n",
      "│ Afghanistan ┆ Asia      ┆ 1967 │\n",
      "│ …           ┆ …         ┆ …    │\n",
      "│ Zimbabwe    ┆ Africa    ┆ 1992 │\n",
      "│ Zimbabwe    ┆ Africa    ┆ 1997 │\n",
      "│ Zimbabwe    ┆ Africa    ┆ 2002 │\n",
      "│ Zimbabwe    ┆ Africa    ┆ 2007 │\n",
      "└─────────────┴───────────┴──────┘\n",
      "shape: (1_704, 3)\n",
      "┌─────────────┬───────────┬──────┐\n",
      "│ country     ┆ continent ┆ year │\n",
      "│ ---         ┆ ---       ┆ ---  │\n",
      "│ str         ┆ str       ┆ i64  │\n",
      "╞═════════════╪═══════════╪══════╡\n",
      "│ Afghanistan ┆ Asia      ┆ 1952 │\n",
      "│ Afghanistan ┆ Asia      ┆ 1957 │\n",
      "│ Afghanistan ┆ Asia      ┆ 1962 │\n",
      "│ Afghanistan ┆ Asia      ┆ 1967 │\n",
      "│ …           ┆ …         ┆ …    │\n",
      "│ Zimbabwe    ┆ Africa    ┆ 1992 │\n",
      "│ Zimbabwe    ┆ Africa    ┆ 1997 │\n",
      "│ Zimbabwe    ┆ Africa    ┆ 2002 │\n",
      "│ Zimbabwe    ┆ Africa    ┆ 2007 │\n",
      "└─────────────┴───────────┴──────┘\n",
      "shape: (1_704, 3)\n",
      "┌─────────┬──────────┬────────────┐\n",
      "│ lifeExp ┆ pop      ┆ gdpPercap  │\n",
      "│ ---     ┆ ---      ┆ ---        │\n",
      "│ f64     ┆ i64      ┆ f64        │\n",
      "╞═════════╪══════════╪════════════╡\n",
      "│ 28.801  ┆ 8425333  ┆ 779.445314 │\n",
      "│ 30.332  ┆ 9240934  ┆ 820.85303  │\n",
      "│ 31.997  ┆ 10267083 ┆ 853.10071  │\n",
      "│ 34.02   ┆ 11537966 ┆ 836.197138 │\n",
      "│ …       ┆ …        ┆ …          │\n",
      "│ 60.377  ┆ 10704340 ┆ 693.420786 │\n",
      "│ 46.809  ┆ 11404948 ┆ 792.44996  │\n",
      "│ 39.989  ┆ 11926563 ┆ 672.038623 │\n",
      "│ 43.487  ┆ 12311143 ┆ 469.709298 │\n",
      "└─────────┴──────────┴────────────┘\n",
      "shape: (1_704, 3)\n",
      "┌─────────┬──────────┬────────────┐\n",
      "│ lifeExp ┆ pop      ┆ gdpPercap  │\n",
      "│ ---     ┆ ---      ┆ ---        │\n",
      "│ f64     ┆ i64      ┆ f64        │\n",
      "╞═════════╪══════════╪════════════╡\n",
      "│ 28.801  ┆ 8425333  ┆ 779.445314 │\n",
      "│ 30.332  ┆ 9240934  ┆ 820.85303  │\n",
      "│ 31.997  ┆ 10267083 ┆ 853.10071  │\n",
      "│ 34.02   ┆ 11537966 ┆ 836.197138 │\n",
      "│ …       ┆ …        ┆ …          │\n",
      "│ 60.377  ┆ 10704340 ┆ 693.420786 │\n",
      "│ 46.809  ┆ 11404948 ┆ 792.44996  │\n",
      "│ 39.989  ┆ 11926563 ┆ 672.038623 │\n",
      "│ 43.487  ┆ 12311143 ┆ 469.709298 │\n",
      "└─────────┴──────────┴────────────┘\n",
      "shape: (1_704, 3)\n",
      "┌─────────────┬──────┬──────────┐\n",
      "│ country     ┆ year ┆ pop      │\n",
      "│ ---         ┆ ---  ┆ ---      │\n",
      "│ str         ┆ i64  ┆ i64      │\n",
      "╞═════════════╪══════╪══════════╡\n",
      "│ Afghanistan ┆ 1952 ┆ 8425333  │\n",
      "│ Afghanistan ┆ 1957 ┆ 9240934  │\n",
      "│ Afghanistan ┆ 1962 ┆ 10267083 │\n",
      "│ Afghanistan ┆ 1967 ┆ 11537966 │\n",
      "│ …           ┆ …    ┆ …        │\n",
      "│ Zimbabwe    ┆ 1992 ┆ 10704340 │\n",
      "│ Zimbabwe    ┆ 1997 ┆ 11404948 │\n",
      "│ Zimbabwe    ┆ 2002 ┆ 11926563 │\n",
      "│ Zimbabwe    ┆ 2007 ┆ 12311143 │\n",
      "└─────────────┴──────┴──────────┘\n",
      "shape: (1_704, 3)\n",
      "┌─────────────┬──────┬──────────┐\n",
      "│ country     ┆ year ┆ pop      │\n",
      "│ ---         ┆ ---  ┆ ---      │\n",
      "│ str         ┆ i64  ┆ i64      │\n",
      "╞═════════════╪══════╪══════════╡\n",
      "│ Afghanistan ┆ 1952 ┆ 8425333  │\n",
      "│ Afghanistan ┆ 1957 ┆ 9240934  │\n",
      "│ Afghanistan ┆ 1962 ┆ 10267083 │\n",
      "│ Afghanistan ┆ 1967 ┆ 11537966 │\n",
      "│ …           ┆ …    ┆ …        │\n",
      "│ Zimbabwe    ┆ 1992 ┆ 10704340 │\n",
      "│ Zimbabwe    ┆ 1997 ┆ 11404948 │\n",
      "│ Zimbabwe    ┆ 2002 ┆ 11926563 │\n",
      "│ Zimbabwe    ┆ 2007 ┆ 12311143 │\n",
      "└─────────────┴──────┴──────────┘\n"
     ]
    }
   ],
   "source": [
    "small_range = list( range(3) )\n",
    "#subset = df.iloc[:, small_range]\n",
    "subset = df[:, small_range]\n",
    "print(subset)\n",
    "\n",
    "#subset = df.iloc[:, :3]\n",
    "subset = df[:, :3]\n",
    "print(subset)\n",
    "\n",
    "small_range = list( range(3, 6) )\n",
    "#subset = df.iloc[:, small_range]\n",
    "subset = df[:, small_range]\n",
    "print(subset)\n",
    "\n",
    "#subset = df.iloc[:, 3:6]\n",
    "subset = df[:, 3:6]\n",
    "print(subset)\n",
    "\n",
    "small_range = list( range(0, 6, 2) )\n",
    "#subset = df.iloc[:, small_range]\n",
    "subset = df[:, small_range]\n",
    "print(subset)\n",
    "\n",
    "#subset = df.iloc[:, 0:6:2]\n",
    "subset = df[:, 0:6:2]\n",
    "print(subset)"
   ]
  },
  {
   "cell_type": "markdown",
   "metadata": {},
   "source": [
    "### 1.3.5 列と行の抽出"
   ]
  },
  {
   "cell_type": "code",
   "execution_count": 36,
   "metadata": {},
   "outputs": [
    {
     "name": "stdout",
     "output_type": "stream",
     "text": [
      "shape: (1,)\n",
      "Series: 'country' [str]\n",
      "[\n",
      "\t\"Angola\"\n",
      "]\n",
      "shape: (1, 1)\n",
      "┌─────────────┐\n",
      "│ country     │\n",
      "│ ---         │\n",
      "│ str         │\n",
      "╞═════════════╡\n",
      "│ Afghanistan │\n",
      "└─────────────┘\n",
      "Angola\n"
     ]
    }
   ],
   "source": [
    "#print( df.loc[42, \"country\"] )\n",
    "#print( df.iloc[42, 0] )\n",
    "\n",
    "print( df[42][\"country\"] )\n",
    "print( df.select( pl.col(\"country\") )[0] )\n",
    "#下記の書き方がこの節でのpandasのコードに対応している\n",
    "print( df[42, 0] )"
   ]
  },
  {
   "cell_type": "code",
   "execution_count": 37,
   "metadata": {},
   "outputs": [
    {
     "name": "stdout",
     "output_type": "stream",
     "text": [
      "shape: (3, 3)\n",
      "┌─────────────┬─────────┬────────────┐\n",
      "│ country     ┆ lifeExp ┆ gdpPercap  │\n",
      "│ ---         ┆ ---     ┆ ---        │\n",
      "│ str         ┆ f64     ┆ f64        │\n",
      "╞═════════════╪═════════╪════════════╡\n",
      "│ Afghanistan ┆ 28.801  ┆ 779.445314 │\n",
      "│ Bangladesh  ┆ 43.453  ┆ 721.186086 │\n",
      "│ Mongolia    ┆ 51.253  ┆ 1226.04113 │\n",
      "└─────────────┴─────────┴────────────┘\n",
      "shape: (3, 3)\n",
      "┌─────────────┬─────────┬────────────┐\n",
      "│ country     ┆ lifeExp ┆ gdpPercap  │\n",
      "│ ---         ┆ ---     ┆ ---        │\n",
      "│ str         ┆ f64     ┆ f64        │\n",
      "╞═════════════╪═════════╪════════════╡\n",
      "│ Afghanistan ┆ 28.801  ┆ 779.445314 │\n",
      "│ Bangladesh  ┆ 43.453  ┆ 721.186086 │\n",
      "│ Mongolia    ┆ 51.253  ┆ 1226.04113 │\n",
      "└─────────────┴─────────┴────────────┘\n",
      "shape: (3, 3)\n",
      "┌─────────────┬─────────┬────────────┐\n",
      "│ country     ┆ lifeExp ┆ gdpPercap  │\n",
      "│ ---         ┆ ---     ┆ ---        │\n",
      "│ str         ┆ f64     ┆ f64        │\n",
      "╞═════════════╪═════════╪════════════╡\n",
      "│ Afghanistan ┆ 28.801  ┆ 779.445314 │\n",
      "│ Bangladesh  ┆ 43.453  ┆ 721.186086 │\n",
      "│ Mongolia    ┆ 51.253  ┆ 1226.04113 │\n",
      "└─────────────┴─────────┴────────────┘\n"
     ]
    }
   ],
   "source": [
    "#print( df.iloc[ [0, 99, 999], [0, 3, 5] ] )\n",
    "print( df[ [0, 99, 999], [0, 3, 5] ] )\n",
    "\n",
    "#print( df.loc[ [0, 99, 999], [\"country\", \"lifeExp\", \"gdpPercap\"] ] )\n",
    "print( df[ [0, 99, 999], [\"country\", \"lifeExp\", \"gdpPercap\"] ] )\n",
    "\n",
    "print( df[ [0, 99, 999] ]\n",
    "      .select([pl.col(\"country\"),\n",
    "                pl.col(\"lifeExp\"),\n",
    "                  pl.col(\"gdpPercap\")\n",
    "                  ])\n",
    "                    )"
   ]
  },
  {
   "cell_type": "markdown",
   "metadata": {},
   "source": [
    "## 1.4 グループ分けと集約の計算"
   ]
  },
  {
   "cell_type": "code",
   "execution_count": 38,
   "metadata": {},
   "outputs": [
    {
     "name": "stdout",
     "output_type": "stream",
     "text": [
      "shape: (1_704, 6)\n",
      "┌─────────────┬───────────┬──────┬─────────┬──────────┬────────────┐\n",
      "│ country     ┆ continent ┆ year ┆ lifeExp ┆ pop      ┆ gdpPercap  │\n",
      "│ ---         ┆ ---       ┆ ---  ┆ ---     ┆ ---      ┆ ---        │\n",
      "│ str         ┆ str       ┆ i64  ┆ f64     ┆ i64      ┆ f64        │\n",
      "╞═════════════╪═══════════╪══════╪═════════╪══════════╪════════════╡\n",
      "│ Afghanistan ┆ Asia      ┆ 1952 ┆ 28.801  ┆ 8425333  ┆ 779.445314 │\n",
      "│ Afghanistan ┆ Asia      ┆ 1957 ┆ 30.332  ┆ 9240934  ┆ 820.85303  │\n",
      "│ Afghanistan ┆ Asia      ┆ 1962 ┆ 31.997  ┆ 10267083 ┆ 853.10071  │\n",
      "│ Afghanistan ┆ Asia      ┆ 1967 ┆ 34.02   ┆ 11537966 ┆ 836.197138 │\n",
      "│ …           ┆ …         ┆ …    ┆ …       ┆ …        ┆ …          │\n",
      "│ Zimbabwe    ┆ Africa    ┆ 1992 ┆ 60.377  ┆ 10704340 ┆ 693.420786 │\n",
      "│ Zimbabwe    ┆ Africa    ┆ 1997 ┆ 46.809  ┆ 11404948 ┆ 792.44996  │\n",
      "│ Zimbabwe    ┆ Africa    ┆ 2002 ┆ 39.989  ┆ 11926563 ┆ 672.038623 │\n",
      "│ Zimbabwe    ┆ Africa    ┆ 2007 ┆ 43.487  ┆ 12311143 ┆ 469.709298 │\n",
      "└─────────────┴───────────┴──────┴─────────┴──────────┴────────────┘\n"
     ]
    }
   ],
   "source": [
    "print(df)"
   ]
  },
  {
   "cell_type": "markdown",
   "metadata": {},
   "source": [
    "### 1.4.1 グループごとの平均値"
   ]
  },
  {
   "cell_type": "code",
   "execution_count": 39,
   "metadata": {},
   "outputs": [
    {
     "name": "stdout",
     "output_type": "stream",
     "text": [
      "shape: (12, 2)\n",
      "┌──────┬───────────┐\n",
      "│ year ┆ lifeExp   │\n",
      "│ ---  ┆ ---       │\n",
      "│ i64  ┆ f64       │\n",
      "╞══════╪═══════════╡\n",
      "│ 1967 ┆ 55.67829  │\n",
      "│ 1992 ┆ 64.160338 │\n",
      "│ 1982 ┆ 61.533197 │\n",
      "│ 2007 ┆ 67.007423 │\n",
      "│ …    ┆ …         │\n",
      "│ 1987 ┆ 63.212613 │\n",
      "│ 1962 ┆ 53.609249 │\n",
      "│ 2002 ┆ 65.694923 │\n",
      "│ 1977 ┆ 59.570157 │\n",
      "└──────┴───────────┘\n"
     ]
    }
   ],
   "source": [
    "print( df.group_by(\"year\").agg( pl.col(\"lifeExp\").mean() ) )"
   ]
  },
  {
   "cell_type": "code",
   "execution_count": 40,
   "metadata": {},
   "outputs": [
    {
     "name": "stdout",
     "output_type": "stream",
     "text": [
      "<class 'polars.dataframe.group_by.GroupBy'>\n"
     ]
    }
   ],
   "source": [
    "grouped_year_df = df.group_by(\"year\")\n",
    "print( type(grouped_year_df) )"
   ]
  },
  {
   "cell_type": "code",
   "execution_count": 41,
   "metadata": {},
   "outputs": [
    {
     "name": "stdout",
     "output_type": "stream",
     "text": [
      "<polars.dataframe.group_by.GroupBy object at 0x0000013D44F94050>\n"
     ]
    }
   ],
   "source": [
    "print(grouped_year_df)"
   ]
  },
  {
   "cell_type": "code",
   "execution_count": 42,
   "metadata": {},
   "outputs": [
    {
     "name": "stdout",
     "output_type": "stream",
     "text": [
      "1977\n",
      "shape: (142, 6)\n",
      "┌────────────────────┬───────────┬──────┬─────────┬──────────┬─────────────┐\n",
      "│ country            ┆ continent ┆ year ┆ lifeExp ┆ pop      ┆ gdpPercap   │\n",
      "│ ---                ┆ ---       ┆ ---  ┆ ---     ┆ ---      ┆ ---         │\n",
      "│ str                ┆ str       ┆ i64  ┆ f64     ┆ i64      ┆ f64         │\n",
      "╞════════════════════╪═══════════╪══════╪═════════╪══════════╪═════════════╡\n",
      "│ Afghanistan        ┆ Asia      ┆ 1977 ┆ 38.438  ┆ 14880372 ┆ 786.11336   │\n",
      "│ Albania            ┆ Europe    ┆ 1977 ┆ 68.93   ┆ 2509048  ┆ 3533.00391  │\n",
      "│ Algeria            ┆ Africa    ┆ 1977 ┆ 58.014  ┆ 17152804 ┆ 4910.416756 │\n",
      "│ Angola             ┆ Africa    ┆ 1977 ┆ 39.483  ┆ 6162675  ┆ 3008.647355 │\n",
      "│ …                  ┆ …         ┆ …    ┆ …       ┆ …        ┆ …           │\n",
      "│ West Bank and Gaza ┆ Asia      ┆ 1977 ┆ 60.765  ┆ 1261091  ┆ 3682.831494 │\n",
      "│ Yemen, Rep.        ┆ Asia      ┆ 1977 ┆ 44.175  ┆ 8403990  ┆ 1829.765177 │\n",
      "│ Zambia             ┆ Africa    ┆ 1977 ┆ 51.386  ┆ 5216550  ┆ 1588.688299 │\n",
      "│ Zimbabwe           ┆ Africa    ┆ 1977 ┆ 57.674  ┆ 6642107  ┆ 685.587682  │\n",
      "└────────────────────┴───────────┴──────┴─────────┴──────────┴─────────────┘\n",
      "1992\n",
      "shape: (142, 6)\n",
      "┌────────────────────┬───────────┬──────┬─────────┬──────────┬─────────────┐\n",
      "│ country            ┆ continent ┆ year ┆ lifeExp ┆ pop      ┆ gdpPercap   │\n",
      "│ ---                ┆ ---       ┆ ---  ┆ ---     ┆ ---      ┆ ---         │\n",
      "│ str                ┆ str       ┆ i64  ┆ f64     ┆ i64      ┆ f64         │\n",
      "╞════════════════════╪═══════════╪══════╪═════════╪══════════╪═════════════╡\n",
      "│ Afghanistan        ┆ Asia      ┆ 1992 ┆ 41.674  ┆ 16317921 ┆ 649.341395  │\n",
      "│ Albania            ┆ Europe    ┆ 1992 ┆ 71.581  ┆ 3326498  ┆ 2497.437901 │\n",
      "│ Algeria            ┆ Africa    ┆ 1992 ┆ 67.744  ┆ 26298373 ┆ 5023.216647 │\n",
      "│ Angola             ┆ Africa    ┆ 1992 ┆ 40.647  ┆ 8735988  ┆ 2627.845685 │\n",
      "│ …                  ┆ …         ┆ …    ┆ …       ┆ …        ┆ …           │\n",
      "│ West Bank and Gaza ┆ Asia      ┆ 1992 ┆ 69.718  ┆ 2104779  ┆ 6017.654756 │\n",
      "│ Yemen, Rep.        ┆ Asia      ┆ 1992 ┆ 55.599  ┆ 13367997 ┆ 1879.496673 │\n",
      "│ Zambia             ┆ Africa    ┆ 1992 ┆ 46.1    ┆ 8381163  ┆ 1210.884633 │\n",
      "│ Zimbabwe           ┆ Africa    ┆ 1992 ┆ 60.377  ┆ 10704340 ┆ 693.420786  │\n",
      "└────────────────────┴───────────┴──────┴─────────┴──────────┴─────────────┘\n",
      "2007\n",
      "shape: (142, 6)\n",
      "┌────────────────────┬───────────┬──────┬─────────┬──────────┬─────────────┐\n",
      "│ country            ┆ continent ┆ year ┆ lifeExp ┆ pop      ┆ gdpPercap   │\n",
      "│ ---                ┆ ---       ┆ ---  ┆ ---     ┆ ---      ┆ ---         │\n",
      "│ str                ┆ str       ┆ i64  ┆ f64     ┆ i64      ┆ f64         │\n",
      "╞════════════════════╪═══════════╪══════╪═════════╪══════════╪═════════════╡\n",
      "│ Afghanistan        ┆ Asia      ┆ 2007 ┆ 43.828  ┆ 31889923 ┆ 974.580338  │\n",
      "│ Albania            ┆ Europe    ┆ 2007 ┆ 76.423  ┆ 3600523  ┆ 5937.029526 │\n",
      "│ Algeria            ┆ Africa    ┆ 2007 ┆ 72.301  ┆ 33333216 ┆ 6223.367465 │\n",
      "│ Angola             ┆ Africa    ┆ 2007 ┆ 42.731  ┆ 12420476 ┆ 4797.231267 │\n",
      "│ …                  ┆ …         ┆ …    ┆ …       ┆ …        ┆ …           │\n",
      "│ West Bank and Gaza ┆ Asia      ┆ 2007 ┆ 73.422  ┆ 4018332  ┆ 3025.349798 │\n",
      "│ Yemen, Rep.        ┆ Asia      ┆ 2007 ┆ 62.698  ┆ 22211743 ┆ 2280.769906 │\n",
      "│ Zambia             ┆ Africa    ┆ 2007 ┆ 42.384  ┆ 11746035 ┆ 1271.211593 │\n",
      "│ Zimbabwe           ┆ Africa    ┆ 2007 ┆ 43.487  ┆ 12311143 ┆ 469.709298  │\n",
      "└────────────────────┴───────────┴──────┴─────────┴──────────┴─────────────┘\n",
      "1957\n",
      "shape: (142, 6)\n",
      "┌────────────────────┬───────────┬──────┬─────────┬──────────┬─────────────┐\n",
      "│ country            ┆ continent ┆ year ┆ lifeExp ┆ pop      ┆ gdpPercap   │\n",
      "│ ---                ┆ ---       ┆ ---  ┆ ---     ┆ ---      ┆ ---         │\n",
      "│ str                ┆ str       ┆ i64  ┆ f64     ┆ i64      ┆ f64         │\n",
      "╞════════════════════╪═══════════╪══════╪═════════╪══════════╪═════════════╡\n",
      "│ Afghanistan        ┆ Asia      ┆ 1957 ┆ 30.332  ┆ 9240934  ┆ 820.85303   │\n",
      "│ Albania            ┆ Europe    ┆ 1957 ┆ 59.28   ┆ 1476505  ┆ 1942.284244 │\n",
      "│ Algeria            ┆ Africa    ┆ 1957 ┆ 45.685  ┆ 10270856 ┆ 3013.976023 │\n",
      "│ Angola             ┆ Africa    ┆ 1957 ┆ 31.999  ┆ 4561361  ┆ 3827.940465 │\n",
      "│ …                  ┆ …         ┆ …    ┆ …       ┆ …        ┆ …           │\n",
      "│ West Bank and Gaza ┆ Asia      ┆ 1957 ┆ 45.671  ┆ 1070439  ┆ 1827.067742 │\n",
      "│ Yemen, Rep.        ┆ Asia      ┆ 1957 ┆ 33.97   ┆ 5498090  ┆ 804.830455  │\n",
      "│ Zambia             ┆ Africa    ┆ 1957 ┆ 44.077  ┆ 3016000  ┆ 1311.956766 │\n",
      "│ Zimbabwe           ┆ Africa    ┆ 1957 ┆ 50.469  ┆ 3646340  ┆ 518.764268  │\n",
      "└────────────────────┴───────────┴──────┴─────────┴──────────┴─────────────┘\n",
      "1972\n",
      "shape: (142, 6)\n",
      "┌────────────────────┬───────────┬──────┬─────────┬──────────┬─────────────┐\n",
      "│ country            ┆ continent ┆ year ┆ lifeExp ┆ pop      ┆ gdpPercap   │\n",
      "│ ---                ┆ ---       ┆ ---  ┆ ---     ┆ ---      ┆ ---         │\n",
      "│ str                ┆ str       ┆ i64  ┆ f64     ┆ i64      ┆ f64         │\n",
      "╞════════════════════╪═══════════╪══════╪═════════╪══════════╪═════════════╡\n",
      "│ Afghanistan        ┆ Asia      ┆ 1972 ┆ 36.088  ┆ 13079460 ┆ 739.981106  │\n",
      "│ Albania            ┆ Europe    ┆ 1972 ┆ 67.69   ┆ 2263554  ┆ 3313.422188 │\n",
      "│ Algeria            ┆ Africa    ┆ 1972 ┆ 54.518  ┆ 14760787 ┆ 4182.663766 │\n",
      "│ Angola             ┆ Africa    ┆ 1972 ┆ 37.928  ┆ 5894858  ┆ 5473.288005 │\n",
      "│ …                  ┆ …         ┆ …    ┆ …       ┆ …        ┆ …           │\n",
      "│ West Bank and Gaza ┆ Asia      ┆ 1972 ┆ 56.532  ┆ 1089572  ┆ 3133.409277 │\n",
      "│ Yemen, Rep.        ┆ Asia      ┆ 1972 ┆ 39.848  ┆ 7407075  ┆ 1265.047031 │\n",
      "│ Zambia             ┆ Africa    ┆ 1972 ┆ 50.107  ┆ 4506497  ┆ 1773.498265 │\n",
      "│ Zimbabwe           ┆ Africa    ┆ 1972 ┆ 55.635  ┆ 5861135  ┆ 799.362176  │\n",
      "└────────────────────┴───────────┴──────┴─────────┴──────────┴─────────────┘\n",
      "1987\n",
      "shape: (142, 6)\n",
      "┌────────────────────┬───────────┬──────┬─────────┬──────────┬─────────────┐\n",
      "│ country            ┆ continent ┆ year ┆ lifeExp ┆ pop      ┆ gdpPercap   │\n",
      "│ ---                ┆ ---       ┆ ---  ┆ ---     ┆ ---      ┆ ---         │\n",
      "│ str                ┆ str       ┆ i64  ┆ f64     ┆ i64      ┆ f64         │\n",
      "╞════════════════════╪═══════════╪══════╪═════════╪══════════╪═════════════╡\n",
      "│ Afghanistan        ┆ Asia      ┆ 1987 ┆ 40.822  ┆ 13867957 ┆ 852.395945  │\n",
      "│ Albania            ┆ Europe    ┆ 1987 ┆ 72.0    ┆ 3075321  ┆ 3738.932735 │\n",
      "│ Algeria            ┆ Africa    ┆ 1987 ┆ 65.799  ┆ 23254956 ┆ 5681.358539 │\n",
      "│ Angola             ┆ Africa    ┆ 1987 ┆ 39.906  ┆ 7874230  ┆ 2430.208311 │\n",
      "│ …                  ┆ …         ┆ …    ┆ …       ┆ …        ┆ …           │\n",
      "│ West Bank and Gaza ┆ Asia      ┆ 1987 ┆ 67.046  ┆ 1691210  ┆ 5107.197384 │\n",
      "│ Yemen, Rep.        ┆ Asia      ┆ 1987 ┆ 52.922  ┆ 11219340 ┆ 1971.741538 │\n",
      "│ Zambia             ┆ Africa    ┆ 1987 ┆ 50.821  ┆ 7272406  ┆ 1213.315116 │\n",
      "│ Zimbabwe           ┆ Africa    ┆ 1987 ┆ 62.351  ┆ 9216418  ┆ 706.157306  │\n",
      "└────────────────────┴───────────┴──────┴─────────┴──────────┴─────────────┘\n",
      "2002\n",
      "shape: (142, 6)\n",
      "┌────────────────────┬───────────┬──────┬─────────┬──────────┬─────────────┐\n",
      "│ country            ┆ continent ┆ year ┆ lifeExp ┆ pop      ┆ gdpPercap   │\n",
      "│ ---                ┆ ---       ┆ ---  ┆ ---     ┆ ---      ┆ ---         │\n",
      "│ str                ┆ str       ┆ i64  ┆ f64     ┆ i64      ┆ f64         │\n",
      "╞════════════════════╪═══════════╪══════╪═════════╪══════════╪═════════════╡\n",
      "│ Afghanistan        ┆ Asia      ┆ 2002 ┆ 42.129  ┆ 25268405 ┆ 726.734055  │\n",
      "│ Albania            ┆ Europe    ┆ 2002 ┆ 75.651  ┆ 3508512  ┆ 4604.211737 │\n",
      "│ Algeria            ┆ Africa    ┆ 2002 ┆ 70.994  ┆ 31287142 ┆ 5288.040382 │\n",
      "│ Angola             ┆ Africa    ┆ 2002 ┆ 41.003  ┆ 10866106 ┆ 2773.287312 │\n",
      "│ …                  ┆ …         ┆ …    ┆ …       ┆ …        ┆ …           │\n",
      "│ West Bank and Gaza ┆ Asia      ┆ 2002 ┆ 72.37   ┆ 3389578  ┆ 4515.487575 │\n",
      "│ Yemen, Rep.        ┆ Asia      ┆ 2002 ┆ 60.308  ┆ 18701257 ┆ 2234.820827 │\n",
      "│ Zambia             ┆ Africa    ┆ 2002 ┆ 39.193  ┆ 10595811 ┆ 1071.613938 │\n",
      "│ Zimbabwe           ┆ Africa    ┆ 2002 ┆ 39.989  ┆ 11926563 ┆ 672.038623  │\n",
      "└────────────────────┴───────────┴──────┴─────────┴──────────┴─────────────┘\n",
      "1952\n",
      "shape: (142, 6)\n",
      "┌────────────────────┬───────────┬──────┬─────────┬─────────┬─────────────┐\n",
      "│ country            ┆ continent ┆ year ┆ lifeExp ┆ pop     ┆ gdpPercap   │\n",
      "│ ---                ┆ ---       ┆ ---  ┆ ---     ┆ ---     ┆ ---         │\n",
      "│ str                ┆ str       ┆ i64  ┆ f64     ┆ i64     ┆ f64         │\n",
      "╞════════════════════╪═══════════╪══════╪═════════╪═════════╪═════════════╡\n",
      "│ Afghanistan        ┆ Asia      ┆ 1952 ┆ 28.801  ┆ 8425333 ┆ 779.445314  │\n",
      "│ Albania            ┆ Europe    ┆ 1952 ┆ 55.23   ┆ 1282697 ┆ 1601.056136 │\n",
      "│ Algeria            ┆ Africa    ┆ 1952 ┆ 43.077  ┆ 9279525 ┆ 2449.008185 │\n",
      "│ Angola             ┆ Africa    ┆ 1952 ┆ 30.015  ┆ 4232095 ┆ 3520.610273 │\n",
      "│ …                  ┆ …         ┆ …    ┆ …       ┆ …       ┆ …           │\n",
      "│ West Bank and Gaza ┆ Asia      ┆ 1952 ┆ 43.16   ┆ 1030585 ┆ 1515.592329 │\n",
      "│ Yemen, Rep.        ┆ Asia      ┆ 1952 ┆ 32.548  ┆ 4963829 ┆ 781.717576  │\n",
      "│ Zambia             ┆ Africa    ┆ 1952 ┆ 42.038  ┆ 2672000 ┆ 1147.388831 │\n",
      "│ Zimbabwe           ┆ Africa    ┆ 1952 ┆ 48.451  ┆ 3080907 ┆ 406.884115  │\n",
      "└────────────────────┴───────────┴──────┴─────────┴─────────┴─────────────┘\n",
      "1982\n",
      "shape: (142, 6)\n",
      "┌────────────────────┬───────────┬──────┬─────────┬──────────┬─────────────┐\n",
      "│ country            ┆ continent ┆ year ┆ lifeExp ┆ pop      ┆ gdpPercap   │\n",
      "│ ---                ┆ ---       ┆ ---  ┆ ---     ┆ ---      ┆ ---         │\n",
      "│ str                ┆ str       ┆ i64  ┆ f64     ┆ i64      ┆ f64         │\n",
      "╞════════════════════╪═══════════╪══════╪═════════╪══════════╪═════════════╡\n",
      "│ Afghanistan        ┆ Asia      ┆ 1982 ┆ 39.854  ┆ 12881816 ┆ 978.011439  │\n",
      "│ Albania            ┆ Europe    ┆ 1982 ┆ 70.42   ┆ 2780097  ┆ 3630.880722 │\n",
      "│ Algeria            ┆ Africa    ┆ 1982 ┆ 61.368  ┆ 20033753 ┆ 5745.160213 │\n",
      "│ Angola             ┆ Africa    ┆ 1982 ┆ 39.942  ┆ 7016384  ┆ 2756.953672 │\n",
      "│ …                  ┆ …         ┆ …    ┆ …       ┆ …        ┆ …           │\n",
      "│ West Bank and Gaza ┆ Asia      ┆ 1982 ┆ 64.406  ┆ 1425876  ┆ 4336.032082 │\n",
      "│ Yemen, Rep.        ┆ Asia      ┆ 1982 ┆ 49.113  ┆ 9657618  ┆ 1977.55701  │\n",
      "│ Zambia             ┆ Africa    ┆ 1982 ┆ 51.821  ┆ 6100407  ┆ 1408.678565 │\n",
      "│ Zimbabwe           ┆ Africa    ┆ 1982 ┆ 60.363  ┆ 7636524  ┆ 788.855041  │\n",
      "└────────────────────┴───────────┴──────┴─────────┴──────────┴─────────────┘\n",
      "1997\n",
      "shape: (142, 6)\n",
      "┌────────────────────┬───────────┬──────┬─────────┬──────────┬─────────────┐\n",
      "│ country            ┆ continent ┆ year ┆ lifeExp ┆ pop      ┆ gdpPercap   │\n",
      "│ ---                ┆ ---       ┆ ---  ┆ ---     ┆ ---      ┆ ---         │\n",
      "│ str                ┆ str       ┆ i64  ┆ f64     ┆ i64      ┆ f64         │\n",
      "╞════════════════════╪═══════════╪══════╪═════════╪══════════╪═════════════╡\n",
      "│ Afghanistan        ┆ Asia      ┆ 1997 ┆ 41.763  ┆ 22227415 ┆ 635.341351  │\n",
      "│ Albania            ┆ Europe    ┆ 1997 ┆ 72.95   ┆ 3428038  ┆ 3193.054604 │\n",
      "│ Algeria            ┆ Africa    ┆ 1997 ┆ 69.152  ┆ 29072015 ┆ 4797.295051 │\n",
      "│ Angola             ┆ Africa    ┆ 1997 ┆ 40.963  ┆ 9875024  ┆ 2277.140884 │\n",
      "│ …                  ┆ …         ┆ …    ┆ …       ┆ …        ┆ …           │\n",
      "│ West Bank and Gaza ┆ Asia      ┆ 1997 ┆ 71.096  ┆ 2826046  ┆ 7110.667619 │\n",
      "│ Yemen, Rep.        ┆ Asia      ┆ 1997 ┆ 58.02   ┆ 15826497 ┆ 2117.484526 │\n",
      "│ Zambia             ┆ Africa    ┆ 1997 ┆ 40.238  ┆ 9417789  ┆ 1071.353818 │\n",
      "│ Zimbabwe           ┆ Africa    ┆ 1997 ┆ 46.809  ┆ 11404948 ┆ 792.44996   │\n",
      "└────────────────────┴───────────┴──────┴─────────┴──────────┴─────────────┘\n",
      "1967\n",
      "shape: (142, 6)\n",
      "┌────────────────────┬───────────┬──────┬─────────┬──────────┬─────────────┐\n",
      "│ country            ┆ continent ┆ year ┆ lifeExp ┆ pop      ┆ gdpPercap   │\n",
      "│ ---                ┆ ---       ┆ ---  ┆ ---     ┆ ---      ┆ ---         │\n",
      "│ str                ┆ str       ┆ i64  ┆ f64     ┆ i64      ┆ f64         │\n",
      "╞════════════════════╪═══════════╪══════╪═════════╪══════════╪═════════════╡\n",
      "│ Afghanistan        ┆ Asia      ┆ 1967 ┆ 34.02   ┆ 11537966 ┆ 836.197138  │\n",
      "│ Albania            ┆ Europe    ┆ 1967 ┆ 66.22   ┆ 1984060  ┆ 2760.196931 │\n",
      "│ Algeria            ┆ Africa    ┆ 1967 ┆ 51.407  ┆ 12760499 ┆ 3246.991771 │\n",
      "│ Angola             ┆ Africa    ┆ 1967 ┆ 35.985  ┆ 5247469  ┆ 5522.776375 │\n",
      "│ …                  ┆ …         ┆ …    ┆ …       ┆ …        ┆ …           │\n",
      "│ West Bank and Gaza ┆ Asia      ┆ 1967 ┆ 51.631  ┆ 1142636  ┆ 2649.715007 │\n",
      "│ Yemen, Rep.        ┆ Asia      ┆ 1967 ┆ 36.984  ┆ 6740785  ┆ 862.442146  │\n",
      "│ Zambia             ┆ Africa    ┆ 1967 ┆ 47.768  ┆ 3900000  ┆ 1777.077318 │\n",
      "│ Zimbabwe           ┆ Africa    ┆ 1967 ┆ 53.995  ┆ 4995432  ┆ 569.795071  │\n",
      "└────────────────────┴───────────┴──────┴─────────┴──────────┴─────────────┘\n",
      "1962\n",
      "shape: (142, 6)\n",
      "┌────────────────────┬───────────┬──────┬─────────┬──────────┬─────────────┐\n",
      "│ country            ┆ continent ┆ year ┆ lifeExp ┆ pop      ┆ gdpPercap   │\n",
      "│ ---                ┆ ---       ┆ ---  ┆ ---     ┆ ---      ┆ ---         │\n",
      "│ str                ┆ str       ┆ i64  ┆ f64     ┆ i64      ┆ f64         │\n",
      "╞════════════════════╪═══════════╪══════╪═════════╪══════════╪═════════════╡\n",
      "│ Afghanistan        ┆ Asia      ┆ 1962 ┆ 31.997  ┆ 10267083 ┆ 853.10071   │\n",
      "│ Albania            ┆ Europe    ┆ 1962 ┆ 64.82   ┆ 1728137  ┆ 2312.888958 │\n",
      "│ Algeria            ┆ Africa    ┆ 1962 ┆ 48.303  ┆ 11000948 ┆ 2550.81688  │\n",
      "│ Angola             ┆ Africa    ┆ 1962 ┆ 34.0    ┆ 4826015  ┆ 4269.276742 │\n",
      "│ …                  ┆ …         ┆ …    ┆ …       ┆ …        ┆ …           │\n",
      "│ West Bank and Gaza ┆ Asia      ┆ 1962 ┆ 48.127  ┆ 1133134  ┆ 2198.956312 │\n",
      "│ Yemen, Rep.        ┆ Asia      ┆ 1962 ┆ 35.18   ┆ 6120081  ┆ 825.623201  │\n",
      "│ Zambia             ┆ Africa    ┆ 1962 ┆ 46.023  ┆ 3421000  ┆ 1452.725766 │\n",
      "│ Zimbabwe           ┆ Africa    ┆ 1962 ┆ 52.358  ┆ 4277736  ┆ 527.272182  │\n",
      "└────────────────────┴───────────┴──────┴─────────┴──────────┴─────────────┘\n"
     ]
    }
   ],
   "source": [
    "#grouped_year_df_lifeExp = grouped_year_df[\"lifeExp\"]\n",
    "#print( type(grouped_year_df_lifeExp) )\n",
    "for name, data in df.group_by(\"year\"):  \n",
    "    print(name)\n",
    "    print(data)"
   ]
  },
  {
   "cell_type": "code",
   "execution_count": 43,
   "metadata": {},
   "outputs": [
    {
     "name": "stdout",
     "output_type": "stream",
     "text": [
      "<class 'polars.dataframe.frame.DataFrame'>\n"
     ]
    }
   ],
   "source": [
    "grouped_year_df_lifeExp = grouped_year_df\\\n",
    "    .agg( pl.col(\"lifeExp\").mean() )\n",
    "print( type(grouped_year_df_lifeExp) )"
   ]
  },
  {
   "cell_type": "code",
   "execution_count": 44,
   "metadata": {},
   "outputs": [
    {
     "name": "stdout",
     "output_type": "stream",
     "text": [
      "shape: (12, 2)\n",
      "┌──────┬───────────┐\n",
      "│ year ┆ lifeExp   │\n",
      "│ ---  ┆ ---       │\n",
      "│ i64  ┆ f64       │\n",
      "╞══════╪═══════════╡\n",
      "│ 1982 ┆ 61.533197 │\n",
      "│ 1952 ┆ 49.05762  │\n",
      "│ 2002 ┆ 65.694923 │\n",
      "│ 1997 ┆ 65.014676 │\n",
      "│ …    ┆ …         │\n",
      "│ 1992 ┆ 64.160338 │\n",
      "│ 1987 ┆ 63.212613 │\n",
      "│ 1967 ┆ 55.67829  │\n",
      "│ 1957 ┆ 51.507401 │\n",
      "└──────┴───────────┘\n"
     ]
    }
   ],
   "source": [
    "print(grouped_year_df_lifeExp)"
   ]
  },
  {
   "cell_type": "code",
   "execution_count": 45,
   "metadata": {},
   "outputs": [
    {
     "name": "stdout",
     "output_type": "stream",
     "text": [
      "shape: (60, 4)\n",
      "┌──────┬───────────┬───────────┬──────────────┐\n",
      "│ year ┆ continent ┆ lifeExp   ┆ gdpPercap    │\n",
      "│ ---  ┆ ---       ┆ ---       ┆ ---          │\n",
      "│ i64  ┆ str       ┆ f64       ┆ f64          │\n",
      "╞══════╪═══════════╪═══════════╪══════════════╡\n",
      "│ 1952 ┆ Americas  ┆ 53.27984  ┆ 4079.062552  │\n",
      "│ 1952 ┆ Africa    ┆ 39.1355   ┆ 1252.572466  │\n",
      "│ 1952 ┆ Europe    ┆ 64.4085   ┆ 5661.057435  │\n",
      "│ 1952 ┆ Asia      ┆ 46.314394 ┆ 5195.484004  │\n",
      "│ …    ┆ …         ┆ …         ┆ …            │\n",
      "│ 2007 ┆ Americas  ┆ 73.60812  ┆ 11003.031625 │\n",
      "│ 2007 ┆ Asia      ┆ 70.728485 ┆ 12473.02687  │\n",
      "│ 2007 ┆ Oceania   ┆ 80.7195   ┆ 29810.188275 │\n",
      "│ 2007 ┆ Europe    ┆ 77.6486   ┆ 25054.481636 │\n",
      "└──────┴───────────┴───────────┴──────────────┘\n"
     ]
    }
   ],
   "source": [
    "multi_group_var = df\\\n",
    "    .group_by([\"year\", \"continent\"])\\\n",
    "    .agg([ pl.col(\"lifeExp\").mean(), pl.mean(\"gdpPercap\")])\\\n",
    "    .sort(by = \"year\")\n",
    "print(multi_group_var)"
   ]
  },
  {
   "cell_type": "code",
   "execution_count": 46,
   "metadata": {},
   "outputs": [
    {
     "data": {
      "text/html": [
       "<div><style>\n",
       ".dataframe > thead > tr,\n",
       ".dataframe > tbody > tr {\n",
       "  text-align: right;\n",
       "  white-space: pre-wrap;\n",
       "}\n",
       "</style>\n",
       "<small>shape: (60, 4)</small><table border=\"1\" class=\"dataframe\"><thead><tr><th>year</th><th>continent</th><th>lifeExp</th><th>gdpPercap</th></tr><tr><td>i64</td><td>str</td><td>f64</td><td>f64</td></tr></thead><tbody><tr><td>1952</td><td>&quot;Americas&quot;</td><td>53.27984</td><td>4079.062552</td></tr><tr><td>1952</td><td>&quot;Africa&quot;</td><td>39.1355</td><td>1252.572466</td></tr><tr><td>1952</td><td>&quot;Europe&quot;</td><td>64.4085</td><td>5661.057435</td></tr><tr><td>1952</td><td>&quot;Asia&quot;</td><td>46.314394</td><td>5195.484004</td></tr><tr><td>1952</td><td>&quot;Oceania&quot;</td><td>69.255</td><td>10298.08565</td></tr><tr><td>1957</td><td>&quot;Africa&quot;</td><td>41.266346</td><td>1385.236062</td></tr><tr><td>1957</td><td>&quot;Oceania&quot;</td><td>70.295</td><td>11598.522455</td></tr><tr><td>1957</td><td>&quot;Americas&quot;</td><td>55.96028</td><td>4616.043733</td></tr><tr><td>1957</td><td>&quot;Asia&quot;</td><td>49.318544</td><td>5787.73294</td></tr><tr><td>1957</td><td>&quot;Europe&quot;</td><td>66.703067</td><td>6963.012816</td></tr><tr><td>1962</td><td>&quot;Africa&quot;</td><td>43.319442</td><td>1598.078825</td></tr><tr><td>1962</td><td>&quot;Americas&quot;</td><td>58.39876</td><td>4901.54187</td></tr><tr><td>&hellip;</td><td>&hellip;</td><td>&hellip;</td><td>&hellip;</td></tr><tr><td>1997</td><td>&quot;Africa&quot;</td><td>53.598269</td><td>2378.759555</td></tr><tr><td>1997</td><td>&quot;Americas&quot;</td><td>71.15048</td><td>8889.300863</td></tr><tr><td>2002</td><td>&quot;Africa&quot;</td><td>53.325231</td><td>2599.385159</td></tr><tr><td>2002</td><td>&quot;Asia&quot;</td><td>69.233879</td><td>10174.090397</td></tr><tr><td>2002</td><td>&quot;Oceania&quot;</td><td>79.74</td><td>26938.77804</td></tr><tr><td>2002</td><td>&quot;Americas&quot;</td><td>72.42204</td><td>9287.677107</td></tr><tr><td>2002</td><td>&quot;Europe&quot;</td><td>76.7006</td><td>21711.732422</td></tr><tr><td>2007</td><td>&quot;Africa&quot;</td><td>54.806038</td><td>3089.032605</td></tr><tr><td>2007</td><td>&quot;Americas&quot;</td><td>73.60812</td><td>11003.031625</td></tr><tr><td>2007</td><td>&quot;Asia&quot;</td><td>70.728485</td><td>12473.02687</td></tr><tr><td>2007</td><td>&quot;Oceania&quot;</td><td>80.7195</td><td>29810.188275</td></tr><tr><td>2007</td><td>&quot;Europe&quot;</td><td>77.6486</td><td>25054.481636</td></tr></tbody></table></div>"
      ],
      "text/plain": [
       "shape: (60, 4)\n",
       "┌──────┬───────────┬───────────┬──────────────┐\n",
       "│ year ┆ continent ┆ lifeExp   ┆ gdpPercap    │\n",
       "│ ---  ┆ ---       ┆ ---       ┆ ---          │\n",
       "│ i64  ┆ str       ┆ f64       ┆ f64          │\n",
       "╞══════╪═══════════╪═══════════╪══════════════╡\n",
       "│ 1952 ┆ Americas  ┆ 53.27984  ┆ 4079.062552  │\n",
       "│ 1952 ┆ Africa    ┆ 39.1355   ┆ 1252.572466  │\n",
       "│ 1952 ┆ Europe    ┆ 64.4085   ┆ 5661.057435  │\n",
       "│ 1952 ┆ Asia      ┆ 46.314394 ┆ 5195.484004  │\n",
       "│ …    ┆ …         ┆ …         ┆ …            │\n",
       "│ 2007 ┆ Americas  ┆ 73.60812  ┆ 11003.031625 │\n",
       "│ 2007 ┆ Asia      ┆ 70.728485 ┆ 12473.02687  │\n",
       "│ 2007 ┆ Oceania   ┆ 80.7195   ┆ 29810.188275 │\n",
       "│ 2007 ┆ Europe    ┆ 77.6486   ┆ 25054.481636 │\n",
       "└──────┴───────────┴───────────┴──────────────┘"
      ]
     },
     "execution_count": 46,
     "metadata": {},
     "output_type": "execute_result"
    }
   ],
   "source": [
    "multi_group_var"
   ]
  },
  {
   "cell_type": "markdown",
   "metadata": {},
   "source": [
    "### 1.4.22 グループごとの度数/頻度"
   ]
  },
  {
   "cell_type": "code",
   "execution_count": 47,
   "metadata": {},
   "outputs": [
    {
     "name": "stdout",
     "output_type": "stream",
     "text": [
      "shape: (5, 2)\n",
      "┌───────────┬─────────┐\n",
      "│ continent ┆ country │\n",
      "│ ---       ┆ ---     │\n",
      "│ str       ┆ u32     │\n",
      "╞═══════════╪═════════╡\n",
      "│ Africa    ┆ 52      │\n",
      "│ Americas  ┆ 25      │\n",
      "│ Asia      ┆ 33      │\n",
      "│ Europe    ┆ 30      │\n",
      "│ Oceania   ┆ 2       │\n",
      "└───────────┴─────────┘\n"
     ]
    }
   ],
   "source": [
    "#Count unique values.\n",
    "print( df.group_by(by = \"continent\").agg( pl.col(\"country\").n_unique() ).sort(by = \"continent\") )"
   ]
  },
  {
   "cell_type": "markdown",
   "metadata": {},
   "source": [
    "## 1.5 基本的なプロット"
   ]
  },
  {
   "cell_type": "code",
   "execution_count": 48,
   "metadata": {},
   "outputs": [
    {
     "name": "stdout",
     "output_type": "stream",
     "text": [
      "shape: (12, 2)\n",
      "┌──────┬───────────┐\n",
      "│ year ┆ lifeExp   │\n",
      "│ ---  ┆ ---       │\n",
      "│ i64  ┆ f64       │\n",
      "╞══════╪═══════════╡\n",
      "│ 1952 ┆ 49.05762  │\n",
      "│ 1957 ┆ 51.507401 │\n",
      "│ 1962 ┆ 53.609249 │\n",
      "│ 1967 ┆ 55.67829  │\n",
      "│ …    ┆ …         │\n",
      "│ 1992 ┆ 64.160338 │\n",
      "│ 1997 ┆ 65.014676 │\n",
      "│ 2002 ┆ 65.694923 │\n",
      "│ 2007 ┆ 67.007423 │\n",
      "└──────┴───────────┘\n"
     ]
    }
   ],
   "source": [
    "global_yearly_life_expectancy = df\\\n",
    "    .group_by(by = \"year\")\\\n",
    "    .agg(pl.col(\"lifeExp\").mean())\\\n",
    "    .sort(by = \"year\")\n",
    "print(global_yearly_life_expectancy)"
   ]
  },
  {
   "cell_type": "code",
   "execution_count": 50,
   "metadata": {},
   "outputs": [
    {
     "data": {
      "image/png": "[encoded data removed]",
      "text/plain": [
       "<Figure size 640x480 with 1 Axes>"
      ]
     },
     "metadata": {},
     "output_type": "display_data"
    }
   ],
   "source": [
    "import matplotlib.pyplot as plt\n",
    "global_yearly_life_expectancy.to_pandas().plot()\n",
    "plt.show()"
   ]
  }
 ],
 "metadata": {
  "kernelspec": {
   "display_name": "Python 3",
   "language": "python",
   "name": "python3"
  },
  "language_info": {
   "codemirror_mode": {
    "name": "ipython",
    "version": 3
   },
   "file_extension": ".py",
   "mimetype": "text/x-python",
   "name": "python",
   "nbconvert_exporter": "python",
   "pygments_lexer": "ipython3",
   "version": "3.11.4"
  }
 },
 "nbformat": 4,
 "nbformat_minor": 2
}
