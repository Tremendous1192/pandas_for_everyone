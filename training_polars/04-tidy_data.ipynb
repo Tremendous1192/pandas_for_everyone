{
 "cells": [
  {
   "cell_type": "markdown",
   "metadata": {},
   "source": [
    "# 第4章 「整然データ」を作る"
   ]
  },
  {
   "cell_type": "markdown",
   "metadata": {},
   "source": [
    "## 4.1 列に(変数ではなく)値が入っているとき"
   ]
  },
  {
   "cell_type": "markdown",
   "metadata": {},
   "source": [
    "### 4.1.1 1列に集める"
   ]
  },
  {
   "cell_type": "code",
   "execution_count": 1,
   "metadata": {},
   "outputs": [],
   "source": [
    "import polars as pl\n",
    "pew = pl.read_csv(\"../data/pew.csv\")"
   ]
  },
  {
   "cell_type": "code",
   "execution_count": 2,
   "metadata": {},
   "outputs": [
    {
     "name": "stdout",
     "output_type": "stream",
     "text": [
      "shape: (18, 5)\n",
      "┌───────────────────────┬───────┬─────────┬─────────┬─────────┐\n",
      "│ religion              ┆ <$10k ┆ $10-20k ┆ $20-30k ┆ $30-40k │\n",
      "│ ---                   ┆ ---   ┆ ---     ┆ ---     ┆ ---     │\n",
      "│ str                   ┆ i64   ┆ i64     ┆ i64     ┆ i64     │\n",
      "╞═══════════════════════╪═══════╪═════════╪═════════╪═════════╡\n",
      "│ Agnostic              ┆ 27    ┆ 34      ┆ 60      ┆ 81      │\n",
      "│ Atheist               ┆ 12    ┆ 27      ┆ 37      ┆ 52      │\n",
      "│ Buddhist              ┆ 27    ┆ 21      ┆ 30      ┆ 34      │\n",
      "│ Catholic              ┆ 418   ┆ 617     ┆ 732     ┆ 670     │\n",
      "│ …                     ┆ …     ┆ …       ┆ …       ┆ …       │\n",
      "│ Other Christian       ┆ 9     ┆ 7       ┆ 11      ┆ 13      │\n",
      "│ Other Faiths          ┆ 20    ┆ 33      ┆ 40      ┆ 46      │\n",
      "│ Other World Religions ┆ 5     ┆ 2       ┆ 3       ┆ 4       │\n",
      "│ Unaffiliated          ┆ 217   ┆ 299     ┆ 374     ┆ 365     │\n",
      "└───────────────────────┴───────┴─────────┴─────────┴─────────┘\n"
     ]
    }
   ],
   "source": [
    "print(pew[:, 0:5])"
   ]
  },
  {
   "cell_type": "code",
   "execution_count": 3,
   "metadata": {},
   "outputs": [
    {
     "name": "stdout",
     "output_type": "stream",
     "text": [
      "shape: (180, 3)\n",
      "┌───────────────────────┬────────────────────┬───────┐\n",
      "│ religion              ┆ variable           ┆ value │\n",
      "│ ---                   ┆ ---                ┆ ---   │\n",
      "│ str                   ┆ str                ┆ i64   │\n",
      "╞═══════════════════════╪════════════════════╪═══════╡\n",
      "│ Agnostic              ┆ <$10k              ┆ 27    │\n",
      "│ Atheist               ┆ <$10k              ┆ 12    │\n",
      "│ Buddhist              ┆ <$10k              ┆ 27    │\n",
      "│ Catholic              ┆ <$10k              ┆ 418   │\n",
      "│ …                     ┆ …                  ┆ …     │\n",
      "│ Other Christian       ┆ Don't know/refused ┆ 18    │\n",
      "│ Other Faiths          ┆ Don't know/refused ┆ 71    │\n",
      "│ Other World Religions ┆ Don't know/refused ┆ 8     │\n",
      "│ Unaffiliated          ┆ Don't know/refused ┆ 597   │\n",
      "└───────────────────────┴────────────────────┴───────┘\n"
     ]
    }
   ],
   "source": [
    "pew_long = pew.melt(id_vars = \"religion\")\n",
    "print(pew_long)"
   ]
  },
  {
   "cell_type": "code",
   "execution_count": 4,
   "metadata": {},
   "outputs": [
    {
     "name": "stdout",
     "output_type": "stream",
     "text": [
      "shape: (180, 3)\n",
      "┌───────────────────────┬────────────────────┬───────┐\n",
      "│ religion              ┆ income             ┆ count │\n",
      "│ ---                   ┆ ---                ┆ ---   │\n",
      "│ str                   ┆ str                ┆ i64   │\n",
      "╞═══════════════════════╪════════════════════╪═══════╡\n",
      "│ Agnostic              ┆ <$10k              ┆ 27    │\n",
      "│ Atheist               ┆ <$10k              ┆ 12    │\n",
      "│ Buddhist              ┆ <$10k              ┆ 27    │\n",
      "│ Catholic              ┆ <$10k              ┆ 418   │\n",
      "│ …                     ┆ …                  ┆ …     │\n",
      "│ Other Christian       ┆ Don't know/refused ┆ 18    │\n",
      "│ Other Faiths          ┆ Don't know/refused ┆ 71    │\n",
      "│ Other World Religions ┆ Don't know/refused ┆ 8     │\n",
      "│ Unaffiliated          ┆ Don't know/refused ┆ 597   │\n",
      "└───────────────────────┴────────────────────┴───────┘\n"
     ]
    }
   ],
   "source": [
    "pew_long = pew.melt(id_vars = \"religion\", variable_name = \"income\", value_name = \"count\")\n",
    "print(pew_long)"
   ]
  },
  {
   "cell_type": "markdown",
   "metadata": {},
   "source": [
    "### 4.1.2 複数の列を残す"
   ]
  },
  {
   "cell_type": "code",
   "execution_count": 5,
   "metadata": {},
   "outputs": [
    {
     "name": "stdout",
     "output_type": "stream",
     "text": [
      "shape: (5, 16)\n",
      "┌──────┬──────────────┬─────────────────────────┬──────┬───┬─────┬─────┬──────┬──────┐\n",
      "│ year ┆ artist       ┆ track                   ┆ time ┆ … ┆ wk8 ┆ wk9 ┆ wk10 ┆ wk11 │\n",
      "│ ---  ┆ ---          ┆ ---                     ┆ ---  ┆   ┆ --- ┆ --- ┆ ---  ┆ ---  │\n",
      "│ i64  ┆ str          ┆ str                     ┆ str  ┆   ┆ str ┆ str ┆ str  ┆ str  │\n",
      "╞══════╪══════════════╪═════════════════════════╪══════╪═══╪═════╪═════╪══════╪══════╡\n",
      "│ 2000 ┆ 2 Pac        ┆ Baby Don't Cry (Keep... ┆ 4:22 ┆ … ┆ NA  ┆ NA  ┆ NA   ┆ NA   │\n",
      "│ 2000 ┆ 2Ge+her      ┆ The Hardest Part Of ... ┆ 3:15 ┆ … ┆ NA  ┆ NA  ┆ NA   ┆ NA   │\n",
      "│ 2000 ┆ 3 Doors Down ┆ Kryptonite              ┆ 3:53 ┆ … ┆ 53  ┆ 51  ┆ 51   ┆ 51   │\n",
      "│ 2000 ┆ 3 Doors Down ┆ Loser                   ┆ 4:24 ┆ … ┆ 59  ┆ 62  ┆ 61   ┆ 61   │\n",
      "│ 2000 ┆ 504 Boyz     ┆ Wobble Wobble           ┆ 3:35 ┆ … ┆ 49  ┆ 53  ┆ 57   ┆ 64   │\n",
      "└──────┴──────────────┴─────────────────────────┴──────┴───┴─────┴─────┴──────┴──────┘\n"
     ]
    }
   ],
   "source": [
    "billboard = pl.read_csv(\"../data/billboard.csv\")\n",
    "print(billboard[0:5, 0:16])"
   ]
  },
  {
   "cell_type": "code",
   "execution_count": 6,
   "metadata": {},
   "outputs": [
    {
     "name": "stdout",
     "output_type": "stream",
     "text": [
      "shape: (24_092, 7)\n",
      "┌──────┬──────────────────┬─────────────────────────┬──────┬──────────────┬──────┬────────┐\n",
      "│ year ┆ artist           ┆ track                   ┆ time ┆ date.entered ┆ week ┆ rating │\n",
      "│ ---  ┆ ---              ┆ ---                     ┆ ---  ┆ ---          ┆ ---  ┆ ---    │\n",
      "│ i64  ┆ str              ┆ str                     ┆ str  ┆ str          ┆ str  ┆ str    │\n",
      "╞══════╪══════════════════╪═════════════════════════╪══════╪══════════════╪══════╪════════╡\n",
      "│ 2000 ┆ 2 Pac            ┆ Baby Don't Cry (Keep... ┆ 4:22 ┆ 2000-02-26   ┆ wk1  ┆ 87     │\n",
      "│ 2000 ┆ 2Ge+her          ┆ The Hardest Part Of ... ┆ 3:15 ┆ 2000-09-02   ┆ wk1  ┆ 91     │\n",
      "│ 2000 ┆ 3 Doors Down     ┆ Kryptonite              ┆ 3:53 ┆ 2000-04-08   ┆ wk1  ┆ 81     │\n",
      "│ 2000 ┆ 3 Doors Down     ┆ Loser                   ┆ 4:24 ┆ 2000-10-21   ┆ wk1  ┆ 76     │\n",
      "│ …    ┆ …                ┆ …                       ┆ …    ┆ …            ┆ …    ┆ …      │\n",
      "│ 2000 ┆ Yearwood, Trisha ┆ Real Live Woman         ┆ 3:55 ┆ 2000-04-01   ┆ wk76 ┆ NA     │\n",
      "│ 2000 ┆ Ying Yang Twins  ┆ Whistle While You Tw... ┆ 4:19 ┆ 2000-03-18   ┆ wk76 ┆ NA     │\n",
      "│ 2000 ┆ Zombie Nation    ┆ Kernkraft 400           ┆ 3:30 ┆ 2000-09-02   ┆ wk76 ┆ NA     │\n",
      "│ 2000 ┆ matchbox twenty  ┆ Bent                    ┆ 4:12 ┆ 2000-04-29   ┆ wk76 ┆ NA     │\n",
      "└──────┴──────────────────┴─────────────────────────┴──────┴──────────────┴──────┴────────┘\n"
     ]
    }
   ],
   "source": [
    "billboard_long = billboard\\\n",
    "    .melt(id_vars = [\"year\", \"artist\", \"track\", \"time\", \"date.entered\"],\n",
    "           variable_name = \"week\",\n",
    "             value_name = \"rating\")\n",
    "print(billboard_long)"
   ]
  },
  {
   "cell_type": "markdown",
   "metadata": {},
   "source": [
    "## 複数の変数を含む列があるとき"
   ]
  },
  {
   "cell_type": "code",
   "execution_count": 7,
   "metadata": {},
   "outputs": [
    {
     "name": "stdout",
     "output_type": "stream",
     "text": [
      "['Date', 'Day', 'Cases_Guinea', 'Cases_Liberia', 'Cases_SierraLeone', 'Cases_Nigeria', 'Cases_Senegal', 'Cases_UnitedStates', 'Cases_Spain', 'Cases_Mali', 'Deaths_Guinea', 'Deaths_Liberia', 'Deaths_SierraLeone', 'Deaths_Nigeria', 'Deaths_Senegal', 'Deaths_UnitedStates', 'Deaths_Spain', 'Deaths_Mali']\n",
      "shape: (5, 4)\n",
      "┌────────────┬─────┬──────────────┬───────────────┐\n",
      "│ Date       ┆ Day ┆ Cases_Guinea ┆ Deaths_Guinea │\n",
      "│ ---        ┆ --- ┆ ---          ┆ ---           │\n",
      "│ str        ┆ i64 ┆ i64          ┆ i64           │\n",
      "╞════════════╪═════╪══════════════╪═══════════════╡\n",
      "│ 1/5/2015   ┆ 289 ┆ 2776         ┆ 1786          │\n",
      "│ 1/4/2015   ┆ 288 ┆ 2775         ┆ 1781          │\n",
      "│ 1/3/2015   ┆ 287 ┆ 2769         ┆ 1767          │\n",
      "│ 1/2/2015   ┆ 286 ┆ null         ┆ null          │\n",
      "│ 12/31/2014 ┆ 284 ┆ 2730         ┆ 1739          │\n",
      "└────────────┴─────┴──────────────┴───────────────┘\n"
     ]
    }
   ],
   "source": [
    "ebola = pl.read_csv(\"../data/country_timeseries.csv\")\n",
    "print(ebola.columns)\n",
    "print(ebola[:5, [0, 1, 2, 10]])"
   ]
  },
  {
   "cell_type": "code",
   "execution_count": 8,
   "metadata": {},
   "outputs": [
    {
     "name": "stdout",
     "output_type": "stream",
     "text": [
      "shape: (1_952, 4)\n",
      "┌───────────┬─────┬──────────────┬───────┐\n",
      "│ Date      ┆ Day ┆ variable     ┆ value │\n",
      "│ ---       ┆ --- ┆ ---          ┆ ---   │\n",
      "│ str       ┆ i64 ┆ str          ┆ i64   │\n",
      "╞═══════════╪═════╪══════════════╪═══════╡\n",
      "│ 1/5/2015  ┆ 289 ┆ Cases_Guinea ┆ 2776  │\n",
      "│ 1/4/2015  ┆ 288 ┆ Cases_Guinea ┆ 2775  │\n",
      "│ 1/3/2015  ┆ 287 ┆ Cases_Guinea ┆ 2769  │\n",
      "│ 1/2/2015  ┆ 286 ┆ Cases_Guinea ┆ null  │\n",
      "│ …         ┆ …   ┆ …            ┆ …     │\n",
      "│ 3/26/2014 ┆ 4   ┆ Deaths_Mali  ┆ null  │\n",
      "│ 3/25/2014 ┆ 3   ┆ Deaths_Mali  ┆ null  │\n",
      "│ 3/24/2014 ┆ 2   ┆ Deaths_Mali  ┆ null  │\n",
      "│ 3/22/2014 ┆ 0   ┆ Deaths_Mali  ┆ null  │\n",
      "└───────────┴─────┴──────────────┴───────┘\n"
     ]
    }
   ],
   "source": [
    "ebola_long = ebola.melt(id_vars = [\"Date\", \"Day\"])\n",
    "print(ebola_long)"
   ]
  },
  {
   "cell_type": "markdown",
   "metadata": {},
   "source": [
    "### 4.2.1 列を分解して個別に追加する"
   ]
  },
  {
   "cell_type": "code",
   "execution_count": 9,
   "metadata": {},
   "outputs": [
    {
     "name": "stdout",
     "output_type": "stream",
     "text": [
      "shape: (5,)\n",
      "Series: 'variable' [list[str]]\n",
      "[\n",
      "\t[\"Cases\", \"Guinea\"]\n",
      "\t[\"Cases\", \"Guinea\"]\n",
      "\t[\"Cases\", \"Guinea\"]\n",
      "\t[\"Cases\", \"Guinea\"]\n",
      "\t[\"Cases\", \"Guinea\"]\n",
      "]\n"
     ]
    }
   ],
   "source": [
    "variable_split = ebola_long[\"variable\"].str.split(\"_\")\n",
    "print(variable_split[:5])"
   ]
  },
  {
   "cell_type": "code",
   "execution_count": 10,
   "metadata": {},
   "outputs": [
    {
     "name": "stdout",
     "output_type": "stream",
     "text": [
      "<class 'polars.series.series.Series'>\n",
      "<class 'polars.series.series.Series'>\n"
     ]
    }
   ],
   "source": [
    "print( type(variable_split) )\n",
    "\n",
    "#pandasのsplitの各要素はlist\n",
    "#polarsのsplitの各要素はSeries\n",
    "print( type(variable_split[0]) )"
   ]
  },
  {
   "cell_type": "code",
   "execution_count": 11,
   "metadata": {},
   "outputs": [
    {
     "name": "stdout",
     "output_type": "stream",
     "text": [
      "shape: (1_952, 6)\n",
      "┌───────────┬─────┬──────────────┬───────┬────────┬─────────┐\n",
      "│ Date      ┆ Day ┆ variable     ┆ value ┆ status ┆ country │\n",
      "│ ---       ┆ --- ┆ ---          ┆ ---   ┆ ---    ┆ ---     │\n",
      "│ str       ┆ i64 ┆ str          ┆ i64   ┆ str    ┆ str     │\n",
      "╞═══════════╪═════╪══════════════╪═══════╪════════╪═════════╡\n",
      "│ 1/5/2015  ┆ 289 ┆ Cases_Guinea ┆ 2776  ┆ Cases  ┆ Guinea  │\n",
      "│ 1/4/2015  ┆ 288 ┆ Cases_Guinea ┆ 2775  ┆ Cases  ┆ Guinea  │\n",
      "│ 1/3/2015  ┆ 287 ┆ Cases_Guinea ┆ 2769  ┆ Cases  ┆ Guinea  │\n",
      "│ 1/2/2015  ┆ 286 ┆ Cases_Guinea ┆ null  ┆ Cases  ┆ Guinea  │\n",
      "│ …         ┆ …   ┆ …            ┆ …     ┆ …      ┆ …       │\n",
      "│ 3/26/2014 ┆ 4   ┆ Deaths_Mali  ┆ null  ┆ Deaths ┆ Mali    │\n",
      "│ 3/25/2014 ┆ 3   ┆ Deaths_Mali  ┆ null  ┆ Deaths ┆ Mali    │\n",
      "│ 3/24/2014 ┆ 2   ┆ Deaths_Mali  ┆ null  ┆ Deaths ┆ Mali    │\n",
      "│ 3/22/2014 ┆ 0   ┆ Deaths_Mali  ┆ null  ┆ Deaths ┆ Mali    │\n",
      "└───────────┴─────┴──────────────┴───────┴────────┴─────────┘\n"
     ]
    }
   ],
   "source": [
    "#pandasで'_'で分割した列をDataFrameに加える場合\n",
    "#status_values = variable_split.str.get(0)\n",
    "#country_values = variable_split.str.get(1)\n",
    "\n",
    "#ebola_long[\"status\"] = status_values\n",
    "#ebola_long[\"country\"] = country_values\n",
    "\n",
    "# polarsで同様のことを行う場合\n",
    "df_variable_split = ebola_long[\"variable\"]\\\n",
    "        .str.split_exact(\"_\", 1)\\\n",
    "                .struct.rename_fields([\"status\", \"country\"])\\\n",
    "                            .alias(\"fields\")\\\n",
    "                                .to_frame()\\\n",
    "                                        .unnest(\"fields\")\n",
    "\n",
    "status_values = df_variable_split[\"status\"]\n",
    "country_values = df_variable_split[\"country\"]\n",
    "\n",
    "ebola_long = ebola_long.with_columns([\n",
    "    status_values,\n",
    "    country_values\n",
    "])\n",
    "\n",
    "print(ebola_long)"
   ]
  },
  {
   "cell_type": "markdown",
   "metadata": {},
   "source": [
    "### 4.2.2 分割と結合を一度に行う"
   ]
  },
  {
   "cell_type": "code",
   "execution_count": 12,
   "metadata": {},
   "outputs": [
    {
     "name": "stdout",
     "output_type": "stream",
     "text": [
      "shape: (3, 6)\n",
      "┌──────────┬─────┬──────────────┬───────┬────────┬─────────┐\n",
      "│ Date     ┆ Day ┆ variable     ┆ value ┆ status ┆ country │\n",
      "│ ---      ┆ --- ┆ ---          ┆ ---   ┆ ---    ┆ ---     │\n",
      "│ str      ┆ i64 ┆ str          ┆ i64   ┆ str    ┆ str     │\n",
      "╞══════════╪═════╪══════════════╪═══════╪════════╪═════════╡\n",
      "│ 1/5/2015 ┆ 289 ┆ Cases_Guinea ┆ 2776  ┆ Cases  ┆ Guinea  │\n",
      "│ 1/4/2015 ┆ 288 ┆ Cases_Guinea ┆ 2775  ┆ Cases  ┆ Guinea  │\n",
      "│ 1/3/2015 ┆ 287 ┆ Cases_Guinea ┆ 2769  ┆ Cases  ┆ Guinea  │\n",
      "└──────────┴─────┴──────────────┴───────┴────────┴─────────┘\n",
      "shape: (3, 6)\n",
      "┌──────────┬─────┬──────────────┬───────┬────────┬─────────┐\n",
      "│ Date     ┆ Day ┆ variable     ┆ value ┆ status ┆ country │\n",
      "│ ---      ┆ --- ┆ ---          ┆ ---   ┆ ---    ┆ ---     │\n",
      "│ str      ┆ i64 ┆ str          ┆ i64   ┆ str    ┆ str     │\n",
      "╞══════════╪═════╪══════════════╪═══════╪════════╪═════════╡\n",
      "│ 1/5/2015 ┆ 289 ┆ Cases_Guinea ┆ 2776  ┆ Cases  ┆ Guinea  │\n",
      "│ 1/4/2015 ┆ 288 ┆ Cases_Guinea ┆ 2775  ┆ Cases  ┆ Guinea  │\n",
      "│ 1/3/2015 ┆ 287 ┆ Cases_Guinea ┆ 2769  ┆ Cases  ┆ Guinea  │\n",
      "└──────────┴─────┴──────────────┴───────┴────────┴─────────┘\n"
     ]
    }
   ],
   "source": [
    "#pandasでvariableの列を'_'で分割して、元のデータフレームに加える\n",
    "#ebola_long = ebola.melt(id_vars = [\"Date\", \"Day\"])\n",
    "\n",
    "#variable_split = ebola_long.variable.str.split(\"_\", expand = True)\n",
    "\n",
    "#ebola_long[ [\"status\", \"country\"] ] = variable_split\n",
    "\n",
    "#print(ebola_long.head(3))\n",
    "\n",
    "#polarsで同様のことを行う場合 その1\n",
    "#Series表記の場合、to_fram()とunnest()メソッドが必要\n",
    "ebola_long = ebola.melt(id_vars = [\"Date\", \"Day\"])\n",
    "\n",
    "ebola_long = ebola_long.with_columns(\n",
    "    ebola_long[\"variable\"]\\\n",
    "        .str.split_exact(\"_\", 1)\\\n",
    "                .struct.rename_fields([\"status\", \"country\"])\\\n",
    "                            .alias(\"fields\")\\\n",
    "                                .to_frame()\\\n",
    "                                        .unnest(\"fields\")\n",
    ")\n",
    "\n",
    "print(ebola_long.head(3))\n",
    "\n",
    "\n",
    "#polarsで同様のことを行う場合 その2\n",
    "#pl.cpl()を用いる場合、unnestは最後につける\n",
    "ebola_long = ebola.melt(id_vars = [\"Date\", \"Day\"])\n",
    "\n",
    "ebola_long = ebola_long.with_columns(\n",
    "    pl.col(\"variable\")\\\n",
    "        .str.split_exact(\"_\", 1)\\\n",
    "                .struct.rename_fields([\"status\", \"country\"])\\\n",
    "                            .alias(\"fields\")\n",
    ").unnest(\"fields\")\n",
    "\n",
    "print(ebola_long.head(3))"
   ]
  },
  {
   "cell_type": "markdown",
   "metadata": {},
   "source": [
    "## 4.3 行と列の両方に変数があるとき"
   ]
  },
  {
   "cell_type": "code",
   "execution_count": 13,
   "metadata": {},
   "outputs": [
    {
     "name": "stdout",
     "output_type": "stream",
     "text": [
      "shape: (5, 11)\n",
      "┌─────────┬──────┬───────┬─────────┬───┬─────┬──────┬─────┬─────┐\n",
      "│ id      ┆ year ┆ month ┆ element ┆ … ┆ d4  ┆ d5   ┆ d6  ┆ d7  │\n",
      "│ ---     ┆ ---  ┆ ---   ┆ ---     ┆   ┆ --- ┆ ---  ┆ --- ┆ --- │\n",
      "│ str     ┆ i64  ┆ i64   ┆ str     ┆   ┆ str ┆ str  ┆ str ┆ str │\n",
      "╞═════════╪══════╪═══════╪═════════╪═══╪═════╪══════╪═════╪═════╡\n",
      "│ MX17004 ┆ 2010 ┆ 1     ┆ tmax    ┆ … ┆ NA  ┆ NA   ┆ NA  ┆ NA  │\n",
      "│ MX17004 ┆ 2010 ┆ 1     ┆ tmin    ┆ … ┆ NA  ┆ NA   ┆ NA  ┆ NA  │\n",
      "│ MX17004 ┆ 2010 ┆ 2     ┆ tmax    ┆ … ┆ NA  ┆ NA   ┆ NA  ┆ NA  │\n",
      "│ MX17004 ┆ 2010 ┆ 2     ┆ tmin    ┆ … ┆ NA  ┆ NA   ┆ NA  ┆ NA  │\n",
      "│ MX17004 ┆ 2010 ┆ 3     ┆ tmax    ┆ … ┆ NA  ┆ 32.1 ┆ NA  ┆ NA  │\n",
      "└─────────┴──────┴───────┴─────────┴───┴─────┴──────┴─────┴─────┘\n"
     ]
    }
   ],
   "source": [
    "weather = pl.read_csv(\"../data/weather.csv\")\n",
    "print(weather[:5, :11])"
   ]
  },
  {
   "cell_type": "code",
   "execution_count": 14,
   "metadata": {},
   "outputs": [
    {
     "name": "stdout",
     "output_type": "stream",
     "text": [
      "shape: (682, 6)\n",
      "┌─────────┬──────┬───────┬─────────┬─────┬──────┐\n",
      "│ id      ┆ year ┆ month ┆ element ┆ day ┆ temp │\n",
      "│ ---     ┆ ---  ┆ ---   ┆ ---     ┆ --- ┆ ---  │\n",
      "│ str     ┆ i64  ┆ i64   ┆ str     ┆ str ┆ str  │\n",
      "╞═════════╪══════╪═══════╪═════════╪═════╪══════╡\n",
      "│ MX17004 ┆ 2010 ┆ 1     ┆ tmax    ┆ d1  ┆ NA   │\n",
      "│ MX17004 ┆ 2010 ┆ 1     ┆ tmin    ┆ d1  ┆ NA   │\n",
      "│ MX17004 ┆ 2010 ┆ 2     ┆ tmax    ┆ d1  ┆ NA   │\n",
      "│ MX17004 ┆ 2010 ┆ 2     ┆ tmin    ┆ d1  ┆ NA   │\n",
      "│ …       ┆ …    ┆ …     ┆ …       ┆ …   ┆ …    │\n",
      "│ MX17004 ┆ 2010 ┆ 11    ┆ tmax    ┆ d31 ┆ NA   │\n",
      "│ MX17004 ┆ 2010 ┆ 11    ┆ tmin    ┆ d31 ┆ NA   │\n",
      "│ MX17004 ┆ 2010 ┆ 12    ┆ tmax    ┆ d31 ┆ NA   │\n",
      "│ MX17004 ┆ 2010 ┆ 12    ┆ tmin    ┆ d31 ┆ NA   │\n",
      "└─────────┴──────┴───────┴─────────┴─────┴──────┘\n"
     ]
    }
   ],
   "source": [
    "weather_melt = weather.melt(\n",
    "    id_vars = [\"id\", \"year\", \"month\", \"element\"],\n",
    "    variable_name = \"day\",\n",
    "    value_name = \"temp\"\n",
    ")\n",
    "print(weather_melt)"
   ]
  },
  {
   "cell_type": "code",
   "execution_count": 15,
   "metadata": {},
   "outputs": [
    {
     "name": "stdout",
     "output_type": "stream",
     "text": [
      "shape: (341, 6)\n",
      "┌─────────┬──────┬───────┬─────┬──────┬──────┐\n",
      "│ id      ┆ year ┆ month ┆ day ┆ tmax ┆ tmin │\n",
      "│ ---     ┆ ---  ┆ ---   ┆ --- ┆ ---  ┆ ---  │\n",
      "│ str     ┆ i64  ┆ i64   ┆ str ┆ str  ┆ str  │\n",
      "╞═════════╪══════╪═══════╪═════╪══════╪══════╡\n",
      "│ MX17004 ┆ 2010 ┆ 1     ┆ d1  ┆ NA   ┆ NA   │\n",
      "│ MX17004 ┆ 2010 ┆ 2     ┆ d1  ┆ NA   ┆ NA   │\n",
      "│ MX17004 ┆ 2010 ┆ 3     ┆ d1  ┆ NA   ┆ NA   │\n",
      "│ MX17004 ┆ 2010 ┆ 4     ┆ d1  ┆ NA   ┆ NA   │\n",
      "│ …       ┆ …    ┆ …     ┆ …   ┆ …    ┆ …    │\n",
      "│ MX17004 ┆ 2010 ┆ 8     ┆ d31 ┆ 25.4 ┆ 15.4 │\n",
      "│ MX17004 ┆ 2010 ┆ 10    ┆ d31 ┆ NA   ┆ NA   │\n",
      "│ MX17004 ┆ 2010 ┆ 11    ┆ d31 ┆ NA   ┆ NA   │\n",
      "│ MX17004 ┆ 2010 ┆ 12    ┆ d31 ┆ NA   ┆ NA   │\n",
      "└─────────┴──────┴───────┴─────┴──────┴──────┘\n"
     ]
    }
   ],
   "source": [
    "weather_tidy = weather_melt.pivot(\n",
    "    index = [\"id\", \"year\", \"month\", \"day\"],\n",
    "    columns = \"element\",\n",
    "    values = \"temp\"\n",
    ")\n",
    "print(weather_tidy)"
   ]
  },
  {
   "cell_type": "code",
   "execution_count": null,
   "metadata": {},
   "outputs": [],
   "source": [
    "#polarsにはreset_index関数は無い\n",
    "#weather_tidy_flat = weather_tidy.reset_index()"
   ]
  },
  {
   "cell_type": "code",
   "execution_count": 16,
   "metadata": {},
   "outputs": [
    {
     "name": "stdout",
     "output_type": "stream",
     "text": [
      "shape: (341, 6)\n",
      "┌─────────┬──────┬───────┬─────┬──────┬──────┐\n",
      "│ id      ┆ year ┆ month ┆ day ┆ tmax ┆ tmin │\n",
      "│ ---     ┆ ---  ┆ ---   ┆ --- ┆ ---  ┆ ---  │\n",
      "│ str     ┆ i64  ┆ i64   ┆ str ┆ str  ┆ str  │\n",
      "╞═════════╪══════╪═══════╪═════╪══════╪══════╡\n",
      "│ MX17004 ┆ 2010 ┆ 1     ┆ d1  ┆ NA   ┆ NA   │\n",
      "│ MX17004 ┆ 2010 ┆ 2     ┆ d1  ┆ NA   ┆ NA   │\n",
      "│ MX17004 ┆ 2010 ┆ 3     ┆ d1  ┆ NA   ┆ NA   │\n",
      "│ MX17004 ┆ 2010 ┆ 4     ┆ d1  ┆ NA   ┆ NA   │\n",
      "│ …       ┆ …    ┆ …     ┆ …   ┆ …    ┆ …    │\n",
      "│ MX17004 ┆ 2010 ┆ 8     ┆ d31 ┆ 25.4 ┆ 15.4 │\n",
      "│ MX17004 ┆ 2010 ┆ 10    ┆ d31 ┆ NA   ┆ NA   │\n",
      "│ MX17004 ┆ 2010 ┆ 11    ┆ d31 ┆ NA   ┆ NA   │\n",
      "│ MX17004 ┆ 2010 ┆ 12    ┆ d31 ┆ NA   ┆ NA   │\n",
      "└─────────┴──────┴───────┴─────┴──────┴──────┘\n"
     ]
    }
   ],
   "source": [
    "# 先ほどのmelt, pivotをメソッドチェーンで記述する\n",
    "# データ処理の方向性が決まったら、処理の一連をチェーンする形で書き直すのが良いだろう\n",
    "weather_tidy = weather.melt(\n",
    "    id_vars = [\"id\", \"year\", \"month\", \"element\"],\n",
    "    variable_name = \"day\",\n",
    "    value_name = \"temp\"\n",
    "    ).pivot(\n",
    "        index = [\"id\", \"year\", \"month\", \"day\"],\n",
    "        columns = \"element\",\n",
    "        values = \"temp\"\n",
    "        )\n",
    "print(weather_tidy)"
   ]
  }
 ],
 "metadata": {
  "kernelspec": {
   "display_name": "Python 3",
   "language": "python",
   "name": "python3"
  },
  "language_info": {
   "codemirror_mode": {
    "name": "ipython",
    "version": 3
   },
   "file_extension": ".py",
   "mimetype": "text/x-python",
   "name": "python",
   "nbconvert_exporter": "python",
   "pygments_lexer": "ipython3",
   "version": "3.11.4"
  }
 },
 "nbformat": 4,
 "nbformat_minor": 2
}
