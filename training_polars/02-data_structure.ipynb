{
 "cells": [
  {
   "cell_type": "markdown",
   "metadata": {},
   "source": [
    "## データを自作する"
   ]
  },
  {
   "cell_type": "markdown",
   "metadata": {},
   "source": [
    "### 2.1.1 Seriesを作る"
   ]
  },
  {
   "cell_type": "code",
   "execution_count": 31,
   "metadata": {},
   "outputs": [
    {
     "name": "stdout",
     "output_type": "stream",
     "text": [
      "shape: (2,)\n",
      "Series: '' [str]\n",
      "[\n",
      "\t\"banana\"\n",
      "\tnull\n",
      "]\n"
     ]
    }
   ],
   "source": [
    "import polars as pl\n",
    "\n",
    "s = pl.Series(name = None, values = [\"banana\", 42])\n",
    "print(s)"
   ]
  },
  {
   "cell_type": "markdown",
   "metadata": {},
   "source": [
    "### 2.1.2 DataFrameを作る\n",
    "本文より,\n",
    "DataFrameはSeriesオブジェクトの辞書だと考えることができる。\n",
    "だからこそDataFrameは、辞書として作るのが最も一般的なのだ。\n",
    "その辞書のキーが列の名前、値が列の内容である。"
   ]
  },
  {
   "cell_type": "code",
   "execution_count": 32,
   "metadata": {},
   "outputs": [
    {
     "data": {
      "text/html": [
       "<div><style>\n",
       ".dataframe > thead > tr,\n",
       ".dataframe > tbody > tr {\n",
       "  text-align: right;\n",
       "  white-space: pre-wrap;\n",
       "}\n",
       "</style>\n",
       "<small>shape: (2, 4)</small><table border=\"1\" class=\"dataframe\"><thead><tr><th>Name</th><th>Occupation</th><th>Born</th><th>Died</th></tr><tr><td>str</td><td>str</td><td>str</td><td>str</td></tr></thead><tbody><tr><td>&quot;Rosaline Frank…</td><td>&quot;Chemist&quot;</td><td>&quot;1920-07-25&quot;</td><td>&quot;1958-04-16&quot;</td></tr><tr><td>&quot;William Gosset…</td><td>&quot;Statistician&quot;</td><td>&quot;1876-06-13&quot;</td><td>&quot;1937-10-16&quot;</td></tr></tbody></table></div>"
      ],
      "text/plain": [
       "shape: (2, 4)\n",
       "┌───────────────────┬──────────────┬────────────┬────────────┐\n",
       "│ Name              ┆ Occupation   ┆ Born       ┆ Died       │\n",
       "│ ---               ┆ ---          ┆ ---        ┆ ---        │\n",
       "│ str               ┆ str          ┆ str        ┆ str        │\n",
       "╞═══════════════════╪══════════════╪════════════╪════════════╡\n",
       "│ Rosaline Franklin ┆ Chemist      ┆ 1920-07-25 ┆ 1958-04-16 │\n",
       "│ William Gosset    ┆ Statistician ┆ 1876-06-13 ┆ 1937-10-16 │\n",
       "└───────────────────┴──────────────┴────────────┴────────────┘"
      ]
     },
     "execution_count": 32,
     "metadata": {},
     "output_type": "execute_result"
    }
   ],
   "source": [
    "scientists = pl.DataFrame({\n",
    "    \"Name\": [\"Rosaline Franklin\", \"William Gosset\"],\n",
    "    \"Occupation\": [\"Chemist\", \"Statistician\"],\n",
    "    \"Born\": [\"1920-07-25\", \"1876-06-13\"],\n",
    "    \"Died\": [\"1958-04-16\", \"1937-10-16\"]\n",
    "    })\n",
    "scientists"
   ]
  },
  {
   "cell_type": "code",
   "execution_count": 33,
   "metadata": {},
   "outputs": [
    {
     "data": {
      "text/html": [
       "<div><style>\n",
       ".dataframe > thead > tr,\n",
       ".dataframe > tbody > tr {\n",
       "  text-align: right;\n",
       "  white-space: pre-wrap;\n",
       "}\n",
       "</style>\n",
       "<small>shape: (2, 4)</small><table border=\"1\" class=\"dataframe\"><thead><tr><th>Name</th><th>Occupation</th><th>Born</th><th>Died</th></tr><tr><td>str</td><td>str</td><td>date</td><td>date</td></tr></thead><tbody><tr><td>&quot;Rosaline Frank…</td><td>&quot;Chemist&quot;</td><td>1920-07-25</td><td>1958-04-16</td></tr><tr><td>&quot;William Gosset…</td><td>&quot;Statistician&quot;</td><td>1876-06-13</td><td>1937-10-16</td></tr></tbody></table></div>"
      ],
      "text/plain": [
       "shape: (2, 4)\n",
       "┌───────────────────┬──────────────┬────────────┬────────────┐\n",
       "│ Name              ┆ Occupation   ┆ Born       ┆ Died       │\n",
       "│ ---               ┆ ---          ┆ ---        ┆ ---        │\n",
       "│ str               ┆ str          ┆ date       ┆ date       │\n",
       "╞═══════════════════╪══════════════╪════════════╪════════════╡\n",
       "│ Rosaline Franklin ┆ Chemist      ┆ 1920-07-25 ┆ 1958-04-16 │\n",
       "│ William Gosset    ┆ Statistician ┆ 1876-06-13 ┆ 1937-10-16 │\n",
       "└───────────────────┴──────────────┴────────────┴────────────┘"
      ]
     },
     "execution_count": 33,
     "metadata": {},
     "output_type": "execute_result"
    }
   ],
   "source": [
    "# 各列のデータ型を指定する\n",
    "data = {\n",
    "    \"Name\": [\"Rosaline Franklin\", \"William Gosset\"],\n",
    "    \"Occupation\": [\"Chemist\", \"Statistician\"],\n",
    "    \"Born\": [\"1920-07-25\", \"1876-06-13\"],\n",
    "    \"Died\": [\"1958-04-16\", \"1937-10-16\"]\n",
    "    }\n",
    "scientists = pl.DataFrame(data = data, schema = {\n",
    "    \"Name\": pl.Utf8,\n",
    "    \"Occupation\": pl.Utf8,\n",
    "    \"Born\": pl.Date,\n",
    "    \"Died\": pl.Date\n",
    "    })\n",
    "scientists"
   ]
  },
  {
   "cell_type": "code",
   "execution_count": 34,
   "metadata": {},
   "outputs": [
    {
     "data": {
      "text/html": [
       "<div><style>\n",
       ".dataframe > thead > tr,\n",
       ".dataframe > tbody > tr {\n",
       "  text-align: right;\n",
       "  white-space: pre-wrap;\n",
       "}\n",
       "</style>\n",
       "<small>shape: (2, 4)</small><table border=\"1\" class=\"dataframe\"><thead><tr><th>Name</th><th>Occupation</th><th>Born</th><th>Died</th></tr><tr><td>str</td><td>str</td><td>date</td><td>date</td></tr></thead><tbody><tr><td>&quot;Rosaline Frank…</td><td>&quot;Chemist&quot;</td><td>1920-07-25</td><td>1958-04-16</td></tr><tr><td>&quot;William Gosset…</td><td>&quot;Statistician&quot;</td><td>1876-06-13</td><td>1937-10-16</td></tr></tbody></table></div>"
      ],
      "text/plain": [
       "shape: (2, 4)\n",
       "┌───────────────────┬──────────────┬────────────┬────────────┐\n",
       "│ Name              ┆ Occupation   ┆ Born       ┆ Died       │\n",
       "│ ---               ┆ ---          ┆ ---        ┆ ---        │\n",
       "│ str               ┆ str          ┆ date       ┆ date       │\n",
       "╞═══════════════════╪══════════════╪════════════╪════════════╡\n",
       "│ Rosaline Franklin ┆ Chemist      ┆ 1920-07-25 ┆ 1958-04-16 │\n",
       "│ William Gosset    ┆ Statistician ┆ 1876-06-13 ┆ 1937-10-16 │\n",
       "└───────────────────┴──────────────┴────────────┴────────────┘"
      ]
     },
     "execution_count": 34,
     "metadata": {},
     "output_type": "execute_result"
    }
   ],
   "source": [
    "# 各列のデータ型を指定する(その2)\n",
    "data = {\n",
    "    \"Name\": [\"Rosaline Franklin\", \"William Gosset\"],\n",
    "    \"Occupation\": [\"Chemist\", \"Statistician\"],\n",
    "    \"Born\": [\"1920-07-25\", \"1876-06-13\"],\n",
    "    \"Died\": [\"1958-04-16\", \"1937-10-16\"]\n",
    "    }\n",
    "scientists = pl.DataFrame(data = data, schema = [\n",
    "    (\"Name\", pl.Utf8),\n",
    "    (\"Occupation\", pl.Utf8),\n",
    "    (\"Born\", pl.Date),\n",
    "    (\"Died\", pl.Date)\n",
    "    ])\n",
    "scientists"
   ]
  },
  {
   "cell_type": "code",
   "execution_count": 35,
   "metadata": {},
   "outputs": [
    {
     "data": {
      "text/html": [
       "<div><style>\n",
       ".dataframe > thead > tr,\n",
       ".dataframe > tbody > tr {\n",
       "  text-align: right;\n",
       "  white-space: pre-wrap;\n",
       "}\n",
       "</style>\n",
       "<small>shape: (2, 4)</small><table border=\"1\" class=\"dataframe\"><thead><tr><th>Name</th><th>Occupation</th><th>Born</th><th>Died</th></tr><tr><td>str</td><td>str</td><td>str</td><td>str</td></tr></thead><tbody><tr><td>&quot;Rosaline Frank…</td><td>&quot;Chemist&quot;</td><td>&quot;1920-07-25&quot;</td><td>&quot;1958-04-16&quot;</td></tr><tr><td>&quot;William Gosset…</td><td>&quot;Statistician&quot;</td><td>&quot;1876-06-13&quot;</td><td>&quot;1937-10-16&quot;</td></tr></tbody></table></div>"
      ],
      "text/plain": [
       "shape: (2, 4)\n",
       "┌───────────────────┬──────────────┬────────────┬────────────┐\n",
       "│ Name              ┆ Occupation   ┆ Born       ┆ Died       │\n",
       "│ ---               ┆ ---          ┆ ---        ┆ ---        │\n",
       "│ str               ┆ str          ┆ str        ┆ str        │\n",
       "╞═══════════════════╪══════════════╪════════════╪════════════╡\n",
       "│ Rosaline Franklin ┆ Chemist      ┆ 1920-07-25 ┆ 1958-04-16 │\n",
       "│ William Gosset    ┆ Statistician ┆ 1876-06-13 ┆ 1937-10-16 │\n",
       "└───────────────────┴──────────────┴────────────┴────────────┘"
      ]
     },
     "execution_count": 35,
     "metadata": {},
     "output_type": "execute_result"
    }
   ],
   "source": [
    "# SeriesのリストとしてDataFrameを定義する\n",
    "data = [\n",
    "    pl.Series(\"Name\", [\"Rosaline Franklin\", \"William Gosset\"], dtype = pl.Utf8),\n",
    "    pl.Series(\"Occupation\", [\"Chemist\", \"Statistician\"], dtype = pl.Utf8),\n",
    "    pl.Series(\"Born\", [\"1920-07-25\", \"1876-06-13\"], dtype = pl.Date),\n",
    "    pl.Series(\"Died\", [\"1958-04-16\", \"1937-10-16\"], dtype = pl.Date)\n",
    "]\n",
    "scientists = pl.DataFrame(data = data)\n",
    "scientists"
   ]
  },
  {
   "cell_type": "markdown",
   "metadata": {},
   "source": [
    "## 2.2 Seriesについて"
   ]
  },
  {
   "cell_type": "code",
   "execution_count": 36,
   "metadata": {},
   "outputs": [
    {
     "data": {
      "text/html": [
       "<div><style>\n",
       ".dataframe > thead > tr,\n",
       ".dataframe > tbody > tr {\n",
       "  text-align: right;\n",
       "  white-space: pre-wrap;\n",
       "}\n",
       "</style>\n",
       "<small>shape: (2, 5)</small><table border=\"1\" class=\"dataframe\"><thead><tr><th>Name</th><th>Occupation</th><th>Born</th><th>Died</th><th>Age</th></tr><tr><td>str</td><td>str</td><td>str</td><td>str</td><td>i8</td></tr></thead><tbody><tr><td>&quot;Rosaline Frank…</td><td>&quot;Chemist&quot;</td><td>&quot;1920-07-25&quot;</td><td>&quot;1958-04-16&quot;</td><td>37</td></tr><tr><td>&quot;William Gosset…</td><td>&quot;Statistician&quot;</td><td>&quot;1876-06-13&quot;</td><td>&quot;1937-10-16&quot;</td><td>61</td></tr></tbody></table></div>"
      ],
      "text/plain": [
       "shape: (2, 5)\n",
       "┌───────────────────┬──────────────┬────────────┬────────────┬─────┐\n",
       "│ Name              ┆ Occupation   ┆ Born       ┆ Died       ┆ Age │\n",
       "│ ---               ┆ ---          ┆ ---        ┆ ---        ┆ --- │\n",
       "│ str               ┆ str          ┆ str        ┆ str        ┆ i8  │\n",
       "╞═══════════════════╪══════════════╪════════════╪════════════╪═════╡\n",
       "│ Rosaline Franklin ┆ Chemist      ┆ 1920-07-25 ┆ 1958-04-16 ┆ 37  │\n",
       "│ William Gosset    ┆ Statistician ┆ 1876-06-13 ┆ 1937-10-16 ┆ 61  │\n",
       "└───────────────────┴──────────────┴────────────┴────────────┴─────┘"
      ]
     },
     "execution_count": 36,
     "metadata": {},
     "output_type": "execute_result"
    }
   ],
   "source": [
    "scientists = pl.DataFrame(data = [\n",
    "    pl.Series(\"Name\", [\"Rosaline Franklin\", \"William Gosset\"], dtype = pl.Utf8),\n",
    "    pl.Series(\"Occupation\", [\"Chemist\", \"Statistician\"], dtype = pl.Utf8),\n",
    "    pl.Series(\"Born\", [\"1920-07-25\", \"1876-06-13\"], dtype = pl.Date),\n",
    "    pl.Series(\"Died\", [\"1958-04-16\", \"1937-10-16\"], dtype = pl.Date),\n",
    "    pl.Series(\"Age\", [37, 61], dtype = pl.Int8)\n",
    "])\n",
    "scientists"
   ]
  },
  {
   "cell_type": "code",
   "execution_count": 37,
   "metadata": {},
   "outputs": [
    {
     "name": "stdout",
     "output_type": "stream",
     "text": [
      "<class 'polars.dataframe.frame.DataFrame'>\n",
      "shape: (1, 5)\n",
      "┌───────────────────┬────────────┬────────────┬────────────┬─────┐\n",
      "│ Name              ┆ Occupation ┆ Born       ┆ Died       ┆ Age │\n",
      "│ ---               ┆ ---        ┆ ---        ┆ ---        ┆ --- │\n",
      "│ str               ┆ str        ┆ str        ┆ str        ┆ i8  │\n",
      "╞═══════════════════╪════════════╪════════════╪════════════╪═════╡\n",
      "│ Rosaline Franklin ┆ Chemist    ┆ 1920-07-25 ┆ 1958-04-16 ┆ 37  │\n",
      "└───────────────────┴────────────┴────────────┴────────────┴─────┘\n"
     ]
    }
   ],
   "source": [
    "first_row = scientists[0, :]\n",
    "print( type(first_row) )\n",
    "print(first_row)"
   ]
  },
  {
   "cell_type": "code",
   "execution_count": 38,
   "metadata": {},
   "outputs": [
    {
     "name": "stdout",
     "output_type": "stream",
     "text": [
      "<bound method DataFrame.var of shape: (1, 5)\n",
      "┌───────────────────┬────────────┬────────────┬────────────┬─────┐\n",
      "│ Name              ┆ Occupation ┆ Born       ┆ Died       ┆ Age │\n",
      "│ ---               ┆ ---        ┆ ---        ┆ ---        ┆ --- │\n",
      "│ str               ┆ str        ┆ str        ┆ str        ┆ i8  │\n",
      "╞═══════════════════╪════════════╪════════════╪════════════╪═════╡\n",
      "│ Rosaline Franklin ┆ Chemist    ┆ 1920-07-25 ┆ 1958-04-16 ┆ 37  │\n",
      "└───────────────────┴────────────┴────────────┴────────────┴─────┘>\n"
     ]
    }
   ],
   "source": [
    "print(first_row.var)"
   ]
  },
  {
   "cell_type": "code",
   "execution_count": 39,
   "metadata": {},
   "outputs": [
    {
     "name": "stdout",
     "output_type": "stream",
     "text": [
      "defaultdict(<class 'list'>, {'Rosaline Franklin': [('Chemist', '1920-07-25', '1958-04-16', 37)]})\n"
     ]
    }
   ],
   "source": [
    "print(first_row.rows_by_key(key = \"Name\"))"
   ]
  },
  {
   "cell_type": "markdown",
   "metadata": {},
   "source": [
    "### 2.2.1 Seriesは、ndarrayに似たもの"
   ]
  },
  {
   "cell_type": "code",
   "execution_count": 40,
   "metadata": {},
   "outputs": [
    {
     "name": "stdout",
     "output_type": "stream",
     "text": [
      "shape: (2,)\n",
      "Series: 'Age' [i8]\n",
      "[\n",
      "\t37\n",
      "\t61\n",
      "]\n"
     ]
    }
   ],
   "source": [
    "ages = scientists[\"Age\"]\n",
    "print(ages)"
   ]
  },
  {
   "cell_type": "code",
   "execution_count": 41,
   "metadata": {},
   "outputs": [
    {
     "name": "stdout",
     "output_type": "stream",
     "text": [
      "49.0\n",
      "37\n",
      "61\n",
      "16.97056274847714\n",
      "98\n"
     ]
    }
   ],
   "source": [
    "print(ages.mean())\n",
    "print(ages.min())\n",
    "print(ages.max())\n",
    "print(ages.std())\n",
    "print(ages.sum())"
   ]
  },
  {
   "cell_type": "markdown",
   "metadata": {},
   "source": [
    "### 2.2.2 Seriesを真偽値で取り込む"
   ]
  },
  {
   "cell_type": "code",
   "execution_count": 42,
   "metadata": {},
   "outputs": [
    {
     "data": {
      "text/html": [
       "<div><style>\n",
       ".dataframe > thead > tr,\n",
       ".dataframe > tbody > tr {\n",
       "  text-align: right;\n",
       "  white-space: pre-wrap;\n",
       "}\n",
       "</style>\n",
       "<small>shape: (8, 5)</small><table border=\"1\" class=\"dataframe\"><thead><tr><th>Name</th><th>Born</th><th>Died</th><th>Age</th><th>Occupation</th></tr><tr><td>str</td><td>str</td><td>str</td><td>i64</td><td>str</td></tr></thead><tbody><tr><td>&quot;Rosaline Frank…</td><td>&quot;1920-07-25&quot;</td><td>&quot;1958-04-16&quot;</td><td>37</td><td>&quot;Chemist&quot;</td></tr><tr><td>&quot;William Gosset…</td><td>&quot;1876-06-13&quot;</td><td>&quot;1937-10-16&quot;</td><td>61</td><td>&quot;Statistician&quot;</td></tr><tr><td>&quot;Florence Night…</td><td>&quot;1820-05-12&quot;</td><td>&quot;1910-08-13&quot;</td><td>90</td><td>&quot;Nurse&quot;</td></tr><tr><td>&quot;Marie Curie&quot;</td><td>&quot;1867-11-07&quot;</td><td>&quot;1934-07-04&quot;</td><td>66</td><td>&quot;Chemist&quot;</td></tr><tr><td>&quot;Rachel Carson&quot;</td><td>&quot;1907-05-27&quot;</td><td>&quot;1964-04-14&quot;</td><td>56</td><td>&quot;Biologist&quot;</td></tr><tr><td>&quot;John Snow&quot;</td><td>&quot;1813-03-15&quot;</td><td>&quot;1858-06-16&quot;</td><td>45</td><td>&quot;Physician&quot;</td></tr><tr><td>&quot;Alan Turing&quot;</td><td>&quot;1912-06-23&quot;</td><td>&quot;1954-06-07&quot;</td><td>41</td><td>&quot;Computer Scien…</td></tr><tr><td>&quot;Johann Gauss&quot;</td><td>&quot;1777-04-30&quot;</td><td>&quot;1855-02-23&quot;</td><td>77</td><td>&quot;Mathematician&quot;</td></tr></tbody></table></div>"
      ],
      "text/plain": [
       "shape: (8, 5)\n",
       "┌──────────────────────┬────────────┬────────────┬─────┬────────────────────┐\n",
       "│ Name                 ┆ Born       ┆ Died       ┆ Age ┆ Occupation         │\n",
       "│ ---                  ┆ ---        ┆ ---        ┆ --- ┆ ---                │\n",
       "│ str                  ┆ str        ┆ str        ┆ i64 ┆ str                │\n",
       "╞══════════════════════╪════════════╪════════════╪═════╪════════════════════╡\n",
       "│ Rosaline Franklin    ┆ 1920-07-25 ┆ 1958-04-16 ┆ 37  ┆ Chemist            │\n",
       "│ William Gosset       ┆ 1876-06-13 ┆ 1937-10-16 ┆ 61  ┆ Statistician       │\n",
       "│ Florence Nightingale ┆ 1820-05-12 ┆ 1910-08-13 ┆ 90  ┆ Nurse              │\n",
       "│ Marie Curie          ┆ 1867-11-07 ┆ 1934-07-04 ┆ 66  ┆ Chemist            │\n",
       "│ Rachel Carson        ┆ 1907-05-27 ┆ 1964-04-14 ┆ 56  ┆ Biologist          │\n",
       "│ John Snow            ┆ 1813-03-15 ┆ 1858-06-16 ┆ 45  ┆ Physician          │\n",
       "│ Alan Turing          ┆ 1912-06-23 ┆ 1954-06-07 ┆ 41  ┆ Computer Scientist │\n",
       "│ Johann Gauss         ┆ 1777-04-30 ┆ 1855-02-23 ┆ 77  ┆ Mathematician      │\n",
       "└──────────────────────┴────────────┴────────────┴─────┴────────────────────┘"
      ]
     },
     "execution_count": 42,
     "metadata": {},
     "output_type": "execute_result"
    }
   ],
   "source": [
    "scientists = pl.read_csv(\"../data/scientists.csv\")\n",
    "scientists"
   ]
  },
  {
   "cell_type": "code",
   "execution_count": 43,
   "metadata": {},
   "outputs": [
    {
     "name": "stdout",
     "output_type": "stream",
     "text": [
      "shape: (8,)\n",
      "Series: 'Age' [i64]\n",
      "[\n",
      "\t37\n",
      "\t61\n",
      "\t90\n",
      "\t66\n",
      "\t56\n",
      "\t45\n",
      "\t41\n",
      "\t77\n",
      "]\n",
      "shape: (9, 2)\n",
      "┌────────────┬───────────┐\n",
      "│ statistic  ┆ value     │\n",
      "│ ---        ┆ ---       │\n",
      "│ str        ┆ f64       │\n",
      "╞════════════╪═══════════╡\n",
      "│ count      ┆ 8.0       │\n",
      "│ null_count ┆ 0.0       │\n",
      "│ mean       ┆ 59.125    │\n",
      "│ std        ┆ 18.325918 │\n",
      "│ min        ┆ 37.0      │\n",
      "│ 25%        ┆ 45.0      │\n",
      "│ 50%        ┆ 61.0      │\n",
      "│ 75%        ┆ 77.0      │\n",
      "│ max        ┆ 90.0      │\n",
      "└────────────┴───────────┘\n",
      "59.125\n"
     ]
    }
   ],
   "source": [
    "ages = scientists[\"Age\"]\n",
    "print(ages)\n",
    "print(ages.describe())\n",
    "print(ages.mean())"
   ]
  },
  {
   "cell_type": "code",
   "execution_count": 44,
   "metadata": {},
   "outputs": [
    {
     "data": {
      "text/html": [
       "<div><style>\n",
       ".dataframe > thead > tr,\n",
       ".dataframe > tbody > tr {\n",
       "  text-align: right;\n",
       "  white-space: pre-wrap;\n",
       "}\n",
       "</style>\n",
       "<small>shape: (4,)</small><table border=\"1\" class=\"dataframe\"><thead><tr><th>Age</th></tr><tr><td>i64</td></tr></thead><tbody><tr><td>61</td></tr><tr><td>90</td></tr><tr><td>66</td></tr><tr><td>77</td></tr></tbody></table></div>"
      ],
      "text/plain": [
       "shape: (4,)\n",
       "Series: 'Age' [i64]\n",
       "[\n",
       "\t61\n",
       "\t90\n",
       "\t66\n",
       "\t77\n",
       "]"
      ]
     },
     "execution_count": 44,
     "metadata": {},
     "output_type": "execute_result"
    }
   ],
   "source": [
    "#ages[ages > ages.mean()]\n",
    "# polarsのSeriesにおけるfilterはbool値のリストを渡す型式のため、\n",
    "# DataFrameで絞り込んだ方が良い\n",
    "scientists.filter( pl.col(\"Age\") > ages.mean() )[\"Age\"]"
   ]
  },
  {
   "cell_type": "code",
   "execution_count": 45,
   "metadata": {},
   "outputs": [
    {
     "name": "stdout",
     "output_type": "stream",
     "text": [
      "shape: (8,)\n",
      "Series: 'Age' [bool]\n",
      "[\n",
      "\tfalse\n",
      "\ttrue\n",
      "\ttrue\n",
      "\ttrue\n",
      "\tfalse\n",
      "\tfalse\n",
      "\tfalse\n",
      "\ttrue\n",
      "]\n",
      "[False, True, True, True, False, False, False, True]\n"
     ]
    }
   ],
   "source": [
    "# 真偽値のSeries\n",
    "print( ages > ages.mean() )\n",
    "# 真偽値のList\n",
    "print( (ages > ages.mean()).to_list() )"
   ]
  },
  {
   "cell_type": "code",
   "execution_count": 46,
   "metadata": {},
   "outputs": [
    {
     "name": "stdout",
     "output_type": "stream",
     "text": [
      "shape: (5,)\n",
      "Series: 'Age' [i64]\n",
      "[\n",
      "\t37\n",
      "\t61\n",
      "\t56\n",
      "\t45\n",
      "\t77\n",
      "]\n"
     ]
    }
   ],
   "source": [
    "manual_bool_values = [True, True, False, False, True,\n",
    "                      True, False, True]\n",
    "\n",
    "# pandasではSeriesに要素数と同じ長さのbool listを渡すと、Trueの要素を絞り込む\n",
    "#print(ages[manual_bool_values])\n",
    "\n",
    "# polarsの場合、Series.filter()を使用する\n",
    "print(ages.filter(manual_bool_values))"
   ]
  },
  {
   "cell_type": "markdown",
   "metadata": {},
   "source": [
    "### 2.2.3 演算の自動的な整列とベクトル化(ブロードキャスティング)"
   ]
  },
  {
   "cell_type": "markdown",
   "metadata": {},
   "source": [
    "#### 2.2.3.1 同じ長さのベクトル"
   ]
  },
  {
   "cell_type": "code",
   "execution_count": 47,
   "metadata": {},
   "outputs": [
    {
     "name": "stdout",
     "output_type": "stream",
     "text": [
      "shape: (8,)\n",
      "Series: 'Age' [i64]\n",
      "[\n",
      "\t74\n",
      "\t122\n",
      "\t180\n",
      "\t132\n",
      "\t112\n",
      "\t90\n",
      "\t82\n",
      "\t154\n",
      "]\n",
      "shape: (8,)\n",
      "Series: 'Age' [i64]\n",
      "[\n",
      "\t1369\n",
      "\t3721\n",
      "\t8100\n",
      "\t4356\n",
      "\t3136\n",
      "\t2025\n",
      "\t1681\n",
      "\t5929\n",
      "]\n"
     ]
    }
   ],
   "source": [
    "print(ages + ages)\n",
    "print(ages * ages)"
   ]
  },
  {
   "cell_type": "markdown",
   "metadata": {},
   "source": [
    "#### 2.2.3.2 ベクトルと整数値(スカラー)"
   ]
  },
  {
   "cell_type": "code",
   "execution_count": 48,
   "metadata": {},
   "outputs": [
    {
     "name": "stdout",
     "output_type": "stream",
     "text": [
      "shape: (8,)\n",
      "Series: 'Age' [i64]\n",
      "[\n",
      "\t137\n",
      "\t161\n",
      "\t190\n",
      "\t166\n",
      "\t156\n",
      "\t145\n",
      "\t141\n",
      "\t177\n",
      "]\n",
      "shape: (8,)\n",
      "Series: 'Age' [i64]\n",
      "[\n",
      "\t74\n",
      "\t122\n",
      "\t180\n",
      "\t132\n",
      "\t112\n",
      "\t90\n",
      "\t82\n",
      "\t154\n",
      "]\n"
     ]
    }
   ],
   "source": [
    "print(ages + 100)\n",
    "print(ages * 2)"
   ]
  },
  {
   "cell_type": "markdown",
   "metadata": {},
   "source": [
    "#### 2.2.3.3 長さの違うベクトル"
   ]
  },
  {
   "cell_type": "code",
   "execution_count": 49,
   "metadata": {},
   "outputs": [],
   "source": [
    "#polarsではlengthの異なるSeriesに +等の演算子を使用することはできない\n",
    "#print( ages + pl.Series([1, 100]) )\n",
    "\n",
    "#import numpy as np\n",
    "#print( ages + np.array([1, 100]))"
   ]
  },
  {
   "cell_type": "markdown",
   "metadata": {},
   "source": [
    "#### 2.2.3.4 インデックスラベルが共通するベクトル(自動整列)\n",
    "**polarsにはindexは無い**ので、省略"
   ]
  },
  {
   "cell_type": "markdown",
   "metadata": {},
   "source": [
    "## 2.3 DataFrameについて"
   ]
  },
  {
   "cell_type": "markdown",
   "metadata": {},
   "source": [
    "### 2.3.1 DataFrameの構成要素"
   ]
  },
  {
   "cell_type": "code",
   "execution_count": 50,
   "metadata": {},
   "outputs": [
    {
     "name": "stdout",
     "output_type": "stream",
     "text": [
      "['Name', 'Born', 'Died', 'Age', 'Occupation']\n",
      "[['Rosaline Franklin' '1920-07-25' '1958-04-16' 37 'Chemist']\n",
      " ['William Gosset' '1876-06-13' '1937-10-16' 61 'Statistician']\n",
      " ['Florence Nightingale' '1820-05-12' '1910-08-13' 90 'Nurse']\n",
      " ['Marie Curie' '1867-11-07' '1934-07-04' 66 'Chemist']\n",
      " ['Rachel Carson' '1907-05-27' '1964-04-14' 56 'Biologist']\n",
      " ['John Snow' '1813-03-15' '1858-06-16' 45 'Physician']\n",
      " ['Alan Turing' '1912-06-23' '1954-06-07' 41 'Computer Scientist']\n",
      " ['Johann Gauss' '1777-04-30' '1855-02-23' 77 'Mathematician']]\n"
     ]
    }
   ],
   "source": [
    "#polarsにindexは無い\n",
    "#print( scientists.index )\n",
    "\n",
    "#列名はリスト\n",
    "print( scientists.columns )\n",
    "\n",
    "#polarsのvaluesに対応させるにはto_numpyにする?\n",
    "#print( scientists.values )\n",
    "print( scientists.to_numpy() )\n",
    "\n",
    "#別の表示形式\n",
    "#print( scientists.to_arrow() )\n",
    "#print( scientists.to_dicts() )"
   ]
  },
  {
   "cell_type": "markdown",
   "metadata": {},
   "source": [
    "### 2.3.2 DataFrameを真偽値で絞り込む"
   ]
  },
  {
   "cell_type": "code",
   "execution_count": 51,
   "metadata": {},
   "outputs": [
    {
     "name": "stdout",
     "output_type": "stream",
     "text": [
      "shape: (4, 5)\n",
      "┌──────────────────────┬────────────┬────────────┬─────┬───────────────┐\n",
      "│ Name                 ┆ Born       ┆ Died       ┆ Age ┆ Occupation    │\n",
      "│ ---                  ┆ ---        ┆ ---        ┆ --- ┆ ---           │\n",
      "│ str                  ┆ str        ┆ str        ┆ i64 ┆ str           │\n",
      "╞══════════════════════╪════════════╪════════════╪═════╪═══════════════╡\n",
      "│ Florence Nightingale ┆ 1820-05-12 ┆ 1910-08-13 ┆ 90  ┆ Nurse         │\n",
      "│ Johann Gauss         ┆ 1777-04-30 ┆ 1855-02-23 ┆ 77  ┆ Mathematician │\n",
      "│ Marie Curie          ┆ 1867-11-07 ┆ 1934-07-04 ┆ 66  ┆ Chemist       │\n",
      "│ William Gosset       ┆ 1876-06-13 ┆ 1937-10-16 ┆ 61  ┆ Statistician  │\n",
      "└──────────────────────┴────────────┴────────────┴─────┴───────────────┘\n",
      "shape: (4, 5)\n",
      "┌──────────────────────┬────────────┬────────────┬─────┬───────────────┐\n",
      "│ Name                 ┆ Born       ┆ Died       ┆ Age ┆ Occupation    │\n",
      "│ ---                  ┆ ---        ┆ ---        ┆ --- ┆ ---           │\n",
      "│ str                  ┆ str        ┆ str        ┆ i64 ┆ str           │\n",
      "╞══════════════════════╪════════════╪════════════╪═════╪═══════════════╡\n",
      "│ Florence Nightingale ┆ 1820-05-12 ┆ 1910-08-13 ┆ 90  ┆ Nurse         │\n",
      "│ Johann Gauss         ┆ 1777-04-30 ┆ 1855-02-23 ┆ 77  ┆ Mathematician │\n",
      "│ Marie Curie          ┆ 1867-11-07 ┆ 1934-07-04 ┆ 66  ┆ Chemist       │\n",
      "│ William Gosset       ┆ 1876-06-13 ┆ 1937-10-16 ┆ 61  ┆ Statistician  │\n",
      "└──────────────────────┴────────────┴────────────┴─────┴───────────────┘\n",
      "shape: (4, 5)\n",
      "┌──────────────────────┬────────────┬────────────┬─────┬───────────────┐\n",
      "│ Name                 ┆ Born       ┆ Died       ┆ Age ┆ Occupation    │\n",
      "│ ---                  ┆ ---        ┆ ---        ┆ --- ┆ ---           │\n",
      "│ str                  ┆ str        ┆ str        ┆ i64 ┆ str           │\n",
      "╞══════════════════════╪════════════╪════════════╪═════╪═══════════════╡\n",
      "│ Florence Nightingale ┆ 1820-05-12 ┆ 1910-08-13 ┆ 90  ┆ Nurse         │\n",
      "│ Johann Gauss         ┆ 1777-04-30 ┆ 1855-02-23 ┆ 77  ┆ Mathematician │\n",
      "│ Marie Curie          ┆ 1867-11-07 ┆ 1934-07-04 ┆ 66  ┆ Chemist       │\n",
      "│ William Gosset       ┆ 1876-06-13 ┆ 1937-10-16 ┆ 61  ┆ Statistician  │\n",
      "└──────────────────────┴────────────┴────────────┴─────┴───────────────┘\n"
     ]
    }
   ],
   "source": [
    "#print( scientists.loc[ scientists[\"Age\"] > scientists[\"Age\"].mean() ] )\n",
    "\n",
    "# polarsで真偽値で絞り込む場合、filter関数を使用する\n",
    "# 下記の3行は同じ結果を返す\n",
    "# 注釈: sort()を使用しているのはpolarsは並列処理で順番が入れ替わることがあるため。\n",
    "print( scientists.filter( scientists[\"Age\"] > scientists[\"Age\"].mean() ).sort(\"Name\") )\n",
    "print( scientists.filter( pl.col(\"Age\") > scientists[\"Age\"].mean() ).sort(\"Name\") )\n",
    "print( scientists.filter( scientists[\"Age\"] > pl.col(\"Age\").mean() ).sort(\"Name\") )"
   ]
  },
  {
   "cell_type": "code",
   "execution_count": 52,
   "metadata": {},
   "outputs": [
    {
     "name": "stdout",
     "output_type": "stream",
     "text": [
      "shape: (4, 5)\n",
      "┌──────────────────────┬────────────┬────────────┬─────┬───────────────┐\n",
      "│ Name                 ┆ Born       ┆ Died       ┆ Age ┆ Occupation    │\n",
      "│ ---                  ┆ ---        ┆ ---        ┆ --- ┆ ---           │\n",
      "│ str                  ┆ str        ┆ str        ┆ i64 ┆ str           │\n",
      "╞══════════════════════╪════════════╪════════════╪═════╪═══════════════╡\n",
      "│ Florence Nightingale ┆ 1820-05-12 ┆ 1910-08-13 ┆ 90  ┆ Nurse         │\n",
      "│ Johann Gauss         ┆ 1777-04-30 ┆ 1855-02-23 ┆ 77  ┆ Mathematician │\n",
      "│ Marie Curie          ┆ 1867-11-07 ┆ 1934-07-04 ┆ 66  ┆ Chemist       │\n",
      "│ William Gosset       ┆ 1876-06-13 ┆ 1937-10-16 ┆ 61  ┆ Statistician  │\n",
      "└──────────────────────┴────────────┴────────────┴─────┴───────────────┘\n",
      "shape: (4, 5)\n",
      "┌──────────────────────┬────────────┬────────────┬─────┬───────────────┐\n",
      "│ Name                 ┆ Born       ┆ Died       ┆ Age ┆ Occupation    │\n",
      "│ ---                  ┆ ---        ┆ ---        ┆ --- ┆ ---           │\n",
      "│ str                  ┆ str        ┆ str        ┆ i64 ┆ str           │\n",
      "╞══════════════════════╪════════════╪════════════╪═════╪═══════════════╡\n",
      "│ Florence Nightingale ┆ 1820-05-12 ┆ 1910-08-13 ┆ 90  ┆ Nurse         │\n",
      "│ Johann Gauss         ┆ 1777-04-30 ┆ 1855-02-23 ┆ 77  ┆ Mathematician │\n",
      "│ Marie Curie          ┆ 1867-11-07 ┆ 1934-07-04 ┆ 66  ┆ Chemist       │\n",
      "│ William Gosset       ┆ 1876-06-13 ┆ 1937-10-16 ┆ 61  ┆ Statistician  │\n",
      "└──────────────────────┴────────────┴────────────┴─────┴───────────────┘\n"
     ]
    }
   ],
   "source": [
    "# 下記の2行は、前のセルの3行と同じ結果を返す\n",
    "print( scientists.filter( pl.col(\"Age\") > pl.col(\"Age\").mean() ).sort(\"Name\") )\n",
    "print( scientists.filter( pl.col(\"Age\") > pl.mean(\"Age\") ).sort(\"Name\") )"
   ]
  },
  {
   "cell_type": "markdown",
   "metadata": {},
   "source": [
    "### 2.3.3 演算による整列とベクトル化(ブロードキャスティング)"
   ]
  },
  {
   "cell_type": "code",
   "execution_count": 53,
   "metadata": {},
   "outputs": [
    {
     "name": "stdout",
     "output_type": "stream",
     "text": [
      "shape: (4, 5)\n",
      "┌──────────────────────┬────────────┬────────────┬─────┬──────────────┐\n",
      "│ Name                 ┆ Born       ┆ Died       ┆ Age ┆ Occupation   │\n",
      "│ ---                  ┆ ---        ┆ ---        ┆ --- ┆ ---          │\n",
      "│ str                  ┆ str        ┆ str        ┆ i64 ┆ str          │\n",
      "╞══════════════════════╪════════════╪════════════╪═════╪══════════════╡\n",
      "│ Rosaline Franklin    ┆ 1920-07-25 ┆ 1958-04-16 ┆ 37  ┆ Chemist      │\n",
      "│ William Gosset       ┆ 1876-06-13 ┆ 1937-10-16 ┆ 61  ┆ Statistician │\n",
      "│ Florence Nightingale ┆ 1820-05-12 ┆ 1910-08-13 ┆ 90  ┆ Nurse        │\n",
      "│ Marie Curie          ┆ 1867-11-07 ┆ 1934-07-04 ┆ 66  ┆ Chemist      │\n",
      "└──────────────────────┴────────────┴────────────┴─────┴──────────────┘\n",
      "shape: (4, 5)\n",
      "┌───────────────┬────────────┬────────────┬─────┬────────────────────┐\n",
      "│ Name          ┆ Born       ┆ Died       ┆ Age ┆ Occupation         │\n",
      "│ ---           ┆ ---        ┆ ---        ┆ --- ┆ ---                │\n",
      "│ str           ┆ str        ┆ str        ┆ i64 ┆ str                │\n",
      "╞═══════════════╪════════════╪════════════╪═════╪════════════════════╡\n",
      "│ Rachel Carson ┆ 1907-05-27 ┆ 1964-04-14 ┆ 56  ┆ Biologist          │\n",
      "│ John Snow     ┆ 1813-03-15 ┆ 1858-06-16 ┆ 45  ┆ Physician          │\n",
      "│ Alan Turing   ┆ 1912-06-23 ┆ 1954-06-07 ┆ 41  ┆ Computer Scientist │\n",
      "│ Johann Gauss  ┆ 1777-04-30 ┆ 1855-02-23 ┆ 77  ┆ Mathematician      │\n",
      "└───────────────┴────────────┴────────────┴─────┴────────────────────┘\n"
     ]
    }
   ],
   "source": [
    "first_half = scientists[:4]\n",
    "second_half = scientists[4:]\n",
    "\n",
    "print(first_half)\n",
    "print(second_half)"
   ]
  },
  {
   "cell_type": "code",
   "execution_count": 54,
   "metadata": {},
   "outputs": [],
   "source": [
    "#polarsの場合、文字列操作で *演算子は使用できない\n",
    "#print( scientists * 2 )"
   ]
  },
  {
   "cell_type": "markdown",
   "metadata": {},
   "source": [
    "## 2.4 SeriesとDataFrameの書き換え"
   ]
  },
  {
   "cell_type": "code",
   "execution_count": 55,
   "metadata": {},
   "outputs": [
    {
     "data": {
      "text/plain": [
       "[Utf8, Utf8, Utf8, Int64, Utf8]"
      ]
     },
     "execution_count": 55,
     "metadata": {},
     "output_type": "execute_result"
    }
   ],
   "source": [
    "scientists.dtypes"
   ]
  },
  {
   "cell_type": "code",
   "execution_count": 56,
   "metadata": {},
   "outputs": [
    {
     "name": "stdout",
     "output_type": "stream",
     "text": [
      "shape: (8,)\n",
      "Series: 'Born' [date]\n",
      "[\n",
      "\t1920-07-25\n",
      "\t1876-06-13\n",
      "\t1820-05-12\n",
      "\t1867-11-07\n",
      "\t1907-05-27\n",
      "\t1813-03-15\n",
      "\t1912-06-23\n",
      "\t1777-04-30\n",
      "]\n",
      "shape: (8,)\n",
      "Series: 'Died' [date]\n",
      "[\n",
      "\t1958-04-16\n",
      "\t1937-10-16\n",
      "\t1910-08-13\n",
      "\t1934-07-04\n",
      "\t1964-04-14\n",
      "\t1858-06-16\n",
      "\t1954-06-07\n",
      "\t1855-02-23\n",
      "]\n"
     ]
    }
   ],
   "source": [
    "#年-月-日に変換したい場合、to_dateを用いる\n",
    "born_datetime = scientists[\"Born\"].str.to_date(format = \"%Y-%m-%d\")\n",
    "print(born_datetime)\n",
    "\n",
    "died_datetime = scientists[\"Died\"].str.to_date(format = \"%Y-%m-%d\")\n",
    "print(died_datetime)"
   ]
  },
  {
   "cell_type": "code",
   "execution_count": 57,
   "metadata": {},
   "outputs": [
    {
     "name": "stdout",
     "output_type": "stream",
     "text": [
      "shape: (5, 7)\n",
      "┌──────────────────────┬────────────┬────────────┬─────┬──────────────┬────────────┬────────────┐\n",
      "│ Name                 ┆ Born       ┆ Died       ┆ Age ┆ Occupation   ┆ born_dt    ┆ died_dt    │\n",
      "│ ---                  ┆ ---        ┆ ---        ┆ --- ┆ ---          ┆ ---        ┆ ---        │\n",
      "│ str                  ┆ str        ┆ str        ┆ i64 ┆ str          ┆ date       ┆ date       │\n",
      "╞══════════════════════╪════════════╪════════════╪═════╪══════════════╪════════════╪════════════╡\n",
      "│ Rosaline Franklin    ┆ 1920-07-25 ┆ 1958-04-16 ┆ 37  ┆ Chemist      ┆ 1920-07-25 ┆ 1958-04-16 │\n",
      "│ William Gosset       ┆ 1876-06-13 ┆ 1937-10-16 ┆ 61  ┆ Statistician ┆ 1876-06-13 ┆ 1937-10-16 │\n",
      "│ Florence Nightingale ┆ 1820-05-12 ┆ 1910-08-13 ┆ 90  ┆ Nurse        ┆ 1820-05-12 ┆ 1910-08-13 │\n",
      "│ Marie Curie          ┆ 1867-11-07 ┆ 1934-07-04 ┆ 66  ┆ Chemist      ┆ 1867-11-07 ┆ 1934-07-04 │\n",
      "│ Rachel Carson        ┆ 1907-05-27 ┆ 1964-04-14 ┆ 56  ┆ Biologist    ┆ 1907-05-27 ┆ 1964-04-14 │\n",
      "└──────────────────────┴────────────┴────────────┴─────┴──────────────┴────────────┴────────────┘\n",
      "(8, 7)\n",
      "[Utf8, Utf8, Utf8, Int64, Utf8, Date, Date]\n"
     ]
    }
   ],
   "source": [
    "#polarsで列を追加したい場合、with_columns関数を使用する\n",
    "#scientists[\"born_dt\"], scientists[\"died_dt\"] = (\n",
    "#    born_datetime,\n",
    "#    died_datetime\n",
    "#)\n",
    "\n",
    "scientists = scientists.with_columns([\n",
    "    born_datetime.alias(\"born_dt\"),\n",
    "    died_datetime.alias(\"died_dt\")\n",
    "])\n",
    "\n",
    "print(scientists.head())\n",
    "print(scientists.shape)\n",
    "print(scientists.dtypes)"
   ]
  },
  {
   "cell_type": "markdown",
   "metadata": {},
   "source": [
    "### 2.4.2 列を直接変更する"
   ]
  },
  {
   "cell_type": "code",
   "execution_count": 58,
   "metadata": {},
   "outputs": [
    {
     "name": "stdout",
     "output_type": "stream",
     "text": [
      "shape: (8,)\n",
      "Series: 'Age' [i64]\n",
      "[\n",
      "\t37\n",
      "\t61\n",
      "\t90\n",
      "\t66\n",
      "\t56\n",
      "\t45\n",
      "\t41\n",
      "\t77\n",
      "]\n"
     ]
    }
   ],
   "source": [
    "print(scientists[\"Age\"])"
   ]
  },
  {
   "cell_type": "code",
   "execution_count": 59,
   "metadata": {},
   "outputs": [],
   "source": [
    "#pandasはデータがindexに紐づいているため、ある列のデータを無作為に並べ替えて代入しても、元のDataFrameは変化しない\n",
    "#scientists[\"Age\"] = scientists[\"Age\"].sample(fraction = 1, seed = 42)\n",
    "\n",
    "#しかし、polarsにはindexが無いため、並べ替えた列の代入が可能\n",
    "#scientists = scientists.replace(\"Age\", scientists[\"Age\"].sample(fraction = 1, seed = 42))\n",
    "#scientists"
   ]
  },
  {
   "cell_type": "code",
   "execution_count": 61,
   "metadata": {},
   "outputs": [
    {
     "name": "stdout",
     "output_type": "stream",
     "text": [
      "shape: (8, 8)\n",
      "┌─────────────┬────────────┬────────────┬─────┬─────────────┬────────────┬────────────┬────────────┐\n",
      "│ Name        ┆ Born       ┆ Died       ┆ Age ┆ Occupation  ┆ born_dt    ┆ died_dt    ┆ age_days   │\n",
      "│ ---         ┆ ---        ┆ ---        ┆ --- ┆ ---         ┆ ---        ┆ ---        ┆ ---        │\n",
      "│ str         ┆ str        ┆ str        ┆ i64 ┆ str         ┆ date       ┆ date       ┆ duration[m │\n",
      "│             ┆            ┆            ┆     ┆             ┆            ┆            ┆ s]         │\n",
      "╞═════════════╪════════════╪════════════╪═════╪═════════════╪════════════╪════════════╪════════════╡\n",
      "│ Rosaline    ┆ 1920-07-25 ┆ 1958-04-16 ┆ 37  ┆ Chemist     ┆ 1920-07-25 ┆ 1958-04-16 ┆ 13779d     │\n",
      "│ Franklin    ┆            ┆            ┆     ┆             ┆            ┆            ┆            │\n",
      "│ William     ┆ 1876-06-13 ┆ 1937-10-16 ┆ 61  ┆ Statisticia ┆ 1876-06-13 ┆ 1937-10-16 ┆ 22404d     │\n",
      "│ Gosset      ┆            ┆            ┆     ┆ n           ┆            ┆            ┆            │\n",
      "│ Florence    ┆ 1820-05-12 ┆ 1910-08-13 ┆ 90  ┆ Nurse       ┆ 1820-05-12 ┆ 1910-08-13 ┆ 32964d     │\n",
      "│ Nightingale ┆            ┆            ┆     ┆             ┆            ┆            ┆            │\n",
      "│ Marie Curie ┆ 1867-11-07 ┆ 1934-07-04 ┆ 66  ┆ Chemist     ┆ 1867-11-07 ┆ 1934-07-04 ┆ 24345d     │\n",
      "│ Rachel      ┆ 1907-05-27 ┆ 1964-04-14 ┆ 56  ┆ Biologist   ┆ 1907-05-27 ┆ 1964-04-14 ┆ 20777d     │\n",
      "│ Carson      ┆            ┆            ┆     ┆             ┆            ┆            ┆            │\n",
      "│ John Snow   ┆ 1813-03-15 ┆ 1858-06-16 ┆ 45  ┆ Physician   ┆ 1813-03-15 ┆ 1858-06-16 ┆ 16529d     │\n",
      "│ Alan Turing ┆ 1912-06-23 ┆ 1954-06-07 ┆ 41  ┆ Computer    ┆ 1912-06-23 ┆ 1954-06-07 ┆ 15324d     │\n",
      "│             ┆            ┆            ┆     ┆ Scientist   ┆            ┆            ┆            │\n",
      "│ Johann      ┆ 1777-04-30 ┆ 1855-02-23 ┆ 77  ┆ Mathematici ┆ 1777-04-30 ┆ 1855-02-23 ┆ 28422d     │\n",
      "│ Gauss       ┆            ┆            ┆     ┆ an          ┆            ┆            ┆            │\n",
      "└─────────────┴────────────┴────────────┴─────┴─────────────┴────────────┴────────────┴────────────┘\n"
     ]
    }
   ],
   "source": [
    "scientists = scientists.with_columns([\n",
    "    (scientists[\"died_dt\"] - scientists[\"born_dt\"]).alias(\"age_days\")\n",
    "])\n",
    "print(scientists)\n",
    "\n",
    "\n"
   ]
  },
  {
   "cell_type": "markdown",
   "metadata": {},
   "source": [
    "### 2.4.3 列をassign()によって変更する"
   ]
  },
  {
   "cell_type": "code",
   "execution_count": 63,
   "metadata": {},
   "outputs": [],
   "source": [
    "#pandasのassignに相当するpolarsの関数はwit_columns\n",
    "#scientists = scientists.assign(\n",
    "#    age_days_days_assign = scientists[\"died_dt\"] - scientists[\"born_dt\"]\n",
    "#)"
   ]
  },
  {
   "cell_type": "markdown",
   "metadata": {},
   "source": [
    "### 2.4.4 値を捨てる"
   ]
  },
  {
   "cell_type": "code",
   "execution_count": 65,
   "metadata": {},
   "outputs": [
    {
     "name": "stdout",
     "output_type": "stream",
     "text": [
      "['Name', 'Born', 'Died', 'Age', 'Occupation', 'born_dt', 'died_dt', 'age_days']\n",
      "['Name', 'Born', 'Died', 'Occupation', 'born_dt', 'died_dt', 'age_days']\n"
     ]
    }
   ],
   "source": [
    "print(scientists.columns)\n",
    "\n",
    "scientists_dropped = scientists.drop([\"Age\"])\n",
    "\n",
    "print(scientists_dropped.columns)"
   ]
  },
  {
   "cell_type": "markdown",
   "metadata": {},
   "source": [
    "## 2.5 データのエクスポートとインポート"
   ]
  },
  {
   "cell_type": "markdown",
   "metadata": {},
   "source": [
    "### 2.5.1 pickle"
   ]
  },
  {
   "cell_type": "markdown",
   "metadata": {},
   "source": [
    "#### 2.5.1.1  Series"
   ]
  },
  {
   "cell_type": "code",
   "execution_count": 67,
   "metadata": {},
   "outputs": [
    {
     "name": "stdout",
     "output_type": "stream",
     "text": [
      "shape: (8,)\n",
      "Series: 'Name' [str]\n",
      "[\n",
      "\t\"Rosaline Frank…\n",
      "\t\"William Gosset…\n",
      "\t\"Florence Night…\n",
      "\t\"Marie Curie\"\n",
      "\t\"Rachel Carson\"\n",
      "\t\"John Snow\"\n",
      "\t\"Alan Turing\"\n",
      "\t\"Johann Gauss\"\n",
      "]\n"
     ]
    }
   ],
   "source": [
    "#polarsにはpickle型式で保存する方法は無い?\n",
    "names = scientists[\"Name\"]\n",
    "print(names)\n",
    "#names.to_pickle(\"output/scientists_names_series.pickle\")"
   ]
  },
  {
   "cell_type": "markdown",
   "metadata": {},
   "source": [
    "#### 2.5.1.2 DataFrame\n",
    "Series同様にpickle形式での保存方法は無い"
   ]
  },
  {
   "cell_type": "markdown",
   "metadata": {},
   "source": [
    "#### 2.5.1.3 pickleデータを読み込む\n",
    "無い"
   ]
  },
  {
   "cell_type": "markdown",
   "metadata": {},
   "source": [
    "### 2.5.2 CSV"
   ]
  },
  {
   "cell_type": "code",
   "execution_count": 88,
   "metadata": {},
   "outputs": [
    {
     "ename": "ComputeError",
     "evalue": "datatype 13779d cannot be written to csv",
     "output_type": "error",
     "traceback": [
      "\u001b[1;31m---------------------------------------------------------------------------\u001b[0m",
      "\u001b[1;31mComputeError\u001b[0m                              Traceback (most recent call last)",
      "Cell \u001b[1;32mIn[88], line 6\u001b[0m\n\u001b[0;32m      1\u001b[0m \u001b[38;5;66;03m#path = r\"C:\\Users\\treme\\source\\RustApps\\pandas_for_everyone\\training_polars\"\u001b[39;00m\n\u001b[0;32m      2\u001b[0m \u001b[38;5;66;03m#import pathlib\u001b[39;00m\n\u001b[0;32m      3\u001b[0m \u001b[38;5;66;03m#print(pathlib.Path())\u001b[39;00m\n\u001b[0;32m      4\u001b[0m \u001b[38;5;66;03m##path = r\"./output/scientists_df_no_index.csv\"\u001b[39;00m\n\u001b[0;32m      5\u001b[0m \u001b[38;5;66;03m#scientists.write_csv(\"scientists_df_no_index.csv\")\u001b[39;00m\n\u001b[1;32m----> 6\u001b[0m \u001b[43mscientists\u001b[49m\u001b[38;5;241;43m.\u001b[39;49m\u001b[43mwrite_csv\u001b[49m\u001b[43m(\u001b[49m\u001b[38;5;124;43m\"\u001b[39;49m\u001b[38;5;124;43miris2.csv\u001b[39;49m\u001b[38;5;124;43m\"\u001b[39;49m\u001b[43m)\u001b[49m\n",
      "File \u001b[1;32mc:\\Python311\\Lib\\site-packages\\polars\\utils\\deprecation.py:100\u001b[0m, in \u001b[0;36mdeprecate_renamed_parameter.<locals>.decorate.<locals>.wrapper\u001b[1;34m(*args, **kwargs)\u001b[0m\n\u001b[0;32m     95\u001b[0m \u001b[38;5;129m@wraps\u001b[39m(function)\n\u001b[0;32m     96\u001b[0m \u001b[38;5;28;01mdef\u001b[39;00m \u001b[38;5;21mwrapper\u001b[39m(\u001b[38;5;241m*\u001b[39margs: P\u001b[38;5;241m.\u001b[39margs, \u001b[38;5;241m*\u001b[39m\u001b[38;5;241m*\u001b[39mkwargs: P\u001b[38;5;241m.\u001b[39mkwargs) \u001b[38;5;241m-\u001b[39m\u001b[38;5;241m>\u001b[39m T:\n\u001b[0;32m     97\u001b[0m     _rename_keyword_argument(\n\u001b[0;32m     98\u001b[0m         old_name, new_name, kwargs, function\u001b[38;5;241m.\u001b[39m\u001b[38;5;18m__name__\u001b[39m, version\n\u001b[0;32m     99\u001b[0m     )\n\u001b[1;32m--> 100\u001b[0m     \u001b[38;5;28;01mreturn\u001b[39;00m \u001b[43mfunction\u001b[49m\u001b[43m(\u001b[49m\u001b[38;5;241;43m*\u001b[39;49m\u001b[43margs\u001b[49m\u001b[43m,\u001b[49m\u001b[43m \u001b[49m\u001b[38;5;241;43m*\u001b[39;49m\u001b[38;5;241;43m*\u001b[39;49m\u001b[43mkwargs\u001b[49m\u001b[43m)\u001b[49m\n",
      "File \u001b[1;32mc:\\Python311\\Lib\\site-packages\\polars\\utils\\deprecation.py:100\u001b[0m, in \u001b[0;36mdeprecate_renamed_parameter.<locals>.decorate.<locals>.wrapper\u001b[1;34m(*args, **kwargs)\u001b[0m\n\u001b[0;32m     95\u001b[0m \u001b[38;5;129m@wraps\u001b[39m(function)\n\u001b[0;32m     96\u001b[0m \u001b[38;5;28;01mdef\u001b[39;00m \u001b[38;5;21mwrapper\u001b[39m(\u001b[38;5;241m*\u001b[39margs: P\u001b[38;5;241m.\u001b[39margs, \u001b[38;5;241m*\u001b[39m\u001b[38;5;241m*\u001b[39mkwargs: P\u001b[38;5;241m.\u001b[39mkwargs) \u001b[38;5;241m-\u001b[39m\u001b[38;5;241m>\u001b[39m T:\n\u001b[0;32m     97\u001b[0m     _rename_keyword_argument(\n\u001b[0;32m     98\u001b[0m         old_name, new_name, kwargs, function\u001b[38;5;241m.\u001b[39m\u001b[38;5;18m__name__\u001b[39m, version\n\u001b[0;32m     99\u001b[0m     )\n\u001b[1;32m--> 100\u001b[0m     \u001b[38;5;28;01mreturn\u001b[39;00m \u001b[43mfunction\u001b[49m\u001b[43m(\u001b[49m\u001b[38;5;241;43m*\u001b[39;49m\u001b[43margs\u001b[49m\u001b[43m,\u001b[49m\u001b[43m \u001b[49m\u001b[38;5;241;43m*\u001b[39;49m\u001b[38;5;241;43m*\u001b[39;49m\u001b[43mkwargs\u001b[49m\u001b[43m)\u001b[49m\n",
      "File \u001b[1;32mc:\\Python311\\Lib\\site-packages\\polars\\dataframe\\frame.py:2597\u001b[0m, in \u001b[0;36mDataFrame.write_csv\u001b[1;34m(self, file, include_bom, include_header, separator, line_terminator, quote_char, batch_size, datetime_format, date_format, time_format, float_precision, null_value, quote_style)\u001b[0m\n\u001b[0;32m   2594\u001b[0m \u001b[38;5;28;01melif\u001b[39;00m \u001b[38;5;28misinstance\u001b[39m(file, TextIOWrapper):\n\u001b[0;32m   2595\u001b[0m     file \u001b[38;5;241m=\u001b[39m cast(TextIOWrapper, file\u001b[38;5;241m.\u001b[39mbuffer)\n\u001b[1;32m-> 2597\u001b[0m \u001b[38;5;28;43mself\u001b[39;49m\u001b[38;5;241;43m.\u001b[39;49m\u001b[43m_df\u001b[49m\u001b[38;5;241;43m.\u001b[39;49m\u001b[43mwrite_csv\u001b[49m\u001b[43m(\u001b[49m\n\u001b[0;32m   2598\u001b[0m \u001b[43m    \u001b[49m\u001b[43mfile\u001b[49m\u001b[43m,\u001b[49m\n\u001b[0;32m   2599\u001b[0m \u001b[43m    \u001b[49m\u001b[43minclude_bom\u001b[49m\u001b[43m,\u001b[49m\n\u001b[0;32m   2600\u001b[0m \u001b[43m    \u001b[49m\u001b[43minclude_header\u001b[49m\u001b[43m,\u001b[49m\n\u001b[0;32m   2601\u001b[0m \u001b[43m    \u001b[49m\u001b[38;5;28;43mord\u001b[39;49m\u001b[43m(\u001b[49m\u001b[43mseparator\u001b[49m\u001b[43m)\u001b[49m\u001b[43m,\u001b[49m\n\u001b[0;32m   2602\u001b[0m \u001b[43m    \u001b[49m\u001b[43mline_terminator\u001b[49m\u001b[43m,\u001b[49m\n\u001b[0;32m   2603\u001b[0m \u001b[43m    \u001b[49m\u001b[38;5;28;43mord\u001b[39;49m\u001b[43m(\u001b[49m\u001b[43mquote_char\u001b[49m\u001b[43m)\u001b[49m\u001b[43m,\u001b[49m\n\u001b[0;32m   2604\u001b[0m \u001b[43m    \u001b[49m\u001b[43mbatch_size\u001b[49m\u001b[43m,\u001b[49m\n\u001b[0;32m   2605\u001b[0m \u001b[43m    \u001b[49m\u001b[43mdatetime_format\u001b[49m\u001b[43m,\u001b[49m\n\u001b[0;32m   2606\u001b[0m \u001b[43m    \u001b[49m\u001b[43mdate_format\u001b[49m\u001b[43m,\u001b[49m\n\u001b[0;32m   2607\u001b[0m \u001b[43m    \u001b[49m\u001b[43mtime_format\u001b[49m\u001b[43m,\u001b[49m\n\u001b[0;32m   2608\u001b[0m \u001b[43m    \u001b[49m\u001b[43mfloat_precision\u001b[49m\u001b[43m,\u001b[49m\n\u001b[0;32m   2609\u001b[0m \u001b[43m    \u001b[49m\u001b[43mnull_value\u001b[49m\u001b[43m,\u001b[49m\n\u001b[0;32m   2610\u001b[0m \u001b[43m    \u001b[49m\u001b[43mquote_style\u001b[49m\u001b[43m,\u001b[49m\n\u001b[0;32m   2611\u001b[0m \u001b[43m\u001b[49m\u001b[43m)\u001b[49m\n\u001b[0;32m   2613\u001b[0m \u001b[38;5;28;01mif\u001b[39;00m should_return_buffer:\n\u001b[0;32m   2614\u001b[0m     \u001b[38;5;28;01mreturn\u001b[39;00m \u001b[38;5;28mstr\u001b[39m(buffer\u001b[38;5;241m.\u001b[39mgetvalue(), encoding\u001b[38;5;241m=\u001b[39m\u001b[38;5;124m\"\u001b[39m\u001b[38;5;124mutf-8\u001b[39m\u001b[38;5;124m\"\u001b[39m)\n",
      "\u001b[1;31mComputeError\u001b[0m: datatype 13779d cannot be written to csv"
     ]
    }
   ],
   "source": [
    "#path = r\"C:\\Users\\treme\\source\\RustApps\\pandas_for_everyone\\training_polars\"\n",
    "#import pathlib\n",
    "#print(pathlib.Path())\n",
    "##path = r\"./output/scientists_df_no_index.csv\"\n",
    "scientists.write_csv(\"scientists_df_no_index.csv\")"
   ]
  },
  {
   "cell_type": "markdown",
   "metadata": {},
   "source": [
    "### 2.5.4 featherフォーマット"
   ]
  },
  {
   "cell_type": "code",
   "execution_count": 90,
   "metadata": {},
   "outputs": [
    {
     "name": "stdout",
     "output_type": "stream",
     "text": [
      "shape: (8, 8)\n",
      "┌─────────────┬────────────┬────────────┬─────┬─────────────┬────────────┬────────────┬────────────┐\n",
      "│ Name        ┆ Born       ┆ Died       ┆ Age ┆ Occupation  ┆ born_dt    ┆ died_dt    ┆ age_days   │\n",
      "│ ---         ┆ ---        ┆ ---        ┆ --- ┆ ---         ┆ ---        ┆ ---        ┆ ---        │\n",
      "│ str         ┆ str        ┆ str        ┆ i64 ┆ str         ┆ date       ┆ date       ┆ duration[m │\n",
      "│             ┆            ┆            ┆     ┆             ┆            ┆            ┆ s]         │\n",
      "╞═════════════╪════════════╪════════════╪═════╪═════════════╪════════════╪════════════╪════════════╡\n",
      "│ Rosaline    ┆ 1920-07-25 ┆ 1958-04-16 ┆ 37  ┆ Chemist     ┆ 1920-07-25 ┆ 1958-04-16 ┆ 13779d     │\n",
      "│ Franklin    ┆            ┆            ┆     ┆             ┆            ┆            ┆            │\n",
      "│ William     ┆ 1876-06-13 ┆ 1937-10-16 ┆ 61  ┆ Statisticia ┆ 1876-06-13 ┆ 1937-10-16 ┆ 22404d     │\n",
      "│ Gosset      ┆            ┆            ┆     ┆ n           ┆            ┆            ┆            │\n",
      "│ Florence    ┆ 1820-05-12 ┆ 1910-08-13 ┆ 90  ┆ Nurse       ┆ 1820-05-12 ┆ 1910-08-13 ┆ 32964d     │\n",
      "│ Nightingale ┆            ┆            ┆     ┆             ┆            ┆            ┆            │\n",
      "│ Marie Curie ┆ 1867-11-07 ┆ 1934-07-04 ┆ 66  ┆ Chemist     ┆ 1867-11-07 ┆ 1934-07-04 ┆ 24345d     │\n",
      "│ Rachel      ┆ 1907-05-27 ┆ 1964-04-14 ┆ 56  ┆ Biologist   ┆ 1907-05-27 ┆ 1964-04-14 ┆ 20777d     │\n",
      "│ Carson      ┆            ┆            ┆     ┆             ┆            ┆            ┆            │\n",
      "│ John Snow   ┆ 1813-03-15 ┆ 1858-06-16 ┆ 45  ┆ Physician   ┆ 1813-03-15 ┆ 1858-06-16 ┆ 16529d     │\n",
      "│ Alan Turing ┆ 1912-06-23 ┆ 1954-06-07 ┆ 41  ┆ Computer    ┆ 1912-06-23 ┆ 1954-06-07 ┆ 15324d     │\n",
      "│             ┆            ┆            ┆     ┆ Scientist   ┆            ┆            ┆            │\n",
      "│ Johann      ┆ 1777-04-30 ┆ 1855-02-23 ┆ 77  ┆ Mathematici ┆ 1777-04-30 ┆ 1855-02-23 ┆ 28422d     │\n",
      "│ Gauss       ┆            ┆            ┆     ┆ an          ┆            ┆            ┆            │\n",
      "└─────────────┴────────────┴────────────┴─────┴─────────────┴────────────┴────────────┴────────────┘\n"
     ]
    }
   ],
   "source": [
    "#pandasではto_feather\n",
    "#Write to Arrow IPC binary stream or Feather file.\n",
    "scientists.write_ipc(\"scientists.feather\")\n",
    "\n",
    "#pandasではread_feather\n",
    "#Read into a DataFrame from Arrow IPC (Feather v2) file.\n",
    "sci_feather = pl.read_ipc(\"scientists.feather\")\n",
    "print(sci_feather)"
   ]
  },
  {
   "cell_type": "markdown",
   "metadata": {},
   "source": [
    "### 2.5.6 辞書(dict)"
   ]
  },
  {
   "cell_type": "code",
   "execution_count": 91,
   "metadata": {},
   "outputs": [
    {
     "name": "stdout",
     "output_type": "stream",
     "text": [
      "{'Age': shape: (2,)\n",
      "Series: 'Age' [i64]\n",
      "[\n",
      "\t37\n",
      "\t61\n",
      "],\n",
      " 'Born': shape: (2,)\n",
      "Series: 'Born' [str]\n",
      "[\n",
      "\t\"1920-07-25\"\n",
      "\t\"1876-06-13\"\n",
      "],\n",
      " 'Died': shape: (2,)\n",
      "Series: 'Died' [str]\n",
      "[\n",
      "\t\"1958-04-16\"\n",
      "\t\"1937-10-16\"\n",
      "],\n",
      " 'Name': shape: (2,)\n",
      "Series: 'Name' [str]\n",
      "[\n",
      "\t\"Rosaline Frank…\n",
      "\t\"William Gosset…\n",
      "],\n",
      " 'Occupation': shape: (2,)\n",
      "Series: 'Occupation' [str]\n",
      "[\n",
      "\t\"Chemist\"\n",
      "\t\"Statistician\"\n",
      "],\n",
      " 'age_days': shape: (2,)\n",
      "Series: 'age_days' [duration[ms]]\n",
      "[\n",
      "\t13779d\n",
      "\t22404d\n",
      "],\n",
      " 'born_dt': shape: (2,)\n",
      "Series: 'born_dt' [date]\n",
      "[\n",
      "\t1920-07-25\n",
      "\t1876-06-13\n",
      "],\n",
      " 'died_dt': shape: (2,)\n",
      "Series: 'died_dt' [date]\n",
      "[\n",
      "\t1958-04-16\n",
      "\t1937-10-16\n",
      "]}\n"
     ]
    }
   ],
   "source": [
    "sci_sub_dict = scientists.head(2)\n",
    "\n",
    "sci_dict = sci_sub_dict.to_dict()\n",
    "\n",
    "import pprint\n",
    "pprint.pprint(sci_dict)"
   ]
  },
  {
   "cell_type": "code",
   "execution_count": 92,
   "metadata": {},
   "outputs": [
    {
     "name": "stdout",
     "output_type": "stream",
     "text": [
      "shape: (2, 8)\n",
      "┌─────────────┬────────────┬────────────┬─────┬─────────────┬────────────┬────────────┬────────────┐\n",
      "│ Name        ┆ Born       ┆ Died       ┆ Age ┆ Occupation  ┆ born_dt    ┆ died_dt    ┆ age_days   │\n",
      "│ ---         ┆ ---        ┆ ---        ┆ --- ┆ ---         ┆ ---        ┆ ---        ┆ ---        │\n",
      "│ str         ┆ str        ┆ str        ┆ i64 ┆ str         ┆ date       ┆ date       ┆ duration[m │\n",
      "│             ┆            ┆            ┆     ┆             ┆            ┆            ┆ s]         │\n",
      "╞═════════════╪════════════╪════════════╪═════╪═════════════╪════════════╪════════════╪════════════╡\n",
      "│ Rosaline    ┆ 1920-07-25 ┆ 1958-04-16 ┆ 37  ┆ Chemist     ┆ 1920-07-25 ┆ 1958-04-16 ┆ 13779d     │\n",
      "│ Franklin    ┆            ┆            ┆     ┆             ┆            ┆            ┆            │\n",
      "│ William     ┆ 1876-06-13 ┆ 1937-10-16 ┆ 61  ┆ Statisticia ┆ 1876-06-13 ┆ 1937-10-16 ┆ 22404d     │\n",
      "│ Gosset      ┆            ┆            ┆     ┆ n           ┆            ┆            ┆            │\n",
      "└─────────────┴────────────┴────────────┴─────┴─────────────┴────────────┴────────────┴────────────┘\n"
     ]
    }
   ],
   "source": [
    "sci_dict_df = pl.DataFrame(sci_dict)\n",
    "print(sci_dict_df)"
   ]
  },
  {
   "cell_type": "markdown",
   "metadata": {},
   "source": [
    "### 2.5.7 JSON(JavaScript Object Notation)\n",
    "JSONの書き込みと読み取りだけなので、割愛する"
   ]
  }
 ],
 "metadata": {
  "kernelspec": {
   "display_name": "Python 3",
   "language": "python",
   "name": "python3"
  },
  "language_info": {
   "codemirror_mode": {
    "name": "ipython",
    "version": 3
   },
   "file_extension": ".py",
   "mimetype": "text/x-python",
   "name": "python",
   "nbconvert_exporter": "python",
   "pygments_lexer": "ipython3",
   "version": "3.11.4"
  }
 },
 "nbformat": 4,
 "nbformat_minor": 2
}
