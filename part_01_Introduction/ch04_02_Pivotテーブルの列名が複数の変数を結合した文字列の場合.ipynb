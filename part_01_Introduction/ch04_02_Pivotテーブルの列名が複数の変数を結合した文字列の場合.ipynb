{
 "cells": [
  {
   "cell_type": "markdown",
   "metadata": {},
   "source": [
    "## 4.2 複数の変数を含む列があるとき\n",
    "Pivotテーブルの列名が複数の変数を結合した文字列の場合"
   ]
  },
  {
   "cell_type": "code",
   "execution_count": 12,
   "metadata": {},
   "outputs": [
    {
     "data": {
      "text/plain": [
       "polars.config.Config"
      ]
     },
     "execution_count": 12,
     "metadata": {},
     "output_type": "execute_result"
    }
   ],
   "source": [
    "import polars as pl\n",
    "pl.Config.set_tbl_cols(-1)# 列が省略されないようにする"
   ]
  },
  {
   "cell_type": "markdown",
   "metadata": {},
   "source": [
    "### データを読み込む"
   ]
  },
  {
   "cell_type": "code",
   "execution_count": 13,
   "metadata": {},
   "outputs": [
    {
     "data": {
      "text/html": [
       "<div><style>\n",
       ".dataframe > thead > tr,\n",
       ".dataframe > tbody > tr {\n",
       "  text-align: right;\n",
       "  white-space: pre-wrap;\n",
       "}\n",
       "</style>\n",
       "<small>shape: (5, 18)</small><table border=\"1\" class=\"dataframe\"><thead><tr><th>Date</th><th>Day</th><th>Cases_Guinea</th><th>Cases_Liberia</th><th>Cases_SierraLeone</th><th>Cases_Nigeria</th><th>Cases_Senegal</th><th>Cases_UnitedStates</th><th>Cases_Spain</th><th>Cases_Mali</th><th>Deaths_Guinea</th><th>Deaths_Liberia</th><th>Deaths_SierraLeone</th><th>Deaths_Nigeria</th><th>Deaths_Senegal</th><th>Deaths_UnitedStates</th><th>Deaths_Spain</th><th>Deaths_Mali</th></tr><tr><td>str</td><td>i64</td><td>i64</td><td>i64</td><td>i64</td><td>i64</td><td>i64</td><td>i64</td><td>i64</td><td>i64</td><td>i64</td><td>i64</td><td>i64</td><td>i64</td><td>i64</td><td>i64</td><td>i64</td><td>i64</td></tr></thead><tbody><tr><td>&quot;1/5/2015&quot;</td><td>289</td><td>2776</td><td>null</td><td>10030</td><td>null</td><td>null</td><td>null</td><td>null</td><td>null</td><td>1786</td><td>null</td><td>2977</td><td>null</td><td>null</td><td>null</td><td>null</td><td>null</td></tr><tr><td>&quot;1/4/2015&quot;</td><td>288</td><td>2775</td><td>null</td><td>9780</td><td>null</td><td>null</td><td>null</td><td>null</td><td>null</td><td>1781</td><td>null</td><td>2943</td><td>null</td><td>null</td><td>null</td><td>null</td><td>null</td></tr><tr><td>&quot;1/3/2015&quot;</td><td>287</td><td>2769</td><td>8166</td><td>9722</td><td>null</td><td>null</td><td>null</td><td>null</td><td>null</td><td>1767</td><td>3496</td><td>2915</td><td>null</td><td>null</td><td>null</td><td>null</td><td>null</td></tr><tr><td>&quot;1/2/2015&quot;</td><td>286</td><td>null</td><td>8157</td><td>null</td><td>null</td><td>null</td><td>null</td><td>null</td><td>null</td><td>null</td><td>3496</td><td>null</td><td>null</td><td>null</td><td>null</td><td>null</td><td>null</td></tr><tr><td>&quot;12/31/2014&quot;</td><td>284</td><td>2730</td><td>8115</td><td>9633</td><td>null</td><td>null</td><td>null</td><td>null</td><td>null</td><td>1739</td><td>3471</td><td>2827</td><td>null</td><td>null</td><td>null</td><td>null</td><td>null</td></tr></tbody></table></div>"
      ],
      "text/plain": [
       "shape: (5, 18)\n",
       "┌─────┬─────┬─────┬─────┬─────┬─────┬─────┬─────┬─────┬─────┬─────┬─────┬─────┬─────┬─────┬─────┬─────┬─────┐\n",
       "│ Dat ┆ Day ┆ Cas ┆ Cas ┆ Cas ┆ Cas ┆ Cas ┆ Cas ┆ Cas ┆ Cas ┆ Dea ┆ Dea ┆ Dea ┆ Dea ┆ Dea ┆ Dea ┆ Dea ┆ Dea │\n",
       "│ e   ┆ --- ┆ es_ ┆ es_ ┆ es_ ┆ es_ ┆ es_ ┆ es_ ┆ es_ ┆ es_ ┆ ths ┆ ths ┆ ths ┆ ths ┆ ths ┆ ths ┆ ths ┆ ths │\n",
       "│ --- ┆ i64 ┆ Gui ┆ Lib ┆ Sie ┆ Nig ┆ Sen ┆ Uni ┆ Spa ┆ Mal ┆ _Gu ┆ _Li ┆ _Si ┆ _Ni ┆ _Se ┆ _Un ┆ _Sp ┆ _Ma │\n",
       "│ str ┆     ┆ nea ┆ eri ┆ rra ┆ eri ┆ ega ┆ ted ┆ in  ┆ i   ┆ ine ┆ ber ┆ err ┆ ger ┆ neg ┆ ite ┆ ain ┆ li  │\n",
       "│     ┆     ┆ --- ┆ a   ┆ Leo ┆ a   ┆ l   ┆ Sta ┆ --- ┆ --- ┆ a   ┆ ia  ┆ aLe ┆ ia  ┆ al  ┆ dSt ┆ --- ┆ --- │\n",
       "│     ┆     ┆ i64 ┆ --- ┆ ne  ┆ --- ┆ --- ┆ tes ┆ i64 ┆ i64 ┆ --- ┆ --- ┆ one ┆ --- ┆ --- ┆ ate ┆ i64 ┆ i64 │\n",
       "│     ┆     ┆     ┆ i64 ┆ --- ┆ i64 ┆ i64 ┆ --- ┆     ┆     ┆ i64 ┆ i64 ┆ --- ┆ i64 ┆ i64 ┆ s   ┆     ┆     │\n",
       "│     ┆     ┆     ┆     ┆ i64 ┆     ┆     ┆ i64 ┆     ┆     ┆     ┆     ┆ i64 ┆     ┆     ┆ --- ┆     ┆     │\n",
       "│     ┆     ┆     ┆     ┆     ┆     ┆     ┆     ┆     ┆     ┆     ┆     ┆     ┆     ┆     ┆ i64 ┆     ┆     │\n",
       "╞═════╪═════╪═════╪═════╪═════╪═════╪═════╪═════╪═════╪═════╪═════╪═════╪═════╪═════╪═════╪═════╪═════╪═════╡\n",
       "│ 1/5 ┆ 289 ┆ 277 ┆ nul ┆ 100 ┆ nul ┆ nul ┆ nul ┆ nul ┆ nul ┆ 178 ┆ nul ┆ 297 ┆ nul ┆ nul ┆ nul ┆ nul ┆ nul │\n",
       "│ /20 ┆     ┆ 6   ┆ l   ┆ 30  ┆ l   ┆ l   ┆ l   ┆ l   ┆ l   ┆ 6   ┆ l   ┆ 7   ┆ l   ┆ l   ┆ l   ┆ l   ┆ l   │\n",
       "│ 15  ┆     ┆     ┆     ┆     ┆     ┆     ┆     ┆     ┆     ┆     ┆     ┆     ┆     ┆     ┆     ┆     ┆     │\n",
       "│ 1/4 ┆ 288 ┆ 277 ┆ nul ┆ 978 ┆ nul ┆ nul ┆ nul ┆ nul ┆ nul ┆ 178 ┆ nul ┆ 294 ┆ nul ┆ nul ┆ nul ┆ nul ┆ nul │\n",
       "│ /20 ┆     ┆ 5   ┆ l   ┆ 0   ┆ l   ┆ l   ┆ l   ┆ l   ┆ l   ┆ 1   ┆ l   ┆ 3   ┆ l   ┆ l   ┆ l   ┆ l   ┆ l   │\n",
       "│ 15  ┆     ┆     ┆     ┆     ┆     ┆     ┆     ┆     ┆     ┆     ┆     ┆     ┆     ┆     ┆     ┆     ┆     │\n",
       "│ 1/3 ┆ 287 ┆ 276 ┆ 816 ┆ 972 ┆ nul ┆ nul ┆ nul ┆ nul ┆ nul ┆ 176 ┆ 349 ┆ 291 ┆ nul ┆ nul ┆ nul ┆ nul ┆ nul │\n",
       "│ /20 ┆     ┆ 9   ┆ 6   ┆ 2   ┆ l   ┆ l   ┆ l   ┆ l   ┆ l   ┆ 7   ┆ 6   ┆ 5   ┆ l   ┆ l   ┆ l   ┆ l   ┆ l   │\n",
       "│ 15  ┆     ┆     ┆     ┆     ┆     ┆     ┆     ┆     ┆     ┆     ┆     ┆     ┆     ┆     ┆     ┆     ┆     │\n",
       "│ 1/2 ┆ 286 ┆ nul ┆ 815 ┆ nul ┆ nul ┆ nul ┆ nul ┆ nul ┆ nul ┆ nul ┆ 349 ┆ nul ┆ nul ┆ nul ┆ nul ┆ nul ┆ nul │\n",
       "│ /20 ┆     ┆ l   ┆ 7   ┆ l   ┆ l   ┆ l   ┆ l   ┆ l   ┆ l   ┆ l   ┆ 6   ┆ l   ┆ l   ┆ l   ┆ l   ┆ l   ┆ l   │\n",
       "│ 15  ┆     ┆     ┆     ┆     ┆     ┆     ┆     ┆     ┆     ┆     ┆     ┆     ┆     ┆     ┆     ┆     ┆     │\n",
       "│ 12/ ┆ 284 ┆ 273 ┆ 811 ┆ 963 ┆ nul ┆ nul ┆ nul ┆ nul ┆ nul ┆ 173 ┆ 347 ┆ 282 ┆ nul ┆ nul ┆ nul ┆ nul ┆ nul │\n",
       "│ 31/ ┆     ┆ 0   ┆ 5   ┆ 3   ┆ l   ┆ l   ┆ l   ┆ l   ┆ l   ┆ 9   ┆ 1   ┆ 7   ┆ l   ┆ l   ┆ l   ┆ l   ┆ l   │\n",
       "│ 201 ┆     ┆     ┆     ┆     ┆     ┆     ┆     ┆     ┆     ┆     ┆     ┆     ┆     ┆     ┆     ┆     ┆     │\n",
       "│ 4   ┆     ┆     ┆     ┆     ┆     ┆     ┆     ┆     ┆     ┆     ┆     ┆     ┆     ┆     ┆     ┆     ┆     │\n",
       "└─────┴─────┴─────┴─────┴─────┴─────┴─────┴─────┴─────┴─────┴─────┴─────┴─────┴─────┴─────┴─────┴─────┴─────┘"
      ]
     },
     "execution_count": 13,
     "metadata": {},
     "output_type": "execute_result"
    }
   ],
   "source": [
    "# 列名が 状態_国 で書かれている\n",
    "# e.g\n",
    "# Cases_Guinea: ギアナの患者数\n",
    "# Deaths_Guinea: ギアナの死者数\n",
    "ebola = pl.read_csv(\"../data/country_timeseries.csv\")\n",
    "ebola.head()"
   ]
  },
  {
   "cell_type": "markdown",
   "metadata": {},
   "source": [
    "### データを変換する"
   ]
  },
  {
   "cell_type": "markdown",
   "metadata": {},
   "source": [
    "#### 縦持ちに変換する"
   ]
  },
  {
   "cell_type": "code",
   "execution_count": 14,
   "metadata": {},
   "outputs": [
    {
     "data": {
      "text/html": [
       "<div><style>\n",
       ".dataframe > thead > tr,\n",
       ".dataframe > tbody > tr {\n",
       "  text-align: right;\n",
       "  white-space: pre-wrap;\n",
       "}\n",
       "</style>\n",
       "<small>shape: (5, 4)</small><table border=\"1\" class=\"dataframe\"><thead><tr><th>Date</th><th>Day</th><th>variable</th><th>value</th></tr><tr><td>str</td><td>i64</td><td>str</td><td>i64</td></tr></thead><tbody><tr><td>&quot;1/5/2015&quot;</td><td>289</td><td>&quot;Cases_Guinea&quot;</td><td>2776</td></tr><tr><td>&quot;1/4/2015&quot;</td><td>288</td><td>&quot;Cases_Guinea&quot;</td><td>2775</td></tr><tr><td>&quot;1/3/2015&quot;</td><td>287</td><td>&quot;Cases_Guinea&quot;</td><td>2769</td></tr><tr><td>&quot;1/2/2015&quot;</td><td>286</td><td>&quot;Cases_Guinea&quot;</td><td>null</td></tr><tr><td>&quot;12/31/2014&quot;</td><td>284</td><td>&quot;Cases_Guinea&quot;</td><td>2730</td></tr></tbody></table></div>"
      ],
      "text/plain": [
       "shape: (5, 4)\n",
       "┌────────────┬─────┬──────────────┬───────┐\n",
       "│ Date       ┆ Day ┆ variable     ┆ value │\n",
       "│ ---        ┆ --- ┆ ---          ┆ ---   │\n",
       "│ str        ┆ i64 ┆ str          ┆ i64   │\n",
       "╞════════════╪═════╪══════════════╪═══════╡\n",
       "│ 1/5/2015   ┆ 289 ┆ Cases_Guinea ┆ 2776  │\n",
       "│ 1/4/2015   ┆ 288 ┆ Cases_Guinea ┆ 2775  │\n",
       "│ 1/3/2015   ┆ 287 ┆ Cases_Guinea ┆ 2769  │\n",
       "│ 1/2/2015   ┆ 286 ┆ Cases_Guinea ┆ null  │\n",
       "│ 12/31/2014 ┆ 284 ┆ Cases_Guinea ┆ 2730  │\n",
       "└────────────┴─────┴──────────────┴───────┘"
      ]
     },
     "execution_count": 14,
     "metadata": {},
     "output_type": "execute_result"
    }
   ],
   "source": [
    "ebola_long = ebola.melt(id_vars = [\"Date\", \"Day\"])\n",
    "ebola_long.head()"
   ]
  },
  {
   "cell_type": "markdown",
   "metadata": {},
   "source": [
    "#### 結合された列を分割する"
   ]
  },
  {
   "cell_type": "code",
   "execution_count": 15,
   "metadata": {},
   "outputs": [
    {
     "data": {
      "text/html": [
       "<div><style>\n",
       ".dataframe > thead > tr,\n",
       ".dataframe > tbody > tr {\n",
       "  text-align: right;\n",
       "  white-space: pre-wrap;\n",
       "}\n",
       "</style>\n",
       "<small>shape: (5, 6)</small><table border=\"1\" class=\"dataframe\"><thead><tr><th>Date</th><th>Day</th><th>variable</th><th>value</th><th>status</th><th>country</th></tr><tr><td>str</td><td>i64</td><td>str</td><td>i64</td><td>str</td><td>str</td></tr></thead><tbody><tr><td>&quot;1/5/2015&quot;</td><td>289</td><td>&quot;Cases_Guinea&quot;</td><td>2776</td><td>&quot;Cases&quot;</td><td>&quot;Guinea&quot;</td></tr><tr><td>&quot;1/4/2015&quot;</td><td>288</td><td>&quot;Cases_Guinea&quot;</td><td>2775</td><td>&quot;Cases&quot;</td><td>&quot;Guinea&quot;</td></tr><tr><td>&quot;1/3/2015&quot;</td><td>287</td><td>&quot;Cases_Guinea&quot;</td><td>2769</td><td>&quot;Cases&quot;</td><td>&quot;Guinea&quot;</td></tr><tr><td>&quot;1/2/2015&quot;</td><td>286</td><td>&quot;Cases_Guinea&quot;</td><td>null</td><td>&quot;Cases&quot;</td><td>&quot;Guinea&quot;</td></tr><tr><td>&quot;12/31/2014&quot;</td><td>284</td><td>&quot;Cases_Guinea&quot;</td><td>2730</td><td>&quot;Cases&quot;</td><td>&quot;Guinea&quot;</td></tr></tbody></table></div>"
      ],
      "text/plain": [
       "shape: (5, 6)\n",
       "┌────────────┬─────┬──────────────┬───────┬────────┬─────────┐\n",
       "│ Date       ┆ Day ┆ variable     ┆ value ┆ status ┆ country │\n",
       "│ ---        ┆ --- ┆ ---          ┆ ---   ┆ ---    ┆ ---     │\n",
       "│ str        ┆ i64 ┆ str          ┆ i64   ┆ str    ┆ str     │\n",
       "╞════════════╪═════╪══════════════╪═══════╪════════╪═════════╡\n",
       "│ 1/5/2015   ┆ 289 ┆ Cases_Guinea ┆ 2776  ┆ Cases  ┆ Guinea  │\n",
       "│ 1/4/2015   ┆ 288 ┆ Cases_Guinea ┆ 2775  ┆ Cases  ┆ Guinea  │\n",
       "│ 1/3/2015   ┆ 287 ┆ Cases_Guinea ┆ 2769  ┆ Cases  ┆ Guinea  │\n",
       "│ 1/2/2015   ┆ 286 ┆ Cases_Guinea ┆ null  ┆ Cases  ┆ Guinea  │\n",
       "│ 12/31/2014 ┆ 284 ┆ Cases_Guinea ┆ 2730  ┆ Cases  ┆ Guinea  │\n",
       "└────────────┴─────┴──────────────┴───────┴────────┴─────────┘"
      ]
     },
     "execution_count": 15,
     "metadata": {},
     "output_type": "execute_result"
    }
   ],
   "source": [
    "# 結合された列を分割する\n",
    "df_variable_split = (\n",
    "    ebola_long[\"variable\"]\n",
    "    .str.split_exact(\"_\", 1)# 文字列を分割して、複数列のDataFrameに変換する\n",
    "    .struct.rename_fields([\"status\", \"country\"])# 分割DataFrameの列名を変換する\n",
    "    .alias(\"fields\")# 列名を仮置きする\n",
    "    .to_frame().unnest(\"fields\")# 分割DataFrameを普通のDataFRameに変換する\n",
    ")\n",
    "\n",
    "# 分割した列を追加する\n",
    "ebola_long = pl.concat(items = [ebola_long, df_variable_split], how = \"horizontal\")\n",
    "\n",
    "ebola_long.head()"
   ]
  },
  {
   "cell_type": "markdown",
   "metadata": {},
   "source": [
    "### パイプラインを作成する\n",
    "上記の内容を1セルにまとめる"
   ]
  },
  {
   "cell_type": "code",
   "execution_count": 16,
   "metadata": {},
   "outputs": [
    {
     "data": {
      "text/html": [
       "<div><style>\n",
       ".dataframe > thead > tr,\n",
       ".dataframe > tbody > tr {\n",
       "  text-align: right;\n",
       "  white-space: pre-wrap;\n",
       "}\n",
       "</style>\n",
       "<small>shape: (5, 6)</small><table border=\"1\" class=\"dataframe\"><thead><tr><th>Date</th><th>Day</th><th>variable</th><th>value</th><th>status</th><th>country</th></tr><tr><td>str</td><td>i64</td><td>str</td><td>i64</td><td>str</td><td>str</td></tr></thead><tbody><tr><td>&quot;1/5/2015&quot;</td><td>289</td><td>&quot;Cases_Guinea&quot;</td><td>2776</td><td>&quot;Cases&quot;</td><td>&quot;Guinea&quot;</td></tr><tr><td>&quot;1/4/2015&quot;</td><td>288</td><td>&quot;Cases_Guinea&quot;</td><td>2775</td><td>&quot;Cases&quot;</td><td>&quot;Guinea&quot;</td></tr><tr><td>&quot;1/3/2015&quot;</td><td>287</td><td>&quot;Cases_Guinea&quot;</td><td>2769</td><td>&quot;Cases&quot;</td><td>&quot;Guinea&quot;</td></tr><tr><td>&quot;1/2/2015&quot;</td><td>286</td><td>&quot;Cases_Guinea&quot;</td><td>null</td><td>&quot;Cases&quot;</td><td>&quot;Guinea&quot;</td></tr><tr><td>&quot;12/31/2014&quot;</td><td>284</td><td>&quot;Cases_Guinea&quot;</td><td>2730</td><td>&quot;Cases&quot;</td><td>&quot;Guinea&quot;</td></tr></tbody></table></div>"
      ],
      "text/plain": [
       "shape: (5, 6)\n",
       "┌────────────┬─────┬──────────────┬───────┬────────┬─────────┐\n",
       "│ Date       ┆ Day ┆ variable     ┆ value ┆ status ┆ country │\n",
       "│ ---        ┆ --- ┆ ---          ┆ ---   ┆ ---    ┆ ---     │\n",
       "│ str        ┆ i64 ┆ str          ┆ i64   ┆ str    ┆ str     │\n",
       "╞════════════╪═════╪══════════════╪═══════╪════════╪═════════╡\n",
       "│ 1/5/2015   ┆ 289 ┆ Cases_Guinea ┆ 2776  ┆ Cases  ┆ Guinea  │\n",
       "│ 1/4/2015   ┆ 288 ┆ Cases_Guinea ┆ 2775  ┆ Cases  ┆ Guinea  │\n",
       "│ 1/3/2015   ┆ 287 ┆ Cases_Guinea ┆ 2769  ┆ Cases  ┆ Guinea  │\n",
       "│ 1/2/2015   ┆ 286 ┆ Cases_Guinea ┆ null  ┆ Cases  ┆ Guinea  │\n",
       "│ 12/31/2014 ┆ 284 ┆ Cases_Guinea ┆ 2730  ┆ Cases  ┆ Guinea  │\n",
       "└────────────┴─────┴──────────────┴───────┴────────┴─────────┘"
      ]
     },
     "execution_count": 16,
     "metadata": {},
     "output_type": "execute_result"
    }
   ],
   "source": [
    "import polars as pl\n",
    "pl.Config.set_tbl_cols(-1)\n",
    "\n",
    "# データを読み込む\n",
    "ebola = pl.read_csv(\"../data/country_timeseries.csv\")\n",
    "\n",
    "\n",
    "ebola_long = (\n",
    "    ebola\n",
    "    # 縦持ちに変換する\n",
    "    .melt(id_vars = [\"Date\", \"Day\"])\n",
    "    # 状態_国 の列を2つの列に分割して、DataFrameに追加する\n",
    "    .with_columns(\n",
    "        pl.col(\"variable\")\n",
    "        .str.split_exact(\"_\", 1)\n",
    "        .struct.rename_fields([\"status\", \"country\"])\n",
    "        .alias(\"fields\")\n",
    "    ).unnest(\"fields\")# pl.col()を用いる場合、unnestを最後につける\n",
    ")\n",
    "\n",
    "ebola_long.head()"
   ]
  },
  {
   "cell_type": "markdown",
   "metadata": {},
   "source": [
    "### "
   ]
  }
 ],
 "metadata": {
  "kernelspec": {
   "display_name": "Python 3",
   "language": "python",
   "name": "python3"
  },
  "language_info": {
   "codemirror_mode": {
    "name": "ipython",
    "version": 3
   },
   "file_extension": ".py",
   "mimetype": "text/x-python",
   "name": "python",
   "nbconvert_exporter": "python",
   "pygments_lexer": "ipython3",
   "version": "3.11.4"
  }
 },
 "nbformat": 4,
 "nbformat_minor": 2
}
