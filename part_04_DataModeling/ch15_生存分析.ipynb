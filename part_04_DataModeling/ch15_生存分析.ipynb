{
 "cells": [
  {
   "cell_type": "markdown",
   "metadata": {},
   "source": [
    "# 第15章 生存分析\n"
   ]
  },
  {
   "cell_type": "markdown",
   "metadata": {},
   "source": [
    "## 15.1 生存データ"
   ]
  },
  {
   "cell_type": "markdown",
   "metadata": {},
   "source": [
    "### データの読み込み"
   ]
  },
  {
   "cell_type": "code",
   "execution_count": null,
   "metadata": {},
   "outputs": [],
   "source": [
    "import polars as pl\n",
    "\n",
    "# id: id\n",
    "# rx: 治療(1 = プラシーボ, 2 = チオテパ)\n",
    "# number: 最初の腫瘍の数(8は8以上)\n",
    "# size: 最初の腫瘍の最大サイズ[cm]\n",
    "# stop: 再発または打ち切りが、いつ発生したか\n",
    "# event: 膀胱癌の再発(0: No, 1: Yes)\n",
    "# enum: 再発が何回目か(4まで)\n",
    "bladder = pl.read_csv(\"../data/bladder.csv\")\n",
    "display(bladder.head())\n",
    "\n",
    "display(bladder[\"rx\"].value_counts())"
   ]
  },
  {
   "cell_type": "markdown",
   "metadata": {},
   "source": [
    "## 15.2 カプランマイヤー曲線"
   ]
  },
  {
   "cell_type": "code",
   "execution_count": null,
   "metadata": {},
   "outputs": [],
   "source": [
    "from lifelines import KaplanMeierFitter\n",
    "\n",
    "# 学習\n",
    "kmf = KaplanMeierFitter()\n",
    "kmf.fit(bladder[\"stop\"], event_observed = bladder[\"event\"])\n",
    "\n",
    "# 生存曲線を描画する\n",
    "import matplotlib.pyplot as plt\n",
    "\n",
    "fig, ax = plt.subplots()\n",
    "kmf.plot(ax = ax)\n",
    "ax.set_title(\"Survival with confidence intervals\")\n",
    "plt.show()"
   ]
  },
  {
   "cell_type": "markdown",
   "metadata": {},
   "source": [
    "## 15.3 Coxの比例ハザードモデル"
   ]
  },
  {
   "cell_type": "code",
   "execution_count": null,
   "metadata": {},
   "outputs": [],
   "source": [
    "from lifelines import CoxPHFitter\n",
    "\n",
    "# 学習に使用する列を抽出する\n",
    "df_study = bladder[[\"rx\", \"number\", \"size\", \"enum\", \"stop\", \"event\"]]\n",
    "\n",
    "# 学習する\n",
    "cph = CoxPHFitter()\n",
    "cph.fit(df_study.to_pandas(), duration_col = \"stop\", event_col = \"event\")\n",
    "\n",
    "# 学習結果を表示する\n",
    "cph.print_summary()\n"
   ]
  },
  {
   "cell_type": "markdown",
   "metadata": {},
   "source": [
    "## 15.3 Coxの比例ハザードモデル"
   ]
  },
  {
   "cell_type": "code",
   "execution_count": null,
   "metadata": {},
   "outputs": [],
   "source": [
    "# 1 = プラシーボ\n",
    "# 2 = チオテパ\n",
    "rx1 = bladder.filter( pl.col(\"rx\") == 1 )\n",
    "rx2 = bladder.filter( pl.col(\"rx\") == 2 )\n",
    "\n",
    "# 層別に生存曲線を学習する\n",
    "kmf1 = KaplanMeierFitter()\n",
    "kmf1.fit(rx1[\"stop\"], event_observed = rx1[\"event\"])\n",
    "\n",
    "kmf2 = KaplanMeierFitter()\n",
    "kmf2.fit(rx2[\"stop\"], event_observed = rx2[\"event\"])\n",
    "\n",
    "# 生存曲線を描画する\n",
    "fig, axes = plt.subplots()\n",
    "\n",
    "kmf1.plot_loglogs(ax = axes)\n",
    "kmf2.plot_loglogs(ax = axes)\n",
    "\n",
    "axes.legend([\"rx1\", \"rx2\"])\n",
    "\n",
    "plt.show()"
   ]
  },
  {
   "cell_type": "code",
   "execution_count": null,
   "metadata": {},
   "outputs": [],
   "source": [
    "cph_strat = CoxPHFitter()\n",
    "cph_strat.fit(\n",
    "    df_study.to_pandas(),\n",
    "    duration_col = \"stop\",\n",
    "    event_col = \"event\",\n",
    "    strata = [\"rx\"]\n",
    ")\n",
    "cph_strat.print_summary()"
   ]
  }
 ],
 "metadata": {
  "kernelspec": {
   "display_name": "Python 3",
   "language": "python",
   "name": "python3"
  },
  "language_info": {
   "codemirror_mode": {
    "name": "ipython",
    "version": 3
   },
   "file_extension": ".py",
   "mimetype": "text/x-python",
   "name": "python",
   "nbconvert_exporter": "python",
   "pygments_lexer": "ipython3",
   "version": "3.11.4"
  }
 },
 "nbformat": 4,
 "nbformat_minor": 2
}
