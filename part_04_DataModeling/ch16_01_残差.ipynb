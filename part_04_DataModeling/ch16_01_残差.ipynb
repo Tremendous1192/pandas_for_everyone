{
 "cells": [
  {
   "cell_type": "markdown",
   "metadata": {},
   "source": [
    "# 第16章 モデルを評価する\n",
    "## 16.1 残差"
   ]
  },
  {
   "cell_type": "markdown",
   "metadata": {},
   "source": [
    "### データを読み込む"
   ]
  },
  {
   "cell_type": "code",
   "execution_count": null,
   "metadata": {},
   "outputs": [],
   "source": [
    "import polars as pl\n",
    "\n",
    "housing = pl.read_csv(\"../data/housing_renamed.csv\")\n",
    "housing.head()"
   ]
  },
  {
   "cell_type": "markdown",
   "metadata": {},
   "source": [
    "### データを学習する"
   ]
  },
  {
   "cell_type": "code",
   "execution_count": null,
   "metadata": {},
   "outputs": [],
   "source": [
    "import statsmodels\n",
    "import statsmodels.api as sm\n",
    "import statsmodels.formula.api as smf\n",
    "\n",
    "# 学習\n",
    "house1 = (\n",
    "    smf.glm(\n",
    "        \"value_per_sq_ft ~ units + sq_ft + boro\",\n",
    "        data = housing\n",
    "    )\n",
    "    .fit()\n",
    ")\n",
    "\n",
    "# 学習結果\n",
    "house1.summary()"
   ]
  },
  {
   "cell_type": "markdown",
   "metadata": {},
   "source": [
    "### 残差曲線を表示する"
   ]
  },
  {
   "cell_type": "code",
   "execution_count": null,
   "metadata": {},
   "outputs": [],
   "source": [
    "import seaborn as sns\n",
    "import matplotlib.pyplot as plt\n",
    "\n",
    "fig, ax = plt.subplots()\n",
    "sns.scatterplot(\n",
    "    x = house1.fittedvalues,\n",
    "    y = house1.resid_deviance,\n",
    "    ax = ax\n",
    ")\n",
    "\n",
    "plt.show()"
   ]
  },
  {
   "cell_type": "markdown",
   "metadata": {},
   "source": [
    "### 層別した残差曲線を描画する"
   ]
  },
  {
   "cell_type": "code",
   "execution_count": null,
   "metadata": {},
   "outputs": [],
   "source": [
    "# 層毎の色分け\n",
    "color_dict = dict(\n",
    "    {\n",
    "        \"Manhattan\": \"#d7191c\",\n",
    "        \"Brooklyn\": \"#fdae61\",\n",
    "        \"Queens\": \"#ffffbf\",\n",
    "        \"Bronx\": \"#abdda4\",\n",
    "        \"Staten Island\": \"#2b83ba\",\n",
    "    }\n",
    ")\n",
    "\n",
    "fig, ax = plt.subplots()\n",
    "sns.scatterplot(\n",
    "    x = house1.fittedvalues,\n",
    "    y = house1.resid_deviance,\n",
    "    hue = housing[\"boro\"],\n",
    "    ax = ax,\n",
    "    palette = color_dict,\n",
    "    edgecolor = \"black\",\n",
    ")\n",
    "\n",
    "plt.show()"
   ]
  },
  {
   "cell_type": "markdown",
   "metadata": {},
   "source": [
    "### Q-Qプロット"
   ]
  },
  {
   "cell_type": "code",
   "execution_count": null,
   "metadata": {},
   "outputs": [],
   "source": [
    "from scipy import stats\n",
    "\n",
    "resid = house1.resid_deviance.copy()\n",
    "\n",
    "fig = statsmodels.graphics.gofplots.qqplot(resid, line = \"r\")\n",
    "plt.show()\n"
   ]
  },
  {
   "cell_type": "markdown",
   "metadata": {},
   "source": [
    "### 残差のヒストグラム"
   ]
  },
  {
   "cell_type": "code",
   "execution_count": null,
   "metadata": {},
   "outputs": [],
   "source": [
    "resid_std = stats.zscore(resid)\n",
    "\n",
    "fig, ax = plt.subplots()\n",
    "sns.histplot(resid_std, ax = ax)\n",
    "plt.show()"
   ]
  }
 ],
 "metadata": {
  "kernelspec": {
   "display_name": "Python 3",
   "language": "python",
   "name": "python3"
  },
  "language_info": {
   "codemirror_mode": {
    "name": "ipython",
    "version": 3
   },
   "file_extension": ".py",
   "mimetype": "text/x-python",
   "name": "python",
   "nbconvert_exporter": "python",
   "pygments_lexer": "ipython3",
   "version": "3.11.4"
  }
 },
 "nbformat": 4,
 "nbformat_minor": 2
}
