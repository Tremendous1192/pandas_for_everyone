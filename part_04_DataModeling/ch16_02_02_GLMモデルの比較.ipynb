{
 "cells": [
  {
   "cell_type": "markdown",
   "metadata": {},
   "source": [
    "### 16.2.2 GLMモデルの比較"
   ]
  },
  {
   "cell_type": "markdown",
   "metadata": {},
   "source": [
    "### データを読み込む"
   ]
  },
  {
   "cell_type": "code",
   "execution_count": null,
   "metadata": {},
   "outputs": [],
   "source": [
    "import polars as pl\n",
    "\n",
    "housing = pl.read_csv(\"../data/housing_renamed.csv\")\n",
    "housing.head()"
   ]
  },
  {
   "cell_type": "markdown",
   "metadata": {},
   "source": [
    "### 各モデルの学習"
   ]
  },
  {
   "cell_type": "code",
   "execution_count": null,
   "metadata": {},
   "outputs": [],
   "source": [
    "import statsmodels\n",
    "import statsmodels.api as sm\n",
    "import statsmodels.formula.api as smf"
   ]
  },
  {
   "cell_type": "code",
   "execution_count": null,
   "metadata": {},
   "outputs": [],
   "source": [
    "def deviance_table(*models):\n",
    "    return pl.DataFrame({\n",
    "        \"df_residuals\": [mod.df_resid for mod in models],\n",
    "        \"resid_stddev\": [mod.deviance for mod in models],\n",
    "        \"df\": [mod.df_model for mod in models],\n",
    "        \"deviance\": [mod.deviance for mod in models]\n",
    "    })\n",
    "\n",
    "\n",
    "f1 = \"value_per_sq_ft ~ units + sq_ft + boro\"\n",
    "f2 = \"value_per_sq_ft ~ units * sq_ft + boro\"\n",
    "f3 = \"value_per_sq_ft ~ units + sq_ft * boro + type\"\n",
    "f4 = \"value_per_sq_ft ~ units + sq_ft * boro + sq_ft * type\"\n",
    "f5 = \"value_per_sq_ft ~ boro + type\"\n",
    "\n",
    "glm1 = smf.glm(f1, data = housing).fit()\n",
    "glm2 = smf.glm(f2, data = housing).fit()\n",
    "glm3 = smf.glm(f3, data = housing).fit()\n",
    "glm4 = smf.glm(f4, data = housing).fit()\n",
    "glm5 = smf.glm(f5, data = housing).fit()\n",
    "\n",
    "glm_anova = deviance_table(glm1, glm2, glm3, glm4, glm5)\n",
    "glm_anova"
   ]
  },
  {
   "cell_type": "markdown",
   "metadata": {},
   "source": [
    "### ロジスティック回帰におけるモデル比較"
   ]
  },
  {
   "cell_type": "code",
   "execution_count": null,
   "metadata": {},
   "outputs": [],
   "source": [
    "# 二値化\n",
    "housing = (\n",
    "    housing.with_columns([\n",
    "        housing[\"value_per_sq_ft\"].map_elements(lambda x: 1 if x >= 150 else 0).alias(\"high\")\n",
    "    ])\n",
    ")\n",
    "display(housing[\"high\"].value_counts())\n",
    "\n",
    "f1 = \"high ~ units + sq_ft + boro\"\n",
    "f2 = \"high ~ units * sq_ft + boro\"\n",
    "f3 = \"high ~ units + sq_ft * boro + type\"\n",
    "f4 = \"high ~ units + sq_ft * boro + sq_ft * type\"\n",
    "f5 = \"high ~ boro + type\"\n",
    "\n",
    "logistic = statsmodels.genmod.families.family.Binomial(\n",
    "    link = statsmodels.genmod.families.links.Logit()\n",
    ")\n",
    "\n",
    "glm1 = smf.glm(f1, data = housing, family = logistic).fit()\n",
    "glm2 = smf.glm(f2, data = housing, family = logistic).fit()\n",
    "glm3 = smf.glm(f3, data = housing, family = logistic).fit()\n",
    "glm4 = smf.glm(f4, data = housing, family = logistic).fit()\n",
    "glm5 = smf.glm(f5, data = housing, family = logistic).fit()\n",
    "\n",
    "display(deviance_table(glm1, glm2, glm3, glm4, glm5))"
   ]
  },
  {
   "cell_type": "code",
   "execution_count": null,
   "metadata": {},
   "outputs": [],
   "source": [
    "model_names = [\"house1\", \"house2\", \"house3\", \"house4\", \"house5\"]\n",
    "mods = [glm1, glm2, glm3, glm4, glm5]\n",
    "\n",
    "abic_glm = pl.DataFrame({\n",
    "    \"model\": model_names,\n",
    "    \"aic\": [mod.aic for mod in mods],\n",
    "    \"bic\": [mod.bic for mod in mods]\n",
    "})\n",
    "\n",
    "abic_glm.sort(by = [\"aic\", \"bic\"])"
   ]
  }
 ],
 "metadata": {
  "kernelspec": {
   "display_name": "Python 3",
   "language": "python",
   "name": "python3"
  },
  "language_info": {
   "codemirror_mode": {
    "name": "ipython",
    "version": 3
   },
   "file_extension": ".py",
   "mimetype": "text/x-python",
   "name": "python",
   "nbconvert_exporter": "python",
   "pygments_lexer": "ipython3",
   "version": "3.11.4"
  }
 },
 "nbformat": 4,
 "nbformat_minor": 2
}
