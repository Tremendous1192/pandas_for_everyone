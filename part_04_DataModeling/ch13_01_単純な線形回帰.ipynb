{
 "cells": [
  {
   "cell_type": "markdown",
   "metadata": {},
   "source": [
    "## 13.1 単純な線形回帰\n",
    "```statsmodels```と```sklearn```を用いた単回帰分析のスニペット。"
   ]
  },
  {
   "cell_type": "markdown",
   "metadata": {},
   "source": [
    "### (共通)データの読み込み\n",
    "```seaborn```の```tips```データセットを用いる。"
   ]
  },
  {
   "cell_type": "code",
   "execution_count": null,
   "metadata": {},
   "outputs": [],
   "source": [
    "import polars as pl\n",
    "import seaborn as sns\n",
    "\n",
    "# データの読み込み\n",
    "tips = pl.DataFrame(sns.load_dataset(\"tips\"))\n",
    "display(tips.head())\n",
    "\n",
    "# データの可視化\n",
    "# 支払いとtipの額には相関がありそうだ\n",
    "sns.scatterplot(data = tips, x = tips[\"total_bill\"], y = tips[\"tip\"])"
   ]
  },
  {
   "cell_type": "markdown",
   "metadata": {},
   "source": [
    "### 13.1.1 statsmodels"
   ]
  },
  {
   "cell_type": "code",
   "execution_count": null,
   "metadata": {},
   "outputs": [],
   "source": [
    "import statsmodels.formula.api as smf\n",
    "\n",
    "# モデルを学習する\n",
    "model = smf.ols(formula = \"tip ~ total_bill\", data = tips).fit()\n",
    "\n",
    "# 学習結果を表示する\n",
    "display(model.summary())\n",
    "\n",
    "# 係数を表示する\n",
    "display(model.params)\n",
    "\n",
    "# 信頼区間を表示する\n",
    "display(model.conf_int())"
   ]
  },
  {
   "cell_type": "markdown",
   "metadata": {},
   "source": [
    "### 13.1.2 sklearn"
   ]
  },
  {
   "cell_type": "code",
   "execution_count": null,
   "metadata": {},
   "outputs": [],
   "source": [
    "from sklearn import linear_model\n",
    "\n",
    "# モデルを学習する\n",
    "lr = linear_model.LinearRegression()\n",
    "model = lr.fit(X = tips[[\"total_bill\"]], y = tips[\"tip\"])\n",
    "\n",
    "# 係数と切片を表示する\n",
    "display(model.coef_)\n",
    "display(model.intercept_)"
   ]
  }
 ],
 "metadata": {
  "kernelspec": {
   "display_name": "Python 3",
   "language": "python",
   "name": "python3"
  },
  "language_info": {
   "codemirror_mode": {
    "name": "ipython",
    "version": 3
   },
   "file_extension": ".py",
   "mimetype": "text/x-python",
   "name": "python",
   "nbconvert_exporter": "python",
   "pygments_lexer": "ipython3",
   "version": "3.11.4"
  }
 },
 "nbformat": 4,
 "nbformat_minor": 2
}
