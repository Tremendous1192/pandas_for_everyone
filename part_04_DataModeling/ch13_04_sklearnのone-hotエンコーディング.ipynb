{
 "cells": [
  {
   "cell_type": "markdown",
   "metadata": {},
   "source": [
    "## 13.4 sklearnのone-hotエンコーディングとトランスフォーマーのパイプライン\n",
    "```sklearn```のパイプラインを用いた重回帰分析のスニペット。\n",
    "\n",
    "```pandas.loc[]```を前提にしているため、pandasへの変換が必要。"
   ]
  },
  {
   "cell_type": "markdown",
   "metadata": {},
   "source": [
    "### (共通)データの読み込み\n",
    "```seaborn```の```tips```データセットを用いる。"
   ]
  },
  {
   "cell_type": "code",
   "execution_count": null,
   "metadata": {},
   "outputs": [],
   "source": [
    "import polars as pl\n",
    "import seaborn as sns\n",
    "\n",
    "# データの読み込み\n",
    "tips = pl.DataFrame(sns.load_dataset(\"tips\"))\n",
    "display(tips.head())"
   ]
  },
  {
   "cell_type": "code",
   "execution_count": null,
   "metadata": {},
   "outputs": [],
   "source": [
    "from sklearn import linear_model\n",
    "\n",
    "# 前処理関係のライブラリをインポートする\n",
    "from sklearn.compose import ColumnTransformer\n",
    "from sklearn.preprocessing import OneHotEncoder\n",
    "from sklearn.pipeline import Pipeline\n",
    "import numpy as np\n",
    "\n",
    "# ダミー変数化したい変数を指定する\n",
    "categorical_features = [\"sex\", \"smoker\", \"day\", \"time\"]\n",
    "categorical_transformer = OneHotEncoder(drop = \"first\")\n",
    "\n",
    "# 前処理器の初期化\n",
    "preprocessor = ColumnTransformer(\n",
    "    transformers = [\n",
    "        (\"cat\", categorical_transformer, categorical_features),\n",
    "    ],\n",
    "    remainder = \"passthrough\"# 処理しない変数はそのまま通す\n",
    ")\n",
    "\n",
    "# パイプラインの初期化\n",
    "pipe = Pipeline(\n",
    "    steps = [\n",
    "        (\"preprocessor\", preprocessor),\n",
    "        (\"lr\", linear_model.LinearRegression())\n",
    "    ]\n",
    ")\n",
    "\n",
    "# 学習\n",
    "pipe.fit(\n",
    "    X = tips[[\"total_bill\", \"size\", \"sex\", \"smoker\", \"day\", \"time\"]].to_pandas(),\n",
    "    y = tips[\"tip\"].to_pandas(),\n",
    ")\n",
    "\n",
    "# 係数と切片を表示する\n",
    "coefficients = np.append(\n",
    "    pipe.named_steps[\"lr\"].intercept_, pipe.named_steps[\"lr\"].coef_\n",
    ")\n",
    "labels = np.append(\n",
    "    [\"intercept\"], pipe[:-1].get_feature_names_out()\n",
    ")\n",
    "coefs = pl.DataFrame({\"variables\": labels, \"coef\": coefficients})\n",
    "display(coefs)"
   ]
  }
 ],
 "metadata": {
  "kernelspec": {
   "display_name": "Python 3",
   "language": "python",
   "name": "python3"
  },
  "language_info": {
   "codemirror_mode": {
    "name": "ipython",
    "version": 3
   },
   "file_extension": ".py",
   "mimetype": "text/x-python",
   "name": "python",
   "nbconvert_exporter": "python",
   "pygments_lexer": "ipython3",
   "version": "3.11.4"
  }
 },
 "nbformat": 4,
 "nbformat_minor": 2
}
