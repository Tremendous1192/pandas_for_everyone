{
 "cells": [
  {
   "cell_type": "markdown",
   "metadata": {},
   "source": [
    "## 14.1 ロジスティック回帰\n",
    "```statsmodels```と```sklearn```を用いたロジスティック回帰のスニペット。\n"
   ]
  },
  {
   "cell_type": "markdown",
   "metadata": {},
   "source": [
    "### (共通)データの読み込み\n",
    "```seaborn```の```tips```データセットを用いる。"
   ]
  },
  {
   "cell_type": "code",
   "execution_count": null,
   "metadata": {},
   "outputs": [],
   "source": [
    "import polars as pl\n",
    "import seaborn as sns\n",
    "\n",
    "# データの読み込み\n",
    "titanic = pl.DataFrame(sns.load_dataset(\"titanic\"))\n",
    "\n",
    "# 解析に使用するデータを抽出する\n",
    "titanic_sub = (\n",
    "    titanic[[\"survived\", \"sex\", \"age\", \"embarked\"]].drop_nulls()\n",
    ")\n",
    "# ダミー変数作成時にpandasでは自動的にsortが行われるがpolarsでは行われないので、順番を入れかえておく。\n",
    "titanic_sub = titanic_sub.sort(by = [\"sex\", \"age\", \"embarked\"])\n",
    "display(titanic_sub.head())\n",
    "\n",
    "# 生存者数\n",
    "display(titanic_sub[\"survived\"].value_counts())\n",
    "# 乗船場所\n",
    "display(titanic_sub[\"embarked\"].value_counts())"
   ]
  },
  {
   "cell_type": "markdown",
   "metadata": {},
   "source": [
    "### 14.1.1 statsmodels"
   ]
  },
  {
   "cell_type": "code",
   "execution_count": null,
   "metadata": {},
   "outputs": [],
   "source": [
    "import statsmodels.formula.api as smf\n",
    "\n",
    "# モデルを学習する\n",
    "form = \"survived ~ sex + age + embarked\"\n",
    "model = smf.logit(formula = form, data = titanic_sub).fit()\n",
    "\n",
    "# 学習結果を表示する\n",
    "display(model.summary())\n",
    "\n",
    "import pandas as pd\n",
    "import numpy as np\n",
    "res_sm = pd.DataFrame(model.params, columns = [\"coefs_sm\"])\n",
    "res_sm[\"odds_sm\"] = np.exp(res_sm[\"coefs_sm\"])\n",
    "display(res_sm.round(3))"
   ]
  },
  {
   "cell_type": "markdown",
   "metadata": {},
   "source": [
    "### 14.1.2 sklearn"
   ]
  },
  {
   "cell_type": "code",
   "execution_count": null,
   "metadata": {},
   "outputs": [],
   "source": [
    "from sklearn import linear_model\n",
    "\n",
    "# ダミー変数を作成する\n",
    "import polars.selectors as cs\n",
    "# 数値型は外しておく\n",
    "df_numeric = titanic_sub.select(cs.numeric()).drop(\"survived\")\n",
    "# カテゴリ変数のみダミー変数を作成する\n",
    "df_categorical = titanic_sub.select(cs.string())\n",
    "df_dummy = df_categorical.to_dummies(drop_first = True)\n",
    "# 学習用のDataFrameを作成する\n",
    "df_study = pl.concat(items = [df_numeric, df_dummy], how = \"horizontal\")\n",
    "\n",
    "\n",
    "# モデルを学習する\n",
    "lr = linear_model.LogisticRegression(penalty = None)\n",
    "model = lr.fit(X = df_study, y = titanic_sub[\"survived\"])\n",
    "\n",
    "\n",
    "# 学習結果を表示する\n",
    "import numpy as np\n",
    "# 係数の名称\n",
    "labels = [\"Intercept\"]\n",
    "for col in df_study.columns:\n",
    "    labels.append(col)\n",
    "# 係数\n",
    "coefficients = np.append(\n",
    "    model.intercept_, model.coef_\n",
    ")\n",
    "# 学習結果\n",
    "result = pl.DataFrame({\n",
    "    \"Label\": labels,\n",
    "    \"Coefficient\": coefficients\n",
    "})\n",
    "# オッズ\n",
    "result = result.with_columns(\n",
    "    result[\"Coefficient\"].exp().round(decimals = 3).alias(\"Odds\")\n",
    ")\n",
    "display(result)"
   ]
  }
 ],
 "metadata": {
  "kernelspec": {
   "display_name": "Python 3",
   "language": "python",
   "name": "python3"
  },
  "language_info": {
   "codemirror_mode": {
    "name": "ipython",
    "version": 3
   },
   "file_extension": ".py",
   "mimetype": "text/x-python",
   "name": "python",
   "nbconvert_exporter": "python",
   "pygments_lexer": "ipython3",
   "version": "3.11.4"
  }
 },
 "nbformat": 4,
 "nbformat_minor": 2
}
